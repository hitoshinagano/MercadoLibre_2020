{
 "cells": [
  {
   "cell_type": "markdown",
   "metadata": {},
   "source": [
    "# Initial Setups"
   ]
  },
  {
   "cell_type": "markdown",
   "metadata": {},
   "source": [
    "Thank you for registering!\n",
    "Hi hnmusac, \n",
    "\n",
    "Below you can find your personal token:\n",
    "\n",
    "Oa2107-0d9411hH05-11084f20\n",
    "\n",
    "This token will be required to submit your predictions.\n",
    "Please remember, this code is personal, so do not share it with anyone.\n",
    "Good luck!"
   ]
  },
  {
   "cell_type": "markdown",
   "metadata": {},
   "source": [
    "## autoreload"
   ]
  },
  {
   "cell_type": "code",
   "execution_count": 1,
   "metadata": {},
   "outputs": [],
   "source": [
    "# %load_ext autoreload\n",
    "# %autoreload 2"
   ]
  },
  {
   "cell_type": "markdown",
   "metadata": {},
   "source": [
    "## dir setup"
   ]
  },
  {
   "cell_type": "code",
   "execution_count": 2,
   "metadata": {},
   "outputs": [
    {
     "data": {
      "text/plain": [
       "True"
      ]
     },
     "execution_count": 2,
     "metadata": {},
     "output_type": "execute_result"
    }
   ],
   "source": [
    "from dotenv import load_dotenv, find_dotenv\n",
    "import os\n",
    "\n",
    "this_file_path = os.path.dirname(os.path.abspath(\"__file__\"))\n",
    "# if script (not notebook)...\n",
    "# project_dir = os.path.join(os.path.dirname(__file__), os.pardir)\n",
    "\n",
    "# project directory\n",
    "project_dir = os.path.join(this_file_path, os.pardir)\n",
    "\n",
    "# find .env automagically by walking up directories until it's found\n",
    "dotenv_path = find_dotenv()\n",
    "\n",
    "# load up the entries as environment variables\n",
    "load_dotenv(dotenv_path)"
   ]
  },
  {
   "cell_type": "code",
   "execution_count": 3,
   "metadata": {},
   "outputs": [],
   "source": [
    "raw_data_dir = os.path.join(project_dir, os.environ.get(\"RAW_DATA_DIR\"))\n",
    "processed_data_dir = os.path.join(project_dir, os.environ.get(\"PROCESSED_DATA_DIR\"))\n",
    "figures_data_dir = os.path.join(project_dir, os.environ.get(\"FIGURES_DATA_DIR\"))\n",
    "reports_data_dir = os.path.join(project_dir, os.environ.get(\"REPORTS_DATA_DIR\"))"
   ]
  },
  {
   "cell_type": "markdown",
   "metadata": {},
   "source": [
    "## imports"
   ]
  },
  {
   "cell_type": "code",
   "execution_count": 4,
   "metadata": {},
   "outputs": [],
   "source": [
    "import pandas as pd\n",
    "import numpy as np\n",
    "import seaborn as sns\n",
    "from datetime import datetime\n",
    "import matplotlib.pyplot as plt\n",
    "import sweetviz as sv\n",
    "# import utils"
   ]
  },
  {
   "cell_type": "code",
   "execution_count": 5,
   "metadata": {},
   "outputs": [],
   "source": [
    "# pd.set_option('max_rows', None)"
   ]
  },
  {
   "cell_type": "code",
   "execution_count": 127,
   "metadata": {},
   "outputs": [],
   "source": [
    "# from tqdm import tqdm"
   ]
  },
  {
   "cell_type": "markdown",
   "metadata": {},
   "source": [
    "### item_data.jl.gz"
   ]
  },
  {
   "cell_type": "code",
   "execution_count": 7,
   "metadata": {},
   "outputs": [],
   "source": [
    "item_data_fn = 'item_data.jl.gz'\n",
    "item_data = pd.read_json(os.path.join(raw_data_dir, item_data_fn), lines=True)"
   ]
  },
  {
   "cell_type": "markdown",
   "metadata": {},
   "source": [
    "### train_dataset.jl.gz"
   ]
  },
  {
   "cell_type": "code",
   "execution_count": 8,
   "metadata": {},
   "outputs": [
    {
     "name": "stdout",
     "output_type": "stream",
     "text": [
      "CPU times: user 4.26 s, sys: 784 ms, total: 5.04 s\n",
      "Wall time: 5.13 s\n"
     ]
    }
   ],
   "source": [
    "%%time\n",
    "train_fn = 'train_dataset.pkl'\n",
    "train_fp = os.path.join(processed_data_dir, train_fn)\n",
    "train = pd.read_pickle(train_fp)\n",
    "    \n",
    "train.item_bought = train.item_bought.fillna(method = 'backfill').astype(int)\n",
    "train['in_nav'] = train.item_bought == train.event_info"
   ]
  },
  {
   "cell_type": "markdown",
   "metadata": {},
   "source": [
    "### test_dataset.jl.gz"
   ]
  },
  {
   "cell_type": "code",
   "execution_count": 7,
   "metadata": {},
   "outputs": [
    {
     "name": "stdout",
     "output_type": "stream",
     "text": [
      "CPU times: user 1.28 s, sys: 422 ms, total: 1.71 s\n",
      "Wall time: 1.74 s\n"
     ]
    }
   ],
   "source": [
    "%%time\n",
    "test_fn = 'test_dataset.pkl'\n",
    "test_fp = os.path.join(processed_data_dir, test_fn)\n",
    "test = pd.read_pickle(test_fp)"
   ]
  },
  {
   "cell_type": "markdown",
   "metadata": {},
   "source": [
    "* baseline prediction 1"
   ]
  },
  {
   "cell_type": "code",
   "execution_count": 103,
   "metadata": {},
   "outputs": [],
   "source": [
    "pred_1_fn = 'pred_1.csv'"
   ]
  },
  {
   "cell_type": "code",
   "execution_count": 100,
   "metadata": {},
   "outputs": [],
   "source": [
    "pred = test[test.event_type == 'view']\n",
    "pred = pred.groupby('seq').event_info.value_counts()\n",
    "pred.name = 'counts'\n",
    "pred = pred.reset_index()\n",
    "pred['rank'] = pred.groupby('seq')['counts'].transform(lambda x: range(len(x)))\n",
    "pred = pred[pred['rank'] < 10]\n",
    "pred = pred.pivot(index = 'seq', columns = 'rank', values = 'event_info')"
   ]
  },
  {
   "cell_type": "code",
   "execution_count": 100,
   "metadata": {},
   "outputs": [],
   "source": [
    "pred = pred.fillna(axis = 1, method = 'ffill').astype(int)\n",
    "pred = pred.reindex(index = range(177070))\n",
    "most_frequent = pred.stack().value_counts().index[0]\n",
    "pred.fillna(most_frequent, inplace = True)\n",
    "pred = pred.astype(int)"
   ]
  },
  {
   "cell_type": "code",
   "execution_count": 103,
   "metadata": {},
   "outputs": [],
   "source": [
    "pred_1_fp = os.path.join(reports_data_dir, pred_1_fn)\n",
    "pred.to_csv(pred_1_fp, header = None, index = None)"
   ]
  },
  {
   "cell_type": "code",
   "execution_count": null,
   "metadata": {},
   "outputs": [],
   "source": []
  },
  {
   "cell_type": "markdown",
   "metadata": {},
   "source": [
    "* baseline prediction 2"
   ]
  },
  {
   "cell_type": "code",
   "execution_count": 149,
   "metadata": {},
   "outputs": [],
   "source": [
    "pred_2 = test[test.event_type == 'view']\n",
    "pred_2 = pred_2.groupby('seq').event_info.value_counts()\n",
    "pred_2.name = 'counts'"
   ]
  },
  {
   "cell_type": "code",
   "execution_count": 151,
   "metadata": {},
   "outputs": [],
   "source": [
    "pred_2 = pred_2.reset_index()\n",
    "pred_2['rank'] = pred_2.groupby('seq')['counts'].transform(lambda x: range(len(x)))\n",
    "pred_2 = pred_2[pred_2['rank'] < 10]\n",
    "pred_2 = pred_2.pivot(index = 'seq', columns = 'rank', values = 'event_info')\n",
    "pred_2 = pred_2.reindex(index = range(177070))"
   ]
  },
  {
   "cell_type": "code",
   "execution_count": 152,
   "metadata": {},
   "outputs": [
    {
     "data": {
      "image/png": "[encoded data removed]",
      "text/plain": [
       "<Figure size 432x288 with 1 Axes>"
      ]
     },
     "metadata": {
      "needs_background": "light"
     },
     "output_type": "display_data"
    }
   ],
   "source": [
    "pred_2.isnull().mean().plot(kind = \"bar\");"
   ]
  },
  {
   "cell_type": "code",
   "execution_count": 153,
   "metadata": {},
   "outputs": [
    {
     "data": {
      "text/plain": [
       "False    0.513686\n",
       "True     0.486314\n",
       "dtype: float64"
      ]
     },
     "execution_count": 153,
     "metadata": {},
     "output_type": "execute_result"
    }
   ],
   "source": [
    "pred_2.isnull().stack().value_counts(normalize = True)"
   ]
  },
  {
   "cell_type": "code",
   "execution_count": 154,
   "metadata": {},
   "outputs": [
    {
     "data": {
      "text/plain": [
       "0.06421189360140057"
      ]
     },
     "execution_count": 154,
     "metadata": {},
     "output_type": "execute_result"
    }
   ],
   "source": [
    "pred_2.isnull().all(axis = 1).mean()"
   ]
  },
  {
   "cell_type": "code",
   "execution_count": 155,
   "metadata": {},
   "outputs": [],
   "source": [
    "pred_2[10] = pred_2[0]\n",
    "pred_2 = pred_2.fillna(axis = 1, method = 'bfill')\n",
    "pred_2.drop(10, axis = 1, inplace = True)"
   ]
  },
  {
   "cell_type": "code",
   "execution_count": 157,
   "metadata": {},
   "outputs": [],
   "source": [
    "most_frequent = pred_2.stack().value_counts().index[0]\n",
    "pred_2.fillna(most_frequent, inplace = True)\n",
    "pred_2 = pred_2.astype(int)"
   ]
  },
  {
   "cell_type": "code",
   "execution_count": 158,
   "metadata": {},
   "outputs": [],
   "source": [
    "pred_2_fn = 'pred_2.csv'\n",
    "pred_2_fp = os.path.join(reports_data_dir, pred_2_fn)\n",
    "pred_2.to_csv(pred_2_fp, header = None, index = None)"
   ]
  },
  {
   "cell_type": "code",
   "execution_count": null,
   "metadata": {},
   "outputs": [],
   "source": []
  },
  {
   "cell_type": "markdown",
   "metadata": {},
   "source": [
    "* baseline prediction 3"
   ]
  },
  {
   "cell_type": "code",
   "execution_count": 160,
   "metadata": {},
   "outputs": [],
   "source": [
    "pred_3_fn = 'pred_3.csv'"
   ]
  },
  {
   "cell_type": "code",
   "execution_count": 100,
   "metadata": {},
   "outputs": [],
   "source": [
    "pred = test[test.event_type == 'view']\n",
    "pred = pred.groupby('seq').event_info.value_counts()\n",
    "pred.name = 'counts'\n",
    "pred = pred.reset_index()\n",
    "pred['rank'] = pred.groupby('seq')['counts'].transform(lambda x: range(len(x)))\n",
    "pred = pred[pred['rank'] < 10]\n",
    "pred = pred.pivot(index = 'seq', columns = 'rank', values = 'event_info')"
   ]
  },
  {
   "cell_type": "code",
   "execution_count": 100,
   "metadata": {},
   "outputs": [],
   "source": [
    "pred = pred.fillna(axis = 1, method = 'ffill').astype(int)\n",
    "pred = pred.reindex(index = range(177070))\n",
    "most_frequent = pred.stack().value_counts().index[0]\n",
    "pred.fillna(most_frequent, inplace = True)\n",
    "pred = pred.astype(int)"
   ]
  },
  {
   "cell_type": "code",
   "execution_count": 103,
   "metadata": {},
   "outputs": [],
   "source": [
    "pred_3_fp = os.path.join(reports_data_dir, pred_3_fn)\n",
    "pred.to_csv(pred_3_fp, header = None, index = None)"
   ]
  },
  {
   "cell_type": "code",
   "execution_count": null,
   "metadata": {},
   "outputs": [],
   "source": []
  },
  {
   "cell_type": "code",
   "execution_count": null,
   "metadata": {},
   "outputs": [],
   "source": []
  },
  {
   "cell_type": "code",
   "execution_count": null,
   "metadata": {},
   "outputs": [],
   "source": []
  },
  {
   "cell_type": "markdown",
   "metadata": {},
   "source": [
    "### sample_submission.csv"
   ]
  },
  {
   "cell_type": "code",
   "execution_count": 25,
   "metadata": {},
   "outputs": [],
   "source": [
    "sample_fn = 'sample_submission.csv'\n",
    "sample_fp = os.path.join(reports_data_dir, sample_fn)\n",
    "sample = pd.read_csv(sample_fp, header = None)"
   ]
  },
  {
   "cell_type": "code",
   "execution_count": 26,
   "metadata": {},
   "outputs": [
    {
     "data": {
      "text/html": [
       "<div>\n",
       "<style scoped>\n",
       "    .dataframe tbody tr th:only-of-type {\n",
       "        vertical-align: middle;\n",
       "    }\n",
       "\n",
       "    .dataframe tbody tr th {\n",
       "        vertical-align: top;\n",
       "    }\n",
       "\n",
       "    .dataframe thead th {\n",
       "        text-align: right;\n",
       "    }\n",
       "</style>\n",
       "<table border=\"1\" class=\"dataframe\">\n",
       "  <thead>\n",
       "    <tr style=\"text-align: right;\">\n",
       "      <th></th>\n",
       "      <th>0</th>\n",
       "      <th>1</th>\n",
       "      <th>2</th>\n",
       "      <th>3</th>\n",
       "      <th>4</th>\n",
       "      <th>5</th>\n",
       "      <th>6</th>\n",
       "      <th>7</th>\n",
       "      <th>8</th>\n",
       "      <th>9</th>\n",
       "    </tr>\n",
       "  </thead>\n",
       "  <tbody>\n",
       "    <tr>\n",
       "      <th>0</th>\n",
       "      <td>654238</td>\n",
       "      <td>781750</td>\n",
       "      <td>558980</td>\n",
       "      <td>663439</td>\n",
       "      <td>1397720</td>\n",
       "      <td>1095079</td>\n",
       "      <td>798751</td>\n",
       "      <td>1141944</td>\n",
       "      <td>411021</td>\n",
       "      <td>138117</td>\n",
       "    </tr>\n",
       "    <tr>\n",
       "      <th>1</th>\n",
       "      <td>462167</td>\n",
       "      <td>1511283</td>\n",
       "      <td>928291</td>\n",
       "      <td>1907892</td>\n",
       "      <td>66135</td>\n",
       "      <td>54134</td>\n",
       "      <td>1090655</td>\n",
       "      <td>700291</td>\n",
       "      <td>63494</td>\n",
       "      <td>613724</td>\n",
       "    </tr>\n",
       "    <tr>\n",
       "      <th>2</th>\n",
       "      <td>2092880</td>\n",
       "      <td>1974491</td>\n",
       "      <td>1687910</td>\n",
       "      <td>371918</td>\n",
       "      <td>1659351</td>\n",
       "      <td>156119</td>\n",
       "      <td>578171</td>\n",
       "      <td>1407298</td>\n",
       "      <td>1378300</td>\n",
       "      <td>500637</td>\n",
       "    </tr>\n",
       "    <tr>\n",
       "      <th>3</th>\n",
       "      <td>614011</td>\n",
       "      <td>509284</td>\n",
       "      <td>181629</td>\n",
       "      <td>1544217</td>\n",
       "      <td>267392</td>\n",
       "      <td>409673</td>\n",
       "      <td>755307</td>\n",
       "      <td>1621679</td>\n",
       "      <td>767644</td>\n",
       "      <td>617841</td>\n",
       "    </tr>\n",
       "    <tr>\n",
       "      <th>4</th>\n",
       "      <td>2056298</td>\n",
       "      <td>1707393</td>\n",
       "      <td>449955</td>\n",
       "      <td>192999</td>\n",
       "      <td>1424465</td>\n",
       "      <td>1220223</td>\n",
       "      <td>101358</td>\n",
       "      <td>1281863</td>\n",
       "      <td>1222898</td>\n",
       "      <td>1871900</td>\n",
       "    </tr>\n",
       "    <tr>\n",
       "      <th>...</th>\n",
       "      <td>...</td>\n",
       "      <td>...</td>\n",
       "      <td>...</td>\n",
       "      <td>...</td>\n",
       "      <td>...</td>\n",
       "      <td>...</td>\n",
       "      <td>...</td>\n",
       "      <td>...</td>\n",
       "      <td>...</td>\n",
       "      <td>...</td>\n",
       "    </tr>\n",
       "    <tr>\n",
       "      <th>177065</th>\n",
       "      <td>281333</td>\n",
       "      <td>1771249</td>\n",
       "      <td>755106</td>\n",
       "      <td>1897538</td>\n",
       "      <td>149734</td>\n",
       "      <td>712824</td>\n",
       "      <td>1498148</td>\n",
       "      <td>2044243</td>\n",
       "      <td>1900076</td>\n",
       "      <td>1419004</td>\n",
       "    </tr>\n",
       "    <tr>\n",
       "      <th>177066</th>\n",
       "      <td>151705</td>\n",
       "      <td>351222</td>\n",
       "      <td>511891</td>\n",
       "      <td>1496225</td>\n",
       "      <td>927190</td>\n",
       "      <td>1389743</td>\n",
       "      <td>91996</td>\n",
       "      <td>1314267</td>\n",
       "      <td>2012574</td>\n",
       "      <td>600</td>\n",
       "    </tr>\n",
       "    <tr>\n",
       "      <th>177067</th>\n",
       "      <td>800371</td>\n",
       "      <td>1355631</td>\n",
       "      <td>1591544</td>\n",
       "      <td>446190</td>\n",
       "      <td>465623</td>\n",
       "      <td>2050277</td>\n",
       "      <td>631944</td>\n",
       "      <td>350084</td>\n",
       "      <td>446335</td>\n",
       "      <td>1698822</td>\n",
       "    </tr>\n",
       "    <tr>\n",
       "      <th>177068</th>\n",
       "      <td>1083498</td>\n",
       "      <td>449422</td>\n",
       "      <td>1967277</td>\n",
       "      <td>788924</td>\n",
       "      <td>611734</td>\n",
       "      <td>984771</td>\n",
       "      <td>1323664</td>\n",
       "      <td>911307</td>\n",
       "      <td>1879004</td>\n",
       "      <td>304561</td>\n",
       "    </tr>\n",
       "    <tr>\n",
       "      <th>177069</th>\n",
       "      <td>1018473</td>\n",
       "      <td>414953</td>\n",
       "      <td>1212546</td>\n",
       "      <td>381960</td>\n",
       "      <td>410903</td>\n",
       "      <td>1438432</td>\n",
       "      <td>334784</td>\n",
       "      <td>695926</td>\n",
       "      <td>541222</td>\n",
       "      <td>1164361</td>\n",
       "    </tr>\n",
       "  </tbody>\n",
       "</table>\n",
       "<p>177070 rows × 10 columns</p>\n",
       "</div>"
      ],
      "text/plain": [
       "              0        1        2        3        4        5        6  \\\n",
       "0        654238   781750   558980   663439  1397720  1095079   798751   \n",
       "1        462167  1511283   928291  1907892    66135    54134  1090655   \n",
       "2       2092880  1974491  1687910   371918  1659351   156119   578171   \n",
       "3        614011   509284   181629  1544217   267392   409673   755307   \n",
       "4       2056298  1707393   449955   192999  1424465  1220223   101358   \n",
       "...         ...      ...      ...      ...      ...      ...      ...   \n",
       "177065   281333  1771249   755106  1897538   149734   712824  1498148   \n",
       "177066   151705   351222   511891  1496225   927190  1389743    91996   \n",
       "177067   800371  1355631  1591544   446190   465623  2050277   631944   \n",
       "177068  1083498   449422  1967277   788924   611734   984771  1323664   \n",
       "177069  1018473   414953  1212546   381960   410903  1438432   334784   \n",
       "\n",
       "              7        8        9  \n",
       "0       1141944   411021   138117  \n",
       "1        700291    63494   613724  \n",
       "2       1407298  1378300   500637  \n",
       "3       1621679   767644   617841  \n",
       "4       1281863  1222898  1871900  \n",
       "...         ...      ...      ...  \n",
       "177065  2044243  1900076  1419004  \n",
       "177066  1314267  2012574      600  \n",
       "177067   350084   446335  1698822  \n",
       "177068   911307  1879004   304561  \n",
       "177069   695926   541222  1164361  \n",
       "\n",
       "[177070 rows x 10 columns]"
      ]
     },
     "execution_count": 26,
     "metadata": {},
     "output_type": "execute_result"
    }
   ],
   "source": [
    "sample"
   ]
  },
  {
   "cell_type": "code",
   "execution_count": null,
   "metadata": {},
   "outputs": [],
   "source": []
  },
  {
   "cell_type": "markdown",
   "metadata": {},
   "source": [
    "_____"
   ]
  },
  {
   "cell_type": "markdown",
   "metadata": {},
   "source": [
    "* test_dataset.jl.gz"
   ]
  },
  {
   "cell_type": "code",
   "execution_count": null,
   "metadata": {},
   "outputs": [],
   "source": []
  }
 ],
 "metadata": {
  "kernelspec": {
   "display_name": "Python 3",
   "language": "python",
   "name": "python3"
  },
  "language_info": {
   "codemirror_mode": {
    "name": "ipython",
    "version": 3
   },
   "file_extension": ".py",
   "mimetype": "text/x-python",
   "name": "python",
   "nbconvert_exporter": "python",
   "pygments_lexer": "ipython3",
   "version": "3.7.6"
  }
 },
 "nbformat": 4,
 "nbformat_minor": 4
}
