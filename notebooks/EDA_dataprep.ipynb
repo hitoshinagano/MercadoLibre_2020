{
 "cells": [
  {
   "cell_type": "markdown",
   "metadata": {},
   "source": [
    "# Initial Setups"
   ]
  },
  {
   "cell_type": "markdown",
   "metadata": {},
   "source": [
    "## autoreload"
   ]
  },
  {
   "cell_type": "code",
   "execution_count": 1,
   "metadata": {},
   "outputs": [],
   "source": [
    "%load_ext autoreload\n",
    "%autoreload 2"
   ]
  },
  {
   "cell_type": "markdown",
   "metadata": {},
   "source": [
    "## dir setup"
   ]
  },
  {
   "cell_type": "code",
   "execution_count": 2,
   "metadata": {},
   "outputs": [
    {
     "data": {
      "text/plain": [
       "True"
      ]
     },
     "execution_count": 2,
     "metadata": {},
     "output_type": "execute_result"
    }
   ],
   "source": [
    "from dotenv import load_dotenv, find_dotenv\n",
    "import os\n",
    "\n",
    "this_file_path = os.path.dirname(os.path.abspath(\"__file__\"))\n",
    "# if script (not notebook)...\n",
    "# project_dir = os.path.join(os.path.dirname(__file__), os.pardir)\n",
    "\n",
    "# project directory\n",
    "project_dir = os.path.join(this_file_path, os.pardir)\n",
    "\n",
    "# find .env automagically by walking up directories until it's found\n",
    "dotenv_path = find_dotenv()\n",
    "\n",
    "# load up the entries as environment variables\n",
    "load_dotenv(dotenv_path)"
   ]
  },
  {
   "cell_type": "code",
   "execution_count": 3,
   "metadata": {},
   "outputs": [],
   "source": [
    "raw_data_dir = os.path.join(project_dir, os.environ.get(\"RAW_DATA_DIR\"))\n",
    "processed_data_dir = os.path.join(project_dir, os.environ.get(\"PROCESSED_DATA_DIR\"))\n",
    "interim_data_dir = os.path.join(project_dir, os.environ.get(\"INTERIM_DATA_DIR\"))\n",
    "wordvecs_data_dir = os.path.join(project_dir, os.environ.get(\"WORDVECS_DATA_DIR\"))\n",
    "figures_dir = os.path.join(project_dir, os.environ.get(\"FIGURES_DIR\"))\n",
    "reports_dir = os.path.join(project_dir, os.environ.get(\"REPORTS_DIR\"))\n",
    "cv_dir = os.path.join(project_dir, os.environ.get(\"CV_DIR\"))\n",
    "models_dir = os.path.join(project_dir, os.environ.get(\"MODELS_DIR\"))"
   ]
  },
  {
   "cell_type": "markdown",
   "metadata": {},
   "source": [
    "## imports"
   ]
  },
  {
   "cell_type": "code",
   "execution_count": 4,
   "metadata": {},
   "outputs": [],
   "source": [
    "import pandas as pd\n",
    "import numpy as np\n",
    "import seaborn as sns\n",
    "from datetime import datetime\n",
    "import matplotlib.pyplot as plt\n",
    "# import sweetviz as sv\n",
    "# import utils"
   ]
  },
  {
   "cell_type": "code",
   "execution_count": 5,
   "metadata": {},
   "outputs": [],
   "source": [
    "pd.set_option('max_rows', 100)"
   ]
  },
  {
   "cell_type": "code",
   "execution_count": 6,
   "metadata": {},
   "outputs": [
    {
     "name": "stderr",
     "output_type": "stream",
     "text": [
      "/Users/hitoshinagano/.virtualenvs/tensorflow2/lib/python3.7/site-packages/tqdm/std.py:668: FutureWarning: The Panel class is removed from pandas. Accessing it from the top-level namespace will also be removed in the next version\n",
      "  from pandas import Panel\n"
     ]
    }
   ],
   "source": [
    "from tqdm import tqdm\n",
    "tqdm.pandas()"
   ]
  },
  {
   "cell_type": "markdown",
   "metadata": {},
   "source": [
    "## project imports"
   ]
  },
  {
   "cell_type": "code",
   "execution_count": 7,
   "metadata": {},
   "outputs": [],
   "source": [
    "import sys\n",
    "sys.path.insert(0, '..')\n",
    "\n",
    "from src.features import *\n",
    "from src.models import *"
   ]
  },
  {
   "cell_type": "markdown",
   "metadata": {},
   "source": [
    "## spaCy imports"
   ]
  },
  {
   "cell_type": "code",
   "execution_count": 9,
   "metadata": {},
   "outputs": [],
   "source": [
    "import spacy\n",
    "\n",
    "port_nlp_fn = 'nilc50skip'\n",
    "port_nlp_fp = os.path.join(wordvecs_data_dir, port_nlp_fn) \n",
    "port_nlp = spacy.load(port_nlp_fp)\n",
    "\n",
    "espa_nlp_fn = 'suc30fast'\n",
    "espa_nlp_fp = os.path.join(wordvecs_data_dir, espa_nlp_fn) \n",
    "espa_nlp = spacy.load(espa_nlp_fp)"
   ]
  },
  {
   "cell_type": "markdown",
   "metadata": {},
   "source": [
    "### item_data.jl.gz\n",
    "Note there are titles with the same texts, but with different item_id's.<br>\n",
    "check with `item_data[item_data.duplicated(subset = ['title'], keep = False)].sort_values('title')`\n",
    "\n",
    "Run this to reprocess a new `item_data.pkl` in `processed_data_dir`, for example with new embeddings (more dimensions on pre-trained, or custom embeddings)"
   ]
  },
  {
   "cell_type": "code",
   "execution_count": 10,
   "metadata": {},
   "outputs": [],
   "source": [
    "item_data_fn = 'item_data.jl.gz'\n",
    "item_data = pd.read_json(os.path.join(raw_data_dir, item_data_fn), lines=True)"
   ]
  },
  {
   "cell_type": "markdown",
   "metadata": {},
   "source": [
    "#### item_domain used in the scoring"
   ]
  },
  {
   "cell_type": "code",
   "execution_count": null,
   "metadata": {},
   "outputs": [],
   "source": [
    "item_domain = item_domain[['item_id', 'domain_id']]\n",
    "item_domain_fn = 'item_domain.pkl'\n",
    "item_domain_fp = os.path.join(processed_data_dir, item_domain_fn)\n",
    "item_domain.to_pickle(item_domain_fp)"
   ]
  },
  {
   "cell_type": "markdown",
   "metadata": {},
   "source": [
    "* MLB: Brasil\n",
    "* MLM: Other countries"
   ]
  },
  {
   "cell_type": "code",
   "execution_count": 30,
   "metadata": {},
   "outputs": [
    {
     "data": {
      "text/plain": [
       "MLB    1723216\n",
       "MLM     378210\n",
       "Name: domain_id, dtype: int64"
      ]
     },
     "execution_count": 30,
     "metadata": {},
     "output_type": "execute_result"
    }
   ],
   "source": [
    "item_data.domain_id.str[:3].value_counts()"
   ]
  },
  {
   "cell_type": "code",
   "execution_count": 40,
   "metadata": {},
   "outputs": [],
   "source": [
    "item_data['title_lower'] = item_data.title.str.lower()\n",
    "item_data['lang_domain'] = item_data.domain_id.str[:3].replace({'MLM': 'es', 'MLB': 'pt'})"
   ]
  },
  {
   "cell_type": "code",
   "execution_count": 41,
   "metadata": {},
   "outputs": [],
   "source": [
    "item_data_unique = item_data[['title_lower', 'lang_domain']].drop_duplicates()"
   ]
  },
  {
   "cell_type": "code",
   "execution_count": 42,
   "metadata": {},
   "outputs": [],
   "source": [
    "def emb_vectors(x):\n",
    "    if x.lang_domain == 'pt':\n",
    "        v = port_nlp(x.title_lower) \n",
    "    else:\n",
    "        v = espa_nlp(x.title_lower)\n",
    "        \n",
    "    v_vector = v.vector\n",
    "    vector_norm = v.vector_norm\n",
    "    if vector_norm == 0:\n",
    "        return np.zeros(v_vector.shape, dtype = np.float16)\n",
    "    else:\n",
    "        return (v_vector / vector_norm).astype(np.float16)"
   ]
  },
  {
   "cell_type": "code",
   "execution_count": 44,
   "metadata": {},
   "outputs": [
    {
     "name": "stderr",
     "output_type": "stream",
     "text": [
      "100%|██████████| 1925800/1925800 [05:17<00:00, 6071.83it/s]\n"
     ]
    }
   ],
   "source": [
    "item_data_unique['title_embs'] = item_data_unique.progress_apply(emb_vectors, axis = 1)"
   ]
  },
  {
   "cell_type": "code",
   "execution_count": 49,
   "metadata": {},
   "outputs": [],
   "source": [
    "item_data = pd.merge(item_data, item_data_unique, how = 'left')"
   ]
  },
  {
   "cell_type": "code",
   "execution_count": 51,
   "metadata": {},
   "outputs": [],
   "source": [
    "item_data_fn = 'item_data.pkl'\n",
    "item_data_fp = os.path.join(processed_data_dir, item_data_fn)\n",
    "item_data.to_pickle(item_data_fp)"
   ]
  },
  {
   "cell_type": "code",
   "execution_count": 69,
   "metadata": {},
   "outputs": [],
   "source": [
    "item_data = item_data[['item_id', 'lang_domain', 'title_embs']]\n",
    "\n",
    "item_data_embs_only_fn = 'item_data_embs_only.pkl'\n",
    "item_data_embs_only_fp = os.path.join(processed_data_dir, item_data_embs_only_fn)\n",
    "item_data.to_pickle(item_data_embs_only_fp)"
   ]
  },
  {
   "cell_type": "markdown",
   "metadata": {},
   "source": [
    "#### maybe cluster some of these domains into larger domains (smaller ones)? "
   ]
  },
  {
   "cell_type": "code",
   "execution_count": 48,
   "metadata": {},
   "outputs": [
    {
     "data": {
      "text/plain": [
       "domain_id\n",
       "MLM-GAME_CONSOLE_CAMERA_MOUNTS         1\n",
       "MLM-GOAL_NETS                          1\n",
       "MLM-GOLF_BAGS                          1\n",
       "MLM-GOLF_CLUBS_PUTTERS                 1\n",
       "MLM-GONIOMETERS                        1\n",
       "MLM-GPS_CASES_AND_COVERS               1\n",
       "MLM-GRADUATED_CYLINDERS                1\n",
       "MLM-GRANOLA                            1\n",
       "MLM-GRASS_PAVERS                       1\n",
       "MLM-GROOMING_TABLES                    1\n",
       "MLM-GROUND_RESISTANCE_METERS           1\n",
       "MLM-STACKABLE_BINS                     1\n",
       "MLM-HABERDASHERY_FABRIC_FLOWERS        1\n",
       "MLM-HABERDASHERY_FRINGES               1\n",
       "MLB-INDUSTRIAL_SILOS                   1\n",
       "MLM-ALL_TERRAIN_VEHICLE_DRIVE_BELTS    1\n",
       "MLM-STOLES                             1\n",
       "MLM-GLASS_SAFETY_FILMS                 1\n",
       "MLM-AUTOMOTIVE_TRASH_BAGS              1\n",
       "MLM-ALARM_REMOTE_CONTROLS              1\n",
       "Name: item_id, dtype: int64"
      ]
     },
     "execution_count": 48,
     "metadata": {},
     "output_type": "execute_result"
    }
   ],
   "source": [
    "item_data.groupby('domain_id').item_id.count().sort_values().head(20)"
   ]
  },
  {
   "cell_type": "code",
   "execution_count": 47,
   "metadata": {},
   "outputs": [
    {
     "data": {
      "text/plain": [
       "domain_id\n",
       "MLB-MOTORCYCLES                            10155\n",
       "MLB-INDUSTRIAL_AND_COMMERCIAL_EQUIPMENT    10252\n",
       "MLB-PANTS                                  10309\n",
       "MLB-SOUVENIRS                              11017\n",
       "MLB-CELLPHONE_COVERS                       11177\n",
       "MLB-HEADPHONES                             11328\n",
       "MLB-VIDEO_GAMES                            12742\n",
       "MLB-WRISTWATCHES                           13136\n",
       "MLB-HAIR_TREATMENTS                        13529\n",
       "MLB-ACTION_FIGURES                         13597\n",
       "MLM-CARS_AND_VANS                          14165\n",
       "MLB-SANDALS_AND_FLIP_FLOPS                 15102\n",
       "MLB-VEHICLE_PARTS                          18727\n",
       "MLB-DRESSES                                21590\n",
       "MLB-SUPPLEMENTS                            22351\n",
       "MLB-T_SHIRTS                               23823\n",
       "MLB-VEHICLE_ACCESSORIES                    28986\n",
       "MLB-SNEAKERS                               32636\n",
       "MLB-CELLPHONES                             38390\n",
       "MLB-CARS_AND_VANS                          41420\n",
       "Name: item_id, dtype: int64"
      ]
     },
     "execution_count": 47,
     "metadata": {},
     "output_type": "execute_result"
    }
   ],
   "source": [
    "item_data.groupby('domain_id').item_id.count().sort_values().tail(20)"
   ]
  },
  {
   "cell_type": "code",
   "execution_count": null,
   "metadata": {},
   "outputs": [],
   "source": []
  },
  {
   "cell_type": "markdown",
   "metadata": {},
   "source": [
    "## train_dataset.jl.gz"
   ]
  },
  {
   "cell_type": "code",
   "execution_count": 8,
   "metadata": {},
   "outputs": [
    {
     "name": "stdout",
     "output_type": "stream",
     "text": [
      "CPU times: user 3.89 s, sys: 1.44 s, total: 5.33 s\n",
      "Wall time: 5.52 s\n"
     ]
    }
   ],
   "source": [
    "%%time\n",
    "train = read_raw_save_processed('train_dataset.jl.gz', 'train_dataset.pkl')\n",
    "# save_true_labels(train)"
   ]
  },
  {
   "cell_type": "code",
   "execution_count": null,
   "metadata": {},
   "outputs": [],
   "source": []
  },
  {
   "cell_type": "code",
   "execution_count": 51,
   "metadata": {},
   "outputs": [],
   "source": [
    "t = train.groupby('seq').in_nav.any().reset_index()\n",
    "train.drop('in_nav', axis = 1, inplace = True)\n",
    "train = pd.merge(train, t, how = 'left')"
   ]
  },
  {
   "cell_type": "code",
   "execution_count": 53,
   "metadata": {},
   "outputs": [],
   "source": [
    "processed_fn = 'train_dataset.pkl'\n",
    "processed_fp = os.path.join(processed_data_dir, processed_fn)\n",
    "train.to_pickle(processed_fp)"
   ]
  },
  {
   "cell_type": "code",
   "execution_count": 10,
   "metadata": {},
   "outputs": [],
   "source": [
    "# train['time_diff_intra_session'] = [td if td < 1800 else 0 for td in train.time_diff]"
   ]
  },
  {
   "cell_type": "code",
   "execution_count": 55,
   "metadata": {},
   "outputs": [],
   "source": [
    "# from sklearn.linear_model import LogisticRegression\n",
    "# from sklearn.ensemble import RandomForestClassifier\n",
    "# from sklearn.model_selection import cross_val_score\n",
    "\n",
    "# lr = LogisticRegression()\n",
    "# rf = RandomForestClassifier(max_depth = 7, min_samples_split = 0.001)"
   ]
  },
  {
   "cell_type": "code",
   "execution_count": 57,
   "metadata": {},
   "outputs": [],
   "source": [
    "# t1 = train.groupby('seq').event_type.value_counts().unstack().fillna(0)\n",
    "# t2 = train.groupby('seq').agg({'in_nav': np.any, 'lang_seq': 'first'})\n",
    "# t4 = train[train.event_type == 'view'].groupby('seq').event_info.value_counts(normalize = True)\n",
    "# t4.name = 'mode_freq'\n",
    "# t4 = t4.reset_index()\n",
    "# t4 = t4.groupby('seq').mode_freq.first()\n",
    "\n",
    "# t = pd.concat([t1, t2, t4], axis = 1)\n",
    "\n",
    "# t.drop(columns = 'buy', inplace = True)\n",
    "# t['lang_seq'] = t.lang_seq.replace({'pt': 0, 'es': 1}).fillna(0)\n",
    "\n",
    "# t = t.fillna(-100)"
   ]
  },
  {
   "cell_type": "code",
   "execution_count": 60,
   "metadata": {},
   "outputs": [],
   "source": [
    "# from sklearn.model_selection import train_test_split\n",
    "# from sklearn.metrics import confusion_matrix, classification_report\n",
    "\n",
    "# X, y = t[['search', 'view', 'lang_seq', 'mode_freq']], t.in_nav"
   ]
  },
  {
   "cell_type": "code",
   "execution_count": 79,
   "metadata": {},
   "outputs": [],
   "source": [
    "# from sklearn.model_selection import GridSearchCV, RandomizedSearchCV\n",
    "\n",
    "# params = {'n_estimators': [50, 100, 200], 'max_depth': [5, 8, 11, 14], 'min_samples_split': [0.01, 0.001, 0.0001]}\n",
    "\n",
    "# gs = RandomizedSearchCV(RandomForestClassifier(), param_distributions = params, scoring = 'f1', verbose = 1, n_jobs = -1, cv = 3, n_iter = 6)\n",
    "\n",
    "# gs.fit(X, y)\n",
    "\n",
    "# rf_best = gs.best_estimator_"
   ]
  },
  {
   "cell_type": "code",
   "execution_count": 69,
   "metadata": {},
   "outputs": [],
   "source": [
    "# X_train, X_test, y_train, y_test = train_test_split(X, y)"
   ]
  },
  {
   "cell_type": "code",
   "execution_count": 80,
   "metadata": {},
   "outputs": [
    {
     "data": {
      "text/plain": [
       "RandomForestClassifier(max_depth=14, min_samples_split=0.0001, n_estimators=200)"
      ]
     },
     "execution_count": 80,
     "metadata": {},
     "output_type": "execute_result"
    }
   ],
   "source": [
    "# rf_best\n",
    "# RandomForestClassifier(max_depth=14, min_samples_split=0.0001, n_estimators=200)"
   ]
  },
  {
   "cell_type": "code",
   "execution_count": 84,
   "metadata": {},
   "outputs": [],
   "source": [
    "# rf_best.fit(X_train, y_train)\n",
    "\n",
    "# y_pred = rf_best.predict(X_test)\n",
    "\n",
    "# confusion_matrix(y_test, y_pred)\n",
    "\n",
    "# print(classification_report(y_test, y_pred))"
   ]
  },
  {
   "cell_type": "code",
   "execution_count": 89,
   "metadata": {},
   "outputs": [
    {
     "data": {
      "text/plain": [
       "RandomForestClassifier(max_depth=14, min_samples_split=0.0001, n_estimators=200)"
      ]
     },
     "execution_count": 89,
     "metadata": {},
     "output_type": "execute_result"
    }
   ],
   "source": [
    "rf_best.fit(X, y)"
   ]
  },
  {
   "cell_type": "code",
   "execution_count": 92,
   "metadata": {},
   "outputs": [],
   "source": [
    "t['in_nav_pred'] = rf_best.predict_proba(X)[:, 1]"
   ]
  },
  {
   "cell_type": "code",
   "execution_count": 95,
   "metadata": {},
   "outputs": [],
   "source": [
    "t.reset_index(inplace = True)"
   ]
  },
  {
   "cell_type": "code",
   "execution_count": 101,
   "metadata": {},
   "outputs": [],
   "source": [
    "train = pd.merge(train, t[['seq', 'in_nav_pred']], how = 'left', left_on = 'seq', right_on = 'seq')"
   ]
  },
  {
   "cell_type": "code",
   "execution_count": 103,
   "metadata": {},
   "outputs": [],
   "source": [
    "processed_fn = 'train_dataset.pkl'\n",
    "processed_fp = os.path.join(processed_data_dir, processed_fn)\n",
    "train.to_pickle(processed_fp)"
   ]
  },
  {
   "cell_type": "code",
   "execution_count": null,
   "metadata": {},
   "outputs": [],
   "source": []
  },
  {
   "cell_type": "code",
   "execution_count": 13,
   "metadata": {},
   "outputs": [],
   "source": []
  },
  {
   "cell_type": "markdown",
   "metadata": {},
   "source": [
    "### 4% of the events correspond to the item bought"
   ]
  },
  {
   "cell_type": "code",
   "execution_count": 34,
   "metadata": {},
   "outputs": [
    {
     "data": {
      "text/plain": [
       "False    0.959279\n",
       "True     0.040721\n",
       "Name: in_nav, dtype: float64"
      ]
     },
     "execution_count": 34,
     "metadata": {},
     "output_type": "execute_result"
    }
   ],
   "source": [
    "train.in_nav.value_counts(normalize = True)"
   ]
  },
  {
   "cell_type": "markdown",
   "metadata": {},
   "source": [
    "### 30% of the items bought show up in the navigation"
   ]
  },
  {
   "cell_type": "code",
   "execution_count": 14,
   "metadata": {},
   "outputs": [
    {
     "data": {
      "text/plain": [
       "False    0.706116\n",
       "True     0.293884\n",
       "Name: in_nav, dtype: float64"
      ]
     },
     "execution_count": 14,
     "metadata": {},
     "output_type": "execute_result"
    }
   ],
   "source": [
    "train.groupby('seq').in_nav.any().value_counts(normalize = True)"
   ]
  },
  {
   "cell_type": "code",
   "execution_count": 36,
   "metadata": {},
   "outputs": [
    {
     "data": {
      "text/html": [
       "<div>\n",
       "<style scoped>\n",
       "    .dataframe tbody tr th:only-of-type {\n",
       "        vertical-align: middle;\n",
       "    }\n",
       "\n",
       "    .dataframe tbody tr th {\n",
       "        vertical-align: top;\n",
       "    }\n",
       "\n",
       "    .dataframe thead th {\n",
       "        text-align: right;\n",
       "    }\n",
       "</style>\n",
       "<table border=\"1\" class=\"dataframe\">\n",
       "  <thead>\n",
       "    <tr style=\"text-align: right;\">\n",
       "      <th></th>\n",
       "      <th>seq</th>\n",
       "      <th>item_bought</th>\n",
       "      <th>event_info</th>\n",
       "      <th>event_timestamp</th>\n",
       "      <th>event_type</th>\n",
       "      <th>time_diff</th>\n",
       "      <th>lang_seq</th>\n",
       "      <th>in_nav</th>\n",
       "    </tr>\n",
       "  </thead>\n",
       "  <tbody>\n",
       "    <tr>\n",
       "      <th>2392969</th>\n",
       "      <td>121</td>\n",
       "      <td>388604</td>\n",
       "      <td>MINOXIDIL</td>\n",
       "      <td>2019-10-13 15:33:41</td>\n",
       "      <td>search</td>\n",
       "      <td>NaN</td>\n",
       "      <td>es</td>\n",
       "      <td>False</td>\n",
       "    </tr>\n",
       "    <tr>\n",
       "      <th>2392970</th>\n",
       "      <td>121</td>\n",
       "      <td>388604</td>\n",
       "      <td>MINOXIDIL</td>\n",
       "      <td>2019-10-13 17:08:36</td>\n",
       "      <td>search</td>\n",
       "      <td>5695.0</td>\n",
       "      <td>es</td>\n",
       "      <td>False</td>\n",
       "    </tr>\n",
       "    <tr>\n",
       "      <th>2392971</th>\n",
       "      <td>121</td>\n",
       "      <td>388604</td>\n",
       "      <td>429456</td>\n",
       "      <td>2019-10-13 17:09:04</td>\n",
       "      <td>view</td>\n",
       "      <td>28.0</td>\n",
       "      <td>es</td>\n",
       "      <td>False</td>\n",
       "    </tr>\n",
       "    <tr>\n",
       "      <th>2392972</th>\n",
       "      <td>121</td>\n",
       "      <td>388604</td>\n",
       "      <td>429456</td>\n",
       "      <td>2019-10-13 17:09:43</td>\n",
       "      <td>view</td>\n",
       "      <td>39.0</td>\n",
       "      <td>es</td>\n",
       "      <td>False</td>\n",
       "    </tr>\n",
       "    <tr>\n",
       "      <th>2392973</th>\n",
       "      <td>121</td>\n",
       "      <td>388604</td>\n",
       "      <td>429456</td>\n",
       "      <td>2019-10-13 17:10:37</td>\n",
       "      <td>view</td>\n",
       "      <td>54.0</td>\n",
       "      <td>es</td>\n",
       "      <td>False</td>\n",
       "    </tr>\n",
       "    <tr>\n",
       "      <th>2392974</th>\n",
       "      <td>121</td>\n",
       "      <td>388604</td>\n",
       "      <td>MINOXIDIL</td>\n",
       "      <td>2019-10-13 17:10:38</td>\n",
       "      <td>search</td>\n",
       "      <td>1.0</td>\n",
       "      <td>es</td>\n",
       "      <td>False</td>\n",
       "    </tr>\n",
       "    <tr>\n",
       "      <th>2392975</th>\n",
       "      <td>121</td>\n",
       "      <td>388604</td>\n",
       "      <td>625179</td>\n",
       "      <td>2019-10-13 17:10:46</td>\n",
       "      <td>view</td>\n",
       "      <td>8.0</td>\n",
       "      <td>es</td>\n",
       "      <td>False</td>\n",
       "    </tr>\n",
       "    <tr>\n",
       "      <th>2392976</th>\n",
       "      <td>121</td>\n",
       "      <td>388604</td>\n",
       "      <td>MINOXIDIL</td>\n",
       "      <td>2019-10-13 17:10:58</td>\n",
       "      <td>search</td>\n",
       "      <td>12.0</td>\n",
       "      <td>es</td>\n",
       "      <td>False</td>\n",
       "    </tr>\n",
       "    <tr>\n",
       "      <th>2392977</th>\n",
       "      <td>121</td>\n",
       "      <td>388604</td>\n",
       "      <td>410942</td>\n",
       "      <td>2019-10-13 17:11:45</td>\n",
       "      <td>view</td>\n",
       "      <td>47.0</td>\n",
       "      <td>es</td>\n",
       "      <td>False</td>\n",
       "    </tr>\n",
       "    <tr>\n",
       "      <th>2392978</th>\n",
       "      <td>121</td>\n",
       "      <td>388604</td>\n",
       "      <td>410942</td>\n",
       "      <td>2019-10-13 17:12:29</td>\n",
       "      <td>view</td>\n",
       "      <td>44.0</td>\n",
       "      <td>es</td>\n",
       "      <td>False</td>\n",
       "    </tr>\n",
       "    <tr>\n",
       "      <th>2392979</th>\n",
       "      <td>121</td>\n",
       "      <td>388604</td>\n",
       "      <td>MINOXIDIL</td>\n",
       "      <td>2019-10-13 17:12:31</td>\n",
       "      <td>search</td>\n",
       "      <td>2.0</td>\n",
       "      <td>es</td>\n",
       "      <td>False</td>\n",
       "    </tr>\n",
       "    <tr>\n",
       "      <th>2392980</th>\n",
       "      <td>121</td>\n",
       "      <td>388604</td>\n",
       "      <td>1282024</td>\n",
       "      <td>2019-10-13 17:12:41</td>\n",
       "      <td>view</td>\n",
       "      <td>10.0</td>\n",
       "      <td>es</td>\n",
       "      <td>False</td>\n",
       "    </tr>\n",
       "    <tr>\n",
       "      <th>2392981</th>\n",
       "      <td>121</td>\n",
       "      <td>388604</td>\n",
       "      <td>MINOXIDIL</td>\n",
       "      <td>2019-10-13 17:12:51</td>\n",
       "      <td>search</td>\n",
       "      <td>10.0</td>\n",
       "      <td>es</td>\n",
       "      <td>False</td>\n",
       "    </tr>\n",
       "    <tr>\n",
       "      <th>2392982</th>\n",
       "      <td>121</td>\n",
       "      <td>388604</td>\n",
       "      <td>388604</td>\n",
       "      <td>2019-10-13 17:13:08</td>\n",
       "      <td>view</td>\n",
       "      <td>17.0</td>\n",
       "      <td>es</td>\n",
       "      <td>True</td>\n",
       "    </tr>\n",
       "    <tr>\n",
       "      <th>2392983</th>\n",
       "      <td>121</td>\n",
       "      <td>388604</td>\n",
       "      <td>388604</td>\n",
       "      <td>2019-10-13 17:13:56</td>\n",
       "      <td>view</td>\n",
       "      <td>48.0</td>\n",
       "      <td>es</td>\n",
       "      <td>True</td>\n",
       "    </tr>\n",
       "    <tr>\n",
       "      <th>2392984</th>\n",
       "      <td>121</td>\n",
       "      <td>388604</td>\n",
       "      <td>388604</td>\n",
       "      <td>2019-10-13 17:15:01</td>\n",
       "      <td>view</td>\n",
       "      <td>65.0</td>\n",
       "      <td>es</td>\n",
       "      <td>True</td>\n",
       "    </tr>\n",
       "    <tr>\n",
       "      <th>2392985</th>\n",
       "      <td>121</td>\n",
       "      <td>388604</td>\n",
       "      <td>MINOXIDIL</td>\n",
       "      <td>2019-10-13 17:15:02</td>\n",
       "      <td>search</td>\n",
       "      <td>1.0</td>\n",
       "      <td>es</td>\n",
       "      <td>False</td>\n",
       "    </tr>\n",
       "    <tr>\n",
       "      <th>2392986</th>\n",
       "      <td>121</td>\n",
       "      <td>388604</td>\n",
       "      <td>429456</td>\n",
       "      <td>2019-10-13 17:15:04</td>\n",
       "      <td>view</td>\n",
       "      <td>2.0</td>\n",
       "      <td>es</td>\n",
       "      <td>False</td>\n",
       "    </tr>\n",
       "    <tr>\n",
       "      <th>2392987</th>\n",
       "      <td>121</td>\n",
       "      <td>388604</td>\n",
       "      <td>429456</td>\n",
       "      <td>2019-10-13 17:15:18</td>\n",
       "      <td>view</td>\n",
       "      <td>14.0</td>\n",
       "      <td>es</td>\n",
       "      <td>False</td>\n",
       "    </tr>\n",
       "    <tr>\n",
       "      <th>2392988</th>\n",
       "      <td>121</td>\n",
       "      <td>388604</td>\n",
       "      <td>WHEY PROTEIN</td>\n",
       "      <td>2019-10-13 17:15:28</td>\n",
       "      <td>search</td>\n",
       "      <td>10.0</td>\n",
       "      <td>es</td>\n",
       "      <td>False</td>\n",
       "    </tr>\n",
       "    <tr>\n",
       "      <th>2392989</th>\n",
       "      <td>121</td>\n",
       "      <td>388604</td>\n",
       "      <td>514205</td>\n",
       "      <td>2019-10-13 17:16:26</td>\n",
       "      <td>view</td>\n",
       "      <td>58.0</td>\n",
       "      <td>es</td>\n",
       "      <td>False</td>\n",
       "    </tr>\n",
       "    <tr>\n",
       "      <th>2392990</th>\n",
       "      <td>121</td>\n",
       "      <td>388604</td>\n",
       "      <td>514205</td>\n",
       "      <td>2019-10-13 17:17:42</td>\n",
       "      <td>view</td>\n",
       "      <td>76.0</td>\n",
       "      <td>es</td>\n",
       "      <td>False</td>\n",
       "    </tr>\n",
       "    <tr>\n",
       "      <th>2392991</th>\n",
       "      <td>121</td>\n",
       "      <td>388604</td>\n",
       "      <td>514205</td>\n",
       "      <td>2019-10-13 17:17:49</td>\n",
       "      <td>view</td>\n",
       "      <td>7.0</td>\n",
       "      <td>es</td>\n",
       "      <td>False</td>\n",
       "    </tr>\n",
       "    <tr>\n",
       "      <th>2392992</th>\n",
       "      <td>121</td>\n",
       "      <td>388604</td>\n",
       "      <td>NaN</td>\n",
       "      <td>NaT</td>\n",
       "      <td>buy</td>\n",
       "      <td>NaN</td>\n",
       "      <td>es</td>\n",
       "      <td>False</td>\n",
       "    </tr>\n",
       "  </tbody>\n",
       "</table>\n",
       "</div>"
      ],
      "text/plain": [
       "         seq  item_bought    event_info     event_timestamp event_type  \\\n",
       "2392969  121       388604     MINOXIDIL 2019-10-13 15:33:41     search   \n",
       "2392970  121       388604     MINOXIDIL 2019-10-13 17:08:36     search   \n",
       "2392971  121       388604        429456 2019-10-13 17:09:04       view   \n",
       "2392972  121       388604        429456 2019-10-13 17:09:43       view   \n",
       "2392973  121       388604        429456 2019-10-13 17:10:37       view   \n",
       "2392974  121       388604     MINOXIDIL 2019-10-13 17:10:38     search   \n",
       "2392975  121       388604        625179 2019-10-13 17:10:46       view   \n",
       "2392976  121       388604     MINOXIDIL 2019-10-13 17:10:58     search   \n",
       "2392977  121       388604        410942 2019-10-13 17:11:45       view   \n",
       "2392978  121       388604        410942 2019-10-13 17:12:29       view   \n",
       "2392979  121       388604     MINOXIDIL 2019-10-13 17:12:31     search   \n",
       "2392980  121       388604       1282024 2019-10-13 17:12:41       view   \n",
       "2392981  121       388604     MINOXIDIL 2019-10-13 17:12:51     search   \n",
       "2392982  121       388604        388604 2019-10-13 17:13:08       view   \n",
       "2392983  121       388604        388604 2019-10-13 17:13:56       view   \n",
       "2392984  121       388604        388604 2019-10-13 17:15:01       view   \n",
       "2392985  121       388604     MINOXIDIL 2019-10-13 17:15:02     search   \n",
       "2392986  121       388604        429456 2019-10-13 17:15:04       view   \n",
       "2392987  121       388604        429456 2019-10-13 17:15:18       view   \n",
       "2392988  121       388604  WHEY PROTEIN 2019-10-13 17:15:28     search   \n",
       "2392989  121       388604        514205 2019-10-13 17:16:26       view   \n",
       "2392990  121       388604        514205 2019-10-13 17:17:42       view   \n",
       "2392991  121       388604        514205 2019-10-13 17:17:49       view   \n",
       "2392992  121       388604           NaN                 NaT        buy   \n",
       "\n",
       "         time_diff lang_seq  in_nav  \n",
       "2392969        NaN       es   False  \n",
       "2392970     5695.0       es   False  \n",
       "2392971       28.0       es   False  \n",
       "2392972       39.0       es   False  \n",
       "2392973       54.0       es   False  \n",
       "2392974        1.0       es   False  \n",
       "2392975        8.0       es   False  \n",
       "2392976       12.0       es   False  \n",
       "2392977       47.0       es   False  \n",
       "2392978       44.0       es   False  \n",
       "2392979        2.0       es   False  \n",
       "2392980       10.0       es   False  \n",
       "2392981       10.0       es   False  \n",
       "2392982       17.0       es    True  \n",
       "2392983       48.0       es    True  \n",
       "2392984       65.0       es    True  \n",
       "2392985        1.0       es   False  \n",
       "2392986        2.0       es   False  \n",
       "2392987       14.0       es   False  \n",
       "2392988       10.0       es   False  \n",
       "2392989       58.0       es   False  \n",
       "2392990       76.0       es   False  \n",
       "2392991        7.0       es   False  \n",
       "2392992        NaN       es   False  "
      ]
     },
     "execution_count": 36,
     "metadata": {},
     "output_type": "execute_result"
    }
   ],
   "source": [
    "train.query(\"seq == 121\")#.time_diff"
   ]
  },
  {
   "cell_type": "code",
   "execution_count": null,
   "metadata": {},
   "outputs": [],
   "source": []
  },
  {
   "cell_type": "markdown",
   "metadata": {},
   "source": [
    "### 49% of the domain_id of items bought show up in the navigated domain_id's"
   ]
  },
  {
   "cell_type": "code",
   "execution_count": 18,
   "metadata": {},
   "outputs": [],
   "source": [
    "train = pd.merge(train, item_data[['item_id', 'domain_id']], how = 'left', \n",
    "                 left_on = 'item_bought', right_on = 'item_id')"
   ]
  },
  {
   "cell_type": "code",
   "execution_count": 19,
   "metadata": {},
   "outputs": [],
   "source": [
    "train.rename(columns = {'domain_id': 'bought_domain_id'}, inplace = True)"
   ]
  },
  {
   "cell_type": "code",
   "execution_count": 22,
   "metadata": {},
   "outputs": [],
   "source": [
    "train = pd.merge(train, item_data[['item_id', 'domain_id']], how = 'left', \n",
    "                 left_on = 'event_info', right_on = 'item_id')"
   ]
  },
  {
   "cell_type": "code",
   "execution_count": 23,
   "metadata": {},
   "outputs": [],
   "source": [
    "train.rename(columns = {'domain_id': 'nav_domain_id'}, inplace = True)"
   ]
  },
  {
   "cell_type": "code",
   "execution_count": 25,
   "metadata": {},
   "outputs": [],
   "source": [
    "train.drop(['item_id_x', 'item_id_y'], axis = 1, inplace = True)"
   ]
  },
  {
   "cell_type": "code",
   "execution_count": 27,
   "metadata": {},
   "outputs": [],
   "source": [
    "train['in_nav_domain'] = train.bought_domain_id == train.nav_domain_id"
   ]
  },
  {
   "cell_type": "code",
   "execution_count": 34,
   "metadata": {},
   "outputs": [
    {
     "data": {
      "text/plain": [
       "False    0.506594\n",
       "True     0.493406\n",
       "Name: in_nav_domain, dtype: float64"
      ]
     },
     "execution_count": 34,
     "metadata": {},
     "output_type": "execute_result"
    }
   ],
   "source": [
    "train.groupby('seq').in_nav_domain.any().value_counts(normalize = True)"
   ]
  },
  {
   "cell_type": "code",
   "execution_count": null,
   "metadata": {},
   "outputs": [],
   "source": []
  },
  {
   "cell_type": "markdown",
   "metadata": {},
   "source": [
    "## test_dataset.jl.gz"
   ]
  },
  {
   "cell_type": "code",
   "execution_count": 25,
   "metadata": {},
   "outputs": [
    {
     "name": "stdout",
     "output_type": "stream",
     "text": [
      "CPU times: user 1.28 s, sys: 536 ms, total: 1.82 s\n",
      "Wall time: 2.14 s\n"
     ]
    }
   ],
   "source": [
    "%%time\n",
    "test = read_raw_save_processed('test_dataset.jl.gz', 'test_dataset.pkl')"
   ]
  },
  {
   "cell_type": "markdown",
   "metadata": {},
   "source": [
    "_____"
   ]
  },
  {
   "cell_type": "code",
   "execution_count": null,
   "metadata": {},
   "outputs": [],
   "source": []
  },
  {
   "cell_type": "markdown",
   "metadata": {},
   "source": [
    "* test_dataset.jl.gz\n",
    "* sample_submission.csv"
   ]
  },
  {
   "cell_type": "code",
   "execution_count": null,
   "metadata": {},
   "outputs": [],
   "source": []
  }
 ],
 "metadata": {
  "kernelspec": {
   "display_name": "Python 3",
   "language": "python",
   "name": "python3"
  },
  "language_info": {
   "codemirror_mode": {
    "name": "ipython",
    "version": 3
   },
   "file_extension": ".py",
   "mimetype": "text/x-python",
   "name": "python",
   "nbconvert_exporter": "python",
   "pygments_lexer": "ipython3",
   "version": "3.7.6"
  }
 },
 "nbformat": 4,
 "nbformat_minor": 4
}
