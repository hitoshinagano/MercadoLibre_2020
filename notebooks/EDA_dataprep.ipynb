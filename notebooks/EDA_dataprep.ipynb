{
 "cells": [
  {
   "cell_type": "markdown",
   "metadata": {},
   "source": [
    "# Initial Setups"
   ]
  },
  {
   "cell_type": "markdown",
   "metadata": {},
   "source": [
    "## autoreload"
   ]
  },
  {
   "cell_type": "code",
   "execution_count": 1,
   "metadata": {},
   "outputs": [],
   "source": [
    "# %load_ext autoreload\n",
    "# %autoreload 2"
   ]
  },
  {
   "cell_type": "markdown",
   "metadata": {},
   "source": [
    "## dir setup"
   ]
  },
  {
   "cell_type": "code",
   "execution_count": 2,
   "metadata": {},
   "outputs": [
    {
     "data": {
      "text/plain": [
       "True"
      ]
     },
     "execution_count": 2,
     "metadata": {},
     "output_type": "execute_result"
    }
   ],
   "source": [
    "from dotenv import load_dotenv, find_dotenv\n",
    "import os\n",
    "\n",
    "this_file_path = os.path.dirname(os.path.abspath(\"__file__\"))\n",
    "# if script (not notebook)...\n",
    "# project_dir = os.path.join(os.path.dirname(__file__), os.pardir)\n",
    "\n",
    "# project directory\n",
    "project_dir = os.path.join(this_file_path, os.pardir)\n",
    "\n",
    "# find .env automagically by walking up directories until it's found\n",
    "dotenv_path = find_dotenv()\n",
    "\n",
    "# load up the entries as environment variables\n",
    "load_dotenv(dotenv_path)"
   ]
  },
  {
   "cell_type": "code",
   "execution_count": 3,
   "metadata": {},
   "outputs": [],
   "source": [
    "raw_data_dir = os.path.join(project_dir, os.environ.get(\"RAW_DATA_DIR\"))\n",
    "processed_data_dir = os.path.join(project_dir, os.environ.get(\"PROCESSED_DATA_DIR\"))\n",
    "figures_dir = os.path.join(project_dir, os.environ.get(\"FIGURES_DIR\"))"
   ]
  },
  {
   "cell_type": "markdown",
   "metadata": {},
   "source": [
    "## imports"
   ]
  },
  {
   "cell_type": "code",
   "execution_count": 4,
   "metadata": {},
   "outputs": [],
   "source": [
    "import pandas as pd\n",
    "import numpy as np\n",
    "import seaborn as sns\n",
    "from datetime import datetime\n",
    "import matplotlib.pyplot as plt\n",
    "import sweetviz as sv\n",
    "# import utils"
   ]
  },
  {
   "cell_type": "code",
   "execution_count": 5,
   "metadata": {},
   "outputs": [],
   "source": [
    "# pd.set_option('max_rows', 100)"
   ]
  },
  {
   "cell_type": "code",
   "execution_count": 6,
   "metadata": {},
   "outputs": [],
   "source": [
    "from tqdm import tqdm"
   ]
  },
  {
   "cell_type": "markdown",
   "metadata": {},
   "source": [
    "### item_data.jl.gz"
   ]
  },
  {
   "cell_type": "code",
   "execution_count": 7,
   "metadata": {},
   "outputs": [],
   "source": [
    "item_data_fn = 'item_data.jl.gz'\n",
    "item_data = pd.read_json(os.path.join(raw_data_dir, item_data_fn), lines=True)"
   ]
  },
  {
   "cell_type": "code",
   "execution_count": 8,
   "metadata": {},
   "outputs": [
    {
     "data": {
      "text/html": [
       "<div>\n",
       "<style scoped>\n",
       "    .dataframe tbody tr th:only-of-type {\n",
       "        vertical-align: middle;\n",
       "    }\n",
       "\n",
       "    .dataframe tbody tr th {\n",
       "        vertical-align: top;\n",
       "    }\n",
       "\n",
       "    .dataframe thead th {\n",
       "        text-align: right;\n",
       "    }\n",
       "</style>\n",
       "<table border=\"1\" class=\"dataframe\">\n",
       "  <thead>\n",
       "    <tr style=\"text-align: right;\">\n",
       "      <th></th>\n",
       "      <th>item_id</th>\n",
       "      <th>title</th>\n",
       "      <th>domain_id</th>\n",
       "      <th>product_id</th>\n",
       "      <th>price</th>\n",
       "      <th>category_id</th>\n",
       "      <th>condition</th>\n",
       "    </tr>\n",
       "  </thead>\n",
       "  <tbody>\n",
       "    <tr>\n",
       "      <th>1860260</th>\n",
       "      <td>1455691</td>\n",
       "      <td>Bíblia Sagrada Nvt Índice - Rosa Capa Dura - M...</td>\n",
       "      <td>MLB-BOOKS</td>\n",
       "      <td>NaN</td>\n",
       "      <td>48.90</td>\n",
       "      <td>MLB437616</td>\n",
       "      <td>new</td>\n",
       "    </tr>\n",
       "    <tr>\n",
       "      <th>1053880</th>\n",
       "      <td>1604526</td>\n",
       "      <td>Sapato Masculino Drive Mocassim Dockside 958 C...</td>\n",
       "      <td>MLB-LOAFERS_AND_OXFORDS</td>\n",
       "      <td>12950993.0</td>\n",
       "      <td>58.26</td>\n",
       "      <td>MLB274752</td>\n",
       "      <td>new</td>\n",
       "    </tr>\n",
       "    <tr>\n",
       "      <th>569311</th>\n",
       "      <td>1615704</td>\n",
       "      <td>Porta Sanfonada Esquadriplast 0,60 X 2,10 Bran...</td>\n",
       "      <td>MLB-DOORS</td>\n",
       "      <td>13750378.0</td>\n",
       "      <td>92.80</td>\n",
       "      <td>MLB179703</td>\n",
       "      <td>new</td>\n",
       "    </tr>\n",
       "    <tr>\n",
       "      <th>1582311</th>\n",
       "      <td>2002652</td>\n",
       "      <td>Fone De Ouvido Headset Bluetooth Dobrável</td>\n",
       "      <td>MLB-HEADPHONES</td>\n",
       "      <td>NaN</td>\n",
       "      <td>65.90</td>\n",
       "      <td>MLB196208</td>\n",
       "      <td>new</td>\n",
       "    </tr>\n",
       "    <tr>\n",
       "      <th>805847</th>\n",
       "      <td>11473</td>\n",
       "      <td>Kit 2 Baterias E Carregador P/ Controle Xbox O...</td>\n",
       "      <td>MLB-GAME_CONSOLES_VIDEO_GAMES_AND_ARCADE_MACHINES</td>\n",
       "      <td>NaN</td>\n",
       "      <td>23.99</td>\n",
       "      <td>MLB118890</td>\n",
       "      <td>new</td>\n",
       "    </tr>\n",
       "    <tr>\n",
       "      <th>19477</th>\n",
       "      <td>1424152</td>\n",
       "      <td>1 Ampolleta Hydraderm Acido Hialuronico 10ml D...</td>\n",
       "      <td>MLM-FACIAL_SKIN_CARE_PRODUCTS</td>\n",
       "      <td>NaN</td>\n",
       "      <td>1900.00</td>\n",
       "      <td>MLM178705</td>\n",
       "      <td>new</td>\n",
       "    </tr>\n",
       "    <tr>\n",
       "      <th>1887639</th>\n",
       "      <td>556551</td>\n",
       "      <td>Jg Alargador Para Lama Jeep Willys Quadrado 3 ...</td>\n",
       "      <td>MLB-AUTOMOTIVE_FENDER_FLARES</td>\n",
       "      <td>NaN</td>\n",
       "      <td>840.00</td>\n",
       "      <td>MLB430228</td>\n",
       "      <td>new</td>\n",
       "    </tr>\n",
       "    <tr>\n",
       "      <th>1899338</th>\n",
       "      <td>698552</td>\n",
       "      <td>Linda Esmeralda Bruta</td>\n",
       "      <td>MLB-PRECIOUS_AND_SEMI_PRECIOUS_STONES</td>\n",
       "      <td>NaN</td>\n",
       "      <td>320.00</td>\n",
       "      <td>MLB1441</td>\n",
       "      <td>new</td>\n",
       "    </tr>\n",
       "    <tr>\n",
       "      <th>763221</th>\n",
       "      <td>906689</td>\n",
       "      <td>Cooler Térmico Tipo Imita Lata De Cerveja Nfl ...</td>\n",
       "      <td>MLB-SPORTS_AND_FITNESS</td>\n",
       "      <td>NaN</td>\n",
       "      <td>290.00</td>\n",
       "      <td>MLB1306</td>\n",
       "      <td>used</td>\n",
       "    </tr>\n",
       "    <tr>\n",
       "      <th>788810</th>\n",
       "      <td>1276022</td>\n",
       "      <td>Conj 2 Frigideiras Ø24/26cm Indução Rev Cerâm ...</td>\n",
       "      <td>MLB-FRYING_PANS_WOKS_GRIDDLES_AND_GRILL_PANS</td>\n",
       "      <td>NaN</td>\n",
       "      <td>186.00</td>\n",
       "      <td>MLB107482</td>\n",
       "      <td>new</td>\n",
       "    </tr>\n",
       "  </tbody>\n",
       "</table>\n",
       "</div>"
      ],
      "text/plain": [
       "         item_id                                              title  \\\n",
       "1860260  1455691  Bíblia Sagrada Nvt Índice - Rosa Capa Dura - M...   \n",
       "1053880  1604526  Sapato Masculino Drive Mocassim Dockside 958 C...   \n",
       "569311   1615704  Porta Sanfonada Esquadriplast 0,60 X 2,10 Bran...   \n",
       "1582311  2002652          Fone De Ouvido Headset Bluetooth Dobrável   \n",
       "805847     11473  Kit 2 Baterias E Carregador P/ Controle Xbox O...   \n",
       "19477    1424152  1 Ampolleta Hydraderm Acido Hialuronico 10ml D...   \n",
       "1887639   556551  Jg Alargador Para Lama Jeep Willys Quadrado 3 ...   \n",
       "1899338   698552                              Linda Esmeralda Bruta   \n",
       "763221    906689  Cooler Térmico Tipo Imita Lata De Cerveja Nfl ...   \n",
       "788810   1276022  Conj 2 Frigideiras Ø24/26cm Indução Rev Cerâm ...   \n",
       "\n",
       "                                                 domain_id  product_id  \\\n",
       "1860260                                          MLB-BOOKS         NaN   \n",
       "1053880                            MLB-LOAFERS_AND_OXFORDS  12950993.0   \n",
       "569311                                           MLB-DOORS  13750378.0   \n",
       "1582311                                     MLB-HEADPHONES         NaN   \n",
       "805847   MLB-GAME_CONSOLES_VIDEO_GAMES_AND_ARCADE_MACHINES         NaN   \n",
       "19477                        MLM-FACIAL_SKIN_CARE_PRODUCTS         NaN   \n",
       "1887639                       MLB-AUTOMOTIVE_FENDER_FLARES         NaN   \n",
       "1899338              MLB-PRECIOUS_AND_SEMI_PRECIOUS_STONES         NaN   \n",
       "763221                              MLB-SPORTS_AND_FITNESS         NaN   \n",
       "788810        MLB-FRYING_PANS_WOKS_GRIDDLES_AND_GRILL_PANS         NaN   \n",
       "\n",
       "           price category_id condition  \n",
       "1860260    48.90   MLB437616       new  \n",
       "1053880    58.26   MLB274752       new  \n",
       "569311     92.80   MLB179703       new  \n",
       "1582311    65.90   MLB196208       new  \n",
       "805847     23.99   MLB118890       new  \n",
       "19477    1900.00   MLM178705       new  \n",
       "1887639   840.00   MLB430228       new  \n",
       "1899338   320.00     MLB1441       new  \n",
       "763221    290.00     MLB1306      used  \n",
       "788810    186.00   MLB107482       new  "
      ]
     },
     "execution_count": 8,
     "metadata": {},
     "output_type": "execute_result"
    }
   ],
   "source": [
    "item_data.sample(10)"
   ]
  },
  {
   "cell_type": "markdown",
   "metadata": {},
   "source": [
    "* MLB: Brasil\n",
    "* MLM: Other countries"
   ]
  },
  {
   "cell_type": "code",
   "execution_count": 9,
   "metadata": {},
   "outputs": [
    {
     "data": {
      "text/plain": [
       "MLB    1723216\n",
       "MLM     378210\n",
       "Name: domain_id, dtype: int64"
      ]
     },
     "execution_count": 9,
     "metadata": {},
     "output_type": "execute_result"
    }
   ],
   "source": [
    "item_data.domain_id.str[:3].value_counts()"
   ]
  },
  {
   "cell_type": "code",
   "execution_count": null,
   "metadata": {},
   "outputs": [],
   "source": []
  },
  {
   "cell_type": "code",
   "execution_count": null,
   "metadata": {},
   "outputs": [],
   "source": []
  },
  {
   "cell_type": "markdown",
   "metadata": {},
   "source": [
    "### train_dataset.jl.gz"
   ]
  },
  {
   "cell_type": "code",
   "execution_count": 10,
   "metadata": {},
   "outputs": [],
   "source": [
    "def proc_dataset(df):\n",
    "    number_of_batches = len(df) // 50\n",
    "    proc_df = list()\n",
    "    for df_p in tqdm(np.array_split(df, number_of_batches)):\n",
    "        if 'item_bought' in df_p:\n",
    "            df_p = pd.concat([df_p.user_history.apply(pd.Series), df_p.item_bought], axis = 1).stack()\n",
    "            train_dataset = True\n",
    "        else:\n",
    "            df_p = df_p.user_history.apply(pd.Series).stack()\n",
    "            train_dataset = False\n",
    "            \n",
    "        df_p = df_p.apply(pd.Series)\n",
    "        df_p.reset_index(inplace = True)\n",
    "        df_p.drop(columns = 'level_1', inplace = True)\n",
    "        \n",
    "        if train_dataset:\n",
    "            new_columns = {0: 'item_bought', 'level_0': 'seq'}\n",
    "            df_p['event_type'] = df_p.event_type.fillna('buy')\n",
    "        else:\n",
    "            new_columns = {'level_0': 'seq'}\n",
    "        \n",
    "        df_p.rename(columns = new_columns, inplace = True)\n",
    "        \n",
    "        df_p['timezone'] = df_p.event_timestamp.str[-4:]\n",
    "        df_p['event_timestamp'] = pd.to_datetime(df_p.event_timestamp.str[:-9])\n",
    "        df_p['time_diff'] = df_p.groupby('seq').event_timestamp.diff().dt.seconds\n",
    "        \n",
    "        # if train_dataset:\n",
    "        proc_df.append(df_p)\n",
    "        \n",
    "    proc_df = pd.concat(proc_df)        \n",
    "    return proc_df"
   ]
  },
  {
   "cell_type": "code",
   "execution_count": 11,
   "metadata": {},
   "outputs": [],
   "source": [
    "def read_data(raw_fn = 'train_dataset.jl.gz', processed_fn = 'train_dataset.pkl',\n",
    "              force_process = False, nrows = None):\n",
    "\n",
    "    processed_fp = os.path.join(processed_data_dir, processed_fn)\n",
    "    if os.path.exists(processed_fp) and not force_process:\n",
    "        processed = pd.read_pickle(processed_fp)\n",
    "    else:\n",
    "        raw = pd.read_json(os.path.join(raw_data_dir, raw_fn), lines = True, nrows = nrows)\n",
    "        raw['len_events'] = raw.user_history.str.len()\n",
    "        raw.sort_values('len_events', inplace = True)\n",
    "        raw.drop('len_events', axis = 1, inplace = True)\n",
    "        processed = proc_dataset(raw)\n",
    "        processed.to_pickle(os.path.join(processed_data_dir, processed_fn))\n",
    "        \n",
    "    if 'item_bought' in processed: \n",
    "        processed.item_bought = processed.item_bought.fillna(method = 'backfill').astype(int)\n",
    "        processed['in_nav'] = processed.item_bought == processed.event_info\n",
    "    \n",
    "    return processed"
   ]
  },
  {
   "cell_type": "code",
   "execution_count": 12,
   "metadata": {},
   "outputs": [
    {
     "name": "stderr",
     "output_type": "stream",
     "text": [
      "100%|██████████| 8263/8263 [1:39:32<00:00,  1.38it/s]\n"
     ]
    },
    {
     "name": "stdout",
     "output_type": "stream",
     "text": [
      "CPU times: user 1h 40min 3s, sys: 55.6 s, total: 1h 40min 59s\n",
      "Wall time: 1h 41min 14s\n"
     ]
    }
   ],
   "source": [
    "%%time\n",
    "train = read_data('train_dataset.jl.gz', 'train_dataset.pkl')"
   ]
  },
  {
   "cell_type": "code",
   "execution_count": null,
   "metadata": {},
   "outputs": [],
   "source": []
  },
  {
   "cell_type": "code",
   "execution_count": 13,
   "metadata": {},
   "outputs": [],
   "source": [
    "def save_true_labels(df, true_fn = 'true.pkl'):\n",
    "    true_fp = os.path.join(processed_data_dir, true_fn)\n",
    "    true_df = df[(df.event_type.isnull()) | (df.event_type == 'buy')]\n",
    "    true_df = true_df[['seq', 'item_bought']]\n",
    "    true_df.to_pickle(true_fp)"
   ]
  },
  {
   "cell_type": "code",
   "execution_count": 14,
   "metadata": {},
   "outputs": [],
   "source": [
    "save_true_labels(train)"
   ]
  },
  {
   "cell_type": "code",
   "execution_count": 29,
   "metadata": {},
   "outputs": [],
   "source": [
    "del old_true_df"
   ]
  },
  {
   "cell_type": "markdown",
   "metadata": {},
   "source": [
    "### 4% dos eventos sao iguais ao produto comprado"
   ]
  },
  {
   "cell_type": "code",
   "execution_count": 12,
   "metadata": {},
   "outputs": [
    {
     "data": {
      "text/plain": [
       "False    0.959279\n",
       "True     0.040721\n",
       "Name: in_nav, dtype: float64"
      ]
     },
     "execution_count": 12,
     "metadata": {},
     "output_type": "execute_result"
    }
   ],
   "source": [
    "train.in_nav.value_counts(normalize = True)"
   ]
  },
  {
   "cell_type": "markdown",
   "metadata": {},
   "source": [
    "### 30% dos produtos comprados foram navegados (nesse periodo de 1 semana)"
   ]
  },
  {
   "cell_type": "code",
   "execution_count": 13,
   "metadata": {},
   "outputs": [
    {
     "data": {
      "text/plain": [
       "False    0.706116\n",
       "True     0.293884\n",
       "Name: in_nav, dtype: float64"
      ]
     },
     "execution_count": 13,
     "metadata": {},
     "output_type": "execute_result"
    }
   ],
   "source": [
    "train.groupby('seq').in_nav.any().value_counts(normalize = True)"
   ]
  },
  {
   "cell_type": "code",
   "execution_count": 14,
   "metadata": {},
   "outputs": [
    {
     "data": {
      "text/html": [
       "<div>\n",
       "<style scoped>\n",
       "    .dataframe tbody tr th:only-of-type {\n",
       "        vertical-align: middle;\n",
       "    }\n",
       "\n",
       "    .dataframe tbody tr th {\n",
       "        vertical-align: top;\n",
       "    }\n",
       "\n",
       "    .dataframe thead th {\n",
       "        text-align: right;\n",
       "    }\n",
       "</style>\n",
       "<table border=\"1\" class=\"dataframe\">\n",
       "  <thead>\n",
       "    <tr style=\"text-align: right;\">\n",
       "      <th></th>\n",
       "      <th>seq</th>\n",
       "      <th>item_bought</th>\n",
       "      <th>event_info</th>\n",
       "      <th>event_timestamp</th>\n",
       "      <th>event_type</th>\n",
       "      <th>time_diff</th>\n",
       "      <th>in_nav</th>\n",
       "    </tr>\n",
       "  </thead>\n",
       "  <tbody>\n",
       "    <tr>\n",
       "      <th>864</th>\n",
       "      <td>121</td>\n",
       "      <td>388604</td>\n",
       "      <td>MINOXIDIL</td>\n",
       "      <td>2019-10-13 15:33:41</td>\n",
       "      <td>search</td>\n",
       "      <td>NaN</td>\n",
       "      <td>False</td>\n",
       "    </tr>\n",
       "    <tr>\n",
       "      <th>865</th>\n",
       "      <td>121</td>\n",
       "      <td>388604</td>\n",
       "      <td>MINOXIDIL</td>\n",
       "      <td>2019-10-13 17:08:36</td>\n",
       "      <td>search</td>\n",
       "      <td>5695.0</td>\n",
       "      <td>False</td>\n",
       "    </tr>\n",
       "    <tr>\n",
       "      <th>866</th>\n",
       "      <td>121</td>\n",
       "      <td>388604</td>\n",
       "      <td>429456</td>\n",
       "      <td>2019-10-13 17:09:04</td>\n",
       "      <td>view</td>\n",
       "      <td>28.0</td>\n",
       "      <td>False</td>\n",
       "    </tr>\n",
       "    <tr>\n",
       "      <th>867</th>\n",
       "      <td>121</td>\n",
       "      <td>388604</td>\n",
       "      <td>429456</td>\n",
       "      <td>2019-10-13 17:09:43</td>\n",
       "      <td>view</td>\n",
       "      <td>39.0</td>\n",
       "      <td>False</td>\n",
       "    </tr>\n",
       "    <tr>\n",
       "      <th>868</th>\n",
       "      <td>121</td>\n",
       "      <td>388604</td>\n",
       "      <td>429456</td>\n",
       "      <td>2019-10-13 17:10:37</td>\n",
       "      <td>view</td>\n",
       "      <td>54.0</td>\n",
       "      <td>False</td>\n",
       "    </tr>\n",
       "    <tr>\n",
       "      <th>869</th>\n",
       "      <td>121</td>\n",
       "      <td>388604</td>\n",
       "      <td>MINOXIDIL</td>\n",
       "      <td>2019-10-13 17:10:38</td>\n",
       "      <td>search</td>\n",
       "      <td>1.0</td>\n",
       "      <td>False</td>\n",
       "    </tr>\n",
       "    <tr>\n",
       "      <th>870</th>\n",
       "      <td>121</td>\n",
       "      <td>388604</td>\n",
       "      <td>625179</td>\n",
       "      <td>2019-10-13 17:10:46</td>\n",
       "      <td>view</td>\n",
       "      <td>8.0</td>\n",
       "      <td>False</td>\n",
       "    </tr>\n",
       "    <tr>\n",
       "      <th>871</th>\n",
       "      <td>121</td>\n",
       "      <td>388604</td>\n",
       "      <td>MINOXIDIL</td>\n",
       "      <td>2019-10-13 17:10:58</td>\n",
       "      <td>search</td>\n",
       "      <td>12.0</td>\n",
       "      <td>False</td>\n",
       "    </tr>\n",
       "    <tr>\n",
       "      <th>872</th>\n",
       "      <td>121</td>\n",
       "      <td>388604</td>\n",
       "      <td>410942</td>\n",
       "      <td>2019-10-13 17:11:45</td>\n",
       "      <td>view</td>\n",
       "      <td>47.0</td>\n",
       "      <td>False</td>\n",
       "    </tr>\n",
       "    <tr>\n",
       "      <th>873</th>\n",
       "      <td>121</td>\n",
       "      <td>388604</td>\n",
       "      <td>410942</td>\n",
       "      <td>2019-10-13 17:12:29</td>\n",
       "      <td>view</td>\n",
       "      <td>44.0</td>\n",
       "      <td>False</td>\n",
       "    </tr>\n",
       "    <tr>\n",
       "      <th>874</th>\n",
       "      <td>121</td>\n",
       "      <td>388604</td>\n",
       "      <td>MINOXIDIL</td>\n",
       "      <td>2019-10-13 17:12:31</td>\n",
       "      <td>search</td>\n",
       "      <td>2.0</td>\n",
       "      <td>False</td>\n",
       "    </tr>\n",
       "    <tr>\n",
       "      <th>875</th>\n",
       "      <td>121</td>\n",
       "      <td>388604</td>\n",
       "      <td>1282024</td>\n",
       "      <td>2019-10-13 17:12:41</td>\n",
       "      <td>view</td>\n",
       "      <td>10.0</td>\n",
       "      <td>False</td>\n",
       "    </tr>\n",
       "    <tr>\n",
       "      <th>876</th>\n",
       "      <td>121</td>\n",
       "      <td>388604</td>\n",
       "      <td>MINOXIDIL</td>\n",
       "      <td>2019-10-13 17:12:51</td>\n",
       "      <td>search</td>\n",
       "      <td>10.0</td>\n",
       "      <td>False</td>\n",
       "    </tr>\n",
       "    <tr>\n",
       "      <th>877</th>\n",
       "      <td>121</td>\n",
       "      <td>388604</td>\n",
       "      <td>388604</td>\n",
       "      <td>2019-10-13 17:13:08</td>\n",
       "      <td>view</td>\n",
       "      <td>17.0</td>\n",
       "      <td>True</td>\n",
       "    </tr>\n",
       "    <tr>\n",
       "      <th>878</th>\n",
       "      <td>121</td>\n",
       "      <td>388604</td>\n",
       "      <td>388604</td>\n",
       "      <td>2019-10-13 17:13:56</td>\n",
       "      <td>view</td>\n",
       "      <td>48.0</td>\n",
       "      <td>True</td>\n",
       "    </tr>\n",
       "    <tr>\n",
       "      <th>879</th>\n",
       "      <td>121</td>\n",
       "      <td>388604</td>\n",
       "      <td>388604</td>\n",
       "      <td>2019-10-13 17:15:01</td>\n",
       "      <td>view</td>\n",
       "      <td>65.0</td>\n",
       "      <td>True</td>\n",
       "    </tr>\n",
       "    <tr>\n",
       "      <th>880</th>\n",
       "      <td>121</td>\n",
       "      <td>388604</td>\n",
       "      <td>MINOXIDIL</td>\n",
       "      <td>2019-10-13 17:15:02</td>\n",
       "      <td>search</td>\n",
       "      <td>1.0</td>\n",
       "      <td>False</td>\n",
       "    </tr>\n",
       "    <tr>\n",
       "      <th>881</th>\n",
       "      <td>121</td>\n",
       "      <td>388604</td>\n",
       "      <td>429456</td>\n",
       "      <td>2019-10-13 17:15:04</td>\n",
       "      <td>view</td>\n",
       "      <td>2.0</td>\n",
       "      <td>False</td>\n",
       "    </tr>\n",
       "    <tr>\n",
       "      <th>882</th>\n",
       "      <td>121</td>\n",
       "      <td>388604</td>\n",
       "      <td>429456</td>\n",
       "      <td>2019-10-13 17:15:18</td>\n",
       "      <td>view</td>\n",
       "      <td>14.0</td>\n",
       "      <td>False</td>\n",
       "    </tr>\n",
       "    <tr>\n",
       "      <th>883</th>\n",
       "      <td>121</td>\n",
       "      <td>388604</td>\n",
       "      <td>WHEY PROTEIN</td>\n",
       "      <td>2019-10-13 17:15:28</td>\n",
       "      <td>search</td>\n",
       "      <td>10.0</td>\n",
       "      <td>False</td>\n",
       "    </tr>\n",
       "    <tr>\n",
       "      <th>884</th>\n",
       "      <td>121</td>\n",
       "      <td>388604</td>\n",
       "      <td>514205</td>\n",
       "      <td>2019-10-13 17:16:26</td>\n",
       "      <td>view</td>\n",
       "      <td>58.0</td>\n",
       "      <td>False</td>\n",
       "    </tr>\n",
       "    <tr>\n",
       "      <th>885</th>\n",
       "      <td>121</td>\n",
       "      <td>388604</td>\n",
       "      <td>514205</td>\n",
       "      <td>2019-10-13 17:17:42</td>\n",
       "      <td>view</td>\n",
       "      <td>76.0</td>\n",
       "      <td>False</td>\n",
       "    </tr>\n",
       "    <tr>\n",
       "      <th>886</th>\n",
       "      <td>121</td>\n",
       "      <td>388604</td>\n",
       "      <td>514205</td>\n",
       "      <td>2019-10-13 17:17:49</td>\n",
       "      <td>view</td>\n",
       "      <td>7.0</td>\n",
       "      <td>False</td>\n",
       "    </tr>\n",
       "    <tr>\n",
       "      <th>887</th>\n",
       "      <td>121</td>\n",
       "      <td>388604</td>\n",
       "      <td>NaN</td>\n",
       "      <td>NaT</td>\n",
       "      <td>NaN</td>\n",
       "      <td>NaN</td>\n",
       "      <td>False</td>\n",
       "    </tr>\n",
       "  </tbody>\n",
       "</table>\n",
       "</div>"
      ],
      "text/plain": [
       "     seq  item_bought    event_info     event_timestamp event_type  time_diff  \\\n",
       "864  121       388604     MINOXIDIL 2019-10-13 15:33:41     search        NaN   \n",
       "865  121       388604     MINOXIDIL 2019-10-13 17:08:36     search     5695.0   \n",
       "866  121       388604        429456 2019-10-13 17:09:04       view       28.0   \n",
       "867  121       388604        429456 2019-10-13 17:09:43       view       39.0   \n",
       "868  121       388604        429456 2019-10-13 17:10:37       view       54.0   \n",
       "869  121       388604     MINOXIDIL 2019-10-13 17:10:38     search        1.0   \n",
       "870  121       388604        625179 2019-10-13 17:10:46       view        8.0   \n",
       "871  121       388604     MINOXIDIL 2019-10-13 17:10:58     search       12.0   \n",
       "872  121       388604        410942 2019-10-13 17:11:45       view       47.0   \n",
       "873  121       388604        410942 2019-10-13 17:12:29       view       44.0   \n",
       "874  121       388604     MINOXIDIL 2019-10-13 17:12:31     search        2.0   \n",
       "875  121       388604       1282024 2019-10-13 17:12:41       view       10.0   \n",
       "876  121       388604     MINOXIDIL 2019-10-13 17:12:51     search       10.0   \n",
       "877  121       388604        388604 2019-10-13 17:13:08       view       17.0   \n",
       "878  121       388604        388604 2019-10-13 17:13:56       view       48.0   \n",
       "879  121       388604        388604 2019-10-13 17:15:01       view       65.0   \n",
       "880  121       388604     MINOXIDIL 2019-10-13 17:15:02     search        1.0   \n",
       "881  121       388604        429456 2019-10-13 17:15:04       view        2.0   \n",
       "882  121       388604        429456 2019-10-13 17:15:18       view       14.0   \n",
       "883  121       388604  WHEY PROTEIN 2019-10-13 17:15:28     search       10.0   \n",
       "884  121       388604        514205 2019-10-13 17:16:26       view       58.0   \n",
       "885  121       388604        514205 2019-10-13 17:17:42       view       76.0   \n",
       "886  121       388604        514205 2019-10-13 17:17:49       view        7.0   \n",
       "887  121       388604           NaN                 NaT        NaN        NaN   \n",
       "\n",
       "     in_nav  \n",
       "864   False  \n",
       "865   False  \n",
       "866   False  \n",
       "867   False  \n",
       "868   False  \n",
       "869   False  \n",
       "870   False  \n",
       "871   False  \n",
       "872   False  \n",
       "873   False  \n",
       "874   False  \n",
       "875   False  \n",
       "876   False  \n",
       "877    True  \n",
       "878    True  \n",
       "879    True  \n",
       "880   False  \n",
       "881   False  \n",
       "882   False  \n",
       "883   False  \n",
       "884   False  \n",
       "885   False  \n",
       "886   False  \n",
       "887   False  "
      ]
     },
     "execution_count": 14,
     "metadata": {},
     "output_type": "execute_result"
    }
   ],
   "source": [
    "train.query(\"seq == 121\")#.time_diff"
   ]
  },
  {
   "cell_type": "markdown",
   "metadata": {},
   "source": [
    "### test_dataset.jl.gz"
   ]
  },
  {
   "cell_type": "code",
   "execution_count": 36,
   "metadata": {},
   "outputs": [
    {
     "name": "stderr",
     "output_type": "stream",
     "text": [
      "100%|██████████| 3541/3541 [34:21<00:00,  1.72it/s]\n"
     ]
    },
    {
     "name": "stdout",
     "output_type": "stream",
     "text": [
      "CPU times: user 34min 41s, sys: 17.4 s, total: 34min 58s\n",
      "Wall time: 34min 59s\n"
     ]
    }
   ],
   "source": [
    "%%time\n",
    "test = read_data('test_dataset.jl.gz', 'test_dataset.pkl')"
   ]
  },
  {
   "cell_type": "code",
   "execution_count": null,
   "metadata": {},
   "outputs": [],
   "source": []
  },
  {
   "cell_type": "code",
   "execution_count": null,
   "metadata": {},
   "outputs": [],
   "source": []
  },
  {
   "cell_type": "markdown",
   "metadata": {},
   "source": [
    "_____"
   ]
  },
  {
   "cell_type": "markdown",
   "metadata": {},
   "source": [
    "* test_dataset.jl.gz\n",
    "* sample_submission.csv"
   ]
  },
  {
   "cell_type": "code",
   "execution_count": null,
   "metadata": {},
   "outputs": [],
   "source": []
  }
 ],
 "metadata": {
  "kernelspec": {
   "display_name": "Python 3",
   "language": "python",
   "name": "python3"
  },
  "language_info": {
   "codemirror_mode": {
    "name": "ipython",
    "version": 3
   },
   "file_extension": ".py",
   "mimetype": "text/x-python",
   "name": "python",
   "nbconvert_exporter": "python",
   "pygments_lexer": "ipython3",
   "version": "3.7.6"
  }
 },
 "nbformat": 4,
 "nbformat_minor": 4
}
