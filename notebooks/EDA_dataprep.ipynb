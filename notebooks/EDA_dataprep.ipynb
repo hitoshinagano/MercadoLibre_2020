{
 "cells": [
  {
   "cell_type": "markdown",
   "metadata": {},
   "source": [
    "# Initial Setups"
   ]
  },
  {
   "cell_type": "markdown",
   "metadata": {},
   "source": [
    "## autoreload"
   ]
  },
  {
   "cell_type": "code",
   "execution_count": 1,
   "metadata": {},
   "outputs": [],
   "source": [
    "%load_ext autoreload\n",
    "%autoreload 2"
   ]
  },
  {
   "cell_type": "markdown",
   "metadata": {},
   "source": [
    "## dir setup"
   ]
  },
  {
   "cell_type": "code",
   "execution_count": 2,
   "metadata": {},
   "outputs": [
    {
     "data": {
      "text/plain": [
       "True"
      ]
     },
     "execution_count": 2,
     "metadata": {},
     "output_type": "execute_result"
    }
   ],
   "source": [
    "from dotenv import load_dotenv, find_dotenv\n",
    "import os\n",
    "\n",
    "this_file_path = os.path.dirname(os.path.abspath(\"__file__\"))\n",
    "# if script (not notebook)...\n",
    "# project_dir = os.path.join(os.path.dirname(__file__), os.pardir)\n",
    "\n",
    "# project directory\n",
    "project_dir = os.path.join(this_file_path, os.pardir)\n",
    "\n",
    "# find .env automagically by walking up directories until it's found\n",
    "dotenv_path = find_dotenv()\n",
    "\n",
    "# load up the entries as environment variables\n",
    "load_dotenv(dotenv_path)"
   ]
  },
  {
   "cell_type": "code",
   "execution_count": 3,
   "metadata": {},
   "outputs": [],
   "source": [
    "raw_data_dir = os.path.join(project_dir, os.environ.get(\"RAW_DATA_DIR\"))\n",
    "processed_data_dir = os.path.join(project_dir, os.environ.get(\"PROCESSED_DATA_DIR\"))\n",
    "interim_data_dir = os.path.join(project_dir, os.environ.get(\"INTERIM_DATA_DIR\"))\n",
    "wordvecs_data_dir = os.path.join(project_dir, os.environ.get(\"WORDVECS_DATA_DIR\"))\n",
    "figures_dir = os.path.join(project_dir, os.environ.get(\"FIGURES_DIR\"))\n",
    "reports_dir = os.path.join(project_dir, os.environ.get(\"REPORTS_DIR\"))\n",
    "cv_dir = os.path.join(project_dir, os.environ.get(\"CV_DIR\"))\n",
    "models_dir = os.path.join(project_dir, os.environ.get(\"MODELS_DIR\"))"
   ]
  },
  {
   "cell_type": "markdown",
   "metadata": {},
   "source": [
    "## imports"
   ]
  },
  {
   "cell_type": "code",
   "execution_count": 4,
   "metadata": {},
   "outputs": [],
   "source": [
    "import warnings\n",
    "warnings.filterwarnings(\"ignore\", category=FutureWarning)"
   ]
  },
  {
   "cell_type": "code",
   "execution_count": 5,
   "metadata": {},
   "outputs": [],
   "source": [
    "import pandas as pd\n",
    "import numpy as np\n",
    "import seaborn as sns\n",
    "from datetime import datetime\n",
    "import matplotlib.pyplot as plt\n",
    "# import sweetviz as sv\n",
    "# import utils"
   ]
  },
  {
   "cell_type": "code",
   "execution_count": 6,
   "metadata": {},
   "outputs": [],
   "source": [
    "pd.set_option('max_rows', 200)"
   ]
  },
  {
   "cell_type": "code",
   "execution_count": 7,
   "metadata": {},
   "outputs": [],
   "source": [
    "from tqdm import tqdm\n",
    "tqdm.pandas()"
   ]
  },
  {
   "cell_type": "markdown",
   "metadata": {},
   "source": [
    "## project imports"
   ]
  },
  {
   "cell_type": "code",
   "execution_count": 8,
   "metadata": {},
   "outputs": [],
   "source": [
    "import sys\n",
    "sys.path.insert(0, '..')\n",
    "\n",
    "from src.features import *\n",
    "from src.models import *"
   ]
  },
  {
   "cell_type": "markdown",
   "metadata": {},
   "source": [
    "## spaCy imports"
   ]
  },
  {
   "cell_type": "code",
   "execution_count": 9,
   "metadata": {},
   "outputs": [],
   "source": [
    "import spacy\n",
    "\n",
    "w2v_mode = 'cbow'\n",
    "\n",
    "# port_nlp_fn = 'nilc50skip'\n",
    "port_nlp_fn = 'ptcustom100' + w2v_mode\n",
    "port_nlp_fp = os.path.join(wordvecs_data_dir, port_nlp_fn) \n",
    "port_nlp = spacy.load(port_nlp_fp)\n",
    "\n",
    "# espa_nlp_fn = 'suc30fast'\n",
    "espa_nlp_fn = 'escustom100' + w2v_mode\n",
    "espa_nlp_fp = os.path.join(wordvecs_data_dir, espa_nlp_fn) \n",
    "espa_nlp = spacy.load(espa_nlp_fp)"
   ]
  },
  {
   "cell_type": "markdown",
   "metadata": {},
   "source": [
    "### item_data.jl.gz\n",
    "Note there are titles with the same texts, but with different item_id's.<br>\n",
    "check with `item_data[item_data.duplicated(subset = ['title'], keep = False)].sort_values('title')`\n",
    "\n",
    "Run this to reprocess a new `item_data.pkl` in `processed_data_dir`, for example with new embeddings (more dimensions on pre-trained, or custom embeddings)"
   ]
  },
  {
   "cell_type": "code",
   "execution_count": 9,
   "metadata": {},
   "outputs": [],
   "source": [
    "item_data_fn = 'item_data.jl.gz'\n",
    "item_data = pd.read_json(os.path.join(raw_data_dir, item_data_fn), lines=True)"
   ]
  },
  {
   "cell_type": "markdown",
   "metadata": {},
   "source": [
    "#### item_domain used in the scoring"
   ]
  },
  {
   "cell_type": "code",
   "execution_count": 11,
   "metadata": {},
   "outputs": [],
   "source": [
    "item_domain = item_data[['item_id', 'domain_id', 'category_id']]\n",
    "item_domain_fn = 'item_domain.pkl'\n",
    "item_domain_fp = os.path.join(processed_data_dir, item_domain_fn)\n",
    "item_domain.to_pickle(item_domain_fp)"
   ]
  },
  {
   "cell_type": "markdown",
   "metadata": {},
   "source": [
    "* MLB: Brasil\n",
    "* MLM: Other countries"
   ]
  },
  {
   "cell_type": "code",
   "execution_count": 12,
   "metadata": {},
   "outputs": [
    {
     "data": {
      "text/plain": [
       "MLB    1723216\n",
       "MLM     378210\n",
       "Name: domain_id, dtype: int64"
      ]
     },
     "execution_count": 12,
     "metadata": {},
     "output_type": "execute_result"
    }
   ],
   "source": [
    "item_data.domain_id.str[:3].value_counts()"
   ]
  },
  {
   "cell_type": "code",
   "execution_count": 13,
   "metadata": {},
   "outputs": [],
   "source": [
    "item_data['title_lower'] = item_data.title.str.lower()\n",
    "item_data['lang_domain'] = item_data.domain_id.str[:3].replace({'MLM': 'es', 'MLB': 'pt'})\n",
    "# domain_id contain NaNs. category_id does not\n",
    "item_data['lang_category'] = item_data.category_id.str[:3].replace({'MLM': 'es', 'MLB': 'pt'})"
   ]
  },
  {
   "cell_type": "code",
   "execution_count": 14,
   "metadata": {},
   "outputs": [],
   "source": [
    "item_data_unique = item_data[['title_lower', 'lang_category']].drop_duplicates()"
   ]
  },
  {
   "cell_type": "code",
   "execution_count": 15,
   "metadata": {},
   "outputs": [],
   "source": [
    "def emb_vectors(x):\n",
    "    if x.lang_category == 'pt':\n",
    "        v = port_nlp(x.title_lower) \n",
    "    else:\n",
    "        v = espa_nlp(x.title_lower)\n",
    "        \n",
    "    v_vector = v.vector\n",
    "    vector_norm = v.vector_norm\n",
    "    if vector_norm == 0:\n",
    "        return np.zeros(v_vector.shape, dtype = np.float16)\n",
    "    else:\n",
    "        return (v_vector / vector_norm).astype(np.float16)"
   ]
  },
  {
   "cell_type": "code",
   "execution_count": 16,
   "metadata": {},
   "outputs": [
    {
     "name": "stderr",
     "output_type": "stream",
     "text": [
      "100%|██████████| 1925776/1925776 [05:41<00:00, 5640.73it/s]\n"
     ]
    }
   ],
   "source": [
    "item_data_unique['title_embs'] = item_data_unique.progress_apply(emb_vectors, axis = 1)"
   ]
  },
  {
   "cell_type": "code",
   "execution_count": 17,
   "metadata": {},
   "outputs": [],
   "source": [
    "item_data = pd.merge(item_data, item_data_unique, how = 'left')"
   ]
  },
  {
   "cell_type": "code",
   "execution_count": 18,
   "metadata": {},
   "outputs": [],
   "source": [
    "item_data_fn = 'item_data_embs_custom_' + w2v_mode + '.pkl'\n",
    "item_data_fp = os.path.join(processed_data_dir, item_data_fn)\n",
    "item_data.to_pickle(item_data_fp)"
   ]
  },
  {
   "cell_type": "code",
   "execution_count": 19,
   "metadata": {},
   "outputs": [],
   "source": [
    "item_data = item_data[['item_id', 'lang_category', 'title_embs']]\n",
    "\n",
    "item_data_embs_only_fn = 'item_data_embs_only_embs_custom_' + w2v_mode + '.pkl'\n",
    "item_data_embs_only_fp = os.path.join(processed_data_dir, item_data_embs_only_fn)\n",
    "item_data.to_pickle(item_data_embs_only_fp)"
   ]
  },
  {
   "cell_type": "markdown",
   "metadata": {},
   "source": [
    "#### maybe cluster some of these domains into larger domains (smaller ones)? "
   ]
  },
  {
   "cell_type": "code",
   "execution_count": 20,
   "metadata": {},
   "outputs": [],
   "source": [
    "# item_data.groupby('domain_id').item_id.count().sort_values().head(20)"
   ]
  },
  {
   "cell_type": "code",
   "execution_count": 21,
   "metadata": {},
   "outputs": [],
   "source": [
    "# item_data.groupby('domain_id').item_id.count().sort_values().tail(20)"
   ]
  },
  {
   "cell_type": "code",
   "execution_count": null,
   "metadata": {},
   "outputs": [],
   "source": []
  },
  {
   "cell_type": "markdown",
   "metadata": {},
   "source": [
    "## train_dataset.jl.gz"
   ]
  },
  {
   "cell_type": "code",
   "execution_count": 10,
   "metadata": {},
   "outputs": [
    {
     "name": "stdout",
     "output_type": "stream",
     "text": [
      "CPU times: user 3.87 s, sys: 1.2 s, total: 5.07 s\n",
      "Wall time: 5.61 s\n"
     ]
    }
   ],
   "source": [
    "%%time\n",
    "train = read_raw_save_processed('train_dataset.jl.gz', 'train_dataset.pkl')\n",
    "# save_true_labels(train)"
   ]
  },
  {
   "cell_type": "markdown",
   "metadata": {},
   "source": [
    "### checking condition (new, used)\n",
    "* 99.8% of the bought items are new\n",
    "* but there are 10% of used items, 89% are new, 1% not specified"
   ]
  },
  {
   "cell_type": "code",
   "execution_count": 11,
   "metadata": {},
   "outputs": [],
   "source": [
    "item_data = item_data[['item_id', 'condition', 'price']]"
   ]
  },
  {
   "cell_type": "code",
   "execution_count": 12,
   "metadata": {},
   "outputs": [
    {
     "data": {
      "text/plain": [
       "new              0.888129\n",
       "used             0.104456\n",
       "not_specified    0.007415\n",
       "Name: condition, dtype: float64"
      ]
     },
     "execution_count": 12,
     "metadata": {},
     "output_type": "execute_result"
    }
   ],
   "source": [
    "item_data.condition.value_counts(normalize = True)"
   ]
  },
  {
   "cell_type": "code",
   "execution_count": 13,
   "metadata": {},
   "outputs": [],
   "source": [
    "train = train[train.event_type != 'search']"
   ]
  },
  {
   "cell_type": "code",
   "execution_count": 14,
   "metadata": {},
   "outputs": [],
   "source": [
    "train['event_info'] = train.event_info.fillna(train.item_bought)"
   ]
  },
  {
   "cell_type": "code",
   "execution_count": 15,
   "metadata": {},
   "outputs": [],
   "source": [
    "train = pd.merge(train[['seq', 'event_info', 'in_nav', 'event_type']], item_data, left_on = 'event_info', right_on = 'item_id', how = 'left')"
   ]
  },
  {
   "cell_type": "code",
   "execution_count": 16,
   "metadata": {},
   "outputs": [
    {
     "data": {
      "text/plain": [
       "new              0.951745\n",
       "used             0.045156\n",
       "not_specified    0.003098\n",
       "Name: condition, dtype: float64"
      ]
     },
     "execution_count": 16,
     "metadata": {},
     "output_type": "execute_result"
    }
   ],
   "source": [
    "train.condition.value_counts(normalize = True)"
   ]
  },
  {
   "cell_type": "code",
   "execution_count": 17,
   "metadata": {},
   "outputs": [
    {
     "data": {
      "text/plain": [
       "new              0.998727\n",
       "used             0.000995\n",
       "not_specified    0.000278\n",
       "Name: condition, dtype: float64"
      ]
     },
     "execution_count": 17,
     "metadata": {},
     "output_type": "execute_result"
    }
   ],
   "source": [
    "train[train.event_type == 'buy'].condition.value_counts(normalize = True)"
   ]
  },
  {
   "cell_type": "code",
   "execution_count": 18,
   "metadata": {},
   "outputs": [],
   "source": [
    "condition = train.groupby('seq').condition.value_counts(normalize = True).unstack()"
   ]
  },
  {
   "cell_type": "code",
   "execution_count": 19,
   "metadata": {},
   "outputs": [
    {
     "data": {
      "text/html": [
       "<div>\n",
       "<style scoped>\n",
       "    .dataframe tbody tr th:only-of-type {\n",
       "        vertical-align: middle;\n",
       "    }\n",
       "\n",
       "    .dataframe tbody tr th {\n",
       "        vertical-align: top;\n",
       "    }\n",
       "\n",
       "    .dataframe thead th {\n",
       "        text-align: right;\n",
       "    }\n",
       "</style>\n",
       "<table border=\"1\" class=\"dataframe\">\n",
       "  <thead>\n",
       "    <tr style=\"text-align: right;\">\n",
       "      <th>condition</th>\n",
       "      <th>new</th>\n",
       "      <th>not_specified</th>\n",
       "      <th>used</th>\n",
       "    </tr>\n",
       "    <tr>\n",
       "      <th>seq</th>\n",
       "      <th></th>\n",
       "      <th></th>\n",
       "      <th></th>\n",
       "    </tr>\n",
       "  </thead>\n",
       "  <tbody>\n",
       "    <tr>\n",
       "      <th>0</th>\n",
       "      <td>1.000000</td>\n",
       "      <td>NaN</td>\n",
       "      <td>NaN</td>\n",
       "    </tr>\n",
       "    <tr>\n",
       "      <th>1</th>\n",
       "      <td>0.777778</td>\n",
       "      <td>0.111111</td>\n",
       "      <td>0.111111</td>\n",
       "    </tr>\n",
       "    <tr>\n",
       "      <th>2</th>\n",
       "      <td>1.000000</td>\n",
       "      <td>NaN</td>\n",
       "      <td>NaN</td>\n",
       "    </tr>\n",
       "    <tr>\n",
       "      <th>3</th>\n",
       "      <td>0.375000</td>\n",
       "      <td>NaN</td>\n",
       "      <td>0.625000</td>\n",
       "    </tr>\n",
       "    <tr>\n",
       "      <th>4</th>\n",
       "      <td>1.000000</td>\n",
       "      <td>NaN</td>\n",
       "      <td>NaN</td>\n",
       "    </tr>\n",
       "    <tr>\n",
       "      <th>...</th>\n",
       "      <td>...</td>\n",
       "      <td>...</td>\n",
       "      <td>...</td>\n",
       "    </tr>\n",
       "    <tr>\n",
       "      <th>413158</th>\n",
       "      <td>0.989011</td>\n",
       "      <td>NaN</td>\n",
       "      <td>0.010989</td>\n",
       "    </tr>\n",
       "    <tr>\n",
       "      <th>413159</th>\n",
       "      <td>1.000000</td>\n",
       "      <td>NaN</td>\n",
       "      <td>NaN</td>\n",
       "    </tr>\n",
       "    <tr>\n",
       "      <th>413160</th>\n",
       "      <td>1.000000</td>\n",
       "      <td>NaN</td>\n",
       "      <td>NaN</td>\n",
       "    </tr>\n",
       "    <tr>\n",
       "      <th>413161</th>\n",
       "      <td>1.000000</td>\n",
       "      <td>NaN</td>\n",
       "      <td>NaN</td>\n",
       "    </tr>\n",
       "    <tr>\n",
       "      <th>413162</th>\n",
       "      <td>1.000000</td>\n",
       "      <td>NaN</td>\n",
       "      <td>NaN</td>\n",
       "    </tr>\n",
       "  </tbody>\n",
       "</table>\n",
       "<p>413163 rows × 3 columns</p>\n",
       "</div>"
      ],
      "text/plain": [
       "condition       new  not_specified      used\n",
       "seq                                         \n",
       "0          1.000000            NaN       NaN\n",
       "1          0.777778       0.111111  0.111111\n",
       "2          1.000000            NaN       NaN\n",
       "3          0.375000            NaN  0.625000\n",
       "4          1.000000            NaN       NaN\n",
       "...             ...            ...       ...\n",
       "413158     0.989011            NaN  0.010989\n",
       "413159     1.000000            NaN       NaN\n",
       "413160     1.000000            NaN       NaN\n",
       "413161     1.000000            NaN       NaN\n",
       "413162     1.000000            NaN       NaN\n",
       "\n",
       "[413163 rows x 3 columns]"
      ]
     },
     "execution_count": 19,
     "metadata": {},
     "output_type": "execute_result"
    }
   ],
   "source": [
    "condition"
   ]
  },
  {
   "cell_type": "markdown",
   "metadata": {},
   "source": [
    "### checking price\n",
    "viewed items are 1.5 times higher than the price of the item actually bought (removed outliers)"
   ]
  },
  {
   "cell_type": "code",
   "execution_count": 20,
   "metadata": {},
   "outputs": [],
   "source": [
    "price = train.groupby('seq').price.agg([lambda x: x.iloc[:-1].mean(), lambda x: x.iloc[:-1].std() , 'last'])"
   ]
  },
  {
   "cell_type": "code",
   "execution_count": 21,
   "metadata": {},
   "outputs": [],
   "source": [
    "price.columns = ['view_mean', 'view_std', 'buy_price']"
   ]
  },
  {
   "cell_type": "code",
   "execution_count": 22,
   "metadata": {},
   "outputs": [],
   "source": [
    "price['delta'] = 100 * (price.view_mean - price.buy_price) / price.buy_price"
   ]
  },
  {
   "cell_type": "code",
   "execution_count": 23,
   "metadata": {},
   "outputs": [
    {
     "data": {
      "text/plain": [
       "count    3.863690e+05\n",
       "mean     1.196182e+05\n",
       "std      3.907464e+07\n",
       "min     -1.000000e+02\n",
       "0%      -1.000000e+02\n",
       "10%     -5.017000e+01\n",
       "50%      3.390000e+01\n",
       "90%      1.555930e+03\n",
       "95%      5.274990e+03\n",
       "max      2.400961e+10\n",
       "Name: delta, dtype: float64"
      ]
     },
     "execution_count": 23,
     "metadata": {},
     "output_type": "execute_result"
    }
   ],
   "source": [
    "price.delta.describe(percentiles = [0, 0.1, 0.5, 0.9, 0.95]).round(2)"
   ]
  },
  {
   "cell_type": "code",
   "execution_count": 24,
   "metadata": {},
   "outputs": [
    {
     "data": {
      "image/png": "[encoded data removed]",
      "text/plain": [
       "<Figure size 432x288 with 1 Axes>"
      ]
     },
     "metadata": {
      "needs_background": "light"
     },
     "output_type": "display_data"
    }
   ],
   "source": [
    "price.query(\"-5.017000e+01 < delta < 1.555930e+03\").delta.hist();"
   ]
  },
  {
   "cell_type": "code",
   "execution_count": 25,
   "metadata": {},
   "outputs": [
    {
     "data": {
      "text/plain": [
       "162.9324692294546"
      ]
     },
     "execution_count": 25,
     "metadata": {},
     "output_type": "execute_result"
    }
   ],
   "source": [
    "price.query(\"-5.017000e+01 < delta < 1.555930e+03\").delta.mean()"
   ]
  },
  {
   "cell_type": "code",
   "execution_count": 27,
   "metadata": {},
   "outputs": [],
   "source": [
    "price['view_gt_buy'] = price.view_mean > price.buy_price"
   ]
  },
  {
   "cell_type": "code",
   "execution_count": 28,
   "metadata": {},
   "outputs": [
    {
     "data": {
      "text/plain": [
       "True     0.592998\n",
       "False    0.407002\n",
       "Name: view_gt_buy, dtype: float64"
      ]
     },
     "execution_count": 28,
     "metadata": {},
     "output_type": "execute_result"
    }
   ],
   "source": [
    "price.view_gt_buy.value_counts(normalize = True)"
   ]
  },
  {
   "cell_type": "code",
   "execution_count": 36,
   "metadata": {},
   "outputs": [],
   "source": [
    "price['view_gt_2_times_buy'] = price.view_mean > (2 * price.buy_price)"
   ]
  },
  {
   "cell_type": "code",
   "execution_count": 37,
   "metadata": {},
   "outputs": [
    {
     "data": {
      "text/plain": [
       "False    0.641117\n",
       "True     0.358883\n",
       "Name: view_gt_2_times_buy, dtype: float64"
      ]
     },
     "execution_count": 37,
     "metadata": {},
     "output_type": "execute_result"
    }
   ],
   "source": [
    "price.view_gt_2_times_buy.value_counts(normalize = True)"
   ]
  },
  {
   "cell_type": "code",
   "execution_count": 38,
   "metadata": {},
   "outputs": [],
   "source": [
    "price['view_gt_half_of_buy'] = price.view_mean > (0.5 * price.buy_price)"
   ]
  },
  {
   "cell_type": "code",
   "execution_count": 39,
   "metadata": {},
   "outputs": [
    {
     "data": {
      "text/plain": [
       "True     0.840859\n",
       "False    0.159141\n",
       "Name: view_gt_half_of_buy, dtype: float64"
      ]
     },
     "execution_count": 39,
     "metadata": {},
     "output_type": "execute_result"
    }
   ],
   "source": [
    "price.view_gt_half_of_buy.value_counts(normalize = True)"
   ]
  },
  {
   "cell_type": "code",
   "execution_count": 35,
   "metadata": {},
   "outputs": [
    {
     "data": {
      "text/plain": [
       "count    1.413640e+05\n",
       "mean     3.529264e+01\n",
       "std      4.849086e+03\n",
       "min      1.000000e+00\n",
       "0%       1.000000e+00\n",
       "50%      1.361825e+00\n",
       "90%      4.388338e+00\n",
       "max      1.076514e+06\n",
       "dtype: float64"
      ]
     },
     "execution_count": 35,
     "metadata": {},
     "output_type": "execute_result"
    }
   ],
   "source": [
    "(price[~price.view_gt_buy].buy_price / price[~price.view_gt_buy].view_mean).describe(percentiles = (0, 0.5, 0.9))"
   ]
  },
  {
   "cell_type": "code",
   "execution_count": null,
   "metadata": {},
   "outputs": [],
   "source": []
  },
  {
   "cell_type": "code",
   "execution_count": null,
   "metadata": {},
   "outputs": [],
   "source": []
  },
  {
   "cell_type": "markdown",
   "metadata": {},
   "source": [
    "### 4% of the events correspond to the item bought"
   ]
  },
  {
   "cell_type": "code",
   "execution_count": 71,
   "metadata": {},
   "outputs": [
    {
     "data": {
      "text/plain": [
       "False    0.920317\n",
       "True     0.079683\n",
       "Name: in_nav, dtype: float64"
      ]
     },
     "execution_count": 71,
     "metadata": {},
     "output_type": "execute_result"
    }
   ],
   "source": [
    "train.in_nav.value_counts(normalize = True)"
   ]
  },
  {
   "cell_type": "markdown",
   "metadata": {},
   "source": [
    "### 30% of the items bought show up in the navigation"
   ]
  },
  {
   "cell_type": "code",
   "execution_count": 11,
   "metadata": {},
   "outputs": [
    {
     "data": {
      "text/plain": [
       "False    0.706116\n",
       "True     0.293884\n",
       "Name: in_nav, dtype: float64"
      ]
     },
     "execution_count": 11,
     "metadata": {},
     "output_type": "execute_result"
    }
   ],
   "source": [
    "train.groupby('seq').in_nav.any().value_counts(normalize = True)"
   ]
  },
  {
   "cell_type": "code",
   "execution_count": 12,
   "metadata": {},
   "outputs": [
    {
     "data": {
      "text/html": [
       "<div>\n",
       "<style scoped>\n",
       "    .dataframe tbody tr th:only-of-type {\n",
       "        vertical-align: middle;\n",
       "    }\n",
       "\n",
       "    .dataframe tbody tr th {\n",
       "        vertical-align: top;\n",
       "    }\n",
       "\n",
       "    .dataframe thead th {\n",
       "        text-align: right;\n",
       "    }\n",
       "</style>\n",
       "<table border=\"1\" class=\"dataframe\">\n",
       "  <thead>\n",
       "    <tr style=\"text-align: right;\">\n",
       "      <th></th>\n",
       "      <th>seq</th>\n",
       "      <th>item_bought</th>\n",
       "      <th>event_info</th>\n",
       "      <th>event_timestamp</th>\n",
       "      <th>event_type</th>\n",
       "      <th>time_diff</th>\n",
       "      <th>lang_seq</th>\n",
       "      <th>in_nav</th>\n",
       "      <th>in_nav_pred</th>\n",
       "    </tr>\n",
       "  </thead>\n",
       "  <tbody>\n",
       "    <tr>\n",
       "      <th>2392969</th>\n",
       "      <td>121</td>\n",
       "      <td>388604</td>\n",
       "      <td>MINOXIDIL</td>\n",
       "      <td>2019-10-13 15:33:41</td>\n",
       "      <td>search</td>\n",
       "      <td>NaN</td>\n",
       "      <td>es</td>\n",
       "      <td>False</td>\n",
       "      <td>0.478697</td>\n",
       "    </tr>\n",
       "    <tr>\n",
       "      <th>2392970</th>\n",
       "      <td>121</td>\n",
       "      <td>388604</td>\n",
       "      <td>MINOXIDIL</td>\n",
       "      <td>2019-10-13 17:08:36</td>\n",
       "      <td>search</td>\n",
       "      <td>5695.0</td>\n",
       "      <td>es</td>\n",
       "      <td>False</td>\n",
       "      <td>0.478697</td>\n",
       "    </tr>\n",
       "    <tr>\n",
       "      <th>2392971</th>\n",
       "      <td>121</td>\n",
       "      <td>388604</td>\n",
       "      <td>429456</td>\n",
       "      <td>2019-10-13 17:09:04</td>\n",
       "      <td>view</td>\n",
       "      <td>28.0</td>\n",
       "      <td>es</td>\n",
       "      <td>False</td>\n",
       "      <td>0.478697</td>\n",
       "    </tr>\n",
       "    <tr>\n",
       "      <th>2392972</th>\n",
       "      <td>121</td>\n",
       "      <td>388604</td>\n",
       "      <td>429456</td>\n",
       "      <td>2019-10-13 17:09:43</td>\n",
       "      <td>view</td>\n",
       "      <td>39.0</td>\n",
       "      <td>es</td>\n",
       "      <td>False</td>\n",
       "      <td>0.478697</td>\n",
       "    </tr>\n",
       "    <tr>\n",
       "      <th>2392973</th>\n",
       "      <td>121</td>\n",
       "      <td>388604</td>\n",
       "      <td>429456</td>\n",
       "      <td>2019-10-13 17:10:37</td>\n",
       "      <td>view</td>\n",
       "      <td>54.0</td>\n",
       "      <td>es</td>\n",
       "      <td>False</td>\n",
       "      <td>0.478697</td>\n",
       "    </tr>\n",
       "    <tr>\n",
       "      <th>2392974</th>\n",
       "      <td>121</td>\n",
       "      <td>388604</td>\n",
       "      <td>MINOXIDIL</td>\n",
       "      <td>2019-10-13 17:10:38</td>\n",
       "      <td>search</td>\n",
       "      <td>1.0</td>\n",
       "      <td>es</td>\n",
       "      <td>False</td>\n",
       "      <td>0.478697</td>\n",
       "    </tr>\n",
       "    <tr>\n",
       "      <th>2392975</th>\n",
       "      <td>121</td>\n",
       "      <td>388604</td>\n",
       "      <td>625179</td>\n",
       "      <td>2019-10-13 17:10:46</td>\n",
       "      <td>view</td>\n",
       "      <td>8.0</td>\n",
       "      <td>es</td>\n",
       "      <td>False</td>\n",
       "      <td>0.478697</td>\n",
       "    </tr>\n",
       "    <tr>\n",
       "      <th>2392976</th>\n",
       "      <td>121</td>\n",
       "      <td>388604</td>\n",
       "      <td>MINOXIDIL</td>\n",
       "      <td>2019-10-13 17:10:58</td>\n",
       "      <td>search</td>\n",
       "      <td>12.0</td>\n",
       "      <td>es</td>\n",
       "      <td>False</td>\n",
       "      <td>0.478697</td>\n",
       "    </tr>\n",
       "    <tr>\n",
       "      <th>2392977</th>\n",
       "      <td>121</td>\n",
       "      <td>388604</td>\n",
       "      <td>410942</td>\n",
       "      <td>2019-10-13 17:11:45</td>\n",
       "      <td>view</td>\n",
       "      <td>47.0</td>\n",
       "      <td>es</td>\n",
       "      <td>False</td>\n",
       "      <td>0.478697</td>\n",
       "    </tr>\n",
       "    <tr>\n",
       "      <th>2392978</th>\n",
       "      <td>121</td>\n",
       "      <td>388604</td>\n",
       "      <td>410942</td>\n",
       "      <td>2019-10-13 17:12:29</td>\n",
       "      <td>view</td>\n",
       "      <td>44.0</td>\n",
       "      <td>es</td>\n",
       "      <td>False</td>\n",
       "      <td>0.478697</td>\n",
       "    </tr>\n",
       "    <tr>\n",
       "      <th>2392979</th>\n",
       "      <td>121</td>\n",
       "      <td>388604</td>\n",
       "      <td>MINOXIDIL</td>\n",
       "      <td>2019-10-13 17:12:31</td>\n",
       "      <td>search</td>\n",
       "      <td>2.0</td>\n",
       "      <td>es</td>\n",
       "      <td>False</td>\n",
       "      <td>0.478697</td>\n",
       "    </tr>\n",
       "    <tr>\n",
       "      <th>2392980</th>\n",
       "      <td>121</td>\n",
       "      <td>388604</td>\n",
       "      <td>1282024</td>\n",
       "      <td>2019-10-13 17:12:41</td>\n",
       "      <td>view</td>\n",
       "      <td>10.0</td>\n",
       "      <td>es</td>\n",
       "      <td>False</td>\n",
       "      <td>0.478697</td>\n",
       "    </tr>\n",
       "    <tr>\n",
       "      <th>2392981</th>\n",
       "      <td>121</td>\n",
       "      <td>388604</td>\n",
       "      <td>MINOXIDIL</td>\n",
       "      <td>2019-10-13 17:12:51</td>\n",
       "      <td>search</td>\n",
       "      <td>10.0</td>\n",
       "      <td>es</td>\n",
       "      <td>False</td>\n",
       "      <td>0.478697</td>\n",
       "    </tr>\n",
       "    <tr>\n",
       "      <th>2392982</th>\n",
       "      <td>121</td>\n",
       "      <td>388604</td>\n",
       "      <td>388604</td>\n",
       "      <td>2019-10-13 17:13:08</td>\n",
       "      <td>view</td>\n",
       "      <td>17.0</td>\n",
       "      <td>es</td>\n",
       "      <td>True</td>\n",
       "      <td>0.478697</td>\n",
       "    </tr>\n",
       "    <tr>\n",
       "      <th>2392983</th>\n",
       "      <td>121</td>\n",
       "      <td>388604</td>\n",
       "      <td>388604</td>\n",
       "      <td>2019-10-13 17:13:56</td>\n",
       "      <td>view</td>\n",
       "      <td>48.0</td>\n",
       "      <td>es</td>\n",
       "      <td>True</td>\n",
       "      <td>0.478697</td>\n",
       "    </tr>\n",
       "    <tr>\n",
       "      <th>2392984</th>\n",
       "      <td>121</td>\n",
       "      <td>388604</td>\n",
       "      <td>388604</td>\n",
       "      <td>2019-10-13 17:15:01</td>\n",
       "      <td>view</td>\n",
       "      <td>65.0</td>\n",
       "      <td>es</td>\n",
       "      <td>True</td>\n",
       "      <td>0.478697</td>\n",
       "    </tr>\n",
       "    <tr>\n",
       "      <th>2392985</th>\n",
       "      <td>121</td>\n",
       "      <td>388604</td>\n",
       "      <td>MINOXIDIL</td>\n",
       "      <td>2019-10-13 17:15:02</td>\n",
       "      <td>search</td>\n",
       "      <td>1.0</td>\n",
       "      <td>es</td>\n",
       "      <td>False</td>\n",
       "      <td>0.478697</td>\n",
       "    </tr>\n",
       "    <tr>\n",
       "      <th>2392986</th>\n",
       "      <td>121</td>\n",
       "      <td>388604</td>\n",
       "      <td>429456</td>\n",
       "      <td>2019-10-13 17:15:04</td>\n",
       "      <td>view</td>\n",
       "      <td>2.0</td>\n",
       "      <td>es</td>\n",
       "      <td>False</td>\n",
       "      <td>0.478697</td>\n",
       "    </tr>\n",
       "    <tr>\n",
       "      <th>2392987</th>\n",
       "      <td>121</td>\n",
       "      <td>388604</td>\n",
       "      <td>429456</td>\n",
       "      <td>2019-10-13 17:15:18</td>\n",
       "      <td>view</td>\n",
       "      <td>14.0</td>\n",
       "      <td>es</td>\n",
       "      <td>False</td>\n",
       "      <td>0.478697</td>\n",
       "    </tr>\n",
       "    <tr>\n",
       "      <th>2392988</th>\n",
       "      <td>121</td>\n",
       "      <td>388604</td>\n",
       "      <td>WHEY PROTEIN</td>\n",
       "      <td>2019-10-13 17:15:28</td>\n",
       "      <td>search</td>\n",
       "      <td>10.0</td>\n",
       "      <td>es</td>\n",
       "      <td>False</td>\n",
       "      <td>0.478697</td>\n",
       "    </tr>\n",
       "    <tr>\n",
       "      <th>2392989</th>\n",
       "      <td>121</td>\n",
       "      <td>388604</td>\n",
       "      <td>514205</td>\n",
       "      <td>2019-10-13 17:16:26</td>\n",
       "      <td>view</td>\n",
       "      <td>58.0</td>\n",
       "      <td>es</td>\n",
       "      <td>False</td>\n",
       "      <td>0.478697</td>\n",
       "    </tr>\n",
       "    <tr>\n",
       "      <th>2392990</th>\n",
       "      <td>121</td>\n",
       "      <td>388604</td>\n",
       "      <td>514205</td>\n",
       "      <td>2019-10-13 17:17:42</td>\n",
       "      <td>view</td>\n",
       "      <td>76.0</td>\n",
       "      <td>es</td>\n",
       "      <td>False</td>\n",
       "      <td>0.478697</td>\n",
       "    </tr>\n",
       "    <tr>\n",
       "      <th>2392991</th>\n",
       "      <td>121</td>\n",
       "      <td>388604</td>\n",
       "      <td>514205</td>\n",
       "      <td>2019-10-13 17:17:49</td>\n",
       "      <td>view</td>\n",
       "      <td>7.0</td>\n",
       "      <td>es</td>\n",
       "      <td>False</td>\n",
       "      <td>0.478697</td>\n",
       "    </tr>\n",
       "    <tr>\n",
       "      <th>2392992</th>\n",
       "      <td>121</td>\n",
       "      <td>388604</td>\n",
       "      <td>NaN</td>\n",
       "      <td>NaT</td>\n",
       "      <td>buy</td>\n",
       "      <td>NaN</td>\n",
       "      <td>es</td>\n",
       "      <td>False</td>\n",
       "      <td>0.478697</td>\n",
       "    </tr>\n",
       "  </tbody>\n",
       "</table>\n",
       "</div>"
      ],
      "text/plain": [
       "         seq  item_bought    event_info     event_timestamp event_type  \\\n",
       "2392969  121       388604     MINOXIDIL 2019-10-13 15:33:41     search   \n",
       "2392970  121       388604     MINOXIDIL 2019-10-13 17:08:36     search   \n",
       "2392971  121       388604        429456 2019-10-13 17:09:04       view   \n",
       "2392972  121       388604        429456 2019-10-13 17:09:43       view   \n",
       "2392973  121       388604        429456 2019-10-13 17:10:37       view   \n",
       "2392974  121       388604     MINOXIDIL 2019-10-13 17:10:38     search   \n",
       "2392975  121       388604        625179 2019-10-13 17:10:46       view   \n",
       "2392976  121       388604     MINOXIDIL 2019-10-13 17:10:58     search   \n",
       "2392977  121       388604        410942 2019-10-13 17:11:45       view   \n",
       "2392978  121       388604        410942 2019-10-13 17:12:29       view   \n",
       "2392979  121       388604     MINOXIDIL 2019-10-13 17:12:31     search   \n",
       "2392980  121       388604       1282024 2019-10-13 17:12:41       view   \n",
       "2392981  121       388604     MINOXIDIL 2019-10-13 17:12:51     search   \n",
       "2392982  121       388604        388604 2019-10-13 17:13:08       view   \n",
       "2392983  121       388604        388604 2019-10-13 17:13:56       view   \n",
       "2392984  121       388604        388604 2019-10-13 17:15:01       view   \n",
       "2392985  121       388604     MINOXIDIL 2019-10-13 17:15:02     search   \n",
       "2392986  121       388604        429456 2019-10-13 17:15:04       view   \n",
       "2392987  121       388604        429456 2019-10-13 17:15:18       view   \n",
       "2392988  121       388604  WHEY PROTEIN 2019-10-13 17:15:28     search   \n",
       "2392989  121       388604        514205 2019-10-13 17:16:26       view   \n",
       "2392990  121       388604        514205 2019-10-13 17:17:42       view   \n",
       "2392991  121       388604        514205 2019-10-13 17:17:49       view   \n",
       "2392992  121       388604           NaN                 NaT        buy   \n",
       "\n",
       "         time_diff lang_seq  in_nav  in_nav_pred  \n",
       "2392969        NaN       es   False     0.478697  \n",
       "2392970     5695.0       es   False     0.478697  \n",
       "2392971       28.0       es   False     0.478697  \n",
       "2392972       39.0       es   False     0.478697  \n",
       "2392973       54.0       es   False     0.478697  \n",
       "2392974        1.0       es   False     0.478697  \n",
       "2392975        8.0       es   False     0.478697  \n",
       "2392976       12.0       es   False     0.478697  \n",
       "2392977       47.0       es   False     0.478697  \n",
       "2392978       44.0       es   False     0.478697  \n",
       "2392979        2.0       es   False     0.478697  \n",
       "2392980       10.0       es   False     0.478697  \n",
       "2392981       10.0       es   False     0.478697  \n",
       "2392982       17.0       es    True     0.478697  \n",
       "2392983       48.0       es    True     0.478697  \n",
       "2392984       65.0       es    True     0.478697  \n",
       "2392985        1.0       es   False     0.478697  \n",
       "2392986        2.0       es   False     0.478697  \n",
       "2392987       14.0       es   False     0.478697  \n",
       "2392988       10.0       es   False     0.478697  \n",
       "2392989       58.0       es   False     0.478697  \n",
       "2392990       76.0       es   False     0.478697  \n",
       "2392991        7.0       es   False     0.478697  \n",
       "2392992        NaN       es   False     0.478697  "
      ]
     },
     "execution_count": 12,
     "metadata": {},
     "output_type": "execute_result"
    }
   ],
   "source": [
    "train.query(\"seq == 121\")#.time_diff"
   ]
  },
  {
   "cell_type": "code",
   "execution_count": null,
   "metadata": {},
   "outputs": [],
   "source": []
  },
  {
   "cell_type": "markdown",
   "metadata": {},
   "source": [
    "### 49% of the domain_id of items bought show up in the navigated domain_id's"
   ]
  },
  {
   "cell_type": "code",
   "execution_count": 13,
   "metadata": {},
   "outputs": [],
   "source": [
    "from matplotlib_venn import venn2"
   ]
  },
  {
   "cell_type": "code",
   "execution_count": 14,
   "metadata": {},
   "outputs": [],
   "source": [
    "item_domain_fn = 'item_domain.pkl'\n",
    "item_domain_fp = os.path.join(processed_data_dir, item_domain_fn)\n",
    "item_domain = pd.read_pickle(item_domain_fp)"
   ]
  },
  {
   "cell_type": "markdown",
   "metadata": {},
   "source": [
    "#### prepare `bought_domain_id` & `nav_domain_id` for seq's in train"
   ]
  },
  {
   "cell_type": "code",
   "execution_count": 15,
   "metadata": {},
   "outputs": [],
   "source": [
    "train = pd.merge(train, item_domain[['item_id', 'domain_id']], how = 'left', \n",
    "                 left_on = 'item_bought', right_on = 'item_id')\n",
    "\n",
    "train.rename(columns = {'domain_id': 'bought_domain_id'}, inplace = True)\n",
    "\n",
    "train = pd.merge(train, item_domain[['item_id', 'domain_id']], how = 'left', \n",
    "                 left_on = 'event_info', right_on = 'item_id')\n",
    "\n",
    "train.rename(columns = {'domain_id': 'nav_domain_id'}, inplace = True)\n",
    "\n",
    "train.drop(['item_id_x', 'item_id_y'], axis = 1, inplace = True)\n",
    "\n",
    "train['in_nav_domain'] = train.bought_domain_id == train.nav_domain_id"
   ]
  },
  {
   "cell_type": "code",
   "execution_count": 16,
   "metadata": {},
   "outputs": [
    {
     "data": {
      "text/plain": [
       "False    0.506594\n",
       "True     0.493406\n",
       "Name: in_nav_domain, dtype: float64"
      ]
     },
     "execution_count": 16,
     "metadata": {},
     "output_type": "execute_result"
    }
   ],
   "source": [
    "train.groupby('seq').in_nav_domain.any().value_counts(normalize = True)"
   ]
  },
  {
   "cell_type": "code",
   "execution_count": 17,
   "metadata": {},
   "outputs": [
    {
     "data": {
      "image/png": "[encoded data removed]",
      "text/plain": [
       "<Figure size 432x288 with 1 Axes>"
      ]
     },
     "metadata": {},
     "output_type": "display_data"
    }
   ],
   "source": [
    "nav_domains = set(train.nav_domain_id.unique())\n",
    "bought_domains = set(train.bought_domain_id.unique())\n",
    "\n",
    "venn2([nav_domains, bought_domains], ('nav_domains', 'bought_domains'))\n",
    "plt.show()"
   ]
  },
  {
   "cell_type": "markdown",
   "metadata": {},
   "source": [
    "### top 10 bought domains\n",
    "```\n",
    "MLB-CELLPHONES                 25070\n",
    "MLB-SNEAKERS                   14608\n",
    "MLB-SUPPLEMENTS                 9562\n",
    "MLB-HEADPHONES                  9053\n",
    "MLB-SMARTWATCHES                7963\n",
    "MLB-DOLLS                       4915\n",
    "MLB-VIDEO_GAMES                 4637\n",
    "MLM-HEADPHONES                  4603\n",
    "MLB-BOOTS_AND_BOOTIES           4325\n",
    "MLB-STREAMING_MEDIA_DEVICES     4104\n",
    "```"
   ]
  },
  {
   "cell_type": "code",
   "execution_count": 18,
   "metadata": {},
   "outputs": [
    {
     "data": {
      "text/plain": [
       "MLB-CELLPHONES                 25070\n",
       "MLB-SNEAKERS                   14608\n",
       "MLB-SUPPLEMENTS                 9562\n",
       "MLB-HEADPHONES                  9053\n",
       "MLB-SMARTWATCHES                7963\n",
       "MLB-DOLLS                       4915\n",
       "MLB-VIDEO_GAMES                 4637\n",
       "MLM-HEADPHONES                  4603\n",
       "MLB-BOOTS_AND_BOOTIES           4325\n",
       "MLB-STREAMING_MEDIA_DEVICES     4104\n",
       "Name: bought_domain_id, dtype: int64"
      ]
     },
     "execution_count": 18,
     "metadata": {},
     "output_type": "execute_result"
    }
   ],
   "source": [
    "top10_bought_domains = train.groupby('seq').bought_domain_id.last().value_counts().head(10)\n",
    "top10_bought_domains"
   ]
  },
  {
   "cell_type": "markdown",
   "metadata": {},
   "source": [
    "### quantity of items in each of the top10 bought domains\n",
    "```\n",
    "MLB-CELLPHONES                 38390\n",
    "MLB-SNEAKERS                   32636\n",
    "MLB-SUPPLEMENTS                22351\n",
    "MLB-VIDEO_GAMES                12742\n",
    "MLB-HEADPHONES                 11328\n",
    "MLB-DOLLS                      10023\n",
    "MLB-SMARTWATCHES                8721\n",
    "MLB-BOOTS_AND_BOOTIES           8564\n",
    "MLM-HEADPHONES                  5731\n",
    "MLB-STREAMING_MEDIA_DEVICES     4807\n",
    "```"
   ]
  },
  {
   "cell_type": "code",
   "execution_count": 19,
   "metadata": {},
   "outputs": [
    {
     "data": {
      "text/plain": [
       "MLB-CELLPHONES                 38390\n",
       "MLB-SNEAKERS                   32636\n",
       "MLB-SUPPLEMENTS                22351\n",
       "MLB-VIDEO_GAMES                12742\n",
       "MLB-HEADPHONES                 11328\n",
       "MLB-DOLLS                      10023\n",
       "MLB-SMARTWATCHES                8721\n",
       "MLB-BOOTS_AND_BOOTIES           8564\n",
       "MLM-HEADPHONES                  5731\n",
       "MLB-STREAMING_MEDIA_DEVICES     4807\n",
       "Name: domain_id, dtype: int64"
      ]
     },
     "execution_count": 19,
     "metadata": {},
     "output_type": "execute_result"
    }
   ],
   "source": [
    "item_domain[item_domain.domain_id.isin(top10_bought_domains.index)].domain_id.value_counts()"
   ]
  },
  {
   "cell_type": "markdown",
   "metadata": {},
   "source": [
    "#### build `target_items_by_nav_domain`"
   ]
  },
  {
   "cell_type": "code",
   "execution_count": 22,
   "metadata": {},
   "outputs": [],
   "source": [
    "# %%time\n",
    "# unique_items_by_domain_id = item_domain.groupby('domain_id').item_id.unique()\n",
    "# unique_items_by_domain_id = unique_items_by_domain_id.reset_index()\n",
    "\n",
    "# unique_bought_doms_by_nav_doms = train.groupby('nav_domain_id').bought_domain_id.unique()\n",
    "# unique_bought_doms_by_nav_doms = unique_bought_doms_by_nav_doms.explode()\n",
    "# unique_bought_doms_by_nav_doms = unique_bought_doms_by_nav_doms.reset_index()\n",
    "\n",
    "# target_items_by_nav_domain = pd.merge(unique_bought_doms_by_nav_doms, unique_items_by_domain_id, how = 'left',\n",
    "#                                          left_on = 'bought_domain_id', right_on = 'domain_id')\n",
    "\n",
    "# target_items_by_nav_domain = target_items_by_nav_domain.groupby('nav_domain_id').item_id.agg(list)\n",
    "\n",
    "# target_items_by_nav_domain = target_items_by_nav_domain.apply(lambda x: np.concatenate(x, axis = None))\n",
    "\n",
    "# # target_items_by_nav_domain = target_items_by_nav_domain.reset_index()\n",
    "\n",
    "# target_items_by_nav_domain = target_items_by_nav_domain.reset_index()\n",
    "\n",
    "# target_items_by_nav_domain['lang'] = target_items_by_nav_domain.nav_domain_id.str[:3].replace({'MLM': 'es', 'MLB': 'pt'})\n",
    "\n",
    "# for lang in ['pt', 'es']:\n",
    "#     target_items_by_nav_domain_fn = lang + '_target_items_by_nav_domain.pkl'\n",
    "#     target_items_by_nav_domain_fp = os.path.join(processed_data_dir, target_items_by_nav_domain_fn)\n",
    "#     target_items_by_nav_domain[target_items_by_nav_domain.lang == lang].to_pickle(target_items_by_nav_domain_fp)"
   ]
  },
  {
   "cell_type": "markdown",
   "metadata": {},
   "source": [
    "#### exploring MLB-CELLPHONES\n",
    "MLB-CELLPHONES                 25070 - seqs bought this domain id "
   ]
  },
  {
   "cell_type": "code",
   "execution_count": 21,
   "metadata": {},
   "outputs": [],
   "source": [
    "cell_train = train[train.bought_domain_id == 'MLB-CELLPHONES']"
   ]
  },
  {
   "cell_type": "code",
   "execution_count": 36,
   "metadata": {},
   "outputs": [
    {
     "data": {
      "text/plain": [
       "seq\n",
       "55978      True\n",
       "270572     True\n",
       "250362    False\n",
       "394808     True\n",
       "252005     True\n",
       "70735      True\n",
       "5199       True\n",
       "8810       True\n",
       "335964     True\n",
       "146562     True\n",
       "Name: in_nav_domain, dtype: bool"
      ]
     },
     "execution_count": 36,
     "metadata": {},
     "output_type": "execute_result"
    }
   ],
   "source": [
    "cell_train.groupby('seq').in_nav_domain.any().sample(10)#.value_counts(normalize = True)"
   ]
  },
  {
   "cell_type": "code",
   "execution_count": null,
   "metadata": {},
   "outputs": [],
   "source": []
  },
  {
   "cell_type": "code",
   "execution_count": null,
   "metadata": {},
   "outputs": [],
   "source": []
  },
  {
   "cell_type": "code",
   "execution_count": null,
   "metadata": {},
   "outputs": [],
   "source": []
  },
  {
   "cell_type": "code",
   "execution_count": null,
   "metadata": {},
   "outputs": [],
   "source": []
  },
  {
   "cell_type": "markdown",
   "metadata": {},
   "source": [
    "## test_dataset.jl.gz"
   ]
  },
  {
   "cell_type": "code",
   "execution_count": 11,
   "metadata": {},
   "outputs": [
    {
     "name": "stdout",
     "output_type": "stream",
     "text": [
      "CPU times: user 1.27 s, sys: 513 ms, total: 1.79 s\n",
      "Wall time: 1.85 s\n"
     ]
    }
   ],
   "source": [
    "%%time\n",
    "test = read_raw_save_processed('test_dataset.jl.gz', 'test_dataset.pkl')"
   ]
  },
  {
   "cell_type": "code",
   "execution_count": 9,
   "metadata": {},
   "outputs": [],
   "source": [
    "target_items_by_nav_domain_fn = 'target_items_by_nav_domain.pkl'\n",
    "target_items_by_nav_domain_fp = os.path.join(processed_data_dir, target_items_by_nav_domain_fn)\n",
    "target_items_by_nav_domain = pd.read_pickle(target_items_by_nav_domain_fp)"
   ]
  },
  {
   "cell_type": "code",
   "execution_count": 10,
   "metadata": {},
   "outputs": [
    {
     "data": {
      "text/html": [
       "<div>\n",
       "<style scoped>\n",
       "    .dataframe tbody tr th:only-of-type {\n",
       "        vertical-align: middle;\n",
       "    }\n",
       "\n",
       "    .dataframe tbody tr th {\n",
       "        vertical-align: top;\n",
       "    }\n",
       "\n",
       "    .dataframe thead th {\n",
       "        text-align: right;\n",
       "    }\n",
       "</style>\n",
       "<table border=\"1\" class=\"dataframe\">\n",
       "  <thead>\n",
       "    <tr style=\"text-align: right;\">\n",
       "      <th></th>\n",
       "      <th>seq</th>\n",
       "      <th>event_info</th>\n",
       "      <th>event_timestamp</th>\n",
       "      <th>event_type</th>\n",
       "      <th>time_diff</th>\n",
       "      <th>lang_seq</th>\n",
       "    </tr>\n",
       "  </thead>\n",
       "  <tbody>\n",
       "    <tr>\n",
       "      <th>0</th>\n",
       "      <td>58988</td>\n",
       "      <td>LENOVO PB2 650</td>\n",
       "      <td>2019-10-26 01:42:17</td>\n",
       "      <td>search</td>\n",
       "      <td>NaN</td>\n",
       "      <td>NaN</td>\n",
       "    </tr>\n",
       "    <tr>\n",
       "      <th>1</th>\n",
       "      <td>169158</td>\n",
       "      <td>1958786</td>\n",
       "      <td>2019-10-07 20:49:29</td>\n",
       "      <td>view</td>\n",
       "      <td>NaN</td>\n",
       "      <td>pt</td>\n",
       "    </tr>\n",
       "    <tr>\n",
       "      <th>2</th>\n",
       "      <td>132866</td>\n",
       "      <td>278718</td>\n",
       "      <td>2019-10-23 20:29:55</td>\n",
       "      <td>view</td>\n",
       "      <td>NaN</td>\n",
       "      <td>pt</td>\n",
       "    </tr>\n",
       "    <tr>\n",
       "      <th>3</th>\n",
       "      <td>46124</td>\n",
       "      <td>1331730</td>\n",
       "      <td>2019-10-28 10:47:10</td>\n",
       "      <td>view</td>\n",
       "      <td>NaN</td>\n",
       "      <td>pt</td>\n",
       "    </tr>\n",
       "    <tr>\n",
       "      <th>4</th>\n",
       "      <td>145896</td>\n",
       "      <td>LUCCAS NETO</td>\n",
       "      <td>2019-10-12 12:06:36</td>\n",
       "      <td>search</td>\n",
       "      <td>NaN</td>\n",
       "      <td>NaN</td>\n",
       "    </tr>\n",
       "    <tr>\n",
       "      <th>...</th>\n",
       "      <td>...</td>\n",
       "      <td>...</td>\n",
       "      <td>...</td>\n",
       "      <td>...</td>\n",
       "      <td>...</td>\n",
       "      <td>...</td>\n",
       "    </tr>\n",
       "    <tr>\n",
       "      <th>5187749</th>\n",
       "      <td>64486</td>\n",
       "      <td>478355</td>\n",
       "      <td>2019-10-01 04:26:02</td>\n",
       "      <td>view</td>\n",
       "      <td>44.0</td>\n",
       "      <td>pt</td>\n",
       "    </tr>\n",
       "    <tr>\n",
       "      <th>5187750</th>\n",
       "      <td>64486</td>\n",
       "      <td>478355</td>\n",
       "      <td>2019-10-01 04:26:21</td>\n",
       "      <td>view</td>\n",
       "      <td>19.0</td>\n",
       "      <td>pt</td>\n",
       "    </tr>\n",
       "    <tr>\n",
       "      <th>5187751</th>\n",
       "      <td>64486</td>\n",
       "      <td>478355</td>\n",
       "      <td>2019-10-01 04:26:29</td>\n",
       "      <td>view</td>\n",
       "      <td>8.0</td>\n",
       "      <td>pt</td>\n",
       "    </tr>\n",
       "    <tr>\n",
       "      <th>5187752</th>\n",
       "      <td>64486</td>\n",
       "      <td>478355</td>\n",
       "      <td>2019-10-01 04:26:44</td>\n",
       "      <td>view</td>\n",
       "      <td>15.0</td>\n",
       "      <td>pt</td>\n",
       "    </tr>\n",
       "    <tr>\n",
       "      <th>5187753</th>\n",
       "      <td>64486</td>\n",
       "      <td>PLACA SOLAR 12V 100W</td>\n",
       "      <td>2019-10-01 04:28:53</td>\n",
       "      <td>search</td>\n",
       "      <td>129.0</td>\n",
       "      <td>pt</td>\n",
       "    </tr>\n",
       "  </tbody>\n",
       "</table>\n",
       "<p>5187754 rows × 6 columns</p>\n",
       "</div>"
      ],
      "text/plain": [
       "            seq            event_info     event_timestamp event_type  \\\n",
       "0         58988        LENOVO PB2 650 2019-10-26 01:42:17     search   \n",
       "1        169158               1958786 2019-10-07 20:49:29       view   \n",
       "2        132866                278718 2019-10-23 20:29:55       view   \n",
       "3         46124               1331730 2019-10-28 10:47:10       view   \n",
       "4        145896           LUCCAS NETO 2019-10-12 12:06:36     search   \n",
       "...         ...                   ...                 ...        ...   \n",
       "5187749   64486                478355 2019-10-01 04:26:02       view   \n",
       "5187750   64486                478355 2019-10-01 04:26:21       view   \n",
       "5187751   64486                478355 2019-10-01 04:26:29       view   \n",
       "5187752   64486                478355 2019-10-01 04:26:44       view   \n",
       "5187753   64486  PLACA SOLAR 12V 100W 2019-10-01 04:28:53     search   \n",
       "\n",
       "         time_diff lang_seq  \n",
       "0              NaN      NaN  \n",
       "1              NaN       pt  \n",
       "2              NaN       pt  \n",
       "3              NaN       pt  \n",
       "4              NaN      NaN  \n",
       "...            ...      ...  \n",
       "5187749       44.0       pt  \n",
       "5187750       19.0       pt  \n",
       "5187751        8.0       pt  \n",
       "5187752       15.0       pt  \n",
       "5187753      129.0       pt  \n",
       "\n",
       "[5187754 rows x 6 columns]"
      ]
     },
     "execution_count": 10,
     "metadata": {},
     "output_type": "execute_result"
    }
   ],
   "source": [
    "test"
   ]
  },
  {
   "cell_type": "code",
   "execution_count": null,
   "metadata": {},
   "outputs": [],
   "source": []
  },
  {
   "cell_type": "code",
   "execution_count": null,
   "metadata": {},
   "outputs": [],
   "source": []
  },
  {
   "cell_type": "code",
   "execution_count": null,
   "metadata": {},
   "outputs": [],
   "source": []
  },
  {
   "cell_type": "code",
   "execution_count": null,
   "metadata": {},
   "outputs": [],
   "source": []
  },
  {
   "cell_type": "code",
   "execution_count": null,
   "metadata": {},
   "outputs": [],
   "source": []
  },
  {
   "cell_type": "markdown",
   "metadata": {},
   "source": [
    "_____"
   ]
  },
  {
   "cell_type": "code",
   "execution_count": null,
   "metadata": {},
   "outputs": [],
   "source": []
  },
  {
   "cell_type": "markdown",
   "metadata": {},
   "source": [
    "* test_dataset.jl.gz\n",
    "* sample_submission.csv"
   ]
  },
  {
   "cell_type": "markdown",
   "metadata": {},
   "source": [
    "### other train feature engineerings (estimate prob of in_nav purchase)"
   ]
  },
  {
   "cell_type": "code",
   "execution_count": 51,
   "metadata": {},
   "outputs": [],
   "source": [
    "# t = train.groupby('seq').in_nav.any().reset_index()\n",
    "# train.drop('in_nav', axis = 1, inplace = True)\n",
    "# train = pd.merge(train, t, how = 'left')"
   ]
  },
  {
   "cell_type": "code",
   "execution_count": 10,
   "metadata": {},
   "outputs": [],
   "source": [
    "# train['time_diff_intra_session'] = [td if td < 1800 else 0 for td in train.time_diff]"
   ]
  },
  {
   "cell_type": "code",
   "execution_count": 55,
   "metadata": {},
   "outputs": [],
   "source": [
    "# from sklearn.linear_model import LogisticRegression\n",
    "# from sklearn.ensemble import RandomForestClassifier\n",
    "# from sklearn.model_selection import cross_val_score\n",
    "\n",
    "# lr = LogisticRegression()\n",
    "# rf = RandomForestClassifier(max_depth = 7, min_samples_split = 0.001)"
   ]
  },
  {
   "cell_type": "code",
   "execution_count": 57,
   "metadata": {},
   "outputs": [],
   "source": [
    "# t1 = train.groupby('seq').event_type.value_counts().unstack().fillna(0)\n",
    "# t2 = train.groupby('seq').agg({'in_nav': np.any, 'lang_seq': 'first'})\n",
    "# t4 = train[train.event_type == 'view'].groupby('seq').event_info.value_counts(normalize = True)\n",
    "# t4.name = 'mode_freq'\n",
    "# t4 = t4.reset_index()\n",
    "# t4 = t4.groupby('seq').mode_freq.first()\n",
    "\n",
    "# t = pd.concat([t1, t2, t4], axis = 1)\n",
    "\n",
    "# t.drop(columns = 'buy', inplace = True)\n",
    "# t['lang_seq'] = t.lang_seq.replace({'pt': 0, 'es': 1}).fillna(0)\n",
    "\n",
    "# t = t.fillna(-100)"
   ]
  },
  {
   "cell_type": "code",
   "execution_count": 60,
   "metadata": {},
   "outputs": [],
   "source": [
    "# from sklearn.model_selection import train_test_split\n",
    "# from sklearn.metrics import confusion_matrix, classification_report\n",
    "\n",
    "# X, y = t[['search', 'view', 'lang_seq', 'mode_freq']], t.in_nav"
   ]
  },
  {
   "cell_type": "code",
   "execution_count": 79,
   "metadata": {},
   "outputs": [],
   "source": [
    "# from sklearn.model_selection import GridSearchCV, RandomizedSearchCV\n",
    "\n",
    "# params = {'n_estimators': [50, 100, 200], 'max_depth': [5, 8, 11, 14], 'min_samples_split': [0.01, 0.001, 0.0001]}\n",
    "\n",
    "# gs = RandomizedSearchCV(RandomForestClassifier(), param_distributions = params, scoring = 'f1', verbose = 1, n_jobs = -1, cv = 3, n_iter = 6)\n",
    "\n",
    "# gs.fit(X, y)\n",
    "\n",
    "# rf_best = gs.best_estimator_"
   ]
  },
  {
   "cell_type": "code",
   "execution_count": 69,
   "metadata": {},
   "outputs": [],
   "source": [
    "# X_train, X_test, y_train, y_test = train_test_split(X, y)"
   ]
  },
  {
   "cell_type": "code",
   "execution_count": 80,
   "metadata": {},
   "outputs": [
    {
     "data": {
      "text/plain": [
       "RandomForestClassifier(max_depth=14, min_samples_split=0.0001, n_estimators=200)"
      ]
     },
     "execution_count": 80,
     "metadata": {},
     "output_type": "execute_result"
    }
   ],
   "source": [
    "# rf_best\n",
    "# RandomForestClassifier(max_depth=14, min_samples_split=0.0001, n_estimators=200)"
   ]
  },
  {
   "cell_type": "code",
   "execution_count": 84,
   "metadata": {},
   "outputs": [],
   "source": [
    "# rf_best.fit(X_train, y_train)\n",
    "\n",
    "# y_pred = rf_best.predict(X_test)\n",
    "\n",
    "# confusion_matrix(y_test, y_pred)\n",
    "\n",
    "# print(classification_report(y_test, y_pred))"
   ]
  },
  {
   "cell_type": "code",
   "execution_count": 103,
   "metadata": {},
   "outputs": [],
   "source": [
    "# rf_best.fit(X, y)\n",
    "\n",
    "# t['in_nav_pred'] = rf_best.predict_proba(X)[:, 1]\n",
    "\n",
    "# t.reset_index(inplace = True)\n",
    "\n",
    "# train = pd.merge(train, t[['seq', 'in_nav_pred']], how = 'left', left_on = 'seq', right_on = 'seq')\n",
    "\n",
    "# processed_fn = 'train_dataset.pkl'\n",
    "# processed_fp = os.path.join(processed_data_dir, processed_fn)\n",
    "# train.to_pickle(processed_fp)"
   ]
  },
  {
   "cell_type": "markdown",
   "metadata": {},
   "source": [
    "## other train explorations"
   ]
  }
 ],
 "metadata": {
  "environment": {
   "name": "tf2-2-3-gpu.2-3.m59",
   "type": "gcloud",
   "uri": "gcr.io/deeplearning-platform-release/tf2-2-3-gpu.2-3:m59"
  },
  "kernelspec": {
   "display_name": "Python 3",
   "language": "python",
   "name": "python3"
  },
  "language_info": {
   "codemirror_mode": {
    "name": "ipython",
    "version": 3
   },
   "file_extension": ".py",
   "mimetype": "text/x-python",
   "name": "python",
   "nbconvert_exporter": "python",
   "pygments_lexer": "ipython3",
   "version": "3.7.6"
  }
 },
 "nbformat": 4,
 "nbformat_minor": 4
}
