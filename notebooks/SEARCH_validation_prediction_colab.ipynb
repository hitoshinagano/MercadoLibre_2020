{
  "nbformat": 4,
  "nbformat_minor": 0,
  "metadata": {
    "kernelspec": {
      "display_name": "Python 3",
      "language": "python",
      "name": "python3"
    },
    "language_info": {
      "codemirror_mode": {
        "name": "ipython",
        "version": 3
      },
      "file_extension": ".py",
      "mimetype": "text/x-python",
      "name": "python",
      "nbconvert_exporter": "python",
      "pygments_lexer": "ipython3",
      "version": "3.7.6"
    },
    "colab": {
      "name": "SEARCH_validation_prediction.ipynb",
      "provenance": [],
      "collapsed_sections": [
        "ZYgTWtcttizB",
        "gQCmN2yatizB",
        "Vu8dzVkptizD",
        "-HRscGm3tizD"
      ]
    },
    "accelerator": "GPU"
  },
  "cells": [
    {
      "cell_type": "code",
      "metadata": {
        "colab": {
          "base_uri": "https://localhost:8080/",
          "height": 35
        },
        "id": "ARDSi3VqcyaG",
        "outputId": "98be2db2-fdfa-41d6-d50d-96ff0559bb2b"
      },
      "source": [
        "pwd"
      ],
      "execution_count": null,
      "outputs": [
        {
          "output_type": "execute_result",
          "data": {
            "application/vnd.google.colaboratory.intrinsic+json": {
              "type": "string"
            },
            "text/plain": [
              "'/content'"
            ]
          },
          "metadata": {
            "tags": []
          },
          "execution_count": 1
        }
      ]
    },
    {
      "cell_type": "code",
      "metadata": {
        "colab": {
          "base_uri": "https://localhost:8080/"
        },
        "id": "rIs3w6cOt2J0",
        "outputId": "3999cbfb-b25a-4420-d71d-091dd6c5bb11"
      },
      "source": [
        "from google.colab import drive\n",
        "drive.mount('/content/gdrive')"
      ],
      "execution_count": null,
      "outputs": [
        {
          "output_type": "stream",
          "text": [
            "Mounted at /content/gdrive\n"
          ],
          "name": "stdout"
        }
      ]
    },
    {
      "cell_type": "code",
      "metadata": {
        "colab": {
          "base_uri": "https://localhost:8080/"
        },
        "id": "q76edsBeuAx6",
        "outputId": "9763a2cb-d70b-4243-fadb-00189471f3b5"
      },
      "source": [
        "!pip install python-dotenv\n",
        "!pip install implicit"
      ],
      "execution_count": null,
      "outputs": [
        {
          "output_type": "stream",
          "text": [
            "Collecting python-dotenv\n",
            "  Downloading https://files.pythonhosted.org/packages/32/2e/e4585559237787966aad0f8fd0fc31df1c4c9eb0e62de458c5b6cde954eb/python_dotenv-0.15.0-py2.py3-none-any.whl\n",
            "Installing collected packages: python-dotenv\n",
            "Successfully installed python-dotenv-0.15.0\n"
          ],
          "name": "stdout"
        }
      ]
    },
    {
      "cell_type": "markdown",
      "metadata": {
        "id": "UhZUHxnTtiy_"
      },
      "source": [
        "# EDA - VALIDATION & PREDICTION - Search"
      ]
    },
    {
      "cell_type": "code",
      "metadata": {
        "id": "gv_eXK_2ts5t"
      },
      "source": [
        "import os\n",
        "os.chdir('gdrive/My Drive/GitHub_projects/MercadoLibre_2020/notebooks')"
      ],
      "execution_count": null,
      "outputs": []
    },
    {
      "cell_type": "markdown",
      "metadata": {
        "id": "NGI3MqJAtiy_"
      },
      "source": [
        "## autoreload"
      ]
    },
    {
      "cell_type": "code",
      "metadata": {
        "id": "btoKCxqctiy_"
      },
      "source": [
        "%load_ext autoreload\n",
        "%autoreload 2"
      ],
      "execution_count": null,
      "outputs": []
    },
    {
      "cell_type": "markdown",
      "metadata": {
        "id": "CkuzZPE-tiy_"
      },
      "source": [
        "## dir setup"
      ]
    },
    {
      "cell_type": "code",
      "metadata": {
        "colab": {
          "base_uri": "https://localhost:8080/"
        },
        "id": "hZmAiYWltiy_",
        "outputId": "c084637b-f1c1-418c-fc87-1efea1ec738a"
      },
      "source": [
        "from dotenv import load_dotenv, find_dotenv\n",
        "import os\n",
        "\n",
        "this_file_path = os.path.dirname(os.path.abspath(\"__file__\"))\n",
        "# if script (not notebook)...\n",
        "# project_dir = os.path.join(os.path.dirname(__file__), os.pardir)\n",
        "\n",
        "# project directory\n",
        "project_dir = os.path.join(this_file_path, os.pardir)\n",
        "\n",
        "# find .env automagically by walking up directories until it's found\n",
        "dotenv_path = find_dotenv()\n",
        "\n",
        "# load up the entries as environment variables\n",
        "load_dotenv(dotenv_path)"
      ],
      "execution_count": null,
      "outputs": [
        {
          "output_type": "execute_result",
          "data": {
            "text/plain": [
              "True"
            ]
          },
          "metadata": {
            "tags": []
          },
          "execution_count": 7
        }
      ]
    },
    {
      "cell_type": "code",
      "metadata": {
        "id": "4t6WzUXZtiy_"
      },
      "source": [
        "raw_data_dir = os.path.join(project_dir, os.environ.get(\"RAW_DATA_DIR\"))\n",
        "processed_data_dir = os.path.join(project_dir, os.environ.get(\"PROCESSED_DATA_DIR\"))\n",
        "interim_data_dir = os.path.join(project_dir, os.environ.get(\"INTERIM_DATA_DIR\"))\n",
        "wordvecs_data_dir = os.path.join(project_dir, os.environ.get(\"WORDVECS_DATA_DIR\"))\n",
        "figures_dir = os.path.join(project_dir, os.environ.get(\"FIGURES_DIR\"))\n",
        "reports_dir = os.path.join(project_dir, os.environ.get(\"REPORTS_DIR\"))\n",
        "cv_dir = os.path.join(project_dir, os.environ.get(\"CV_DIR\"))\n",
        "models_dir = os.path.join(project_dir, os.environ.get(\"MODELS_DIR\"))"
      ],
      "execution_count": null,
      "outputs": []
    },
    {
      "cell_type": "code",
      "metadata": {
        "id": "c2G9vF6Ptiy_"
      },
      "source": [
        "TEST_OFFSET = int(os.environ.get(\"TEST_OFFSET\"))\n",
        "TOTAL_TEST_SEQS = int(os.environ.get(\"TOTAL_TEST_SEQS\"))"
      ],
      "execution_count": null,
      "outputs": []
    },
    {
      "cell_type": "markdown",
      "metadata": {
        "id": "4vGICL6Ttiy_"
      },
      "source": [
        "## imports"
      ]
    },
    {
      "cell_type": "code",
      "metadata": {
        "id": "XDMfY-hEtiy_"
      },
      "source": [
        "import numpy as np\n",
        "from datetime import datetime"
      ],
      "execution_count": null,
      "outputs": []
    },
    {
      "cell_type": "code",
      "metadata": {
        "id": "yyne0lAItiy_"
      },
      "source": [
        "import pandas as pd\n",
        "pd.set_option('max_rows', 100)\n",
        "pd.set_option('max_columns', None)\n",
        "# pd.options.mode.chained_assignment = None  # default='warn'"
      ],
      "execution_count": null,
      "outputs": []
    },
    {
      "cell_type": "code",
      "metadata": {
        "id": "wNGYtoG5tizA"
      },
      "source": [
        "from tqdm import tqdm\n",
        "tqdm.pandas()"
      ],
      "execution_count": null,
      "outputs": []
    },
    {
      "cell_type": "code",
      "metadata": {
        "id": "eGATgzuVtizA"
      },
      "source": [
        "import tensorflow as tf"
      ],
      "execution_count": null,
      "outputs": []
    },
    {
      "cell_type": "code",
      "metadata": {
        "id": "JX7zmNxmtizA"
      },
      "source": [
        "# from sklearn.model_selection import ParameterGrid\n",
        "\n",
        "# import mlflow\n",
        "\n",
        "# import pickle\n",
        "\n",
        "# import seaborn as sns\n",
        "# import matplotlib.pyplot as plt"
      ],
      "execution_count": null,
      "outputs": []
    },
    {
      "cell_type": "code",
      "metadata": {
        "id": "459VYME9tizA"
      },
      "source": [
        "# import spacy\n",
        "\n",
        "# port_nlp_fn = 'nilc50skip'\n",
        "# port_nlp_fp = os.path.join(wordvecs_data_dir, port_nlp_fn) \n",
        "# port_nlp = spacy.load(port_nlp_fp)\n",
        "\n",
        "# espa_nlp_fn = 'suc30fast'\n",
        "# espa_nlp_fp = os.path.join(wordvecs_data_dir, espa_nlp_fn) \n",
        "# espa_nlp = spacy.load(espa_nlp_fp)"
      ],
      "execution_count": null,
      "outputs": []
    },
    {
      "cell_type": "code",
      "metadata": {
        "id": "RxOBNDQltizA"
      },
      "source": [
        "from sklearn.metrics import ndcg_score"
      ],
      "execution_count": null,
      "outputs": []
    },
    {
      "cell_type": "markdown",
      "metadata": {
        "id": "oNjCfcs1tizA"
      },
      "source": [
        "## project imports"
      ]
    },
    {
      "cell_type": "code",
      "metadata": {
        "id": "hYmHBhlTtizA"
      },
      "source": [
        "import sys\n",
        "sys.path.insert(0, '..')"
      ],
      "execution_count": null,
      "outputs": []
    },
    {
      "cell_type": "code",
      "metadata": {
        "id": "0UyjSy_stizA"
      },
      "source": [
        "from src.features import *\n",
        "from src.models import *"
      ],
      "execution_count": null,
      "outputs": []
    },
    {
      "cell_type": "markdown",
      "metadata": {
        "id": "GlaggSXAtizA"
      },
      "source": [
        "# validation"
      ]
    },
    {
      "cell_type": "markdown",
      "metadata": {
        "id": "0s66LuUVtizA"
      },
      "source": [
        "##### item_data"
      ]
    },
    {
      "cell_type": "code",
      "metadata": {
        "id": "VU2CBBAwtizA"
      },
      "source": [
        "# item_data_fn = 'item_data.pkl'\n",
        "# item_data_fp = os.path.join(processed_data_dir, item_data_fn)\n",
        "# item_data = pd.read_pickle(item_data_fp)"
      ],
      "execution_count": null,
      "outputs": []
    },
    {
      "cell_type": "markdown",
      "metadata": {
        "id": "0GmTZho6tizA"
      },
      "source": [
        "#### item title embeddings\n",
        "use only item_id and item_embs cols from item_data "
      ]
    },
    {
      "cell_type": "code",
      "metadata": {
        "id": "KHpG7zrmtizA"
      },
      "source": [
        "lang = 'pt'"
      ],
      "execution_count": null,
      "outputs": []
    },
    {
      "cell_type": "code",
      "metadata": {
        "id": "KiRuler-tizA"
      },
      "source": [
        "item_data_embs_only_fn = 'item_data_embs_only.pkl'\n",
        "item_data_embs_only_fp = os.path.join(processed_data_dir, item_data_embs_only_fn)\n",
        "item_data = pd.read_pickle(item_data_embs_only_fp)\n",
        "\n",
        "item_data = item_data[item_data.lang_domain == lang].copy()\n",
        "item_data.drop('lang_domain', axis = 1, inplace = True)\n",
        "item_data_embs_only = item_data.copy() ####### <--- added\n",
        "item_data.set_index('item_id', inplace = True)"
      ],
      "execution_count": null,
      "outputs": []
    },
    {
      "cell_type": "code",
      "metadata": {
        "colab": {
          "base_uri": "https://localhost:8080/"
        },
        "id": "fsfMX5CktizA",
        "outputId": "30e9b7be-9872-46cb-d3e5-8a1a3e2b098e"
      },
      "source": [
        "item_data = item_data.title_embs.progress_apply(pd.Series)"
      ],
      "execution_count": null,
      "outputs": [
        {
          "output_type": "stream",
          "text": [
            "100%|██████████| 1723216/1723216 [04:58<00:00, 5764.84it/s] \n"
          ],
          "name": "stderr"
        }
      ]
    },
    {
      "cell_type": "code",
      "metadata": {
        "id": "lKoRBr2ktizA"
      },
      "source": [
        "item_data = item_data.dropna()"
      ],
      "execution_count": null,
      "outputs": []
    },
    {
      "cell_type": "code",
      "metadata": {
        "colab": {
          "base_uri": "https://localhost:8080/",
          "height": 198
        },
        "id": "OCsyBsEbnjp0",
        "outputId": "f5d60749-4ca2-4088-c414-abef8e56f94c"
      },
      "source": [
        "item_data_embs_only.head()"
      ],
      "execution_count": null,
      "outputs": [
        {
          "output_type": "execute_result",
          "data": {
            "text/html": [
              "<div>\n",
              "<style scoped>\n",
              "    .dataframe tbody tr th:only-of-type {\n",
              "        vertical-align: middle;\n",
              "    }\n",
              "\n",
              "    .dataframe tbody tr th {\n",
              "        vertical-align: top;\n",
              "    }\n",
              "\n",
              "    .dataframe thead th {\n",
              "        text-align: right;\n",
              "    }\n",
              "</style>\n",
              "<table border=\"1\" class=\"dataframe\">\n",
              "  <thead>\n",
              "    <tr style=\"text-align: right;\">\n",
              "      <th></th>\n",
              "      <th>item_id</th>\n",
              "      <th>title_embs</th>\n",
              "    </tr>\n",
              "  </thead>\n",
              "  <tbody>\n",
              "    <tr>\n",
              "      <th>8655</th>\n",
              "      <td>2076351</td>\n",
              "      <td>[0.152, 0.02438, 0.275, -0.1411, -0.1242, 0.15...</td>\n",
              "    </tr>\n",
              "    <tr>\n",
              "      <th>8656</th>\n",
              "      <td>234839</td>\n",
              "      <td>[-0.2347, 0.01924, -0.04782, -0.02776, -0.223,...</td>\n",
              "    </tr>\n",
              "    <tr>\n",
              "      <th>8657</th>\n",
              "      <td>442139</td>\n",
              "      <td>[-0.04303, -0.0998, 0.12445, -0.0772, -0.12036...</td>\n",
              "    </tr>\n",
              "    <tr>\n",
              "      <th>8658</th>\n",
              "      <td>1893085</td>\n",
              "      <td>[0.1247, -0.003956, 0.2979, -0.11115, -0.0584,...</td>\n",
              "    </tr>\n",
              "    <tr>\n",
              "      <th>8659</th>\n",
              "      <td>1185052</td>\n",
              "      <td>[0.04184, 0.10614, 0.1761, -0.014366, -0.2512,...</td>\n",
              "    </tr>\n",
              "  </tbody>\n",
              "</table>\n",
              "</div>"
            ],
            "text/plain": [
              "      item_id                                         title_embs\n",
              "8655  2076351  [0.152, 0.02438, 0.275, -0.1411, -0.1242, 0.15...\n",
              "8656   234839  [-0.2347, 0.01924, -0.04782, -0.02776, -0.223,...\n",
              "8657   442139  [-0.04303, -0.0998, 0.12445, -0.0772, -0.12036...\n",
              "8658  1893085  [0.1247, -0.003956, 0.2979, -0.11115, -0.0584,...\n",
              "8659  1185052  [0.04184, 0.10614, 0.1761, -0.014366, -0.2512,..."
            ]
          },
          "metadata": {
            "tags": []
          },
          "execution_count": 25
        }
      ]
    },
    {
      "cell_type": "markdown",
      "metadata": {
        "id": "BqektCpftizA"
      },
      "source": [
        "#### search embeddings\n",
        "train_test with embeddings"
      ]
    },
    {
      "cell_type": "code",
      "metadata": {
        "id": "X6--sAhQtizA"
      },
      "source": [
        "train_test_embs_fn = 'train_test_embs.pkl'\n",
        "train_test_embs_fp = os.path.join(interim_data_dir, train_test_embs_fn)\n",
        "train_test = pd.read_pickle(train_test_embs_fp)\n",
        "\n",
        "# train_test['seq'] = train_test.seq - TEST_OFFSET\n",
        "train_test = train_test[train_test.seq < TEST_OFFSET]  # validation"
      ],
      "execution_count": null,
      "outputs": []
    },
    {
      "cell_type": "code",
      "metadata": {
        "id": "8EO5SROZAbct"
      },
      "source": [
        "search_view_stats = train_test.groupby('seq').event_type.value_counts().unstack().fillna(0) #### < ---- added\n",
        "low_view_seqs = search_view_stats[search_view_stats.view < 2].index  #### < ---- added\n",
        "\n",
        "train_test = train_test[train_test.seq.isin(low_view_seqs)] #### < ---- added"
      ],
      "execution_count": null,
      "outputs": []
    },
    {
      "cell_type": "code",
      "metadata": {
        "id": "m-iUGH0toaS9"
      },
      "source": [
        "views = train_test[(train_test.lang_seq == lang) & (train_test.event_type == 'view')] #### < ---- added\n",
        "views = pd.merge(views, item_data_embs_only, left_on = 'event_info', right_on = 'item_id', how = 'left') #### < ---- added\n",
        "views = views.dropna(subset = ['title_embs']) #### < ---- added"
      ],
      "execution_count": null,
      "outputs": []
    },
    {
      "cell_type": "code",
      "metadata": {
        "id": "L-QQBvkJtizA"
      },
      "source": [
        "queries = train_test[(train_test.lang_seq == lang) & (train_test.event_type == 'search')]"
      ],
      "execution_count": null,
      "outputs": []
    },
    {
      "cell_type": "code",
      "metadata": {
        "id": "_ZPH0CQCpX6-"
      },
      "source": [
        "views_queries = pd.concat([views, queries]) ##### <---- added"
      ],
      "execution_count": null,
      "outputs": []
    },
    {
      "cell_type": "code",
      "metadata": {
        "colab": {
          "base_uri": "https://localhost:8080/"
        },
        "id": "1z-wf7Ie7MsW",
        "outputId": "193a551a-88c7-4778-ce8f-80b4034c6514"
      },
      "source": [
        "views_queries.event_type.value_counts()"
      ],
      "execution_count": null,
      "outputs": [
        {
          "output_type": "execute_result",
          "data": {
            "text/plain": [
              "search    248739\n",
              "view       60900\n",
              "Name: event_type, dtype: int64"
            ]
          },
          "metadata": {
            "tags": []
          },
          "execution_count": 170
        }
      ]
    },
    {
      "cell_type": "markdown",
      "metadata": {
        "id": "wL3I9RthtizA"
      },
      "source": [
        "#### selecting train seq's for validation"
      ]
    },
    {
      "cell_type": "code",
      "metadata": {
        "id": "S0JrGV16tizA"
      },
      "source": [
        "validation = 0.2\n",
        "unique_seqs = views_queries.seq.unique() ##### <---- mod\n",
        "seq_sample_size = int(len(unique_seqs) * validation)\n",
        "seq_sel = np.random.choice(unique_seqs, size = seq_sample_size, replace = False)"
      ],
      "execution_count": null,
      "outputs": []
    },
    {
      "cell_type": "markdown",
      "metadata": {
        "id": "vy7ShNS5tizA"
      },
      "source": [
        "##### selecting queries only in scope"
      ]
    },
    {
      "cell_type": "code",
      "metadata": {
        "id": "RdtK3xHftizA"
      },
      "source": [
        "views_queries = views_queries[views_queries.seq.isin(seq_sel)]"
      ],
      "execution_count": null,
      "outputs": []
    },
    {
      "cell_type": "code",
      "metadata": {
        "colab": {
          "base_uri": "https://localhost:8080/"
        },
        "id": "1zlQetMYtizA",
        "outputId": "b124c8d8-74f1-45ef-962b-bf430741ba6a"
      },
      "source": [
        "unique_seqs = views_queries.seq.unique()\n",
        "num_batches = len(unique_seqs) // 100\n",
        "seqs = np.array_split(unique_seqs, num_batches)\n",
        "num_batches"
      ],
      "execution_count": null,
      "outputs": [
        {
          "output_type": "execute_result",
          "data": {
            "text/plain": [
              "175"
            ]
          },
          "metadata": {
            "tags": []
          },
          "execution_count": 173
        }
      ]
    },
    {
      "cell_type": "code",
      "metadata": {
        "colab": {
          "base_uri": "https://localhost:8080/"
        },
        "id": "9tyU-YqUtizA",
        "outputId": "a91667a9-f9e2-4a64-869f-87895d80f45e"
      },
      "source": [
        "seq_batch = seqs[0]\n",
        "len(seq_batch)"
      ],
      "execution_count": null,
      "outputs": [
        {
          "output_type": "execute_result",
          "data": {
            "text/plain": [
              "101"
            ]
          },
          "metadata": {
            "tags": []
          },
          "execution_count": 174
        }
      ]
    },
    {
      "cell_type": "code",
      "metadata": {
        "id": "e28rGHm9vKzL"
      },
      "source": [
        "views_queries['query_embs'] = views_queries.query_embs.fillna(views_queries.title_embs) ##### <===== added\n",
        "views_queries.rename(columns = {'query_embs': 'query_title_embs'}, inplace = True)  ##### <===== added\n",
        "views_queries.drop(columns = 'title_embs', inplace = True)  ##### <===== added"
      ],
      "execution_count": null,
      "outputs": []
    },
    {
      "cell_type": "code",
      "metadata": {
        "id": "8EzwTjKmtizA"
      },
      "source": [
        "item_data_tensor = tf.constant(item_data)"
      ],
      "execution_count": null,
      "outputs": []
    },
    {
      "cell_type": "code",
      "metadata": {
        "id": "Ht5TCYT6ym7s"
      },
      "source": [
        "value_of_a_search = 1 #### <=== added\n",
        "views_queries['views'] = views_queries.views.fillna(value_of_a_search) #### <=== added"
      ],
      "execution_count": null,
      "outputs": []
    },
    {
      "cell_type": "code",
      "metadata": {
        "id": "CbdV1ZpNz6ps"
      },
      "source": [
        "def weighted(x): #### <=== added whole function\n",
        "  numerator = sum(x.views * x.query_title_embs)\n",
        "  denominator = sum(x.views)\n",
        "  return pd.Series(numerator/denominator)"
      ],
      "execution_count": null,
      "outputs": []
    },
    {
      "cell_type": "code",
      "metadata": {
        "id": "lDShe9CZa6Ir"
      },
      "source": [
        "def weighted_dropdup(x): #### <=== added whole function\n",
        "  x = x.drop_duplicates(subset = ['event_info'])\n",
        "  numerator = sum(x.views * x.query_title_embs)\n",
        "  denominator = sum(x.views)\n",
        "  return pd.Series(numerator/denominator)"
      ],
      "execution_count": null,
      "outputs": []
    },
    {
      "cell_type": "code",
      "metadata": {
        "colab": {
          "base_uri": "https://localhost:8080/",
          "height": 108
        },
        "id": "QNmIjV9P3s8h",
        "outputId": "1a1a1b16-1020-42ee-d812-542b01801ca3"
      },
      "source": [
        "views_queries.head(2)"
      ],
      "execution_count": null,
      "outputs": [
        {
          "output_type": "execute_result",
          "data": {
            "text/html": [
              "<div>\n",
              "<style scoped>\n",
              "    .dataframe tbody tr th:only-of-type {\n",
              "        vertical-align: middle;\n",
              "    }\n",
              "\n",
              "    .dataframe tbody tr th {\n",
              "        vertical-align: top;\n",
              "    }\n",
              "\n",
              "    .dataframe thead th {\n",
              "        text-align: right;\n",
              "    }\n",
              "</style>\n",
              "<table border=\"1\" class=\"dataframe\">\n",
              "  <thead>\n",
              "    <tr style=\"text-align: right;\">\n",
              "      <th></th>\n",
              "      <th>seq</th>\n",
              "      <th>event_info</th>\n",
              "      <th>views</th>\n",
              "      <th>event_type</th>\n",
              "      <th>lang_seq</th>\n",
              "      <th>query_title_embs</th>\n",
              "      <th>item_id</th>\n",
              "    </tr>\n",
              "  </thead>\n",
              "  <tbody>\n",
              "    <tr>\n",
              "      <th>10</th>\n",
              "      <td>66</td>\n",
              "      <td>1.83462e+06</td>\n",
              "      <td>2.0</td>\n",
              "      <td>view</td>\n",
              "      <td>pt</td>\n",
              "      <td>[-0.00488, 0.06696, 0.0553, -0.06476, -0.1653,...</td>\n",
              "      <td>1834617.0</td>\n",
              "    </tr>\n",
              "    <tr>\n",
              "      <th>15</th>\n",
              "      <td>106</td>\n",
              "      <td>1.20675e+06</td>\n",
              "      <td>1.0</td>\n",
              "      <td>view</td>\n",
              "      <td>pt</td>\n",
              "      <td>[0.02385, 0.1279, -0.052, -0.05865, -0.034, -0...</td>\n",
              "      <td>1206749.0</td>\n",
              "    </tr>\n",
              "  </tbody>\n",
              "</table>\n",
              "</div>"
            ],
            "text/plain": [
              "    seq   event_info  views event_type lang_seq  \\\n",
              "10   66  1.83462e+06    2.0       view       pt   \n",
              "15  106  1.20675e+06    1.0       view       pt   \n",
              "\n",
              "                                     query_title_embs    item_id  \n",
              "10  [-0.00488, 0.06696, 0.0553, -0.06476, -0.1653,...  1834617.0  \n",
              "15  [0.02385, 0.1279, -0.052, -0.05865, -0.034, -0...  1206749.0  "
            ]
          },
          "metadata": {
            "tags": []
          },
          "execution_count": 180
        }
      ]
    },
    {
      "cell_type": "code",
      "metadata": {
        "colab": {
          "base_uri": "https://localhost:8080/"
        },
        "id": "DK-6R7lHtizA",
        "outputId": "3764481c-c189-46aa-ea32-5aca791eb1a1"
      },
      "source": [
        "recs = dict()\n",
        "\n",
        "for seq_batch in tqdm(seqs):\n",
        "    query_embs = views_queries[views_queries.seq.isin(seq_batch)]\n",
        "    # query_embs = query_embs.groupby('seq').query_title_embs.apply(lambda x: x.mean())  #### <=== del\n",
        "    query_embs = query_embs.groupby('seq')[['query_title_embs', 'views']].apply(weighted)  #### <=== added\n",
        "    # query_embs = query_embs.groupby('seq')[['query_title_embs', 'views', 'event_info']].apply(weighted_dropdup)  #### <=== added\n",
        "    # query_embs = query_embs.apply(pd.Series) #### <=== del. weighted function returns pd.Series\n",
        "    \n",
        "    # scores = item_data @ query_embs.T\n",
        "    scores = tf.matmul(item_data_tensor, query_embs.T).numpy()\n",
        "    scores = pd.DataFrame(scores, index = item_data.index, columns = query_embs.index)\n",
        "    \n",
        "    for s in scores.columns:\n",
        "        recs[s] = list(scores[s].nlargest(10).items())"
      ],
      "execution_count": null,
      "outputs": [
        {
          "output_type": "stream",
          "text": [
            "\n",
            "  0%|          | 0/175 [00:00<?, ?it/s]\u001b[A\n",
            "  1%|          | 1/175 [00:07<20:55,  7.22s/it]\u001b[A\n",
            "  1%|          | 2/175 [00:14<21:09,  7.34s/it]\u001b[A\n",
            "  2%|▏         | 3/175 [00:22<20:53,  7.29s/it]\u001b[A\n",
            "  2%|▏         | 4/175 [00:29<21:01,  7.38s/it]\u001b[A\n",
            "  3%|▎         | 5/175 [00:36<20:42,  7.31s/it]\u001b[A\n",
            "  3%|▎         | 6/175 [00:44<20:55,  7.43s/it]\u001b[A\n",
            "  4%|▍         | 7/175 [00:51<20:36,  7.36s/it]\u001b[A\n",
            "  5%|▍         | 8/175 [00:59<20:48,  7.47s/it]\u001b[A\n",
            "  5%|▌         | 9/175 [01:06<20:27,  7.39s/it]\u001b[A\n",
            "  6%|▌         | 10/175 [01:14<20:35,  7.49s/it]\u001b[A\n",
            "  6%|▋         | 11/175 [01:21<20:06,  7.36s/it]\u001b[A\n",
            "  7%|▋         | 12/175 [01:28<20:10,  7.43s/it]\u001b[A\n",
            "  7%|▋         | 13/175 [01:35<19:43,  7.31s/it]\u001b[A\n",
            "  8%|▊         | 14/175 [01:43<19:51,  7.40s/it]\u001b[A\n",
            "  9%|▊         | 15/175 [01:50<19:27,  7.30s/it]\u001b[A\n",
            "  9%|▉         | 16/175 [01:58<19:35,  7.39s/it]\u001b[A\n",
            " 10%|▉         | 17/175 [02:05<19:15,  7.31s/it]\u001b[A\n",
            " 10%|█         | 18/175 [02:12<19:21,  7.40s/it]\u001b[A\n",
            " 11%|█         | 19/175 [02:19<18:55,  7.28s/it]\u001b[A\n",
            " 11%|█▏        | 20/175 [02:27<19:03,  7.38s/it]\u001b[A\n",
            " 12%|█▏        | 21/175 [02:34<18:41,  7.29s/it]\u001b[A\n",
            " 13%|█▎        | 22/175 [02:42<18:45,  7.36s/it]\u001b[A\n",
            " 13%|█▎        | 23/175 [02:49<18:19,  7.23s/it]\u001b[A\n",
            " 14%|█▎        | 24/175 [02:56<18:22,  7.30s/it]\u001b[A\n",
            " 14%|█▍        | 25/175 [03:03<17:56,  7.18s/it]\u001b[A\n",
            " 15%|█▍        | 26/175 [03:10<18:00,  7.25s/it]\u001b[A\n",
            " 15%|█▌        | 27/175 [03:17<17:34,  7.12s/it]\u001b[A\n",
            " 16%|█▌        | 28/175 [03:25<17:38,  7.20s/it]\u001b[A\n",
            " 17%|█▋        | 29/175 [03:31<17:16,  7.10s/it]\u001b[A\n",
            " 17%|█▋        | 30/175 [03:39<17:23,  7.20s/it]\u001b[A\n",
            " 18%|█▊        | 31/175 [03:46<17:05,  7.12s/it]\u001b[A\n",
            " 18%|█▊        | 32/175 [03:53<17:15,  7.24s/it]\u001b[A\n",
            " 19%|█▉        | 33/175 [04:00<16:56,  7.16s/it]\u001b[A\n",
            " 19%|█▉        | 34/175 [04:08<17:05,  7.27s/it]\u001b[A\n",
            " 20%|██        | 35/175 [04:15<16:46,  7.19s/it]\u001b[A\n",
            " 21%|██        | 36/175 [04:22<16:51,  7.27s/it]\u001b[A\n",
            " 21%|██        | 37/175 [04:29<16:33,  7.20s/it]\u001b[A\n",
            " 22%|██▏       | 38/175 [04:37<16:42,  7.32s/it]\u001b[A\n",
            " 22%|██▏       | 39/175 [04:44<16:19,  7.20s/it]\u001b[A\n",
            " 23%|██▎       | 40/175 [04:51<16:24,  7.29s/it]\u001b[A\n",
            " 23%|██▎       | 41/175 [04:58<15:56,  7.13s/it]\u001b[A\n",
            " 24%|██▍       | 42/175 [05:06<16:03,  7.24s/it]\u001b[A\n",
            " 25%|██▍       | 43/175 [05:12<15:40,  7.12s/it]\u001b[A\n",
            " 25%|██▌       | 44/175 [05:20<15:44,  7.21s/it]\u001b[A\n",
            " 26%|██▌       | 45/175 [05:27<15:24,  7.11s/it]\u001b[A\n",
            " 26%|██▋       | 46/175 [05:34<15:26,  7.18s/it]\u001b[A\n",
            " 27%|██▋       | 47/175 [05:41<15:07,  7.09s/it]\u001b[A\n",
            " 27%|██▋       | 48/175 [05:48<15:06,  7.14s/it]\u001b[A\n",
            " 28%|██▊       | 49/175 [05:55<14:47,  7.05s/it]\u001b[A\n",
            " 29%|██▊       | 50/175 [06:02<14:52,  7.14s/it]\u001b[A\n",
            " 29%|██▉       | 51/175 [06:09<14:39,  7.10s/it]\u001b[A\n",
            " 30%|██▉       | 52/175 [06:17<14:44,  7.19s/it]\u001b[A\n",
            " 30%|███       | 53/175 [06:24<14:24,  7.09s/it]\u001b[A\n",
            " 31%|███       | 54/175 [06:31<14:30,  7.19s/it]\u001b[A\n",
            " 31%|███▏      | 55/175 [06:38<14:11,  7.10s/it]\u001b[A\n",
            " 32%|███▏      | 56/175 [06:45<14:12,  7.17s/it]\u001b[A\n",
            " 33%|███▎      | 57/175 [06:52<13:53,  7.06s/it]\u001b[A\n",
            " 33%|███▎      | 58/175 [06:59<13:52,  7.11s/it]\u001b[A\n",
            " 34%|███▎      | 59/175 [07:06<13:31,  6.99s/it]\u001b[A\n",
            " 34%|███▍      | 60/175 [07:13<13:36,  7.10s/it]\u001b[A\n",
            " 35%|███▍      | 61/175 [07:20<13:16,  6.99s/it]\u001b[A\n",
            " 35%|███▌      | 62/175 [07:28<13:23,  7.11s/it]\u001b[A\n",
            " 36%|███▌      | 63/175 [07:34<13:06,  7.02s/it]\u001b[A\n",
            " 37%|███▋      | 64/175 [07:42<13:10,  7.12s/it]\u001b[A\n",
            " 37%|███▋      | 65/175 [07:48<12:49,  6.99s/it]\u001b[A\n",
            " 38%|███▊      | 66/175 [07:56<12:50,  7.07s/it]\u001b[A\n",
            " 38%|███▊      | 67/175 [08:03<12:35,  6.99s/it]\u001b[A\n",
            " 39%|███▉      | 68/175 [08:10<12:38,  7.09s/it]\u001b[A\n",
            " 39%|███▉      | 69/175 [08:17<12:23,  7.02s/it]\u001b[A\n",
            " 40%|████      | 70/175 [08:24<12:26,  7.11s/it]\u001b[A\n",
            " 41%|████      | 71/175 [08:31<12:07,  7.00s/it]\u001b[A\n",
            " 41%|████      | 72/175 [08:38<12:11,  7.10s/it]\u001b[A\n",
            " 42%|████▏     | 73/175 [08:45<11:58,  7.04s/it]\u001b[A\n",
            " 42%|████▏     | 74/175 [08:52<11:59,  7.13s/it]\u001b[A\n",
            " 43%|████▎     | 75/175 [08:59<11:44,  7.04s/it]\u001b[A\n",
            " 43%|████▎     | 76/175 [09:06<11:46,  7.14s/it]\u001b[A\n",
            " 44%|████▍     | 77/175 [09:13<11:28,  7.03s/it]\u001b[A\n",
            " 45%|████▍     | 78/175 [09:21<11:29,  7.11s/it]\u001b[A\n",
            " 45%|████▌     | 79/175 [09:27<11:15,  7.03s/it]\u001b[A\n",
            " 46%|████▌     | 80/175 [09:35<11:14,  7.10s/it]\u001b[A\n",
            " 46%|████▋     | 81/175 [09:41<10:59,  7.01s/it]\u001b[A\n",
            " 47%|████▋     | 82/175 [09:49<11:01,  7.11s/it]\u001b[A\n",
            " 47%|████▋     | 83/175 [09:56<10:45,  7.02s/it]\u001b[A\n",
            " 48%|████▊     | 84/175 [10:03<10:45,  7.09s/it]\u001b[A\n",
            " 49%|████▊     | 85/175 [10:10<10:28,  6.98s/it]\u001b[A\n",
            " 49%|████▉     | 86/175 [10:17<10:31,  7.10s/it]\u001b[A\n",
            " 50%|████▉     | 87/175 [10:24<10:15,  7.00s/it]\u001b[A\n",
            " 50%|█████     | 88/175 [10:31<10:15,  7.08s/it]\u001b[A\n",
            " 51%|█████     | 89/175 [10:38<09:59,  6.97s/it]\u001b[A\n",
            " 51%|█████▏    | 90/175 [10:45<10:00,  7.07s/it]\u001b[A\n",
            " 52%|█████▏    | 91/175 [10:52<09:45,  6.97s/it]\u001b[A\n",
            " 53%|█████▎    | 92/175 [10:59<09:45,  7.05s/it]\u001b[A\n",
            " 53%|█████▎    | 93/175 [11:06<09:29,  6.95s/it]\u001b[A\n",
            " 54%|█████▎    | 94/175 [11:13<09:31,  7.06s/it]\u001b[A\n",
            " 54%|█████▍    | 95/175 [11:20<09:18,  6.98s/it]\u001b[A\n",
            " 55%|█████▍    | 96/175 [11:27<09:17,  7.06s/it]\u001b[A\n",
            " 55%|█████▌    | 97/175 [11:34<09:04,  6.98s/it]\u001b[A\n",
            " 56%|█████▌    | 98/175 [11:41<09:02,  7.05s/it]\u001b[A\n",
            " 57%|█████▋    | 99/175 [11:48<08:47,  6.94s/it]\u001b[A\n",
            " 57%|█████▋    | 100/175 [11:55<08:46,  7.02s/it]\u001b[A\n",
            " 58%|█████▊    | 101/175 [12:02<08:32,  6.93s/it]\u001b[A\n",
            " 58%|█████▊    | 102/175 [12:09<08:33,  7.04s/it]\u001b[A\n",
            " 59%|█████▉    | 103/175 [12:16<08:20,  6.95s/it]\u001b[A\n",
            " 59%|█████▉    | 104/175 [12:23<08:19,  7.03s/it]\u001b[A\n",
            " 60%|██████    | 105/175 [12:30<08:07,  6.96s/it]\u001b[A\n",
            " 61%|██████    | 106/175 [12:37<08:06,  7.04s/it]\u001b[A\n",
            " 61%|██████    | 107/175 [12:44<07:52,  6.95s/it]\u001b[A\n",
            " 62%|██████▏   | 108/175 [12:51<07:51,  7.04s/it]\u001b[A\n",
            " 62%|██████▏   | 109/175 [12:58<07:39,  6.96s/it]\u001b[A\n",
            " 63%|██████▎   | 110/175 [13:05<07:37,  7.04s/it]\u001b[A\n",
            " 63%|██████▎   | 111/175 [13:12<07:25,  6.96s/it]\u001b[A\n",
            " 64%|██████▍   | 112/175 [13:19<07:26,  7.09s/it]\u001b[A\n",
            " 65%|██████▍   | 113/175 [13:26<07:13,  7.00s/it]\u001b[A\n",
            " 65%|██████▌   | 114/175 [13:33<07:12,  7.09s/it]\u001b[A\n",
            " 66%|██████▌   | 115/175 [13:40<06:58,  6.98s/it]\u001b[A\n",
            " 66%|██████▋   | 116/175 [13:47<06:56,  7.06s/it]\u001b[A\n",
            " 67%|██████▋   | 117/175 [13:54<06:45,  6.99s/it]\u001b[A\n",
            " 67%|██████▋   | 118/175 [14:01<06:43,  7.07s/it]\u001b[A\n",
            " 68%|██████▊   | 119/175 [14:08<06:32,  7.00s/it]\u001b[A\n",
            " 69%|██████▊   | 120/175 [14:16<06:31,  7.12s/it]\u001b[A\n",
            " 69%|██████▉   | 121/175 [14:22<06:19,  7.03s/it]\u001b[A\n",
            " 70%|██████▉   | 122/175 [14:30<06:17,  7.11s/it]\u001b[A\n",
            " 70%|███████   | 123/175 [14:36<06:04,  7.02s/it]\u001b[A\n",
            " 71%|███████   | 124/175 [14:44<06:00,  7.06s/it]\u001b[A\n",
            " 71%|███████▏  | 125/175 [14:50<05:47,  6.95s/it]\u001b[A\n",
            " 72%|███████▏  | 126/175 [14:58<05:44,  7.03s/it]\u001b[A\n",
            " 73%|███████▎  | 127/175 [15:04<05:32,  6.93s/it]\u001b[A\n",
            " 73%|███████▎  | 128/175 [15:11<05:29,  7.01s/it]\u001b[A\n",
            " 74%|███████▎  | 129/175 [15:18<05:19,  6.94s/it]\u001b[A\n",
            " 74%|███████▍  | 130/175 [15:25<05:15,  7.02s/it]\u001b[A\n",
            " 75%|███████▍  | 131/175 [15:32<05:04,  6.92s/it]\u001b[A\n",
            " 75%|███████▌  | 132/175 [15:39<05:00,  6.99s/it]\u001b[A\n",
            " 76%|███████▌  | 133/175 [15:46<04:49,  6.89s/it]\u001b[A\n",
            " 77%|███████▋  | 134/175 [15:53<04:46,  6.98s/it]\u001b[A\n",
            " 77%|███████▋  | 135/175 [16:00<04:34,  6.86s/it]\u001b[A\n",
            " 78%|███████▊  | 136/175 [16:07<04:32,  7.00s/it]\u001b[A\n",
            " 78%|███████▊  | 137/175 [16:14<04:22,  6.90s/it]\u001b[A\n",
            " 79%|███████▉  | 138/175 [16:21<04:20,  7.04s/it]\u001b[A\n",
            " 79%|███████▉  | 139/175 [16:28<04:11,  6.98s/it]\u001b[A\n",
            " 80%|████████  | 140/175 [16:35<04:08,  7.11s/it]\u001b[A\n",
            " 81%|████████  | 141/175 [16:42<03:58,  7.00s/it]\u001b[A\n",
            " 81%|████████  | 142/175 [16:49<03:54,  7.11s/it]\u001b[A\n",
            " 82%|████████▏ | 143/175 [16:56<03:44,  7.02s/it]\u001b[A\n",
            " 82%|████████▏ | 144/175 [17:04<03:41,  7.15s/it]\u001b[A\n",
            " 83%|████████▎ | 145/175 [17:10<03:31,  7.04s/it]\u001b[A\n",
            " 83%|████████▎ | 146/175 [17:18<03:27,  7.16s/it]\u001b[A\n",
            " 84%|████████▍ | 147/175 [17:25<03:18,  7.08s/it]\u001b[A\n",
            " 85%|████████▍ | 148/175 [17:32<03:14,  7.22s/it]\u001b[A\n",
            " 85%|████████▌ | 149/175 [17:39<03:05,  7.13s/it]\u001b[A\n",
            " 86%|████████▌ | 150/175 [17:47<03:00,  7.23s/it]\u001b[A\n",
            " 86%|████████▋ | 151/175 [17:54<02:51,  7.13s/it]\u001b[A\n",
            " 87%|████████▋ | 152/175 [18:01<02:46,  7.24s/it]\u001b[A\n",
            " 87%|████████▋ | 153/175 [18:08<02:36,  7.12s/it]\u001b[A\n",
            " 88%|████████▊ | 154/175 [18:15<02:31,  7.22s/it]\u001b[A\n",
            " 89%|████████▊ | 155/175 [18:22<02:22,  7.13s/it]\u001b[A\n",
            " 89%|████████▉ | 156/175 [18:30<02:16,  7.21s/it]\u001b[A\n",
            " 90%|████████▉ | 157/175 [18:37<02:07,  7.10s/it]\u001b[A\n",
            " 90%|█████████ | 158/175 [18:44<02:02,  7.20s/it]\u001b[A\n",
            " 91%|█████████ | 159/175 [18:51<01:53,  7.11s/it]\u001b[A\n",
            " 91%|█████████▏| 160/175 [18:58<01:47,  7.20s/it]\u001b[A\n",
            " 92%|█████████▏| 161/175 [19:05<01:39,  7.08s/it]\u001b[A\n",
            " 93%|█████████▎| 162/175 [19:13<01:33,  7.19s/it]\u001b[A\n",
            " 93%|█████████▎| 163/175 [19:19<01:25,  7.09s/it]\u001b[A\n",
            " 94%|█████████▎| 164/175 [19:27<01:19,  7.19s/it]\u001b[A\n",
            " 94%|█████████▍| 165/175 [19:34<01:10,  7.09s/it]\u001b[A\n",
            " 95%|█████████▍| 166/175 [19:41<01:04,  7.14s/it]\u001b[A\n",
            " 95%|█████████▌| 167/175 [19:48<00:56,  7.05s/it]\u001b[A\n",
            " 96%|█████████▌| 168/175 [19:55<00:49,  7.12s/it]\u001b[A\n",
            " 97%|█████████▋| 169/175 [20:02<00:41,  6.97s/it]\u001b[A\n",
            " 97%|█████████▋| 170/175 [20:09<00:35,  7.07s/it]\u001b[A\n",
            " 98%|█████████▊| 171/175 [20:16<00:27,  6.95s/it]\u001b[A\n",
            " 98%|█████████▊| 172/175 [20:23<00:21,  7.02s/it]\u001b[A\n",
            " 99%|█████████▉| 173/175 [20:30<00:13,  6.93s/it]\u001b[A\n",
            " 99%|█████████▉| 174/175 [20:37<00:07,  7.01s/it]\u001b[A\n",
            "100%|██████████| 175/175 [20:44<00:00,  7.11s/it]\n"
          ],
          "name": "stderr"
        }
      ]
    },
    {
      "cell_type": "code",
      "metadata": {
        "id": "uV2OABWStizA"
      },
      "source": [
        "recs_df = pd.DataFrame(recs)"
      ],
      "execution_count": null,
      "outputs": []
    },
    {
      "cell_type": "code",
      "metadata": {
        "colab": {
          "base_uri": "https://localhost:8080/"
        },
        "id": "zKkBK8yMtizA",
        "outputId": "9d7b93f3-5c7c-4782-9f28-031e13c0139a"
      },
      "source": [
        "recs_df.shape"
      ],
      "execution_count": null,
      "outputs": [
        {
          "output_type": "execute_result",
          "data": {
            "text/plain": [
              "(10, 17540)"
            ]
          },
          "metadata": {
            "tags": []
          },
          "execution_count": 183
        }
      ]
    },
    {
      "cell_type": "code",
      "metadata": {
        "colab": {
          "base_uri": "https://localhost:8080/",
          "height": 35
        },
        "id": "CGCIkHIxtizB",
        "outputId": "742debba-cd7c-4ad7-c770-4a004f92e1f6"
      },
      "source": [
        "lang"
      ],
      "execution_count": null,
      "outputs": [
        {
          "output_type": "execute_result",
          "data": {
            "application/vnd.google.colaboratory.intrinsic+json": {
              "type": "string"
            },
            "text/plain": [
              "'pt'"
            ]
          },
          "metadata": {
            "tags": []
          },
          "execution_count": 184
        }
      ]
    },
    {
      "cell_type": "code",
      "metadata": {
        "id": "jX2s2bUttizB"
      },
      "source": [
        "recs_df = recs_df.applymap(lambda x: x[0]).T"
      ],
      "execution_count": null,
      "outputs": []
    },
    {
      "cell_type": "code",
      "metadata": {
        "colab": {
          "base_uri": "https://localhost:8080/",
          "height": 407
        },
        "id": "a2V5ivi7tizB",
        "outputId": "1bd261f1-7076-41b8-a3e5-92c5ac753bee"
      },
      "source": [
        "recs_df"
      ],
      "execution_count": null,
      "outputs": [
        {
          "output_type": "execute_result",
          "data": {
            "text/html": [
              "<div>\n",
              "<style scoped>\n",
              "    .dataframe tbody tr th:only-of-type {\n",
              "        vertical-align: middle;\n",
              "    }\n",
              "\n",
              "    .dataframe tbody tr th {\n",
              "        vertical-align: top;\n",
              "    }\n",
              "\n",
              "    .dataframe thead th {\n",
              "        text-align: right;\n",
              "    }\n",
              "</style>\n",
              "<table border=\"1\" class=\"dataframe\">\n",
              "  <thead>\n",
              "    <tr style=\"text-align: right;\">\n",
              "      <th></th>\n",
              "      <th>0</th>\n",
              "      <th>1</th>\n",
              "      <th>2</th>\n",
              "      <th>3</th>\n",
              "      <th>4</th>\n",
              "      <th>5</th>\n",
              "      <th>6</th>\n",
              "      <th>7</th>\n",
              "      <th>8</th>\n",
              "      <th>9</th>\n",
              "    </tr>\n",
              "  </thead>\n",
              "  <tbody>\n",
              "    <tr>\n",
              "      <th>66</th>\n",
              "      <td>1357916</td>\n",
              "      <td>738178</td>\n",
              "      <td>1834617</td>\n",
              "      <td>539955</td>\n",
              "      <td>1099581</td>\n",
              "      <td>565087</td>\n",
              "      <td>927534</td>\n",
              "      <td>1055788</td>\n",
              "      <td>655468</td>\n",
              "      <td>2088247</td>\n",
              "    </tr>\n",
              "    <tr>\n",
              "      <th>106</th>\n",
              "      <td>1839647</td>\n",
              "      <td>1318485</td>\n",
              "      <td>970753</td>\n",
              "      <td>407032</td>\n",
              "      <td>915616</td>\n",
              "      <td>1580088</td>\n",
              "      <td>181378</td>\n",
              "      <td>2075736</td>\n",
              "      <td>735370</td>\n",
              "      <td>393457</td>\n",
              "    </tr>\n",
              "    <tr>\n",
              "      <th>108</th>\n",
              "      <td>1246927</td>\n",
              "      <td>1860276</td>\n",
              "      <td>1586466</td>\n",
              "      <td>1622428</td>\n",
              "      <td>1127247</td>\n",
              "      <td>1254288</td>\n",
              "      <td>1021873</td>\n",
              "      <td>482869</td>\n",
              "      <td>503397</td>\n",
              "      <td>1393812</td>\n",
              "    </tr>\n",
              "    <tr>\n",
              "      <th>132</th>\n",
              "      <td>1180153</td>\n",
              "      <td>1377553</td>\n",
              "      <td>1445442</td>\n",
              "      <td>880252</td>\n",
              "      <td>1363289</td>\n",
              "      <td>149883</td>\n",
              "      <td>673775</td>\n",
              "      <td>1740445</td>\n",
              "      <td>1882896</td>\n",
              "      <td>2067447</td>\n",
              "    </tr>\n",
              "    <tr>\n",
              "      <th>222</th>\n",
              "      <td>1640072</td>\n",
              "      <td>1080552</td>\n",
              "      <td>791900</td>\n",
              "      <td>593480</td>\n",
              "      <td>1425248</td>\n",
              "      <td>297221</td>\n",
              "      <td>1960036</td>\n",
              "      <td>190130</td>\n",
              "      <td>1925789</td>\n",
              "      <td>1976490</td>\n",
              "    </tr>\n",
              "    <tr>\n",
              "      <th>...</th>\n",
              "      <td>...</td>\n",
              "      <td>...</td>\n",
              "      <td>...</td>\n",
              "      <td>...</td>\n",
              "      <td>...</td>\n",
              "      <td>...</td>\n",
              "      <td>...</td>\n",
              "      <td>...</td>\n",
              "      <td>...</td>\n",
              "      <td>...</td>\n",
              "    </tr>\n",
              "    <tr>\n",
              "      <th>412839</th>\n",
              "      <td>256346</td>\n",
              "      <td>569262</td>\n",
              "      <td>386084</td>\n",
              "      <td>1424821</td>\n",
              "      <td>2079625</td>\n",
              "      <td>980662</td>\n",
              "      <td>171109</td>\n",
              "      <td>897047</td>\n",
              "      <td>968212</td>\n",
              "      <td>822602</td>\n",
              "    </tr>\n",
              "    <tr>\n",
              "      <th>412842</th>\n",
              "      <td>561961</td>\n",
              "      <td>493841</td>\n",
              "      <td>259485</td>\n",
              "      <td>927716</td>\n",
              "      <td>968307</td>\n",
              "      <td>33989</td>\n",
              "      <td>538073</td>\n",
              "      <td>712549</td>\n",
              "      <td>336923</td>\n",
              "      <td>269715</td>\n",
              "    </tr>\n",
              "    <tr>\n",
              "      <th>412960</th>\n",
              "      <td>2050220</td>\n",
              "      <td>1219076</td>\n",
              "      <td>504707</td>\n",
              "      <td>1919328</td>\n",
              "      <td>544738</td>\n",
              "      <td>1540439</td>\n",
              "      <td>944373</td>\n",
              "      <td>1910732</td>\n",
              "      <td>1493983</td>\n",
              "      <td>1446949</td>\n",
              "    </tr>\n",
              "    <tr>\n",
              "      <th>413092</th>\n",
              "      <td>670300</td>\n",
              "      <td>545806</td>\n",
              "      <td>1484771</td>\n",
              "      <td>1009596</td>\n",
              "      <td>1846301</td>\n",
              "      <td>38239</td>\n",
              "      <td>1716634</td>\n",
              "      <td>1456583</td>\n",
              "      <td>1421848</td>\n",
              "      <td>973159</td>\n",
              "    </tr>\n",
              "    <tr>\n",
              "      <th>413161</th>\n",
              "      <td>2076351</td>\n",
              "      <td>234839</td>\n",
              "      <td>442139</td>\n",
              "      <td>1893085</td>\n",
              "      <td>1185052</td>\n",
              "      <td>486461</td>\n",
              "      <td>831616</td>\n",
              "      <td>492862</td>\n",
              "      <td>1306322</td>\n",
              "      <td>2063867</td>\n",
              "    </tr>\n",
              "  </tbody>\n",
              "</table>\n",
              "<p>17540 rows × 10 columns</p>\n",
              "</div>"
            ],
            "text/plain": [
              "              0        1        2        3        4        5        6  \\\n",
              "66      1357916   738178  1834617   539955  1099581   565087   927534   \n",
              "106     1839647  1318485   970753   407032   915616  1580088   181378   \n",
              "108     1246927  1860276  1586466  1622428  1127247  1254288  1021873   \n",
              "132     1180153  1377553  1445442   880252  1363289   149883   673775   \n",
              "222     1640072  1080552   791900   593480  1425248   297221  1960036   \n",
              "...         ...      ...      ...      ...      ...      ...      ...   \n",
              "412839   256346   569262   386084  1424821  2079625   980662   171109   \n",
              "412842   561961   493841   259485   927716   968307    33989   538073   \n",
              "412960  2050220  1219076   504707  1919328   544738  1540439   944373   \n",
              "413092   670300   545806  1484771  1009596  1846301    38239  1716634   \n",
              "413161  2076351   234839   442139  1893085  1185052   486461   831616   \n",
              "\n",
              "              7        8        9  \n",
              "66      1055788   655468  2088247  \n",
              "106     2075736   735370   393457  \n",
              "108      482869   503397  1393812  \n",
              "132     1740445  1882896  2067447  \n",
              "222      190130  1925789  1976490  \n",
              "...         ...      ...      ...  \n",
              "412839   897047   968212   822602  \n",
              "412842   712549   336923   269715  \n",
              "412960  1910732  1493983  1446949  \n",
              "413092  1456583  1421848   973159  \n",
              "413161   492862  1306322  2063867  \n",
              "\n",
              "[17540 rows x 10 columns]"
            ]
          },
          "metadata": {
            "tags": []
          },
          "execution_count": 186
        }
      ]
    },
    {
      "cell_type": "code",
      "metadata": {
        "id": "4LQNJInjtizB"
      },
      "source": [
        "# true_fn = 'true.pkl'\n",
        "# true_fp = os.path.join(processed_data_dir, true_fn)\n",
        "# true_df = pd.read_pickle(true_fp)\n",
        "# item_domain_fn = 'item_domain.pkl'\n",
        "# item_domain_fp = os.path.join(processed_data_dir, item_domain_fn)\n",
        "# item_domain = pd.read_pickle(item_domain_fp)"
      ],
      "execution_count": null,
      "outputs": []
    },
    {
      "cell_type": "code",
      "metadata": {
        "id": "0BcLwnEVtizB"
      },
      "source": [
        "recs_df_scored = score_pred(recs_df, true_df, item_domain)"
      ],
      "execution_count": null,
      "outputs": []
    },
    {
      "cell_type": "code",
      "metadata": {
        "id": "MZqN0A-QtizB",
        "colab": {
          "base_uri": "https://localhost:8080/"
        },
        "outputId": "98a4be8d-4a15-4dbb-fa12-75b56b82c699"
      },
      "source": [
        "recs_df_scored.ndcg.mean()"
      ],
      "execution_count": null,
      "outputs": [
        {
          "output_type": "execute_result",
          "data": {
            "text/plain": [
              "0.238807964249528"
            ]
          },
          "metadata": {
            "tags": []
          },
          "execution_count": 189
        }
      ]
    },
    {
      "cell_type": "code",
      "metadata": {
        "id": "lBlM-hO1tizB",
        "outputId": "f3389ef8-6d4e-4ae1-9a30-f171fc804765"
      },
      "source": [
        "recs_df_scored.sample()"
      ],
      "execution_count": null,
      "outputs": [
        {
          "output_type": "execute_result",
          "data": {
            "text/html": [
              "<div>\n",
              "<style scoped>\n",
              "    .dataframe tbody tr th:only-of-type {\n",
              "        vertical-align: middle;\n",
              "    }\n",
              "\n",
              "    .dataframe tbody tr th {\n",
              "        vertical-align: top;\n",
              "    }\n",
              "\n",
              "    .dataframe thead th {\n",
              "        text-align: right;\n",
              "    }\n",
              "</style>\n",
              "<table border=\"1\" class=\"dataframe\">\n",
              "  <thead>\n",
              "    <tr style=\"text-align: right;\">\n",
              "      <th></th>\n",
              "      <th>seq</th>\n",
              "      <th>0</th>\n",
              "      <th>1</th>\n",
              "      <th>2</th>\n",
              "      <th>3</th>\n",
              "      <th>4</th>\n",
              "      <th>5</th>\n",
              "      <th>6</th>\n",
              "      <th>7</th>\n",
              "      <th>8</th>\n",
              "      <th>9</th>\n",
              "      <th>item_bought</th>\n",
              "      <th>item_bought_domain</th>\n",
              "      <th>domain_id_0</th>\n",
              "      <th>domain_id_1</th>\n",
              "      <th>domain_id_2</th>\n",
              "      <th>domain_id_3</th>\n",
              "      <th>domain_id_4</th>\n",
              "      <th>domain_id_5</th>\n",
              "      <th>domain_id_6</th>\n",
              "      <th>domain_id_7</th>\n",
              "      <th>domain_id_8</th>\n",
              "      <th>domain_id_9</th>\n",
              "      <th>rel_item_0</th>\n",
              "      <th>rel_domain_0</th>\n",
              "      <th>rel_item_1</th>\n",
              "      <th>rel_domain_1</th>\n",
              "      <th>rel_item_2</th>\n",
              "      <th>rel_domain_2</th>\n",
              "      <th>rel_item_3</th>\n",
              "      <th>rel_domain_3</th>\n",
              "      <th>rel_item_4</th>\n",
              "      <th>rel_domain_4</th>\n",
              "      <th>rel_item_5</th>\n",
              "      <th>rel_domain_5</th>\n",
              "      <th>rel_item_6</th>\n",
              "      <th>rel_domain_6</th>\n",
              "      <th>rel_item_7</th>\n",
              "      <th>rel_domain_7</th>\n",
              "      <th>rel_item_8</th>\n",
              "      <th>rel_domain_8</th>\n",
              "      <th>rel_item_9</th>\n",
              "      <th>rel_domain_9</th>\n",
              "      <th>relevances_item</th>\n",
              "      <th>relevances_domain</th>\n",
              "      <th>relevances</th>\n",
              "      <th>ndcg</th>\n",
              "    </tr>\n",
              "  </thead>\n",
              "  <tbody>\n",
              "    <tr>\n",
              "      <th>2754</th>\n",
              "      <td>387178</td>\n",
              "      <td>539114</td>\n",
              "      <td>1774437</td>\n",
              "      <td>1041814</td>\n",
              "      <td>1557912</td>\n",
              "      <td>298621</td>\n",
              "      <td>1013463</td>\n",
              "      <td>811934</td>\n",
              "      <td>615759</td>\n",
              "      <td>228343</td>\n",
              "      <td>23757</td>\n",
              "      <td>412036</td>\n",
              "      <td>MLB-LIGHT_BULBS</td>\n",
              "      <td>MLB-TOOL_ACCESSORIES_AND_SPARES</td>\n",
              "      <td>MLB-ELECTRONIC_PRODUCTS</td>\n",
              "      <td>MLB-ELECTRONIC_PRODUCTS</td>\n",
              "      <td>MLB-SPORTS_AND_FITNESS</td>\n",
              "      <td>MLB-ELECTRONIC_ACCESSORIES_AND_SPARE_PARTS</td>\n",
              "      <td>MLB-AUTOMOTIVE_CELLPHONE_AND_GPS_MOUNTS</td>\n",
              "      <td>MLB-VEHICLE_PARTS</td>\n",
              "      <td>MLB-ALARMS_AND_SENSORS</td>\n",
              "      <td>MLB-GAMEPADS_AND_JOYSTICKS</td>\n",
              "      <td>MLB-ELECTRONIC_LOCKS</td>\n",
              "      <td>0</td>\n",
              "      <td>0</td>\n",
              "      <td>0</td>\n",
              "      <td>0</td>\n",
              "      <td>0</td>\n",
              "      <td>0</td>\n",
              "      <td>0</td>\n",
              "      <td>0</td>\n",
              "      <td>0</td>\n",
              "      <td>0</td>\n",
              "      <td>0</td>\n",
              "      <td>0</td>\n",
              "      <td>0</td>\n",
              "      <td>0</td>\n",
              "      <td>0</td>\n",
              "      <td>0</td>\n",
              "      <td>0</td>\n",
              "      <td>0</td>\n",
              "      <td>0</td>\n",
              "      <td>0</td>\n",
              "      <td>[0, 0, 0, 0, 0, 0, 0, 0, 0, 0]</td>\n",
              "      <td>[0, 0, 0, 0, 0, 0, 0, 0, 0, 0]</td>\n",
              "      <td>[0, 0, 0, 0, 0, 0, 0, 0, 0, 0]</td>\n",
              "      <td>0.0</td>\n",
              "    </tr>\n",
              "  </tbody>\n",
              "</table>\n",
              "</div>"
            ],
            "text/plain": [
              "         seq       0        1        2        3       4        5       6  \\\n",
              "2754  387178  539114  1774437  1041814  1557912  298621  1013463  811934   \n",
              "\n",
              "           7       8      9  item_bought item_bought_domain  \\\n",
              "2754  615759  228343  23757       412036    MLB-LIGHT_BULBS   \n",
              "\n",
              "                          domain_id_0              domain_id_1  \\\n",
              "2754  MLB-TOOL_ACCESSORIES_AND_SPARES  MLB-ELECTRONIC_PRODUCTS   \n",
              "\n",
              "                  domain_id_2             domain_id_3  \\\n",
              "2754  MLB-ELECTRONIC_PRODUCTS  MLB-SPORTS_AND_FITNESS   \n",
              "\n",
              "                                     domain_id_4  \\\n",
              "2754  MLB-ELECTRONIC_ACCESSORIES_AND_SPARE_PARTS   \n",
              "\n",
              "                                  domain_id_5        domain_id_6  \\\n",
              "2754  MLB-AUTOMOTIVE_CELLPHONE_AND_GPS_MOUNTS  MLB-VEHICLE_PARTS   \n",
              "\n",
              "                 domain_id_7                 domain_id_8  \\\n",
              "2754  MLB-ALARMS_AND_SENSORS  MLB-GAMEPADS_AND_JOYSTICKS   \n",
              "\n",
              "               domain_id_9  rel_item_0  rel_domain_0  rel_item_1  \\\n",
              "2754  MLB-ELECTRONIC_LOCKS           0             0           0   \n",
              "\n",
              "      rel_domain_1  rel_item_2  rel_domain_2  rel_item_3  rel_domain_3  \\\n",
              "2754             0           0             0           0             0   \n",
              "\n",
              "      rel_item_4  rel_domain_4  rel_item_5  rel_domain_5  rel_item_6  \\\n",
              "2754           0             0           0             0           0   \n",
              "\n",
              "      rel_domain_6  rel_item_7  rel_domain_7  rel_item_8  rel_domain_8  \\\n",
              "2754             0           0             0           0             0   \n",
              "\n",
              "      rel_item_9  rel_domain_9                 relevances_item  \\\n",
              "2754           0             0  [0, 0, 0, 0, 0, 0, 0, 0, 0, 0]   \n",
              "\n",
              "                   relevances_domain                      relevances  ndcg  \n",
              "2754  [0, 0, 0, 0, 0, 0, 0, 0, 0, 0]  [0, 0, 0, 0, 0, 0, 0, 0, 0, 0]   0.0  "
            ]
          },
          "metadata": {
            "tags": []
          },
          "execution_count": 86
        }
      ]
    },
    {
      "cell_type": "markdown",
      "metadata": {
        "id": "fSzFmSCxqDUg"
      },
      "source": [
        "# new predictions"
      ]
    },
    {
      "cell_type": "markdown",
      "metadata": {
        "id": "dNT83GpOrlmv"
      },
      "source": [
        "##### item_data"
      ]
    },
    {
      "cell_type": "code",
      "metadata": {
        "id": "JpIsx6c8rlmv"
      },
      "source": [
        "# item_data_fn = 'item_data.pkl'\n",
        "# item_data_fp = os.path.join(processed_data_dir, item_data_fn)\n",
        "# item_data = pd.read_pickle(item_data_fp)"
      ],
      "execution_count": null,
      "outputs": []
    },
    {
      "cell_type": "markdown",
      "metadata": {
        "id": "ARH4_M8Zrlmw"
      },
      "source": [
        "#### item title embeddings\n",
        "use only item_id and item_embs cols from item_data "
      ]
    },
    {
      "cell_type": "code",
      "metadata": {
        "id": "JnOGVhNXrlmw"
      },
      "source": [
        "lang = 'pt'"
      ],
      "execution_count": null,
      "outputs": []
    },
    {
      "cell_type": "code",
      "metadata": {
        "id": "MPT6quEArlmw"
      },
      "source": [
        "item_data_embs_only_fn = 'item_data_embs_only.pkl'\n",
        "item_data_embs_only_fp = os.path.join(processed_data_dir, item_data_embs_only_fn)\n",
        "item_data_embs_only = pd.read_pickle(item_data_embs_only_fp)\n",
        "\n",
        "item_data_embs_only = item_data_embs_only[item_data_embs_only.lang_domain == lang].copy()\n",
        "item_data_embs_only.drop('lang_domain', axis = 1, inplace = True)\n",
        "#item_data_embs_only = item_data.copy() ####### <--- added\n",
        "item_data_embs_only.set_index('item_id', inplace = True)"
      ],
      "execution_count": null,
      "outputs": []
    },
    {
      "cell_type": "code",
      "metadata": {
        "id": "9oSiiMV3rlmw"
      },
      "source": [
        "# item_data = item_data.dropna()"
      ],
      "execution_count": null,
      "outputs": []
    },
    {
      "cell_type": "code",
      "metadata": {
        "colab": {
          "base_uri": "https://localhost:8080/",
          "height": 228
        },
        "id": "5bl-W7u68tr-",
        "outputId": "21b8ebb0-39d6-48ba-847b-c087829c4c29"
      },
      "source": [
        "item_data_embs_only.sample(5)"
      ],
      "execution_count": null,
      "outputs": [
        {
          "output_type": "execute_result",
          "data": {
            "text/html": [
              "<div>\n",
              "<style scoped>\n",
              "    .dataframe tbody tr th:only-of-type {\n",
              "        vertical-align: middle;\n",
              "    }\n",
              "\n",
              "    .dataframe tbody tr th {\n",
              "        vertical-align: top;\n",
              "    }\n",
              "\n",
              "    .dataframe thead th {\n",
              "        text-align: right;\n",
              "    }\n",
              "</style>\n",
              "<table border=\"1\" class=\"dataframe\">\n",
              "  <thead>\n",
              "    <tr style=\"text-align: right;\">\n",
              "      <th></th>\n",
              "      <th>title_embs</th>\n",
              "    </tr>\n",
              "    <tr>\n",
              "      <th>item_id</th>\n",
              "      <th></th>\n",
              "    </tr>\n",
              "  </thead>\n",
              "  <tbody>\n",
              "    <tr>\n",
              "      <th>1645207</th>\n",
              "      <td>[-0.03827, -0.01639, 0.0195, -0.1865, -0.1357,...</td>\n",
              "    </tr>\n",
              "    <tr>\n",
              "      <th>705927</th>\n",
              "      <td>[-0.0597, -0.0735, 0.2174, -0.0756, -0.1465, 0...</td>\n",
              "    </tr>\n",
              "    <tr>\n",
              "      <th>385369</th>\n",
              "      <td>[0.1296, 0.1316, 0.1875, -0.1377, -0.2158, -0....</td>\n",
              "    </tr>\n",
              "    <tr>\n",
              "      <th>908143</th>\n",
              "      <td>[0.109, 0.02715, 0.1142, -0.1157, -0.10187, -0...</td>\n",
              "    </tr>\n",
              "    <tr>\n",
              "      <th>1232872</th>\n",
              "      <td>[-0.2491, -0.2015, 0.0003433, -0.0875, -0.0467...</td>\n",
              "    </tr>\n",
              "  </tbody>\n",
              "</table>\n",
              "</div>"
            ],
            "text/plain": [
              "                                                title_embs\n",
              "item_id                                                   \n",
              "1645207  [-0.03827, -0.01639, 0.0195, -0.1865, -0.1357,...\n",
              "705927   [-0.0597, -0.0735, 0.2174, -0.0756, -0.1465, 0...\n",
              "385369   [0.1296, 0.1316, 0.1875, -0.1377, -0.2158, -0....\n",
              "908143   [0.109, 0.02715, 0.1142, -0.1157, -0.10187, -0...\n",
              "1232872  [-0.2491, -0.2015, 0.0003433, -0.0875, -0.0467..."
            ]
          },
          "metadata": {
            "tags": []
          },
          "execution_count": 218
        }
      ]
    },
    {
      "cell_type": "code",
      "metadata": {
        "id": "ktPpE7qGrlmw"
      },
      "source": [
        "# item_data_embs_only.head()"
      ],
      "execution_count": null,
      "outputs": []
    },
    {
      "cell_type": "markdown",
      "metadata": {
        "id": "o9j7EpbOrlmx"
      },
      "source": [
        "#### search embeddings\n",
        "train_test with embeddings"
      ]
    },
    {
      "cell_type": "code",
      "metadata": {
        "id": "HL5NgpxFrlmx"
      },
      "source": [
        "train_test_embs_fn = 'train_test_embs.pkl'\n",
        "train_test_embs_fp = os.path.join(interim_data_dir, train_test_embs_fn)\n",
        "train_test = pd.read_pickle(train_test_embs_fp)\n",
        "\n",
        "train_test['seq'] = train_test.seq - TEST_OFFSET\n",
        "train_test = train_test[train_test.seq >= 0]  # prediction"
      ],
      "execution_count": null,
      "outputs": []
    },
    {
      "cell_type": "code",
      "metadata": {
        "colab": {
          "base_uri": "https://localhost:8080/"
        },
        "id": "pnOSDz1N9AZP",
        "outputId": "6ccf4f19-0708-4961-f862-3ab3b38cdc9e"
      },
      "source": [
        "train_test.seq.unique().shape"
      ],
      "execution_count": null,
      "outputs": [
        {
          "output_type": "execute_result",
          "data": {
            "text/plain": [
              "(177070,)"
            ]
          },
          "metadata": {
            "tags": []
          },
          "execution_count": 221
        }
      ]
    },
    {
      "cell_type": "markdown",
      "metadata": {
        "id": "594EMpIEvEnl"
      },
      "source": [
        ""
      ]
    },
    {
      "cell_type": "code",
      "metadata": {
        "id": "7-wq--3-vM0a"
      },
      "source": [
        "ndcg_zero_pred_fn = 'ndcg_zero_pred.pkl'  #### < ---- added\n",
        "ndcg_zero_pred_fp = os.path.join(interim_data_dir, ndcg_zero_pred_fn) #### < ---- added\n",
        "ndcg_zero_pred = pd.read_pickle(ndcg_zero_pred_fp) #### < ---- added\n",
        "\n",
        "# search_view_stats = train_test.groupby('seq').event_type.value_counts().unstack().fillna(0) #### < ---- added\n",
        "# low_view_seqs = search_view_stats[search_view_stats.view < 2].index  #### < ---- added"
      ],
      "execution_count": null,
      "outputs": []
    },
    {
      "cell_type": "code",
      "metadata": {
        "colab": {
          "base_uri": "https://localhost:8080/"
        },
        "id": "iJsKJqR2v__C",
        "outputId": "a5cb6c85-a366-45a4-ff34-b9e5553be9c5"
      },
      "source": [
        "nine_decile = ndcg_zero_pred.ndcg_zero_pred.quantile(0.9)\n",
        "ninetyfive_percentile = ndcg_zero_pred.ndcg_zero_pred.quantile(0.95)\n",
        "\n",
        "print(nine_decile, ninetyfive_percentile)\n",
        "\n",
        "seq_sel_1 = ndcg_zero_pred.query(\"ndcg_zero_pred > @nine_decile\")\n",
        "seq_sel_1 = seq_sel_1.index\n",
        "\n",
        "seq_sel_2 = ndcg_zero_pred.query(\"view == 0\")\n",
        "seq_sel_2 = seq_sel_2.index\n",
        "\n",
        "seq_sel = list(set(seq_sel_1) | set(seq_sel_2))\n",
        "len(seq_sel)"
      ],
      "execution_count": null,
      "outputs": [
        {
          "output_type": "stream",
          "text": [
            "0.7614311923070605 0.7614311923070605\n"
          ],
          "name": "stdout"
        },
        {
          "output_type": "execute_result",
          "data": {
            "text/plain": [
              "15780"
            ]
          },
          "metadata": {
            "tags": []
          },
          "execution_count": 223
        }
      ]
    },
    {
      "cell_type": "code",
      "metadata": {
        "id": "AdK69g1Uv4Gm"
      },
      "source": [
        "train_test = train_test[train_test.seq.isin(seq_sel)] #### < ---- added"
      ],
      "execution_count": null,
      "outputs": []
    },
    {
      "cell_type": "code",
      "metadata": {
        "id": "S6xAwdJqrlmx"
      },
      "source": [
        "views = train_test[(train_test.lang_seq == lang) & (train_test.event_type == 'view')] #### < ---- added\n",
        "views = pd.merge(views, item_data_embs_only, left_on = 'event_info', right_on = 'item_id', how = 'left') #### < ---- added\n",
        "# views = views.dropna(subset = ['title_embs']) #### < ---- added"
      ],
      "execution_count": null,
      "outputs": []
    },
    {
      "cell_type": "code",
      "metadata": {
        "id": "Cr1XfW6frlmx"
      },
      "source": [
        "queries = train_test[(train_test.lang_seq == lang) & (train_test.event_type == 'search')]"
      ],
      "execution_count": null,
      "outputs": []
    },
    {
      "cell_type": "code",
      "metadata": {
        "id": "H9vMVpdbrlmx"
      },
      "source": [
        "views_queries = pd.concat([views, queries]) ##### <---- added"
      ],
      "execution_count": null,
      "outputs": []
    },
    {
      "cell_type": "code",
      "metadata": {
        "colab": {
          "base_uri": "https://localhost:8080/"
        },
        "id": "ajN4ndwgrlmx",
        "outputId": "f8705642-e20e-4107-d49a-bcb04e279bb7"
      },
      "source": [
        "views_queries.event_type.value_counts()"
      ],
      "execution_count": null,
      "outputs": [
        {
          "output_type": "execute_result",
          "data": {
            "text/plain": [
              "search    68193\n",
              "view       3791\n",
              "Name: event_type, dtype: int64"
            ]
          },
          "metadata": {
            "tags": []
          },
          "execution_count": 228
        }
      ]
    },
    {
      "cell_type": "markdown",
      "metadata": {
        "id": "PBG6Fw3crlmx"
      },
      "source": [
        "#### prediction for all seq_sel\n",
        "no selecting train seq's for validation"
      ]
    },
    {
      "cell_type": "code",
      "metadata": {
        "id": "MQ6K_z2Nrlmx"
      },
      "source": [
        "# validation = 0.2\n",
        "# unique_seqs = views_queries.seq.unique() ##### <---- mod\n",
        "# seq_sample_size = int(len(unique_seqs) * validation)\n",
        "# seq_sel = np.random.choice(unique_seqs, size = seq_sample_size, replace = False)"
      ],
      "execution_count": null,
      "outputs": []
    },
    {
      "cell_type": "markdown",
      "metadata": {
        "id": "aFcC_BIqrlmx"
      },
      "source": [
        "##### selecting queries only in scope"
      ]
    },
    {
      "cell_type": "code",
      "metadata": {
        "colab": {
          "base_uri": "https://localhost:8080/"
        },
        "id": "y8tjGuR_y6iI",
        "outputId": "fff45860-f42e-4358-bcb5-dbd0c1813597"
      },
      "source": [
        "views_queries.seq.unique().shape"
      ],
      "execution_count": null,
      "outputs": [
        {
          "output_type": "execute_result",
          "data": {
            "text/plain": [
              "(15161,)"
            ]
          },
          "metadata": {
            "tags": []
          },
          "execution_count": 230
        }
      ]
    },
    {
      "cell_type": "code",
      "metadata": {
        "id": "V06t2J2prlmx"
      },
      "source": [
        "views_queries = views_queries[views_queries.seq.isin(seq_sel)]"
      ],
      "execution_count": null,
      "outputs": []
    },
    {
      "cell_type": "code",
      "metadata": {
        "colab": {
          "base_uri": "https://localhost:8080/"
        },
        "id": "PaVbNfqzzaGX",
        "outputId": "d94c8348-ed50-483a-f506-2c8629dd6534"
      },
      "source": [
        "views_queries.seq.unique().shape"
      ],
      "execution_count": null,
      "outputs": [
        {
          "output_type": "execute_result",
          "data": {
            "text/plain": [
              "(15161,)"
            ]
          },
          "metadata": {
            "tags": []
          },
          "execution_count": 232
        }
      ]
    },
    {
      "cell_type": "code",
      "metadata": {
        "colab": {
          "base_uri": "https://localhost:8080/"
        },
        "id": "sL36C6tgrlmx",
        "outputId": "9af101fa-6f52-44b0-a248-029a884a2412"
      },
      "source": [
        "unique_seqs = views_queries.seq.unique()\n",
        "num_batches = len(unique_seqs) // 100\n",
        "seqs = np.array_split(unique_seqs, num_batches)\n",
        "num_batches"
      ],
      "execution_count": null,
      "outputs": [
        {
          "output_type": "execute_result",
          "data": {
            "text/plain": [
              "151"
            ]
          },
          "metadata": {
            "tags": []
          },
          "execution_count": 233
        }
      ]
    },
    {
      "cell_type": "code",
      "metadata": {
        "colab": {
          "base_uri": "https://localhost:8080/"
        },
        "id": "tVoz0nh_rlmx",
        "outputId": "c7329175-88af-4de8-88a7-3b1ba7c41e30"
      },
      "source": [
        "seq_batch = seqs[0]\n",
        "len(seq_batch)"
      ],
      "execution_count": null,
      "outputs": [
        {
          "output_type": "execute_result",
          "data": {
            "text/plain": [
              "101"
            ]
          },
          "metadata": {
            "tags": []
          },
          "execution_count": 234
        }
      ]
    },
    {
      "cell_type": "code",
      "metadata": {
        "id": "pRS3UEC4rlmx"
      },
      "source": [
        "views_queries['query_embs'] = views_queries.query_embs.fillna(views_queries.title_embs) ##### <===== added\n",
        "views_queries.rename(columns = {'query_embs': 'query_title_embs'}, inplace = True)  ##### <===== added\n",
        "views_queries.drop(columns = 'title_embs', inplace = True)  ##### <===== added"
      ],
      "execution_count": null,
      "outputs": []
    },
    {
      "cell_type": "code",
      "metadata": {
        "id": "gy1pplNErlmx",
        "colab": {
          "base_uri": "https://localhost:8080/"
        },
        "outputId": "67ba5ca2-c192-4c6a-e6c4-a052e6eca862"
      },
      "source": [
        "item_data_embs_only = item_data_embs_only.title_embs.progress_apply(pd.Series)\n",
        "item_data_tensor = tf.constant(item_data_embs_only)"
      ],
      "execution_count": null,
      "outputs": [
        {
          "output_type": "stream",
          "text": [
            "100%|██████████| 1723216/1723216 [05:19<00:00, 5396.88it/s] \n"
          ],
          "name": "stderr"
        }
      ]
    },
    {
      "cell_type": "code",
      "metadata": {
        "id": "i5nG1dukrlmx"
      },
      "source": [
        "value_of_a_search = 1 #### <=== added\n",
        "views_queries['views'] = views_queries.views.fillna(value_of_a_search) #### <=== added"
      ],
      "execution_count": null,
      "outputs": []
    },
    {
      "cell_type": "code",
      "metadata": {
        "id": "n4Dpk6f6rlmx"
      },
      "source": [
        "def weighted(x): #### <=== added whole function\n",
        "  numerator = sum(x.views * x.query_title_embs)\n",
        "  denominator = sum(x.views)\n",
        "  return pd.Series(numerator/denominator)"
      ],
      "execution_count": null,
      "outputs": []
    },
    {
      "cell_type": "code",
      "metadata": {
        "id": "AxSlc-Ycrlmx"
      },
      "source": [
        "def weighted_dropdup(x): #### <=== added whole function\n",
        "  x = x.drop_duplicates(subset = ['event_info'])\n",
        "  numerator = sum(x.views * x.query_title_embs)\n",
        "  denominator = sum(x.views)\n",
        "  return pd.Series(numerator/denominator)"
      ],
      "execution_count": null,
      "outputs": []
    },
    {
      "cell_type": "code",
      "metadata": {
        "colab": {
          "base_uri": "https://localhost:8080/",
          "height": 108
        },
        "id": "MPdL8CAPrlmx",
        "outputId": "33889b24-14a6-45ee-8718-7a8e807e0f1f"
      },
      "source": [
        "views_queries.head(2)"
      ],
      "execution_count": null,
      "outputs": [
        {
          "output_type": "execute_result",
          "data": {
            "text/html": [
              "<div>\n",
              "<style scoped>\n",
              "    .dataframe tbody tr th:only-of-type {\n",
              "        vertical-align: middle;\n",
              "    }\n",
              "\n",
              "    .dataframe tbody tr th {\n",
              "        vertical-align: top;\n",
              "    }\n",
              "\n",
              "    .dataframe thead th {\n",
              "        text-align: right;\n",
              "    }\n",
              "</style>\n",
              "<table border=\"1\" class=\"dataframe\">\n",
              "  <thead>\n",
              "    <tr style=\"text-align: right;\">\n",
              "      <th></th>\n",
              "      <th>seq</th>\n",
              "      <th>event_info</th>\n",
              "      <th>views</th>\n",
              "      <th>event_type</th>\n",
              "      <th>lang_seq</th>\n",
              "      <th>query_title_embs</th>\n",
              "    </tr>\n",
              "  </thead>\n",
              "  <tbody>\n",
              "    <tr>\n",
              "      <th>0</th>\n",
              "      <td>71</td>\n",
              "      <td>188477</td>\n",
              "      <td>1.0</td>\n",
              "      <td>view</td>\n",
              "      <td>pt</td>\n",
              "      <td>[-0.259, -0.09125, -0.10486, -0.1002, -0.02124...</td>\n",
              "    </tr>\n",
              "    <tr>\n",
              "      <th>1</th>\n",
              "      <td>72</td>\n",
              "      <td>1.82295e+06</td>\n",
              "      <td>1.0</td>\n",
              "      <td>view</td>\n",
              "      <td>pt</td>\n",
              "      <td>[-0.08167, 0.05994, 0.02953, -0.0573, 0.04208,...</td>\n",
              "    </tr>\n",
              "  </tbody>\n",
              "</table>\n",
              "</div>"
            ],
            "text/plain": [
              "   seq   event_info  views event_type lang_seq  \\\n",
              "0   71       188477    1.0       view       pt   \n",
              "1   72  1.82295e+06    1.0       view       pt   \n",
              "\n",
              "                                    query_title_embs  \n",
              "0  [-0.259, -0.09125, -0.10486, -0.1002, -0.02124...  \n",
              "1  [-0.08167, 0.05994, 0.02953, -0.0573, 0.04208,...  "
            ]
          },
          "metadata": {
            "tags": []
          },
          "execution_count": 241
        }
      ]
    },
    {
      "cell_type": "code",
      "metadata": {
        "colab": {
          "base_uri": "https://localhost:8080/"
        },
        "id": "UcIP5PYJrlmx",
        "outputId": "d2c951b4-4fdc-4f24-90d1-b49be49df420"
      },
      "source": [
        "recs = dict()\n",
        "\n",
        "for seq_batch in tqdm(seqs):\n",
        "    query_embs = views_queries[views_queries.seq.isin(seq_batch)]\n",
        "    # query_embs = query_embs.groupby('seq').query_title_embs.apply(lambda x: x.mean())  #### <=== del\n",
        "    query_embs = query_embs.groupby('seq')[['query_title_embs', 'views']].apply(weighted)  #### <=== added\n",
        "    # query_embs = query_embs.groupby('seq')[['query_title_embs', 'views', 'event_info']].apply(weighted_dropdup)  #### <=== added\n",
        "    # query_embs = query_embs.apply(pd.Series) #### <=== del. weighted function returns pd.Series\n",
        "    \n",
        "    # scores = item_data @ query_embs.T\n",
        "    scores = tf.matmul(item_data_tensor, query_embs.T).numpy()\n",
        "    scores = pd.DataFrame(scores, index = item_data_embs_only.index, columns = query_embs.index)\n",
        "    \n",
        "    for s in scores.columns:\n",
        "        recs[s] = list(scores[s].nlargest(10).items())"
      ],
      "execution_count": null,
      "outputs": [
        {
          "output_type": "stream",
          "text": [
            "100%|██████████| 151/151 [19:02<00:00,  7.57s/it]\n"
          ],
          "name": "stderr"
        }
      ]
    },
    {
      "cell_type": "code",
      "metadata": {
        "colab": {
          "base_uri": "https://localhost:8080/"
        },
        "id": "iI7hLJWmQhAx",
        "outputId": "dfe1a8a9-452c-479c-c7dc-e92b8212142b"
      },
      "source": [
        "len(recs[71])"
      ],
      "execution_count": null,
      "outputs": [
        {
          "output_type": "execute_result",
          "data": {
            "text/plain": [
              "10"
            ]
          },
          "metadata": {
            "tags": []
          },
          "execution_count": 256
        }
      ]
    },
    {
      "cell_type": "code",
      "metadata": {
        "colab": {
          "base_uri": "https://localhost:8080/"
        },
        "id": "mrCAInpwP1wY",
        "outputId": "ad800696-409d-4116-f9f2-5f90aeb28c6f"
      },
      "source": [
        "keys_to_remove = list()\n",
        "for k in recs.keys():\n",
        "  l = len(recs[k])\n",
        "  if l != 10:\n",
        "    print(k, l)\n",
        "    keys_to_remove.append(k)\n",
        "\n",
        "# [4627, 18236, 38517, 151122, 152581]"
      ],
      "execution_count": null,
      "outputs": [
        {
          "output_type": "stream",
          "text": [
            "18236 0\n",
            "38517 0\n",
            "151122 0\n",
            "152581 0\n"
          ],
          "name": "stdout"
        }
      ]
    },
    {
      "cell_type": "code",
      "metadata": {
        "id": "5NO_1Mi-R5d0"
      },
      "source": [
        "for k in keys_to_remove:\n",
        "  if k in recs:\n",
        "    del recs[k]"
      ],
      "execution_count": null,
      "outputs": []
    },
    {
      "cell_type": "code",
      "metadata": {
        "id": "4hz3v0H-rlmx"
      },
      "source": [
        "recs_df = pd.DataFrame(recs)"
      ],
      "execution_count": null,
      "outputs": []
    },
    {
      "cell_type": "code",
      "metadata": {
        "colab": {
          "base_uri": "https://localhost:8080/"
        },
        "id": "NKbFoda_rlmx",
        "outputId": "bedcc065-04f6-42e1-bb20-09b529941fc3"
      },
      "source": [
        "recs_df.shape"
      ],
      "execution_count": null,
      "outputs": [
        {
          "output_type": "execute_result",
          "data": {
            "text/plain": [
              "(10, 15156)"
            ]
          },
          "metadata": {
            "tags": []
          },
          "execution_count": 266
        }
      ]
    },
    {
      "cell_type": "code",
      "metadata": {
        "colab": {
          "base_uri": "https://localhost:8080/",
          "height": 35
        },
        "id": "rGWLz3LIrlmx",
        "outputId": "3293ea31-02d5-4991-98de-993ffd6a8358"
      },
      "source": [
        "lang"
      ],
      "execution_count": null,
      "outputs": [
        {
          "output_type": "execute_result",
          "data": {
            "application/vnd.google.colaboratory.intrinsic+json": {
              "type": "string"
            },
            "text/plain": [
              "'pt'"
            ]
          },
          "metadata": {
            "tags": []
          },
          "execution_count": 267
        }
      ]
    },
    {
      "cell_type": "code",
      "metadata": {
        "id": "RzjeXFDWrlmx"
      },
      "source": [
        "recs_df = recs_df.applymap(lambda x: x[0]).T"
      ],
      "execution_count": null,
      "outputs": []
    },
    {
      "cell_type": "code",
      "metadata": {
        "colab": {
          "base_uri": "https://localhost:8080/",
          "height": 407
        },
        "id": "SH39QQNlrlmy",
        "outputId": "0d02c293-df3d-4203-ea2e-c1c68f4ac497"
      },
      "source": [
        "recs_df"
      ],
      "execution_count": null,
      "outputs": [
        {
          "output_type": "execute_result",
          "data": {
            "text/html": [
              "<div>\n",
              "<style scoped>\n",
              "    .dataframe tbody tr th:only-of-type {\n",
              "        vertical-align: middle;\n",
              "    }\n",
              "\n",
              "    .dataframe tbody tr th {\n",
              "        vertical-align: top;\n",
              "    }\n",
              "\n",
              "    .dataframe thead th {\n",
              "        text-align: right;\n",
              "    }\n",
              "</style>\n",
              "<table border=\"1\" class=\"dataframe\">\n",
              "  <thead>\n",
              "    <tr style=\"text-align: right;\">\n",
              "      <th></th>\n",
              "      <th>0</th>\n",
              "      <th>1</th>\n",
              "      <th>2</th>\n",
              "      <th>3</th>\n",
              "      <th>4</th>\n",
              "      <th>5</th>\n",
              "      <th>6</th>\n",
              "      <th>7</th>\n",
              "      <th>8</th>\n",
              "      <th>9</th>\n",
              "    </tr>\n",
              "  </thead>\n",
              "  <tbody>\n",
              "    <tr>\n",
              "      <th>71</th>\n",
              "      <td>1693477</td>\n",
              "      <td>1087023</td>\n",
              "      <td>17448</td>\n",
              "      <td>377410</td>\n",
              "      <td>1739443</td>\n",
              "      <td>1788654</td>\n",
              "      <td>1960495</td>\n",
              "      <td>36110</td>\n",
              "      <td>900926</td>\n",
              "      <td>525872</td>\n",
              "    </tr>\n",
              "    <tr>\n",
              "      <th>72</th>\n",
              "      <td>1101005</td>\n",
              "      <td>1720880</td>\n",
              "      <td>1397380</td>\n",
              "      <td>539592</td>\n",
              "      <td>1163908</td>\n",
              "      <td>441597</td>\n",
              "      <td>1136028</td>\n",
              "      <td>1662074</td>\n",
              "      <td>458881</td>\n",
              "      <td>566176</td>\n",
              "    </tr>\n",
              "    <tr>\n",
              "      <th>94</th>\n",
              "      <td>973810</td>\n",
              "      <td>1647454</td>\n",
              "      <td>1592163</td>\n",
              "      <td>546916</td>\n",
              "      <td>1195032</td>\n",
              "      <td>805553</td>\n",
              "      <td>1360073</td>\n",
              "      <td>1221783</td>\n",
              "      <td>388911</td>\n",
              "      <td>1053033</td>\n",
              "    </tr>\n",
              "    <tr>\n",
              "      <th>112</th>\n",
              "      <td>805233</td>\n",
              "      <td>35914</td>\n",
              "      <td>1855427</td>\n",
              "      <td>1003896</td>\n",
              "      <td>651521</td>\n",
              "      <td>1092533</td>\n",
              "      <td>184591</td>\n",
              "      <td>1125162</td>\n",
              "      <td>1514676</td>\n",
              "      <td>2078306</td>\n",
              "    </tr>\n",
              "    <tr>\n",
              "      <th>151</th>\n",
              "      <td>523365</td>\n",
              "      <td>233005</td>\n",
              "      <td>1600237</td>\n",
              "      <td>3026</td>\n",
              "      <td>1742872</td>\n",
              "      <td>1080162</td>\n",
              "      <td>929285</td>\n",
              "      <td>793417</td>\n",
              "      <td>518279</td>\n",
              "      <td>1463578</td>\n",
              "    </tr>\n",
              "    <tr>\n",
              "      <th>...</th>\n",
              "      <td>...</td>\n",
              "      <td>...</td>\n",
              "      <td>...</td>\n",
              "      <td>...</td>\n",
              "      <td>...</td>\n",
              "      <td>...</td>\n",
              "      <td>...</td>\n",
              "      <td>...</td>\n",
              "      <td>...</td>\n",
              "      <td>...</td>\n",
              "    </tr>\n",
              "    <tr>\n",
              "      <th>177022</th>\n",
              "      <td>829923</td>\n",
              "      <td>1793967</td>\n",
              "      <td>485717</td>\n",
              "      <td>1692963</td>\n",
              "      <td>760768</td>\n",
              "      <td>1685125</td>\n",
              "      <td>1030062</td>\n",
              "      <td>1487578</td>\n",
              "      <td>1311781</td>\n",
              "      <td>925639</td>\n",
              "    </tr>\n",
              "    <tr>\n",
              "      <th>177024</th>\n",
              "      <td>131921</td>\n",
              "      <td>90072</td>\n",
              "      <td>423989</td>\n",
              "      <td>791587</td>\n",
              "      <td>1042837</td>\n",
              "      <td>736983</td>\n",
              "      <td>1816259</td>\n",
              "      <td>1603854</td>\n",
              "      <td>630862</td>\n",
              "      <td>1478801</td>\n",
              "    </tr>\n",
              "    <tr>\n",
              "      <th>177028</th>\n",
              "      <td>34681</td>\n",
              "      <td>1638469</td>\n",
              "      <td>1313392</td>\n",
              "      <td>154859</td>\n",
              "      <td>656288</td>\n",
              "      <td>371714</td>\n",
              "      <td>1230747</td>\n",
              "      <td>774374</td>\n",
              "      <td>547697</td>\n",
              "      <td>763433</td>\n",
              "    </tr>\n",
              "    <tr>\n",
              "      <th>177037</th>\n",
              "      <td>245362</td>\n",
              "      <td>1541195</td>\n",
              "      <td>260797</td>\n",
              "      <td>852531</td>\n",
              "      <td>1473056</td>\n",
              "      <td>195149</td>\n",
              "      <td>2045233</td>\n",
              "      <td>1624469</td>\n",
              "      <td>634569</td>\n",
              "      <td>1091661</td>\n",
              "    </tr>\n",
              "    <tr>\n",
              "      <th>177058</th>\n",
              "      <td>1178191</td>\n",
              "      <td>315771</td>\n",
              "      <td>318539</td>\n",
              "      <td>93361</td>\n",
              "      <td>266615</td>\n",
              "      <td>1258602</td>\n",
              "      <td>1584250</td>\n",
              "      <td>1120176</td>\n",
              "      <td>506240</td>\n",
              "      <td>1427336</td>\n",
              "    </tr>\n",
              "  </tbody>\n",
              "</table>\n",
              "<p>15156 rows × 10 columns</p>\n",
              "</div>"
            ],
            "text/plain": [
              "              0        1        2        3        4        5        6  \\\n",
              "71      1693477  1087023    17448   377410  1739443  1788654  1960495   \n",
              "72      1101005  1720880  1397380   539592  1163908   441597  1136028   \n",
              "94       973810  1647454  1592163   546916  1195032   805553  1360073   \n",
              "112      805233    35914  1855427  1003896   651521  1092533   184591   \n",
              "151      523365   233005  1600237     3026  1742872  1080162   929285   \n",
              "...         ...      ...      ...      ...      ...      ...      ...   \n",
              "177022   829923  1793967   485717  1692963   760768  1685125  1030062   \n",
              "177024   131921    90072   423989   791587  1042837   736983  1816259   \n",
              "177028    34681  1638469  1313392   154859   656288   371714  1230747   \n",
              "177037   245362  1541195   260797   852531  1473056   195149  2045233   \n",
              "177058  1178191   315771   318539    93361   266615  1258602  1584250   \n",
              "\n",
              "              7        8        9  \n",
              "71        36110   900926   525872  \n",
              "72      1662074   458881   566176  \n",
              "94      1221783   388911  1053033  \n",
              "112     1125162  1514676  2078306  \n",
              "151      793417   518279  1463578  \n",
              "...         ...      ...      ...  \n",
              "177022  1487578  1311781   925639  \n",
              "177024  1603854   630862  1478801  \n",
              "177028   774374   547697   763433  \n",
              "177037  1624469   634569  1091661  \n",
              "177058  1120176   506240  1427336  \n",
              "\n",
              "[15156 rows x 10 columns]"
            ]
          },
          "metadata": {
            "tags": []
          },
          "execution_count": 269
        }
      ]
    },
    {
      "cell_type": "code",
      "metadata": {
        "id": "Eu_e4x9UqHAJ"
      },
      "source": [
        "zero_views_low_ndcg_preds_fn = 'zero_views_low_ndcg_preds_for_pred_8_' + lang + '.pkl'\n",
        "zero_views_low_ndcg_preds_fp = os.path.join(reports_dir, zero_views_low_ndcg_preds_fn)\n",
        "recs_df.to_pickle(zero_views_low_ndcg_preds_fp)"
      ],
      "execution_count": null,
      "outputs": []
    },
    {
      "cell_type": "markdown",
      "metadata": {
        "id": "RIbxDGr0tizB"
      },
      "source": [
        "# old predictions"
      ]
    },
    {
      "cell_type": "markdown",
      "metadata": {
        "id": "ZYgTWtcttizB"
      },
      "source": [
        "#### loading target seqs"
      ]
    },
    {
      "cell_type": "code",
      "metadata": {
        "id": "on07uQDVtizB"
      },
      "source": [
        "ndcg_zero_pred_fn = 'ndcg_zero_pred.pkl'\n",
        "ndcg_zero_pred_fp = os.path.join(interim_data_dir, ndcg_zero_pred_fn)\n",
        "ndcg_zero_pred = pd.read_pickle(ndcg_zero_pred_fp)"
      ],
      "execution_count": null,
      "outputs": []
    },
    {
      "cell_type": "code",
      "metadata": {
        "id": "m86u80CMtizB",
        "outputId": "26a0bcb5-43f8-471b-ea45-f937b1a5524e"
      },
      "source": [
        "ndcg_zero_pred"
      ],
      "execution_count": null,
      "outputs": [
        {
          "output_type": "execute_result",
          "data": {
            "text/html": [
              "<div>\n",
              "<style scoped>\n",
              "    .dataframe tbody tr th:only-of-type {\n",
              "        vertical-align: middle;\n",
              "    }\n",
              "\n",
              "    .dataframe tbody tr th {\n",
              "        vertical-align: top;\n",
              "    }\n",
              "\n",
              "    .dataframe thead th {\n",
              "        text-align: right;\n",
              "    }\n",
              "</style>\n",
              "<table border=\"1\" class=\"dataframe\">\n",
              "  <thead>\n",
              "    <tr style=\"text-align: right;\">\n",
              "      <th>event_type</th>\n",
              "      <th>search</th>\n",
              "      <th>view</th>\n",
              "      <th>ndcg_zero_pred</th>\n",
              "    </tr>\n",
              "    <tr>\n",
              "      <th>seq</th>\n",
              "      <th></th>\n",
              "      <th></th>\n",
              "      <th></th>\n",
              "    </tr>\n",
              "  </thead>\n",
              "  <tbody>\n",
              "    <tr>\n",
              "      <th>0</th>\n",
              "      <td>22</td>\n",
              "      <td>11</td>\n",
              "      <td>0.470137</td>\n",
              "    </tr>\n",
              "    <tr>\n",
              "      <th>1</th>\n",
              "      <td>8</td>\n",
              "      <td>16</td>\n",
              "      <td>0.354606</td>\n",
              "    </tr>\n",
              "    <tr>\n",
              "      <th>2</th>\n",
              "      <td>4</td>\n",
              "      <td>10</td>\n",
              "      <td>0.348669</td>\n",
              "    </tr>\n",
              "    <tr>\n",
              "      <th>3</th>\n",
              "      <td>1</td>\n",
              "      <td>0</td>\n",
              "      <td>0.715974</td>\n",
              "    </tr>\n",
              "    <tr>\n",
              "      <th>4</th>\n",
              "      <td>62</td>\n",
              "      <td>5</td>\n",
              "      <td>0.541159</td>\n",
              "    </tr>\n",
              "    <tr>\n",
              "      <th>...</th>\n",
              "      <td>...</td>\n",
              "      <td>...</td>\n",
              "      <td>...</td>\n",
              "    </tr>\n",
              "    <tr>\n",
              "      <th>177065</th>\n",
              "      <td>3</td>\n",
              "      <td>1</td>\n",
              "      <td>0.764295</td>\n",
              "    </tr>\n",
              "    <tr>\n",
              "      <th>177066</th>\n",
              "      <td>13</td>\n",
              "      <td>9</td>\n",
              "      <td>0.490572</td>\n",
              "    </tr>\n",
              "    <tr>\n",
              "      <th>177067</th>\n",
              "      <td>15</td>\n",
              "      <td>10</td>\n",
              "      <td>0.461504</td>\n",
              "    </tr>\n",
              "    <tr>\n",
              "      <th>177068</th>\n",
              "      <td>0</td>\n",
              "      <td>2</td>\n",
              "      <td>0.615265</td>\n",
              "    </tr>\n",
              "    <tr>\n",
              "      <th>177069</th>\n",
              "      <td>80</td>\n",
              "      <td>68</td>\n",
              "      <td>0.309464</td>\n",
              "    </tr>\n",
              "  </tbody>\n",
              "</table>\n",
              "<p>177070 rows × 3 columns</p>\n",
              "</div>"
            ],
            "text/plain": [
              "event_type  search  view  ndcg_zero_pred\n",
              "seq                                     \n",
              "0               22    11        0.470137\n",
              "1                8    16        0.354606\n",
              "2                4    10        0.348669\n",
              "3                1     0        0.715974\n",
              "4               62     5        0.541159\n",
              "...            ...   ...             ...\n",
              "177065           3     1        0.764295\n",
              "177066          13     9        0.490572\n",
              "177067          15    10        0.461504\n",
              "177068           0     2        0.615265\n",
              "177069          80    68        0.309464\n",
              "\n",
              "[177070 rows x 3 columns]"
            ]
          },
          "metadata": {
            "tags": []
          },
          "execution_count": 9
        }
      ]
    },
    {
      "cell_type": "code",
      "metadata": {
        "id": "T-ii9OAHtizB"
      },
      "source": [
        "# nine_decile = ndcg_zero_pred.ndcg_zero_pred.quantile(0.9)\n",
        "# ninetyfive_percentile = ndcg_zero_pred.ndcg_zero_pred.quantile(0.95)\n",
        "\n",
        "# print(nine_decile, ninetyfive_percentile)\n",
        "\n",
        "# seq_sel = ndcg_zero_pred.query(\"ndcg_zero_pred > @nine_decile\")"
      ],
      "execution_count": null,
      "outputs": []
    },
    {
      "cell_type": "markdown",
      "metadata": {
        "id": "gQCmN2yatizB"
      },
      "source": [
        "#### using view=0 criteria first"
      ]
    },
    {
      "cell_type": "code",
      "metadata": {
        "id": "Z-caY31PtizB"
      },
      "source": [
        "seq_sel = ndcg_zero_pred.query(\"view == 0\")"
      ],
      "execution_count": null,
      "outputs": []
    },
    {
      "cell_type": "code",
      "metadata": {
        "id": "pgPN_P72tizB"
      },
      "source": [
        "seq_sel = seq_sel.index"
      ],
      "execution_count": null,
      "outputs": []
    },
    {
      "cell_type": "code",
      "metadata": {
        "id": "S6RTTRxJtizB",
        "outputId": "425b48ae-ba4d-4cae-bc80-6174ba532b44"
      },
      "source": [
        "seq_sel.shape"
      ],
      "execution_count": null,
      "outputs": [
        {
          "output_type": "execute_result",
          "data": {
            "text/plain": [
              "(11370,)"
            ]
          },
          "metadata": {
            "tags": []
          },
          "execution_count": 22
        }
      ]
    },
    {
      "cell_type": "code",
      "metadata": {
        "id": "WapD_6qPtizB"
      },
      "source": [
        ""
      ],
      "execution_count": null,
      "outputs": []
    },
    {
      "cell_type": "markdown",
      "metadata": {
        "id": "V35MH2WytizB"
      },
      "source": [
        "##### item_data"
      ]
    },
    {
      "cell_type": "code",
      "metadata": {
        "id": "v0LMLfc_tizB"
      },
      "source": [
        "item_data_fn = 'item_data.pkl'\n",
        "item_data_fp = os.path.join(processed_data_dir, item_data_fn)\n",
        "item_data = pd.read_pickle(item_data_fp)\n",
        "# item_data = item_data_desc[['item_id', 'title', 'domain_id']]"
      ],
      "execution_count": null,
      "outputs": []
    },
    {
      "cell_type": "markdown",
      "metadata": {
        "id": "62YaBn09tizB"
      },
      "source": [
        "##### use only item_id and item_embs cols from item_data "
      ]
    },
    {
      "cell_type": "code",
      "metadata": {
        "id": "vy6mQ2gttizB"
      },
      "source": [
        "lang = 'pt'"
      ],
      "execution_count": null,
      "outputs": []
    },
    {
      "cell_type": "code",
      "metadata": {
        "id": "7fUtIpFwtizC"
      },
      "source": [
        "item_data_embs_only_fn = 'item_data_embs_only.pkl'\n",
        "item_data_embs_only_fp = os.path.join(processed_data_dir, item_data_embs_only_fn)\n",
        "item_data = pd.read_pickle(item_data_embs_only_fp)\n",
        "\n",
        "item_data = item_data[item_data.lang_domain == lang].copy()\n",
        "item_data.drop('lang_domain', axis = 1, inplace = True)\n",
        "item_data.set_index('item_id', inplace = True)"
      ],
      "execution_count": null,
      "outputs": []
    },
    {
      "cell_type": "code",
      "metadata": {
        "id": "UmehB6AttizC",
        "outputId": "09bc043d-f952-439a-f213-ef54f34bc90a"
      },
      "source": [
        "item_data = item_data.title_embs.progress_apply(pd.Series)"
      ],
      "execution_count": null,
      "outputs": [
        {
          "output_type": "stream",
          "text": [
            "100%|██████████| 1723216/1723216 [05:06<00:00, 5620.87it/s] \n"
          ],
          "name": "stderr"
        }
      ]
    },
    {
      "cell_type": "code",
      "metadata": {
        "id": "8WNjPSj8tizC"
      },
      "source": [
        "item_data = item_data.dropna()"
      ],
      "execution_count": null,
      "outputs": []
    },
    {
      "cell_type": "markdown",
      "metadata": {
        "id": "HUqkwCjitizC"
      },
      "source": [
        "##### read train_test with embeddings"
      ]
    },
    {
      "cell_type": "code",
      "metadata": {
        "id": "DozE8gF7tizC"
      },
      "source": [
        "train_test_embs_fn = 'train_test_embs.pkl'\n",
        "train_test_embs_fp = os.path.join(interim_data_dir, train_test_embs_fn)\n",
        "train_test = pd.read_pickle(train_test_embs_fp)\n",
        "\n",
        "train_test['seq'] = train_test.seq - TEST_OFFSET\n",
        "train_test = train_test[train_test.seq >= 0]"
      ],
      "execution_count": null,
      "outputs": []
    },
    {
      "cell_type": "code",
      "metadata": {
        "id": "qvX4yNmAtizC"
      },
      "source": [
        "queries = train_test[(train_test.lang_seq == lang) & (train_test.event_type == 'search')]"
      ],
      "execution_count": null,
      "outputs": []
    },
    {
      "cell_type": "markdown",
      "metadata": {
        "id": "ze0RijTJtizC"
      },
      "source": [
        "##### selecting queries only in scope"
      ]
    },
    {
      "cell_type": "code",
      "metadata": {
        "id": "fpZI1FTktizC"
      },
      "source": [
        "queries = queries[queries.seq.isin(seq_sel)]"
      ],
      "execution_count": null,
      "outputs": []
    },
    {
      "cell_type": "code",
      "metadata": {
        "id": "FDmHSjiVtizC",
        "outputId": "48aa0e32-3619-4cb3-eef2-f7d5ccb2741b"
      },
      "source": [
        "unique_seqs = queries.seq.unique()\n",
        "num_batches = len(unique_seqs) // 100\n",
        "seqs = np.array_split(unique_seqs, num_batches)\n",
        "num_batches"
      ],
      "execution_count": null,
      "outputs": [
        {
          "output_type": "execute_result",
          "data": {
            "text/plain": [
              "113"
            ]
          },
          "metadata": {
            "tags": []
          },
          "execution_count": 32
        }
      ]
    },
    {
      "cell_type": "code",
      "metadata": {
        "id": "TnwAQynGtizC",
        "outputId": "6425551c-df56-4ffe-88a8-15dcd74d50da"
      },
      "source": [
        "seq_batch = seqs[0]\n",
        "len(seq_batch)"
      ],
      "execution_count": null,
      "outputs": [
        {
          "output_type": "execute_result",
          "data": {
            "text/plain": [
              "101"
            ]
          },
          "metadata": {
            "tags": []
          },
          "execution_count": 33
        }
      ]
    },
    {
      "cell_type": "code",
      "metadata": {
        "id": "NUCmmaCCtizC",
        "outputId": "b715d0ad-c480-4b49-f837-1bdc8ff14006"
      },
      "source": [
        "recs = dict()\n",
        "\n",
        "for seq_batch in tqdm(seqs):\n",
        "    query_embs = queries[queries.seq.isin(seq_batch)]\n",
        "    query_embs = query_embs.groupby('seq').query_embs.apply(lambda x: x.mean())\n",
        "    query_embs = query_embs.apply(pd.Series)\n",
        "    \n",
        "    scores = item_data @ query_embs.T\n",
        "    \n",
        "    for s in scores.columns:\n",
        "        recs[s] = list(scores[s].nlargest(10).items())"
      ],
      "execution_count": null,
      "outputs": [
        {
          "output_type": "stream",
          "text": [
            "100%|██████████| 113/113 [1:26:27<00:00, 45.91s/it]\n"
          ],
          "name": "stderr"
        }
      ]
    },
    {
      "cell_type": "code",
      "metadata": {
        "id": "2teBCl4gtizC"
      },
      "source": [
        "recs_df = pd.DataFrame(recs)"
      ],
      "execution_count": null,
      "outputs": []
    },
    {
      "cell_type": "code",
      "metadata": {
        "id": "Y0euikpatizC",
        "outputId": "c420b560-4d63-40c2-b229-4ebd0ecf6d6f"
      },
      "source": [
        "recs_df.shape"
      ],
      "execution_count": null,
      "outputs": [
        {
          "output_type": "execute_result",
          "data": {
            "text/plain": [
              "(10, 11370)"
            ]
          },
          "metadata": {
            "tags": []
          },
          "execution_count": 36
        }
      ]
    },
    {
      "cell_type": "code",
      "metadata": {
        "id": "t9cmMmD6tizC",
        "outputId": "46d9efae-69d3-4ddf-8d57-bba825a4887f"
      },
      "source": [
        "lang"
      ],
      "execution_count": null,
      "outputs": [
        {
          "output_type": "execute_result",
          "data": {
            "text/plain": [
              "'pt'"
            ]
          },
          "metadata": {
            "tags": []
          },
          "execution_count": 37
        }
      ]
    },
    {
      "cell_type": "code",
      "metadata": {
        "id": "6it8stSFtizC"
      },
      "source": [
        "search_recs_fn = lang + '_search_recs.pkl'\n",
        "search_recs_fp = os.path.join(interim_data_dir, search_recs_fn)\n",
        "recs_df.to_pickle(search_recs_fp)"
      ],
      "execution_count": null,
      "outputs": []
    },
    {
      "cell_type": "code",
      "metadata": {
        "id": "4ZWJQx_DtizC",
        "outputId": "56f66827-ca6a-4017-a51c-4cdf0ecc1e2f"
      },
      "source": [
        "recs_df"
      ],
      "execution_count": null,
      "outputs": [
        {
          "output_type": "execute_result",
          "data": {
            "text/html": [
              "<div>\n",
              "<style scoped>\n",
              "    .dataframe tbody tr th:only-of-type {\n",
              "        vertical-align: middle;\n",
              "    }\n",
              "\n",
              "    .dataframe tbody tr th {\n",
              "        vertical-align: top;\n",
              "    }\n",
              "\n",
              "    .dataframe thead th {\n",
              "        text-align: right;\n",
              "    }\n",
              "</style>\n",
              "<table border=\"1\" class=\"dataframe\">\n",
              "  <thead>\n",
              "    <tr style=\"text-align: right;\">\n",
              "      <th></th>\n",
              "      <th>442</th>\n",
              "      <th>1139</th>\n",
              "      <th>1329</th>\n",
              "      <th>2039</th>\n",
              "      <th>2086</th>\n",
              "      <th>2274</th>\n",
              "      <th>2457</th>\n",
              "      <th>2673</th>\n",
              "      <th>3009</th>\n",
              "      <th>3242</th>\n",
              "      <th>...</th>\n",
              "      <th>174383</th>\n",
              "      <th>174527</th>\n",
              "      <th>174957</th>\n",
              "      <th>175052</th>\n",
              "      <th>175242</th>\n",
              "      <th>175582</th>\n",
              "      <th>175644</th>\n",
              "      <th>176548</th>\n",
              "      <th>176618</th>\n",
              "      <th>176752</th>\n",
              "    </tr>\n",
              "  </thead>\n",
              "  <tbody>\n",
              "    <tr>\n",
              "      <th>0</th>\n",
              "      <td>(808165, 0.8779296875)</td>\n",
              "      <td>(1353412, 0.7939453125)</td>\n",
              "      <td>(603897, 0.93896484375)</td>\n",
              "      <td>(1337084, 0.912109375)</td>\n",
              "      <td>(503803, 0.9365234375)</td>\n",
              "      <td>(285890, 0.88525390625)</td>\n",
              "      <td>(18304, 0.83154296875)</td>\n",
              "      <td>(1290094, 1.0)</td>\n",
              "      <td>(655531, 0.95654296875)</td>\n",
              "      <td>(240640, 1.0)</td>\n",
              "      <td>...</td>\n",
              "      <td>(329360, 0.67333984375)</td>\n",
              "      <td>(398243, 0.95166015625)</td>\n",
              "      <td>(11755, 0.9365234375)</td>\n",
              "      <td>(1013393, 0.84375)</td>\n",
              "      <td>(216976, 0.94384765625)</td>\n",
              "      <td>(866618, 0.94482421875)</td>\n",
              "      <td>(1377687, 0.93505859375)</td>\n",
              "      <td>(274039, 0.896484375)</td>\n",
              "      <td>(534772, 0.908203125)</td>\n",
              "      <td>(1553526, 1.0)</td>\n",
              "    </tr>\n",
              "    <tr>\n",
              "      <th>1</th>\n",
              "      <td>(897227, 0.8671875)</td>\n",
              "      <td>(555036, 0.783203125)</td>\n",
              "      <td>(1211874, 0.93408203125)</td>\n",
              "      <td>(538268, 0.912109375)</td>\n",
              "      <td>(137932, 0.931640625)</td>\n",
              "      <td>(1588816, 0.8828125)</td>\n",
              "      <td>(1493519, 0.8271484375)</td>\n",
              "      <td>(14761, 0.9150390625)</td>\n",
              "      <td>(1194003, 0.94140625)</td>\n",
              "      <td>(1042941, 0.96044921875)</td>\n",
              "      <td>...</td>\n",
              "      <td>(1377488, 0.66796875)</td>\n",
              "      <td>(1925544, 0.951171875)</td>\n",
              "      <td>(1280707, 0.9306640625)</td>\n",
              "      <td>(735229, 0.84326171875)</td>\n",
              "      <td>(1400461, 0.94189453125)</td>\n",
              "      <td>(1109754, 0.94287109375)</td>\n",
              "      <td>(879544, 0.93359375)</td>\n",
              "      <td>(1361152, 0.89306640625)</td>\n",
              "      <td>(1575342, 0.90380859375)</td>\n",
              "      <td>(237740, 1.0)</td>\n",
              "    </tr>\n",
              "    <tr>\n",
              "      <th>2</th>\n",
              "      <td>(376345, 0.8564453125)</td>\n",
              "      <td>(1559830, 0.76806640625)</td>\n",
              "      <td>(1365389, 0.9306640625)</td>\n",
              "      <td>(1486750, 0.90576171875)</td>\n",
              "      <td>(754158, 0.9306640625)</td>\n",
              "      <td>(637173, 0.8779296875)</td>\n",
              "      <td>(121927, 0.81982421875)</td>\n",
              "      <td>(454590, 0.912109375)</td>\n",
              "      <td>(857895, 0.94140625)</td>\n",
              "      <td>(13616, 0.96044921875)</td>\n",
              "      <td>...</td>\n",
              "      <td>(1703759, 0.66748046875)</td>\n",
              "      <td>(74631, 0.94921875)</td>\n",
              "      <td>(1944934, 0.927734375)</td>\n",
              "      <td>(584341, 0.84326171875)</td>\n",
              "      <td>(268182, 0.93408203125)</td>\n",
              "      <td>(447885, 0.9423828125)</td>\n",
              "      <td>(962803, 0.9326171875)</td>\n",
              "      <td>(1187360, 0.892578125)</td>\n",
              "      <td>(1056699, 0.90087890625)</td>\n",
              "      <td>(441391, 0.94580078125)</td>\n",
              "    </tr>\n",
              "    <tr>\n",
              "      <th>3</th>\n",
              "      <td>(1986747, 0.85546875)</td>\n",
              "      <td>(1446687, 0.759765625)</td>\n",
              "      <td>(1197885, 0.9296875)</td>\n",
              "      <td>(1184330, 0.904296875)</td>\n",
              "      <td>(1075502, 0.9287109375)</td>\n",
              "      <td>(651329, 0.8759765625)</td>\n",
              "      <td>(162025, 0.81884765625)</td>\n",
              "      <td>(1502213, 0.8984375)</td>\n",
              "      <td>(1907547, 0.9384765625)</td>\n",
              "      <td>(63481, 0.96044921875)</td>\n",
              "      <td>...</td>\n",
              "      <td>(696313, 0.6650390625)</td>\n",
              "      <td>(1112436, 0.9453125)</td>\n",
              "      <td>(1308657, 0.92626953125)</td>\n",
              "      <td>(733210, 0.84228515625)</td>\n",
              "      <td>(256591, 0.9326171875)</td>\n",
              "      <td>(328007, 0.9423828125)</td>\n",
              "      <td>(1432504, 0.9326171875)</td>\n",
              "      <td>(851128, 0.89013671875)</td>\n",
              "      <td>(1514380, 0.89794921875)</td>\n",
              "      <td>(1743815, 0.9404296875)</td>\n",
              "    </tr>\n",
              "    <tr>\n",
              "      <th>4</th>\n",
              "      <td>(18380, 0.8544921875)</td>\n",
              "      <td>(1696599, 0.75341796875)</td>\n",
              "      <td>(1319751, 0.9296875)</td>\n",
              "      <td>(438114, 0.904296875)</td>\n",
              "      <td>(2018908, 0.92529296875)</td>\n",
              "      <td>(992302, 0.8759765625)</td>\n",
              "      <td>(1432690, 0.8173828125)</td>\n",
              "      <td>(2066659, 0.89794921875)</td>\n",
              "      <td>(1895562, 0.93798828125)</td>\n",
              "      <td>(1745078, 0.96044921875)</td>\n",
              "      <td>...</td>\n",
              "      <td>(635636, 0.6630859375)</td>\n",
              "      <td>(344112, 0.94482421875)</td>\n",
              "      <td>(1591538, 0.92529296875)</td>\n",
              "      <td>(1877862, 0.841796875)</td>\n",
              "      <td>(1922505, 0.93212890625)</td>\n",
              "      <td>(421057, 0.9423828125)</td>\n",
              "      <td>(1594275, 0.931640625)</td>\n",
              "      <td>(315013, 0.88916015625)</td>\n",
              "      <td>(1077409, 0.89599609375)</td>\n",
              "      <td>(1535822, 0.939453125)</td>\n",
              "    </tr>\n",
              "    <tr>\n",
              "      <th>5</th>\n",
              "      <td>(2040458, 0.849609375)</td>\n",
              "      <td>(887274, 0.7529296875)</td>\n",
              "      <td>(2042574, 0.9296875)</td>\n",
              "      <td>(1059822, 0.90380859375)</td>\n",
              "      <td>(1356744, 0.9248046875)</td>\n",
              "      <td>(1976671, 0.8740234375)</td>\n",
              "      <td>(891824, 0.81689453125)</td>\n",
              "      <td>(64083, 0.8974609375)</td>\n",
              "      <td>(1676302, 0.93798828125)</td>\n",
              "      <td>(1643866, 0.96044921875)</td>\n",
              "      <td>...</td>\n",
              "      <td>(692774, 0.662109375)</td>\n",
              "      <td>(1343591, 0.94189453125)</td>\n",
              "      <td>(738107, 0.92431640625)</td>\n",
              "      <td>(1237401, 0.84130859375)</td>\n",
              "      <td>(938911, 0.93212890625)</td>\n",
              "      <td>(626743, 0.94091796875)</td>\n",
              "      <td>(1462074, 0.93115234375)</td>\n",
              "      <td>(765244, 0.888671875)</td>\n",
              "      <td>(1427755, 0.89501953125)</td>\n",
              "      <td>(1153811, 0.9375)</td>\n",
              "    </tr>\n",
              "    <tr>\n",
              "      <th>6</th>\n",
              "      <td>(1364810, 0.8486328125)</td>\n",
              "      <td>(70120, 0.7529296875)</td>\n",
              "      <td>(1110908, 0.92822265625)</td>\n",
              "      <td>(150238, 0.90380859375)</td>\n",
              "      <td>(618607, 0.91845703125)</td>\n",
              "      <td>(1891662, 0.8740234375)</td>\n",
              "      <td>(1097105, 0.81591796875)</td>\n",
              "      <td>(1903004, 0.89697265625)</td>\n",
              "      <td>(304904, 0.9375)</td>\n",
              "      <td>(1510610, 0.96044921875)</td>\n",
              "      <td>...</td>\n",
              "      <td>(994218, 0.6611328125)</td>\n",
              "      <td>(564467, 0.94140625)</td>\n",
              "      <td>(365595, 0.92431640625)</td>\n",
              "      <td>(209386, 0.83935546875)</td>\n",
              "      <td>(1913824, 0.93115234375)</td>\n",
              "      <td>(633925, 0.93994140625)</td>\n",
              "      <td>(2075749, 0.92919921875)</td>\n",
              "      <td>(1807257, 0.88818359375)</td>\n",
              "      <td>(872141, 0.89453125)</td>\n",
              "      <td>(37874, 0.9365234375)</td>\n",
              "    </tr>\n",
              "    <tr>\n",
              "      <th>7</th>\n",
              "      <td>(812912, 0.84814453125)</td>\n",
              "      <td>(411676, 0.7509765625)</td>\n",
              "      <td>(708512, 0.92626953125)</td>\n",
              "      <td>(446059, 0.90380859375)</td>\n",
              "      <td>(643397, 0.91796875)</td>\n",
              "      <td>(1484456, 0.8740234375)</td>\n",
              "      <td>(151298, 0.81591796875)</td>\n",
              "      <td>(448821, 0.8935546875)</td>\n",
              "      <td>(1451934, 0.93603515625)</td>\n",
              "      <td>(1020488, 0.94921875)</td>\n",
              "      <td>...</td>\n",
              "      <td>(780409, 0.66015625)</td>\n",
              "      <td>(82670, 0.94091796875)</td>\n",
              "      <td>(1905509, 0.92431640625)</td>\n",
              "      <td>(1391307, 0.8388671875)</td>\n",
              "      <td>(268826, 0.9306640625)</td>\n",
              "      <td>(1618846, 0.939453125)</td>\n",
              "      <td>(1205394, 0.92919921875)</td>\n",
              "      <td>(133794, 0.8876953125)</td>\n",
              "      <td>(724165, 0.89453125)</td>\n",
              "      <td>(1386973, 0.9365234375)</td>\n",
              "    </tr>\n",
              "    <tr>\n",
              "      <th>8</th>\n",
              "      <td>(1122057, 0.84765625)</td>\n",
              "      <td>(2096506, 0.75)</td>\n",
              "      <td>(1775486, 0.92578125)</td>\n",
              "      <td>(1541250, 0.90283203125)</td>\n",
              "      <td>(1327659, 0.9169921875)</td>\n",
              "      <td>(313875, 0.87353515625)</td>\n",
              "      <td>(599929, 0.81591796875)</td>\n",
              "      <td>(203574, 0.89013671875)</td>\n",
              "      <td>(2025944, 0.93603515625)</td>\n",
              "      <td>(110903, 0.94921875)</td>\n",
              "      <td>...</td>\n",
              "      <td>(1906386, 0.66015625)</td>\n",
              "      <td>(1505355, 0.9404296875)</td>\n",
              "      <td>(754959, 0.9228515625)</td>\n",
              "      <td>(764028, 0.83837890625)</td>\n",
              "      <td>(1962131, 0.9306640625)</td>\n",
              "      <td>(982661, 0.939453125)</td>\n",
              "      <td>(301064, 0.92919921875)</td>\n",
              "      <td>(1499488, 0.8876953125)</td>\n",
              "      <td>(1287672, 0.89404296875)</td>\n",
              "      <td>(911142, 0.93603515625)</td>\n",
              "    </tr>\n",
              "    <tr>\n",
              "      <th>9</th>\n",
              "      <td>(1793735, 0.845703125)</td>\n",
              "      <td>(1259538, 0.74951171875)</td>\n",
              "      <td>(228252, 0.92529296875)</td>\n",
              "      <td>(1232165, 0.9013671875)</td>\n",
              "      <td>(1619460, 0.9169921875)</td>\n",
              "      <td>(1764838, 0.87353515625)</td>\n",
              "      <td>(701585, 0.8154296875)</td>\n",
              "      <td>(366003, 0.8896484375)</td>\n",
              "      <td>(1298159, 0.9345703125)</td>\n",
              "      <td>(737239, 0.94921875)</td>\n",
              "      <td>...</td>\n",
              "      <td>(1037362, 0.65966796875)</td>\n",
              "      <td>(289183, 0.93994140625)</td>\n",
              "      <td>(848954, 0.92236328125)</td>\n",
              "      <td>(499285, 0.83740234375)</td>\n",
              "      <td>(1549555, 0.9296875)</td>\n",
              "      <td>(703218, 0.93896484375)</td>\n",
              "      <td>(1107505, 0.9267578125)</td>\n",
              "      <td>(426694, 0.88623046875)</td>\n",
              "      <td>(1641755, 0.8935546875)</td>\n",
              "      <td>(385773, 0.93310546875)</td>\n",
              "    </tr>\n",
              "  </tbody>\n",
              "</table>\n",
              "<p>10 rows × 619 columns</p>\n",
              "</div>"
            ],
            "text/plain": [
              "                    442                       1139    \\\n",
              "0   (808165, 0.8779296875)   (1353412, 0.7939453125)   \n",
              "1      (897227, 0.8671875)     (555036, 0.783203125)   \n",
              "2   (376345, 0.8564453125)  (1559830, 0.76806640625)   \n",
              "3    (1986747, 0.85546875)    (1446687, 0.759765625)   \n",
              "4    (18380, 0.8544921875)  (1696599, 0.75341796875)   \n",
              "5   (2040458, 0.849609375)    (887274, 0.7529296875)   \n",
              "6  (1364810, 0.8486328125)     (70120, 0.7529296875)   \n",
              "7  (812912, 0.84814453125)    (411676, 0.7509765625)   \n",
              "8    (1122057, 0.84765625)           (2096506, 0.75)   \n",
              "9   (1793735, 0.845703125)  (1259538, 0.74951171875)   \n",
              "\n",
              "                     1329                      2039    \\\n",
              "0   (603897, 0.93896484375)    (1337084, 0.912109375)   \n",
              "1  (1211874, 0.93408203125)     (538268, 0.912109375)   \n",
              "2   (1365389, 0.9306640625)  (1486750, 0.90576171875)   \n",
              "3      (1197885, 0.9296875)    (1184330, 0.904296875)   \n",
              "4      (1319751, 0.9296875)     (438114, 0.904296875)   \n",
              "5      (2042574, 0.9296875)  (1059822, 0.90380859375)   \n",
              "6  (1110908, 0.92822265625)   (150238, 0.90380859375)   \n",
              "7   (708512, 0.92626953125)   (446059, 0.90380859375)   \n",
              "8     (1775486, 0.92578125)  (1541250, 0.90283203125)   \n",
              "9   (228252, 0.92529296875)   (1232165, 0.9013671875)   \n",
              "\n",
              "                     2086                      2274    \\\n",
              "0    (503803, 0.9365234375)   (285890, 0.88525390625)   \n",
              "1     (137932, 0.931640625)      (1588816, 0.8828125)   \n",
              "2    (754158, 0.9306640625)    (637173, 0.8779296875)   \n",
              "3   (1075502, 0.9287109375)    (651329, 0.8759765625)   \n",
              "4  (2018908, 0.92529296875)    (992302, 0.8759765625)   \n",
              "5   (1356744, 0.9248046875)   (1976671, 0.8740234375)   \n",
              "6   (618607, 0.91845703125)   (1891662, 0.8740234375)   \n",
              "7      (643397, 0.91796875)   (1484456, 0.8740234375)   \n",
              "8   (1327659, 0.9169921875)   (313875, 0.87353515625)   \n",
              "9   (1619460, 0.9169921875)  (1764838, 0.87353515625)   \n",
              "\n",
              "                     2457                      2673    \\\n",
              "0    (18304, 0.83154296875)            (1290094, 1.0)   \n",
              "1   (1493519, 0.8271484375)     (14761, 0.9150390625)   \n",
              "2   (121927, 0.81982421875)     (454590, 0.912109375)   \n",
              "3   (162025, 0.81884765625)      (1502213, 0.8984375)   \n",
              "4   (1432690, 0.8173828125)  (2066659, 0.89794921875)   \n",
              "5   (891824, 0.81689453125)     (64083, 0.8974609375)   \n",
              "6  (1097105, 0.81591796875)  (1903004, 0.89697265625)   \n",
              "7   (151298, 0.81591796875)    (448821, 0.8935546875)   \n",
              "8   (599929, 0.81591796875)   (203574, 0.89013671875)   \n",
              "9    (701585, 0.8154296875)    (366003, 0.8896484375)   \n",
              "\n",
              "                     3009                      3242    ...  \\\n",
              "0   (655531, 0.95654296875)             (240640, 1.0)  ...   \n",
              "1     (1194003, 0.94140625)  (1042941, 0.96044921875)  ...   \n",
              "2      (857895, 0.94140625)    (13616, 0.96044921875)  ...   \n",
              "3   (1907547, 0.9384765625)    (63481, 0.96044921875)  ...   \n",
              "4  (1895562, 0.93798828125)  (1745078, 0.96044921875)  ...   \n",
              "5  (1676302, 0.93798828125)  (1643866, 0.96044921875)  ...   \n",
              "6          (304904, 0.9375)  (1510610, 0.96044921875)  ...   \n",
              "7  (1451934, 0.93603515625)     (1020488, 0.94921875)  ...   \n",
              "8  (2025944, 0.93603515625)      (110903, 0.94921875)  ...   \n",
              "9   (1298159, 0.9345703125)      (737239, 0.94921875)  ...   \n",
              "\n",
              "                     174383                    174527  \\\n",
              "0   (329360, 0.67333984375)   (398243, 0.95166015625)   \n",
              "1     (1377488, 0.66796875)    (1925544, 0.951171875)   \n",
              "2  (1703759, 0.66748046875)       (74631, 0.94921875)   \n",
              "3    (696313, 0.6650390625)      (1112436, 0.9453125)   \n",
              "4    (635636, 0.6630859375)   (344112, 0.94482421875)   \n",
              "5     (692774, 0.662109375)  (1343591, 0.94189453125)   \n",
              "6    (994218, 0.6611328125)      (564467, 0.94140625)   \n",
              "7      (780409, 0.66015625)    (82670, 0.94091796875)   \n",
              "8     (1906386, 0.66015625)   (1505355, 0.9404296875)   \n",
              "9  (1037362, 0.65966796875)   (289183, 0.93994140625)   \n",
              "\n",
              "                     174957                    175052  \\\n",
              "0     (11755, 0.9365234375)        (1013393, 0.84375)   \n",
              "1   (1280707, 0.9306640625)   (735229, 0.84326171875)   \n",
              "2    (1944934, 0.927734375)   (584341, 0.84326171875)   \n",
              "3  (1308657, 0.92626953125)   (733210, 0.84228515625)   \n",
              "4  (1591538, 0.92529296875)    (1877862, 0.841796875)   \n",
              "5   (738107, 0.92431640625)  (1237401, 0.84130859375)   \n",
              "6   (365595, 0.92431640625)   (209386, 0.83935546875)   \n",
              "7  (1905509, 0.92431640625)   (1391307, 0.8388671875)   \n",
              "8    (754959, 0.9228515625)   (764028, 0.83837890625)   \n",
              "9   (848954, 0.92236328125)   (499285, 0.83740234375)   \n",
              "\n",
              "                     175242                    175582  \\\n",
              "0   (216976, 0.94384765625)   (866618, 0.94482421875)   \n",
              "1  (1400461, 0.94189453125)  (1109754, 0.94287109375)   \n",
              "2   (268182, 0.93408203125)    (447885, 0.9423828125)   \n",
              "3    (256591, 0.9326171875)    (328007, 0.9423828125)   \n",
              "4  (1922505, 0.93212890625)    (421057, 0.9423828125)   \n",
              "5   (938911, 0.93212890625)   (626743, 0.94091796875)   \n",
              "6  (1913824, 0.93115234375)   (633925, 0.93994140625)   \n",
              "7    (268826, 0.9306640625)    (1618846, 0.939453125)   \n",
              "8   (1962131, 0.9306640625)     (982661, 0.939453125)   \n",
              "9      (1549555, 0.9296875)   (703218, 0.93896484375)   \n",
              "\n",
              "                     175644                    176548  \\\n",
              "0  (1377687, 0.93505859375)     (274039, 0.896484375)   \n",
              "1      (879544, 0.93359375)  (1361152, 0.89306640625)   \n",
              "2    (962803, 0.9326171875)    (1187360, 0.892578125)   \n",
              "3   (1432504, 0.9326171875)   (851128, 0.89013671875)   \n",
              "4    (1594275, 0.931640625)   (315013, 0.88916015625)   \n",
              "5  (1462074, 0.93115234375)     (765244, 0.888671875)   \n",
              "6  (2075749, 0.92919921875)  (1807257, 0.88818359375)   \n",
              "7  (1205394, 0.92919921875)    (133794, 0.8876953125)   \n",
              "8   (301064, 0.92919921875)   (1499488, 0.8876953125)   \n",
              "9   (1107505, 0.9267578125)   (426694, 0.88623046875)   \n",
              "\n",
              "                     176618                   176752  \n",
              "0     (534772, 0.908203125)           (1553526, 1.0)  \n",
              "1  (1575342, 0.90380859375)            (237740, 1.0)  \n",
              "2  (1056699, 0.90087890625)  (441391, 0.94580078125)  \n",
              "3  (1514380, 0.89794921875)  (1743815, 0.9404296875)  \n",
              "4  (1077409, 0.89599609375)   (1535822, 0.939453125)  \n",
              "5  (1427755, 0.89501953125)        (1153811, 0.9375)  \n",
              "6      (872141, 0.89453125)    (37874, 0.9365234375)  \n",
              "7      (724165, 0.89453125)  (1386973, 0.9365234375)  \n",
              "8  (1287672, 0.89404296875)  (911142, 0.93603515625)  \n",
              "9   (1641755, 0.8935546875)  (385773, 0.93310546875)  \n",
              "\n",
              "[10 rows x 619 columns]"
            ]
          },
          "metadata": {
            "tags": []
          },
          "execution_count": 43
        }
      ]
    },
    {
      "cell_type": "code",
      "metadata": {
        "id": "FIy0jJ6ytizC"
      },
      "source": [
        ""
      ],
      "execution_count": null,
      "outputs": []
    },
    {
      "cell_type": "markdown",
      "metadata": {
        "id": "LOuRvde7tizC"
      },
      "source": [
        "____\n",
        "____"
      ]
    },
    {
      "cell_type": "code",
      "metadata": {
        "id": "T3cHO71atizC"
      },
      "source": [
        "query_embs = queries[queries.seq.isin(seq_batch)]\n",
        "query_embs = query_embs.groupby('seq').query_embs.apply(lambda x: x.mean())\n",
        "query_embs = query_embs.progress_apply(pd.Series)"
      ],
      "execution_count": null,
      "outputs": []
    },
    {
      "cell_type": "markdown",
      "metadata": {
        "id": "F4102PwZtizC"
      },
      "source": [
        "for len(seq_batch) = 1000, dot product below takes about 6 mins:\n",
        "* CPU times: user 6min 11s, sys: 1.93 s, total: 6min 13s\n",
        "* Wall time: 6min 14s\n",
        "> **take only seqs that had low number of views (low top score from MF)** <br>\n",
        "> or to restrict columns by selecting items from the viewed groups only"
      ]
    },
    {
      "cell_type": "code",
      "metadata": {
        "id": "Fbqf2jtTtizC",
        "outputId": "ed0455b3-c4d8-410d-d655-1cde4025e774"
      },
      "source": [
        "%%time\n",
        "scores = item_data @ query_embs.T"
      ],
      "execution_count": null,
      "outputs": [
        {
          "output_type": "stream",
          "text": [
            "CPU times: user 6min 11s, sys: 1.93 s, total: 6min 13s\n",
            "Wall time: 6min 14s\n"
          ],
          "name": "stdout"
        }
      ]
    },
    {
      "cell_type": "code",
      "metadata": {
        "id": "ruu2H2G-tizC",
        "outputId": "4c4735a7-e748-4f44-f13b-8aac6d55eec3"
      },
      "source": [
        "recs = dict()\n",
        "for s in tqdm(scores.columns):\n",
        "    recs[s] = list(scores[s].nlargest(10).items())"
      ],
      "execution_count": null,
      "outputs": [
        {
          "output_type": "stream",
          "text": [
            "100%|██████████| 1003/1003 [01:34<00:00, 10.61it/s]\n"
          ],
          "name": "stderr"
        }
      ]
    },
    {
      "cell_type": "code",
      "metadata": {
        "id": "EaCqp6-vtizC"
      },
      "source": [
        "# recs = pd.DataFrame(recs)"
      ],
      "execution_count": null,
      "outputs": []
    },
    {
      "cell_type": "markdown",
      "metadata": {
        "id": "UbDLwYsDtizC"
      },
      "source": [
        "____"
      ]
    },
    {
      "cell_type": "markdown",
      "metadata": {
        "id": "Vu8dzVkptizD"
      },
      "source": [
        "#### checking random seq's...\n",
        "* seq 483: search for MESA EXPERT is giving rec \"Mesa Digitalizadora Led Profissional Parblo C\", because of search words treated in isolation\n",
        "* **Estimate NDCG for a small number of random users in train**\n"
      ]
    },
    {
      "cell_type": "markdown",
      "metadata": {
        "id": "43XjGKDftizD"
      },
      "source": [
        "##### item_data descriptions"
      ]
    },
    {
      "cell_type": "code",
      "metadata": {
        "id": "HRBUzNXdtizD"
      },
      "source": [
        "item_data_fn = 'item_data.jl.gz'\n",
        "item_data_desc = pd.read_json(os.path.join(raw_data_dir, item_data_fn), lines=True)\n",
        "item_data_desc = item_data_desc[['item_id', 'title', 'domain_id']]"
      ],
      "execution_count": null,
      "outputs": []
    },
    {
      "cell_type": "code",
      "metadata": {
        "id": "5cD23d1StizD",
        "outputId": "d8732885-b2cc-4991-d050-bfdd528cc2bc"
      },
      "source": [
        "a_seq = np.random.choice(list(recs.keys()))\n",
        "a_seq = 177058\n",
        "print('a random seq:', a_seq)\n",
        "one_seq_rec = pd.DataFrame(recs[a_seq])\n",
        "one_seq_rec.columns = ['item_id', 'score']"
      ],
      "execution_count": null,
      "outputs": [
        {
          "output_type": "stream",
          "text": [
            "a random seq: 177058\n"
          ],
          "name": "stdout"
        },
        {
          "output_type": "error",
          "ename": "KeyError",
          "evalue": "177058",
          "traceback": [
            "\u001b[0;31m---------------------------------------------------------------------------\u001b[0m",
            "\u001b[0;31mKeyError\u001b[0m                                  Traceback (most recent call last)",
            "\u001b[0;32m<ipython-input-59-fb74cd9b49b5>\u001b[0m in \u001b[0;36m<module>\u001b[0;34m\u001b[0m\n\u001b[1;32m      2\u001b[0m \u001b[0ma_seq\u001b[0m \u001b[0;34m=\u001b[0m \u001b[0;36m177058\u001b[0m\u001b[0;34m\u001b[0m\u001b[0;34m\u001b[0m\u001b[0m\n\u001b[1;32m      3\u001b[0m \u001b[0mprint\u001b[0m\u001b[0;34m(\u001b[0m\u001b[0;34m'a random seq:'\u001b[0m\u001b[0;34m,\u001b[0m \u001b[0ma_seq\u001b[0m\u001b[0;34m)\u001b[0m\u001b[0;34m\u001b[0m\u001b[0;34m\u001b[0m\u001b[0m\n\u001b[0;32m----> 4\u001b[0;31m \u001b[0mone_seq_rec\u001b[0m \u001b[0;34m=\u001b[0m \u001b[0mpd\u001b[0m\u001b[0;34m.\u001b[0m\u001b[0mDataFrame\u001b[0m\u001b[0;34m(\u001b[0m\u001b[0mrecs\u001b[0m\u001b[0;34m[\u001b[0m\u001b[0ma_seq\u001b[0m\u001b[0;34m]\u001b[0m\u001b[0;34m)\u001b[0m\u001b[0;34m\u001b[0m\u001b[0;34m\u001b[0m\u001b[0m\n\u001b[0m\u001b[1;32m      5\u001b[0m \u001b[0mone_seq_rec\u001b[0m\u001b[0;34m.\u001b[0m\u001b[0mcolumns\u001b[0m \u001b[0;34m=\u001b[0m \u001b[0;34m[\u001b[0m\u001b[0;34m'item_id'\u001b[0m\u001b[0;34m,\u001b[0m \u001b[0;34m'score'\u001b[0m\u001b[0;34m]\u001b[0m\u001b[0;34m\u001b[0m\u001b[0;34m\u001b[0m\u001b[0m\n",
            "\u001b[0;31mKeyError\u001b[0m: 177058"
          ]
        }
      ]
    },
    {
      "cell_type": "code",
      "metadata": {
        "id": "SVfFGFZctizD",
        "outputId": "de39be90-16cf-4d1a-fb5f-d1a2dec9cd19"
      },
      "source": [
        "pd.merge(one_seq_rec, item_data_desc, how = 'left')"
      ],
      "execution_count": null,
      "outputs": [
        {
          "output_type": "execute_result",
          "data": {
            "text/html": [
              "<div>\n",
              "<style scoped>\n",
              "    .dataframe tbody tr th:only-of-type {\n",
              "        vertical-align: middle;\n",
              "    }\n",
              "\n",
              "    .dataframe tbody tr th {\n",
              "        vertical-align: top;\n",
              "    }\n",
              "\n",
              "    .dataframe thead th {\n",
              "        text-align: right;\n",
              "    }\n",
              "</style>\n",
              "<table border=\"1\" class=\"dataframe\">\n",
              "  <thead>\n",
              "    <tr style=\"text-align: right;\">\n",
              "      <th></th>\n",
              "      <th>item_id</th>\n",
              "      <th>score</th>\n",
              "      <th>title</th>\n",
              "      <th>domain_id</th>\n",
              "    </tr>\n",
              "  </thead>\n",
              "  <tbody>\n",
              "    <tr>\n",
              "      <th>0</th>\n",
              "      <td>1135878</td>\n",
              "      <td>0.838379</td>\n",
              "      <td>Tenis adidas Pro Next 2019 Jr Ef0855 Rojo Básq...</td>\n",
              "      <td>MLM-SNEAKERS</td>\n",
              "    </tr>\n",
              "    <tr>\n",
              "      <th>1</th>\n",
              "      <td>138426</td>\n",
              "      <td>0.837402</td>\n",
              "      <td>Tenis Para Deporte Marca Charly 1021777 Dog</td>\n",
              "      <td>MLM-SNEAKERS</td>\n",
              "    </tr>\n",
              "    <tr>\n",
              "      <th>2</th>\n",
              "      <td>1600907</td>\n",
              "      <td>0.837402</td>\n",
              "      <td>Tenis Para Deporte Marca Charly 1029137 Dog</td>\n",
              "      <td>MLM-SNEAKERS</td>\n",
              "    </tr>\n",
              "    <tr>\n",
              "      <th>3</th>\n",
              "      <td>114985</td>\n",
              "      <td>0.834473</td>\n",
              "      <td>Tenis Puma Vikky Ribbon Mujer Nike adidas Gym ...</td>\n",
              "      <td>MLM-SNEAKERS</td>\n",
              "    </tr>\n",
              "    <tr>\n",
              "      <th>4</th>\n",
              "      <td>864126</td>\n",
              "      <td>0.834473</td>\n",
              "      <td>Tenis De Basquetbol Nike Air Max Wavy Original.</td>\n",
              "      <td>MLM-SNEAKERS</td>\n",
              "    </tr>\n",
              "    <tr>\n",
              "      <th>5</th>\n",
              "      <td>326712</td>\n",
              "      <td>0.833984</td>\n",
              "      <td>Tenis Nike Air Max Infuriate Ii Mujer Basquetb...</td>\n",
              "      <td>MLM-SNEAKERS</td>\n",
              "    </tr>\n",
              "    <tr>\n",
              "      <th>6</th>\n",
              "      <td>68056</td>\n",
              "      <td>0.832520</td>\n",
              "      <td>Tenis Nuevo adidas Cosmic Fashion Negro</td>\n",
              "      <td>MLM-SNEAKERS</td>\n",
              "    </tr>\n",
              "    <tr>\n",
              "      <th>7</th>\n",
              "      <td>407633</td>\n",
              "      <td>0.832031</td>\n",
              "      <td>Tenis adidas Pace</td>\n",
              "      <td>MLM-SNEAKERS</td>\n",
              "    </tr>\n",
              "    <tr>\n",
              "      <th>8</th>\n",
              "      <td>1658750</td>\n",
              "      <td>0.831543</td>\n",
              "      <td>Tenis 8mx Coach Negro Monogram</td>\n",
              "      <td>MLM-SNEAKERS</td>\n",
              "    </tr>\n",
              "    <tr>\n",
              "      <th>9</th>\n",
              "      <td>1703189</td>\n",
              "      <td>0.831543</td>\n",
              "      <td>Tenis Futbol Para Hombre adidas Aq4289 Black W...</td>\n",
              "      <td>MLM-SNEAKERS</td>\n",
              "    </tr>\n",
              "  </tbody>\n",
              "</table>\n",
              "</div>"
            ],
            "text/plain": [
              "   item_id     score                                              title  \\\n",
              "0  1135878  0.838379  Tenis adidas Pro Next 2019 Jr Ef0855 Rojo Básq...   \n",
              "1   138426  0.837402        Tenis Para Deporte Marca Charly 1021777 Dog   \n",
              "2  1600907  0.837402        Tenis Para Deporte Marca Charly 1029137 Dog   \n",
              "3   114985  0.834473  Tenis Puma Vikky Ribbon Mujer Nike adidas Gym ...   \n",
              "4   864126  0.834473    Tenis De Basquetbol Nike Air Max Wavy Original.   \n",
              "5   326712  0.833984  Tenis Nike Air Max Infuriate Ii Mujer Basquetb...   \n",
              "6    68056  0.832520            Tenis Nuevo adidas Cosmic Fashion Negro   \n",
              "7   407633  0.832031                                  Tenis adidas Pace   \n",
              "8  1658750  0.831543                     Tenis 8mx Coach Negro Monogram   \n",
              "9  1703189  0.831543  Tenis Futbol Para Hombre adidas Aq4289 Black W...   \n",
              "\n",
              "      domain_id  \n",
              "0  MLM-SNEAKERS  \n",
              "1  MLM-SNEAKERS  \n",
              "2  MLM-SNEAKERS  \n",
              "3  MLM-SNEAKERS  \n",
              "4  MLM-SNEAKERS  \n",
              "5  MLM-SNEAKERS  \n",
              "6  MLM-SNEAKERS  \n",
              "7  MLM-SNEAKERS  \n",
              "8  MLM-SNEAKERS  \n",
              "9  MLM-SNEAKERS  "
            ]
          },
          "metadata": {
            "tags": []
          },
          "execution_count": 60
        }
      ]
    },
    {
      "cell_type": "code",
      "metadata": {
        "id": "DdYvce4JtizD",
        "outputId": "8333a2d2-9eb9-4efd-9c09-d08e6d58be7a"
      },
      "source": [
        "train_test[train_test.seq == a_seq]"
      ],
      "execution_count": null,
      "outputs": [
        {
          "output_type": "execute_result",
          "data": {
            "text/html": [
              "<div>\n",
              "<style scoped>\n",
              "    .dataframe tbody tr th:only-of-type {\n",
              "        vertical-align: middle;\n",
              "    }\n",
              "\n",
              "    .dataframe tbody tr th {\n",
              "        vertical-align: top;\n",
              "    }\n",
              "\n",
              "    .dataframe thead th {\n",
              "        text-align: right;\n",
              "    }\n",
              "</style>\n",
              "<table border=\"1\" class=\"dataframe\">\n",
              "  <thead>\n",
              "    <tr style=\"text-align: right;\">\n",
              "      <th></th>\n",
              "      <th>seq</th>\n",
              "      <th>event_info</th>\n",
              "      <th>views</th>\n",
              "      <th>event_type</th>\n",
              "      <th>lang_seq</th>\n",
              "      <th>query_embs</th>\n",
              "    </tr>\n",
              "  </thead>\n",
              "  <tbody>\n",
              "    <tr>\n",
              "      <th>13914900</th>\n",
              "      <td>177058</td>\n",
              "      <td>ONEPLUS 5</td>\n",
              "      <td>NaN</td>\n",
              "      <td>search</td>\n",
              "      <td>pt</td>\n",
              "      <td>[0.03854, -0.2195, 0.3315, 0.0575, -0.0181, 0....</td>\n",
              "    </tr>\n",
              "    <tr>\n",
              "      <th>13914901</th>\n",
              "      <td>177058</td>\n",
              "      <td>ONEPLUS 5</td>\n",
              "      <td>NaN</td>\n",
              "      <td>search</td>\n",
              "      <td>pt</td>\n",
              "      <td>[0.03854, -0.2195, 0.3315, 0.0575, -0.0181, 0....</td>\n",
              "    </tr>\n",
              "    <tr>\n",
              "      <th>13914902</th>\n",
              "      <td>177058</td>\n",
              "      <td>ONE VISION</td>\n",
              "      <td>NaN</td>\n",
              "      <td>search</td>\n",
              "      <td>pt</td>\n",
              "      <td>[0.03427, -0.1542, 0.2006, -0.1891, -0.1799, 0...</td>\n",
              "    </tr>\n",
              "  </tbody>\n",
              "</table>\n",
              "</div>"
            ],
            "text/plain": [
              "             seq  event_info  views event_type lang_seq  \\\n",
              "13914900  177058   ONEPLUS 5    NaN     search       pt   \n",
              "13914901  177058   ONEPLUS 5    NaN     search       pt   \n",
              "13914902  177058  ONE VISION    NaN     search       pt   \n",
              "\n",
              "                                                 query_embs  \n",
              "13914900  [0.03854, -0.2195, 0.3315, 0.0575, -0.0181, 0....  \n",
              "13914901  [0.03854, -0.2195, 0.3315, 0.0575, -0.0181, 0....  \n",
              "13914902  [0.03427, -0.1542, 0.2006, -0.1891, -0.1799, 0...  "
            ]
          },
          "metadata": {
            "tags": []
          },
          "execution_count": 61
        }
      ]
    },
    {
      "cell_type": "code",
      "metadata": {
        "id": "FHSCU5OntizD",
        "outputId": "d6854446-a3df-47cc-e1ff-22bc9023d30d"
      },
      "source": [
        "pd.merge(train_test[(train_test.seq == a_seq) & ~(train_test.event_type == 'search')], item_data_desc, how = 'left', left_on = 'event_info', right_on = 'item_id')"
      ],
      "execution_count": null,
      "outputs": [
        {
          "output_type": "execute_result",
          "data": {
            "text/html": [
              "<div>\n",
              "<style scoped>\n",
              "    .dataframe tbody tr th:only-of-type {\n",
              "        vertical-align: middle;\n",
              "    }\n",
              "\n",
              "    .dataframe tbody tr th {\n",
              "        vertical-align: top;\n",
              "    }\n",
              "\n",
              "    .dataframe thead th {\n",
              "        text-align: right;\n",
              "    }\n",
              "</style>\n",
              "<table border=\"1\" class=\"dataframe\">\n",
              "  <thead>\n",
              "    <tr style=\"text-align: right;\">\n",
              "      <th></th>\n",
              "      <th>seq</th>\n",
              "      <th>event_info</th>\n",
              "      <th>views</th>\n",
              "      <th>event_type</th>\n",
              "      <th>lang_seq</th>\n",
              "      <th>query_embs</th>\n",
              "      <th>item_id</th>\n",
              "      <th>title</th>\n",
              "      <th>domain_id</th>\n",
              "    </tr>\n",
              "  </thead>\n",
              "  <tbody>\n",
              "  </tbody>\n",
              "</table>\n",
              "</div>"
            ],
            "text/plain": [
              "Empty DataFrame\n",
              "Columns: [seq, event_info, views, event_type, lang_seq, query_embs, item_id, title, domain_id]\n",
              "Index: []"
            ]
          },
          "metadata": {
            "tags": []
          },
          "execution_count": 58
        }
      ]
    },
    {
      "cell_type": "code",
      "metadata": {
        "id": "-rcxHX8PtizD"
      },
      "source": [
        ""
      ],
      "execution_count": null,
      "outputs": []
    },
    {
      "cell_type": "code",
      "metadata": {
        "id": "JuDAZW4WtizD"
      },
      "source": [
        ""
      ],
      "execution_count": null,
      "outputs": []
    },
    {
      "cell_type": "code",
      "metadata": {
        "id": "bi95fc3RtizD"
      },
      "source": [
        ""
      ],
      "execution_count": null,
      "outputs": []
    },
    {
      "cell_type": "code",
      "metadata": {
        "id": "JOZW1PqhtizD"
      },
      "source": [
        ""
      ],
      "execution_count": null,
      "outputs": []
    },
    {
      "cell_type": "code",
      "metadata": {
        "id": "zcazAD-ttizD"
      },
      "source": [
        "# train['event_info'] = train.event_info.fillna(train.item_bought)"
      ],
      "execution_count": null,
      "outputs": []
    },
    {
      "cell_type": "code",
      "metadata": {
        "id": "7DZUvfbgtizD"
      },
      "source": [
        "# param = {'buy_weight': 200,\n",
        "#  'regularization': 0.1,\n",
        "#  'iterations': 10,\n",
        "#  'factors': 128,\n",
        "#  'alpha_val': 200}"
      ],
      "execution_count": null,
      "outputs": []
    },
    {
      "cell_type": "code",
      "metadata": {
        "id": "jZFDsEirtizD"
      },
      "source": [
        "# test_offset, test_shifted_seq_vals, train_test = join_prepare_train_test(train_red, test_red, buy_weight = -1, return_search = True)\n",
        "# model, seq_map, event_info_map, sparse_user_item = fit_implicit_model(train_test, **param)\n",
        "# pred = predict_implicit_model(model, sparse_user_item, \n",
        "#                               seq_map, event_info_map, test_shifted_seq_vals, \n",
        "#                               10, test_offset, \n",
        "#                               validation = True, true_df = true_df, item_domain = item_domain)"
      ],
      "execution_count": null,
      "outputs": []
    },
    {
      "cell_type": "code",
      "metadata": {
        "id": "Sx02SY5_tizD"
      },
      "source": [
        ""
      ],
      "execution_count": null,
      "outputs": []
    },
    {
      "cell_type": "markdown",
      "metadata": {
        "id": "kDyUCZbgtizD"
      },
      "source": [
        "_____"
      ]
    },
    {
      "cell_type": "markdown",
      "metadata": {
        "id": "4vRQvDy8tizD"
      },
      "source": [
        "## dataprep for search rows - spacy tests"
      ]
    },
    {
      "cell_type": "markdown",
      "metadata": {
        "id": "-HRscGm3tizD"
      },
      "source": [
        "#### error with spaCy & Dask\n",
        "```OSError: [E050] Can't find model 'pt_core_news_md.vectors'.\n",
        "It doesn't seem to be a shortcut link, a Python package or a valid path to a data directory.```"
      ]
    },
    {
      "cell_type": "code",
      "metadata": {
        "id": "JP-t6IGhtizD"
      },
      "source": [
        "# import dask.dataframe as dd\n",
        "# from dask.distributed import Client\n",
        "# client = Client()\n",
        "# client\n",
        "\n",
        "# item_data_unique_dd = dd.from_pandas(item_data_unique, npartitions = 4)\n",
        "\n",
        "# @delayed\n",
        "# def add_spacy(df_p):\n",
        "#     df = df_p.copy()\n",
        "#     # df['port_nlp'] = df.title_lower.apply(lambda x: port_nlp(x))\n",
        "#     df['port_nlp'] = df.title_lower.apply(port_nlp)\n",
        "#     return df\n",
        "\n",
        "# item_data_unique_nlp = list()\n",
        "# for df_p in np.array_split(item_data_unique, n_workers):\n",
        "#     item_data_unique_nlp.append(add_spacy(df_p))\n",
        "\n",
        "# item_data_unique_nlp = compute(*item_data_unique_nlp)\n",
        "# # OSError: [E050] Can't find model 'pt_core_news_md.vectors'. \n",
        "# #     It doesn't seem to be a shortcut link, a Python package or a valid path to a data directory."
      ],
      "execution_count": null,
      "outputs": []
    },
    {
      "cell_type": "code",
      "metadata": {
        "id": "41t_nWIztizD"
      },
      "source": [
        "import spacy"
      ],
      "execution_count": null,
      "outputs": []
    },
    {
      "cell_type": "code",
      "metadata": {
        "id": "nf0caGt9tizD"
      },
      "source": [
        "port = spacy.load('pt_core_news_md')"
      ],
      "execution_count": null,
      "outputs": []
    },
    {
      "cell_type": "code",
      "metadata": {
        "id": "nzUyNetRtizD"
      },
      "source": [
        "query_original = port('PNEU LEVORIN AZONIC ARO 18 275 DIANTEIRO')\n",
        "query_lower    = port('PNEU LEVORIN AZONIC ARO 18 275 DIANTEIRO'.lower())"
      ],
      "execution_count": null,
      "outputs": []
    },
    {
      "cell_type": "code",
      "metadata": {
        "id": "cjYWWI5ztizD"
      },
      "source": [
        "item_original = port('Pneu Para Moto Levorin Azonic Dianteiro Tl 2,75 18')\n",
        "item_lower    = port('Pneu Para Moto Levorin Azonic Dianteiro Tl 2,75 18'.lower())"
      ],
      "execution_count": null,
      "outputs": []
    },
    {
      "cell_type": "code",
      "metadata": {
        "id": "j1H1rl8-tizD",
        "outputId": "76e11d13-bc55-4fe7-dec0-a8b8ee695aff"
      },
      "source": [
        "print(query_original.similarity(item_original))\n",
        "print(query_original.similarity(item_lower))\n",
        "print(query_lower.similarity(item_original))\n",
        "print(query_lower.similarity(item_lower))  # <--- highest similarity"
      ],
      "execution_count": null,
      "outputs": [
        {
          "output_type": "stream",
          "text": [
            "0.623769216929041\n",
            "0.55457467490276\n",
            "0.7138354773981356\n",
            "0.7602650326179264\n"
          ],
          "name": "stdout"
        }
      ]
    },
    {
      "cell_type": "code",
      "metadata": {
        "id": "qqULUY3xtizD",
        "outputId": "9f756305-849b-460c-ce98-a62ebde0ef28"
      },
      "source": [
        "type(query_lower.text)"
      ],
      "execution_count": null,
      "outputs": [
        {
          "output_type": "execute_result",
          "data": {
            "text/plain": [
              "str"
            ]
          },
          "metadata": {
            "tags": []
          },
          "execution_count": 130
        }
      ]
    },
    {
      "cell_type": "code",
      "metadata": {
        "id": "zXLKpNmHtizD",
        "outputId": "dc1e51dd-600c-4e43-9b4c-ee443cfb038c"
      },
      "source": [
        "for t in query_lower:\n",
        "    print(t, type(t), t.text, type(t.text))"
      ],
      "execution_count": null,
      "outputs": [
        {
          "output_type": "stream",
          "text": [
            "pneu <class 'spacy.tokens.token.Token'> pneu <class 'str'>\n",
            "levorin <class 'spacy.tokens.token.Token'> levorin <class 'str'>\n",
            "azonic <class 'spacy.tokens.token.Token'> azonic <class 'str'>\n",
            "aro <class 'spacy.tokens.token.Token'> aro <class 'str'>\n",
            "18 <class 'spacy.tokens.token.Token'> 18 <class 'str'>\n",
            "275 <class 'spacy.tokens.token.Token'> 275 <class 'str'>\n",
            "dianteiro <class 'spacy.tokens.token.Token'> dianteiro <class 'str'>\n"
          ],
          "name": "stdout"
        }
      ]
    },
    {
      "cell_type": "code",
      "metadata": {
        "id": "e9rH6b87tizD"
      },
      "source": [
        "train['query'] = train.event_info\n",
        "train.loc[~(train.event_type == 'search'), 'query'] = np.nan\n",
        "train['query'] = train['query'].fillna('').str.lower()"
      ],
      "execution_count": null,
      "outputs": []
    },
    {
      "cell_type": "code",
      "metadata": {
        "id": "zeRf3tcItizE"
      },
      "source": [
        "def find_oov(s):\n",
        "    s_spacy = port(s)\n",
        "    return [t.text for t in s_spacy if t.is_oov]"
      ],
      "execution_count": null,
      "outputs": []
    },
    {
      "cell_type": "code",
      "metadata": {
        "id": "YVyXMoFQtizE"
      },
      "source": [
        "train_search = train.loc[train.event_type == 'search', ['seq', 'query']].copy()\n",
        "train_search_drop_dup = train_search.drop_duplicates(subset = 'query')"
      ],
      "execution_count": null,
      "outputs": []
    },
    {
      "cell_type": "code",
      "metadata": {
        "id": "CChnLe9NtizE",
        "outputId": "680112fa-e79d-4660-9ae4-6af16ba34187"
      },
      "source": [
        "train_search_drop_dup['entities'] = train_search_drop_dup['query'].progress_apply(find_oov)"
      ],
      "execution_count": null,
      "outputs": [
        {
          "output_type": "stream",
          "text": [
            "100%|██████████| 847496/847496 [1:37:52<00:00, 144.33it/s] \n",
            "/Users/hitoshinagano/.virtualenvs/tensorflow2/lib/python3.7/site-packages/ipykernel_launcher.py:1: SettingWithCopyWarning: \n",
            "A value is trying to be set on a copy of a slice from a DataFrame.\n",
            "Try using .loc[row_indexer,col_indexer] = value instead\n",
            "\n",
            "See the caveats in the documentation: https://pandas.pydata.org/pandas-docs/stable/user_guide/indexing.html#returning-a-view-versus-a-copy\n",
            "  \"\"\"Entry point for launching an IPython kernel.\n"
          ],
          "name": "stderr"
        }
      ]
    },
    {
      "cell_type": "code",
      "metadata": {
        "id": "fCTE6SHmtizE"
      },
      "source": [
        "train = pd.merge(train, train_search_drop_dup, on = 'query', how = 'left')"
      ],
      "execution_count": null,
      "outputs": []
    },
    {
      "cell_type": "code",
      "metadata": {
        "id": "QSZCIxSxtizE"
      },
      "source": [
        "train.rename(columns = {'seq_x': 'seq'}, inplace = True)\n",
        "train.drop(columns = 'seq_y', inplace = True)"
      ],
      "execution_count": null,
      "outputs": []
    },
    {
      "cell_type": "code",
      "metadata": {
        "id": "BhjcnL3-tizE"
      },
      "source": [
        "train.sort_values(['seq', 'event_timestamp'], inplace = True)"
      ],
      "execution_count": null,
      "outputs": []
    },
    {
      "cell_type": "code",
      "metadata": {
        "id": "7n4yKpq3tizE",
        "outputId": "53a3ff3e-8735-43ff-d195-822b4fef3221"
      },
      "source": [
        "train.sample(10)"
      ],
      "execution_count": null,
      "outputs": [
        {
          "output_type": "execute_result",
          "data": {
            "text/html": [
              "<div>\n",
              "<style scoped>\n",
              "    .dataframe tbody tr th:only-of-type {\n",
              "        vertical-align: middle;\n",
              "    }\n",
              "\n",
              "    .dataframe tbody tr th {\n",
              "        vertical-align: top;\n",
              "    }\n",
              "\n",
              "    .dataframe thead th {\n",
              "        text-align: right;\n",
              "    }\n",
              "</style>\n",
              "<table border=\"1\" class=\"dataframe\">\n",
              "  <thead>\n",
              "    <tr style=\"text-align: right;\">\n",
              "      <th></th>\n",
              "      <th>seq</th>\n",
              "      <th>item_bought</th>\n",
              "      <th>event_info</th>\n",
              "      <th>event_timestamp</th>\n",
              "      <th>event_type</th>\n",
              "      <th>time_diff</th>\n",
              "      <th>query</th>\n",
              "      <th>entities</th>\n",
              "    </tr>\n",
              "  </thead>\n",
              "  <tbody>\n",
              "    <tr>\n",
              "      <th>6839163</th>\n",
              "      <td>6994</td>\n",
              "      <td>NaN</td>\n",
              "      <td>984787</td>\n",
              "      <td>2019-10-12 18:54:21</td>\n",
              "      <td>view</td>\n",
              "      <td>25.0</td>\n",
              "      <td></td>\n",
              "      <td>NaN</td>\n",
              "    </tr>\n",
              "    <tr>\n",
              "      <th>11963835</th>\n",
              "      <td>98101</td>\n",
              "      <td>NaN</td>\n",
              "      <td>364310</td>\n",
              "      <td>2019-09-28 21:16:31</td>\n",
              "      <td>view</td>\n",
              "      <td>10.0</td>\n",
              "      <td></td>\n",
              "      <td>NaN</td>\n",
              "    </tr>\n",
              "    <tr>\n",
              "      <th>1424896</th>\n",
              "      <td>138466</td>\n",
              "      <td>NaN</td>\n",
              "      <td>LAMPADA LED HONDA CIVIC 99</td>\n",
              "      <td>2019-10-21 10:18:59</td>\n",
              "      <td>search</td>\n",
              "      <td>288.0</td>\n",
              "      <td>lampada led honda civic 99</td>\n",
              "      <td>[]</td>\n",
              "    </tr>\n",
              "    <tr>\n",
              "      <th>1828935</th>\n",
              "      <td>387228</td>\n",
              "      <td>NaN</td>\n",
              "      <td>1799758</td>\n",
              "      <td>2019-10-03 01:27:39</td>\n",
              "      <td>view</td>\n",
              "      <td>49.0</td>\n",
              "      <td></td>\n",
              "      <td>NaN</td>\n",
              "    </tr>\n",
              "    <tr>\n",
              "      <th>2032760</th>\n",
              "      <td>154670</td>\n",
              "      <td>NaN</td>\n",
              "      <td>243848</td>\n",
              "      <td>2019-10-15 18:20:03</td>\n",
              "      <td>view</td>\n",
              "      <td>14.0</td>\n",
              "      <td></td>\n",
              "      <td>NaN</td>\n",
              "    </tr>\n",
              "    <tr>\n",
              "      <th>6697734</th>\n",
              "      <td>257356</td>\n",
              "      <td>NaN</td>\n",
              "      <td>CORTA VENTO MERCEDES</td>\n",
              "      <td>2019-10-03 20:25:03</td>\n",
              "      <td>search</td>\n",
              "      <td>6.0</td>\n",
              "      <td>corta vento mercedes</td>\n",
              "      <td>[]</td>\n",
              "    </tr>\n",
              "    <tr>\n",
              "      <th>244324</th>\n",
              "      <td>155814</td>\n",
              "      <td>1278790.0</td>\n",
              "      <td>NaN</td>\n",
              "      <td>NaT</td>\n",
              "      <td>NaN</td>\n",
              "      <td>NaN</td>\n",
              "      <td></td>\n",
              "      <td>NaN</td>\n",
              "    </tr>\n",
              "    <tr>\n",
              "      <th>4728092</th>\n",
              "      <td>213232</td>\n",
              "      <td>NaN</td>\n",
              "      <td>PULA PIRATA</td>\n",
              "      <td>2019-10-03 15:53:31</td>\n",
              "      <td>search</td>\n",
              "      <td>7.0</td>\n",
              "      <td>pula pirata</td>\n",
              "      <td>[]</td>\n",
              "    </tr>\n",
              "    <tr>\n",
              "      <th>3481274</th>\n",
              "      <td>152042</td>\n",
              "      <td>NaN</td>\n",
              "      <td>CHUTEIRA CRIANCA 27 28</td>\n",
              "      <td>2019-10-03 16:30:14</td>\n",
              "      <td>search</td>\n",
              "      <td>7.0</td>\n",
              "      <td>chuteira crianca 27 28</td>\n",
              "      <td>[]</td>\n",
              "    </tr>\n",
              "    <tr>\n",
              "      <th>158968</th>\n",
              "      <td>238608</td>\n",
              "      <td>NaN</td>\n",
              "      <td>RELOJ CASIO</td>\n",
              "      <td>2019-10-18 15:46:15</td>\n",
              "      <td>search</td>\n",
              "      <td>NaN</td>\n",
              "      <td>reloj casio</td>\n",
              "      <td>[]</td>\n",
              "    </tr>\n",
              "  </tbody>\n",
              "</table>\n",
              "</div>"
            ],
            "text/plain": [
              "             seq  item_bought                  event_info     event_timestamp  \\\n",
              "6839163     6994          NaN                      984787 2019-10-12 18:54:21   \n",
              "11963835   98101          NaN                      364310 2019-09-28 21:16:31   \n",
              "1424896   138466          NaN  LAMPADA LED HONDA CIVIC 99 2019-10-21 10:18:59   \n",
              "1828935   387228          NaN                     1799758 2019-10-03 01:27:39   \n",
              "2032760   154670          NaN                      243848 2019-10-15 18:20:03   \n",
              "6697734   257356          NaN        CORTA VENTO MERCEDES 2019-10-03 20:25:03   \n",
              "244324    155814    1278790.0                         NaN                 NaT   \n",
              "4728092   213232          NaN                 PULA PIRATA 2019-10-03 15:53:31   \n",
              "3481274   152042          NaN      CHUTEIRA CRIANCA 27 28 2019-10-03 16:30:14   \n",
              "158968    238608          NaN                 RELOJ CASIO 2019-10-18 15:46:15   \n",
              "\n",
              "         event_type  time_diff                       query entities  \n",
              "6839163        view       25.0                                  NaN  \n",
              "11963835       view       10.0                                  NaN  \n",
              "1424896      search      288.0  lampada led honda civic 99       []  \n",
              "1828935        view       49.0                                  NaN  \n",
              "2032760        view       14.0                                  NaN  \n",
              "6697734      search        6.0        corta vento mercedes       []  \n",
              "244324          NaN        NaN                                  NaN  \n",
              "4728092      search        7.0                 pula pirata       []  \n",
              "3481274      search        7.0      chuteira crianca 27 28       []  \n",
              "158968       search        NaN                 reloj casio       []  "
            ]
          },
          "metadata": {
            "tags": []
          },
          "execution_count": 164
        }
      ]
    },
    {
      "cell_type": "code",
      "metadata": {
        "id": "lrt0oIGHtizE"
      },
      "source": [
        "# train_fn = 'train_for_nlp.pkl'\n",
        "# train_fp = os.path.join(interim_data_dir, train_fn)\n",
        "# train.to_pickle(train_fp)"
      ],
      "execution_count": null,
      "outputs": []
    },
    {
      "cell_type": "markdown",
      "metadata": {
        "id": "x3k06ZdPtizE"
      },
      "source": [
        "___"
      ]
    },
    {
      "cell_type": "code",
      "metadata": {
        "id": "M7zu1NrZtizE"
      },
      "source": [
        "# train = pd.read_pickle(train_fp)"
      ],
      "execution_count": null,
      "outputs": []
    },
    {
      "cell_type": "code",
      "metadata": {
        "id": "Wk_wWobrtizE",
        "outputId": "640bfb3a-72f1-446f-b713-e4b8cfcce9ac"
      },
      "source": [
        "item_data.head()"
      ],
      "execution_count": null,
      "outputs": [
        {
          "output_type": "execute_result",
          "data": {
            "text/html": [
              "<div>\n",
              "<style scoped>\n",
              "    .dataframe tbody tr th:only-of-type {\n",
              "        vertical-align: middle;\n",
              "    }\n",
              "\n",
              "    .dataframe tbody tr th {\n",
              "        vertical-align: top;\n",
              "    }\n",
              "\n",
              "    .dataframe thead th {\n",
              "        text-align: right;\n",
              "    }\n",
              "</style>\n",
              "<table border=\"1\" class=\"dataframe\">\n",
              "  <thead>\n",
              "    <tr style=\"text-align: right;\">\n",
              "      <th></th>\n",
              "      <th>item_id</th>\n",
              "      <th>title</th>\n",
              "      <th>domain_id</th>\n",
              "      <th>product_id</th>\n",
              "      <th>price</th>\n",
              "      <th>category_id</th>\n",
              "      <th>condition</th>\n",
              "    </tr>\n",
              "  </thead>\n",
              "  <tbody>\n",
              "    <tr>\n",
              "      <th>0</th>\n",
              "      <td>111260</td>\n",
              "      <td>Casa Sola En Venta Con Gran Patio Solo Pago De...</td>\n",
              "      <td>MLM-INDIVIDUAL_HOUSES_FOR_SALE</td>\n",
              "      <td>NaN</td>\n",
              "      <td>1150000.00</td>\n",
              "      <td>MLM170527</td>\n",
              "      <td>new</td>\n",
              "    </tr>\n",
              "    <tr>\n",
              "      <th>1</th>\n",
              "      <td>871377</td>\n",
              "      <td>Resident Evil Origins Collection Nintendo Swit...</td>\n",
              "      <td>MLM-VIDEO_GAMES</td>\n",
              "      <td>15270800.0</td>\n",
              "      <td>1392.83</td>\n",
              "      <td>MLM151595</td>\n",
              "      <td>new</td>\n",
              "    </tr>\n",
              "    <tr>\n",
              "      <th>2</th>\n",
              "      <td>490232</td>\n",
              "      <td>Falda De Imitación Piel Negra</td>\n",
              "      <td>MLM-SKIRTS</td>\n",
              "      <td>NaN</td>\n",
              "      <td>350.00</td>\n",
              "      <td>MLM7697</td>\n",
              "      <td>new</td>\n",
              "    </tr>\n",
              "    <tr>\n",
              "      <th>3</th>\n",
              "      <td>1150706</td>\n",
              "      <td>Powercolor Red Devil Radeon Rx 580 8gb Gddr5</td>\n",
              "      <td>MLM-GRAPHICS_CARDS</td>\n",
              "      <td>NaN</td>\n",
              "      <td>3200.00</td>\n",
              "      <td>MLM9761</td>\n",
              "      <td>used</td>\n",
              "    </tr>\n",
              "    <tr>\n",
              "      <th>4</th>\n",
              "      <td>934912</td>\n",
              "      <td>Laptop Hp Nx6320 Core Duo Con Puerto Db9 Windo...</td>\n",
              "      <td>MLM-NOTEBOOKS</td>\n",
              "      <td>NaN</td>\n",
              "      <td>1599.00</td>\n",
              "      <td>MLM1652</td>\n",
              "      <td>used</td>\n",
              "    </tr>\n",
              "  </tbody>\n",
              "</table>\n",
              "</div>"
            ],
            "text/plain": [
              "   item_id                                              title  \\\n",
              "0   111260  Casa Sola En Venta Con Gran Patio Solo Pago De...   \n",
              "1   871377  Resident Evil Origins Collection Nintendo Swit...   \n",
              "2   490232                      Falda De Imitación Piel Negra   \n",
              "3  1150706       Powercolor Red Devil Radeon Rx 580 8gb Gddr5   \n",
              "4   934912  Laptop Hp Nx6320 Core Duo Con Puerto Db9 Windo...   \n",
              "\n",
              "                        domain_id  product_id       price category_id  \\\n",
              "0  MLM-INDIVIDUAL_HOUSES_FOR_SALE         NaN  1150000.00   MLM170527   \n",
              "1                 MLM-VIDEO_GAMES  15270800.0     1392.83   MLM151595   \n",
              "2                      MLM-SKIRTS         NaN      350.00     MLM7697   \n",
              "3              MLM-GRAPHICS_CARDS         NaN     3200.00     MLM9761   \n",
              "4                   MLM-NOTEBOOKS         NaN     1599.00     MLM1652   \n",
              "\n",
              "  condition  \n",
              "0       new  \n",
              "1       new  \n",
              "2       new  \n",
              "3      used  \n",
              "4      used  "
            ]
          },
          "metadata": {
            "tags": []
          },
          "execution_count": 168
        }
      ]
    },
    {
      "cell_type": "code",
      "metadata": {
        "id": "ugGN8AqjtizE"
      },
      "source": [
        "train = pd.merge(train, item_data[['item_id', 'domain_id']], left_on = 'item_bought', right_on = 'item_id', how = 'left')"
      ],
      "execution_count": null,
      "outputs": []
    },
    {
      "cell_type": "code",
      "metadata": {
        "id": "EFV780ErtizE"
      },
      "source": [
        "train['country'] = train.domain_id.str[:3]"
      ],
      "execution_count": null,
      "outputs": []
    },
    {
      "cell_type": "code",
      "metadata": {
        "id": "skhYqGDZtizE"
      },
      "source": [
        "views_sel = train.event_type == 'view'"
      ],
      "execution_count": null,
      "outputs": []
    },
    {
      "cell_type": "code",
      "metadata": {
        "id": "rsocQ6iItizE",
        "outputId": "15e24a6e-9170-41d5-8c2d-6b6db34af716"
      },
      "source": [
        "train = train[~views_sel].copy() # searches & buys only"
      ],
      "execution_count": null,
      "outputs": [
        {
          "output_type": "execute_result",
          "data": {
            "text/html": [
              "<div>\n",
              "<style scoped>\n",
              "    .dataframe tbody tr th:only-of-type {\n",
              "        vertical-align: middle;\n",
              "    }\n",
              "\n",
              "    .dataframe tbody tr th {\n",
              "        vertical-align: top;\n",
              "    }\n",
              "\n",
              "    .dataframe thead th {\n",
              "        text-align: right;\n",
              "    }\n",
              "</style>\n",
              "<table border=\"1\" class=\"dataframe\">\n",
              "  <thead>\n",
              "    <tr style=\"text-align: right;\">\n",
              "      <th></th>\n",
              "      <th>seq</th>\n",
              "      <th>item_bought</th>\n",
              "      <th>event_info</th>\n",
              "      <th>event_timestamp</th>\n",
              "      <th>event_type</th>\n",
              "      <th>time_diff</th>\n",
              "      <th>query</th>\n",
              "      <th>entities</th>\n",
              "      <th>item_id</th>\n",
              "      <th>domain_id</th>\n",
              "      <th>country</th>\n",
              "    </tr>\n",
              "  </thead>\n",
              "  <tbody>\n",
              "    <tr>\n",
              "      <th>0</th>\n",
              "      <td>0</td>\n",
              "      <td>NaN</td>\n",
              "      <td>1786148</td>\n",
              "      <td>2019-10-19 11:25:42</td>\n",
              "      <td>view</td>\n",
              "      <td>NaN</td>\n",
              "      <td></td>\n",
              "      <td>NaN</td>\n",
              "      <td>NaN</td>\n",
              "      <td>NaN</td>\n",
              "      <td>NaN</td>\n",
              "    </tr>\n",
              "    <tr>\n",
              "      <th>1</th>\n",
              "      <td>0</td>\n",
              "      <td>NaN</td>\n",
              "      <td>1786148</td>\n",
              "      <td>2019-10-19 11:25:57</td>\n",
              "      <td>view</td>\n",
              "      <td>15.0</td>\n",
              "      <td></td>\n",
              "      <td>NaN</td>\n",
              "      <td>NaN</td>\n",
              "      <td>NaN</td>\n",
              "      <td>NaN</td>\n",
              "    </tr>\n",
              "    <tr>\n",
              "      <th>2</th>\n",
              "      <td>0</td>\n",
              "      <td>NaN</td>\n",
              "      <td>RELOGIO SMARTWATCH</td>\n",
              "      <td>2019-10-19 11:26:07</td>\n",
              "      <td>search</td>\n",
              "      <td>10.0</td>\n",
              "      <td>relogio smartwatch</td>\n",
              "      <td>[]</td>\n",
              "      <td>NaN</td>\n",
              "      <td>NaN</td>\n",
              "      <td>NaN</td>\n",
              "    </tr>\n",
              "    <tr>\n",
              "      <th>3</th>\n",
              "      <td>0</td>\n",
              "      <td>NaN</td>\n",
              "      <td>1615991</td>\n",
              "      <td>2019-10-19 11:27:26</td>\n",
              "      <td>view</td>\n",
              "      <td>79.0</td>\n",
              "      <td></td>\n",
              "      <td>NaN</td>\n",
              "      <td>NaN</td>\n",
              "      <td>NaN</td>\n",
              "      <td>NaN</td>\n",
              "    </tr>\n",
              "    <tr>\n",
              "      <th>4</th>\n",
              "      <td>0</td>\n",
              "      <td>NaN</td>\n",
              "      <td>1615991</td>\n",
              "      <td>2019-10-19 11:28:36</td>\n",
              "      <td>view</td>\n",
              "      <td>70.0</td>\n",
              "      <td></td>\n",
              "      <td>NaN</td>\n",
              "      <td>NaN</td>\n",
              "      <td>NaN</td>\n",
              "      <td>NaN</td>\n",
              "    </tr>\n",
              "    <tr>\n",
              "      <th>...</th>\n",
              "      <td>...</td>\n",
              "      <td>...</td>\n",
              "      <td>...</td>\n",
              "      <td>...</td>\n",
              "      <td>...</td>\n",
              "      <td>...</td>\n",
              "      <td>...</td>\n",
              "      <td>...</td>\n",
              "      <td>...</td>\n",
              "      <td>...</td>\n",
              "      <td>...</td>\n",
              "    </tr>\n",
              "    <tr>\n",
              "      <th>12412324</th>\n",
              "      <td>413162</td>\n",
              "      <td>NaN</td>\n",
              "      <td>792798</td>\n",
              "      <td>2019-10-07 10:49:32</td>\n",
              "      <td>view</td>\n",
              "      <td>8076.0</td>\n",
              "      <td></td>\n",
              "      <td>NaN</td>\n",
              "      <td>NaN</td>\n",
              "      <td>NaN</td>\n",
              "      <td>NaN</td>\n",
              "    </tr>\n",
              "    <tr>\n",
              "      <th>12412325</th>\n",
              "      <td>413162</td>\n",
              "      <td>NaN</td>\n",
              "      <td>258196</td>\n",
              "      <td>2019-10-07 10:52:21</td>\n",
              "      <td>view</td>\n",
              "      <td>169.0</td>\n",
              "      <td></td>\n",
              "      <td>NaN</td>\n",
              "      <td>NaN</td>\n",
              "      <td>NaN</td>\n",
              "      <td>NaN</td>\n",
              "    </tr>\n",
              "    <tr>\n",
              "      <th>12412326</th>\n",
              "      <td>413162</td>\n",
              "      <td>NaN</td>\n",
              "      <td>12716</td>\n",
              "      <td>2019-10-07 10:53:07</td>\n",
              "      <td>view</td>\n",
              "      <td>46.0</td>\n",
              "      <td></td>\n",
              "      <td>NaN</td>\n",
              "      <td>NaN</td>\n",
              "      <td>NaN</td>\n",
              "      <td>NaN</td>\n",
              "    </tr>\n",
              "    <tr>\n",
              "      <th>12412327</th>\n",
              "      <td>413162</td>\n",
              "      <td>NaN</td>\n",
              "      <td>258196</td>\n",
              "      <td>2019-10-07 10:55:32</td>\n",
              "      <td>view</td>\n",
              "      <td>145.0</td>\n",
              "      <td></td>\n",
              "      <td>NaN</td>\n",
              "      <td>NaN</td>\n",
              "      <td>NaN</td>\n",
              "      <td>NaN</td>\n",
              "    </tr>\n",
              "    <tr>\n",
              "      <th>12412328</th>\n",
              "      <td>413162</td>\n",
              "      <td>1212472.0</td>\n",
              "      <td>NaN</td>\n",
              "      <td>NaT</td>\n",
              "      <td>NaN</td>\n",
              "      <td>NaN</td>\n",
              "      <td></td>\n",
              "      <td>NaN</td>\n",
              "      <td>1212472.0</td>\n",
              "      <td>MLB-SKIN_CARE_SUPPLIES</td>\n",
              "      <td>MLB</td>\n",
              "    </tr>\n",
              "  </tbody>\n",
              "</table>\n",
              "<p>12412329 rows × 11 columns</p>\n",
              "</div>"
            ],
            "text/plain": [
              "             seq  item_bought          event_info     event_timestamp  \\\n",
              "0              0          NaN             1786148 2019-10-19 11:25:42   \n",
              "1              0          NaN             1786148 2019-10-19 11:25:57   \n",
              "2              0          NaN  RELOGIO SMARTWATCH 2019-10-19 11:26:07   \n",
              "3              0          NaN             1615991 2019-10-19 11:27:26   \n",
              "4              0          NaN             1615991 2019-10-19 11:28:36   \n",
              "...          ...          ...                 ...                 ...   \n",
              "12412324  413162          NaN              792798 2019-10-07 10:49:32   \n",
              "12412325  413162          NaN              258196 2019-10-07 10:52:21   \n",
              "12412326  413162          NaN               12716 2019-10-07 10:53:07   \n",
              "12412327  413162          NaN              258196 2019-10-07 10:55:32   \n",
              "12412328  413162    1212472.0                 NaN                 NaT   \n",
              "\n",
              "         event_type  time_diff               query entities    item_id  \\\n",
              "0              view        NaN                          NaN        NaN   \n",
              "1              view       15.0                          NaN        NaN   \n",
              "2            search       10.0  relogio smartwatch       []        NaN   \n",
              "3              view       79.0                          NaN        NaN   \n",
              "4              view       70.0                          NaN        NaN   \n",
              "...             ...        ...                 ...      ...        ...   \n",
              "12412324       view     8076.0                          NaN        NaN   \n",
              "12412325       view      169.0                          NaN        NaN   \n",
              "12412326       view       46.0                          NaN        NaN   \n",
              "12412327       view      145.0                          NaN        NaN   \n",
              "12412328        NaN        NaN                          NaN  1212472.0   \n",
              "\n",
              "                       domain_id country  \n",
              "0                            NaN     NaN  \n",
              "1                            NaN     NaN  \n",
              "2                            NaN     NaN  \n",
              "3                            NaN     NaN  \n",
              "4                            NaN     NaN  \n",
              "...                          ...     ...  \n",
              "12412324                     NaN     NaN  \n",
              "12412325                     NaN     NaN  \n",
              "12412326                     NaN     NaN  \n",
              "12412327                     NaN     NaN  \n",
              "12412328  MLB-SKIN_CARE_SUPPLIES     MLB  \n",
              "\n",
              "[12412329 rows x 11 columns]"
            ]
          },
          "metadata": {
            "tags": []
          },
          "execution_count": 176
        }
      ]
    },
    {
      "cell_type": "code",
      "metadata": {
        "id": "LsSwb4QqtizE"
      },
      "source": [
        ""
      ],
      "execution_count": null,
      "outputs": []
    },
    {
      "cell_type": "code",
      "metadata": {
        "id": "dO1HsdIUtizE"
      },
      "source": [
        ""
      ],
      "execution_count": null,
      "outputs": []
    },
    {
      "cell_type": "code",
      "metadata": {
        "id": "gmVgI45RtizE"
      },
      "source": [
        ""
      ],
      "execution_count": null,
      "outputs": []
    },
    {
      "cell_type": "code",
      "metadata": {
        "id": "KF1BUPpItizE"
      },
      "source": [
        ""
      ],
      "execution_count": null,
      "outputs": []
    },
    {
      "cell_type": "code",
      "metadata": {
        "id": "1PXki5WAtizE"
      },
      "source": [
        ""
      ],
      "execution_count": null,
      "outputs": []
    },
    {
      "cell_type": "code",
      "metadata": {
        "id": "_C-AN_cZtizE"
      },
      "source": [
        ""
      ],
      "execution_count": null,
      "outputs": []
    },
    {
      "cell_type": "markdown",
      "metadata": {
        "id": "l0ZSihcutizE"
      },
      "source": [
        ""
      ]
    }
  ]
}