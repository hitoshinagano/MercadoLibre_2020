{
 "cells": [
  {
   "cell_type": "markdown",
   "metadata": {},
   "source": [
    "# EDA - VALIDATION & PREDICTION - Search"
   ]
  },
  {
   "cell_type": "markdown",
   "metadata": {},
   "source": [
    "## autoreload"
   ]
  },
  {
   "cell_type": "code",
   "execution_count": 1,
   "metadata": {},
   "outputs": [],
   "source": [
    "%load_ext autoreload\n",
    "%autoreload 2"
   ]
  },
  {
   "cell_type": "markdown",
   "metadata": {},
   "source": [
    "## dir setup"
   ]
  },
  {
   "cell_type": "code",
   "execution_count": 2,
   "metadata": {},
   "outputs": [
    {
     "data": {
      "text/plain": [
       "True"
      ]
     },
     "execution_count": 2,
     "metadata": {},
     "output_type": "execute_result"
    }
   ],
   "source": [
    "from dotenv import load_dotenv, find_dotenv\n",
    "import os\n",
    "\n",
    "this_file_path = os.path.dirname(os.path.abspath(\"__file__\"))\n",
    "# if script (not notebook)...\n",
    "# project_dir = os.path.join(os.path.dirname(__file__), os.pardir)\n",
    "\n",
    "# project directory\n",
    "project_dir = os.path.join(this_file_path, os.pardir)\n",
    "\n",
    "# find .env automagically by walking up directories until it's found\n",
    "dotenv_path = find_dotenv()\n",
    "\n",
    "# load up the entries as environment variables\n",
    "load_dotenv(dotenv_path)"
   ]
  },
  {
   "cell_type": "code",
   "execution_count": 3,
   "metadata": {},
   "outputs": [],
   "source": [
    "raw_data_dir = os.path.join(project_dir, os.environ.get(\"RAW_DATA_DIR\"))\n",
    "processed_data_dir = os.path.join(project_dir, os.environ.get(\"PROCESSED_DATA_DIR\"))\n",
    "interim_data_dir = os.path.join(project_dir, os.environ.get(\"INTERIM_DATA_DIR\"))\n",
    "wordvecs_data_dir = os.path.join(project_dir, os.environ.get(\"WORDVECS_DATA_DIR\"))\n",
    "figures_dir = os.path.join(project_dir, os.environ.get(\"FIGURES_DIR\"))\n",
    "reports_dir = os.path.join(project_dir, os.environ.get(\"REPORTS_DIR\"))\n",
    "cv_dir = os.path.join(project_dir, os.environ.get(\"CV_DIR\"))\n",
    "models_dir = os.path.join(project_dir, os.environ.get(\"MODELS_DIR\"))"
   ]
  },
  {
   "cell_type": "code",
   "execution_count": 4,
   "metadata": {},
   "outputs": [],
   "source": [
    "TEST_OFFSET = int(os.environ.get(\"TEST_OFFSET\"))\n",
    "TOTAL_TEST_SEQS = int(os.environ.get(\"TOTAL_TEST_SEQS\"))"
   ]
  },
  {
   "cell_type": "markdown",
   "metadata": {},
   "source": [
    "## imports"
   ]
  },
  {
   "cell_type": "code",
   "execution_count": 5,
   "metadata": {},
   "outputs": [],
   "source": [
    "import numpy as np\n",
    "from datetime import datetime"
   ]
  },
  {
   "cell_type": "code",
   "execution_count": 41,
   "metadata": {},
   "outputs": [],
   "source": [
    "import pandas as pd\n",
    "# pd.set_option('max_rows', 200)\n",
    "pd.options.display.max_rows = 100\n",
    "# pd.set_option('max_columns', None)\n",
    "# pd.options.mode.chained_assignment = None  # default='warn'"
   ]
  },
  {
   "cell_type": "code",
   "execution_count": 7,
   "metadata": {},
   "outputs": [
    {
     "name": "stderr",
     "output_type": "stream",
     "text": [
      "/Users/hitoshinagano/.virtualenvs/tensorflow2/lib/python3.7/site-packages/tqdm/std.py:668: FutureWarning: The Panel class is removed from pandas. Accessing it from the top-level namespace will also be removed in the next version\n",
      "  from pandas import Panel\n"
     ]
    }
   ],
   "source": [
    "from tqdm import tqdm\n",
    "tqdm.pandas()"
   ]
  },
  {
   "cell_type": "code",
   "execution_count": 8,
   "metadata": {},
   "outputs": [],
   "source": [
    "# from sklearn.model_selection import ParameterGrid\n",
    "\n",
    "# import mlflow\n",
    "\n",
    "# import pickle\n",
    "\n",
    "# import seaborn as sns\n",
    "# import matplotlib.pyplot as plt"
   ]
  },
  {
   "cell_type": "code",
   "execution_count": 9,
   "metadata": {},
   "outputs": [],
   "source": [
    "# import spacy\n",
    "\n",
    "# port_nlp_fn = 'nilc50skip'\n",
    "# port_nlp_fp = os.path.join(wordvecs_data_dir, port_nlp_fn) \n",
    "# port_nlp = spacy.load(port_nlp_fp)\n",
    "\n",
    "# espa_nlp_fn = 'suc30fast'\n",
    "# espa_nlp_fp = os.path.join(wordvecs_data_dir, espa_nlp_fn) \n",
    "# espa_nlp = spacy.load(espa_nlp_fp)"
   ]
  },
  {
   "cell_type": "code",
   "execution_count": 10,
   "metadata": {},
   "outputs": [],
   "source": [
    "from sklearn.metrics import ndcg_score"
   ]
  },
  {
   "cell_type": "markdown",
   "metadata": {},
   "source": [
    "## project imports"
   ]
  },
  {
   "cell_type": "code",
   "execution_count": 11,
   "metadata": {},
   "outputs": [],
   "source": [
    "import sys\n",
    "sys.path.insert(0, '..')"
   ]
  },
  {
   "cell_type": "code",
   "execution_count": 12,
   "metadata": {},
   "outputs": [],
   "source": [
    "from src.features import *\n",
    "from src.models import *"
   ]
  },
  {
   "cell_type": "markdown",
   "metadata": {},
   "source": [
    "# train/test search data dataprep for search info"
   ]
  },
  {
   "cell_type": "code",
   "execution_count": 17,
   "metadata": {},
   "outputs": [],
   "source": [
    "item_data_fn = 'item_data.jl.gz'\n",
    "item_data = pd.read_json(os.path.join(raw_data_dir, item_data_fn), lines = True)\n",
    "item_data = item_data[['item_id', 'title']]"
   ]
  },
  {
   "cell_type": "code",
   "execution_count": 50,
   "metadata": {},
   "outputs": [],
   "source": [
    "train_fn = 'train_dataset.pkl'\n",
    "test_fn = 'test_dataset.pkl'\n",
    "train, test = read_processed(train_fn, test_fn)"
   ]
  },
  {
   "cell_type": "code",
   "execution_count": 51,
   "metadata": {},
   "outputs": [],
   "source": [
    "test_offset, test_shifted_seq_vals, train_test = join_prepare_train_test(train, test, \n",
    "                                                                         buy_weight = -1,\n",
    "                                                                         just_concat = True)"
   ]
  },
  {
   "cell_type": "code",
   "execution_count": 52,
   "metadata": {},
   "outputs": [],
   "source": [
    "train_test['item_id'] = train_test.item_bought.fillna(train_test.event_info)\n",
    "train_test['query_str'] = [t if isinstance(t, str) else np.nan for t in train_test.item_id]"
   ]
  },
  {
   "cell_type": "code",
   "execution_count": 53,
   "metadata": {},
   "outputs": [],
   "source": [
    "train_test = pd.merge(train_test, item_data, how = 'left')\n",
    "train_test['title'] = train_test.title.fillna(train_test.query_str)\n",
    "train_test = train_test[['seq', 'lang_seq', 'event_type', 'title']].copy()\n",
    "train_test['texts_lower'] = train_test.title.str.lower() \n",
    "train_test.drop(columns = 'title', inplace = True)"
   ]
  },
  {
   "cell_type": "code",
   "execution_count": 54,
   "metadata": {},
   "outputs": [
    {
     "data": {
      "text/html": [
       "<div>\n",
       "<style scoped>\n",
       "    .dataframe tbody tr th:only-of-type {\n",
       "        vertical-align: middle;\n",
       "    }\n",
       "\n",
       "    .dataframe tbody tr th {\n",
       "        vertical-align: top;\n",
       "    }\n",
       "\n",
       "    .dataframe thead th {\n",
       "        text-align: right;\n",
       "    }\n",
       "</style>\n",
       "<table border=\"1\" class=\"dataframe\">\n",
       "  <thead>\n",
       "    <tr style=\"text-align: right;\">\n",
       "      <th></th>\n",
       "      <th>seq</th>\n",
       "      <th>lang_seq</th>\n",
       "      <th>event_type</th>\n",
       "      <th>texts_lower</th>\n",
       "    </tr>\n",
       "  </thead>\n",
       "  <tbody>\n",
       "    <tr>\n",
       "      <th>466061</th>\n",
       "      <td>57</td>\n",
       "      <td>pt</td>\n",
       "      <td>view</td>\n",
       "      <td>3 luminária led tubular sobrepor slim bivolt 1...</td>\n",
       "    </tr>\n",
       "    <tr>\n",
       "      <th>466062</th>\n",
       "      <td>57</td>\n",
       "      <td>pt</td>\n",
       "      <td>view</td>\n",
       "      <td>3 luminária led tubular sobrepor slim bivolt 1...</td>\n",
       "    </tr>\n",
       "    <tr>\n",
       "      <th>466063</th>\n",
       "      <td>57</td>\n",
       "      <td>pt</td>\n",
       "      <td>view</td>\n",
       "      <td>3 luminária led tubular sobrepor slim bivolt 1...</td>\n",
       "    </tr>\n",
       "    <tr>\n",
       "      <th>466064</th>\n",
       "      <td>57</td>\n",
       "      <td>pt</td>\n",
       "      <td>view</td>\n",
       "      <td>3 luminária led tubular sobrepor slim bivolt 1...</td>\n",
       "    </tr>\n",
       "    <tr>\n",
       "      <th>466065</th>\n",
       "      <td>57</td>\n",
       "      <td>pt</td>\n",
       "      <td>search</td>\n",
       "      <td>relogio ferro fluido</td>\n",
       "    </tr>\n",
       "    <tr>\n",
       "      <th>466066</th>\n",
       "      <td>57</td>\n",
       "      <td>pt</td>\n",
       "      <td>search</td>\n",
       "      <td>relogio ferro fluido</td>\n",
       "    </tr>\n",
       "    <tr>\n",
       "      <th>466067</th>\n",
       "      <td>57</td>\n",
       "      <td>pt</td>\n",
       "      <td>buy</td>\n",
       "      <td>3 luminária led tubular sobrepor slim bivolt 1...</td>\n",
       "    </tr>\n",
       "  </tbody>\n",
       "</table>\n",
       "</div>"
      ],
      "text/plain": [
       "        seq lang_seq event_type  \\\n",
       "466061   57       pt       view   \n",
       "466062   57       pt       view   \n",
       "466063   57       pt       view   \n",
       "466064   57       pt       view   \n",
       "466065   57       pt     search   \n",
       "466066   57       pt     search   \n",
       "466067   57       pt        buy   \n",
       "\n",
       "                                              texts_lower  \n",
       "466061  3 luminária led tubular sobrepor slim bivolt 1...  \n",
       "466062  3 luminária led tubular sobrepor slim bivolt 1...  \n",
       "466063  3 luminária led tubular sobrepor slim bivolt 1...  \n",
       "466064  3 luminária led tubular sobrepor slim bivolt 1...  \n",
       "466065                               relogio ferro fluido  \n",
       "466066                               relogio ferro fluido  \n",
       "466067  3 luminária led tubular sobrepor slim bivolt 1...  "
      ]
     },
     "execution_count": 54,
     "metadata": {},
     "output_type": "execute_result"
    }
   ],
   "source": [
    "train_test.query(\"seq == 57\")"
   ]
  },
  {
   "cell_type": "code",
   "execution_count": null,
   "metadata": {},
   "outputs": [],
   "source": []
  },
  {
   "cell_type": "code",
   "execution_count": null,
   "metadata": {},
   "outputs": [],
   "source": []
  },
  {
   "cell_type": "code",
   "execution_count": null,
   "metadata": {},
   "outputs": [],
   "source": []
  },
  {
   "cell_type": "code",
   "execution_count": null,
   "metadata": {},
   "outputs": [],
   "source": []
  },
  {
   "cell_type": "code",
   "execution_count": null,
   "metadata": {},
   "outputs": [],
   "source": []
  },
  {
   "cell_type": "code",
   "execution_count": null,
   "metadata": {},
   "outputs": [],
   "source": []
  },
  {
   "cell_type": "code",
   "execution_count": 14,
   "metadata": {},
   "outputs": [],
   "source": [
    "# validation = 0.2 \n",
    "# keep_train = 0.4 \n",
    "\n",
    "# if validation:\n",
    "#     train_red, test_red = shrink_and_split(train, keep_train = keep_train, validation = validation)"
   ]
  },
  {
   "cell_type": "code",
   "execution_count": 12,
   "metadata": {},
   "outputs": [],
   "source": [
    "test_offset, test_shifted_seq_vals, train_test = join_prepare_train_test(train, \n",
    "                                                                         test, \n",
    "                                                                         buy_weight = -1, \n",
    "                                                                         return_search = True, \n",
    "                                                                         drop_timezone = True)"
   ]
  },
  {
   "cell_type": "code",
   "execution_count": 29,
   "metadata": {},
   "outputs": [
    {
     "data": {
      "text/html": [
       "<div>\n",
       "<style scoped>\n",
       "    .dataframe tbody tr th:only-of-type {\n",
       "        vertical-align: middle;\n",
       "    }\n",
       "\n",
       "    .dataframe tbody tr th {\n",
       "        vertical-align: top;\n",
       "    }\n",
       "\n",
       "    .dataframe thead th {\n",
       "        text-align: right;\n",
       "    }\n",
       "</style>\n",
       "<table border=\"1\" class=\"dataframe\">\n",
       "  <thead>\n",
       "    <tr style=\"text-align: right;\">\n",
       "      <th></th>\n",
       "      <th>seq</th>\n",
       "      <th>lang_seq</th>\n",
       "      <th>event_type</th>\n",
       "      <th>texts_lower</th>\n",
       "    </tr>\n",
       "  </thead>\n",
       "  <tbody>\n",
       "    <tr>\n",
       "      <th>0</th>\n",
       "      <td>99</td>\n",
       "      <td>pt</td>\n",
       "      <td>view</td>\n",
       "      <td>mangueira inox gas cozinha botijao 0,8 mts kit...</td>\n",
       "    </tr>\n",
       "    <tr>\n",
       "      <th>1</th>\n",
       "      <td>99</td>\n",
       "      <td>pt</td>\n",
       "      <td>buy</td>\n",
       "      <td>kit fusivel de lamina 05a 10a 15a 20a 25a 30a ...</td>\n",
       "    </tr>\n",
       "    <tr>\n",
       "      <th>2</th>\n",
       "      <td>34</td>\n",
       "      <td>pt</td>\n",
       "      <td>view</td>\n",
       "      <td>pasta modeladora para bigode  mustache paste  20g</td>\n",
       "    </tr>\n",
       "    <tr>\n",
       "      <th>3</th>\n",
       "      <td>34</td>\n",
       "      <td>pt</td>\n",
       "      <td>buy</td>\n",
       "      <td>spiderman homem aranha mídia física lacrado</td>\n",
       "    </tr>\n",
       "    <tr>\n",
       "      <th>4</th>\n",
       "      <td>76</td>\n",
       "      <td>NaN</td>\n",
       "      <td>search</td>\n",
       "      <td>fiat uno vivace</td>\n",
       "    </tr>\n",
       "    <tr>\n",
       "      <th>...</th>\n",
       "      <td>...</td>\n",
       "      <td>...</td>\n",
       "      <td>...</td>\n",
       "      <td>...</td>\n",
       "    </tr>\n",
       "    <tr>\n",
       "      <th>5609</th>\n",
       "      <td>127</td>\n",
       "      <td>pt</td>\n",
       "      <td>search</td>\n",
       "      <td>sandalia mississipi</td>\n",
       "    </tr>\n",
       "    <tr>\n",
       "      <th>5610</th>\n",
       "      <td>127</td>\n",
       "      <td>pt</td>\n",
       "      <td>view</td>\n",
       "      <td>sandalia mississipi x7151 chennai rose - produ...</td>\n",
       "    </tr>\n",
       "    <tr>\n",
       "      <th>5611</th>\n",
       "      <td>127</td>\n",
       "      <td>pt</td>\n",
       "      <td>view</td>\n",
       "      <td>sandália feminina mississipi rasteira x9271 | ...</td>\n",
       "    </tr>\n",
       "    <tr>\n",
       "      <th>5612</th>\n",
       "      <td>127</td>\n",
       "      <td>pt</td>\n",
       "      <td>view</td>\n",
       "      <td>tênis feminino casual sapatilha sapatenis lanç...</td>\n",
       "    </tr>\n",
       "    <tr>\n",
       "      <th>5613</th>\n",
       "      <td>127</td>\n",
       "      <td>pt</td>\n",
       "      <td>view</td>\n",
       "      <td>tênis feminino casual sapatilha sapatenis lanç...</td>\n",
       "    </tr>\n",
       "  </tbody>\n",
       "</table>\n",
       "<p>5614 rows × 4 columns</p>\n",
       "</div>"
      ],
      "text/plain": [
       "      seq lang_seq event_type  \\\n",
       "0      99       pt       view   \n",
       "1      99       pt        buy   \n",
       "2      34       pt       view   \n",
       "3      34       pt        buy   \n",
       "4      76      NaN     search   \n",
       "...   ...      ...        ...   \n",
       "5609  127       pt     search   \n",
       "5610  127       pt       view   \n",
       "5611  127       pt       view   \n",
       "5612  127       pt       view   \n",
       "5613  127       pt       view   \n",
       "\n",
       "                                            texts_lower  \n",
       "0     mangueira inox gas cozinha botijao 0,8 mts kit...  \n",
       "1     kit fusivel de lamina 05a 10a 15a 20a 25a 30a ...  \n",
       "2     pasta modeladora para bigode  mustache paste  20g  \n",
       "3           spiderman homem aranha mídia física lacrado  \n",
       "4                                       fiat uno vivace  \n",
       "...                                                 ...  \n",
       "5609                                sandalia mississipi  \n",
       "5610  sandalia mississipi x7151 chennai rose - produ...  \n",
       "5611  sandália feminina mississipi rasteira x9271 | ...  \n",
       "5612  tênis feminino casual sapatilha sapatenis lanç...  \n",
       "5613  tênis feminino casual sapatilha sapatenis lanç...  \n",
       "\n",
       "[5614 rows x 4 columns]"
      ]
     },
     "execution_count": 29,
     "metadata": {},
     "output_type": "execute_result"
    }
   ],
   "source": [
    "train_test"
   ]
  },
  {
   "cell_type": "code",
   "execution_count": null,
   "metadata": {},
   "outputs": [],
   "source": []
  },
  {
   "cell_type": "code",
   "execution_count": null,
   "metadata": {},
   "outputs": [],
   "source": []
  },
  {
   "cell_type": "code",
   "execution_count": null,
   "metadata": {},
   "outputs": [],
   "source": []
  },
  {
   "cell_type": "code",
   "execution_count": null,
   "metadata": {},
   "outputs": [],
   "source": []
  },
  {
   "cell_type": "code",
   "execution_count": null,
   "metadata": {},
   "outputs": [],
   "source": []
  },
  {
   "cell_type": "code",
   "execution_count": null,
   "metadata": {},
   "outputs": [],
   "source": []
  },
  {
   "cell_type": "code",
   "execution_count": null,
   "metadata": {},
   "outputs": [],
   "source": []
  },
  {
   "cell_type": "markdown",
   "metadata": {},
   "source": [
    "#### identifying language for each seq\n",
    "based on the browsed items and their domain MLB or MLM"
   ]
  },
  {
   "cell_type": "markdown",
   "metadata": {},
   "source": [
    "##### item_data"
   ]
  },
  {
   "cell_type": "code",
   "execution_count": 16,
   "metadata": {},
   "outputs": [],
   "source": [
    "item_data_fn = 'item_data.pkl'\n",
    "item_data_fp = os.path.join(processed_data_dir, item_data_fn)\n",
    "item_data = pd.read_pickle(item_data_fp)\n",
    "# item_data = item_data_desc[['item_id', 'title', 'domain_id']]"
   ]
  },
  {
   "cell_type": "code",
   "execution_count": 17,
   "metadata": {},
   "outputs": [],
   "source": [
    "lang = train_test[train_test.event_type == 'view'].copy()\n",
    "lang['event_info'] = lang.event_info.astype(int)\n",
    "lang = lang[['seq', 'event_info']]\n",
    "lang = pd.merge(lang, item_data[['item_id', 'lang_domain']], how = 'left', \n",
    "                 left_on = 'event_info', right_on = 'item_id')\n",
    "lang = lang.groupby('seq').lang_domain.value_counts()\n",
    "lang = lang.unstack().fillna(0).idxmax(axis = 1)\n",
    "lang = lang.reset_index().rename(columns = {0: 'lang_seq'})"
   ]
  },
  {
   "cell_type": "code",
   "execution_count": 18,
   "metadata": {},
   "outputs": [],
   "source": [
    "train_test = pd.merge(train_test, lang, how = 'left')"
   ]
  },
  {
   "cell_type": "markdown",
   "metadata": {},
   "source": [
    "#### few seq's with no views. imputing with 'pt' (could run langdetect)\n",
    "less than 1% of the seq's do not have views. check with `train_test[train_test.lang_seq.isnull()].sample(10)`"
   ]
  },
  {
   "cell_type": "code",
   "execution_count": 37,
   "metadata": {},
   "outputs": [],
   "source": [
    "train_test.loc[train_test.lang_seq.isnull(), 'lang_seq'] = 'pt'"
   ]
  },
  {
   "cell_type": "markdown",
   "metadata": {},
   "source": [
    "#### embeddings for searches"
   ]
  },
  {
   "cell_type": "code",
   "execution_count": 38,
   "metadata": {},
   "outputs": [],
   "source": [
    "searches = train_test[train_test.event_type == 'search'].drop_duplicates(\n",
    "    subset = ['event_info', 'lang_seq'])\n",
    "searches = searches[['seq', 'event_info', 'lang_seq']]\n",
    "searches['query_lower'] = searches.event_info.str.lower()"
   ]
  },
  {
   "cell_type": "code",
   "execution_count": 39,
   "metadata": {},
   "outputs": [],
   "source": [
    "def emb_vectors(x):\n",
    "    if x.lang_seq == 'pt':\n",
    "        v = port_nlp(x.query_lower) \n",
    "    else:\n",
    "        v = espa_nlp(x.query_lower)\n",
    "        \n",
    "    v_vector = v.vector\n",
    "    vector_norm = v.vector_norm\n",
    "    if vector_norm == 0:\n",
    "        return np.zeros(v_vector.shape, dtype = np.float16)\n",
    "    else:\n",
    "        return (v_vector / vector_norm).astype(np.float16)"
   ]
  },
  {
   "cell_type": "code",
   "execution_count": 40,
   "metadata": {},
   "outputs": [
    {
     "name": "stderr",
     "output_type": "stream",
     "text": [
      "100%|██████████| 1172170/1172170 [01:58<00:00, 9908.94it/s] \n"
     ]
    }
   ],
   "source": [
    "searches['query_embs'] = searches[['query_lower', 'lang_seq']].progress_apply(emb_vectors, axis = 1)"
   ]
  },
  {
   "cell_type": "code",
   "execution_count": 45,
   "metadata": {},
   "outputs": [
    {
     "data": {
      "text/html": [
       "<div>\n",
       "<style scoped>\n",
       "    .dataframe tbody tr th:only-of-type {\n",
       "        vertical-align: middle;\n",
       "    }\n",
       "\n",
       "    .dataframe tbody tr th {\n",
       "        vertical-align: top;\n",
       "    }\n",
       "\n",
       "    .dataframe thead th {\n",
       "        text-align: right;\n",
       "    }\n",
       "</style>\n",
       "<table border=\"1\" class=\"dataframe\">\n",
       "  <thead>\n",
       "    <tr style=\"text-align: right;\">\n",
       "      <th></th>\n",
       "      <th>event_info</th>\n",
       "      <th>lang_seq</th>\n",
       "      <th>query_embs</th>\n",
       "    </tr>\n",
       "  </thead>\n",
       "  <tbody>\n",
       "    <tr>\n",
       "      <th>2756509</th>\n",
       "      <td>FRONTAL J8</td>\n",
       "      <td>pt</td>\n",
       "      <td>[0.010284, -0.08655, -0.0444, -0.1384, -0.1803...</td>\n",
       "    </tr>\n",
       "    <tr>\n",
       "      <th>11914219</th>\n",
       "      <td>TONER SAMSUNG 2885FW</td>\n",
       "      <td>es</td>\n",
       "      <td>[0.1293, 0.01061, -0.3735, 0.3396, 0.07104, -0...</td>\n",
       "    </tr>\n",
       "    <tr>\n",
       "      <th>4759933</th>\n",
       "      <td>BOMBA AGUA FIORINO</td>\n",
       "      <td>pt</td>\n",
       "      <td>[-0.0845, -0.0397, 0.09607, -0.1462, -0.2122, ...</td>\n",
       "    </tr>\n",
       "    <tr>\n",
       "      <th>1490675</th>\n",
       "      <td>CARREGADOR PORTATIL 60000 MAH</td>\n",
       "      <td>pt</td>\n",
       "      <td>[-0.01701, 0.0782, 0.2607, 0.009186, -0.11426,...</td>\n",
       "    </tr>\n",
       "    <tr>\n",
       "      <th>13705062</th>\n",
       "      <td>MALETA MAQUIAGEM PROVISIONAL MUITA COISA</td>\n",
       "      <td>pt</td>\n",
       "      <td>[-0.2898, -0.0623, -0.0649, -0.05875, -0.034, ...</td>\n",
       "    </tr>\n",
       "    <tr>\n",
       "      <th>6041434</th>\n",
       "      <td>DIRECAO GOLF 05</td>\n",
       "      <td>pt</td>\n",
       "      <td>[0.2307, -0.01178, 0.1909, -0.0468, -0.2339, 0...</td>\n",
       "    </tr>\n",
       "    <tr>\n",
       "      <th>2489139</th>\n",
       "      <td>AMPLIFICADOR 600 WATTS RMS</td>\n",
       "      <td>es</td>\n",
       "      <td>[0.05548, 0.04114, -0.2158, 0.3386, -0.01672, ...</td>\n",
       "    </tr>\n",
       "    <tr>\n",
       "      <th>7421572</th>\n",
       "      <td>FABRICA ENERGETICO</td>\n",
       "      <td>pt</td>\n",
       "      <td>[-0.1453, -0.07275, 0.1863, -0.0317, -0.0453, ...</td>\n",
       "    </tr>\n",
       "    <tr>\n",
       "      <th>5410331</th>\n",
       "      <td>BRM39EBANA30</td>\n",
       "      <td>pt</td>\n",
       "      <td>[0.0, 0.0, 0.0, 0.0, 0.0, 0.0, 0.0, 0.0, 0.0, ...</td>\n",
       "    </tr>\n",
       "    <tr>\n",
       "      <th>858890</th>\n",
       "      <td>BATERIA 37V</td>\n",
       "      <td>pt</td>\n",
       "      <td>[-0.2279, -0.07544, 0.05594, -0.06052, -0.1298...</td>\n",
       "    </tr>\n",
       "  </tbody>\n",
       "</table>\n",
       "</div>"
      ],
      "text/plain": [
       "                                        event_info lang_seq  \\\n",
       "2756509                                 FRONTAL J8       pt   \n",
       "11914219                      TONER SAMSUNG 2885FW       es   \n",
       "4759933                         BOMBA AGUA FIORINO       pt   \n",
       "1490675              CARREGADOR PORTATIL 60000 MAH       pt   \n",
       "13705062  MALETA MAQUIAGEM PROVISIONAL MUITA COISA       pt   \n",
       "6041434                            DIRECAO GOLF 05       pt   \n",
       "2489139                 AMPLIFICADOR 600 WATTS RMS       es   \n",
       "7421572                         FABRICA ENERGETICO       pt   \n",
       "5410331                               BRM39EBANA30       pt   \n",
       "858890                                 BATERIA 37V       pt   \n",
       "\n",
       "                                                 query_embs  \n",
       "2756509   [0.010284, -0.08655, -0.0444, -0.1384, -0.1803...  \n",
       "11914219  [0.1293, 0.01061, -0.3735, 0.3396, 0.07104, -0...  \n",
       "4759933   [-0.0845, -0.0397, 0.09607, -0.1462, -0.2122, ...  \n",
       "1490675   [-0.01701, 0.0782, 0.2607, 0.009186, -0.11426,...  \n",
       "13705062  [-0.2898, -0.0623, -0.0649, -0.05875, -0.034, ...  \n",
       "6041434   [0.2307, -0.01178, 0.1909, -0.0468, -0.2339, 0...  \n",
       "2489139   [0.05548, 0.04114, -0.2158, 0.3386, -0.01672, ...  \n",
       "7421572   [-0.1453, -0.07275, 0.1863, -0.0317, -0.0453, ...  \n",
       "5410331   [0.0, 0.0, 0.0, 0.0, 0.0, 0.0, 0.0, 0.0, 0.0, ...  \n",
       "858890    [-0.2279, -0.07544, 0.05594, -0.06052, -0.1298...  "
      ]
     },
     "execution_count": 45,
     "metadata": {},
     "output_type": "execute_result"
    }
   ],
   "source": [
    "searches[['event_info', 'lang_seq', 'query_embs']].sample(10)"
   ]
  },
  {
   "cell_type": "code",
   "execution_count": 46,
   "metadata": {},
   "outputs": [],
   "source": [
    "train_test = pd.merge(train_test, searches[['event_info', 'lang_seq', 'query_embs']], how = 'left')"
   ]
  },
  {
   "cell_type": "markdown",
   "metadata": {},
   "source": [
    "#### saving augmented train_test with search embeddings"
   ]
  },
  {
   "cell_type": "code",
   "execution_count": 47,
   "metadata": {},
   "outputs": [],
   "source": [
    "train_test_embs_fn = 'train_test_embs.pkl'\n",
    "train_test_embs_fp = os.path.join(interim_data_dir, train_test_embs_fn)\n",
    "train_test.to_pickle(train_test_embs_fp)"
   ]
  },
  {
   "cell_type": "markdown",
   "metadata": {},
   "source": [
    "## 👆 search dataprep above. finishes here"
   ]
  }
 ],
 "metadata": {
  "kernelspec": {
   "display_name": "Python 3",
   "language": "python",
   "name": "python3"
  },
  "language_info": {
   "codemirror_mode": {
    "name": "ipython",
    "version": 3
   },
   "file_extension": ".py",
   "mimetype": "text/x-python",
   "name": "python",
   "nbconvert_exporter": "python",
   "pygments_lexer": "ipython3",
   "version": "3.7.6"
  }
 },
 "nbformat": 4,
 "nbformat_minor": 4
}
