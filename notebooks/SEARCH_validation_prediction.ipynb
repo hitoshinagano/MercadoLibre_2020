{
 "cells": [
  {
   "cell_type": "markdown",
   "metadata": {},
   "source": [
    "# VALIDATION & PREDICTION - Search\n",
    "\n",
    "This notebook produces recommendations based on similarity of search texts (queries) and the description of the item (embeddings for the items is generated in `EDA_dataprep.ipynb`). These recommendations were used for seq's that showed zero views."
   ]
  },
  {
   "cell_type": "markdown",
   "metadata": {},
   "source": [
    "## autoreload"
   ]
  },
  {
   "cell_type": "code",
   "execution_count": 1,
   "metadata": {},
   "outputs": [],
   "source": [
    "%load_ext autoreload\n",
    "%autoreload 2"
   ]
  },
  {
   "cell_type": "markdown",
   "metadata": {},
   "source": [
    "## lang and w2v_mode"
   ]
  },
  {
   "cell_type": "code",
   "execution_count": 2,
   "metadata": {},
   "outputs": [],
   "source": [
    "lang = 'pt'"
   ]
  },
  {
   "cell_type": "code",
   "execution_count": 3,
   "metadata": {},
   "outputs": [],
   "source": [
    "w2v_mode = 'cbow'"
   ]
  },
  {
   "cell_type": "markdown",
   "metadata": {},
   "source": [
    "## dir setup"
   ]
  },
  {
   "cell_type": "code",
   "execution_count": 4,
   "metadata": {},
   "outputs": [
    {
     "data": {
      "text/plain": [
       "True"
      ]
     },
     "execution_count": 4,
     "metadata": {},
     "output_type": "execute_result"
    }
   ],
   "source": [
    "from dotenv import load_dotenv, find_dotenv\n",
    "import os\n",
    "\n",
    "this_file_path = os.path.dirname(os.path.abspath(\"__file__\"))\n",
    "# if script (not notebook)...\n",
    "# project_dir = os.path.join(os.path.dirname(__file__), os.pardir)\n",
    "\n",
    "# project directory\n",
    "project_dir = os.path.join(this_file_path, os.pardir)\n",
    "\n",
    "# find .env automagically by walking up directories until it's found\n",
    "dotenv_path = find_dotenv()\n",
    "\n",
    "# load up the entries as environment variables\n",
    "load_dotenv(dotenv_path)"
   ]
  },
  {
   "cell_type": "code",
   "execution_count": 5,
   "metadata": {},
   "outputs": [],
   "source": [
    "raw_data_dir = os.path.join(project_dir, os.environ.get(\"RAW_DATA_DIR\"))\n",
    "processed_data_dir = os.path.join(project_dir, os.environ.get(\"PROCESSED_DATA_DIR\"))\n",
    "interim_data_dir = os.path.join(project_dir, os.environ.get(\"INTERIM_DATA_DIR\"))\n",
    "wordvecs_data_dir = os.path.join(project_dir, os.environ.get(\"WORDVECS_DATA_DIR\"))\n",
    "figures_dir = os.path.join(project_dir, os.environ.get(\"FIGURES_DIR\"))\n",
    "reports_dir = os.path.join(project_dir, os.environ.get(\"REPORTS_DIR\"))\n",
    "cv_dir = os.path.join(project_dir, os.environ.get(\"CV_DIR\"))\n",
    "models_dir = os.path.join(project_dir, os.environ.get(\"MODELS_DIR\"))"
   ]
  },
  {
   "cell_type": "code",
   "execution_count": 6,
   "metadata": {},
   "outputs": [],
   "source": [
    "TEST_OFFSET = int(os.environ.get(\"TEST_OFFSET\"))\n",
    "TOTAL_TEST_SEQS = int(os.environ.get(\"TOTAL_TEST_SEQS\"))"
   ]
  },
  {
   "cell_type": "markdown",
   "metadata": {},
   "source": [
    "## imports"
   ]
  },
  {
   "cell_type": "code",
   "execution_count": 7,
   "metadata": {},
   "outputs": [],
   "source": [
    "import warnings\n",
    "warnings.filterwarnings(\"ignore\", category=FutureWarning)"
   ]
  },
  {
   "cell_type": "code",
   "execution_count": 8,
   "metadata": {},
   "outputs": [],
   "source": [
    "import numpy as np\n",
    "from datetime import datetime"
   ]
  },
  {
   "cell_type": "code",
   "execution_count": 9,
   "metadata": {},
   "outputs": [],
   "source": [
    "import pandas as pd\n",
    "pd.set_option('max_rows', 100)\n",
    "pd.set_option('max_columns', None)\n",
    "# pd.options.mode.chained_assignment = None  # default='warn'"
   ]
  },
  {
   "cell_type": "code",
   "execution_count": 10,
   "metadata": {},
   "outputs": [],
   "source": [
    "from tqdm import tqdm\n",
    "tqdm.pandas()"
   ]
  },
  {
   "cell_type": "code",
   "execution_count": 11,
   "metadata": {},
   "outputs": [],
   "source": [
    "import tensorflow as tf"
   ]
  },
  {
   "cell_type": "code",
   "execution_count": 14,
   "metadata": {},
   "outputs": [],
   "source": [
    "from sklearn.metrics import ndcg_score"
   ]
  },
  {
   "cell_type": "markdown",
   "metadata": {},
   "source": [
    "## project imports"
   ]
  },
  {
   "cell_type": "code",
   "execution_count": 15,
   "metadata": {},
   "outputs": [],
   "source": [
    "import sys\n",
    "sys.path.insert(0, '..')"
   ]
  },
  {
   "cell_type": "code",
   "execution_count": 16,
   "metadata": {},
   "outputs": [],
   "source": [
    "from src.features import *\n",
    "from src.models import *"
   ]
  },
  {
   "cell_type": "markdown",
   "metadata": {},
   "source": [
    "# validation"
   ]
  },
  {
   "cell_type": "markdown",
   "metadata": {},
   "source": [
    "##### item_data"
   ]
  },
  {
   "cell_type": "code",
   "execution_count": 17,
   "metadata": {},
   "outputs": [],
   "source": [
    "# item_data_fn = 'item_data.pkl'\n",
    "# item_data_fp = os.path.join(processed_data_dir, item_data_fn)\n",
    "# item_data = pd.read_pickle(item_data_fp)"
   ]
  },
  {
   "cell_type": "markdown",
   "metadata": {},
   "source": [
    "#### item title embeddings\n",
    "use only item_id and item_embs cols from item_data "
   ]
  },
  {
   "cell_type": "code",
   "execution_count": 18,
   "metadata": {},
   "outputs": [],
   "source": [
    "item_data_embs_only_fn = 'item_data_embs_only_embs_custom_' + w2v_mode + '.pkl'\n",
    "item_data_embs_only_fp = os.path.join(processed_data_dir, item_data_embs_only_fn)\n",
    "item_data = pd.read_pickle(item_data_embs_only_fp)\n",
    "\n",
    "item_data = item_data[item_data.lang_category == lang].copy()\n",
    "item_data.drop('lang_category', axis = 1, inplace = True)\n",
    "item_data.set_index('item_id', inplace = True)"
   ]
  },
  {
   "cell_type": "code",
   "execution_count": 19,
   "metadata": {},
   "outputs": [
    {
     "name": "stderr",
     "output_type": "stream",
     "text": [
      "100%|██████████| 1723826/1723826 [05:12<00:00, 5509.46it/s] \n"
     ]
    }
   ],
   "source": [
    "item_data = item_data.title_embs.progress_apply(pd.Series)"
   ]
  },
  {
   "cell_type": "markdown",
   "metadata": {},
   "source": [
    "#### search embeddings\n",
    "train_test with embeddings"
   ]
  },
  {
   "cell_type": "code",
   "execution_count": 20,
   "metadata": {},
   "outputs": [],
   "source": [
    "train_test_embs_fn = 'train_test_embs_custom_' +  w2v_mode + '.pkl'\n",
    "train_test_embs_fp = os.path.join(interim_data_dir, train_test_embs_fn)\n",
    "train_test = pd.read_pickle(train_test_embs_fp)\n",
    "\n",
    "# train_test['seq'] = train_test.seq - TEST_OFFSET\n",
    "train_test = train_test[train_test.seq < TEST_OFFSET]  # validation"
   ]
  },
  {
   "cell_type": "code",
   "execution_count": 21,
   "metadata": {},
   "outputs": [],
   "source": [
    "queries = train_test[(train_test.lang_seq == lang) & (train_test.event_type == 'search')]"
   ]
  },
  {
   "cell_type": "markdown",
   "metadata": {},
   "source": [
    "#### selecting train seq's for validation"
   ]
  },
  {
   "cell_type": "code",
   "execution_count": 22,
   "metadata": {},
   "outputs": [],
   "source": [
    "validation = 0.01\n",
    "unique_seqs = queries.seq.unique()\n",
    "seq_sample_size = int(len(unique_seqs) * validation)\n",
    "seq_sel = np.random.choice(unique_seqs, size = seq_sample_size, replace = False)"
   ]
  },
  {
   "cell_type": "markdown",
   "metadata": {},
   "source": [
    "##### selecting queries only in scope"
   ]
  },
  {
   "cell_type": "code",
   "execution_count": 23,
   "metadata": {},
   "outputs": [],
   "source": [
    "queries = queries[queries.seq.isin(seq_sel)]"
   ]
  },
  {
   "cell_type": "code",
   "execution_count": 24,
   "metadata": {},
   "outputs": [
    {
     "data": {
      "text/plain": [
       "29"
      ]
     },
     "execution_count": 24,
     "metadata": {},
     "output_type": "execute_result"
    }
   ],
   "source": [
    "unique_seqs = queries.seq.unique()\n",
    "num_batches = len(unique_seqs) // 100\n",
    "seqs = np.array_split(unique_seqs, num_batches)\n",
    "num_batches"
   ]
  },
  {
   "cell_type": "code",
   "execution_count": 25,
   "metadata": {},
   "outputs": [
    {
     "data": {
      "text/plain": [
       "102"
      ]
     },
     "execution_count": 25,
     "metadata": {},
     "output_type": "execute_result"
    }
   ],
   "source": [
    "seq_batch = seqs[0]\n",
    "len(seq_batch)"
   ]
  },
  {
   "cell_type": "code",
   "execution_count": 26,
   "metadata": {},
   "outputs": [],
   "source": [
    "item_data_tensor = tf.constant(item_data)"
   ]
  },
  {
   "cell_type": "code",
   "execution_count": 27,
   "metadata": {},
   "outputs": [
    {
     "name": "stderr",
     "output_type": "stream",
     "text": [
      " 52%|█████▏    | 15/29 [16:33<15:27, 66.22s/it]\n"
     ]
    },
    {
     "ename": "KeyboardInterrupt",
     "evalue": "",
     "output_type": "error",
     "traceback": [
      "\u001b[0;31m---------------------------------------------------------------------------\u001b[0m",
      "\u001b[0;31mKeyboardInterrupt\u001b[0m                         Traceback (most recent call last)",
      "\u001b[0;32m<ipython-input-27-cfdd4114060a>\u001b[0m in \u001b[0;36m<module>\u001b[0;34m\u001b[0m\n\u001b[1;32m      7\u001b[0m \u001b[0;34m\u001b[0m\u001b[0m\n\u001b[1;32m      8\u001b[0m     \u001b[0;31m# scores = item_data @ query_embs.T\u001b[0m\u001b[0;34m\u001b[0m\u001b[0;34m\u001b[0m\u001b[0;34m\u001b[0m\u001b[0m\n\u001b[0;32m----> 9\u001b[0;31m     \u001b[0mscores\u001b[0m \u001b[0;34m=\u001b[0m \u001b[0mtf\u001b[0m\u001b[0;34m.\u001b[0m\u001b[0mmatmul\u001b[0m\u001b[0;34m(\u001b[0m\u001b[0mitem_data_tensor\u001b[0m\u001b[0;34m,\u001b[0m \u001b[0mquery_embs\u001b[0m\u001b[0;34m.\u001b[0m\u001b[0mT\u001b[0m\u001b[0;34m)\u001b[0m\u001b[0;34m.\u001b[0m\u001b[0mnumpy\u001b[0m\u001b[0;34m(\u001b[0m\u001b[0;34m)\u001b[0m\u001b[0;34m\u001b[0m\u001b[0;34m\u001b[0m\u001b[0m\n\u001b[0m\u001b[1;32m     10\u001b[0m     \u001b[0mscores\u001b[0m \u001b[0;34m=\u001b[0m \u001b[0mpd\u001b[0m\u001b[0;34m.\u001b[0m\u001b[0mDataFrame\u001b[0m\u001b[0;34m(\u001b[0m\u001b[0mscores\u001b[0m\u001b[0;34m,\u001b[0m \u001b[0mindex\u001b[0m \u001b[0;34m=\u001b[0m \u001b[0mitem_data\u001b[0m\u001b[0;34m.\u001b[0m\u001b[0mindex\u001b[0m\u001b[0;34m,\u001b[0m \u001b[0mcolumns\u001b[0m \u001b[0;34m=\u001b[0m \u001b[0mquery_embs\u001b[0m\u001b[0;34m.\u001b[0m\u001b[0mindex\u001b[0m\u001b[0;34m)\u001b[0m\u001b[0;34m\u001b[0m\u001b[0;34m\u001b[0m\u001b[0m\n\u001b[1;32m     11\u001b[0m \u001b[0;34m\u001b[0m\u001b[0m\n",
      "\u001b[0;32m~/.virtualenvs/tensorflow2/lib/python3.7/site-packages/tensorflow/python/util/dispatch.py\u001b[0m in \u001b[0;36mwrapper\u001b[0;34m(*args, **kwargs)\u001b[0m\n\u001b[1;32m    178\u001b[0m     \u001b[0;34m\"\"\"Call target, and fall back on dispatchers if there is a TypeError.\"\"\"\u001b[0m\u001b[0;34m\u001b[0m\u001b[0;34m\u001b[0m\u001b[0m\n\u001b[1;32m    179\u001b[0m     \u001b[0;32mtry\u001b[0m\u001b[0;34m:\u001b[0m\u001b[0;34m\u001b[0m\u001b[0;34m\u001b[0m\u001b[0m\n\u001b[0;32m--> 180\u001b[0;31m       \u001b[0;32mreturn\u001b[0m \u001b[0mtarget\u001b[0m\u001b[0;34m(\u001b[0m\u001b[0;34m*\u001b[0m\u001b[0margs\u001b[0m\u001b[0;34m,\u001b[0m \u001b[0;34m**\u001b[0m\u001b[0mkwargs\u001b[0m\u001b[0;34m)\u001b[0m\u001b[0;34m\u001b[0m\u001b[0;34m\u001b[0m\u001b[0m\n\u001b[0m\u001b[1;32m    181\u001b[0m     \u001b[0;32mexcept\u001b[0m \u001b[0;34m(\u001b[0m\u001b[0mTypeError\u001b[0m\u001b[0;34m,\u001b[0m \u001b[0mValueError\u001b[0m\u001b[0;34m)\u001b[0m\u001b[0;34m:\u001b[0m\u001b[0;34m\u001b[0m\u001b[0;34m\u001b[0m\u001b[0m\n\u001b[1;32m    182\u001b[0m       \u001b[0;31m# Note: convert_to_eager_tensor currently raises a ValueError, not a\u001b[0m\u001b[0;34m\u001b[0m\u001b[0;34m\u001b[0m\u001b[0;34m\u001b[0m\u001b[0m\n",
      "\u001b[0;32m~/.virtualenvs/tensorflow2/lib/python3.7/site-packages/tensorflow/python/ops/math_ops.py\u001b[0m in \u001b[0;36mmatmul\u001b[0;34m(a, b, transpose_a, transpose_b, adjoint_a, adjoint_b, a_is_sparse, b_is_sparse, name)\u001b[0m\n\u001b[1;32m   2982\u001b[0m     \u001b[0;32melse\u001b[0m\u001b[0;34m:\u001b[0m\u001b[0;34m\u001b[0m\u001b[0;34m\u001b[0m\u001b[0m\n\u001b[1;32m   2983\u001b[0m       return gen_math_ops.mat_mul(\n\u001b[0;32m-> 2984\u001b[0;31m           a, b, transpose_a=transpose_a, transpose_b=transpose_b, name=name)\n\u001b[0m\u001b[1;32m   2985\u001b[0m \u001b[0;34m\u001b[0m\u001b[0m\n\u001b[1;32m   2986\u001b[0m \u001b[0;34m\u001b[0m\u001b[0m\n",
      "\u001b[0;32m~/.virtualenvs/tensorflow2/lib/python3.7/site-packages/tensorflow/python/ops/gen_math_ops.py\u001b[0m in \u001b[0;36mmat_mul\u001b[0;34m(a, b, transpose_a, transpose_b, name)\u001b[0m\n\u001b[1;32m   5565\u001b[0m         \u001b[0m_ctx\u001b[0m\u001b[0;34m.\u001b[0m\u001b[0m_context_handle\u001b[0m\u001b[0;34m,\u001b[0m \u001b[0mtld\u001b[0m\u001b[0;34m.\u001b[0m\u001b[0mdevice_name\u001b[0m\u001b[0;34m,\u001b[0m \u001b[0;34m\"MatMul\"\u001b[0m\u001b[0;34m,\u001b[0m \u001b[0mname\u001b[0m\u001b[0;34m,\u001b[0m\u001b[0;34m\u001b[0m\u001b[0;34m\u001b[0m\u001b[0m\n\u001b[1;32m   5566\u001b[0m         \u001b[0mtld\u001b[0m\u001b[0;34m.\u001b[0m\u001b[0mop_callbacks\u001b[0m\u001b[0;34m,\u001b[0m \u001b[0ma\u001b[0m\u001b[0;34m,\u001b[0m \u001b[0mb\u001b[0m\u001b[0;34m,\u001b[0m \u001b[0;34m\"transpose_a\"\u001b[0m\u001b[0;34m,\u001b[0m \u001b[0mtranspose_a\u001b[0m\u001b[0;34m,\u001b[0m \u001b[0;34m\"transpose_b\"\u001b[0m\u001b[0;34m,\u001b[0m\u001b[0;34m\u001b[0m\u001b[0;34m\u001b[0m\u001b[0m\n\u001b[0;32m-> 5567\u001b[0;31m         transpose_b)\n\u001b[0m\u001b[1;32m   5568\u001b[0m       \u001b[0;32mreturn\u001b[0m \u001b[0m_result\u001b[0m\u001b[0;34m\u001b[0m\u001b[0;34m\u001b[0m\u001b[0m\n\u001b[1;32m   5569\u001b[0m     \u001b[0;32mexcept\u001b[0m \u001b[0m_core\u001b[0m\u001b[0;34m.\u001b[0m\u001b[0m_FallbackException\u001b[0m\u001b[0;34m:\u001b[0m\u001b[0;34m\u001b[0m\u001b[0;34m\u001b[0m\u001b[0m\n",
      "\u001b[0;31mKeyboardInterrupt\u001b[0m: "
     ]
    }
   ],
   "source": [
    "recs = dict()\n",
    "\n",
    "for seq_batch in tqdm(seqs):\n",
    "    query_embs = queries[queries.seq.isin(seq_batch)]\n",
    "    query_embs = query_embs.groupby('seq').query_embs.apply(lambda x: x.mean())\n",
    "    query_embs = query_embs.apply(pd.Series)\n",
    "    \n",
    "    # scores = item_data @ query_embs.T\n",
    "    scores = tf.matmul(item_data_tensor, query_embs.T).numpy()\n",
    "    scores = pd.DataFrame(scores, index = item_data.index, columns = query_embs.index)\n",
    "    \n",
    "    for s in scores.columns:\n",
    "        recs[s] = list(scores[s].nlargest(10).items())"
   ]
  },
  {
   "cell_type": "code",
   "execution_count": null,
   "metadata": {},
   "outputs": [],
   "source": [
    "recs_df = pd.DataFrame(recs)"
   ]
  },
  {
   "cell_type": "code",
   "execution_count": null,
   "metadata": {},
   "outputs": [],
   "source": [
    "recs_df.shape"
   ]
  },
  {
   "cell_type": "code",
   "execution_count": null,
   "metadata": {},
   "outputs": [],
   "source": [
    "lang"
   ]
  },
  {
   "cell_type": "code",
   "execution_count": null,
   "metadata": {},
   "outputs": [],
   "source": [
    "recs_df = recs_df.applymap(lambda x: x[0]).T"
   ]
  },
  {
   "cell_type": "code",
   "execution_count": null,
   "metadata": {},
   "outputs": [],
   "source": [
    "recs_df"
   ]
  },
  {
   "cell_type": "code",
   "execution_count": null,
   "metadata": {},
   "outputs": [],
   "source": [
    "true_fn = 'true.pkl'\n",
    "true_fp = os.path.join(processed_data_dir, true_fn)\n",
    "true_df = pd.read_pickle(true_fp)"
   ]
  },
  {
   "cell_type": "code",
   "execution_count": null,
   "metadata": {},
   "outputs": [],
   "source": [
    "item_domain_fn = 'item_domain.pkl'\n",
    "item_domain_fp = os.path.join(processed_data_dir, item_domain_fn)\n",
    "item_domain = pd.read_pickle(item_domain_fp)"
   ]
  },
  {
   "cell_type": "code",
   "execution_count": null,
   "metadata": {},
   "outputs": [],
   "source": [
    "recs_df_scored = score_pred(recs_df, true_df, item_domain)"
   ]
  },
  {
   "cell_type": "code",
   "execution_count": null,
   "metadata": {},
   "outputs": [],
   "source": [
    "recs_df_scored.ndcg.mean()"
   ]
  },
  {
   "cell_type": "code",
   "execution_count": null,
   "metadata": {},
   "outputs": [],
   "source": [
    "recs_df_scored.sample()"
   ]
  },
  {
   "cell_type": "markdown",
   "metadata": {},
   "source": [
    "# predictions"
   ]
  },
  {
   "cell_type": "markdown",
   "metadata": {},
   "source": [
    "#### loading target seqs"
   ]
  },
  {
   "cell_type": "code",
   "execution_count": 49,
   "metadata": {},
   "outputs": [],
   "source": [
    "ndcg_zero_pred_fn = 'ndcg_zero_pred.pkl'\n",
    "ndcg_zero_pred_fp = os.path.join(interim_data_dir, ndcg_zero_pred_fn)\n",
    "ndcg_zero_pred = pd.read_pickle(ndcg_zero_pred_fp)"
   ]
  },
  {
   "cell_type": "code",
   "execution_count": 50,
   "metadata": {},
   "outputs": [
    {
     "data": {
      "text/html": [
       "<div>\n",
       "<style scoped>\n",
       "    .dataframe tbody tr th:only-of-type {\n",
       "        vertical-align: middle;\n",
       "    }\n",
       "\n",
       "    .dataframe tbody tr th {\n",
       "        vertical-align: top;\n",
       "    }\n",
       "\n",
       "    .dataframe thead th {\n",
       "        text-align: right;\n",
       "    }\n",
       "</style>\n",
       "<table border=\"1\" class=\"dataframe\">\n",
       "  <thead>\n",
       "    <tr style=\"text-align: right;\">\n",
       "      <th>event_type</th>\n",
       "      <th>search</th>\n",
       "      <th>view</th>\n",
       "      <th>ndcg_zero_pred</th>\n",
       "    </tr>\n",
       "    <tr>\n",
       "      <th>seq</th>\n",
       "      <th></th>\n",
       "      <th></th>\n",
       "      <th></th>\n",
       "    </tr>\n",
       "  </thead>\n",
       "  <tbody>\n",
       "    <tr>\n",
       "      <th>0</th>\n",
       "      <td>22</td>\n",
       "      <td>11</td>\n",
       "      <td>0.470137</td>\n",
       "    </tr>\n",
       "    <tr>\n",
       "      <th>1</th>\n",
       "      <td>8</td>\n",
       "      <td>16</td>\n",
       "      <td>0.354606</td>\n",
       "    </tr>\n",
       "    <tr>\n",
       "      <th>2</th>\n",
       "      <td>4</td>\n",
       "      <td>10</td>\n",
       "      <td>0.348669</td>\n",
       "    </tr>\n",
       "    <tr>\n",
       "      <th>3</th>\n",
       "      <td>1</td>\n",
       "      <td>0</td>\n",
       "      <td>0.715974</td>\n",
       "    </tr>\n",
       "    <tr>\n",
       "      <th>4</th>\n",
       "      <td>62</td>\n",
       "      <td>5</td>\n",
       "      <td>0.541159</td>\n",
       "    </tr>\n",
       "    <tr>\n",
       "      <th>...</th>\n",
       "      <td>...</td>\n",
       "      <td>...</td>\n",
       "      <td>...</td>\n",
       "    </tr>\n",
       "    <tr>\n",
       "      <th>177065</th>\n",
       "      <td>3</td>\n",
       "      <td>1</td>\n",
       "      <td>0.764295</td>\n",
       "    </tr>\n",
       "    <tr>\n",
       "      <th>177066</th>\n",
       "      <td>13</td>\n",
       "      <td>9</td>\n",
       "      <td>0.490572</td>\n",
       "    </tr>\n",
       "    <tr>\n",
       "      <th>177067</th>\n",
       "      <td>15</td>\n",
       "      <td>10</td>\n",
       "      <td>0.461504</td>\n",
       "    </tr>\n",
       "    <tr>\n",
       "      <th>177068</th>\n",
       "      <td>0</td>\n",
       "      <td>2</td>\n",
       "      <td>0.615265</td>\n",
       "    </tr>\n",
       "    <tr>\n",
       "      <th>177069</th>\n",
       "      <td>80</td>\n",
       "      <td>68</td>\n",
       "      <td>0.309464</td>\n",
       "    </tr>\n",
       "  </tbody>\n",
       "</table>\n",
       "<p>177070 rows × 3 columns</p>\n",
       "</div>"
      ],
      "text/plain": [
       "event_type  search  view  ndcg_zero_pred\n",
       "seq                                     \n",
       "0               22    11        0.470137\n",
       "1                8    16        0.354606\n",
       "2                4    10        0.348669\n",
       "3                1     0        0.715974\n",
       "4               62     5        0.541159\n",
       "...            ...   ...             ...\n",
       "177065           3     1        0.764295\n",
       "177066          13     9        0.490572\n",
       "177067          15    10        0.461504\n",
       "177068           0     2        0.615265\n",
       "177069          80    68        0.309464\n",
       "\n",
       "[177070 rows x 3 columns]"
      ]
     },
     "execution_count": 50,
     "metadata": {},
     "output_type": "execute_result"
    }
   ],
   "source": [
    "ndcg_zero_pred"
   ]
  },
  {
   "cell_type": "code",
   "execution_count": 14,
   "metadata": {},
   "outputs": [],
   "source": [
    "# nine_decile = ndcg_zero_pred.ndcg_zero_pred.quantile(0.9)\n",
    "# ninetyfive_percentile = ndcg_zero_pred.ndcg_zero_pred.quantile(0.95)\n",
    "\n",
    "# print(nine_decile, ninetyfive_percentile)\n",
    "\n",
    "# seq_sel = ndcg_zero_pred.query(\"ndcg_zero_pred > @nine_decile\")"
   ]
  },
  {
   "cell_type": "markdown",
   "metadata": {},
   "source": [
    "#### using view=0 criteria first"
   ]
  },
  {
   "cell_type": "code",
   "execution_count": 52,
   "metadata": {},
   "outputs": [
    {
     "data": {
      "text/plain": [
       "(11370,)"
      ]
     },
     "execution_count": 52,
     "metadata": {},
     "output_type": "execute_result"
    }
   ],
   "source": [
    "# seq_sel = ndcg_zero_pred.query(\"view == 0\")\n",
    "# seq_sel = seq_sel.index\n",
    "# seq_sel.shape"
   ]
  },
  {
   "cell_type": "markdown",
   "metadata": {},
   "source": [
    "#### using view in `[0,1,2,3]` criteria"
   ]
  },
  {
   "cell_type": "code",
   "execution_count": 60,
   "metadata": {},
   "outputs": [
    {
     "data": {
      "text/plain": [
       "(56602,)"
      ]
     },
     "execution_count": 60,
     "metadata": {},
     "output_type": "execute_result"
    }
   ],
   "source": [
    "seq_sel = ndcg_zero_pred.query(\"view < 4\")\n",
    "seq_sel = seq_sel.index\n",
    "seq_sel.shape"
   ]
  },
  {
   "cell_type": "code",
   "execution_count": null,
   "metadata": {},
   "outputs": [],
   "source": []
  },
  {
   "cell_type": "markdown",
   "metadata": {},
   "source": [
    "##### item_data"
   ]
  },
  {
   "cell_type": "code",
   "execution_count": 53,
   "metadata": {},
   "outputs": [],
   "source": [
    "# item_data_fn = 'item_data.pkl'\n",
    "# item_data_fp = os.path.join(processed_data_dir, item_data_fn)\n",
    "# item_data = pd.read_pickle(item_data_fp)\n",
    "# item_data = item_data_desc[['item_id', 'title', 'domain_id']]"
   ]
  },
  {
   "cell_type": "markdown",
   "metadata": {},
   "source": [
    "##### use only item_id and item_embs cols from item_data "
   ]
  },
  {
   "cell_type": "code",
   "execution_count": 56,
   "metadata": {},
   "outputs": [],
   "source": [
    "lang = 'pt'"
   ]
  },
  {
   "cell_type": "code",
   "execution_count": 57,
   "metadata": {},
   "outputs": [],
   "source": [
    "item_data_embs_only_fn = 'item_data_embs_only.pkl'\n",
    "item_data_embs_only_fp = os.path.join(processed_data_dir, item_data_embs_only_fn)\n",
    "item_data = pd.read_pickle(item_data_embs_only_fp)\n",
    "\n",
    "item_data = item_data[item_data.lang_domain == lang].copy()\n",
    "item_data.drop('lang_domain', axis = 1, inplace = True)\n",
    "item_data.set_index('item_id', inplace = True)"
   ]
  },
  {
   "cell_type": "code",
   "execution_count": 58,
   "metadata": {},
   "outputs": [
    {
     "name": "stderr",
     "output_type": "stream",
     "text": [
      "100%|██████████| 1723216/1723216 [05:07<00:00, 5606.30it/s] \n"
     ]
    }
   ],
   "source": [
    "item_data = item_data.title_embs.progress_apply(pd.Series)"
   ]
  },
  {
   "cell_type": "markdown",
   "metadata": {},
   "source": [
    "##### read train_test with embeddings"
   ]
  },
  {
   "cell_type": "code",
   "execution_count": 63,
   "metadata": {},
   "outputs": [],
   "source": [
    "train_test_embs_fn = 'train_test_embs.pkl'\n",
    "train_test_embs_fp = os.path.join(interim_data_dir, train_test_embs_fn)\n",
    "train_test = pd.read_pickle(train_test_embs_fp)\n",
    "\n",
    "train_test['seq'] = train_test.seq - TEST_OFFSET\n",
    "train_test = train_test[train_test.seq >= 0]"
   ]
  },
  {
   "cell_type": "code",
   "execution_count": 64,
   "metadata": {},
   "outputs": [],
   "source": [
    "queries = train_test[(train_test.lang_seq == lang) & (train_test.event_type == 'search')]"
   ]
  },
  {
   "cell_type": "markdown",
   "metadata": {},
   "source": [
    "##### selecting queries only in scope"
   ]
  },
  {
   "cell_type": "code",
   "execution_count": 65,
   "metadata": {},
   "outputs": [],
   "source": [
    "queries = queries[queries.seq.isin(seq_sel)]"
   ]
  },
  {
   "cell_type": "code",
   "execution_count": 66,
   "metadata": {},
   "outputs": [
    {
     "data": {
      "text/plain": [
       "348"
      ]
     },
     "execution_count": 66,
     "metadata": {},
     "output_type": "execute_result"
    }
   ],
   "source": [
    "unique_seqs = queries.seq.unique()\n",
    "num_batches = len(unique_seqs) // 100\n",
    "seqs = np.array_split(unique_seqs, num_batches)\n",
    "num_batches"
   ]
  },
  {
   "cell_type": "code",
   "execution_count": 67,
   "metadata": {},
   "outputs": [
    {
     "data": {
      "text/plain": [
       "101"
      ]
     },
     "execution_count": 67,
     "metadata": {},
     "output_type": "execute_result"
    }
   ],
   "source": [
    "seq_batch = seqs[0]\n",
    "len(seq_batch)"
   ]
  },
  {
   "cell_type": "code",
   "execution_count": 68,
   "metadata": {},
   "outputs": [
    {
     "name": "stderr",
     "output_type": "stream",
     "text": [
      "  3%|▎         | 12/348 [09:49<4:35:04, 49.12s/it]\n"
     ]
    },
    {
     "ename": "KeyboardInterrupt",
     "evalue": "",
     "output_type": "error",
     "traceback": [
      "\u001b[0;31m---------------------------------------------------------------------------\u001b[0m",
      "\u001b[0;31mKeyboardInterrupt\u001b[0m                         Traceback (most recent call last)",
      "\u001b[0;32m<ipython-input-68-997a278c0a92>\u001b[0m in \u001b[0;36m<module>\u001b[0;34m\u001b[0m\n\u001b[1;32m      6\u001b[0m     \u001b[0mquery_embs\u001b[0m \u001b[0;34m=\u001b[0m \u001b[0mquery_embs\u001b[0m\u001b[0;34m.\u001b[0m\u001b[0mapply\u001b[0m\u001b[0;34m(\u001b[0m\u001b[0mpd\u001b[0m\u001b[0;34m.\u001b[0m\u001b[0mSeries\u001b[0m\u001b[0;34m)\u001b[0m\u001b[0;34m\u001b[0m\u001b[0;34m\u001b[0m\u001b[0m\n\u001b[1;32m      7\u001b[0m \u001b[0;34m\u001b[0m\u001b[0m\n\u001b[0;32m----> 8\u001b[0;31m     \u001b[0mscores\u001b[0m \u001b[0;34m=\u001b[0m \u001b[0mitem_data\u001b[0m \u001b[0;34m@\u001b[0m \u001b[0mquery_embs\u001b[0m\u001b[0;34m.\u001b[0m\u001b[0mT\u001b[0m\u001b[0;34m\u001b[0m\u001b[0;34m\u001b[0m\u001b[0m\n\u001b[0m\u001b[1;32m      9\u001b[0m \u001b[0;34m\u001b[0m\u001b[0m\n\u001b[1;32m     10\u001b[0m     \u001b[0;32mfor\u001b[0m \u001b[0ms\u001b[0m \u001b[0;32min\u001b[0m \u001b[0mscores\u001b[0m\u001b[0;34m.\u001b[0m\u001b[0mcolumns\u001b[0m\u001b[0;34m:\u001b[0m\u001b[0;34m\u001b[0m\u001b[0;34m\u001b[0m\u001b[0m\n",
      "\u001b[0;32m~/.virtualenvs/tensorflow2/lib/python3.7/site-packages/pandas/core/frame.py\u001b[0m in \u001b[0;36m__matmul__\u001b[0;34m(self, other)\u001b[0m\n\u001b[1;32m   1217\u001b[0m         \u001b[0mMatrix\u001b[0m \u001b[0mmultiplication\u001b[0m \u001b[0musing\u001b[0m \u001b[0mbinary\u001b[0m\u001b[0;31m \u001b[0m\u001b[0;31m`\u001b[0m\u001b[0;34m@\u001b[0m\u001b[0;31m`\u001b[0m \u001b[0moperator\u001b[0m \u001b[0;32min\u001b[0m \u001b[0mPython\u001b[0m\u001b[0;34m>=\u001b[0m\u001b[0;36m3.5\u001b[0m\u001b[0;34m.\u001b[0m\u001b[0;34m\u001b[0m\u001b[0;34m\u001b[0m\u001b[0m\n\u001b[1;32m   1218\u001b[0m         \"\"\"\n\u001b[0;32m-> 1219\u001b[0;31m         \u001b[0;32mreturn\u001b[0m \u001b[0mself\u001b[0m\u001b[0;34m.\u001b[0m\u001b[0mdot\u001b[0m\u001b[0;34m(\u001b[0m\u001b[0mother\u001b[0m\u001b[0;34m)\u001b[0m\u001b[0;34m\u001b[0m\u001b[0;34m\u001b[0m\u001b[0m\n\u001b[0m\u001b[1;32m   1220\u001b[0m \u001b[0;34m\u001b[0m\u001b[0m\n\u001b[1;32m   1221\u001b[0m     \u001b[0;32mdef\u001b[0m \u001b[0m__rmatmul__\u001b[0m\u001b[0;34m(\u001b[0m\u001b[0mself\u001b[0m\u001b[0;34m,\u001b[0m \u001b[0mother\u001b[0m\u001b[0;34m)\u001b[0m\u001b[0;34m:\u001b[0m\u001b[0;34m\u001b[0m\u001b[0;34m\u001b[0m\u001b[0m\n",
      "\u001b[0;32m~/.virtualenvs/tensorflow2/lib/python3.7/site-packages/pandas/core/frame.py\u001b[0m in \u001b[0;36mdot\u001b[0;34m(self, other)\u001b[0m\n\u001b[1;32m   1200\u001b[0m         \u001b[0;32mif\u001b[0m \u001b[0misinstance\u001b[0m\u001b[0;34m(\u001b[0m\u001b[0mother\u001b[0m\u001b[0;34m,\u001b[0m \u001b[0mDataFrame\u001b[0m\u001b[0;34m)\u001b[0m\u001b[0;34m:\u001b[0m\u001b[0;34m\u001b[0m\u001b[0;34m\u001b[0m\u001b[0m\n\u001b[1;32m   1201\u001b[0m             return self._constructor(\n\u001b[0;32m-> 1202\u001b[0;31m                 \u001b[0mnp\u001b[0m\u001b[0;34m.\u001b[0m\u001b[0mdot\u001b[0m\u001b[0;34m(\u001b[0m\u001b[0mlvals\u001b[0m\u001b[0;34m,\u001b[0m \u001b[0mrvals\u001b[0m\u001b[0;34m)\u001b[0m\u001b[0;34m,\u001b[0m \u001b[0mindex\u001b[0m\u001b[0;34m=\u001b[0m\u001b[0mleft\u001b[0m\u001b[0;34m.\u001b[0m\u001b[0mindex\u001b[0m\u001b[0;34m,\u001b[0m \u001b[0mcolumns\u001b[0m\u001b[0;34m=\u001b[0m\u001b[0mother\u001b[0m\u001b[0;34m.\u001b[0m\u001b[0mcolumns\u001b[0m\u001b[0;34m\u001b[0m\u001b[0;34m\u001b[0m\u001b[0m\n\u001b[0m\u001b[1;32m   1203\u001b[0m             )\n\u001b[1;32m   1204\u001b[0m         \u001b[0;32melif\u001b[0m \u001b[0misinstance\u001b[0m\u001b[0;34m(\u001b[0m\u001b[0mother\u001b[0m\u001b[0;34m,\u001b[0m \u001b[0mSeries\u001b[0m\u001b[0;34m)\u001b[0m\u001b[0;34m:\u001b[0m\u001b[0;34m\u001b[0m\u001b[0;34m\u001b[0m\u001b[0m\n",
      "\u001b[0;32m<__array_function__ internals>\u001b[0m in \u001b[0;36mdot\u001b[0;34m(*args, **kwargs)\u001b[0m\n",
      "\u001b[0;31mKeyboardInterrupt\u001b[0m: "
     ]
    }
   ],
   "source": [
    "recs = dict()\n",
    "\n",
    "for seq_batch in tqdm(seqs):\n",
    "    query_embs = queries[queries.seq.isin(seq_batch)]\n",
    "    query_embs = query_embs.groupby('seq').query_embs.apply(lambda x: x.mean())\n",
    "    query_embs = query_embs.apply(pd.Series)\n",
    "    \n",
    "    scores = item_data @ query_embs.T\n",
    "    \n",
    "    for s in scores.columns:\n",
    "        recs[s] = list(scores[s].nlargest(10).items())"
   ]
  },
  {
   "cell_type": "code",
   "execution_count": 35,
   "metadata": {},
   "outputs": [],
   "source": [
    "recs_df = pd.DataFrame(recs)"
   ]
  },
  {
   "cell_type": "code",
   "execution_count": 36,
   "metadata": {},
   "outputs": [
    {
     "data": {
      "text/plain": [
       "(10, 11370)"
      ]
     },
     "execution_count": 36,
     "metadata": {},
     "output_type": "execute_result"
    }
   ],
   "source": [
    "recs_df.shape"
   ]
  },
  {
   "cell_type": "code",
   "execution_count": 37,
   "metadata": {},
   "outputs": [
    {
     "data": {
      "text/plain": [
       "'pt'"
      ]
     },
     "execution_count": 37,
     "metadata": {},
     "output_type": "execute_result"
    }
   ],
   "source": [
    "lang"
   ]
  },
  {
   "cell_type": "code",
   "execution_count": 38,
   "metadata": {},
   "outputs": [],
   "source": [
    "search_recs_fn = lang + '_search_recs.pkl'\n",
    "search_recs_fp = os.path.join(interim_data_dir, search_recs_fn)\n",
    "recs_df.to_pickle(search_recs_fp)"
   ]
  },
  {
   "cell_type": "code",
   "execution_count": 43,
   "metadata": {},
   "outputs": [
    {
     "data": {
      "text/html": [
       "<div>\n",
       "<style scoped>\n",
       "    .dataframe tbody tr th:only-of-type {\n",
       "        vertical-align: middle;\n",
       "    }\n",
       "\n",
       "    .dataframe tbody tr th {\n",
       "        vertical-align: top;\n",
       "    }\n",
       "\n",
       "    .dataframe thead th {\n",
       "        text-align: right;\n",
       "    }\n",
       "</style>\n",
       "<table border=\"1\" class=\"dataframe\">\n",
       "  <thead>\n",
       "    <tr style=\"text-align: right;\">\n",
       "      <th></th>\n",
       "      <th>442</th>\n",
       "      <th>1139</th>\n",
       "      <th>1329</th>\n",
       "      <th>2039</th>\n",
       "      <th>2086</th>\n",
       "      <th>2274</th>\n",
       "      <th>2457</th>\n",
       "      <th>2673</th>\n",
       "      <th>3009</th>\n",
       "      <th>3242</th>\n",
       "      <th>...</th>\n",
       "      <th>174383</th>\n",
       "      <th>174527</th>\n",
       "      <th>174957</th>\n",
       "      <th>175052</th>\n",
       "      <th>175242</th>\n",
       "      <th>175582</th>\n",
       "      <th>175644</th>\n",
       "      <th>176548</th>\n",
       "      <th>176618</th>\n",
       "      <th>176752</th>\n",
       "    </tr>\n",
       "  </thead>\n",
       "  <tbody>\n",
       "    <tr>\n",
       "      <th>0</th>\n",
       "      <td>(808165, 0.8779296875)</td>\n",
       "      <td>(1353412, 0.7939453125)</td>\n",
       "      <td>(603897, 0.93896484375)</td>\n",
       "      <td>(1337084, 0.912109375)</td>\n",
       "      <td>(503803, 0.9365234375)</td>\n",
       "      <td>(285890, 0.88525390625)</td>\n",
       "      <td>(18304, 0.83154296875)</td>\n",
       "      <td>(1290094, 1.0)</td>\n",
       "      <td>(655531, 0.95654296875)</td>\n",
       "      <td>(240640, 1.0)</td>\n",
       "      <td>...</td>\n",
       "      <td>(329360, 0.67333984375)</td>\n",
       "      <td>(398243, 0.95166015625)</td>\n",
       "      <td>(11755, 0.9365234375)</td>\n",
       "      <td>(1013393, 0.84375)</td>\n",
       "      <td>(216976, 0.94384765625)</td>\n",
       "      <td>(866618, 0.94482421875)</td>\n",
       "      <td>(1377687, 0.93505859375)</td>\n",
       "      <td>(274039, 0.896484375)</td>\n",
       "      <td>(534772, 0.908203125)</td>\n",
       "      <td>(1553526, 1.0)</td>\n",
       "    </tr>\n",
       "    <tr>\n",
       "      <th>1</th>\n",
       "      <td>(897227, 0.8671875)</td>\n",
       "      <td>(555036, 0.783203125)</td>\n",
       "      <td>(1211874, 0.93408203125)</td>\n",
       "      <td>(538268, 0.912109375)</td>\n",
       "      <td>(137932, 0.931640625)</td>\n",
       "      <td>(1588816, 0.8828125)</td>\n",
       "      <td>(1493519, 0.8271484375)</td>\n",
       "      <td>(14761, 0.9150390625)</td>\n",
       "      <td>(1194003, 0.94140625)</td>\n",
       "      <td>(1042941, 0.96044921875)</td>\n",
       "      <td>...</td>\n",
       "      <td>(1377488, 0.66796875)</td>\n",
       "      <td>(1925544, 0.951171875)</td>\n",
       "      <td>(1280707, 0.9306640625)</td>\n",
       "      <td>(735229, 0.84326171875)</td>\n",
       "      <td>(1400461, 0.94189453125)</td>\n",
       "      <td>(1109754, 0.94287109375)</td>\n",
       "      <td>(879544, 0.93359375)</td>\n",
       "      <td>(1361152, 0.89306640625)</td>\n",
       "      <td>(1575342, 0.90380859375)</td>\n",
       "      <td>(237740, 1.0)</td>\n",
       "    </tr>\n",
       "    <tr>\n",
       "      <th>2</th>\n",
       "      <td>(376345, 0.8564453125)</td>\n",
       "      <td>(1559830, 0.76806640625)</td>\n",
       "      <td>(1365389, 0.9306640625)</td>\n",
       "      <td>(1486750, 0.90576171875)</td>\n",
       "      <td>(754158, 0.9306640625)</td>\n",
       "      <td>(637173, 0.8779296875)</td>\n",
       "      <td>(121927, 0.81982421875)</td>\n",
       "      <td>(454590, 0.912109375)</td>\n",
       "      <td>(857895, 0.94140625)</td>\n",
       "      <td>(13616, 0.96044921875)</td>\n",
       "      <td>...</td>\n",
       "      <td>(1703759, 0.66748046875)</td>\n",
       "      <td>(74631, 0.94921875)</td>\n",
       "      <td>(1944934, 0.927734375)</td>\n",
       "      <td>(584341, 0.84326171875)</td>\n",
       "      <td>(268182, 0.93408203125)</td>\n",
       "      <td>(447885, 0.9423828125)</td>\n",
       "      <td>(962803, 0.9326171875)</td>\n",
       "      <td>(1187360, 0.892578125)</td>\n",
       "      <td>(1056699, 0.90087890625)</td>\n",
       "      <td>(441391, 0.94580078125)</td>\n",
       "    </tr>\n",
       "    <tr>\n",
       "      <th>3</th>\n",
       "      <td>(1986747, 0.85546875)</td>\n",
       "      <td>(1446687, 0.759765625)</td>\n",
       "      <td>(1197885, 0.9296875)</td>\n",
       "      <td>(1184330, 0.904296875)</td>\n",
       "      <td>(1075502, 0.9287109375)</td>\n",
       "      <td>(651329, 0.8759765625)</td>\n",
       "      <td>(162025, 0.81884765625)</td>\n",
       "      <td>(1502213, 0.8984375)</td>\n",
       "      <td>(1907547, 0.9384765625)</td>\n",
       "      <td>(63481, 0.96044921875)</td>\n",
       "      <td>...</td>\n",
       "      <td>(696313, 0.6650390625)</td>\n",
       "      <td>(1112436, 0.9453125)</td>\n",
       "      <td>(1308657, 0.92626953125)</td>\n",
       "      <td>(733210, 0.84228515625)</td>\n",
       "      <td>(256591, 0.9326171875)</td>\n",
       "      <td>(328007, 0.9423828125)</td>\n",
       "      <td>(1432504, 0.9326171875)</td>\n",
       "      <td>(851128, 0.89013671875)</td>\n",
       "      <td>(1514380, 0.89794921875)</td>\n",
       "      <td>(1743815, 0.9404296875)</td>\n",
       "    </tr>\n",
       "    <tr>\n",
       "      <th>4</th>\n",
       "      <td>(18380, 0.8544921875)</td>\n",
       "      <td>(1696599, 0.75341796875)</td>\n",
       "      <td>(1319751, 0.9296875)</td>\n",
       "      <td>(438114, 0.904296875)</td>\n",
       "      <td>(2018908, 0.92529296875)</td>\n",
       "      <td>(992302, 0.8759765625)</td>\n",
       "      <td>(1432690, 0.8173828125)</td>\n",
       "      <td>(2066659, 0.89794921875)</td>\n",
       "      <td>(1895562, 0.93798828125)</td>\n",
       "      <td>(1745078, 0.96044921875)</td>\n",
       "      <td>...</td>\n",
       "      <td>(635636, 0.6630859375)</td>\n",
       "      <td>(344112, 0.94482421875)</td>\n",
       "      <td>(1591538, 0.92529296875)</td>\n",
       "      <td>(1877862, 0.841796875)</td>\n",
       "      <td>(1922505, 0.93212890625)</td>\n",
       "      <td>(421057, 0.9423828125)</td>\n",
       "      <td>(1594275, 0.931640625)</td>\n",
       "      <td>(315013, 0.88916015625)</td>\n",
       "      <td>(1077409, 0.89599609375)</td>\n",
       "      <td>(1535822, 0.939453125)</td>\n",
       "    </tr>\n",
       "    <tr>\n",
       "      <th>5</th>\n",
       "      <td>(2040458, 0.849609375)</td>\n",
       "      <td>(887274, 0.7529296875)</td>\n",
       "      <td>(2042574, 0.9296875)</td>\n",
       "      <td>(1059822, 0.90380859375)</td>\n",
       "      <td>(1356744, 0.9248046875)</td>\n",
       "      <td>(1976671, 0.8740234375)</td>\n",
       "      <td>(891824, 0.81689453125)</td>\n",
       "      <td>(64083, 0.8974609375)</td>\n",
       "      <td>(1676302, 0.93798828125)</td>\n",
       "      <td>(1643866, 0.96044921875)</td>\n",
       "      <td>...</td>\n",
       "      <td>(692774, 0.662109375)</td>\n",
       "      <td>(1343591, 0.94189453125)</td>\n",
       "      <td>(738107, 0.92431640625)</td>\n",
       "      <td>(1237401, 0.84130859375)</td>\n",
       "      <td>(938911, 0.93212890625)</td>\n",
       "      <td>(626743, 0.94091796875)</td>\n",
       "      <td>(1462074, 0.93115234375)</td>\n",
       "      <td>(765244, 0.888671875)</td>\n",
       "      <td>(1427755, 0.89501953125)</td>\n",
       "      <td>(1153811, 0.9375)</td>\n",
       "    </tr>\n",
       "    <tr>\n",
       "      <th>6</th>\n",
       "      <td>(1364810, 0.8486328125)</td>\n",
       "      <td>(70120, 0.7529296875)</td>\n",
       "      <td>(1110908, 0.92822265625)</td>\n",
       "      <td>(150238, 0.90380859375)</td>\n",
       "      <td>(618607, 0.91845703125)</td>\n",
       "      <td>(1891662, 0.8740234375)</td>\n",
       "      <td>(1097105, 0.81591796875)</td>\n",
       "      <td>(1903004, 0.89697265625)</td>\n",
       "      <td>(304904, 0.9375)</td>\n",
       "      <td>(1510610, 0.96044921875)</td>\n",
       "      <td>...</td>\n",
       "      <td>(994218, 0.6611328125)</td>\n",
       "      <td>(564467, 0.94140625)</td>\n",
       "      <td>(365595, 0.92431640625)</td>\n",
       "      <td>(209386, 0.83935546875)</td>\n",
       "      <td>(1913824, 0.93115234375)</td>\n",
       "      <td>(633925, 0.93994140625)</td>\n",
       "      <td>(2075749, 0.92919921875)</td>\n",
       "      <td>(1807257, 0.88818359375)</td>\n",
       "      <td>(872141, 0.89453125)</td>\n",
       "      <td>(37874, 0.9365234375)</td>\n",
       "    </tr>\n",
       "    <tr>\n",
       "      <th>7</th>\n",
       "      <td>(812912, 0.84814453125)</td>\n",
       "      <td>(411676, 0.7509765625)</td>\n",
       "      <td>(708512, 0.92626953125)</td>\n",
       "      <td>(446059, 0.90380859375)</td>\n",
       "      <td>(643397, 0.91796875)</td>\n",
       "      <td>(1484456, 0.8740234375)</td>\n",
       "      <td>(151298, 0.81591796875)</td>\n",
       "      <td>(448821, 0.8935546875)</td>\n",
       "      <td>(1451934, 0.93603515625)</td>\n",
       "      <td>(1020488, 0.94921875)</td>\n",
       "      <td>...</td>\n",
       "      <td>(780409, 0.66015625)</td>\n",
       "      <td>(82670, 0.94091796875)</td>\n",
       "      <td>(1905509, 0.92431640625)</td>\n",
       "      <td>(1391307, 0.8388671875)</td>\n",
       "      <td>(268826, 0.9306640625)</td>\n",
       "      <td>(1618846, 0.939453125)</td>\n",
       "      <td>(1205394, 0.92919921875)</td>\n",
       "      <td>(133794, 0.8876953125)</td>\n",
       "      <td>(724165, 0.89453125)</td>\n",
       "      <td>(1386973, 0.9365234375)</td>\n",
       "    </tr>\n",
       "    <tr>\n",
       "      <th>8</th>\n",
       "      <td>(1122057, 0.84765625)</td>\n",
       "      <td>(2096506, 0.75)</td>\n",
       "      <td>(1775486, 0.92578125)</td>\n",
       "      <td>(1541250, 0.90283203125)</td>\n",
       "      <td>(1327659, 0.9169921875)</td>\n",
       "      <td>(313875, 0.87353515625)</td>\n",
       "      <td>(599929, 0.81591796875)</td>\n",
       "      <td>(203574, 0.89013671875)</td>\n",
       "      <td>(2025944, 0.93603515625)</td>\n",
       "      <td>(110903, 0.94921875)</td>\n",
       "      <td>...</td>\n",
       "      <td>(1906386, 0.66015625)</td>\n",
       "      <td>(1505355, 0.9404296875)</td>\n",
       "      <td>(754959, 0.9228515625)</td>\n",
       "      <td>(764028, 0.83837890625)</td>\n",
       "      <td>(1962131, 0.9306640625)</td>\n",
       "      <td>(982661, 0.939453125)</td>\n",
       "      <td>(301064, 0.92919921875)</td>\n",
       "      <td>(1499488, 0.8876953125)</td>\n",
       "      <td>(1287672, 0.89404296875)</td>\n",
       "      <td>(911142, 0.93603515625)</td>\n",
       "    </tr>\n",
       "    <tr>\n",
       "      <th>9</th>\n",
       "      <td>(1793735, 0.845703125)</td>\n",
       "      <td>(1259538, 0.74951171875)</td>\n",
       "      <td>(228252, 0.92529296875)</td>\n",
       "      <td>(1232165, 0.9013671875)</td>\n",
       "      <td>(1619460, 0.9169921875)</td>\n",
       "      <td>(1764838, 0.87353515625)</td>\n",
       "      <td>(701585, 0.8154296875)</td>\n",
       "      <td>(366003, 0.8896484375)</td>\n",
       "      <td>(1298159, 0.9345703125)</td>\n",
       "      <td>(737239, 0.94921875)</td>\n",
       "      <td>...</td>\n",
       "      <td>(1037362, 0.65966796875)</td>\n",
       "      <td>(289183, 0.93994140625)</td>\n",
       "      <td>(848954, 0.92236328125)</td>\n",
       "      <td>(499285, 0.83740234375)</td>\n",
       "      <td>(1549555, 0.9296875)</td>\n",
       "      <td>(703218, 0.93896484375)</td>\n",
       "      <td>(1107505, 0.9267578125)</td>\n",
       "      <td>(426694, 0.88623046875)</td>\n",
       "      <td>(1641755, 0.8935546875)</td>\n",
       "      <td>(385773, 0.93310546875)</td>\n",
       "    </tr>\n",
       "  </tbody>\n",
       "</table>\n",
       "<p>10 rows × 619 columns</p>\n",
       "</div>"
      ],
      "text/plain": [
       "                    442                       1139    \\\n",
       "0   (808165, 0.8779296875)   (1353412, 0.7939453125)   \n",
       "1      (897227, 0.8671875)     (555036, 0.783203125)   \n",
       "2   (376345, 0.8564453125)  (1559830, 0.76806640625)   \n",
       "3    (1986747, 0.85546875)    (1446687, 0.759765625)   \n",
       "4    (18380, 0.8544921875)  (1696599, 0.75341796875)   \n",
       "5   (2040458, 0.849609375)    (887274, 0.7529296875)   \n",
       "6  (1364810, 0.8486328125)     (70120, 0.7529296875)   \n",
       "7  (812912, 0.84814453125)    (411676, 0.7509765625)   \n",
       "8    (1122057, 0.84765625)           (2096506, 0.75)   \n",
       "9   (1793735, 0.845703125)  (1259538, 0.74951171875)   \n",
       "\n",
       "                     1329                      2039    \\\n",
       "0   (603897, 0.93896484375)    (1337084, 0.912109375)   \n",
       "1  (1211874, 0.93408203125)     (538268, 0.912109375)   \n",
       "2   (1365389, 0.9306640625)  (1486750, 0.90576171875)   \n",
       "3      (1197885, 0.9296875)    (1184330, 0.904296875)   \n",
       "4      (1319751, 0.9296875)     (438114, 0.904296875)   \n",
       "5      (2042574, 0.9296875)  (1059822, 0.90380859375)   \n",
       "6  (1110908, 0.92822265625)   (150238, 0.90380859375)   \n",
       "7   (708512, 0.92626953125)   (446059, 0.90380859375)   \n",
       "8     (1775486, 0.92578125)  (1541250, 0.90283203125)   \n",
       "9   (228252, 0.92529296875)   (1232165, 0.9013671875)   \n",
       "\n",
       "                     2086                      2274    \\\n",
       "0    (503803, 0.9365234375)   (285890, 0.88525390625)   \n",
       "1     (137932, 0.931640625)      (1588816, 0.8828125)   \n",
       "2    (754158, 0.9306640625)    (637173, 0.8779296875)   \n",
       "3   (1075502, 0.9287109375)    (651329, 0.8759765625)   \n",
       "4  (2018908, 0.92529296875)    (992302, 0.8759765625)   \n",
       "5   (1356744, 0.9248046875)   (1976671, 0.8740234375)   \n",
       "6   (618607, 0.91845703125)   (1891662, 0.8740234375)   \n",
       "7      (643397, 0.91796875)   (1484456, 0.8740234375)   \n",
       "8   (1327659, 0.9169921875)   (313875, 0.87353515625)   \n",
       "9   (1619460, 0.9169921875)  (1764838, 0.87353515625)   \n",
       "\n",
       "                     2457                      2673    \\\n",
       "0    (18304, 0.83154296875)            (1290094, 1.0)   \n",
       "1   (1493519, 0.8271484375)     (14761, 0.9150390625)   \n",
       "2   (121927, 0.81982421875)     (454590, 0.912109375)   \n",
       "3   (162025, 0.81884765625)      (1502213, 0.8984375)   \n",
       "4   (1432690, 0.8173828125)  (2066659, 0.89794921875)   \n",
       "5   (891824, 0.81689453125)     (64083, 0.8974609375)   \n",
       "6  (1097105, 0.81591796875)  (1903004, 0.89697265625)   \n",
       "7   (151298, 0.81591796875)    (448821, 0.8935546875)   \n",
       "8   (599929, 0.81591796875)   (203574, 0.89013671875)   \n",
       "9    (701585, 0.8154296875)    (366003, 0.8896484375)   \n",
       "\n",
       "                     3009                      3242    ...  \\\n",
       "0   (655531, 0.95654296875)             (240640, 1.0)  ...   \n",
       "1     (1194003, 0.94140625)  (1042941, 0.96044921875)  ...   \n",
       "2      (857895, 0.94140625)    (13616, 0.96044921875)  ...   \n",
       "3   (1907547, 0.9384765625)    (63481, 0.96044921875)  ...   \n",
       "4  (1895562, 0.93798828125)  (1745078, 0.96044921875)  ...   \n",
       "5  (1676302, 0.93798828125)  (1643866, 0.96044921875)  ...   \n",
       "6          (304904, 0.9375)  (1510610, 0.96044921875)  ...   \n",
       "7  (1451934, 0.93603515625)     (1020488, 0.94921875)  ...   \n",
       "8  (2025944, 0.93603515625)      (110903, 0.94921875)  ...   \n",
       "9   (1298159, 0.9345703125)      (737239, 0.94921875)  ...   \n",
       "\n",
       "                     174383                    174527  \\\n",
       "0   (329360, 0.67333984375)   (398243, 0.95166015625)   \n",
       "1     (1377488, 0.66796875)    (1925544, 0.951171875)   \n",
       "2  (1703759, 0.66748046875)       (74631, 0.94921875)   \n",
       "3    (696313, 0.6650390625)      (1112436, 0.9453125)   \n",
       "4    (635636, 0.6630859375)   (344112, 0.94482421875)   \n",
       "5     (692774, 0.662109375)  (1343591, 0.94189453125)   \n",
       "6    (994218, 0.6611328125)      (564467, 0.94140625)   \n",
       "7      (780409, 0.66015625)    (82670, 0.94091796875)   \n",
       "8     (1906386, 0.66015625)   (1505355, 0.9404296875)   \n",
       "9  (1037362, 0.65966796875)   (289183, 0.93994140625)   \n",
       "\n",
       "                     174957                    175052  \\\n",
       "0     (11755, 0.9365234375)        (1013393, 0.84375)   \n",
       "1   (1280707, 0.9306640625)   (735229, 0.84326171875)   \n",
       "2    (1944934, 0.927734375)   (584341, 0.84326171875)   \n",
       "3  (1308657, 0.92626953125)   (733210, 0.84228515625)   \n",
       "4  (1591538, 0.92529296875)    (1877862, 0.841796875)   \n",
       "5   (738107, 0.92431640625)  (1237401, 0.84130859375)   \n",
       "6   (365595, 0.92431640625)   (209386, 0.83935546875)   \n",
       "7  (1905509, 0.92431640625)   (1391307, 0.8388671875)   \n",
       "8    (754959, 0.9228515625)   (764028, 0.83837890625)   \n",
       "9   (848954, 0.92236328125)   (499285, 0.83740234375)   \n",
       "\n",
       "                     175242                    175582  \\\n",
       "0   (216976, 0.94384765625)   (866618, 0.94482421875)   \n",
       "1  (1400461, 0.94189453125)  (1109754, 0.94287109375)   \n",
       "2   (268182, 0.93408203125)    (447885, 0.9423828125)   \n",
       "3    (256591, 0.9326171875)    (328007, 0.9423828125)   \n",
       "4  (1922505, 0.93212890625)    (421057, 0.9423828125)   \n",
       "5   (938911, 0.93212890625)   (626743, 0.94091796875)   \n",
       "6  (1913824, 0.93115234375)   (633925, 0.93994140625)   \n",
       "7    (268826, 0.9306640625)    (1618846, 0.939453125)   \n",
       "8   (1962131, 0.9306640625)     (982661, 0.939453125)   \n",
       "9      (1549555, 0.9296875)   (703218, 0.93896484375)   \n",
       "\n",
       "                     175644                    176548  \\\n",
       "0  (1377687, 0.93505859375)     (274039, 0.896484375)   \n",
       "1      (879544, 0.93359375)  (1361152, 0.89306640625)   \n",
       "2    (962803, 0.9326171875)    (1187360, 0.892578125)   \n",
       "3   (1432504, 0.9326171875)   (851128, 0.89013671875)   \n",
       "4    (1594275, 0.931640625)   (315013, 0.88916015625)   \n",
       "5  (1462074, 0.93115234375)     (765244, 0.888671875)   \n",
       "6  (2075749, 0.92919921875)  (1807257, 0.88818359375)   \n",
       "7  (1205394, 0.92919921875)    (133794, 0.8876953125)   \n",
       "8   (301064, 0.92919921875)   (1499488, 0.8876953125)   \n",
       "9   (1107505, 0.9267578125)   (426694, 0.88623046875)   \n",
       "\n",
       "                     176618                   176752  \n",
       "0     (534772, 0.908203125)           (1553526, 1.0)  \n",
       "1  (1575342, 0.90380859375)            (237740, 1.0)  \n",
       "2  (1056699, 0.90087890625)  (441391, 0.94580078125)  \n",
       "3  (1514380, 0.89794921875)  (1743815, 0.9404296875)  \n",
       "4  (1077409, 0.89599609375)   (1535822, 0.939453125)  \n",
       "5  (1427755, 0.89501953125)        (1153811, 0.9375)  \n",
       "6      (872141, 0.89453125)    (37874, 0.9365234375)  \n",
       "7      (724165, 0.89453125)  (1386973, 0.9365234375)  \n",
       "8  (1287672, 0.89404296875)  (911142, 0.93603515625)  \n",
       "9   (1641755, 0.8935546875)  (385773, 0.93310546875)  \n",
       "\n",
       "[10 rows x 619 columns]"
      ]
     },
     "execution_count": 43,
     "metadata": {},
     "output_type": "execute_result"
    }
   ],
   "source": [
    "recs_df"
   ]
  },
  {
   "cell_type": "code",
   "execution_count": null,
   "metadata": {},
   "outputs": [],
   "source": []
  },
  {
   "cell_type": "markdown",
   "metadata": {},
   "source": [
    "____\n",
    "____"
   ]
  },
  {
   "cell_type": "code",
   "execution_count": 140,
   "metadata": {},
   "outputs": [],
   "source": [
    "query_embs = queries[queries.seq.isin(seq_batch)]\n",
    "query_embs = query_embs.groupby('seq').query_embs.apply(lambda x: x.mean())\n",
    "query_embs = query_embs.progress_apply(pd.Series)"
   ]
  },
  {
   "cell_type": "markdown",
   "metadata": {},
   "source": [
    "for len(seq_batch) = 1000, dot product below takes about 6 mins:\n",
    "* CPU times: user 6min 11s, sys: 1.93 s, total: 6min 13s\n",
    "* Wall time: 6min 14s\n",
    "> **take only seqs that had low number of views (low top score from MF)** <br>\n",
    "> or to restrict columns by selecting items from the viewed groups only"
   ]
  },
  {
   "cell_type": "code",
   "execution_count": 141,
   "metadata": {},
   "outputs": [
    {
     "name": "stdout",
     "output_type": "stream",
     "text": [
      "CPU times: user 6min 11s, sys: 1.93 s, total: 6min 13s\n",
      "Wall time: 6min 14s\n"
     ]
    }
   ],
   "source": [
    "%%time\n",
    "scores = item_data @ query_embs.T"
   ]
  },
  {
   "cell_type": "code",
   "execution_count": 146,
   "metadata": {},
   "outputs": [
    {
     "name": "stderr",
     "output_type": "stream",
     "text": [
      "100%|██████████| 1003/1003 [01:34<00:00, 10.61it/s]\n"
     ]
    }
   ],
   "source": [
    "recs = dict()\n",
    "for s in tqdm(scores.columns):\n",
    "    recs[s] = list(scores[s].nlargest(10).items())"
   ]
  },
  {
   "cell_type": "code",
   "execution_count": 147,
   "metadata": {},
   "outputs": [],
   "source": [
    "# recs = pd.DataFrame(recs)"
   ]
  },
  {
   "cell_type": "markdown",
   "metadata": {},
   "source": [
    "____"
   ]
  },
  {
   "cell_type": "markdown",
   "metadata": {},
   "source": [
    "#### checking random seq's...\n",
    "* seq 483: search for MESA EXPERT is giving rec \"Mesa Digitalizadora Led Profissional Parblo C\", because of search words treated in isolation\n",
    "* **Estimate NDCG for a small number of random users in train**\n"
   ]
  },
  {
   "cell_type": "markdown",
   "metadata": {},
   "source": [
    "##### item_data descriptions"
   ]
  },
  {
   "cell_type": "code",
   "execution_count": 19,
   "metadata": {},
   "outputs": [],
   "source": [
    "item_data_fn = 'item_data.jl.gz'\n",
    "item_data_desc = pd.read_json(os.path.join(raw_data_dir, item_data_fn), lines=True)\n",
    "item_data_desc = item_data_desc[['item_id', 'title', 'domain_id']]"
   ]
  },
  {
   "cell_type": "code",
   "execution_count": 59,
   "metadata": {},
   "outputs": [
    {
     "name": "stdout",
     "output_type": "stream",
     "text": [
      "a random seq: 177058\n"
     ]
    },
    {
     "ename": "KeyError",
     "evalue": "177058",
     "output_type": "error",
     "traceback": [
      "\u001b[0;31m---------------------------------------------------------------------------\u001b[0m",
      "\u001b[0;31mKeyError\u001b[0m                                  Traceback (most recent call last)",
      "\u001b[0;32m<ipython-input-59-fb74cd9b49b5>\u001b[0m in \u001b[0;36m<module>\u001b[0;34m\u001b[0m\n\u001b[1;32m      2\u001b[0m \u001b[0ma_seq\u001b[0m \u001b[0;34m=\u001b[0m \u001b[0;36m177058\u001b[0m\u001b[0;34m\u001b[0m\u001b[0;34m\u001b[0m\u001b[0m\n\u001b[1;32m      3\u001b[0m \u001b[0mprint\u001b[0m\u001b[0;34m(\u001b[0m\u001b[0;34m'a random seq:'\u001b[0m\u001b[0;34m,\u001b[0m \u001b[0ma_seq\u001b[0m\u001b[0;34m)\u001b[0m\u001b[0;34m\u001b[0m\u001b[0;34m\u001b[0m\u001b[0m\n\u001b[0;32m----> 4\u001b[0;31m \u001b[0mone_seq_rec\u001b[0m \u001b[0;34m=\u001b[0m \u001b[0mpd\u001b[0m\u001b[0;34m.\u001b[0m\u001b[0mDataFrame\u001b[0m\u001b[0;34m(\u001b[0m\u001b[0mrecs\u001b[0m\u001b[0;34m[\u001b[0m\u001b[0ma_seq\u001b[0m\u001b[0;34m]\u001b[0m\u001b[0;34m)\u001b[0m\u001b[0;34m\u001b[0m\u001b[0;34m\u001b[0m\u001b[0m\n\u001b[0m\u001b[1;32m      5\u001b[0m \u001b[0mone_seq_rec\u001b[0m\u001b[0;34m.\u001b[0m\u001b[0mcolumns\u001b[0m \u001b[0;34m=\u001b[0m \u001b[0;34m[\u001b[0m\u001b[0;34m'item_id'\u001b[0m\u001b[0;34m,\u001b[0m \u001b[0;34m'score'\u001b[0m\u001b[0;34m]\u001b[0m\u001b[0;34m\u001b[0m\u001b[0;34m\u001b[0m\u001b[0m\n",
      "\u001b[0;31mKeyError\u001b[0m: 177058"
     ]
    }
   ],
   "source": [
    "a_seq = np.random.choice(list(recs.keys()))\n",
    "a_seq = 177058\n",
    "print('a random seq:', a_seq)\n",
    "one_seq_rec = pd.DataFrame(recs[a_seq])\n",
    "one_seq_rec.columns = ['item_id', 'score']"
   ]
  },
  {
   "cell_type": "code",
   "execution_count": 60,
   "metadata": {},
   "outputs": [
    {
     "data": {
      "text/html": [
       "<div>\n",
       "<style scoped>\n",
       "    .dataframe tbody tr th:only-of-type {\n",
       "        vertical-align: middle;\n",
       "    }\n",
       "\n",
       "    .dataframe tbody tr th {\n",
       "        vertical-align: top;\n",
       "    }\n",
       "\n",
       "    .dataframe thead th {\n",
       "        text-align: right;\n",
       "    }\n",
       "</style>\n",
       "<table border=\"1\" class=\"dataframe\">\n",
       "  <thead>\n",
       "    <tr style=\"text-align: right;\">\n",
       "      <th></th>\n",
       "      <th>item_id</th>\n",
       "      <th>score</th>\n",
       "      <th>title</th>\n",
       "      <th>domain_id</th>\n",
       "    </tr>\n",
       "  </thead>\n",
       "  <tbody>\n",
       "    <tr>\n",
       "      <th>0</th>\n",
       "      <td>1135878</td>\n",
       "      <td>0.838379</td>\n",
       "      <td>Tenis adidas Pro Next 2019 Jr Ef0855 Rojo Básq...</td>\n",
       "      <td>MLM-SNEAKERS</td>\n",
       "    </tr>\n",
       "    <tr>\n",
       "      <th>1</th>\n",
       "      <td>138426</td>\n",
       "      <td>0.837402</td>\n",
       "      <td>Tenis Para Deporte Marca Charly 1021777 Dog</td>\n",
       "      <td>MLM-SNEAKERS</td>\n",
       "    </tr>\n",
       "    <tr>\n",
       "      <th>2</th>\n",
       "      <td>1600907</td>\n",
       "      <td>0.837402</td>\n",
       "      <td>Tenis Para Deporte Marca Charly 1029137 Dog</td>\n",
       "      <td>MLM-SNEAKERS</td>\n",
       "    </tr>\n",
       "    <tr>\n",
       "      <th>3</th>\n",
       "      <td>114985</td>\n",
       "      <td>0.834473</td>\n",
       "      <td>Tenis Puma Vikky Ribbon Mujer Nike adidas Gym ...</td>\n",
       "      <td>MLM-SNEAKERS</td>\n",
       "    </tr>\n",
       "    <tr>\n",
       "      <th>4</th>\n",
       "      <td>864126</td>\n",
       "      <td>0.834473</td>\n",
       "      <td>Tenis De Basquetbol Nike Air Max Wavy Original.</td>\n",
       "      <td>MLM-SNEAKERS</td>\n",
       "    </tr>\n",
       "    <tr>\n",
       "      <th>5</th>\n",
       "      <td>326712</td>\n",
       "      <td>0.833984</td>\n",
       "      <td>Tenis Nike Air Max Infuriate Ii Mujer Basquetb...</td>\n",
       "      <td>MLM-SNEAKERS</td>\n",
       "    </tr>\n",
       "    <tr>\n",
       "      <th>6</th>\n",
       "      <td>68056</td>\n",
       "      <td>0.832520</td>\n",
       "      <td>Tenis Nuevo adidas Cosmic Fashion Negro</td>\n",
       "      <td>MLM-SNEAKERS</td>\n",
       "    </tr>\n",
       "    <tr>\n",
       "      <th>7</th>\n",
       "      <td>407633</td>\n",
       "      <td>0.832031</td>\n",
       "      <td>Tenis adidas Pace</td>\n",
       "      <td>MLM-SNEAKERS</td>\n",
       "    </tr>\n",
       "    <tr>\n",
       "      <th>8</th>\n",
       "      <td>1658750</td>\n",
       "      <td>0.831543</td>\n",
       "      <td>Tenis 8mx Coach Negro Monogram</td>\n",
       "      <td>MLM-SNEAKERS</td>\n",
       "    </tr>\n",
       "    <tr>\n",
       "      <th>9</th>\n",
       "      <td>1703189</td>\n",
       "      <td>0.831543</td>\n",
       "      <td>Tenis Futbol Para Hombre adidas Aq4289 Black W...</td>\n",
       "      <td>MLM-SNEAKERS</td>\n",
       "    </tr>\n",
       "  </tbody>\n",
       "</table>\n",
       "</div>"
      ],
      "text/plain": [
       "   item_id     score                                              title  \\\n",
       "0  1135878  0.838379  Tenis adidas Pro Next 2019 Jr Ef0855 Rojo Básq...   \n",
       "1   138426  0.837402        Tenis Para Deporte Marca Charly 1021777 Dog   \n",
       "2  1600907  0.837402        Tenis Para Deporte Marca Charly 1029137 Dog   \n",
       "3   114985  0.834473  Tenis Puma Vikky Ribbon Mujer Nike adidas Gym ...   \n",
       "4   864126  0.834473    Tenis De Basquetbol Nike Air Max Wavy Original.   \n",
       "5   326712  0.833984  Tenis Nike Air Max Infuriate Ii Mujer Basquetb...   \n",
       "6    68056  0.832520            Tenis Nuevo adidas Cosmic Fashion Negro   \n",
       "7   407633  0.832031                                  Tenis adidas Pace   \n",
       "8  1658750  0.831543                     Tenis 8mx Coach Negro Monogram   \n",
       "9  1703189  0.831543  Tenis Futbol Para Hombre adidas Aq4289 Black W...   \n",
       "\n",
       "      domain_id  \n",
       "0  MLM-SNEAKERS  \n",
       "1  MLM-SNEAKERS  \n",
       "2  MLM-SNEAKERS  \n",
       "3  MLM-SNEAKERS  \n",
       "4  MLM-SNEAKERS  \n",
       "5  MLM-SNEAKERS  \n",
       "6  MLM-SNEAKERS  \n",
       "7  MLM-SNEAKERS  \n",
       "8  MLM-SNEAKERS  \n",
       "9  MLM-SNEAKERS  "
      ]
     },
     "execution_count": 60,
     "metadata": {},
     "output_type": "execute_result"
    }
   ],
   "source": [
    "pd.merge(one_seq_rec, item_data_desc, how = 'left')"
   ]
  },
  {
   "cell_type": "code",
   "execution_count": 61,
   "metadata": {},
   "outputs": [
    {
     "data": {
      "text/html": [
       "<div>\n",
       "<style scoped>\n",
       "    .dataframe tbody tr th:only-of-type {\n",
       "        vertical-align: middle;\n",
       "    }\n",
       "\n",
       "    .dataframe tbody tr th {\n",
       "        vertical-align: top;\n",
       "    }\n",
       "\n",
       "    .dataframe thead th {\n",
       "        text-align: right;\n",
       "    }\n",
       "</style>\n",
       "<table border=\"1\" class=\"dataframe\">\n",
       "  <thead>\n",
       "    <tr style=\"text-align: right;\">\n",
       "      <th></th>\n",
       "      <th>seq</th>\n",
       "      <th>event_info</th>\n",
       "      <th>views</th>\n",
       "      <th>event_type</th>\n",
       "      <th>lang_seq</th>\n",
       "      <th>query_embs</th>\n",
       "    </tr>\n",
       "  </thead>\n",
       "  <tbody>\n",
       "    <tr>\n",
       "      <th>13914900</th>\n",
       "      <td>177058</td>\n",
       "      <td>ONEPLUS 5</td>\n",
       "      <td>NaN</td>\n",
       "      <td>search</td>\n",
       "      <td>pt</td>\n",
       "      <td>[0.03854, -0.2195, 0.3315, 0.0575, -0.0181, 0....</td>\n",
       "    </tr>\n",
       "    <tr>\n",
       "      <th>13914901</th>\n",
       "      <td>177058</td>\n",
       "      <td>ONEPLUS 5</td>\n",
       "      <td>NaN</td>\n",
       "      <td>search</td>\n",
       "      <td>pt</td>\n",
       "      <td>[0.03854, -0.2195, 0.3315, 0.0575, -0.0181, 0....</td>\n",
       "    </tr>\n",
       "    <tr>\n",
       "      <th>13914902</th>\n",
       "      <td>177058</td>\n",
       "      <td>ONE VISION</td>\n",
       "      <td>NaN</td>\n",
       "      <td>search</td>\n",
       "      <td>pt</td>\n",
       "      <td>[0.03427, -0.1542, 0.2006, -0.1891, -0.1799, 0...</td>\n",
       "    </tr>\n",
       "  </tbody>\n",
       "</table>\n",
       "</div>"
      ],
      "text/plain": [
       "             seq  event_info  views event_type lang_seq  \\\n",
       "13914900  177058   ONEPLUS 5    NaN     search       pt   \n",
       "13914901  177058   ONEPLUS 5    NaN     search       pt   \n",
       "13914902  177058  ONE VISION    NaN     search       pt   \n",
       "\n",
       "                                                 query_embs  \n",
       "13914900  [0.03854, -0.2195, 0.3315, 0.0575, -0.0181, 0....  \n",
       "13914901  [0.03854, -0.2195, 0.3315, 0.0575, -0.0181, 0....  \n",
       "13914902  [0.03427, -0.1542, 0.2006, -0.1891, -0.1799, 0...  "
      ]
     },
     "execution_count": 61,
     "metadata": {},
     "output_type": "execute_result"
    }
   ],
   "source": [
    "train_test[train_test.seq == a_seq]"
   ]
  },
  {
   "cell_type": "code",
   "execution_count": 58,
   "metadata": {},
   "outputs": [
    {
     "data": {
      "text/html": [
       "<div>\n",
       "<style scoped>\n",
       "    .dataframe tbody tr th:only-of-type {\n",
       "        vertical-align: middle;\n",
       "    }\n",
       "\n",
       "    .dataframe tbody tr th {\n",
       "        vertical-align: top;\n",
       "    }\n",
       "\n",
       "    .dataframe thead th {\n",
       "        text-align: right;\n",
       "    }\n",
       "</style>\n",
       "<table border=\"1\" class=\"dataframe\">\n",
       "  <thead>\n",
       "    <tr style=\"text-align: right;\">\n",
       "      <th></th>\n",
       "      <th>seq</th>\n",
       "      <th>event_info</th>\n",
       "      <th>views</th>\n",
       "      <th>event_type</th>\n",
       "      <th>lang_seq</th>\n",
       "      <th>query_embs</th>\n",
       "      <th>item_id</th>\n",
       "      <th>title</th>\n",
       "      <th>domain_id</th>\n",
       "    </tr>\n",
       "  </thead>\n",
       "  <tbody>\n",
       "  </tbody>\n",
       "</table>\n",
       "</div>"
      ],
      "text/plain": [
       "Empty DataFrame\n",
       "Columns: [seq, event_info, views, event_type, lang_seq, query_embs, item_id, title, domain_id]\n",
       "Index: []"
      ]
     },
     "execution_count": 58,
     "metadata": {},
     "output_type": "execute_result"
    }
   ],
   "source": [
    "pd.merge(train_test[(train_test.seq == a_seq) & ~(train_test.event_type == 'search')], item_data_desc, how = 'left', left_on = 'event_info', right_on = 'item_id')"
   ]
  },
  {
   "cell_type": "markdown",
   "metadata": {},
   "source": [
    "_____"
   ]
  },
  {
   "cell_type": "markdown",
   "metadata": {},
   "source": [
    "## dataprep for search rows - spacy tests"
   ]
  },
  {
   "cell_type": "markdown",
   "metadata": {},
   "source": [
    "#### error with spaCy & Dask\n",
    "```OSError: [E050] Can't find model 'pt_core_news_md.vectors'.\n",
    "It doesn't seem to be a shortcut link, a Python package or a valid path to a data directory.```"
   ]
  },
  {
   "cell_type": "code",
   "execution_count": 30,
   "metadata": {},
   "outputs": [],
   "source": [
    "# import dask.dataframe as dd\n",
    "# from dask.distributed import Client\n",
    "# client = Client()\n",
    "# client\n",
    "\n",
    "# item_data_unique_dd = dd.from_pandas(item_data_unique, npartitions = 4)\n",
    "\n",
    "# @delayed\n",
    "# def add_spacy(df_p):\n",
    "#     df = df_p.copy()\n",
    "#     # df['port_nlp'] = df.title_lower.apply(lambda x: port_nlp(x))\n",
    "#     df['port_nlp'] = df.title_lower.apply(port_nlp)\n",
    "#     return df\n",
    "\n",
    "# item_data_unique_nlp = list()\n",
    "# for df_p in np.array_split(item_data_unique, n_workers):\n",
    "#     item_data_unique_nlp.append(add_spacy(df_p))\n",
    "\n",
    "# item_data_unique_nlp = compute(*item_data_unique_nlp)\n",
    "# # OSError: [E050] Can't find model 'pt_core_news_md.vectors'. \n",
    "# #     It doesn't seem to be a shortcut link, a Python package or a valid path to a data directory."
   ]
  },
  {
   "cell_type": "code",
   "execution_count": 1,
   "metadata": {},
   "outputs": [],
   "source": [
    "import spacy"
   ]
  },
  {
   "cell_type": "code",
   "execution_count": 2,
   "metadata": {},
   "outputs": [],
   "source": [
    "port = spacy.load('pt_core_news_md')"
   ]
  },
  {
   "cell_type": "code",
   "execution_count": 3,
   "metadata": {},
   "outputs": [],
   "source": [
    "query_original = port('PNEU LEVORIN AZONIC ARO 18 275 DIANTEIRO')\n",
    "query_lower    = port('PNEU LEVORIN AZONIC ARO 18 275 DIANTEIRO'.lower())"
   ]
  },
  {
   "cell_type": "code",
   "execution_count": 4,
   "metadata": {},
   "outputs": [],
   "source": [
    "item_original = port('Pneu Para Moto Levorin Azonic Dianteiro Tl 2,75 18')\n",
    "item_lower    = port('Pneu Para Moto Levorin Azonic Dianteiro Tl 2,75 18'.lower())"
   ]
  },
  {
   "cell_type": "code",
   "execution_count": 5,
   "metadata": {},
   "outputs": [
    {
     "name": "stdout",
     "output_type": "stream",
     "text": [
      "0.623769216929041\n",
      "0.55457467490276\n",
      "0.7138354773981356\n",
      "0.7602650326179264\n"
     ]
    }
   ],
   "source": [
    "print(query_original.similarity(item_original))\n",
    "print(query_original.similarity(item_lower))\n",
    "print(query_lower.similarity(item_original))\n",
    "print(query_lower.similarity(item_lower))  # <--- highest similarity"
   ]
  },
  {
   "cell_type": "code",
   "execution_count": 130,
   "metadata": {},
   "outputs": [
    {
     "data": {
      "text/plain": [
       "str"
      ]
     },
     "execution_count": 130,
     "metadata": {},
     "output_type": "execute_result"
    }
   ],
   "source": [
    "type(query_lower.text)"
   ]
  },
  {
   "cell_type": "code",
   "execution_count": 135,
   "metadata": {},
   "outputs": [
    {
     "name": "stdout",
     "output_type": "stream",
     "text": [
      "pneu <class 'spacy.tokens.token.Token'> pneu <class 'str'>\n",
      "levorin <class 'spacy.tokens.token.Token'> levorin <class 'str'>\n",
      "azonic <class 'spacy.tokens.token.Token'> azonic <class 'str'>\n",
      "aro <class 'spacy.tokens.token.Token'> aro <class 'str'>\n",
      "18 <class 'spacy.tokens.token.Token'> 18 <class 'str'>\n",
      "275 <class 'spacy.tokens.token.Token'> 275 <class 'str'>\n",
      "dianteiro <class 'spacy.tokens.token.Token'> dianteiro <class 'str'>\n"
     ]
    }
   ],
   "source": [
    "for t in query_lower:\n",
    "    print(t, type(t), t.text, type(t.text))"
   ]
  },
  {
   "cell_type": "code",
   "execution_count": 136,
   "metadata": {},
   "outputs": [],
   "source": [
    "train['query'] = train.event_info\n",
    "train.loc[~(train.event_type == 'search'), 'query'] = np.nan\n",
    "train['query'] = train['query'].fillna('').str.lower()"
   ]
  },
  {
   "cell_type": "code",
   "execution_count": 137,
   "metadata": {},
   "outputs": [],
   "source": [
    "def find_oov(s):\n",
    "    s_spacy = port(s)\n",
    "    return [t.text for t in s_spacy if t.is_oov]"
   ]
  },
  {
   "cell_type": "code",
   "execution_count": 139,
   "metadata": {},
   "outputs": [],
   "source": [
    "train_search = train.loc[train.event_type == 'search', ['seq', 'query']].copy()\n",
    "train_search_drop_dup = train_search.drop_duplicates(subset = 'query')"
   ]
  },
  {
   "cell_type": "code",
   "execution_count": 140,
   "metadata": {},
   "outputs": [
    {
     "name": "stderr",
     "output_type": "stream",
     "text": [
      "100%|██████████| 847496/847496 [1:37:52<00:00, 144.33it/s] \n",
      "/Users/hitoshinagano/.virtualenvs/tensorflow2/lib/python3.7/site-packages/ipykernel_launcher.py:1: SettingWithCopyWarning: \n",
      "A value is trying to be set on a copy of a slice from a DataFrame.\n",
      "Try using .loc[row_indexer,col_indexer] = value instead\n",
      "\n",
      "See the caveats in the documentation: https://pandas.pydata.org/pandas-docs/stable/user_guide/indexing.html#returning-a-view-versus-a-copy\n",
      "  \"\"\"Entry point for launching an IPython kernel.\n"
     ]
    }
   ],
   "source": [
    "train_search_drop_dup['entities'] = train_search_drop_dup['query'].progress_apply(find_oov)"
   ]
  },
  {
   "cell_type": "code",
   "execution_count": 141,
   "metadata": {},
   "outputs": [],
   "source": [
    "train = pd.merge(train, train_search_drop_dup, on = 'query', how = 'left')"
   ]
  },
  {
   "cell_type": "code",
   "execution_count": 142,
   "metadata": {},
   "outputs": [],
   "source": [
    "train.rename(columns = {'seq_x': 'seq'}, inplace = True)\n",
    "train.drop(columns = 'seq_y', inplace = True)"
   ]
  },
  {
   "cell_type": "code",
   "execution_count": 143,
   "metadata": {},
   "outputs": [],
   "source": [
    "train.sort_values(['seq', 'event_timestamp'], inplace = True)"
   ]
  },
  {
   "cell_type": "code",
   "execution_count": 164,
   "metadata": {},
   "outputs": [
    {
     "data": {
      "text/html": [
       "<div>\n",
       "<style scoped>\n",
       "    .dataframe tbody tr th:only-of-type {\n",
       "        vertical-align: middle;\n",
       "    }\n",
       "\n",
       "    .dataframe tbody tr th {\n",
       "        vertical-align: top;\n",
       "    }\n",
       "\n",
       "    .dataframe thead th {\n",
       "        text-align: right;\n",
       "    }\n",
       "</style>\n",
       "<table border=\"1\" class=\"dataframe\">\n",
       "  <thead>\n",
       "    <tr style=\"text-align: right;\">\n",
       "      <th></th>\n",
       "      <th>seq</th>\n",
       "      <th>item_bought</th>\n",
       "      <th>event_info</th>\n",
       "      <th>event_timestamp</th>\n",
       "      <th>event_type</th>\n",
       "      <th>time_diff</th>\n",
       "      <th>query</th>\n",
       "      <th>entities</th>\n",
       "    </tr>\n",
       "  </thead>\n",
       "  <tbody>\n",
       "    <tr>\n",
       "      <th>6839163</th>\n",
       "      <td>6994</td>\n",
       "      <td>NaN</td>\n",
       "      <td>984787</td>\n",
       "      <td>2019-10-12 18:54:21</td>\n",
       "      <td>view</td>\n",
       "      <td>25.0</td>\n",
       "      <td></td>\n",
       "      <td>NaN</td>\n",
       "    </tr>\n",
       "    <tr>\n",
       "      <th>11963835</th>\n",
       "      <td>98101</td>\n",
       "      <td>NaN</td>\n",
       "      <td>364310</td>\n",
       "      <td>2019-09-28 21:16:31</td>\n",
       "      <td>view</td>\n",
       "      <td>10.0</td>\n",
       "      <td></td>\n",
       "      <td>NaN</td>\n",
       "    </tr>\n",
       "    <tr>\n",
       "      <th>1424896</th>\n",
       "      <td>138466</td>\n",
       "      <td>NaN</td>\n",
       "      <td>LAMPADA LED HONDA CIVIC 99</td>\n",
       "      <td>2019-10-21 10:18:59</td>\n",
       "      <td>search</td>\n",
       "      <td>288.0</td>\n",
       "      <td>lampada led honda civic 99</td>\n",
       "      <td>[]</td>\n",
       "    </tr>\n",
       "    <tr>\n",
       "      <th>1828935</th>\n",
       "      <td>387228</td>\n",
       "      <td>NaN</td>\n",
       "      <td>1799758</td>\n",
       "      <td>2019-10-03 01:27:39</td>\n",
       "      <td>view</td>\n",
       "      <td>49.0</td>\n",
       "      <td></td>\n",
       "      <td>NaN</td>\n",
       "    </tr>\n",
       "    <tr>\n",
       "      <th>2032760</th>\n",
       "      <td>154670</td>\n",
       "      <td>NaN</td>\n",
       "      <td>243848</td>\n",
       "      <td>2019-10-15 18:20:03</td>\n",
       "      <td>view</td>\n",
       "      <td>14.0</td>\n",
       "      <td></td>\n",
       "      <td>NaN</td>\n",
       "    </tr>\n",
       "    <tr>\n",
       "      <th>6697734</th>\n",
       "      <td>257356</td>\n",
       "      <td>NaN</td>\n",
       "      <td>CORTA VENTO MERCEDES</td>\n",
       "      <td>2019-10-03 20:25:03</td>\n",
       "      <td>search</td>\n",
       "      <td>6.0</td>\n",
       "      <td>corta vento mercedes</td>\n",
       "      <td>[]</td>\n",
       "    </tr>\n",
       "    <tr>\n",
       "      <th>244324</th>\n",
       "      <td>155814</td>\n",
       "      <td>1278790.0</td>\n",
       "      <td>NaN</td>\n",
       "      <td>NaT</td>\n",
       "      <td>NaN</td>\n",
       "      <td>NaN</td>\n",
       "      <td></td>\n",
       "      <td>NaN</td>\n",
       "    </tr>\n",
       "    <tr>\n",
       "      <th>4728092</th>\n",
       "      <td>213232</td>\n",
       "      <td>NaN</td>\n",
       "      <td>PULA PIRATA</td>\n",
       "      <td>2019-10-03 15:53:31</td>\n",
       "      <td>search</td>\n",
       "      <td>7.0</td>\n",
       "      <td>pula pirata</td>\n",
       "      <td>[]</td>\n",
       "    </tr>\n",
       "    <tr>\n",
       "      <th>3481274</th>\n",
       "      <td>152042</td>\n",
       "      <td>NaN</td>\n",
       "      <td>CHUTEIRA CRIANCA 27 28</td>\n",
       "      <td>2019-10-03 16:30:14</td>\n",
       "      <td>search</td>\n",
       "      <td>7.0</td>\n",
       "      <td>chuteira crianca 27 28</td>\n",
       "      <td>[]</td>\n",
       "    </tr>\n",
       "    <tr>\n",
       "      <th>158968</th>\n",
       "      <td>238608</td>\n",
       "      <td>NaN</td>\n",
       "      <td>RELOJ CASIO</td>\n",
       "      <td>2019-10-18 15:46:15</td>\n",
       "      <td>search</td>\n",
       "      <td>NaN</td>\n",
       "      <td>reloj casio</td>\n",
       "      <td>[]</td>\n",
       "    </tr>\n",
       "  </tbody>\n",
       "</table>\n",
       "</div>"
      ],
      "text/plain": [
       "             seq  item_bought                  event_info     event_timestamp  \\\n",
       "6839163     6994          NaN                      984787 2019-10-12 18:54:21   \n",
       "11963835   98101          NaN                      364310 2019-09-28 21:16:31   \n",
       "1424896   138466          NaN  LAMPADA LED HONDA CIVIC 99 2019-10-21 10:18:59   \n",
       "1828935   387228          NaN                     1799758 2019-10-03 01:27:39   \n",
       "2032760   154670          NaN                      243848 2019-10-15 18:20:03   \n",
       "6697734   257356          NaN        CORTA VENTO MERCEDES 2019-10-03 20:25:03   \n",
       "244324    155814    1278790.0                         NaN                 NaT   \n",
       "4728092   213232          NaN                 PULA PIRATA 2019-10-03 15:53:31   \n",
       "3481274   152042          NaN      CHUTEIRA CRIANCA 27 28 2019-10-03 16:30:14   \n",
       "158968    238608          NaN                 RELOJ CASIO 2019-10-18 15:46:15   \n",
       "\n",
       "         event_type  time_diff                       query entities  \n",
       "6839163        view       25.0                                  NaN  \n",
       "11963835       view       10.0                                  NaN  \n",
       "1424896      search      288.0  lampada led honda civic 99       []  \n",
       "1828935        view       49.0                                  NaN  \n",
       "2032760        view       14.0                                  NaN  \n",
       "6697734      search        6.0        corta vento mercedes       []  \n",
       "244324          NaN        NaN                                  NaN  \n",
       "4728092      search        7.0                 pula pirata       []  \n",
       "3481274      search        7.0      chuteira crianca 27 28       []  \n",
       "158968       search        NaN                 reloj casio       []  "
      ]
     },
     "execution_count": 164,
     "metadata": {},
     "output_type": "execute_result"
    }
   ],
   "source": [
    "train.sample(10)"
   ]
  },
  {
   "cell_type": "code",
   "execution_count": 156,
   "metadata": {},
   "outputs": [],
   "source": [
    "# train_fn = 'train_for_nlp.pkl'\n",
    "# train_fp = os.path.join(interim_data_dir, train_fn)\n",
    "# train.to_pickle(train_fp)"
   ]
  },
  {
   "cell_type": "markdown",
   "metadata": {},
   "source": [
    "___"
   ]
  },
  {
   "cell_type": "code",
   "execution_count": 172,
   "metadata": {},
   "outputs": [],
   "source": [
    "# train = pd.read_pickle(train_fp)"
   ]
  },
  {
   "cell_type": "code",
   "execution_count": 168,
   "metadata": {},
   "outputs": [
    {
     "data": {
      "text/html": [
       "<div>\n",
       "<style scoped>\n",
       "    .dataframe tbody tr th:only-of-type {\n",
       "        vertical-align: middle;\n",
       "    }\n",
       "\n",
       "    .dataframe tbody tr th {\n",
       "        vertical-align: top;\n",
       "    }\n",
       "\n",
       "    .dataframe thead th {\n",
       "        text-align: right;\n",
       "    }\n",
       "</style>\n",
       "<table border=\"1\" class=\"dataframe\">\n",
       "  <thead>\n",
       "    <tr style=\"text-align: right;\">\n",
       "      <th></th>\n",
       "      <th>item_id</th>\n",
       "      <th>title</th>\n",
       "      <th>domain_id</th>\n",
       "      <th>product_id</th>\n",
       "      <th>price</th>\n",
       "      <th>category_id</th>\n",
       "      <th>condition</th>\n",
       "    </tr>\n",
       "  </thead>\n",
       "  <tbody>\n",
       "    <tr>\n",
       "      <th>0</th>\n",
       "      <td>111260</td>\n",
       "      <td>Casa Sola En Venta Con Gran Patio Solo Pago De...</td>\n",
       "      <td>MLM-INDIVIDUAL_HOUSES_FOR_SALE</td>\n",
       "      <td>NaN</td>\n",
       "      <td>1150000.00</td>\n",
       "      <td>MLM170527</td>\n",
       "      <td>new</td>\n",
       "    </tr>\n",
       "    <tr>\n",
       "      <th>1</th>\n",
       "      <td>871377</td>\n",
       "      <td>Resident Evil Origins Collection Nintendo Swit...</td>\n",
       "      <td>MLM-VIDEO_GAMES</td>\n",
       "      <td>15270800.0</td>\n",
       "      <td>1392.83</td>\n",
       "      <td>MLM151595</td>\n",
       "      <td>new</td>\n",
       "    </tr>\n",
       "    <tr>\n",
       "      <th>2</th>\n",
       "      <td>490232</td>\n",
       "      <td>Falda De Imitación Piel Negra</td>\n",
       "      <td>MLM-SKIRTS</td>\n",
       "      <td>NaN</td>\n",
       "      <td>350.00</td>\n",
       "      <td>MLM7697</td>\n",
       "      <td>new</td>\n",
       "    </tr>\n",
       "    <tr>\n",
       "      <th>3</th>\n",
       "      <td>1150706</td>\n",
       "      <td>Powercolor Red Devil Radeon Rx 580 8gb Gddr5</td>\n",
       "      <td>MLM-GRAPHICS_CARDS</td>\n",
       "      <td>NaN</td>\n",
       "      <td>3200.00</td>\n",
       "      <td>MLM9761</td>\n",
       "      <td>used</td>\n",
       "    </tr>\n",
       "    <tr>\n",
       "      <th>4</th>\n",
       "      <td>934912</td>\n",
       "      <td>Laptop Hp Nx6320 Core Duo Con Puerto Db9 Windo...</td>\n",
       "      <td>MLM-NOTEBOOKS</td>\n",
       "      <td>NaN</td>\n",
       "      <td>1599.00</td>\n",
       "      <td>MLM1652</td>\n",
       "      <td>used</td>\n",
       "    </tr>\n",
       "  </tbody>\n",
       "</table>\n",
       "</div>"
      ],
      "text/plain": [
       "   item_id                                              title  \\\n",
       "0   111260  Casa Sola En Venta Con Gran Patio Solo Pago De...   \n",
       "1   871377  Resident Evil Origins Collection Nintendo Swit...   \n",
       "2   490232                      Falda De Imitación Piel Negra   \n",
       "3  1150706       Powercolor Red Devil Radeon Rx 580 8gb Gddr5   \n",
       "4   934912  Laptop Hp Nx6320 Core Duo Con Puerto Db9 Windo...   \n",
       "\n",
       "                        domain_id  product_id       price category_id  \\\n",
       "0  MLM-INDIVIDUAL_HOUSES_FOR_SALE         NaN  1150000.00   MLM170527   \n",
       "1                 MLM-VIDEO_GAMES  15270800.0     1392.83   MLM151595   \n",
       "2                      MLM-SKIRTS         NaN      350.00     MLM7697   \n",
       "3              MLM-GRAPHICS_CARDS         NaN     3200.00     MLM9761   \n",
       "4                   MLM-NOTEBOOKS         NaN     1599.00     MLM1652   \n",
       "\n",
       "  condition  \n",
       "0       new  \n",
       "1       new  \n",
       "2       new  \n",
       "3      used  \n",
       "4      used  "
      ]
     },
     "execution_count": 168,
     "metadata": {},
     "output_type": "execute_result"
    }
   ],
   "source": [
    "item_data.head()"
   ]
  },
  {
   "cell_type": "code",
   "execution_count": 173,
   "metadata": {},
   "outputs": [],
   "source": [
    "train = pd.merge(train, item_data[['item_id', 'domain_id']], left_on = 'item_bought', right_on = 'item_id', how = 'left')"
   ]
  },
  {
   "cell_type": "code",
   "execution_count": 175,
   "metadata": {},
   "outputs": [],
   "source": [
    "train['country'] = train.domain_id.str[:3]"
   ]
  },
  {
   "cell_type": "code",
   "execution_count": 177,
   "metadata": {},
   "outputs": [],
   "source": [
    "views_sel = train.event_type == 'view'"
   ]
  },
  {
   "cell_type": "code",
   "execution_count": 176,
   "metadata": {},
   "outputs": [
    {
     "data": {
      "text/html": [
       "<div>\n",
       "<style scoped>\n",
       "    .dataframe tbody tr th:only-of-type {\n",
       "        vertical-align: middle;\n",
       "    }\n",
       "\n",
       "    .dataframe tbody tr th {\n",
       "        vertical-align: top;\n",
       "    }\n",
       "\n",
       "    .dataframe thead th {\n",
       "        text-align: right;\n",
       "    }\n",
       "</style>\n",
       "<table border=\"1\" class=\"dataframe\">\n",
       "  <thead>\n",
       "    <tr style=\"text-align: right;\">\n",
       "      <th></th>\n",
       "      <th>seq</th>\n",
       "      <th>item_bought</th>\n",
       "      <th>event_info</th>\n",
       "      <th>event_timestamp</th>\n",
       "      <th>event_type</th>\n",
       "      <th>time_diff</th>\n",
       "      <th>query</th>\n",
       "      <th>entities</th>\n",
       "      <th>item_id</th>\n",
       "      <th>domain_id</th>\n",
       "      <th>country</th>\n",
       "    </tr>\n",
       "  </thead>\n",
       "  <tbody>\n",
       "    <tr>\n",
       "      <th>0</th>\n",
       "      <td>0</td>\n",
       "      <td>NaN</td>\n",
       "      <td>1786148</td>\n",
       "      <td>2019-10-19 11:25:42</td>\n",
       "      <td>view</td>\n",
       "      <td>NaN</td>\n",
       "      <td></td>\n",
       "      <td>NaN</td>\n",
       "      <td>NaN</td>\n",
       "      <td>NaN</td>\n",
       "      <td>NaN</td>\n",
       "    </tr>\n",
       "    <tr>\n",
       "      <th>1</th>\n",
       "      <td>0</td>\n",
       "      <td>NaN</td>\n",
       "      <td>1786148</td>\n",
       "      <td>2019-10-19 11:25:57</td>\n",
       "      <td>view</td>\n",
       "      <td>15.0</td>\n",
       "      <td></td>\n",
       "      <td>NaN</td>\n",
       "      <td>NaN</td>\n",
       "      <td>NaN</td>\n",
       "      <td>NaN</td>\n",
       "    </tr>\n",
       "    <tr>\n",
       "      <th>2</th>\n",
       "      <td>0</td>\n",
       "      <td>NaN</td>\n",
       "      <td>RELOGIO SMARTWATCH</td>\n",
       "      <td>2019-10-19 11:26:07</td>\n",
       "      <td>search</td>\n",
       "      <td>10.0</td>\n",
       "      <td>relogio smartwatch</td>\n",
       "      <td>[]</td>\n",
       "      <td>NaN</td>\n",
       "      <td>NaN</td>\n",
       "      <td>NaN</td>\n",
       "    </tr>\n",
       "    <tr>\n",
       "      <th>3</th>\n",
       "      <td>0</td>\n",
       "      <td>NaN</td>\n",
       "      <td>1615991</td>\n",
       "      <td>2019-10-19 11:27:26</td>\n",
       "      <td>view</td>\n",
       "      <td>79.0</td>\n",
       "      <td></td>\n",
       "      <td>NaN</td>\n",
       "      <td>NaN</td>\n",
       "      <td>NaN</td>\n",
       "      <td>NaN</td>\n",
       "    </tr>\n",
       "    <tr>\n",
       "      <th>4</th>\n",
       "      <td>0</td>\n",
       "      <td>NaN</td>\n",
       "      <td>1615991</td>\n",
       "      <td>2019-10-19 11:28:36</td>\n",
       "      <td>view</td>\n",
       "      <td>70.0</td>\n",
       "      <td></td>\n",
       "      <td>NaN</td>\n",
       "      <td>NaN</td>\n",
       "      <td>NaN</td>\n",
       "      <td>NaN</td>\n",
       "    </tr>\n",
       "    <tr>\n",
       "      <th>...</th>\n",
       "      <td>...</td>\n",
       "      <td>...</td>\n",
       "      <td>...</td>\n",
       "      <td>...</td>\n",
       "      <td>...</td>\n",
       "      <td>...</td>\n",
       "      <td>...</td>\n",
       "      <td>...</td>\n",
       "      <td>...</td>\n",
       "      <td>...</td>\n",
       "      <td>...</td>\n",
       "    </tr>\n",
       "    <tr>\n",
       "      <th>12412324</th>\n",
       "      <td>413162</td>\n",
       "      <td>NaN</td>\n",
       "      <td>792798</td>\n",
       "      <td>2019-10-07 10:49:32</td>\n",
       "      <td>view</td>\n",
       "      <td>8076.0</td>\n",
       "      <td></td>\n",
       "      <td>NaN</td>\n",
       "      <td>NaN</td>\n",
       "      <td>NaN</td>\n",
       "      <td>NaN</td>\n",
       "    </tr>\n",
       "    <tr>\n",
       "      <th>12412325</th>\n",
       "      <td>413162</td>\n",
       "      <td>NaN</td>\n",
       "      <td>258196</td>\n",
       "      <td>2019-10-07 10:52:21</td>\n",
       "      <td>view</td>\n",
       "      <td>169.0</td>\n",
       "      <td></td>\n",
       "      <td>NaN</td>\n",
       "      <td>NaN</td>\n",
       "      <td>NaN</td>\n",
       "      <td>NaN</td>\n",
       "    </tr>\n",
       "    <tr>\n",
       "      <th>12412326</th>\n",
       "      <td>413162</td>\n",
       "      <td>NaN</td>\n",
       "      <td>12716</td>\n",
       "      <td>2019-10-07 10:53:07</td>\n",
       "      <td>view</td>\n",
       "      <td>46.0</td>\n",
       "      <td></td>\n",
       "      <td>NaN</td>\n",
       "      <td>NaN</td>\n",
       "      <td>NaN</td>\n",
       "      <td>NaN</td>\n",
       "    </tr>\n",
       "    <tr>\n",
       "      <th>12412327</th>\n",
       "      <td>413162</td>\n",
       "      <td>NaN</td>\n",
       "      <td>258196</td>\n",
       "      <td>2019-10-07 10:55:32</td>\n",
       "      <td>view</td>\n",
       "      <td>145.0</td>\n",
       "      <td></td>\n",
       "      <td>NaN</td>\n",
       "      <td>NaN</td>\n",
       "      <td>NaN</td>\n",
       "      <td>NaN</td>\n",
       "    </tr>\n",
       "    <tr>\n",
       "      <th>12412328</th>\n",
       "      <td>413162</td>\n",
       "      <td>1212472.0</td>\n",
       "      <td>NaN</td>\n",
       "      <td>NaT</td>\n",
       "      <td>NaN</td>\n",
       "      <td>NaN</td>\n",
       "      <td></td>\n",
       "      <td>NaN</td>\n",
       "      <td>1212472.0</td>\n",
       "      <td>MLB-SKIN_CARE_SUPPLIES</td>\n",
       "      <td>MLB</td>\n",
       "    </tr>\n",
       "  </tbody>\n",
       "</table>\n",
       "<p>12412329 rows × 11 columns</p>\n",
       "</div>"
      ],
      "text/plain": [
       "             seq  item_bought          event_info     event_timestamp  \\\n",
       "0              0          NaN             1786148 2019-10-19 11:25:42   \n",
       "1              0          NaN             1786148 2019-10-19 11:25:57   \n",
       "2              0          NaN  RELOGIO SMARTWATCH 2019-10-19 11:26:07   \n",
       "3              0          NaN             1615991 2019-10-19 11:27:26   \n",
       "4              0          NaN             1615991 2019-10-19 11:28:36   \n",
       "...          ...          ...                 ...                 ...   \n",
       "12412324  413162          NaN              792798 2019-10-07 10:49:32   \n",
       "12412325  413162          NaN              258196 2019-10-07 10:52:21   \n",
       "12412326  413162          NaN               12716 2019-10-07 10:53:07   \n",
       "12412327  413162          NaN              258196 2019-10-07 10:55:32   \n",
       "12412328  413162    1212472.0                 NaN                 NaT   \n",
       "\n",
       "         event_type  time_diff               query entities    item_id  \\\n",
       "0              view        NaN                          NaN        NaN   \n",
       "1              view       15.0                          NaN        NaN   \n",
       "2            search       10.0  relogio smartwatch       []        NaN   \n",
       "3              view       79.0                          NaN        NaN   \n",
       "4              view       70.0                          NaN        NaN   \n",
       "...             ...        ...                 ...      ...        ...   \n",
       "12412324       view     8076.0                          NaN        NaN   \n",
       "12412325       view      169.0                          NaN        NaN   \n",
       "12412326       view       46.0                          NaN        NaN   \n",
       "12412327       view      145.0                          NaN        NaN   \n",
       "12412328        NaN        NaN                          NaN  1212472.0   \n",
       "\n",
       "                       domain_id country  \n",
       "0                            NaN     NaN  \n",
       "1                            NaN     NaN  \n",
       "2                            NaN     NaN  \n",
       "3                            NaN     NaN  \n",
       "4                            NaN     NaN  \n",
       "...                          ...     ...  \n",
       "12412324                     NaN     NaN  \n",
       "12412325                     NaN     NaN  \n",
       "12412326                     NaN     NaN  \n",
       "12412327                     NaN     NaN  \n",
       "12412328  MLB-SKIN_CARE_SUPPLIES     MLB  \n",
       "\n",
       "[12412329 rows x 11 columns]"
      ]
     },
     "execution_count": 176,
     "metadata": {},
     "output_type": "execute_result"
    }
   ],
   "source": [
    "train = train[~views_sel].copy() # searches & buys only"
   ]
  },
  {
   "cell_type": "code",
   "execution_count": null,
   "metadata": {},
   "outputs": [],
   "source": []
  },
  {
   "cell_type": "code",
   "execution_count": null,
   "metadata": {},
   "outputs": [],
   "source": []
  }
 ],
 "metadata": {
  "kernelspec": {
   "display_name": "Python 3",
   "language": "python",
   "name": "python3"
  },
  "language_info": {
   "codemirror_mode": {
    "name": "ipython",
    "version": 3
   },
   "file_extension": ".py",
   "mimetype": "text/x-python",
   "name": "python",
   "nbconvert_exporter": "python",
   "pygments_lexer": "ipython3",
   "version": "3.9.0"
  }
 },
 "nbformat": 4,
 "nbformat_minor": 4
}
