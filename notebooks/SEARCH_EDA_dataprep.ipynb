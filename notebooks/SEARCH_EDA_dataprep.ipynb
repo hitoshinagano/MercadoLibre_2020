{
 "cells": [
  {
   "cell_type": "markdown",
   "metadata": {},
   "source": [
    "# EDA - DATAPREP - Search"
   ]
  },
  {
   "cell_type": "markdown",
   "metadata": {},
   "source": [
    "## autoreload"
   ]
  },
  {
   "cell_type": "code",
   "execution_count": 1,
   "metadata": {},
   "outputs": [],
   "source": [
    "%load_ext autoreload\n",
    "%autoreload 2"
   ]
  },
  {
   "cell_type": "markdown",
   "metadata": {},
   "source": [
    "## dir setup"
   ]
  },
  {
   "cell_type": "code",
   "execution_count": 2,
   "metadata": {},
   "outputs": [
    {
     "data": {
      "text/plain": [
       "True"
      ]
     },
     "execution_count": 2,
     "metadata": {},
     "output_type": "execute_result"
    }
   ],
   "source": [
    "from dotenv import load_dotenv, find_dotenv\n",
    "import os\n",
    "\n",
    "this_file_path = os.path.dirname(os.path.abspath(\"__file__\"))\n",
    "# if script (not notebook)...\n",
    "# project_dir = os.path.join(os.path.dirname(__file__), os.pardir)\n",
    "\n",
    "# project directory\n",
    "project_dir = os.path.join(this_file_path, os.pardir)\n",
    "\n",
    "# find .env automagically by walking up directories until it's found\n",
    "dotenv_path = find_dotenv()\n",
    "\n",
    "# load up the entries as environment variables\n",
    "load_dotenv(dotenv_path)"
   ]
  },
  {
   "cell_type": "code",
   "execution_count": 3,
   "metadata": {},
   "outputs": [],
   "source": [
    "raw_data_dir = os.path.join(project_dir, os.environ.get(\"RAW_DATA_DIR\"))\n",
    "processed_data_dir = os.path.join(project_dir, os.environ.get(\"PROCESSED_DATA_DIR\"))\n",
    "interim_data_dir = os.path.join(project_dir, os.environ.get(\"INTERIM_DATA_DIR\"))\n",
    "wordvecs_data_dir = os.path.join(project_dir, os.environ.get(\"WORDVECS_DATA_DIR\"))\n",
    "figures_dir = os.path.join(project_dir, os.environ.get(\"FIGURES_DIR\"))\n",
    "reports_dir = os.path.join(project_dir, os.environ.get(\"REPORTS_DIR\"))\n",
    "cv_dir = os.path.join(project_dir, os.environ.get(\"CV_DIR\"))\n",
    "models_dir = os.path.join(project_dir, os.environ.get(\"MODELS_DIR\"))"
   ]
  },
  {
   "cell_type": "code",
   "execution_count": 4,
   "metadata": {},
   "outputs": [],
   "source": [
    "TEST_OFFSET = int(os.environ.get(\"TEST_OFFSET\"))\n",
    "TOTAL_TEST_SEQS = int(os.environ.get(\"TOTAL_TEST_SEQS\"))"
   ]
  },
  {
   "cell_type": "markdown",
   "metadata": {},
   "source": [
    "## imports"
   ]
  },
  {
   "cell_type": "code",
   "execution_count": 5,
   "metadata": {},
   "outputs": [],
   "source": [
    "import numpy as np\n",
    "from datetime import datetime"
   ]
  },
  {
   "cell_type": "code",
   "execution_count": 6,
   "metadata": {},
   "outputs": [],
   "source": [
    "import pandas as pd\n",
    "pd.set_option('max_rows', 100)\n",
    "# pd.set_option('max_columns', None)\n",
    "# pd.options.mode.chained_assignment = None  # default='warn'"
   ]
  },
  {
   "cell_type": "code",
   "execution_count": 7,
   "metadata": {},
   "outputs": [
    {
     "name": "stderr",
     "output_type": "stream",
     "text": [
      "/Users/hitoshinagano/.virtualenvs/tensorflow2/lib/python3.7/site-packages/tqdm/std.py:668: FutureWarning: The Panel class is removed from pandas. Accessing it from the top-level namespace will also be removed in the next version\n",
      "  from pandas import Panel\n"
     ]
    }
   ],
   "source": [
    "from tqdm import tqdm\n",
    "tqdm.pandas()"
   ]
  },
  {
   "cell_type": "code",
   "execution_count": 8,
   "metadata": {},
   "outputs": [],
   "source": [
    "# from sklearn.model_selection import ParameterGrid\n",
    "\n",
    "# import mlflow\n",
    "\n",
    "# import pickle\n",
    "\n",
    "# import seaborn as sns\n",
    "# import matplotlib.pyplot as plt"
   ]
  },
  {
   "cell_type": "code",
   "execution_count": 9,
   "metadata": {},
   "outputs": [],
   "source": [
    "import spacy\n",
    "\n",
    "w2v_mode = 'cbow'\n",
    "\n",
    "# port_nlp_fn = 'nilc50skip'\n",
    "port_nlp_fn = 'ptcustom100' + w2v_mode\n",
    "port_nlp_fp = os.path.join(wordvecs_data_dir, port_nlp_fn) \n",
    "port_nlp = spacy.load(port_nlp_fp)\n",
    "\n",
    "# espa_nlp_fn = 'suc30fast'\n",
    "espa_nlp_fn = 'escustom100' + w2v_mode\n",
    "espa_nlp_fp = os.path.join(wordvecs_data_dir, espa_nlp_fn) \n",
    "espa_nlp = spacy.load(espa_nlp_fp)"
   ]
  },
  {
   "cell_type": "markdown",
   "metadata": {},
   "source": [
    "## project imports"
   ]
  },
  {
   "cell_type": "code",
   "execution_count": 10,
   "metadata": {},
   "outputs": [],
   "source": [
    "import sys\n",
    "sys.path.insert(0, '..')"
   ]
  },
  {
   "cell_type": "code",
   "execution_count": 11,
   "metadata": {},
   "outputs": [],
   "source": [
    "from src.features import *\n",
    "from src.models import *"
   ]
  },
  {
   "cell_type": "markdown",
   "metadata": {},
   "source": [
    "# train/test search data dataprep for search info"
   ]
  },
  {
   "cell_type": "code",
   "execution_count": 12,
   "metadata": {},
   "outputs": [
    {
     "name": "stdout",
     "output_type": "stream",
     "text": [
      "lang both\n"
     ]
    }
   ],
   "source": [
    "test_offset, test_shifted_seq_vals, train_test = join_prepare_train_test('train_dataset.pkl', \n",
    "                                                                         'test_dataset.pkl', \n",
    "                                                                         buy_weight = -1, \n",
    "                                                                         return_search = True, \n",
    "                                                                         drop_timezone = True,\n",
    "                                                                         drop_lang = False,\n",
    "                                                                         lang = 'both')"
   ]
  },
  {
   "cell_type": "markdown",
   "metadata": {},
   "source": [
    "#### identifying language for each seq\n",
    "based on the browsed items and their domain MLB or MLM. <br>\n",
    "this part was moved inside join_prepare_train_test via arg lang (drop_lang must be False)"
   ]
  },
  {
   "cell_type": "code",
   "execution_count": 13,
   "metadata": {},
   "outputs": [
    {
     "data": {
      "text/html": [
       "<div>\n",
       "<style scoped>\n",
       "    .dataframe tbody tr th:only-of-type {\n",
       "        vertical-align: middle;\n",
       "    }\n",
       "\n",
       "    .dataframe tbody tr th {\n",
       "        vertical-align: top;\n",
       "    }\n",
       "\n",
       "    .dataframe thead th {\n",
       "        text-align: right;\n",
       "    }\n",
       "</style>\n",
       "<table border=\"1\" class=\"dataframe\">\n",
       "  <thead>\n",
       "    <tr style=\"text-align: right;\">\n",
       "      <th></th>\n",
       "      <th>seq</th>\n",
       "      <th>event_info</th>\n",
       "      <th>views</th>\n",
       "      <th>event_type</th>\n",
       "      <th>lang_seq</th>\n",
       "      <th>in_nav</th>\n",
       "      <th>in_nav_pred</th>\n",
       "    </tr>\n",
       "  </thead>\n",
       "  <tbody>\n",
       "    <tr>\n",
       "      <th>0</th>\n",
       "      <td>0</td>\n",
       "      <td>1.61599e+06</td>\n",
       "      <td>16.0</td>\n",
       "      <td>view</td>\n",
       "      <td>NaN</td>\n",
       "      <td>NaN</td>\n",
       "      <td>NaN</td>\n",
       "    </tr>\n",
       "    <tr>\n",
       "      <th>1</th>\n",
       "      <td>0</td>\n",
       "      <td>1.78615e+06</td>\n",
       "      <td>2.0</td>\n",
       "      <td>view</td>\n",
       "      <td>NaN</td>\n",
       "      <td>NaN</td>\n",
       "      <td>NaN</td>\n",
       "    </tr>\n",
       "    <tr>\n",
       "      <th>1924622</th>\n",
       "      <td>0</td>\n",
       "      <td>RELOGIO SMARTWATCH</td>\n",
       "      <td>NaN</td>\n",
       "      <td>search</td>\n",
       "      <td>pt</td>\n",
       "      <td>False</td>\n",
       "      <td>0.655061</td>\n",
       "    </tr>\n",
       "    <tr>\n",
       "      <th>1924639</th>\n",
       "      <td>0</td>\n",
       "      <td>1.74883e+06</td>\n",
       "      <td>-1.0</td>\n",
       "      <td>buy</td>\n",
       "      <td>pt</td>\n",
       "      <td>False</td>\n",
       "      <td>0.655061</td>\n",
       "    </tr>\n",
       "    <tr>\n",
       "      <th>2</th>\n",
       "      <td>1</td>\n",
       "      <td>206667</td>\n",
       "      <td>1.0</td>\n",
       "      <td>view</td>\n",
       "      <td>NaN</td>\n",
       "      <td>NaN</td>\n",
       "      <td>NaN</td>\n",
       "    </tr>\n",
       "    <tr>\n",
       "      <th>...</th>\n",
       "      <td>...</td>\n",
       "      <td>...</td>\n",
       "      <td>...</td>\n",
       "      <td>...</td>\n",
       "      <td>...</td>\n",
       "      <td>...</td>\n",
       "      <td>...</td>\n",
       "    </tr>\n",
       "    <tr>\n",
       "      <th>4603664</th>\n",
       "      <td>590232</td>\n",
       "      <td>NUTELLA 650</td>\n",
       "      <td>NaN</td>\n",
       "      <td>search</td>\n",
       "      <td>pt</td>\n",
       "      <td>NaN</td>\n",
       "      <td>NaN</td>\n",
       "    </tr>\n",
       "    <tr>\n",
       "      <th>4603666</th>\n",
       "      <td>590232</td>\n",
       "      <td>NUTELLA 650</td>\n",
       "      <td>NaN</td>\n",
       "      <td>search</td>\n",
       "      <td>pt</td>\n",
       "      <td>NaN</td>\n",
       "      <td>NaN</td>\n",
       "    </tr>\n",
       "    <tr>\n",
       "      <th>4603668</th>\n",
       "      <td>590232</td>\n",
       "      <td>NUTELLA 650</td>\n",
       "      <td>NaN</td>\n",
       "      <td>search</td>\n",
       "      <td>pt</td>\n",
       "      <td>NaN</td>\n",
       "      <td>NaN</td>\n",
       "    </tr>\n",
       "    <tr>\n",
       "      <th>4603669</th>\n",
       "      <td>590232</td>\n",
       "      <td>XIAOMI MI 9 128GB PRETO</td>\n",
       "      <td>NaN</td>\n",
       "      <td>search</td>\n",
       "      <td>pt</td>\n",
       "      <td>NaN</td>\n",
       "      <td>NaN</td>\n",
       "    </tr>\n",
       "    <tr>\n",
       "      <th>4603670</th>\n",
       "      <td>590232</td>\n",
       "      <td>XIAOMI MI 9 128GB PRETO</td>\n",
       "      <td>NaN</td>\n",
       "      <td>search</td>\n",
       "      <td>pt</td>\n",
       "      <td>NaN</td>\n",
       "      <td>NaN</td>\n",
       "    </tr>\n",
       "  </tbody>\n",
       "</table>\n",
       "<p>13915241 rows × 7 columns</p>\n",
       "</div>"
      ],
      "text/plain": [
       "            seq               event_info  views event_type lang_seq in_nav  \\\n",
       "0             0              1.61599e+06   16.0       view      NaN    NaN   \n",
       "1             0              1.78615e+06    2.0       view      NaN    NaN   \n",
       "1924622       0       RELOGIO SMARTWATCH    NaN     search       pt  False   \n",
       "1924639       0              1.74883e+06   -1.0        buy       pt  False   \n",
       "2             1                   206667    1.0       view      NaN    NaN   \n",
       "...         ...                      ...    ...        ...      ...    ...   \n",
       "4603664  590232              NUTELLA 650    NaN     search       pt    NaN   \n",
       "4603666  590232              NUTELLA 650    NaN     search       pt    NaN   \n",
       "4603668  590232              NUTELLA 650    NaN     search       pt    NaN   \n",
       "4603669  590232  XIAOMI MI 9 128GB PRETO    NaN     search       pt    NaN   \n",
       "4603670  590232  XIAOMI MI 9 128GB PRETO    NaN     search       pt    NaN   \n",
       "\n",
       "         in_nav_pred  \n",
       "0                NaN  \n",
       "1                NaN  \n",
       "1924622     0.655061  \n",
       "1924639     0.655061  \n",
       "2                NaN  \n",
       "...              ...  \n",
       "4603664          NaN  \n",
       "4603666          NaN  \n",
       "4603668          NaN  \n",
       "4603669          NaN  \n",
       "4603670          NaN  \n",
       "\n",
       "[13915241 rows x 7 columns]"
      ]
     },
     "execution_count": 13,
     "metadata": {},
     "output_type": "execute_result"
    }
   ],
   "source": [
    "train_test"
   ]
  },
  {
   "cell_type": "markdown",
   "metadata": {},
   "source": [
    "#### few seq's with no views. imputing with 'pt' (could run langdetect)\n",
    "approximately 6.4% of the seq's do not have views. check with <br>\n",
    "`train_test.groupby('seq').event_type.value_counts().unstack()['view'].isnull().value_counts(normalize = True)`"
   ]
  },
  {
   "cell_type": "code",
   "execution_count": 14,
   "metadata": {},
   "outputs": [],
   "source": [
    "train_test.loc[train_test.lang_seq.isnull(), 'lang_seq'] = 'pt'"
   ]
  },
  {
   "cell_type": "markdown",
   "metadata": {},
   "source": [
    "#### embeddings for searches"
   ]
  },
  {
   "cell_type": "code",
   "execution_count": 15,
   "metadata": {},
   "outputs": [],
   "source": [
    "searches = train_test[train_test.event_type == 'search'].drop_duplicates(\n",
    "    subset = ['event_info', 'lang_seq'])\n",
    "searches = searches[['seq', 'event_info', 'lang_seq']]\n",
    "searches['query_lower'] = searches.event_info.str.lower()"
   ]
  },
  {
   "cell_type": "code",
   "execution_count": 16,
   "metadata": {},
   "outputs": [],
   "source": [
    "def emb_vectors(x):\n",
    "    if x.lang_seq == 'pt':\n",
    "        v = port_nlp(x.query_lower) \n",
    "    else:\n",
    "        v = espa_nlp(x.query_lower)\n",
    "        \n",
    "    v_vector = v.vector\n",
    "    vector_norm = v.vector_norm\n",
    "    if vector_norm == 0:\n",
    "        return np.zeros(v_vector.shape, dtype = np.float16)\n",
    "    else:\n",
    "        return (v_vector / vector_norm).astype(np.float16)"
   ]
  },
  {
   "cell_type": "code",
   "execution_count": 17,
   "metadata": {},
   "outputs": [
    {
     "name": "stderr",
     "output_type": "stream",
     "text": [
      "100%|██████████| 1172171/1172171 [02:02<00:00, 9564.70it/s] \n"
     ]
    }
   ],
   "source": [
    "searches['query_embs'] = searches[['query_lower', 'lang_seq']].progress_apply(emb_vectors, axis = 1)"
   ]
  },
  {
   "cell_type": "code",
   "execution_count": 18,
   "metadata": {},
   "outputs": [
    {
     "data": {
      "text/html": [
       "<div>\n",
       "<style scoped>\n",
       "    .dataframe tbody tr th:only-of-type {\n",
       "        vertical-align: middle;\n",
       "    }\n",
       "\n",
       "    .dataframe tbody tr th {\n",
       "        vertical-align: top;\n",
       "    }\n",
       "\n",
       "    .dataframe thead th {\n",
       "        text-align: right;\n",
       "    }\n",
       "</style>\n",
       "<table border=\"1\" class=\"dataframe\">\n",
       "  <thead>\n",
       "    <tr style=\"text-align: right;\">\n",
       "      <th></th>\n",
       "      <th>event_info</th>\n",
       "      <th>lang_seq</th>\n",
       "      <th>query_embs</th>\n",
       "    </tr>\n",
       "  </thead>\n",
       "  <tbody>\n",
       "    <tr>\n",
       "      <th>11810800</th>\n",
       "      <td>ADESIVO WAY UNO 2008</td>\n",
       "      <td>pt</td>\n",
       "      <td>[-0.05783, 0.05054, -0.1365, 0.08826, -0.272, ...</td>\n",
       "    </tr>\n",
       "    <tr>\n",
       "      <th>4260619</th>\n",
       "      <td>PRA FAZER MOTO GOL G3 16V</td>\n",
       "      <td>pt</td>\n",
       "      <td>[0.0738, -0.03876, -0.007526, 0.226, -0.2112, ...</td>\n",
       "    </tr>\n",
       "    <tr>\n",
       "      <th>898138</th>\n",
       "      <td>MINHAS COMPRAS EFETUADAS</td>\n",
       "      <td>pt</td>\n",
       "      <td>[-0.0909, -0.00916, 0.03128, -0.08417, 0.1196,...</td>\n",
       "    </tr>\n",
       "    <tr>\n",
       "      <th>6574283</th>\n",
       "      <td>TOALHA INFANTIL BANHO</td>\n",
       "      <td>pt</td>\n",
       "      <td>[-0.005383, -0.06354, 0.1407, 0.0726, -0.044, ...</td>\n",
       "    </tr>\n",
       "    <tr>\n",
       "      <th>2962493</th>\n",
       "      <td>TABLETA GRAFICA GUION 13</td>\n",
       "      <td>es</td>\n",
       "      <td>[0.007904, 0.0036, 0.03656, 0.1051, -0.1426, -...</td>\n",
       "    </tr>\n",
       "    <tr>\n",
       "      <th>320990</th>\n",
       "      <td>BLOCO VIDRO AZUL</td>\n",
       "      <td>pt</td>\n",
       "      <td>[0.11487, -0.1158, -0.12317, -0.0768, -0.1707,...</td>\n",
       "    </tr>\n",
       "    <tr>\n",
       "      <th>2734895</th>\n",
       "      <td>MOTO G7 PLAY 2019 DISPLAY</td>\n",
       "      <td>pt</td>\n",
       "      <td>[0.04657, 0.0658, -0.06335, 0.2058, 0.04657, -...</td>\n",
       "    </tr>\n",
       "    <tr>\n",
       "      <th>3804925</th>\n",
       "      <td>PROLONG</td>\n",
       "      <td>pt</td>\n",
       "      <td>[-0.1428, -0.01182, -0.03403, 0.121, 0.11395, ...</td>\n",
       "    </tr>\n",
       "    <tr>\n",
       "      <th>10354587</th>\n",
       "      <td>JOGO RODAS FERRO GOL 13 POLEGADAS</td>\n",
       "      <td>pt</td>\n",
       "      <td>[0.0963, -0.1302, 0.06744, 0.1726, -0.2644, 0....</td>\n",
       "    </tr>\n",
       "    <tr>\n",
       "      <th>9998875</th>\n",
       "      <td>APARELHO DVD 220V</td>\n",
       "      <td>pt</td>\n",
       "      <td>[0.1202, -0.1287, -0.09174, -0.05002, -0.00309...</td>\n",
       "    </tr>\n",
       "    <tr>\n",
       "      <th>2114121</th>\n",
       "      <td>PATINETE ES113</td>\n",
       "      <td>pt</td>\n",
       "      <td>[-0.02467, 0.1937, -0.0191, 0.2269, -0.02277, ...</td>\n",
       "    </tr>\n",
       "    <tr>\n",
       "      <th>620095</th>\n",
       "      <td>CEL NOKIA X71</td>\n",
       "      <td>pt</td>\n",
       "      <td>[-0.0549, 0.1619, -0.02313, -0.05826, 0.04453,...</td>\n",
       "    </tr>\n",
       "    <tr>\n",
       "      <th>4799437</th>\n",
       "      <td>MARCHA JETTA 91 AUTOMATICO</td>\n",
       "      <td>es</td>\n",
       "      <td>[0.01955, -0.08167, 0.00794, -0.0953, 0.11957,...</td>\n",
       "    </tr>\n",
       "    <tr>\n",
       "      <th>4700271</th>\n",
       "      <td>CORTADOR FOLHAS</td>\n",
       "      <td>pt</td>\n",
       "      <td>[0.0439, -0.05093, 0.02399, -0.064, 0.000499, ...</td>\n",
       "    </tr>\n",
       "    <tr>\n",
       "      <th>5994329</th>\n",
       "      <td>PORTA RETRATO NAMORADOS</td>\n",
       "      <td>pt</td>\n",
       "      <td>[0.07227, -0.0689, -0.2041, -0.1482, 0.1149, 0...</td>\n",
       "    </tr>\n",
       "    <tr>\n",
       "      <th>3507480</th>\n",
       "      <td>MELHORES CUBO FAN 125 TRASEIRO</td>\n",
       "      <td>pt</td>\n",
       "      <td>[0.04788, -0.00758, -0.07776, 0.006783, -0.276...</td>\n",
       "    </tr>\n",
       "    <tr>\n",
       "      <th>10040763</th>\n",
       "      <td>TENIS SOCIETY SINTETICO</td>\n",
       "      <td>pt</td>\n",
       "      <td>[0.0843, 0.01249, 0.04297, 0.06775, -0.0851, -...</td>\n",
       "    </tr>\n",
       "    <tr>\n",
       "      <th>3740248</th>\n",
       "      <td>BALOES LETRA 40 CM</td>\n",
       "      <td>pt</td>\n",
       "      <td>[0.242, -0.0764, -0.0563, 0.09796, -0.0989, 0....</td>\n",
       "    </tr>\n",
       "    <tr>\n",
       "      <th>11484355</th>\n",
       "      <td>CINTA ANTICALORICA CELULARES</td>\n",
       "      <td>es</td>\n",
       "      <td>[-0.0982, -0.0301, 0.05148, 0.02635, 0.03134, ...</td>\n",
       "    </tr>\n",
       "    <tr>\n",
       "      <th>2229119</th>\n",
       "      <td>RODA ESTRELA FAN 125</td>\n",
       "      <td>pt</td>\n",
       "      <td>[-0.00726, -0.04642, 0.10834, 0.0366, -0.1923,...</td>\n",
       "    </tr>\n",
       "  </tbody>\n",
       "</table>\n",
       "</div>"
      ],
      "text/plain": [
       "                                 event_info lang_seq  \\\n",
       "11810800               ADESIVO WAY UNO 2008       pt   \n",
       "4260619           PRA FAZER MOTO GOL G3 16V       pt   \n",
       "898138             MINHAS COMPRAS EFETUADAS       pt   \n",
       "6574283               TOALHA INFANTIL BANHO       pt   \n",
       "2962493            TABLETA GRAFICA GUION 13       es   \n",
       "320990                     BLOCO VIDRO AZUL       pt   \n",
       "2734895           MOTO G7 PLAY 2019 DISPLAY       pt   \n",
       "3804925                             PROLONG       pt   \n",
       "10354587  JOGO RODAS FERRO GOL 13 POLEGADAS       pt   \n",
       "9998875                   APARELHO DVD 220V       pt   \n",
       "2114121                      PATINETE ES113       pt   \n",
       "620095                        CEL NOKIA X71       pt   \n",
       "4799437          MARCHA JETTA 91 AUTOMATICO       es   \n",
       "4700271                     CORTADOR FOLHAS       pt   \n",
       "5994329             PORTA RETRATO NAMORADOS       pt   \n",
       "3507480      MELHORES CUBO FAN 125 TRASEIRO       pt   \n",
       "10040763            TENIS SOCIETY SINTETICO       pt   \n",
       "3740248                  BALOES LETRA 40 CM       pt   \n",
       "11484355       CINTA ANTICALORICA CELULARES       es   \n",
       "2229119                RODA ESTRELA FAN 125       pt   \n",
       "\n",
       "                                                 query_embs  \n",
       "11810800  [-0.05783, 0.05054, -0.1365, 0.08826, -0.272, ...  \n",
       "4260619   [0.0738, -0.03876, -0.007526, 0.226, -0.2112, ...  \n",
       "898138    [-0.0909, -0.00916, 0.03128, -0.08417, 0.1196,...  \n",
       "6574283   [-0.005383, -0.06354, 0.1407, 0.0726, -0.044, ...  \n",
       "2962493   [0.007904, 0.0036, 0.03656, 0.1051, -0.1426, -...  \n",
       "320990    [0.11487, -0.1158, -0.12317, -0.0768, -0.1707,...  \n",
       "2734895   [0.04657, 0.0658, -0.06335, 0.2058, 0.04657, -...  \n",
       "3804925   [-0.1428, -0.01182, -0.03403, 0.121, 0.11395, ...  \n",
       "10354587  [0.0963, -0.1302, 0.06744, 0.1726, -0.2644, 0....  \n",
       "9998875   [0.1202, -0.1287, -0.09174, -0.05002, -0.00309...  \n",
       "2114121   [-0.02467, 0.1937, -0.0191, 0.2269, -0.02277, ...  \n",
       "620095    [-0.0549, 0.1619, -0.02313, -0.05826, 0.04453,...  \n",
       "4799437   [0.01955, -0.08167, 0.00794, -0.0953, 0.11957,...  \n",
       "4700271   [0.0439, -0.05093, 0.02399, -0.064, 0.000499, ...  \n",
       "5994329   [0.07227, -0.0689, -0.2041, -0.1482, 0.1149, 0...  \n",
       "3507480   [0.04788, -0.00758, -0.07776, 0.006783, -0.276...  \n",
       "10040763  [0.0843, 0.01249, 0.04297, 0.06775, -0.0851, -...  \n",
       "3740248   [0.242, -0.0764, -0.0563, 0.09796, -0.0989, 0....  \n",
       "11484355  [-0.0982, -0.0301, 0.05148, 0.02635, 0.03134, ...  \n",
       "2229119   [-0.00726, -0.04642, 0.10834, 0.0366, -0.1923,...  "
      ]
     },
     "execution_count": 18,
     "metadata": {},
     "output_type": "execute_result"
    }
   ],
   "source": [
    "searches[['event_info', 'lang_seq', 'query_embs']].sample(20)"
   ]
  },
  {
   "cell_type": "code",
   "execution_count": 19,
   "metadata": {},
   "outputs": [],
   "source": [
    "train_test = pd.merge(train_test, searches[['event_info', 'lang_seq', 'query_embs']], how = 'left')"
   ]
  },
  {
   "cell_type": "markdown",
   "metadata": {},
   "source": [
    "#### saving augmented train_test with search embeddings"
   ]
  },
  {
   "cell_type": "code",
   "execution_count": 20,
   "metadata": {},
   "outputs": [],
   "source": [
    "train_test_embs_fn = 'train_test_embs_custom_' + w2v_mode + '.pkl'\n",
    "train_test_embs_fp = os.path.join(interim_data_dir, train_test_embs_fn)\n",
    "train_test.to_pickle(train_test_embs_fp)"
   ]
  },
  {
   "cell_type": "markdown",
   "metadata": {},
   "source": [
    "## 👆 search dataprep above. finishes here"
   ]
  }
 ],
 "metadata": {
  "kernelspec": {
   "display_name": "Python 3",
   "language": "python",
   "name": "python3"
  },
  "language_info": {
   "codemirror_mode": {
    "name": "ipython",
    "version": 3
   },
   "file_extension": ".py",
   "mimetype": "text/x-python",
   "name": "python",
   "nbconvert_exporter": "python",
   "pygments_lexer": "ipython3",
   "version": "3.7.6"
  }
 },
 "nbformat": 4,
 "nbformat_minor": 4
}
