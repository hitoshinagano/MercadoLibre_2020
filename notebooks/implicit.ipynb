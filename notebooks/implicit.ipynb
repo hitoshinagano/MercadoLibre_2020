{
 "cells": [
  {
   "cell_type": "markdown",
   "metadata": {},
   "source": [
    "# prediction with implicit"
   ]
  },
  {
   "cell_type": "markdown",
   "metadata": {},
   "source": [
    "## autoreload"
   ]
  },
  {
   "cell_type": "code",
   "execution_count": 1,
   "metadata": {},
   "outputs": [],
   "source": [
    "%load_ext autoreload\n",
    "%autoreload 2"
   ]
  },
  {
   "cell_type": "markdown",
   "metadata": {},
   "source": [
    "## dir setup"
   ]
  },
  {
   "cell_type": "code",
   "execution_count": 95,
   "metadata": {},
   "outputs": [
    {
     "data": {
      "text/plain": [
       "True"
      ]
     },
     "execution_count": 95,
     "metadata": {},
     "output_type": "execute_result"
    }
   ],
   "source": [
    "from dotenv import load_dotenv, find_dotenv\n",
    "import os\n",
    "\n",
    "this_file_path = os.path.dirname(os.path.abspath(\"__file__\"))\n",
    "# if script (not notebook)...\n",
    "# project_dir = os.path.join(os.path.dirname(__file__), os.pardir)\n",
    "\n",
    "# project directory\n",
    "project_dir = os.path.join(this_file_path, os.pardir)\n",
    "\n",
    "# find .env automagically by walking up directories until it's found\n",
    "dotenv_path = find_dotenv()\n",
    "\n",
    "# load up the entries as environment variables\n",
    "load_dotenv(dotenv_path)"
   ]
  },
  {
   "cell_type": "code",
   "execution_count": 99,
   "metadata": {},
   "outputs": [],
   "source": [
    "raw_data_dir = os.path.join(project_dir, os.environ.get(\"RAW_DATA_DIR\"))\n",
    "processed_data_dir = os.path.join(project_dir, os.environ.get(\"PROCESSED_DATA_DIR\"))\n",
    "figures_dir = os.path.join(project_dir, os.environ.get(\"FIGURES_DIR\"))\n",
    "reports_dir = os.path.join(project_dir, os.environ.get(\"REPORTS_DIR\"))\n",
    "cv_dir = os.path.join(project_dir, os.environ.get(\"CV_DIR\"))"
   ]
  },
  {
   "cell_type": "markdown",
   "metadata": {},
   "source": [
    "## imports"
   ]
  },
  {
   "cell_type": "code",
   "execution_count": 4,
   "metadata": {},
   "outputs": [],
   "source": [
    "import numpy as np\n",
    "from datetime import datetime"
   ]
  },
  {
   "cell_type": "code",
   "execution_count": 5,
   "metadata": {},
   "outputs": [],
   "source": [
    "import pandas as pd\n",
    "# pd.set_option('max_rows', None)\n",
    "# pd.set_option('max_columns', None)\n",
    "# pd.options.mode.chained_assignment = None  # default='warn'"
   ]
  },
  {
   "cell_type": "code",
   "execution_count": 6,
   "metadata": {},
   "outputs": [
    {
     "name": "stderr",
     "output_type": "stream",
     "text": [
      "/Users/hitoshinagano/.virtualenvs/tensorflow2/lib/python3.7/site-packages/tqdm/std.py:668: FutureWarning: The Panel class is removed from pandas. Accessing it from the top-level namespace will also be removed in the next version\n",
      "  from pandas import Panel\n"
     ]
    }
   ],
   "source": [
    "from tqdm import tqdm\n",
    "tqdm.pandas()"
   ]
  },
  {
   "cell_type": "code",
   "execution_count": 7,
   "metadata": {},
   "outputs": [],
   "source": [
    "import scipy.sparse as sparse\n",
    "import implicit"
   ]
  },
  {
   "cell_type": "code",
   "execution_count": 8,
   "metadata": {},
   "outputs": [],
   "source": [
    "from sklearn.metrics import ndcg_score"
   ]
  },
  {
   "cell_type": "code",
   "execution_count": 33,
   "metadata": {},
   "outputs": [],
   "source": [
    "from sklearn.model_selection import ParameterGrid"
   ]
  },
  {
   "cell_type": "code",
   "execution_count": 30,
   "metadata": {},
   "outputs": [],
   "source": [
    "import mlflow"
   ]
  },
  {
   "cell_type": "markdown",
   "metadata": {},
   "source": [
    "## project imports"
   ]
  },
  {
   "cell_type": "code",
   "execution_count": 9,
   "metadata": {},
   "outputs": [],
   "source": [
    "import sys\n",
    "sys.path.insert(0, '..')"
   ]
  },
  {
   "cell_type": "code",
   "execution_count": 54,
   "metadata": {},
   "outputs": [],
   "source": [
    "from src.features import *\n",
    "from src.models import *"
   ]
  },
  {
   "cell_type": "markdown",
   "metadata": {},
   "source": [
    "* remove buy events: no additional relevance attributed to buy\n",
    "* remove event timestamp: no additional relevance attributed to recency\n",
    "* remove search events: no additional relevance attributed to search\n",
    "* aggregates counts - higher relevance attributed to more views"
   ]
  },
  {
   "cell_type": "code",
   "execution_count": 118,
   "metadata": {},
   "outputs": [],
   "source": [
    "train_fn = 'train_dataset.pkl'\n",
    "test_fn = 'test_dataset.pkl'\n",
    "train, test = read_processed(train_fn, test_fn)"
   ]
  },
  {
   "cell_type": "code",
   "execution_count": 119,
   "metadata": {},
   "outputs": [],
   "source": [
    "true_fn = 'true.pkl'\n",
    "true_fp = os.path.join(processed_data_dir, true_fn)\n",
    "true_df = pd.read_pickle(true_fp)\n",
    "\n",
    "item_data_fn = 'item_data.jl.gz'\n",
    "item_data = pd.read_json(os.path.join(raw_data_dir, item_data_fn), lines=True)\n",
    "item_domain = item_data[['item_id', 'domain_id']]"
   ]
  },
  {
   "cell_type": "code",
   "execution_count": 120,
   "metadata": {},
   "outputs": [
    {
     "name": "stdout",
     "output_type": "stream",
     "text": [
      "train shape: (12412329, 6)\n",
      "train/test shapes: (3968821, 6) (968708, 5)\n"
     ]
    }
   ],
   "source": [
    "# validation = 0.2 # 0.2: 20% of original train will be test\n",
    "# keep_train = 0.6  # 0.6: 60% of train for validation\n",
    "\n",
    "# validation = 0.2 \n",
    "# keep_train = 0.1  \n",
    "\n",
    "validation = 0.2 \n",
    "keep_train = 0.4 \n",
    "\n",
    "if validation:\n",
    "    train_red, test_red = shrink_and_split(train, keep_train = keep_train, validation = validation)"
   ]
  },
  {
   "cell_type": "code",
   "execution_count": 131,
   "metadata": {},
   "outputs": [
    {
     "data": {
      "text/plain": [
       "{'buy_weight': [100, 200],\n",
       " 'regularization': [0.01],\n",
       " 'iterations': [15],\n",
       " 'factors': [128, 256],\n",
       " 'alpha_val': [200]}"
      ]
     },
     "execution_count": 131,
     "metadata": {},
     "output_type": "execute_result"
    }
   ],
   "source": [
    "# grid = dict(buy_weight = [50, 100, 200],\n",
    "#             regularization = [0.01, 0.03, 0.1, 0.3],\n",
    "#             iterations = [10, 15, 20],\n",
    "#             factors = [32, 64, 128],\n",
    "#             alpha_val = [50, 100, 200])\n",
    "\n",
    "grid = dict(buy_weight = [100, 200],\n",
    "            regularization = [0.01],\n",
    "            iterations = [15],\n",
    "            factors = [128, 256],\n",
    "            alpha_val = [200])\n",
    "\n",
    "grid"
   ]
  },
  {
   "cell_type": "code",
   "execution_count": 132,
   "metadata": {},
   "outputs": [
    {
     "data": {
      "text/plain": [
       "60"
      ]
     },
     "execution_count": 132,
     "metadata": {},
     "output_type": "execute_result"
    }
   ],
   "source": [
    "len(list(ParameterGrid(grid))) * 15"
   ]
  },
  {
   "cell_type": "code",
   "execution_count": null,
   "metadata": {},
   "outputs": [
    {
     "name": "stdout",
     "output_type": "stream",
     "text": [
      "{'alpha_val': 200, 'buy_weight': 100, 'factors': 128, 'iterations': 15, 'regularization': 0.01}\n",
      "MLflow:\n",
      "  run_id: 317995a213dc48d1ab82257b4d25a94e\n",
      "  experiment_id: 2\n"
     ]
    },
    {
     "data": {
      "application/vnd.jupyter.widget-view+json": {
       "model_id": "5984147ffeb74692b2023f3ffd9698b2",
       "version_major": 2,
       "version_minor": 0
      },
      "text/plain": [
       "HBox(children=(FloatProgress(value=0.0, max=15.0), HTML(value='')))"
      ]
     },
     "metadata": {},
     "output_type": "display_data"
    },
    {
     "name": "stderr",
     "output_type": "stream",
     "text": [
      "  0%|          | 0/30909 [00:00<?, ?it/s]"
     ]
    },
    {
     "name": "stdout",
     "output_type": "stream",
     "text": [
      "\n"
     ]
    },
    {
     "name": "stderr",
     "output_type": "stream",
     "text": [
      "100%|██████████| 30909/30909 [16:41<00:00, 30.86it/s]\n"
     ]
    },
    {
     "name": "stdout",
     "output_type": "stream",
     "text": [
      "mean ndcg: 0.38966928505298243\n",
      "ndcg > 0: 0.4890808502377948\n",
      "{'alpha_val': 200, 'buy_weight': 100, 'factors': 256, 'iterations': 15, 'regularization': 0.01}\n",
      "MLflow:\n",
      "  run_id: ef72e8ef53b74dbe989c7efbbbd3ec50\n",
      "  experiment_id: 2\n"
     ]
    },
    {
     "data": {
      "application/vnd.jupyter.widget-view+json": {
       "model_id": "a577d56ad9104ca986c1ec4fa18b6174",
       "version_major": 2,
       "version_minor": 0
      },
      "text/plain": [
       "HBox(children=(FloatProgress(value=0.0, max=15.0), HTML(value='')))"
      ]
     },
     "metadata": {},
     "output_type": "display_data"
    },
    {
     "name": "stdout",
     "output_type": "stream",
     "text": [
      "\n"
     ]
    },
    {
     "name": "stderr",
     "output_type": "stream",
     "text": [
      "100%|██████████| 30909/30909 [26:45<00:00, 19.25it/s]\n"
     ]
    },
    {
     "name": "stdout",
     "output_type": "stream",
     "text": [
      "mean ndcg: 0.4002695315670321\n",
      "ndcg > 0: 0.5062279594939985\n",
      "{'alpha_val': 200, 'buy_weight': 200, 'factors': 128, 'iterations': 15, 'regularization': 0.01}\n",
      "MLflow:\n",
      "  run_id: 43632b9ea2be49d7afdfcf9dfd05d3ce\n",
      "  experiment_id: 2\n"
     ]
    },
    {
     "data": {
      "application/vnd.jupyter.widget-view+json": {
       "model_id": "3344bb299731482ca66758612872a58e",
       "version_major": 2,
       "version_minor": 0
      },
      "text/plain": [
       "HBox(children=(FloatProgress(value=0.0, max=15.0), HTML(value='')))"
      ]
     },
     "metadata": {},
     "output_type": "display_data"
    }
   ],
   "source": [
    "mlflow.set_experiment('test 0')\n",
    "\n",
    "for param in ParameterGrid(grid):\n",
    "    print(param)\n",
    "    with mlflow.start_run() as run:\n",
    "        print(\"MLflow:\")\n",
    "        print(\"  run_id:\",run.info.run_id)\n",
    "        print(\"  experiment_id:\",run.info.experiment_id)\n",
    "        \n",
    "        test_offset, test_shifted_seq_vals, train_test = join_prepare_train_test(train, test, **param)\n",
    "        model, seq_map, event_info_map, sparse_user_item = fit_implicit_model(train_test, **param)\n",
    "        pred = predict_implicit_model(model, sparse_user_item, \n",
    "                                      seq_map, event_info_map, test_shifted_seq_vals, \n",
    "                                      10, test_offset, \n",
    "                                      validation = True, true_df = true_df, item_domain = item_domain)\n",
    "        \n",
    "        mlflow.log_param('val_keep', {'v': validation, 'k': keep_train})\n",
    "        # mlflow.log_param('keep_train', keep_train)\n",
    "        \n",
    "        pred_fn = 'pred__' + '__'.join([k + '_' + str(v) for k, v in param.items()]) + '.csv'\n",
    "        pred_fp = os.path.join(cv_dir, pred_fn)\n",
    "        pred.to_csv(pred_fp)\n",
    "        \n",
    "        mlflow.log_params(param)\n",
    "        mlflow.log_artifact(pred_fp)\n",
    "        \n",
    "        mean_ndcg = pred.ndcg.mean()\n",
    "        ndcg_larger_than_zero = (pred.ndcg > 0).mean()\n",
    "        \n",
    "        print('mean ndcg:', mean_ndcg)\n",
    "        print('ndcg > 0:', ndcg_larger_than_zero)\n",
    "        \n",
    "        mlflow.log_metric('mean_ndcg', mean_ndcg)\n",
    "        mlflow.log_metric('ndcg_gt_0', ndcg_larger_than_zero)\n"
   ]
  },
  {
   "cell_type": "code",
   "execution_count": null,
   "metadata": {},
   "outputs": [],
   "source": []
  },
  {
   "cell_type": "code",
   "execution_count": 56,
   "metadata": {},
   "outputs": [],
   "source": [
    "pred.drop('top_score', axis = 1, inplace = True)"
   ]
  },
  {
   "cell_type": "code",
   "execution_count": 53,
   "metadata": {},
   "outputs": [],
   "source": [
    "unique_seqs_test = test.seq.unique().shape[0] #177070"
   ]
  },
  {
   "cell_type": "code",
   "execution_count": 54,
   "metadata": {},
   "outputs": [],
   "source": [
    "pred = pred.reindex(index = range(unique_seqs_test))"
   ]
  },
  {
   "cell_type": "code",
   "execution_count": 47,
   "metadata": {},
   "outputs": [],
   "source": [
    "top_sellers = list(train[train.event_type.isnull()].item_bought.value_counts().head(10).index.astype(int))"
   ]
  },
  {
   "cell_type": "code",
   "execution_count": 62,
   "metadata": {},
   "outputs": [],
   "source": [
    "pred[pred[0].isnull()] = top_sellers"
   ]
  },
  {
   "cell_type": "code",
   "execution_count": 69,
   "metadata": {},
   "outputs": [],
   "source": [
    "# pred_5_fn = 'pred_5_implicit.csv'\n",
    "# pred_5_fp = os.path.join(reports_dir, pred_5_fn)\n",
    "# pred.to_csv(pred_5_fp, header = None, index = None)"
   ]
  },
  {
   "cell_type": "code",
   "execution_count": null,
   "metadata": {},
   "outputs": [],
   "source": []
  },
  {
   "cell_type": "markdown",
   "metadata": {},
   "source": [
    "____"
   ]
  },
  {
   "cell_type": "code",
   "execution_count": null,
   "metadata": {},
   "outputs": [],
   "source": []
  },
  {
   "cell_type": "code",
   "execution_count": null,
   "metadata": {},
   "outputs": [],
   "source": []
  },
  {
   "cell_type": "code",
   "execution_count": null,
   "metadata": {},
   "outputs": [],
   "source": []
  },
  {
   "cell_type": "code",
   "execution_count": null,
   "metadata": {},
   "outputs": [],
   "source": []
  },
  {
   "cell_type": "markdown",
   "metadata": {},
   "source": [
    "### implicit preds & merging with baseline preds - format for submission"
   ]
  },
  {
   "cell_type": "markdown",
   "metadata": {},
   "source": [
    "* mediana dos top_score é 0.22\n",
    "* 3o. quartil em 0.602\n",
    "* utilizando implicit apenas quando o top_score é maior que 0.22 ou 0.602"
   ]
  },
  {
   "cell_type": "code",
   "execution_count": 354,
   "metadata": {},
   "outputs": [],
   "source": [
    "pred_implicit = pred[pred.top_score > 0.602]"
   ]
  },
  {
   "cell_type": "code",
   "execution_count": 355,
   "metadata": {},
   "outputs": [
    {
     "name": "stderr",
     "output_type": "stream",
     "text": [
      "/Users/hitoshinagano/.virtualenvs/tensorflow2/lib/python3.7/site-packages/pandas/core/frame.py:4169: SettingWithCopyWarning: \n",
      "A value is trying to be set on a copy of a slice from a DataFrame\n",
      "\n",
      "See the caveats in the documentation: https://pandas.pydata.org/pandas-docs/stable/user_guide/indexing.html#returning-a-view-versus-a-copy\n",
      "  errors=errors,\n"
     ]
    }
   ],
   "source": [
    "pred_implicit.drop([10, 11, 12, 13, 14, 'top_score'], axis = 1, inplace = True)\n",
    "# pred_implicit.drop('top_score', axis = 1, inplace = True)"
   ]
  },
  {
   "cell_type": "code",
   "execution_count": 373,
   "metadata": {},
   "outputs": [],
   "source": [
    "def build_base_pred(df, normalize = False, return_tall = False):\n",
    "    pred = df[df.event_type == 'view']\n",
    "    pred = pred.groupby('seq').event_info.value_counts(normalize = normalize)\n",
    "    pred.name = 'counts'\n",
    "    pred = pred.reset_index()\n",
    "    pred['rank'] = pred.groupby('seq')['counts'].transform(lambda x: range(len(x)))\n",
    "    pred = pred[pred['rank'] < 10]\n",
    "    if return_tall:\n",
    "        return pred\n",
    "    pred = pred.pivot(index = 'seq', columns = 'rank', values = 'event_info')\n",
    "    return pred"
   ]
  },
  {
   "cell_type": "code",
   "execution_count": 359,
   "metadata": {},
   "outputs": [],
   "source": [
    "pred_1 = build_base_pred(test)\n",
    "pred_1 = pred_1.drop(pred_implicit.index)"
   ]
  },
  {
   "cell_type": "code",
   "execution_count": 360,
   "metadata": {},
   "outputs": [],
   "source": [
    "pred_implicit = pd.concat([pred_implicit, pred_1])\n",
    "pred_implicit.sort_index(inplace = True)"
   ]
  },
  {
   "cell_type": "code",
   "execution_count": 362,
   "metadata": {},
   "outputs": [],
   "source": [
    "pred_implicit_list = pred_implicit.apply(list, axis = 1)\n",
    "pred_to_fill = pred[range(10)].apply(list, axis = 1)\n",
    "pred_implicit = pd.concat([pred_implicit_list, pred_to_fill], axis = 1)\n",
    "\n",
    "pred_implicit['event_info'] = pred_implicit[0] + pred_implicit[1]\n",
    "pred_implicit.drop([0, 1], axis = 1, inplace = True)\n",
    "\n",
    "pred_implicit['event_info'] = pred_implicit.event_info.apply(lambda x: pd.Series(x).dropna().drop_duplicates().to_list())\n",
    "\n",
    "pred_implicit = pred_implicit.event_info.apply(pd.Series)\n",
    "pred_implicit = pred_implicit[range(10)].astype(int)"
   ]
  },
  {
   "cell_type": "code",
   "execution_count": 363,
   "metadata": {},
   "outputs": [],
   "source": [
    "top_sellers = list(train[train.event_type.isnull()].item_bought.value_counts().head(10).index)\n",
    "\n",
    "no_views_idxs = pd.Index(range(177070)).difference(pred_implicit.index)\n",
    "no_views = pd.DataFrame([top_sellers] * len(no_views_idxs), index = no_views_idxs)\n",
    "\n",
    "pred_implicit = pd.concat([no_views, pred_implicit])\n",
    "\n",
    "pred_implicit.sort_index(inplace = True)\n",
    "\n",
    "pred_implicit = pred_implicit.astype(int)"
   ]
  },
  {
   "cell_type": "code",
   "execution_count": 365,
   "metadata": {},
   "outputs": [],
   "source": [
    "pred_4_fn = 'pred_4_implicit.csv'\n",
    "pred_4_fp = os.path.join(reports_dir, pred_4_fn)\n",
    "pred_implicit.to_csv(pred_4_fp, header = None, index = None)"
   ]
  },
  {
   "cell_type": "markdown",
   "metadata": {},
   "source": [
    "____"
   ]
  },
  {
   "cell_type": "code",
   "execution_count": 374,
   "metadata": {},
   "outputs": [],
   "source": [
    "pred_1 = build_base_pred(test, normalize = True, return_tall = True)"
   ]
  },
  {
   "cell_type": "code",
   "execution_count": 375,
   "metadata": {},
   "outputs": [
    {
     "data": {
      "text/html": [
       "<div>\n",
       "<style scoped>\n",
       "    .dataframe tbody tr th:only-of-type {\n",
       "        vertical-align: middle;\n",
       "    }\n",
       "\n",
       "    .dataframe tbody tr th {\n",
       "        vertical-align: top;\n",
       "    }\n",
       "\n",
       "    .dataframe thead th {\n",
       "        text-align: right;\n",
       "    }\n",
       "</style>\n",
       "<table border=\"1\" class=\"dataframe\">\n",
       "  <thead>\n",
       "    <tr style=\"text-align: right;\">\n",
       "      <th></th>\n",
       "      <th>seq</th>\n",
       "      <th>event_info</th>\n",
       "      <th>counts</th>\n",
       "      <th>rank</th>\n",
       "    </tr>\n",
       "  </thead>\n",
       "  <tbody>\n",
       "    <tr>\n",
       "      <th>0</th>\n",
       "      <td>0</td>\n",
       "      <td>1572239</td>\n",
       "      <td>0.818182</td>\n",
       "      <td>0.0</td>\n",
       "    </tr>\n",
       "    <tr>\n",
       "      <th>1</th>\n",
       "      <td>0</td>\n",
       "      <td>685656</td>\n",
       "      <td>0.090909</td>\n",
       "      <td>1.0</td>\n",
       "    </tr>\n",
       "    <tr>\n",
       "      <th>2</th>\n",
       "      <td>0</td>\n",
       "      <td>1194894</td>\n",
       "      <td>0.090909</td>\n",
       "      <td>2.0</td>\n",
       "    </tr>\n",
       "    <tr>\n",
       "      <th>3</th>\n",
       "      <td>1</td>\n",
       "      <td>943786</td>\n",
       "      <td>0.312500</td>\n",
       "      <td>0.0</td>\n",
       "    </tr>\n",
       "    <tr>\n",
       "      <th>4</th>\n",
       "      <td>1</td>\n",
       "      <td>831243</td>\n",
       "      <td>0.187500</td>\n",
       "      <td>1.0</td>\n",
       "    </tr>\n",
       "    <tr>\n",
       "      <th>...</th>\n",
       "      <td>...</td>\n",
       "      <td>...</td>\n",
       "      <td>...</td>\n",
       "      <td>...</td>\n",
       "    </tr>\n",
       "    <tr>\n",
       "      <th>1448559</th>\n",
       "      <td>177069</td>\n",
       "      <td>389656</td>\n",
       "      <td>0.029412</td>\n",
       "      <td>5.0</td>\n",
       "    </tr>\n",
       "    <tr>\n",
       "      <th>1448560</th>\n",
       "      <td>177069</td>\n",
       "      <td>681451</td>\n",
       "      <td>0.029412</td>\n",
       "      <td>6.0</td>\n",
       "    </tr>\n",
       "    <tr>\n",
       "      <th>1448561</th>\n",
       "      <td>177069</td>\n",
       "      <td>888769</td>\n",
       "      <td>0.029412</td>\n",
       "      <td>7.0</td>\n",
       "    </tr>\n",
       "    <tr>\n",
       "      <th>1448562</th>\n",
       "      <td>177069</td>\n",
       "      <td>987620</td>\n",
       "      <td>0.029412</td>\n",
       "      <td>8.0</td>\n",
       "    </tr>\n",
       "    <tr>\n",
       "      <th>1448563</th>\n",
       "      <td>177069</td>\n",
       "      <td>1200724</td>\n",
       "      <td>0.029412</td>\n",
       "      <td>9.0</td>\n",
       "    </tr>\n",
       "  </tbody>\n",
       "</table>\n",
       "<p>909583 rows × 4 columns</p>\n",
       "</div>"
      ],
      "text/plain": [
       "            seq  event_info    counts  rank\n",
       "0             0     1572239  0.818182   0.0\n",
       "1             0      685656  0.090909   1.0\n",
       "2             0     1194894  0.090909   2.0\n",
       "3             1      943786  0.312500   0.0\n",
       "4             1      831243  0.187500   1.0\n",
       "...         ...         ...       ...   ...\n",
       "1448559  177069      389656  0.029412   5.0\n",
       "1448560  177069      681451  0.029412   6.0\n",
       "1448561  177069      888769  0.029412   7.0\n",
       "1448562  177069      987620  0.029412   8.0\n",
       "1448563  177069     1200724  0.029412   9.0\n",
       "\n",
       "[909583 rows x 4 columns]"
      ]
     },
     "execution_count": 375,
     "metadata": {},
     "output_type": "execute_result"
    }
   ],
   "source": [
    "pred_1"
   ]
  },
  {
   "cell_type": "code",
   "execution_count": null,
   "metadata": {},
   "outputs": [],
   "source": []
  },
  {
   "cell_type": "code",
   "execution_count": null,
   "metadata": {},
   "outputs": [],
   "source": []
  },
  {
   "cell_type": "code",
   "execution_count": null,
   "metadata": {},
   "outputs": [],
   "source": []
  },
  {
   "cell_type": "markdown",
   "metadata": {},
   "source": [
    "____"
   ]
  },
  {
   "cell_type": "code",
   "execution_count": 366,
   "metadata": {},
   "outputs": [],
   "source": [
    "pred_1_fn = 'pred_1.csv'\n",
    "pred_1_fp = os.path.join(reports_dir, pred_1_fn)\n",
    "pred_1 = pd.read_csv(pred_1_fp, header = None)"
   ]
  },
  {
   "cell_type": "code",
   "execution_count": 367,
   "metadata": {},
   "outputs": [
    {
     "data": {
      "text/html": [
       "<div>\n",
       "<style scoped>\n",
       "    .dataframe tbody tr th:only-of-type {\n",
       "        vertical-align: middle;\n",
       "    }\n",
       "\n",
       "    .dataframe tbody tr th {\n",
       "        vertical-align: top;\n",
       "    }\n",
       "\n",
       "    .dataframe thead th {\n",
       "        text-align: right;\n",
       "    }\n",
       "</style>\n",
       "<table border=\"1\" class=\"dataframe\">\n",
       "  <thead>\n",
       "    <tr style=\"text-align: right;\">\n",
       "      <th></th>\n",
       "      <th>0</th>\n",
       "      <th>1</th>\n",
       "      <th>2</th>\n",
       "      <th>3</th>\n",
       "      <th>4</th>\n",
       "      <th>5</th>\n",
       "      <th>6</th>\n",
       "      <th>7</th>\n",
       "      <th>8</th>\n",
       "      <th>9</th>\n",
       "    </tr>\n",
       "  </thead>\n",
       "  <tbody>\n",
       "    <tr>\n",
       "      <th>0</th>\n",
       "      <td>1572239</td>\n",
       "      <td>685656</td>\n",
       "      <td>1194894</td>\n",
       "      <td>1194894</td>\n",
       "      <td>1194894</td>\n",
       "      <td>1194894</td>\n",
       "      <td>1194894</td>\n",
       "      <td>1194894</td>\n",
       "      <td>1194894</td>\n",
       "      <td>1194894</td>\n",
       "    </tr>\n",
       "    <tr>\n",
       "      <th>1</th>\n",
       "      <td>943786</td>\n",
       "      <td>831243</td>\n",
       "      <td>849692</td>\n",
       "      <td>48097</td>\n",
       "      <td>26324</td>\n",
       "      <td>788705</td>\n",
       "      <td>1125393</td>\n",
       "      <td>1125393</td>\n",
       "      <td>1125393</td>\n",
       "      <td>1125393</td>\n",
       "    </tr>\n",
       "    <tr>\n",
       "      <th>2</th>\n",
       "      <td>167018</td>\n",
       "      <td>283306</td>\n",
       "      <td>539599</td>\n",
       "      <td>991246</td>\n",
       "      <td>1219935</td>\n",
       "      <td>1362449</td>\n",
       "      <td>1425647</td>\n",
       "      <td>1614538</td>\n",
       "      <td>1660615</td>\n",
       "      <td>1986443</td>\n",
       "    </tr>\n",
       "    <tr>\n",
       "      <th>3</th>\n",
       "      <td>1587422</td>\n",
       "      <td>1587422</td>\n",
       "      <td>1587422</td>\n",
       "      <td>1587422</td>\n",
       "      <td>1587422</td>\n",
       "      <td>1587422</td>\n",
       "      <td>1587422</td>\n",
       "      <td>1587422</td>\n",
       "      <td>1587422</td>\n",
       "      <td>1587422</td>\n",
       "    </tr>\n",
       "    <tr>\n",
       "      <th>4</th>\n",
       "      <td>1398419</td>\n",
       "      <td>1398419</td>\n",
       "      <td>1398419</td>\n",
       "      <td>1398419</td>\n",
       "      <td>1398419</td>\n",
       "      <td>1398419</td>\n",
       "      <td>1398419</td>\n",
       "      <td>1398419</td>\n",
       "      <td>1398419</td>\n",
       "      <td>1398419</td>\n",
       "    </tr>\n",
       "    <tr>\n",
       "      <th>...</th>\n",
       "      <td>...</td>\n",
       "      <td>...</td>\n",
       "      <td>...</td>\n",
       "      <td>...</td>\n",
       "      <td>...</td>\n",
       "      <td>...</td>\n",
       "      <td>...</td>\n",
       "      <td>...</td>\n",
       "      <td>...</td>\n",
       "      <td>...</td>\n",
       "    </tr>\n",
       "    <tr>\n",
       "      <th>177065</th>\n",
       "      <td>24604</td>\n",
       "      <td>24604</td>\n",
       "      <td>24604</td>\n",
       "      <td>24604</td>\n",
       "      <td>24604</td>\n",
       "      <td>24604</td>\n",
       "      <td>24604</td>\n",
       "      <td>24604</td>\n",
       "      <td>24604</td>\n",
       "      <td>24604</td>\n",
       "    </tr>\n",
       "    <tr>\n",
       "      <th>177066</th>\n",
       "      <td>331472</td>\n",
       "      <td>524786</td>\n",
       "      <td>765481</td>\n",
       "      <td>1183025</td>\n",
       "      <td>1191685</td>\n",
       "      <td>1384867</td>\n",
       "      <td>1651522</td>\n",
       "      <td>1763050</td>\n",
       "      <td>1907343</td>\n",
       "      <td>1907343</td>\n",
       "    </tr>\n",
       "    <tr>\n",
       "      <th>177067</th>\n",
       "      <td>1061535</td>\n",
       "      <td>2033823</td>\n",
       "      <td>136713</td>\n",
       "      <td>246147</td>\n",
       "      <td>273237</td>\n",
       "      <td>1221968</td>\n",
       "      <td>1423904</td>\n",
       "      <td>2093769</td>\n",
       "      <td>2093769</td>\n",
       "      <td>2093769</td>\n",
       "    </tr>\n",
       "    <tr>\n",
       "      <th>177068</th>\n",
       "      <td>1803169</td>\n",
       "      <td>1803169</td>\n",
       "      <td>1803169</td>\n",
       "      <td>1803169</td>\n",
       "      <td>1803169</td>\n",
       "      <td>1803169</td>\n",
       "      <td>1803169</td>\n",
       "      <td>1803169</td>\n",
       "      <td>1803169</td>\n",
       "      <td>1803169</td>\n",
       "    </tr>\n",
       "    <tr>\n",
       "      <th>177069</th>\n",
       "      <td>498187</td>\n",
       "      <td>2082999</td>\n",
       "      <td>1559210</td>\n",
       "      <td>2004526</td>\n",
       "      <td>250315</td>\n",
       "      <td>389656</td>\n",
       "      <td>681451</td>\n",
       "      <td>888769</td>\n",
       "      <td>987620</td>\n",
       "      <td>1200724</td>\n",
       "    </tr>\n",
       "  </tbody>\n",
       "</table>\n",
       "<p>177070 rows × 10 columns</p>\n",
       "</div>"
      ],
      "text/plain": [
       "              0        1        2        3        4        5        6  \\\n",
       "0       1572239   685656  1194894  1194894  1194894  1194894  1194894   \n",
       "1        943786   831243   849692    48097    26324   788705  1125393   \n",
       "2        167018   283306   539599   991246  1219935  1362449  1425647   \n",
       "3       1587422  1587422  1587422  1587422  1587422  1587422  1587422   \n",
       "4       1398419  1398419  1398419  1398419  1398419  1398419  1398419   \n",
       "...         ...      ...      ...      ...      ...      ...      ...   \n",
       "177065    24604    24604    24604    24604    24604    24604    24604   \n",
       "177066   331472   524786   765481  1183025  1191685  1384867  1651522   \n",
       "177067  1061535  2033823   136713   246147   273237  1221968  1423904   \n",
       "177068  1803169  1803169  1803169  1803169  1803169  1803169  1803169   \n",
       "177069   498187  2082999  1559210  2004526   250315   389656   681451   \n",
       "\n",
       "              7        8        9  \n",
       "0       1194894  1194894  1194894  \n",
       "1       1125393  1125393  1125393  \n",
       "2       1614538  1660615  1986443  \n",
       "3       1587422  1587422  1587422  \n",
       "4       1398419  1398419  1398419  \n",
       "...         ...      ...      ...  \n",
       "177065    24604    24604    24604  \n",
       "177066  1763050  1907343  1907343  \n",
       "177067  2093769  2093769  2093769  \n",
       "177068  1803169  1803169  1803169  \n",
       "177069   888769   987620  1200724  \n",
       "\n",
       "[177070 rows x 10 columns]"
      ]
     },
     "execution_count": 367,
     "metadata": {},
     "output_type": "execute_result"
    }
   ],
   "source": [
    "pred_1"
   ]
  },
  {
   "cell_type": "code",
   "execution_count": 368,
   "metadata": {},
   "outputs": [
    {
     "data": {
      "text/plain": [
       "0    0.795787\n",
       "1    0.543401\n",
       "2    0.431795\n",
       "3    0.351443\n",
       "4    0.289648\n",
       "5    0.241966\n",
       "6    0.203355\n",
       "7    0.172587\n",
       "8    0.147315\n",
       "9    0.126515\n",
       "dtype: float64"
      ]
     },
     "execution_count": 368,
     "metadata": {},
     "output_type": "execute_result"
    }
   ],
   "source": [
    "(pred_1 == pred_implicit).mean()"
   ]
  },
  {
   "cell_type": "code",
   "execution_count": 346,
   "metadata": {},
   "outputs": [
    {
     "data": {
      "text/plain": [
       "0    0.588344\n",
       "1    0.341029\n",
       "2    0.251522\n",
       "3    0.193206\n",
       "4    0.151652\n",
       "5    0.121715\n",
       "6    0.099215\n",
       "7    0.081403\n",
       "8    0.067781\n",
       "9    0.056622\n",
       "dtype: float64"
      ]
     },
     "execution_count": 346,
     "metadata": {},
     "output_type": "execute_result"
    }
   ],
   "source": [
    "(pred_1 == pred_implicit).mean()"
   ]
  },
  {
   "cell_type": "code",
   "execution_count": null,
   "metadata": {},
   "outputs": [],
   "source": []
  },
  {
   "cell_type": "code",
   "execution_count": null,
   "metadata": {},
   "outputs": [],
   "source": []
  },
  {
   "cell_type": "markdown",
   "metadata": {},
   "source": [
    "____"
   ]
  },
  {
   "cell_type": "code",
   "execution_count": 131,
   "metadata": {},
   "outputs": [],
   "source": [
    "set_pred = pred[range(15)].apply(set, axis = 1)\n",
    "set_pred.name = 'implicit'"
   ]
  },
  {
   "cell_type": "code",
   "execution_count": 133,
   "metadata": {},
   "outputs": [],
   "source": [
    "pred_1_fn = 'pred_1.csv'\n",
    "pred_1_fp = os.path.join(reports_dir, pred_1_fn)\n",
    "pred_1 = pd.read_csv(pred_1_fp, header = None)"
   ]
  },
  {
   "cell_type": "code",
   "execution_count": 135,
   "metadata": {},
   "outputs": [],
   "source": [
    "set_pred_1 = pred_1.apply(set, axis = 1)\n",
    "set_pred_1.name = 'pred_1'"
   ]
  },
  {
   "cell_type": "code",
   "execution_count": 140,
   "metadata": {},
   "outputs": [],
   "source": [
    "compare = pd.concat([set_pred_1, set_pred], axis = 1, join = 'inner')"
   ]
  },
  {
   "cell_type": "code",
   "execution_count": 145,
   "metadata": {},
   "outputs": [],
   "source": [
    "compare['intersection'] = [set(a) & set(b) for a, b in zip(compare.pred_1, compare.implicit)]"
   ]
  },
  {
   "cell_type": "code",
   "execution_count": 149,
   "metadata": {},
   "outputs": [],
   "source": [
    "compare['len_intersection'] = compare.intersection.str.len()"
   ]
  },
  {
   "cell_type": "code",
   "execution_count": 154,
   "metadata": {},
   "outputs": [
    {
     "data": {
      "text/plain": [
       "0    0.549662\n",
       "1    0.277200\n",
       "2    0.106192\n",
       "3    0.042987\n",
       "4    0.016506\n",
       "5    0.005323\n",
       "6    0.001642\n",
       "7    0.000416\n",
       "8    0.000054\n",
       "9    0.000018\n",
       "Name: len_intersection, dtype: float64"
      ]
     },
     "execution_count": 154,
     "metadata": {},
     "output_type": "execute_result"
    }
   ],
   "source": [
    "compare.len_intersection.value_counts(normalize = True)"
   ]
  },
  {
   "cell_type": "code",
   "execution_count": 157,
   "metadata": {},
   "outputs": [],
   "source": [
    "compare = pd.concat([compare, pred.top_score], axis = 1)"
   ]
  },
  {
   "cell_type": "code",
   "execution_count": 162,
   "metadata": {},
   "outputs": [
    {
     "data": {
      "text/plain": [
       "<AxesSubplot:title={'center':'top_score'}, xlabel='len_intersection'>"
      ]
     },
     "execution_count": 162,
     "metadata": {},
     "output_type": "execute_result"
    },
    {
     "data": {
      "image/png": "[encoded data removed]",
      "text/plain": [
       "<Figure size 1296x432 with 1 Axes>"
      ]
     },
     "metadata": {
      "needs_background": "light"
     },
     "output_type": "display_data"
    }
   ],
   "source": [
    "compare.boxplot(column = 'top_score' , by = 'len_intersection', figsize = (18, 6))"
   ]
  },
  {
   "cell_type": "code",
   "execution_count": 165,
   "metadata": {},
   "outputs": [
    {
     "data": {
      "text/plain": [
       "count    2485500.000\n",
       "mean           0.347\n",
       "std            0.359\n",
       "min            0.000\n",
       "0%             0.000\n",
       "10%            0.000\n",
       "20%            0.012\n",
       "30%            0.047\n",
       "40%            0.118\n",
       "50%            0.220\n",
       "60%            0.353\n",
       "70%            0.513\n",
       "80%            0.697\n",
       "90%            0.913\n",
       "max            2.316\n",
       "Name: top_score, dtype: float64"
      ]
     },
     "execution_count": 165,
     "metadata": {},
     "output_type": "execute_result"
    }
   ],
   "source": [
    "recs.top_score.describe(percentiles = (np.arange(0, 1, 0.1))).round(3)"
   ]
  },
  {
   "cell_type": "code",
   "execution_count": 166,
   "metadata": {},
   "outputs": [
    {
     "data": {
      "text/plain": [
       "0.21965806931257248"
      ]
     },
     "execution_count": 166,
     "metadata": {},
     "output_type": "execute_result"
    }
   ],
   "source": [
    "recs.top_score.median()"
   ]
  },
  {
   "cell_type": "code",
   "execution_count": null,
   "metadata": {},
   "outputs": [],
   "source": []
  }
 ],
 "metadata": {
  "kernelspec": {
   "display_name": "Python 3",
   "language": "python",
   "name": "python3"
  },
  "language_info": {
   "codemirror_mode": {
    "name": "ipython",
    "version": 3
   },
   "file_extension": ".py",
   "mimetype": "text/x-python",
   "name": "python",
   "nbconvert_exporter": "python",
   "pygments_lexer": "ipython3",
   "version": "3.7.6"
  }
 },
 "nbformat": 4,
 "nbformat_minor": 4
}
