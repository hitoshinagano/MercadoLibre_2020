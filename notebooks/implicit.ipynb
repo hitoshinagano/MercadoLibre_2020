{
 "cells": [
  {
   "cell_type": "markdown",
   "metadata": {},
   "source": [
    "# validation & prediction with implicit"
   ]
  },
  {
   "cell_type": "markdown",
   "metadata": {},
   "source": [
    "## autoreload"
   ]
  },
  {
   "cell_type": "code",
   "execution_count": 1,
   "metadata": {},
   "outputs": [],
   "source": [
    "%load_ext autoreload\n",
    "%autoreload 2"
   ]
  },
  {
   "cell_type": "markdown",
   "metadata": {},
   "source": [
    "## dir setup"
   ]
  },
  {
   "cell_type": "code",
   "execution_count": 2,
   "metadata": {},
   "outputs": [
    {
     "data": {
      "text/plain": [
       "True"
      ]
     },
     "execution_count": 2,
     "metadata": {},
     "output_type": "execute_result"
    }
   ],
   "source": [
    "from dotenv import load_dotenv, find_dotenv\n",
    "import os\n",
    "\n",
    "this_file_path = os.path.dirname(os.path.abspath(\"__file__\"))\n",
    "# if script (not notebook)...\n",
    "# project_dir = os.path.join(os.path.dirname(__file__), os.pardir)\n",
    "\n",
    "# project directory\n",
    "project_dir = os.path.join(this_file_path, os.pardir)\n",
    "\n",
    "# find .env automagically by walking up directories until it's found\n",
    "dotenv_path = find_dotenv()\n",
    "\n",
    "# load up the entries as environment variables\n",
    "load_dotenv(dotenv_path)"
   ]
  },
  {
   "cell_type": "code",
   "execution_count": 3,
   "metadata": {},
   "outputs": [],
   "source": [
    "raw_data_dir = os.path.join(project_dir, os.environ.get(\"RAW_DATA_DIR\"))\n",
    "processed_data_dir = os.path.join(project_dir, os.environ.get(\"PROCESSED_DATA_DIR\"))\n",
    "figures_dir = os.path.join(project_dir, os.environ.get(\"FIGURES_DIR\"))\n",
    "reports_dir = os.path.join(project_dir, os.environ.get(\"REPORTS_DIR\"))\n",
    "cv_dir = os.path.join(project_dir, os.environ.get(\"CV_DIR\"))\n",
    "models_dir = os.path.join(project_dir, os.environ.get(\"MODELS_DIR\"))"
   ]
  },
  {
   "cell_type": "markdown",
   "metadata": {},
   "source": [
    "## imports"
   ]
  },
  {
   "cell_type": "code",
   "execution_count": 4,
   "metadata": {},
   "outputs": [
    {
     "name": "stderr",
     "output_type": "stream",
     "text": [
      "/opt/conda/lib/python3.7/site-packages/tqdm/std.py:703: FutureWarning: The Panel class is removed from pandas. Accessing it from the top-level namespace will also be removed in the next version\n",
      "  from pandas import Panel\n"
     ]
    }
   ],
   "source": [
    "import numpy as np\n",
    "from datetime import datetime\n",
    "\n",
    "import pandas as pd\n",
    "# pd.set_option('max_rows', None)\n",
    "# pd.set_option('max_columns', None)\n",
    "# pd.options.mode.chained_assignment = None  # default='warn'\n",
    "\n",
    "from tqdm import tqdm\n",
    "tqdm.pandas()\n",
    "\n",
    "import scipy.sparse as sparse\n",
    "import implicit\n",
    "\n",
    "from sklearn.metrics import ndcg_score\n",
    "from sklearn.model_selection import ParameterGrid\n",
    "\n",
    "import mlflow\n",
    "\n",
    "import pickle"
   ]
  },
  {
   "cell_type": "markdown",
   "metadata": {},
   "source": [
    "## project imports"
   ]
  },
  {
   "cell_type": "code",
   "execution_count": 5,
   "metadata": {},
   "outputs": [
    {
     "name": "stderr",
     "output_type": "stream",
     "text": [
      "/opt/conda/lib/python3.7/site-packages/ipykernel/ipkernel.py:287: DeprecationWarning: `should_run_async` will not call `transform_cell` automatically in the future. Please pass the result to `transformed_cell` argument and any exception that happen during thetransform in `preprocessing_exc_tuple` in IPython 7.17 and above.\n",
      "  and should_run_async(code)\n"
     ]
    }
   ],
   "source": [
    "import sys\n",
    "sys.path.insert(0, '..')\n",
    "\n",
    "from src.features import *\n",
    "from src.models import *"
   ]
  },
  {
   "cell_type": "markdown",
   "metadata": {},
   "source": [
    "# validation"
   ]
  },
  {
   "cell_type": "code",
   "execution_count": 6,
   "metadata": {},
   "outputs": [
    {
     "name": "stdout",
     "output_type": "stream",
     "text": [
      "initial train shape: (12412329, 7)\n",
      "train/test shapes: (992764, 7) (241212, 6)\n",
      "lang pt\n"
     ]
    }
   ],
   "source": [
    "train_fn = 'train_dataset.pkl'\n",
    "test_fn = 'test_dataset.pkl'\n",
    "\n",
    "# validation = 0.2 # 0.2: 20% of original train will be test\n",
    "# keep_train = 0.6  # 0.6: 60% of train for validation\n",
    "\n",
    "validation = 0.2 \n",
    "keep_train = 0.1  \n",
    "\n",
    "# validation = 0.2 \n",
    "# keep_train = 0.4 \n",
    "lang = 'pt'\n",
    "\n",
    "train, test = read_processed(train_fn, test_fn, keep_train = keep_train, validation = validation, lang = lang)"
   ]
  },
  {
   "cell_type": "code",
   "execution_count": 7,
   "metadata": {},
   "outputs": [
    {
     "name": "stderr",
     "output_type": "stream",
     "text": [
      "/opt/conda/lib/python3.7/site-packages/ipykernel/ipkernel.py:287: DeprecationWarning: `should_run_async` will not call `transform_cell` automatically in the future. Please pass the result to `transformed_cell` argument and any exception that happen during thetransform in `preprocessing_exc_tuple` in IPython 7.17 and above.\n",
      "  and should_run_async(code)\n"
     ]
    }
   ],
   "source": [
    "true_fn = 'true.pkl'\n",
    "true_fp = os.path.join(processed_data_dir, true_fn)\n",
    "true_df = pd.read_pickle(true_fp)\n",
    "\n",
    "item_domain_fn = 'item_domain.pkl'\n",
    "item_domain_fp = os.path.join(processed_data_dir, item_domain_fn)\n",
    "item_domain = pd.read_pickle(item_domain_fp)\n",
    "item_domain['lang_category'] = item_domain.category_id.str[:3].replace({'MLM': 'es', 'MLB': 'pt'})\n",
    "item_domain = item_domain[item_domain.lang_category == lang]\n",
    "item_domain.drop('lang_category', axis = 1, inplace = True)"
   ]
  },
  {
   "cell_type": "code",
   "execution_count": 8,
   "metadata": {},
   "outputs": [
    {
     "name": "stderr",
     "output_type": "stream",
     "text": [
      "/opt/conda/lib/python3.7/site-packages/ipykernel/ipkernel.py:287: DeprecationWarning: `should_run_async` will not call `transform_cell` automatically in the future. Please pass the result to `transformed_cell` argument and any exception that happen during thetransform in `preprocessing_exc_tuple` in IPython 7.17 and above.\n",
      "  and should_run_async(code)\n"
     ]
    },
    {
     "data": {
      "text/plain": [
       "{'buy_weight': [400],\n",
       " 'extra_weight': [200],\n",
       " 'regularization': [0.01],\n",
       " 'iterations': [15],\n",
       " 'factors': [512, 768, 1024],\n",
       " 'alpha_val': [400]}"
      ]
     },
     "execution_count": 8,
     "metadata": {},
     "output_type": "execute_result"
    }
   ],
   "source": [
    "# grid = dict(buy_weight = [50, 100, 200],\n",
    "#             regularization = [0.01, 0.03, 0.1, 0.3],\n",
    "#             iterations = [10, 15, 20],\n",
    "#             factors = [32, 64, 128],\n",
    "#             alpha_val = [50, 100, 200])\n",
    "\n",
    "# grid = dict(buy_weight = [200],\n",
    "#             regularization = [0.01, 0.1],\n",
    "#             iterations = [10, 15],\n",
    "#             factors = [128],\n",
    "#             alpha_val = [200])\n",
    "\n",
    "# grid = dict(buy_weight = [100, 200],\n",
    "#             regularization = [0.01],\n",
    "#             iterations = [15],\n",
    "#             factors = [768],\n",
    "#             alpha_val = [200])\n",
    "\n",
    "grid = dict(buy_weight = [200],\n",
    "            regularization = [0.01],\n",
    "            iterations = [15],\n",
    "            factors = [768],\n",
    "            alpha_val = [200])\n",
    "\n",
    "grid = dict(buy_weight = [400],\n",
    "            regularization = [0.001, 0.01, 0.03],\n",
    "            iterations = [10, 20, 30],\n",
    "            factors = [768],\n",
    "            alpha_val = [400])\n",
    "\n",
    "grid = dict(buy_weight = [400, 600],\n",
    "            extra_weight = [50, 100],\n",
    "            regularization = [0.01],\n",
    "            iterations = [15],\n",
    "            factors = [512],\n",
    "            alpha_val = [600])\n",
    "\n",
    "grid = dict(buy_weight = [400],\n",
    "            extra_weight = [200],\n",
    "            regularization = [0.01],\n",
    "            iterations = [15],\n",
    "            factors = [512, 768, 1024],\n",
    "            alpha_val = [400])\n",
    "\n",
    "grid"
   ]
  },
  {
   "cell_type": "code",
   "execution_count": 9,
   "metadata": {},
   "outputs": [
    {
     "data": {
      "text/plain": [
       "45"
      ]
     },
     "execution_count": 9,
     "metadata": {},
     "output_type": "execute_result"
    }
   ],
   "source": [
    "len(list(ParameterGrid(grid))) * 15"
   ]
  },
  {
   "cell_type": "code",
   "execution_count": 10,
   "metadata": {},
   "outputs": [
    {
     "data": {
      "text/html": [
       "<div>\n",
       "<style scoped>\n",
       "    .dataframe tbody tr th:only-of-type {\n",
       "        vertical-align: middle;\n",
       "    }\n",
       "\n",
       "    .dataframe tbody tr th {\n",
       "        vertical-align: top;\n",
       "    }\n",
       "\n",
       "    .dataframe thead th {\n",
       "        text-align: right;\n",
       "    }\n",
       "</style>\n",
       "<table border=\"1\" class=\"dataframe\">\n",
       "  <thead>\n",
       "    <tr style=\"text-align: right;\">\n",
       "      <th></th>\n",
       "      <th>seq</th>\n",
       "      <th>item_bought</th>\n",
       "      <th>event_info</th>\n",
       "      <th>event_timestamp</th>\n",
       "      <th>event_type</th>\n",
       "      <th>time_diff</th>\n",
       "      <th>lang_seq</th>\n",
       "    </tr>\n",
       "  </thead>\n",
       "  <tbody>\n",
       "    <tr>\n",
       "      <th>42</th>\n",
       "      <td>270127</td>\n",
       "      <td>NaN</td>\n",
       "      <td>1070500</td>\n",
       "      <td>2019-09-30 17:10:59</td>\n",
       "      <td>view</td>\n",
       "      <td>NaN</td>\n",
       "      <td>pt</td>\n",
       "    </tr>\n",
       "    <tr>\n",
       "      <th>43</th>\n",
       "      <td>270127</td>\n",
       "      <td>78678.0</td>\n",
       "      <td>NaN</td>\n",
       "      <td>NaT</td>\n",
       "      <td>buy</td>\n",
       "      <td>NaN</td>\n",
       "      <td>pt</td>\n",
       "    </tr>\n",
       "    <tr>\n",
       "      <th>112</th>\n",
       "      <td>197616</td>\n",
       "      <td>NaN</td>\n",
       "      <td>GUITARRA EPIPHONE LES PAUL CUSTOM PRO ALPINE</td>\n",
       "      <td>2019-10-10 20:16:21</td>\n",
       "      <td>search</td>\n",
       "      <td>NaN</td>\n",
       "      <td>pt</td>\n",
       "    </tr>\n",
       "    <tr>\n",
       "      <th>113</th>\n",
       "      <td>197616</td>\n",
       "      <td>680657.0</td>\n",
       "      <td>NaN</td>\n",
       "      <td>NaT</td>\n",
       "      <td>buy</td>\n",
       "      <td>NaN</td>\n",
       "      <td>pt</td>\n",
       "    </tr>\n",
       "    <tr>\n",
       "      <th>120</th>\n",
       "      <td>69509</td>\n",
       "      <td>NaN</td>\n",
       "      <td>236561</td>\n",
       "      <td>2019-10-09 15:30:27</td>\n",
       "      <td>view</td>\n",
       "      <td>NaN</td>\n",
       "      <td>pt</td>\n",
       "    </tr>\n",
       "    <tr>\n",
       "      <th>...</th>\n",
       "      <td>...</td>\n",
       "      <td>...</td>\n",
       "      <td>...</td>\n",
       "      <td>...</td>\n",
       "      <td>...</td>\n",
       "      <td>...</td>\n",
       "      <td>...</td>\n",
       "    </tr>\n",
       "    <tr>\n",
       "      <th>12403602</th>\n",
       "      <td>8737</td>\n",
       "      <td>NaN</td>\n",
       "      <td>BRINQUEDOS MENINAS</td>\n",
       "      <td>2019-10-02 06:22:53</td>\n",
       "      <td>search</td>\n",
       "      <td>18.0</td>\n",
       "      <td>pt</td>\n",
       "    </tr>\n",
       "    <tr>\n",
       "      <th>12403603</th>\n",
       "      <td>8737</td>\n",
       "      <td>NaN</td>\n",
       "      <td>BRINQUEDOS MENINAS</td>\n",
       "      <td>2019-10-02 06:23:10</td>\n",
       "      <td>search</td>\n",
       "      <td>17.0</td>\n",
       "      <td>pt</td>\n",
       "    </tr>\n",
       "    <tr>\n",
       "      <th>12403604</th>\n",
       "      <td>8737</td>\n",
       "      <td>NaN</td>\n",
       "      <td>BRINQUEDOS MENINAS</td>\n",
       "      <td>2019-10-02 06:23:21</td>\n",
       "      <td>search</td>\n",
       "      <td>11.0</td>\n",
       "      <td>pt</td>\n",
       "    </tr>\n",
       "    <tr>\n",
       "      <th>12403605</th>\n",
       "      <td>8737</td>\n",
       "      <td>NaN</td>\n",
       "      <td>BRINQUEDOS MENINAS</td>\n",
       "      <td>2019-10-02 06:23:34</td>\n",
       "      <td>search</td>\n",
       "      <td>13.0</td>\n",
       "      <td>pt</td>\n",
       "    </tr>\n",
       "    <tr>\n",
       "      <th>12403606</th>\n",
       "      <td>8737</td>\n",
       "      <td>551892.0</td>\n",
       "      <td>NaN</td>\n",
       "      <td>NaT</td>\n",
       "      <td>buy</td>\n",
       "      <td>NaN</td>\n",
       "      <td>pt</td>\n",
       "    </tr>\n",
       "  </tbody>\n",
       "</table>\n",
       "<p>849547 rows × 7 columns</p>\n",
       "</div>"
      ],
      "text/plain": [
       "             seq  item_bought                                    event_info  \\\n",
       "42        270127          NaN                                       1070500   \n",
       "43        270127      78678.0                                           NaN   \n",
       "112       197616          NaN  GUITARRA EPIPHONE LES PAUL CUSTOM PRO ALPINE   \n",
       "113       197616     680657.0                                           NaN   \n",
       "120        69509          NaN                                        236561   \n",
       "...          ...          ...                                           ...   \n",
       "12403602    8737          NaN                            BRINQUEDOS MENINAS   \n",
       "12403603    8737          NaN                            BRINQUEDOS MENINAS   \n",
       "12403604    8737          NaN                            BRINQUEDOS MENINAS   \n",
       "12403605    8737          NaN                            BRINQUEDOS MENINAS   \n",
       "12403606    8737     551892.0                                           NaN   \n",
       "\n",
       "             event_timestamp event_type  time_diff lang_seq  \n",
       "42       2019-09-30 17:10:59       view        NaN       pt  \n",
       "43                       NaT        buy        NaN       pt  \n",
       "112      2019-10-10 20:16:21     search        NaN       pt  \n",
       "113                      NaT        buy        NaN       pt  \n",
       "120      2019-10-09 15:30:27       view        NaN       pt  \n",
       "...                      ...        ...        ...      ...  \n",
       "12403602 2019-10-02 06:22:53     search       18.0       pt  \n",
       "12403603 2019-10-02 06:23:10     search       17.0       pt  \n",
       "12403604 2019-10-02 06:23:21     search       11.0       pt  \n",
       "12403605 2019-10-02 06:23:34     search       13.0       pt  \n",
       "12403606                 NaT        buy        NaN       pt  \n",
       "\n",
       "[849547 rows x 7 columns]"
      ]
     },
     "execution_count": 10,
     "metadata": {},
     "output_type": "execute_result"
    }
   ],
   "source": [
    "train"
   ]
  },
  {
   "cell_type": "code",
   "execution_count": null,
   "metadata": {},
   "outputs": [
    {
     "name": "stderr",
     "output_type": "stream",
     "text": [
      "/opt/conda/lib/python3.7/site-packages/ipykernel/ipkernel.py:287: DeprecationWarning: `should_run_async` will not call `transform_cell` automatically in the future. Please pass the result to `transformed_cell` argument and any exception that happen during thetransform in `preprocessing_exc_tuple` in IPython 7.17 and above.\n",
      "  and should_run_async(code)\n"
     ]
    },
    {
     "name": "stdout",
     "output_type": "stream",
     "text": [
      "{'alpha_val': 400, 'buy_weight': 400, 'extra_weight': 200, 'factors': 512, 'iterations': 15, 'regularization': 0.01}\n",
      "MLflow:\n",
      "  run_id: 10b121d0156747c3922110eb6dc060f0\n",
      "  experiment_id: 1\n"
     ]
    },
    {
     "name": "stderr",
     "output_type": "stream",
     "text": [
      "WARNING:root:OpenBLAS detected. Its highly recommend to set the environment variable 'export OPENBLAS_NUM_THREADS=1' to disable its internal multithreading\n"
     ]
    },
    {
     "data": {
      "application/vnd.jupyter.widget-view+json": {
       "model_id": "b26eefca39724b87a60a3a00d08639c7",
       "version_major": 2,
       "version_minor": 0
      },
      "text/plain": [
       "HBox(children=(HTML(value=''), FloatProgress(value=0.0, max=15.0), HTML(value='')))"
      ]
     },
     "metadata": {},
     "output_type": "display_data"
    },
    {
     "name": "stderr",
     "output_type": "stream",
     "text": [
      "  0%|          | 0/6613 [00:00<?, ?it/s]"
     ]
    },
    {
     "name": "stdout",
     "output_type": "stream",
     "text": [
      "\n"
     ]
    },
    {
     "name": "stderr",
     "output_type": "stream",
     "text": [
      "100%|██████████| 6613/6613 [01:06<00:00, 99.27it/s] \n"
     ]
    },
    {
     "name": "stdout",
     "output_type": "stream",
     "text": [
      "mean ndcg: 0.42580902757805356\n",
      "ndcg > 0: 0.5354604566762438\n",
      "{'alpha_val': 400, 'buy_weight': 400, 'extra_weight': 200, 'factors': 768, 'iterations': 15, 'regularization': 0.01}\n",
      "MLflow:\n",
      "  run_id: fb2783ae04fd4386bbf66e71c2c01d07\n",
      "  experiment_id: 1\n"
     ]
    },
    {
     "data": {
      "application/vnd.jupyter.widget-view+json": {
       "model_id": "72cfddd121b64ea086b3be203e028e1b",
       "version_major": 2,
       "version_minor": 0
      },
      "text/plain": [
       "HBox(children=(HTML(value=''), FloatProgress(value=0.0, max=15.0), HTML(value='')))"
      ]
     },
     "metadata": {},
     "output_type": "display_data"
    },
    {
     "name": "stdout",
     "output_type": "stream",
     "text": [
      "\n"
     ]
    },
    {
     "name": "stderr",
     "output_type": "stream",
     "text": [
      "100%|██████████| 6613/6613 [01:25<00:00, 77.50it/s]\n"
     ]
    },
    {
     "name": "stdout",
     "output_type": "stream",
     "text": [
      "mean ndcg: 0.4240684965249333\n",
      "ndcg > 0: 0.5327385452895811\n",
      "{'alpha_val': 400, 'buy_weight': 400, 'extra_weight': 200, 'factors': 1024, 'iterations': 15, 'regularization': 0.01}\n",
      "MLflow:\n",
      "  run_id: 6a1af24158da415691767d8638bee956\n",
      "  experiment_id: 1\n"
     ]
    },
    {
     "data": {
      "application/vnd.jupyter.widget-view+json": {
       "model_id": "40cdda475ef249c0912a9009a826408d",
       "version_major": 2,
       "version_minor": 0
      },
      "text/plain": [
       "HBox(children=(HTML(value=''), FloatProgress(value=0.0, max=15.0), HTML(value='')))"
      ]
     },
     "metadata": {},
     "output_type": "display_data"
    }
   ],
   "source": [
    "mlflow.set_experiment('gcp test 1')\n",
    "\n",
    "for param in ParameterGrid(grid):\n",
    "    print(param)\n",
    "    with mlflow.start_run() as run:\n",
    "        print(\"MLflow:\")\n",
    "        print(\"  run_id:\",run.info.run_id)\n",
    "        print(\"  experiment_id:\",run.info.experiment_id)\n",
    "        \n",
    "        test_offset, test_shifted_seq_vals, train_test = join_prepare_train_test(train, test, **param)\n",
    "        model, seq_map, event_info_map, sparse_user_item = fit_implicit_model(train_test, **param)\n",
    "        pred = predict_implicit_model(model, sparse_user_item, \n",
    "                                      seq_map, event_info_map, test_shifted_seq_vals, \n",
    "                                      10, test_offset, \n",
    "                                      validation = True, true_df = true_df, item_domain = item_domain)\n",
    "        \n",
    "        mlflow.log_param('val_keep', {'v': validation, 'k': keep_train})\n",
    "        mlflow.log_param('lang', lang)\n",
    "        mlflow.log_param('exp_decay_alpha', 0.03)\n",
    "        \n",
    "        pred_fn = 'pred__' + '__'.join([k + '_' + str(v) for k, v in param.items()]) + '.csv'\n",
    "        pred_fp = os.path.join(cv_dir, pred_fn)\n",
    "        pred.to_csv(pred_fp)\n",
    "        \n",
    "        mlflow.log_params(param)\n",
    "        # mlflow.log_artifact(pred_fp)\n",
    "        \n",
    "        mean_ndcg = pred.ndcg.mean()\n",
    "        ndcg_larger_than_zero = (pred.ndcg > 0).mean()\n",
    "        \n",
    "        print('mean ndcg:', mean_ndcg)\n",
    "        print('ndcg > 0:', ndcg_larger_than_zero)\n",
    "        \n",
    "        mlflow.log_metric('mean_ndcg', mean_ndcg)\n",
    "        mlflow.log_metric('ndcg_gt_0', ndcg_larger_than_zero)\n"
   ]
  },
  {
   "cell_type": "code",
   "execution_count": null,
   "metadata": {},
   "outputs": [],
   "source": []
  },
  {
   "cell_type": "code",
   "execution_count": null,
   "metadata": {},
   "outputs": [],
   "source": []
  },
  {
   "cell_type": "markdown",
   "metadata": {},
   "source": [
    "_____"
   ]
  },
  {
   "cell_type": "markdown",
   "metadata": {},
   "source": [
    "# a prediction"
   ]
  },
  {
   "cell_type": "code",
   "execution_count": 6,
   "metadata": {},
   "outputs": [
    {
     "name": "stdout",
     "output_type": "stream",
     "text": [
      "lang pt\n"
     ]
    }
   ],
   "source": [
    "train_fn = 'train_dataset.pkl'\n",
    "test_fn = 'test_dataset.pkl'\n",
    "\n",
    "lang = 'pt'\n",
    "\n",
    "train, test = read_processed(train_fn, test_fn, lang = lang)"
   ]
  },
  {
   "cell_type": "code",
   "execution_count": 7,
   "metadata": {},
   "outputs": [],
   "source": [
    "# true_fn = 'true.pkl'\n",
    "# true_fp = os.path.join(processed_data_dir, true_fn)\n",
    "# true_df = pd.read_pickle(true_fp)\n",
    "\n",
    "# item_data_fn = 'item_data.jl.gz'\n",
    "# item_data = pd.read_json(os.path.join(raw_data_dir, item_data_fn), lines=True)\n",
    "# item_domain = item_data[['item_id', 'domain_id']]"
   ]
  },
  {
   "cell_type": "code",
   "execution_count": 8,
   "metadata": {},
   "outputs": [
    {
     "data": {
      "text/plain": [
       "{'Run ID': '3baaf1a523c040bb81a7696a51b503d2',\n",
       " 'Name': nan,\n",
       " 'Source Type': 'LOCAL',\n",
       " 'Source Name': '/Users/hitoshinagano/.virtualenvs/tensorflow2/lib/python3.7/site-packages/ipykernel_launcher.py',\n",
       " 'User': 'hitoshinagano',\n",
       " 'Status': 'FINISHED',\n",
       " 'alpha_val': 800,\n",
       " 'buy_weight': 800,\n",
       " 'exp_decay_alpha': 0.03,\n",
       " 'extra_weight': 200.0,\n",
       " 'factors': 512,\n",
       " 'iterations': 15,\n",
       " 'lang': 'pt',\n",
       " 'regularization': 0.01,\n",
       " 'val_keep': \"{'v': 0.2, 'k': 0.4}\",\n",
       " 'mean_ndcg': 0.4337012364037939,\n",
       " 'ndcg_gt_0': 0.5385629780339851}"
      ]
     },
     "execution_count": 8,
     "metadata": {},
     "output_type": "execute_result"
    }
   ],
   "source": [
    "runs = pd.read_csv('/Users/hitoshinagano/Downloads/runs.csv')\n",
    "param = runs.sort_values('mean_ndcg', ascending = False).loc[3].to_dict()\n",
    "param"
   ]
  },
  {
   "cell_type": "code",
   "execution_count": 9,
   "metadata": {},
   "outputs": [],
   "source": [
    "test_offset, test_shifted_seq_vals, train_test = join_prepare_train_test(train, test, **param)"
   ]
  },
  {
   "cell_type": "code",
   "execution_count": 10,
   "metadata": {},
   "outputs": [
    {
     "name": "stderr",
     "output_type": "stream",
     "text": [
      "WARNING:root:OpenBLAS detected. Its highly recommend to set the environment variable 'export OPENBLAS_NUM_THREADS=1' to disable its internal multithreading\n"
     ]
    },
    {
     "data": {
      "application/vnd.jupyter.widget-view+json": {
       "model_id": "b7a19e26ab964e6295621e7354d81bdf",
       "version_major": 2,
       "version_minor": 0
      },
      "text/plain": [
       "HBox(children=(FloatProgress(value=0.0, max=15.0), HTML(value='')))"
      ]
     },
     "metadata": {},
     "output_type": "display_data"
    },
    {
     "name": "stdout",
     "output_type": "stream",
     "text": [
      "\n"
     ]
    }
   ],
   "source": [
    "model, seq_map, event_info_map, sparse_user_item = fit_implicit_model(train_test, **param)"
   ]
  },
  {
   "cell_type": "code",
   "execution_count": 11,
   "metadata": {},
   "outputs": [
    {
     "name": "stderr",
     "output_type": "stream",
     "text": [
      "100%|██████████| 142105/142105 [6:21:24<00:00,  6.21it/s]  \n"
     ]
    }
   ],
   "source": [
    "pred = predict_implicit_model(model, sparse_user_item, \n",
    "                              seq_map, event_info_map, test_shifted_seq_vals, \n",
    "                              10, test_offset, \n",
    "                              validation = False, true_df = None, item_domain = None)"
   ]
  },
  {
   "cell_type": "markdown",
   "metadata": {},
   "source": [
    "#### saving preliminary pred (no imputation and with top scores)"
   ]
  },
  {
   "cell_type": "code",
   "execution_count": 12,
   "metadata": {},
   "outputs": [],
   "source": [
    "pred_9_fn = lang + '_for_pred_9_implicit.csv'\n",
    "pred_9_fp = os.path.join(reports_dir, pred_9_fn)\n",
    "pred.to_csv(pred_9_fp)"
   ]
  },
  {
   "cell_type": "code",
   "execution_count": 16,
   "metadata": {},
   "outputs": [
    {
     "data": {
      "text/html": [
       "<div>\n",
       "<style scoped>\n",
       "    .dataframe tbody tr th:only-of-type {\n",
       "        vertical-align: middle;\n",
       "    }\n",
       "\n",
       "    .dataframe tbody tr th {\n",
       "        vertical-align: top;\n",
       "    }\n",
       "\n",
       "    .dataframe thead th {\n",
       "        text-align: right;\n",
       "    }\n",
       "</style>\n",
       "<table border=\"1\" class=\"dataframe\">\n",
       "  <thead>\n",
       "    <tr style=\"text-align: right;\">\n",
       "      <th></th>\n",
       "      <th>0</th>\n",
       "      <th>1</th>\n",
       "      <th>2</th>\n",
       "      <th>3</th>\n",
       "      <th>4</th>\n",
       "      <th>5</th>\n",
       "      <th>6</th>\n",
       "      <th>7</th>\n",
       "      <th>8</th>\n",
       "      <th>9</th>\n",
       "      <th>top_score</th>\n",
       "    </tr>\n",
       "  </thead>\n",
       "  <tbody>\n",
       "    <tr>\n",
       "      <th>2</th>\n",
       "      <td>1986443.0</td>\n",
       "      <td>167018.0</td>\n",
       "      <td>283306.0</td>\n",
       "      <td>1425647.0</td>\n",
       "      <td>1362449.0</td>\n",
       "      <td>1614538.0</td>\n",
       "      <td>1219935.0</td>\n",
       "      <td>1660615.0</td>\n",
       "      <td>991246.0</td>\n",
       "      <td>539599.0</td>\n",
       "      <td>0.999214</td>\n",
       "    </tr>\n",
       "    <tr>\n",
       "      <th>18</th>\n",
       "      <td>865108.0</td>\n",
       "      <td>103123.0</td>\n",
       "      <td>1236596.0</td>\n",
       "      <td>1595726.0</td>\n",
       "      <td>2094573.0</td>\n",
       "      <td>922135.0</td>\n",
       "      <td>897309.0</td>\n",
       "      <td>597830.0</td>\n",
       "      <td>1685016.0</td>\n",
       "      <td>94208.0</td>\n",
       "      <td>0.975279</td>\n",
       "    </tr>\n",
       "    <tr>\n",
       "      <th>25</th>\n",
       "      <td>1993945.0</td>\n",
       "      <td>200370.0</td>\n",
       "      <td>1079823.0</td>\n",
       "      <td>1332505.0</td>\n",
       "      <td>183119.0</td>\n",
       "      <td>584351.0</td>\n",
       "      <td>377191.0</td>\n",
       "      <td>310389.0</td>\n",
       "      <td>470332.0</td>\n",
       "      <td>1617403.0</td>\n",
       "      <td>0.954299</td>\n",
       "    </tr>\n",
       "    <tr>\n",
       "      <th>31</th>\n",
       "      <td>1449676.0</td>\n",
       "      <td>1223161.0</td>\n",
       "      <td>196897.0</td>\n",
       "      <td>618213.0</td>\n",
       "      <td>406683.0</td>\n",
       "      <td>1589609.0</td>\n",
       "      <td>1083014.0</td>\n",
       "      <td>313485.0</td>\n",
       "      <td>1651683.0</td>\n",
       "      <td>1476002.0</td>\n",
       "      <td>1.022271</td>\n",
       "    </tr>\n",
       "    <tr>\n",
       "      <th>43</th>\n",
       "      <td>1516616.0</td>\n",
       "      <td>820462.0</td>\n",
       "      <td>354989.0</td>\n",
       "      <td>1783895.0</td>\n",
       "      <td>978651.0</td>\n",
       "      <td>1489658.0</td>\n",
       "      <td>182971.0</td>\n",
       "      <td>1663875.0</td>\n",
       "      <td>86113.0</td>\n",
       "      <td>938927.0</td>\n",
       "      <td>0.920012</td>\n",
       "    </tr>\n",
       "    <tr>\n",
       "      <th>...</th>\n",
       "      <td>...</td>\n",
       "      <td>...</td>\n",
       "      <td>...</td>\n",
       "      <td>...</td>\n",
       "      <td>...</td>\n",
       "      <td>...</td>\n",
       "      <td>...</td>\n",
       "      <td>...</td>\n",
       "      <td>...</td>\n",
       "      <td>...</td>\n",
       "      <td>...</td>\n",
       "    </tr>\n",
       "    <tr>\n",
       "      <th>177032</th>\n",
       "      <td>1303554.0</td>\n",
       "      <td>641327.0</td>\n",
       "      <td>212469.0</td>\n",
       "      <td>38857.0</td>\n",
       "      <td>153972.0</td>\n",
       "      <td>1800653.0</td>\n",
       "      <td>652921.0</td>\n",
       "      <td>1438163.0</td>\n",
       "      <td>1662703.0</td>\n",
       "      <td>836208.0</td>\n",
       "      <td>0.984048</td>\n",
       "    </tr>\n",
       "    <tr>\n",
       "      <th>177043</th>\n",
       "      <td>1068648.0</td>\n",
       "      <td>1380223.0</td>\n",
       "      <td>211696.0</td>\n",
       "      <td>137522.0</td>\n",
       "      <td>210245.0</td>\n",
       "      <td>1294510.0</td>\n",
       "      <td>107802.0</td>\n",
       "      <td>1306245.0</td>\n",
       "      <td>711862.0</td>\n",
       "      <td>1945320.0</td>\n",
       "      <td>0.870427</td>\n",
       "    </tr>\n",
       "    <tr>\n",
       "      <th>177052</th>\n",
       "      <td>467427.0</td>\n",
       "      <td>1114800.0</td>\n",
       "      <td>115596.0</td>\n",
       "      <td>1946789.0</td>\n",
       "      <td>2020215.0</td>\n",
       "      <td>2032781.0</td>\n",
       "      <td>2074404.0</td>\n",
       "      <td>1902728.0</td>\n",
       "      <td>975089.0</td>\n",
       "      <td>2075982.0</td>\n",
       "      <td>0.968937</td>\n",
       "    </tr>\n",
       "    <tr>\n",
       "      <th>177057</th>\n",
       "      <td>1329161.0</td>\n",
       "      <td>1360112.0</td>\n",
       "      <td>346969.0</td>\n",
       "      <td>1450837.0</td>\n",
       "      <td>1303928.0</td>\n",
       "      <td>1986828.0</td>\n",
       "      <td>821446.0</td>\n",
       "      <td>1095197.0</td>\n",
       "      <td>1559667.0</td>\n",
       "      <td>2055370.0</td>\n",
       "      <td>0.656464</td>\n",
       "    </tr>\n",
       "    <tr>\n",
       "      <th>177066</th>\n",
       "      <td>1651522.0</td>\n",
       "      <td>1763050.0</td>\n",
       "      <td>1183025.0</td>\n",
       "      <td>765481.0</td>\n",
       "      <td>524786.0</td>\n",
       "      <td>331472.0</td>\n",
       "      <td>1191685.0</td>\n",
       "      <td>1384867.0</td>\n",
       "      <td>1907343.0</td>\n",
       "      <td>1190780.0</td>\n",
       "      <td>0.971534</td>\n",
       "    </tr>\n",
       "  </tbody>\n",
       "</table>\n",
       "<p>23595 rows × 11 columns</p>\n",
       "</div>"
      ],
      "text/plain": [
       "                0          1          2          3          4          5  \\\n",
       "2       1986443.0   167018.0   283306.0  1425647.0  1362449.0  1614538.0   \n",
       "18       865108.0   103123.0  1236596.0  1595726.0  2094573.0   922135.0   \n",
       "25      1993945.0   200370.0  1079823.0  1332505.0   183119.0   584351.0   \n",
       "31      1449676.0  1223161.0   196897.0   618213.0   406683.0  1589609.0   \n",
       "43      1516616.0   820462.0   354989.0  1783895.0   978651.0  1489658.0   \n",
       "...           ...        ...        ...        ...        ...        ...   \n",
       "177032  1303554.0   641327.0   212469.0    38857.0   153972.0  1800653.0   \n",
       "177043  1068648.0  1380223.0   211696.0   137522.0   210245.0  1294510.0   \n",
       "177052   467427.0  1114800.0   115596.0  1946789.0  2020215.0  2032781.0   \n",
       "177057  1329161.0  1360112.0   346969.0  1450837.0  1303928.0  1986828.0   \n",
       "177066  1651522.0  1763050.0  1183025.0   765481.0   524786.0   331472.0   \n",
       "\n",
       "                6          7          8          9  top_score  \n",
       "2       1219935.0  1660615.0   991246.0   539599.0   0.999214  \n",
       "18       897309.0   597830.0  1685016.0    94208.0   0.975279  \n",
       "25       377191.0   310389.0   470332.0  1617403.0   0.954299  \n",
       "31      1083014.0   313485.0  1651683.0  1476002.0   1.022271  \n",
       "43       182971.0  1663875.0    86113.0   938927.0   0.920012  \n",
       "...           ...        ...        ...        ...        ...  \n",
       "177032   652921.0  1438163.0  1662703.0   836208.0   0.984048  \n",
       "177043   107802.0  1306245.0   711862.0  1945320.0   0.870427  \n",
       "177052  2074404.0  1902728.0   975089.0  2075982.0   0.968937  \n",
       "177057   821446.0  1095197.0  1559667.0  2055370.0   0.656464  \n",
       "177066  1191685.0  1384867.0  1907343.0  1190780.0   0.971534  \n",
       "\n",
       "[23595 rows x 11 columns]"
      ]
     },
     "execution_count": 16,
     "metadata": {},
     "output_type": "execute_result"
    }
   ],
   "source": [
    "pred"
   ]
  },
  {
   "cell_type": "markdown",
   "metadata": {},
   "source": [
    "----"
   ]
  },
  {
   "cell_type": "code",
   "execution_count": null,
   "metadata": {},
   "outputs": [],
   "source": []
  },
  {
   "cell_type": "markdown",
   "metadata": {},
   "source": [
    "#### exploring pred"
   ]
  },
  {
   "cell_type": "code",
   "execution_count": 21,
   "metadata": {},
   "outputs": [
    {
     "data": {
      "text/plain": [
       "<AxesSubplot:ylabel='Frequency'>"
      ]
     },
     "execution_count": 21,
     "metadata": {},
     "output_type": "execute_result"
    },
    {
     "data": {
      "image/png": "[encoded data removed]",
      "text/plain": [
       "<Figure size 432x288 with 1 Axes>"
      ]
     },
     "metadata": {
      "needs_background": "light"
     },
     "output_type": "display_data"
    }
   ],
   "source": [
    "pred.top_score.plot(kind = 'hist', bins = np.arange(0, 2, 0.05))"
   ]
  },
  {
   "cell_type": "code",
   "execution_count": 35,
   "metadata": {},
   "outputs": [
    {
     "data": {
      "text/html": [
       "<div>\n",
       "<style scoped>\n",
       "    .dataframe tbody tr th:only-of-type {\n",
       "        vertical-align: middle;\n",
       "    }\n",
       "\n",
       "    .dataframe tbody tr th {\n",
       "        vertical-align: top;\n",
       "    }\n",
       "\n",
       "    .dataframe thead th {\n",
       "        text-align: right;\n",
       "    }\n",
       "</style>\n",
       "<table border=\"1\" class=\"dataframe\">\n",
       "  <thead>\n",
       "    <tr style=\"text-align: right;\">\n",
       "      <th></th>\n",
       "      <th>0</th>\n",
       "      <th>1</th>\n",
       "      <th>2</th>\n",
       "      <th>3</th>\n",
       "      <th>4</th>\n",
       "      <th>5</th>\n",
       "      <th>6</th>\n",
       "      <th>7</th>\n",
       "      <th>8</th>\n",
       "      <th>9</th>\n",
       "      <th>top_score</th>\n",
       "    </tr>\n",
       "  </thead>\n",
       "  <tbody>\n",
       "    <tr>\n",
       "      <th>0</th>\n",
       "      <td>1572239</td>\n",
       "      <td>1194894</td>\n",
       "      <td>1717880</td>\n",
       "      <td>1300048</td>\n",
       "      <td>1006988</td>\n",
       "      <td>341077</td>\n",
       "      <td>398330</td>\n",
       "      <td>1856280</td>\n",
       "      <td>1326593</td>\n",
       "      <td>794338</td>\n",
       "      <td>0.923182</td>\n",
       "    </tr>\n",
       "    <tr>\n",
       "      <th>1</th>\n",
       "      <td>943786</td>\n",
       "      <td>849692</td>\n",
       "      <td>1676401</td>\n",
       "      <td>1056120</td>\n",
       "      <td>416551</td>\n",
       "      <td>937449</td>\n",
       "      <td>1180937</td>\n",
       "      <td>80018</td>\n",
       "      <td>495680</td>\n",
       "      <td>1184491</td>\n",
       "      <td>0.980219</td>\n",
       "    </tr>\n",
       "    <tr>\n",
       "      <th>2</th>\n",
       "      <td>731397</td>\n",
       "      <td>1986443</td>\n",
       "      <td>1706245</td>\n",
       "      <td>167018</td>\n",
       "      <td>283306</td>\n",
       "      <td>722653</td>\n",
       "      <td>438010</td>\n",
       "      <td>2015578</td>\n",
       "      <td>1162105</td>\n",
       "      <td>1322369</td>\n",
       "      <td>0.361114</td>\n",
       "    </tr>\n",
       "    <tr>\n",
       "      <th>4</th>\n",
       "      <td>1398419</td>\n",
       "      <td>1465133</td>\n",
       "      <td>1114720</td>\n",
       "      <td>1983750</td>\n",
       "      <td>702406</td>\n",
       "      <td>19910</td>\n",
       "      <td>1784740</td>\n",
       "      <td>63682</td>\n",
       "      <td>8478</td>\n",
       "      <td>819461</td>\n",
       "      <td>0.406496</td>\n",
       "    </tr>\n",
       "    <tr>\n",
       "      <th>5</th>\n",
       "      <td>1950320</td>\n",
       "      <td>1412311</td>\n",
       "      <td>553430</td>\n",
       "      <td>758537</td>\n",
       "      <td>1683191</td>\n",
       "      <td>1094798</td>\n",
       "      <td>769817</td>\n",
       "      <td>236682</td>\n",
       "      <td>6328</td>\n",
       "      <td>74407</td>\n",
       "      <td>0.944184</td>\n",
       "    </tr>\n",
       "    <tr>\n",
       "      <th>...</th>\n",
       "      <td>...</td>\n",
       "      <td>...</td>\n",
       "      <td>...</td>\n",
       "      <td>...</td>\n",
       "      <td>...</td>\n",
       "      <td>...</td>\n",
       "      <td>...</td>\n",
       "      <td>...</td>\n",
       "      <td>...</td>\n",
       "      <td>...</td>\n",
       "      <td>...</td>\n",
       "    </tr>\n",
       "    <tr>\n",
       "      <th>177065</th>\n",
       "      <td>23903</td>\n",
       "      <td>624249</td>\n",
       "      <td>602671</td>\n",
       "      <td>1076204</td>\n",
       "      <td>1805356</td>\n",
       "      <td>1251230</td>\n",
       "      <td>1656985</td>\n",
       "      <td>184980</td>\n",
       "      <td>2022473</td>\n",
       "      <td>763171</td>\n",
       "      <td>0.000233</td>\n",
       "    </tr>\n",
       "    <tr>\n",
       "      <th>177066</th>\n",
       "      <td>69447</td>\n",
       "      <td>716822</td>\n",
       "      <td>1328443</td>\n",
       "      <td>161963</td>\n",
       "      <td>1651522</td>\n",
       "      <td>1328997</td>\n",
       "      <td>780726</td>\n",
       "      <td>717106</td>\n",
       "      <td>1859462</td>\n",
       "      <td>459697</td>\n",
       "      <td>0.563402</td>\n",
       "    </tr>\n",
       "    <tr>\n",
       "      <th>177067</th>\n",
       "      <td>1550304</td>\n",
       "      <td>1426798</td>\n",
       "      <td>273237</td>\n",
       "      <td>1395589</td>\n",
       "      <td>2033823</td>\n",
       "      <td>460028</td>\n",
       "      <td>1839331</td>\n",
       "      <td>1576126</td>\n",
       "      <td>289602</td>\n",
       "      <td>136713</td>\n",
       "      <td>1.078995</td>\n",
       "    </tr>\n",
       "    <tr>\n",
       "      <th>177068</th>\n",
       "      <td>1116998</td>\n",
       "      <td>1197876</td>\n",
       "      <td>517435</td>\n",
       "      <td>1396359</td>\n",
       "      <td>273725</td>\n",
       "      <td>1803169</td>\n",
       "      <td>662857</td>\n",
       "      <td>1575734</td>\n",
       "      <td>1565340</td>\n",
       "      <td>745928</td>\n",
       "      <td>0.226957</td>\n",
       "    </tr>\n",
       "    <tr>\n",
       "      <th>177069</th>\n",
       "      <td>2004526</td>\n",
       "      <td>498187</td>\n",
       "      <td>1559210</td>\n",
       "      <td>2082999</td>\n",
       "      <td>1218244</td>\n",
       "      <td>483171</td>\n",
       "      <td>1262273</td>\n",
       "      <td>681451</td>\n",
       "      <td>389656</td>\n",
       "      <td>523423</td>\n",
       "      <td>1.018314</td>\n",
       "    </tr>\n",
       "  </tbody>\n",
       "</table>\n",
       "<p>165700 rows × 11 columns</p>\n",
       "</div>"
      ],
      "text/plain": [
       "              0        1        2        3        4        5        6  \\\n",
       "0       1572239  1194894  1717880  1300048  1006988   341077   398330   \n",
       "1        943786   849692  1676401  1056120   416551   937449  1180937   \n",
       "2        731397  1986443  1706245   167018   283306   722653   438010   \n",
       "4       1398419  1465133  1114720  1983750   702406    19910  1784740   \n",
       "5       1950320  1412311   553430   758537  1683191  1094798   769817   \n",
       "...         ...      ...      ...      ...      ...      ...      ...   \n",
       "177065    23903   624249   602671  1076204  1805356  1251230  1656985   \n",
       "177066    69447   716822  1328443   161963  1651522  1328997   780726   \n",
       "177067  1550304  1426798   273237  1395589  2033823   460028  1839331   \n",
       "177068  1116998  1197876   517435  1396359   273725  1803169   662857   \n",
       "177069  2004526   498187  1559210  2082999  1218244   483171  1262273   \n",
       "\n",
       "              7        8        9  top_score  \n",
       "0       1856280  1326593   794338   0.923182  \n",
       "1         80018   495680  1184491   0.980219  \n",
       "2       2015578  1162105  1322369   0.361114  \n",
       "4         63682     8478   819461   0.406496  \n",
       "5        236682     6328    74407   0.944184  \n",
       "...         ...      ...      ...        ...  \n",
       "177065   184980  2022473   763171   0.000233  \n",
       "177066   717106  1859462   459697   0.563402  \n",
       "177067  1576126   289602   136713   1.078995  \n",
       "177068  1575734  1565340   745928   0.226957  \n",
       "177069   681451   389656   523423   1.018314  \n",
       "\n",
       "[165700 rows x 11 columns]"
      ]
     },
     "execution_count": 35,
     "metadata": {},
     "output_type": "execute_result"
    }
   ],
   "source": [
    "pred"
   ]
  },
  {
   "cell_type": "markdown",
   "metadata": {},
   "source": [
    "#### adapting pred to submission format"
   ]
  },
  {
   "cell_type": "code",
   "execution_count": 36,
   "metadata": {},
   "outputs": [],
   "source": [
    "pred.drop('top_score', axis = 1, inplace = True)"
   ]
  },
  {
   "cell_type": "code",
   "execution_count": 37,
   "metadata": {},
   "outputs": [],
   "source": [
    "unique_seqs_test = test.seq.unique().shape[0] #177070"
   ]
  },
  {
   "cell_type": "code",
   "execution_count": 38,
   "metadata": {},
   "outputs": [],
   "source": [
    "pred = pred.reindex(index = range(unique_seqs_test))"
   ]
  },
  {
   "cell_type": "code",
   "execution_count": 39,
   "metadata": {},
   "outputs": [],
   "source": [
    "top_sellers = list(train[train.event_type.isnull()].item_bought.value_counts().head(10).index.astype(int))"
   ]
  },
  {
   "cell_type": "code",
   "execution_count": 40,
   "metadata": {},
   "outputs": [],
   "source": [
    "pred[pred[0].isnull()] = top_sellers"
   ]
  },
  {
   "cell_type": "code",
   "execution_count": 42,
   "metadata": {},
   "outputs": [],
   "source": [
    "pred_6_fn = 'pred_6_implicit.csv'\n",
    "pred_6_fp = os.path.join(reports_dir, pred_6_fn)\n",
    "pred.to_csv(pred_6_fp, header = None, index = None)"
   ]
  },
  {
   "cell_type": "markdown",
   "metadata": {},
   "source": [
    "#### saving implicit ALS model (pkl)\n",
    "all latent factors included in model"
   ]
  },
  {
   "cell_type": "code",
   "execution_count": 50,
   "metadata": {},
   "outputs": [],
   "source": [
    "model_6_fn = 'model_6_implicit.pkl'\n",
    "model_6_fp = os.path.join(models_dir, model_6_fn)\n",
    "with open(model_6_fp, 'wb') as f:\n",
    "    pickle.dump(model, f, pickle.HIGHEST_PROTOCOL)"
   ]
  },
  {
   "cell_type": "markdown",
   "metadata": {},
   "source": [
    "#### saving item factors (txt)\n",
    "vector ordered by event_info_id (see event_info_map for a map)"
   ]
  },
  {
   "cell_type": "code",
   "execution_count": 121,
   "metadata": {},
   "outputs": [
    {
     "name": "stderr",
     "output_type": "stream",
     "text": [
      "100%|██████████| 2101536/2101536 [23:08<00:00, 1513.19it/s]\n"
     ]
    }
   ],
   "source": [
    "item_factors_6_fn = 'item_factors_6.txt'\n",
    "item_factors_6_fp = os.path.join(models_dir, item_factors_6_fn)\n",
    "\n",
    "with open(item_factors_6_fp, 'w') as f:\n",
    "    for vec in tqdm(model.item_factors):\n",
    "        f.write('{}\\n'.format(' '.join(['{:e}'.format(item) for item in vec])))"
   ]
  },
  {
   "cell_type": "markdown",
   "metadata": {},
   "source": [
    "#### saving event_info_map (pkl)\n",
    "need to convert event_info (original from meli) into event_info_id (used in implicit)"
   ]
  },
  {
   "cell_type": "code",
   "execution_count": 124,
   "metadata": {},
   "outputs": [],
   "source": [
    "event_info_map_fn = 'event_info_map.pkl'\n",
    "event_info_map_fp = os.path.join(models_dir, event_info_map_fn)\n",
    "event_info_map.to_pickle(event_info_map_fp)"
   ]
  },
  {
   "cell_type": "markdown",
   "metadata": {},
   "source": [
    "#### testing loading implicit ALS model"
   ]
  },
  {
   "cell_type": "code",
   "execution_count": 125,
   "metadata": {},
   "outputs": [],
   "source": [
    "model_6_fn = 'model_6_implicit.pkl'\n",
    "model_6_fp = os.path.join(models_dir, model_6_fn)\n",
    "with open(model_6_fp, 'rb') as f:\n",
    "    # The protocol version used is detected automatically, so we do not\n",
    "    # have to specify it.\n",
    "    model_2 = pickle.load(f)"
   ]
  },
  {
   "cell_type": "markdown",
   "metadata": {},
   "source": [
    "____"
   ]
  },
  {
   "cell_type": "markdown",
   "metadata": {},
   "source": [
    "# refactor tests"
   ]
  },
  {
   "cell_type": "code",
   "execution_count": 52,
   "metadata": {},
   "outputs": [],
   "source": [
    "train_fn = 'train_dataset.pkl'\n",
    "test_fn = 'test_dataset.pkl'\n",
    "train, test = read_processed(train_fn, test_fn)"
   ]
  },
  {
   "cell_type": "code",
   "execution_count": 53,
   "metadata": {},
   "outputs": [],
   "source": [
    "true_fn = 'true.pkl'\n",
    "true_fp = os.path.join(processed_data_dir, true_fn)\n",
    "true_df = pd.read_pickle(true_fp)\n",
    "\n",
    "item_data_fn = 'item_data.jl.gz'\n",
    "item_data = pd.read_json(os.path.join(raw_data_dir, item_data_fn), lines=True)\n",
    "item_domain = item_data[['item_id', 'domain_id']]"
   ]
  },
  {
   "cell_type": "code",
   "execution_count": 54,
   "metadata": {},
   "outputs": [
    {
     "name": "stdout",
     "output_type": "stream",
     "text": [
      "train shape: (12412329, 6)\n",
      "train/test shapes: (1982990, 6) (483928, 5)\n"
     ]
    }
   ],
   "source": [
    "# validation = 0.2 # 0.2: 20% of original train will be test\n",
    "# keep_train = 0.6  # 0.6: 60% of train for validation\n",
    "\n",
    "validation = 0.2 \n",
    "keep_train = 0.2  \n",
    "\n",
    "# validation = 0.2 \n",
    "# keep_train = 0.4 \n",
    "\n",
    "if validation:\n",
    "    train_red, test_red = shrink_and_split(train, keep_train = keep_train, validation = validation)"
   ]
  },
  {
   "cell_type": "code",
   "execution_count": 55,
   "metadata": {},
   "outputs": [
    {
     "data": {
      "text/plain": [
       "{'buy_weight': [200],\n",
       " 'regularization': [0.01, 0.1],\n",
       " 'iterations': [10, 15],\n",
       " 'factors': [128],\n",
       " 'alpha_val': [200],\n",
       " 'old_sessions_threshold': [1, 3, 5, 7]}"
      ]
     },
     "execution_count": 55,
     "metadata": {},
     "output_type": "execute_result"
    }
   ],
   "source": [
    "# grid = dict(buy_weight = [50, 100, 200],\n",
    "#             regularization = [0.01, 0.03, 0.1, 0.3],\n",
    "#             iterations = [10, 15, 20],\n",
    "#             factors = [32, 64, 128],\n",
    "#             alpha_val = [50, 100, 200])\n",
    "\n",
    "grid = dict(buy_weight = [200],\n",
    "            regularization = [0.01, 0.1],\n",
    "            iterations = [10, 15],\n",
    "            factors = [128],\n",
    "            alpha_val = [200])\n",
    "\n",
    "\n",
    "\n",
    "# grid = dict(buy_weight = [100, 200],\n",
    "#             regularization = [0.01],\n",
    "#             iterations = [15],\n",
    "#             factors = [768],\n",
    "#             alpha_val = [200])\n",
    "\n",
    "\n",
    "grid = dict(buy_weight = [200],\n",
    "            regularization = [0.01, 0.1],\n",
    "            iterations = [10, 15],\n",
    "            factors = [128],\n",
    "            alpha_val = [200], \n",
    "            old_sessions_threshold = [1,3,5,7]\n",
    "            )\n",
    "\n",
    "grid"
   ]
  },
  {
   "cell_type": "code",
   "execution_count": 57,
   "metadata": {},
   "outputs": [
    {
     "data": {
      "text/plain": [
       "32"
      ]
     },
     "execution_count": 57,
     "metadata": {},
     "output_type": "execute_result"
    }
   ],
   "source": [
    "len(list(ParameterGrid(grid))) * 2"
   ]
  },
  {
   "cell_type": "code",
   "execution_count": 58,
   "metadata": {},
   "outputs": [],
   "source": [
    "def cut_old_sessions(df_train_a, df_test_a, old_sessions_threshold = None, **kwargs):\n",
    "    \n",
    "    # print(old_sessions_threshold)\n",
    "    # print(kwargs)\n",
    "    \n",
    "    eight_hours = 60 * 60 * 8\n",
    "    \n",
    "    df_train = df_train_a.copy()\n",
    "    df_test  = df_test_a.copy()\n",
    "    \n",
    "    print('train shape:', df_train.shape)\n",
    "    print('test shape :', df_test.shape)\n",
    "    \n",
    "    df_train['session'] = df_train.time_diff > eight_hours\n",
    "    df_train = df_train.loc[::-1]\n",
    "    df_train['session'] = df_train.groupby('seq').session.cumsum()\n",
    "    df_train = df_train.loc[::-1]\n",
    "    df_train = df_train[df_train.session < old_sessions_threshold]\n",
    "    df_train.drop(columns = 'session', inplace = True)\n",
    "    \n",
    "    df_test['session'] = df_test.time_diff > eight_hours\n",
    "    df_test = df_test.loc[::-1]\n",
    "    df_test['session'] = df_test.groupby('seq').session.cumsum()\n",
    "    df_test = df_test.loc[::-1]\n",
    "    df_test = df_test[df_test.session < old_sessions_threshold]\n",
    "    df_test.drop(columns = 'session', inplace = True)\n",
    "\n",
    "    print('train shape:', df_train.shape)\n",
    "    print('test shape :', df_test.shape)\n",
    "    \n",
    "    return df_train, df_test\n"
   ]
  },
  {
   "cell_type": "code",
   "execution_count": 59,
   "metadata": {},
   "outputs": [
    {
     "name": "stdout",
     "output_type": "stream",
     "text": [
      "1\n",
      "{'alpha_val': 200, 'buy_weight': 200, 'factors': 128, 'iterations': 10, 'regularization': 0.01}\n",
      "train shape: (1982990, 6)\n",
      "test shape : (483928, 5)\n",
      "train shape: (953930, 6)\n",
      "test shape : (223233, 5)\n"
     ]
    }
   ],
   "source": [
    "tr, tt = cut_old_sessions(train_red, test_red, **p)"
   ]
  },
  {
   "cell_type": "code",
   "execution_count": null,
   "metadata": {},
   "outputs": [],
   "source": []
  },
  {
   "cell_type": "code",
   "execution_count": 60,
   "metadata": {},
   "outputs": [
    {
     "name": "stdout",
     "output_type": "stream",
     "text": [
      "{'alpha_val': 200, 'buy_weight': 200, 'factors': 128, 'iterations': 10, 'old_sessions_threshold': 1, 'regularization': 0.01}\n",
      "MLflow:\n",
      "  run_id: cb05820c700d4af48d22bb766d0ff9a3\n",
      "  experiment_id: 3\n",
      "1\n",
      "{'alpha_val': 200, 'buy_weight': 200, 'factors': 128, 'iterations': 10, 'regularization': 0.01}\n",
      "train shape: (1982990, 6)\n",
      "test shape : (483928, 5)\n",
      "train shape: (953930, 6)\n",
      "test shape : (223233, 5)\n"
     ]
    },
    {
     "data": {
      "application/vnd.jupyter.widget-view+json": {
       "model_id": "2499cf6570af4714ba0c428834622815",
       "version_major": 2,
       "version_minor": 0
      },
      "text/plain": [
       "HBox(children=(FloatProgress(value=0.0, max=10.0), HTML(value='')))"
      ]
     },
     "metadata": {},
     "output_type": "display_data"
    },
    {
     "name": "stderr",
     "output_type": "stream",
     "text": [
      "  0%|          | 14/13742 [00:00<01:40, 136.08it/s]"
     ]
    },
    {
     "name": "stdout",
     "output_type": "stream",
     "text": [
      "\n"
     ]
    },
    {
     "name": "stderr",
     "output_type": "stream",
     "text": [
      "100%|██████████| 13742/13742 [02:21<00:00, 97.33it/s] \n"
     ]
    },
    {
     "name": "stdout",
     "output_type": "stream",
     "text": [
      "mean ndcg: 0.3739206671936475\n",
      "ndcg > 0: 0.45750254693639936\n",
      "{'alpha_val': 200, 'buy_weight': 200, 'factors': 128, 'iterations': 10, 'old_sessions_threshold': 1, 'regularization': 0.1}\n",
      "MLflow:\n",
      "  run_id: 9251afbe75e14eb18b44ffc96d642258\n",
      "  experiment_id: 3\n",
      "1\n",
      "{'alpha_val': 200, 'buy_weight': 200, 'factors': 128, 'iterations': 10, 'regularization': 0.1}\n",
      "train shape: (1982990, 6)\n",
      "test shape : (483928, 5)\n",
      "train shape: (953930, 6)\n",
      "test shape : (223233, 5)\n"
     ]
    },
    {
     "data": {
      "application/vnd.jupyter.widget-view+json": {
       "model_id": "134dcfd230de4984899e4aa327d4379f",
       "version_major": 2,
       "version_minor": 0
      },
      "text/plain": [
       "HBox(children=(FloatProgress(value=0.0, max=10.0), HTML(value='')))"
      ]
     },
     "metadata": {},
     "output_type": "display_data"
    },
    {
     "name": "stderr",
     "output_type": "stream",
     "text": [
      "  0%|          | 13/13742 [00:00<01:53, 121.19it/s]"
     ]
    },
    {
     "name": "stdout",
     "output_type": "stream",
     "text": [
      "\n"
     ]
    },
    {
     "name": "stderr",
     "output_type": "stream",
     "text": [
      "100%|██████████| 13742/13742 [02:11<00:00, 104.66it/s]\n"
     ]
    },
    {
     "name": "stdout",
     "output_type": "stream",
     "text": [
      "mean ndcg: 0.3713664873349885\n",
      "ndcg > 0: 0.4501528161839616\n",
      "{'alpha_val': 200, 'buy_weight': 200, 'factors': 128, 'iterations': 10, 'old_sessions_threshold': 3, 'regularization': 0.01}\n",
      "MLflow:\n",
      "  run_id: dcca48bf9eee4abf9c8525948bf1b9eb\n",
      "  experiment_id: 3\n",
      "3\n",
      "{'alpha_val': 200, 'buy_weight': 200, 'factors': 128, 'iterations': 10, 'regularization': 0.01}\n",
      "train shape: (1982990, 6)\n",
      "test shape : (483928, 5)\n",
      "train shape: (1751803, 6)\n",
      "test shape : (425617, 5)\n"
     ]
    },
    {
     "data": {
      "application/vnd.jupyter.widget-view+json": {
       "model_id": "b3ec055f506f443890668b17e0dc31c0",
       "version_major": 2,
       "version_minor": 0
      },
      "text/plain": [
       "HBox(children=(FloatProgress(value=0.0, max=10.0), HTML(value='')))"
      ]
     },
     "metadata": {},
     "output_type": "display_data"
    },
    {
     "name": "stderr",
     "output_type": "stream",
     "text": [
      "  0%|          | 8/15524 [00:00<03:33, 72.79it/s]"
     ]
    },
    {
     "name": "stdout",
     "output_type": "stream",
     "text": [
      "\n"
     ]
    },
    {
     "name": "stderr",
     "output_type": "stream",
     "text": [
      "100%|██████████| 15524/15524 [04:25<00:00, 58.54it/s]\n"
     ]
    },
    {
     "name": "stdout",
     "output_type": "stream",
     "text": [
      "mean ndcg: 0.3911240151790666\n",
      "ndcg > 0: 0.48924246328265913\n",
      "{'alpha_val': 200, 'buy_weight': 200, 'factors': 128, 'iterations': 10, 'old_sessions_threshold': 3, 'regularization': 0.1}\n",
      "MLflow:\n",
      "  run_id: 68dc3f5cbf9444df89ee4257d6b80373\n",
      "  experiment_id: 3\n",
      "3\n",
      "{'alpha_val': 200, 'buy_weight': 200, 'factors': 128, 'iterations': 10, 'regularization': 0.1}\n",
      "train shape: (1982990, 6)\n",
      "test shape : (483928, 5)\n",
      "train shape: (1751803, 6)\n",
      "test shape : (425617, 5)\n"
     ]
    },
    {
     "data": {
      "application/vnd.jupyter.widget-view+json": {
       "model_id": "89d2eaeb31864bb880383d973e59b6f5",
       "version_major": 2,
       "version_minor": 0
      },
      "text/plain": [
       "HBox(children=(FloatProgress(value=0.0, max=10.0), HTML(value='')))"
      ]
     },
     "metadata": {},
     "output_type": "display_data"
    },
    {
     "name": "stderr",
     "output_type": "stream",
     "text": [
      "  0%|          | 8/15524 [00:00<03:15, 79.36it/s]"
     ]
    },
    {
     "name": "stdout",
     "output_type": "stream",
     "text": [
      "\n"
     ]
    },
    {
     "name": "stderr",
     "output_type": "stream",
     "text": [
      "100%|██████████| 15524/15524 [04:11<00:00, 61.82it/s]\n"
     ]
    },
    {
     "name": "stdout",
     "output_type": "stream",
     "text": [
      "mean ndcg: 0.39306612762622384\n",
      "ndcg > 0: 0.4868590569440866\n",
      "{'alpha_val': 200, 'buy_weight': 200, 'factors': 128, 'iterations': 10, 'old_sessions_threshold': 5, 'regularization': 0.01}\n",
      "MLflow:\n",
      "  run_id: 1bf442b91611476eb6a0ff187339cfd8\n",
      "  experiment_id: 3\n",
      "5\n",
      "{'alpha_val': 200, 'buy_weight': 200, 'factors': 128, 'iterations': 10, 'regularization': 0.01}\n",
      "train shape: (1982990, 6)\n",
      "test shape : (483928, 5)\n",
      "train shape: (1940978, 6)\n",
      "test shape : (472083, 5)\n"
     ]
    },
    {
     "data": {
      "application/vnd.jupyter.widget-view+json": {
       "model_id": "6b2b8a23f9944d1e91a5473314de4091",
       "version_major": 2,
       "version_minor": 0
      },
      "text/plain": [
       "HBox(children=(FloatProgress(value=0.0, max=10.0), HTML(value='')))"
      ]
     },
     "metadata": {},
     "output_type": "display_data"
    },
    {
     "name": "stderr",
     "output_type": "stream",
     "text": [
      "  0%|          | 8/15533 [00:00<03:41, 70.06it/s]"
     ]
    },
    {
     "name": "stdout",
     "output_type": "stream",
     "text": [
      "\n"
     ]
    },
    {
     "name": "stderr",
     "output_type": "stream",
     "text": [
      "100%|██████████| 15533/15533 [04:34<00:00, 56.56it/s]\n"
     ]
    },
    {
     "name": "stdout",
     "output_type": "stream",
     "text": [
      "mean ndcg: 0.3923225046042376\n",
      "ndcg > 0: 0.4932080087555527\n",
      "{'alpha_val': 200, 'buy_weight': 200, 'factors': 128, 'iterations': 10, 'old_sessions_threshold': 5, 'regularization': 0.1}\n",
      "MLflow:\n",
      "  run_id: e8883903a4bd4a9b986e27d404d0da00\n",
      "  experiment_id: 3\n",
      "5\n",
      "{'alpha_val': 200, 'buy_weight': 200, 'factors': 128, 'iterations': 10, 'regularization': 0.1}\n",
      "train shape: (1982990, 6)\n",
      "test shape : (483928, 5)\n",
      "train shape: (1940978, 6)\n",
      "test shape : (472083, 5)\n"
     ]
    },
    {
     "data": {
      "application/vnd.jupyter.widget-view+json": {
       "model_id": "a3498a177fd94873a04ab6c1941bf60e",
       "version_major": 2,
       "version_minor": 0
      },
      "text/plain": [
       "HBox(children=(FloatProgress(value=0.0, max=10.0), HTML(value='')))"
      ]
     },
     "metadata": {},
     "output_type": "display_data"
    },
    {
     "name": "stderr",
     "output_type": "stream",
     "text": [
      "  0%|          | 7/15533 [00:00<03:49, 67.55it/s]"
     ]
    },
    {
     "name": "stdout",
     "output_type": "stream",
     "text": [
      "\n"
     ]
    },
    {
     "name": "stderr",
     "output_type": "stream",
     "text": [
      "100%|██████████| 15533/15533 [04:44<00:00, 54.65it/s]\n"
     ]
    },
    {
     "name": "stdout",
     "output_type": "stream",
     "text": [
      "mean ndcg: 0.39435590701779066\n",
      "ndcg > 0: 0.49307925062769586\n",
      "{'alpha_val': 200, 'buy_weight': 200, 'factors': 128, 'iterations': 10, 'old_sessions_threshold': 7, 'regularization': 0.01}\n",
      "MLflow:\n",
      "  run_id: 34ae0ffb938d4d36bb4bbe26fd92728a\n",
      "  experiment_id: 3\n",
      "7\n",
      "{'alpha_val': 200, 'buy_weight': 200, 'factors': 128, 'iterations': 10, 'regularization': 0.01}\n",
      "train shape: (1982990, 6)\n",
      "test shape : (483928, 5)\n",
      "train shape: (1977343, 6)\n",
      "test shape : (482265, 5)\n"
     ]
    },
    {
     "data": {
      "application/vnd.jupyter.widget-view+json": {
       "model_id": "d35f7917c35540c6a1a1c4fc51f1d254",
       "version_major": 2,
       "version_minor": 0
      },
      "text/plain": [
       "HBox(children=(FloatProgress(value=0.0, max=10.0), HTML(value='')))"
      ]
     },
     "metadata": {},
     "output_type": "display_data"
    },
    {
     "name": "stderr",
     "output_type": "stream",
     "text": [
      "  0%|          | 7/15533 [00:00<04:01, 64.26it/s]"
     ]
    },
    {
     "name": "stdout",
     "output_type": "stream",
     "text": [
      "\n"
     ]
    },
    {
     "name": "stderr",
     "output_type": "stream",
     "text": [
      "100%|██████████| 15533/15533 [04:59<00:00, 51.86it/s]\n"
     ]
    },
    {
     "name": "stdout",
     "output_type": "stream",
     "text": [
      "mean ndcg: 0.3917381115926225\n",
      "ndcg > 0: 0.49307925062769586\n",
      "{'alpha_val': 200, 'buy_weight': 200, 'factors': 128, 'iterations': 10, 'old_sessions_threshold': 7, 'regularization': 0.1}\n",
      "MLflow:\n",
      "  run_id: e564d3f3823d4af3bceabacb18a5a068\n",
      "  experiment_id: 3\n",
      "7\n",
      "{'alpha_val': 200, 'buy_weight': 200, 'factors': 128, 'iterations': 10, 'regularization': 0.1}\n",
      "train shape: (1982990, 6)\n",
      "test shape : (483928, 5)\n",
      "train shape: (1977343, 6)\n",
      "test shape : (482265, 5)\n"
     ]
    },
    {
     "data": {
      "application/vnd.jupyter.widget-view+json": {
       "model_id": "188a9d5ba4a5460eb55a88b0ad0a46c4",
       "version_major": 2,
       "version_minor": 0
      },
      "text/plain": [
       "HBox(children=(FloatProgress(value=0.0, max=10.0), HTML(value='')))"
      ]
     },
     "metadata": {},
     "output_type": "display_data"
    },
    {
     "name": "stderr",
     "output_type": "stream",
     "text": [
      "  0%|          | 7/15533 [00:00<03:53, 66.52it/s]"
     ]
    },
    {
     "name": "stdout",
     "output_type": "stream",
     "text": [
      "\n"
     ]
    },
    {
     "name": "stderr",
     "output_type": "stream",
     "text": [
      "100%|██████████| 15533/15533 [04:56<00:00, 52.31it/s]\n"
     ]
    },
    {
     "name": "stdout",
     "output_type": "stream",
     "text": [
      "mean ndcg: 0.39333982958237246\n",
      "ndcg > 0: 0.4937874203309084\n",
      "{'alpha_val': 200, 'buy_weight': 200, 'factors': 128, 'iterations': 15, 'old_sessions_threshold': 1, 'regularization': 0.01}\n",
      "MLflow:\n",
      "  run_id: 734d45ee256d4ad0b37d4153fbc87de1\n",
      "  experiment_id: 3\n",
      "1\n",
      "{'alpha_val': 200, 'buy_weight': 200, 'factors': 128, 'iterations': 15, 'regularization': 0.01}\n",
      "train shape: (1982990, 6)\n",
      "test shape : (483928, 5)\n",
      "train shape: (953930, 6)\n",
      "test shape : (223233, 5)\n"
     ]
    },
    {
     "data": {
      "application/vnd.jupyter.widget-view+json": {
       "model_id": "5a963b3845d24f028fc380d507bb6d59",
       "version_major": 2,
       "version_minor": 0
      },
      "text/plain": [
       "HBox(children=(FloatProgress(value=0.0, max=15.0), HTML(value='')))"
      ]
     },
     "metadata": {},
     "output_type": "display_data"
    },
    {
     "name": "stderr",
     "output_type": "stream",
     "text": [
      "  0%|          | 12/13742 [00:00<02:01, 113.40it/s]"
     ]
    },
    {
     "name": "stdout",
     "output_type": "stream",
     "text": [
      "\n"
     ]
    },
    {
     "name": "stderr",
     "output_type": "stream",
     "text": [
      "100%|██████████| 13742/13742 [02:12<00:00, 103.84it/s]\n"
     ]
    },
    {
     "name": "stdout",
     "output_type": "stream",
     "text": [
      "mean ndcg: 0.36810798533225203\n",
      "ndcg > 0: 0.4529908310289623\n",
      "{'alpha_val': 200, 'buy_weight': 200, 'factors': 128, 'iterations': 15, 'old_sessions_threshold': 1, 'regularization': 0.1}\n",
      "MLflow:\n",
      "  run_id: fdc3367af85847148347711965f3cf5f\n",
      "  experiment_id: 3\n",
      "1\n",
      "{'alpha_val': 200, 'buy_weight': 200, 'factors': 128, 'iterations': 15, 'regularization': 0.1}\n",
      "train shape: (1982990, 6)\n",
      "test shape : (483928, 5)\n",
      "train shape: (953930, 6)\n",
      "test shape : (223233, 5)\n"
     ]
    },
    {
     "data": {
      "application/vnd.jupyter.widget-view+json": {
       "model_id": "5c7566e2086e402b84b771fc3fcf3339",
       "version_major": 2,
       "version_minor": 0
      },
      "text/plain": [
       "HBox(children=(FloatProgress(value=0.0, max=15.0), HTML(value='')))"
      ]
     },
     "metadata": {},
     "output_type": "display_data"
    },
    {
     "name": "stderr",
     "output_type": "stream",
     "text": [
      "  0%|          | 16/13742 [00:00<01:29, 153.10it/s]"
     ]
    },
    {
     "name": "stdout",
     "output_type": "stream",
     "text": [
      "\n"
     ]
    },
    {
     "name": "stderr",
     "output_type": "stream",
     "text": [
      "100%|██████████| 13742/13742 [01:47<00:00, 128.12it/s]\n"
     ]
    },
    {
     "name": "stdout",
     "output_type": "stream",
     "text": [
      "mean ndcg: 0.3661238964049067\n",
      "ndcg > 0: 0.4453500218308834\n",
      "{'alpha_val': 200, 'buy_weight': 200, 'factors': 128, 'iterations': 15, 'old_sessions_threshold': 3, 'regularization': 0.01}\n",
      "MLflow:\n",
      "  run_id: 98425f6c332c4524a0d55a607a855e64\n",
      "  experiment_id: 3\n",
      "3\n",
      "{'alpha_val': 200, 'buy_weight': 200, 'factors': 128, 'iterations': 15, 'regularization': 0.01}\n",
      "train shape: (1982990, 6)\n",
      "test shape : (483928, 5)\n",
      "train shape: (1751803, 6)\n",
      "test shape : (425617, 5)\n"
     ]
    },
    {
     "data": {
      "application/vnd.jupyter.widget-view+json": {
       "model_id": "3ebdb8f0620a44b8a2b1a445311b7123",
       "version_major": 2,
       "version_minor": 0
      },
      "text/plain": [
       "HBox(children=(FloatProgress(value=0.0, max=15.0), HTML(value='')))"
      ]
     },
     "metadata": {},
     "output_type": "display_data"
    },
    {
     "name": "stderr",
     "output_type": "stream",
     "text": [
      "  0%|          | 8/15524 [00:00<03:41, 69.95it/s]"
     ]
    },
    {
     "name": "stdout",
     "output_type": "stream",
     "text": [
      "\n"
     ]
    },
    {
     "name": "stderr",
     "output_type": "stream",
     "text": [
      "100%|██████████| 15524/15524 [04:27<00:00, 58.09it/s]\n"
     ]
    },
    {
     "name": "stdout",
     "output_type": "stream",
     "text": [
      "mean ndcg: 0.38787273965625385\n",
      "ndcg > 0: 0.48730997165678946\n",
      "{'alpha_val': 200, 'buy_weight': 200, 'factors': 128, 'iterations': 15, 'old_sessions_threshold': 3, 'regularization': 0.1}\n",
      "MLflow:\n",
      "  run_id: 41b2238719be434cabd1c6846bcbec78\n",
      "  experiment_id: 3\n",
      "3\n",
      "{'alpha_val': 200, 'buy_weight': 200, 'factors': 128, 'iterations': 15, 'regularization': 0.1}\n",
      "train shape: (1982990, 6)\n",
      "test shape : (483928, 5)\n",
      "train shape: (1751803, 6)\n",
      "test shape : (425617, 5)\n"
     ]
    },
    {
     "data": {
      "application/vnd.jupyter.widget-view+json": {
       "model_id": "c88bf504502948c6b7a124387f802ffc",
       "version_major": 2,
       "version_minor": 0
      },
      "text/plain": [
       "HBox(children=(FloatProgress(value=0.0, max=15.0), HTML(value='')))"
      ]
     },
     "metadata": {},
     "output_type": "display_data"
    },
    {
     "name": "stderr",
     "output_type": "stream",
     "text": [
      "  0%|          | 8/15524 [00:00<03:38, 70.88it/s]"
     ]
    },
    {
     "name": "stdout",
     "output_type": "stream",
     "text": [
      "\n"
     ]
    },
    {
     "name": "stderr",
     "output_type": "stream",
     "text": [
      "100%|██████████| 15524/15524 [04:24<00:00, 58.60it/s]\n"
     ]
    },
    {
     "name": "stdout",
     "output_type": "stream",
     "text": [
      "mean ndcg: 0.3881456239587888\n",
      "ndcg > 0: 0.48454006699304303\n",
      "{'alpha_val': 200, 'buy_weight': 200, 'factors': 128, 'iterations': 15, 'old_sessions_threshold': 5, 'regularization': 0.01}\n",
      "MLflow:\n",
      "  run_id: cc7c10bd101b434ead6f52990b7e1468\n",
      "  experiment_id: 3\n",
      "5\n",
      "{'alpha_val': 200, 'buy_weight': 200, 'factors': 128, 'iterations': 15, 'regularization': 0.01}\n",
      "train shape: (1982990, 6)\n",
      "test shape : (483928, 5)\n",
      "train shape: (1940978, 6)\n",
      "test shape : (472083, 5)\n"
     ]
    },
    {
     "data": {
      "application/vnd.jupyter.widget-view+json": {
       "model_id": "9a2adb64a9514f66abbb238e07ba43a9",
       "version_major": 2,
       "version_minor": 0
      },
      "text/plain": [
       "HBox(children=(FloatProgress(value=0.0, max=15.0), HTML(value='')))"
      ]
     },
     "metadata": {},
     "output_type": "display_data"
    },
    {
     "name": "stderr",
     "output_type": "stream",
     "text": [
      "  0%|          | 8/15533 [00:00<03:53, 66.51it/s]"
     ]
    },
    {
     "name": "stdout",
     "output_type": "stream",
     "text": [
      "\n"
     ]
    },
    {
     "name": "stderr",
     "output_type": "stream",
     "text": [
      "100%|██████████| 15533/15533 [04:33<00:00, 56.75it/s]\n"
     ]
    },
    {
     "name": "stdout",
     "output_type": "stream",
     "text": [
      "mean ndcg: 0.3887070462369265\n",
      "ndcg > 0: 0.4907616043262731\n",
      "{'alpha_val': 200, 'buy_weight': 200, 'factors': 128, 'iterations': 15, 'old_sessions_threshold': 5, 'regularization': 0.1}\n",
      "MLflow:\n",
      "  run_id: 5d547cce07184b82a145bd03e77cd0f4\n",
      "  experiment_id: 3\n",
      "5\n",
      "{'alpha_val': 200, 'buy_weight': 200, 'factors': 128, 'iterations': 15, 'regularization': 0.1}\n",
      "train shape: (1982990, 6)\n",
      "test shape : (483928, 5)\n",
      "train shape: (1940978, 6)\n",
      "test shape : (472083, 5)\n"
     ]
    },
    {
     "data": {
      "application/vnd.jupyter.widget-view+json": {
       "model_id": "e5443f2823cd4701aed78aa8645a0a94",
       "version_major": 2,
       "version_minor": 0
      },
      "text/plain": [
       "HBox(children=(FloatProgress(value=0.0, max=15.0), HTML(value='')))"
      ]
     },
     "metadata": {},
     "output_type": "display_data"
    },
    {
     "name": "stderr",
     "output_type": "stream",
     "text": [
      "  0%|          | 8/15533 [00:00<03:47, 68.37it/s]"
     ]
    },
    {
     "name": "stdout",
     "output_type": "stream",
     "text": [
      "\n"
     ]
    },
    {
     "name": "stderr",
     "output_type": "stream",
     "text": [
      "100%|██████████| 15533/15533 [04:39<00:00, 55.56it/s]\n"
     ]
    },
    {
     "name": "stdout",
     "output_type": "stream",
     "text": [
      "mean ndcg: 0.38989531548763784\n",
      "ndcg > 0: 0.4897315393034185\n",
      "{'alpha_val': 200, 'buy_weight': 200, 'factors': 128, 'iterations': 15, 'old_sessions_threshold': 7, 'regularization': 0.01}\n",
      "MLflow:\n",
      "  run_id: d2f35467c8824723966643a0f16a696f\n",
      "  experiment_id: 3\n",
      "7\n",
      "{'alpha_val': 200, 'buy_weight': 200, 'factors': 128, 'iterations': 15, 'regularization': 0.01}\n",
      "train shape: (1982990, 6)\n",
      "test shape : (483928, 5)\n",
      "train shape: (1977343, 6)\n",
      "test shape : (482265, 5)\n"
     ]
    },
    {
     "data": {
      "application/vnd.jupyter.widget-view+json": {
       "model_id": "05010eebcdba43e2954d8a8f559442b7",
       "version_major": 2,
       "version_minor": 0
      },
      "text/plain": [
       "HBox(children=(FloatProgress(value=0.0, max=15.0), HTML(value='')))"
      ]
     },
     "metadata": {},
     "output_type": "display_data"
    },
    {
     "name": "stderr",
     "output_type": "stream",
     "text": [
      "  0%|          | 7/15533 [00:00<04:17, 60.32it/s]"
     ]
    },
    {
     "name": "stdout",
     "output_type": "stream",
     "text": [
      "\n"
     ]
    },
    {
     "name": "stderr",
     "output_type": "stream",
     "text": [
      "100%|██████████| 15533/15533 [04:53<00:00, 53.01it/s]\n"
     ]
    },
    {
     "name": "stdout",
     "output_type": "stream",
     "text": [
      "mean ndcg: 0.3876895231487981\n",
      "ndcg > 0: 0.488701474280564\n",
      "{'alpha_val': 200, 'buy_weight': 200, 'factors': 128, 'iterations': 15, 'old_sessions_threshold': 7, 'regularization': 0.1}\n",
      "MLflow:\n",
      "  run_id: 5112460411954cafa5e326c8c22a4636\n",
      "  experiment_id: 3\n",
      "7\n",
      "{'alpha_val': 200, 'buy_weight': 200, 'factors': 128, 'iterations': 15, 'regularization': 0.1}\n",
      "train shape: (1982990, 6)\n",
      "test shape : (483928, 5)\n",
      "train shape: (1977343, 6)\n",
      "test shape : (482265, 5)\n"
     ]
    },
    {
     "data": {
      "application/vnd.jupyter.widget-view+json": {
       "model_id": "4d58ed4f94764b2a8fd0f99eb76d67de",
       "version_major": 2,
       "version_minor": 0
      },
      "text/plain": [
       "HBox(children=(FloatProgress(value=0.0, max=15.0), HTML(value='')))"
      ]
     },
     "metadata": {},
     "output_type": "display_data"
    },
    {
     "name": "stderr",
     "output_type": "stream",
     "text": [
      "  0%|          | 7/15533 [00:00<04:06, 62.87it/s]"
     ]
    },
    {
     "name": "stdout",
     "output_type": "stream",
     "text": [
      "\n"
     ]
    },
    {
     "name": "stderr",
     "output_type": "stream",
     "text": [
      "100%|██████████| 15533/15533 [05:02<00:00, 51.42it/s]\n"
     ]
    },
    {
     "name": "stdout",
     "output_type": "stream",
     "text": [
      "mean ndcg: 0.38938247899481226\n",
      "ndcg > 0: 0.48863709521663556\n"
     ]
    }
   ],
   "source": [
    "mlflow.set_experiment('test refactor')\n",
    "\n",
    "for param in ParameterGrid(grid):\n",
    "    print(param)\n",
    "    with mlflow.start_run() as run:\n",
    "        print(\"MLflow:\")\n",
    "        print(\"  run_id:\",run.info.run_id)\n",
    "        print(\"  experiment_id:\",run.info.experiment_id)\n",
    "        \n",
    "        train_old_cut, test_old_cut = cut_old_sessions(train_red, test_red, **param)\n",
    "        \n",
    "        test_offset, test_shifted_seq_vals, train_test = join_prepare_train_test(train_old_cut, test_old_cut, **param)\n",
    "        model, seq_map, event_info_map, sparse_user_item = fit_implicit_model(train_test, **param)\n",
    "        pred = predict_implicit_model(model, sparse_user_item, \n",
    "                                      seq_map, event_info_map, test_shifted_seq_vals, \n",
    "                                      10, test_offset, \n",
    "                                      validation = True, true_df = true_df, item_domain = item_domain)\n",
    "        \n",
    "        mlflow.log_param('val_keep', {'v': validation, 'k': keep_train})\n",
    "        \n",
    "        pred_fn = 'pred__' + '__'.join([k + '_' + str(v) for k, v in param.items()]) + '.csv'\n",
    "        pred_fp = os.path.join(cv_dir, pred_fn)\n",
    "        pred.to_csv(pred_fp)\n",
    "        \n",
    "        mlflow.log_params(param)\n",
    "        mlflow.log_artifact(pred_fp)\n",
    "        \n",
    "        mean_ndcg = pred.ndcg.mean()\n",
    "        ndcg_larger_than_zero = (pred.ndcg > 0).mean()\n",
    "        \n",
    "        print('mean ndcg:', mean_ndcg)\n",
    "        print('ndcg > 0:', ndcg_larger_than_zero)\n",
    "        \n",
    "        mlflow.log_metric('mean_ndcg', mean_ndcg)\n",
    "        mlflow.log_metric('ndcg_gt_0', ndcg_larger_than_zero)\n"
   ]
  },
  {
   "cell_type": "code",
   "execution_count": null,
   "metadata": {},
   "outputs": [],
   "source": []
  }
 ],
 "metadata": {
  "environment": {
   "name": "tf2-2-3-gpu.2-3.m59",
   "type": "gcloud",
   "uri": "gcr.io/deeplearning-platform-release/tf2-2-3-gpu.2-3:m59"
  },
  "kernelspec": {
   "display_name": "Python 3",
   "language": "python",
   "name": "python3"
  },
  "language_info": {
   "codemirror_mode": {
    "name": "ipython",
    "version": 3
   },
   "file_extension": ".py",
   "mimetype": "text/x-python",
   "name": "python",
   "nbconvert_exporter": "python",
   "pygments_lexer": "ipython3",
   "version": "3.7.8"
  }
 },
 "nbformat": 4,
 "nbformat_minor": 4
}
