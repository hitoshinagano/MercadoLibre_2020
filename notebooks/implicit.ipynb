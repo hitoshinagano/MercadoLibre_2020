{
 "cells": [
  {
   "cell_type": "markdown",
   "metadata": {},
   "source": [
    "# validation & prediction with implicit\n",
    "This notebook contains a grid search for validation with implicit. It also contains a prediction script to produce submissions."
   ]
  },
  {
   "cell_type": "markdown",
   "metadata": {},
   "source": [
    "## autoreload"
   ]
  },
  {
   "cell_type": "code",
   "execution_count": 1,
   "metadata": {},
   "outputs": [],
   "source": [
    "%load_ext autoreload\n",
    "%autoreload 2"
   ]
  },
  {
   "cell_type": "markdown",
   "metadata": {},
   "source": [
    "## dir setup"
   ]
  },
  {
   "cell_type": "code",
   "execution_count": 2,
   "metadata": {},
   "outputs": [
    {
     "data": {
      "text/plain": [
       "True"
      ]
     },
     "execution_count": 2,
     "metadata": {},
     "output_type": "execute_result"
    }
   ],
   "source": [
    "from dotenv import load_dotenv, find_dotenv\n",
    "import os\n",
    "\n",
    "this_file_path = os.path.dirname(os.path.abspath(\"__file__\"))\n",
    "# if script (not notebook)...\n",
    "# project_dir = os.path.join(os.path.dirname(__file__), os.pardir)\n",
    "\n",
    "# project directory\n",
    "project_dir = os.path.join(this_file_path, os.pardir)\n",
    "\n",
    "# find .env automagically by walking up directories until it's found\n",
    "dotenv_path = find_dotenv()\n",
    "\n",
    "# load up the entries as environment variables\n",
    "load_dotenv(dotenv_path)"
   ]
  },
  {
   "cell_type": "code",
   "execution_count": 3,
   "metadata": {},
   "outputs": [],
   "source": [
    "raw_data_dir = os.path.join(project_dir, os.environ.get(\"RAW_DATA_DIR\"))\n",
    "processed_data_dir = os.path.join(project_dir, os.environ.get(\"PROCESSED_DATA_DIR\"))\n",
    "figures_dir = os.path.join(project_dir, os.environ.get(\"FIGURES_DIR\"))\n",
    "reports_dir = os.path.join(project_dir, os.environ.get(\"REPORTS_DIR\"))\n",
    "cv_dir = os.path.join(project_dir, os.environ.get(\"CV_DIR\"))\n",
    "models_dir = os.path.join(project_dir, os.environ.get(\"MODELS_DIR\"))"
   ]
  },
  {
   "cell_type": "markdown",
   "metadata": {},
   "source": [
    "## imports"
   ]
  },
  {
   "cell_type": "code",
   "execution_count": 4,
   "metadata": {},
   "outputs": [
    {
     "name": "stderr",
     "output_type": "stream",
     "text": [
      "/Users/hitoshinagano/.virtualenvs/tensorflow2/lib/python3.7/site-packages/tqdm/std.py:668: FutureWarning: The Panel class is removed from pandas. Accessing it from the top-level namespace will also be removed in the next version\n",
      "  from pandas import Panel\n"
     ]
    }
   ],
   "source": [
    "import numpy as np\n",
    "from datetime import datetime\n",
    "\n",
    "import pandas as pd\n",
    "# pd.set_option('max_rows', None)\n",
    "# pd.set_option('max_columns', None)\n",
    "# pd.options.mode.chained_assignment = None  # default='warn'\n",
    "\n",
    "from tqdm import tqdm\n",
    "tqdm.pandas()\n",
    "\n",
    "import scipy.sparse as sparse\n",
    "import implicit\n",
    "\n",
    "from sklearn.metrics import ndcg_score\n",
    "from sklearn.model_selection import ParameterGrid\n",
    "\n",
    "import mlflow\n",
    "\n",
    "import pickle"
   ]
  },
  {
   "cell_type": "code",
   "execution_count": 63,
   "metadata": {},
   "outputs": [],
   "source": [
    "import tensorflow as tf"
   ]
  },
  {
   "cell_type": "markdown",
   "metadata": {},
   "source": [
    "## project imports"
   ]
  },
  {
   "cell_type": "code",
   "execution_count": 5,
   "metadata": {},
   "outputs": [],
   "source": [
    "import sys\n",
    "sys.path.insert(0, '..')\n",
    "\n",
    "from src.features import *\n",
    "from src.models import *"
   ]
  },
  {
   "cell_type": "markdown",
   "metadata": {},
   "source": [
    "# validation"
   ]
  },
  {
   "cell_type": "code",
   "execution_count": 6,
   "metadata": {},
   "outputs": [
    {
     "name": "stdout",
     "output_type": "stream",
     "text": [
      "initial train shape: (12412329, 9)\n",
      "train/test shapes: (996908, 9) (238695, 8)\n",
      "lang pt\n"
     ]
    }
   ],
   "source": [
    "train_fn = 'train_dataset.pkl'\n",
    "test_fn = 'test_dataset.pkl'\n",
    "\n",
    "# validation = 0.2 # 0.2: 20% of original train will be test\n",
    "# keep_train = 0.6  # 0.6: 60% of train for validation\n",
    "\n",
    "validation = 0.2 \n",
    "keep_train = 0.1  \n",
    "\n",
    "# validation = 0.2 \n",
    "# keep_train = 0.4 \n",
    "lang = 'pt'\n",
    "\n",
    "train, test = read_processed(train_fn, test_fn, keep_train = keep_train, validation = validation, lang = lang)"
   ]
  },
  {
   "cell_type": "code",
   "execution_count": 7,
   "metadata": {},
   "outputs": [],
   "source": [
    "true_fn = 'true.pkl'\n",
    "true_fp = os.path.join(processed_data_dir, true_fn)\n",
    "true_df = pd.read_pickle(true_fp)\n",
    "\n",
    "item_domain_fn = 'item_domain.pkl'\n",
    "item_domain_fp = os.path.join(processed_data_dir, item_domain_fn)\n",
    "item_domain = pd.read_pickle(item_domain_fp)\n",
    "item_domain['lang_category'] = item_domain.category_id.str[:3].replace({'MLM': 'es', 'MLB': 'pt'})\n",
    "item_domain = item_domain[item_domain.lang_category == lang]\n",
    "item_domain.drop('lang_category', axis = 1, inplace = True)"
   ]
  },
  {
   "cell_type": "code",
   "execution_count": 44,
   "metadata": {},
   "outputs": [
    {
     "data": {
      "text/plain": [
       "{'buy_weight': [200],\n",
       " 'extra_weight': [200],\n",
       " 'regularization': [0.01],\n",
       " 'iterations': [15],\n",
       " 'factors': [64],\n",
       " 'alpha_val': [100]}"
      ]
     },
     "execution_count": 44,
     "metadata": {},
     "output_type": "execute_result"
    }
   ],
   "source": [
    "# grid = dict(buy_weight = [200],\n",
    "#             regularization = [0.01],\n",
    "#             iterations = [15],\n",
    "#             factors = [768],\n",
    "#             alpha_val = [200])\n",
    "\n",
    "# grid = dict(buy_weight = [400],\n",
    "#             regularization = [0.001, 0.01, 0.03],\n",
    "#             iterations = [10, 20, 30],\n",
    "#             factors = [768],\n",
    "#             alpha_val = [400])\n",
    "\n",
    "# grid = dict(buy_weight = [400, 600],\n",
    "#             extra_weight = [50, 100],\n",
    "#             regularization = [0.01],\n",
    "#             iterations = [15],\n",
    "#             factors = [512],\n",
    "#             alpha_val = [600])\n",
    "\n",
    "# grid = dict(buy_weight = [400],\n",
    "#             extra_weight = [200],\n",
    "#             regularization = [0.01],\n",
    "#             iterations = [15],\n",
    "#             factors = [512, 768, 1024],\n",
    "#             alpha_val = [400])\n",
    "\n",
    "grid = dict(buy_weight = [200],\n",
    "            extra_weight = [200],\n",
    "            regularization = [0.01],\n",
    "            iterations = [15],\n",
    "            factors = [64],\n",
    "            alpha_val = [100])\n",
    "\n",
    "grid"
   ]
  },
  {
   "cell_type": "code",
   "execution_count": 11,
   "metadata": {},
   "outputs": [
    {
     "data": {
      "text/html": [
       "<div>\n",
       "<style scoped>\n",
       "    .dataframe tbody tr th:only-of-type {\n",
       "        vertical-align: middle;\n",
       "    }\n",
       "\n",
       "    .dataframe tbody tr th {\n",
       "        vertical-align: top;\n",
       "    }\n",
       "\n",
       "    .dataframe thead th {\n",
       "        text-align: right;\n",
       "    }\n",
       "</style>\n",
       "<table border=\"1\" class=\"dataframe\">\n",
       "  <thead>\n",
       "    <tr style=\"text-align: right;\">\n",
       "      <th></th>\n",
       "      <th>seq</th>\n",
       "      <th>item_bought</th>\n",
       "      <th>event_info</th>\n",
       "      <th>event_timestamp</th>\n",
       "      <th>event_type</th>\n",
       "      <th>time_diff</th>\n",
       "      <th>lang_seq</th>\n",
       "      <th>in_nav</th>\n",
       "      <th>in_nav_pred</th>\n",
       "    </tr>\n",
       "  </thead>\n",
       "  <tbody>\n",
       "    <tr>\n",
       "      <th>8</th>\n",
       "      <td>104308</td>\n",
       "      <td>678444</td>\n",
       "      <td>CACAROLA FRITADEIRA ESMALTADA CESTO P FRITURA N</td>\n",
       "      <td>2019-10-05 21:58:12</td>\n",
       "      <td>search</td>\n",
       "      <td>NaN</td>\n",
       "      <td>pt</td>\n",
       "      <td>False</td>\n",
       "      <td>0.000000</td>\n",
       "    </tr>\n",
       "    <tr>\n",
       "      <th>9</th>\n",
       "      <td>104308</td>\n",
       "      <td>678444</td>\n",
       "      <td>NaN</td>\n",
       "      <td>NaT</td>\n",
       "      <td>buy</td>\n",
       "      <td>NaN</td>\n",
       "      <td>pt</td>\n",
       "      <td>False</td>\n",
       "      <td>0.000000</td>\n",
       "    </tr>\n",
       "    <tr>\n",
       "      <th>14</th>\n",
       "      <td>197630</td>\n",
       "      <td>31927</td>\n",
       "      <td>971179</td>\n",
       "      <td>2019-10-05 20:50:03</td>\n",
       "      <td>view</td>\n",
       "      <td>NaN</td>\n",
       "      <td>pt</td>\n",
       "      <td>False</td>\n",
       "      <td>0.127035</td>\n",
       "    </tr>\n",
       "    <tr>\n",
       "      <th>15</th>\n",
       "      <td>197630</td>\n",
       "      <td>31927</td>\n",
       "      <td>NaN</td>\n",
       "      <td>NaT</td>\n",
       "      <td>buy</td>\n",
       "      <td>NaN</td>\n",
       "      <td>pt</td>\n",
       "      <td>False</td>\n",
       "      <td>0.127035</td>\n",
       "    </tr>\n",
       "    <tr>\n",
       "      <th>28</th>\n",
       "      <td>175189</td>\n",
       "      <td>923286</td>\n",
       "      <td>MAQUINA CORTAR CABELO 10 1 BARBA CORPO</td>\n",
       "      <td>2019-10-13 06:50:14</td>\n",
       "      <td>search</td>\n",
       "      <td>NaN</td>\n",
       "      <td>pt</td>\n",
       "      <td>False</td>\n",
       "      <td>0.000000</td>\n",
       "    </tr>\n",
       "    <tr>\n",
       "      <th>...</th>\n",
       "      <td>...</td>\n",
       "      <td>...</td>\n",
       "      <td>...</td>\n",
       "      <td>...</td>\n",
       "      <td>...</td>\n",
       "      <td>...</td>\n",
       "      <td>...</td>\n",
       "      <td>...</td>\n",
       "      <td>...</td>\n",
       "    </tr>\n",
       "    <tr>\n",
       "      <th>12409884</th>\n",
       "      <td>53180</td>\n",
       "      <td>1879078</td>\n",
       "      <td>CAMISETA TOMMY HILFIGER</td>\n",
       "      <td>2019-10-27 16:42:18</td>\n",
       "      <td>search</td>\n",
       "      <td>8.0</td>\n",
       "      <td>pt</td>\n",
       "      <td>True</td>\n",
       "      <td>0.456262</td>\n",
       "    </tr>\n",
       "    <tr>\n",
       "      <th>12409885</th>\n",
       "      <td>53180</td>\n",
       "      <td>1879078</td>\n",
       "      <td>CAMISETA TOMMY HILFIGER</td>\n",
       "      <td>2019-10-27 16:43:35</td>\n",
       "      <td>search</td>\n",
       "      <td>77.0</td>\n",
       "      <td>pt</td>\n",
       "      <td>True</td>\n",
       "      <td>0.456262</td>\n",
       "    </tr>\n",
       "    <tr>\n",
       "      <th>12409886</th>\n",
       "      <td>53180</td>\n",
       "      <td>1879078</td>\n",
       "      <td>CAMISETA TOMMY HILFIGER</td>\n",
       "      <td>2019-10-27 16:43:41</td>\n",
       "      <td>search</td>\n",
       "      <td>6.0</td>\n",
       "      <td>pt</td>\n",
       "      <td>True</td>\n",
       "      <td>0.456262</td>\n",
       "    </tr>\n",
       "    <tr>\n",
       "      <th>12409887</th>\n",
       "      <td>53180</td>\n",
       "      <td>1879078</td>\n",
       "      <td>CAMISETA TOMMY HILFIGER</td>\n",
       "      <td>2019-10-27 17:40:22</td>\n",
       "      <td>search</td>\n",
       "      <td>3401.0</td>\n",
       "      <td>pt</td>\n",
       "      <td>True</td>\n",
       "      <td>0.456262</td>\n",
       "    </tr>\n",
       "    <tr>\n",
       "      <th>12409888</th>\n",
       "      <td>53180</td>\n",
       "      <td>1879078</td>\n",
       "      <td>NaN</td>\n",
       "      <td>NaT</td>\n",
       "      <td>buy</td>\n",
       "      <td>NaN</td>\n",
       "      <td>pt</td>\n",
       "      <td>True</td>\n",
       "      <td>0.456262</td>\n",
       "    </tr>\n",
       "  </tbody>\n",
       "</table>\n",
       "<p>854720 rows × 9 columns</p>\n",
       "</div>"
      ],
      "text/plain": [
       "             seq  item_bought  \\\n",
       "8         104308       678444   \n",
       "9         104308       678444   \n",
       "14        197630        31927   \n",
       "15        197630        31927   \n",
       "28        175189       923286   \n",
       "...          ...          ...   \n",
       "12409884   53180      1879078   \n",
       "12409885   53180      1879078   \n",
       "12409886   53180      1879078   \n",
       "12409887   53180      1879078   \n",
       "12409888   53180      1879078   \n",
       "\n",
       "                                               event_info     event_timestamp  \\\n",
       "8         CACAROLA FRITADEIRA ESMALTADA CESTO P FRITURA N 2019-10-05 21:58:12   \n",
       "9                                                     NaN                 NaT   \n",
       "14                                                 971179 2019-10-05 20:50:03   \n",
       "15                                                    NaN                 NaT   \n",
       "28                 MAQUINA CORTAR CABELO 10 1 BARBA CORPO 2019-10-13 06:50:14   \n",
       "...                                                   ...                 ...   \n",
       "12409884                          CAMISETA TOMMY HILFIGER 2019-10-27 16:42:18   \n",
       "12409885                          CAMISETA TOMMY HILFIGER 2019-10-27 16:43:35   \n",
       "12409886                          CAMISETA TOMMY HILFIGER 2019-10-27 16:43:41   \n",
       "12409887                          CAMISETA TOMMY HILFIGER 2019-10-27 17:40:22   \n",
       "12409888                                              NaN                 NaT   \n",
       "\n",
       "         event_type  time_diff lang_seq  in_nav  in_nav_pred  \n",
       "8            search        NaN       pt   False     0.000000  \n",
       "9               buy        NaN       pt   False     0.000000  \n",
       "14             view        NaN       pt   False     0.127035  \n",
       "15              buy        NaN       pt   False     0.127035  \n",
       "28           search        NaN       pt   False     0.000000  \n",
       "...             ...        ...      ...     ...          ...  \n",
       "12409884     search        8.0       pt    True     0.456262  \n",
       "12409885     search       77.0       pt    True     0.456262  \n",
       "12409886     search        6.0       pt    True     0.456262  \n",
       "12409887     search     3401.0       pt    True     0.456262  \n",
       "12409888        buy        NaN       pt    True     0.456262  \n",
       "\n",
       "[854720 rows x 9 columns]"
      ]
     },
     "execution_count": 11,
     "metadata": {},
     "output_type": "execute_result"
    }
   ],
   "source": [
    "train"
   ]
  },
  {
   "cell_type": "code",
   "execution_count": 46,
   "metadata": {},
   "outputs": [
    {
     "name": "stdout",
     "output_type": "stream",
     "text": [
      "{'alpha_val': 100, 'buy_weight': 200, 'extra_weight': 200, 'factors': 64, 'iterations': 15, 'regularization': 0.01}\n",
      "MLflow:\n",
      "  run_id: 372da690d2704ae989666eba0b36425b\n",
      "  experiment_id: 6\n"
     ]
    },
    {
     "data": {
      "application/vnd.jupyter.widget-view+json": {
       "model_id": "019f209d63a94ee792cf8cc645b97445",
       "version_major": 2,
       "version_minor": 0
      },
      "text/plain": [
       "HBox(children=(FloatProgress(value=0.0, max=15.0), HTML(value='')))"
      ]
     },
     "metadata": {},
     "output_type": "display_data"
    },
    {
     "name": "stderr",
     "output_type": "stream",
     "text": [
      "  0%|          | 3/6605 [00:00<04:13, 26.00it/s]"
     ]
    },
    {
     "name": "stdout",
     "output_type": "stream",
     "text": [
      "\n"
     ]
    },
    {
     "name": "stderr",
     "output_type": "stream",
     "text": [
      "100%|██████████| 6605/6605 [03:27<00:00, 31.82it/s]\n"
     ]
    },
    {
     "name": "stdout",
     "output_type": "stream",
     "text": [
      "mean ndcg: 0.3313472956034694\n",
      "ndcg > 0: 0.39530658591975776\n"
     ]
    }
   ],
   "source": [
    "mlflow.set_experiment('no test')\n",
    "\n",
    "for param in ParameterGrid(grid):\n",
    "    print(param)\n",
    "    with mlflow.start_run() as run:\n",
    "        print(\"MLflow:\")\n",
    "        print(\"  run_id:\",run.info.run_id)\n",
    "        print(\"  experiment_id:\",run.info.experiment_id)\n",
    "        \n",
    "        test_offset, test_shifted_seq_vals, train_test = join_prepare_train_test(train, test, **param)\n",
    "        model, seq_map, event_info_map, sparse_user_item = fit_implicit_model(train_test, test_offset, **param)\n",
    "        pred = predict_implicit_model(model, sparse_user_item, \n",
    "                                      seq_map, event_info_map, test_shifted_seq_vals, \n",
    "                                      10, test_offset, recalculate_user = True,\n",
    "                                      validation = True, true_df = true_df, item_domain = item_domain)\n",
    "        mlflow.log_param('val_keep', {'v': validation, 'k': keep_train})\n",
    "        mlflow.log_param('lang', lang)\n",
    "        mlflow.log_param('exp_decay_alpha', 0.03)\n",
    "        \n",
    "        pred_fn = 'pred__' + '__'.join([k + '_' + str(v) for k, v in param.items()]) + '.csv'\n",
    "        pred_fp = os.path.join(cv_dir, pred_fn)\n",
    "        pred.to_csv(pred_fp)\n",
    "        \n",
    "        mlflow.log_params(param)\n",
    "        # mlflow.log_artifact(pred_fp)\n",
    "        \n",
    "        mean_ndcg = pred.ndcg.mean()\n",
    "        ndcg_larger_than_zero = (pred.ndcg > 0).mean()\n",
    "        \n",
    "        print('mean ndcg:', mean_ndcg)\n",
    "        print('ndcg > 0:', ndcg_larger_than_zero)\n",
    "        \n",
    "        mlflow.log_metric('mean_ndcg', mean_ndcg)\n",
    "        mlflow.log_metric('ndcg_gt_0', ndcg_larger_than_zero)\n"
   ]
  },
  {
   "cell_type": "code",
   "execution_count": 36,
   "metadata": {},
   "outputs": [
    {
     "data": {
      "text/plain": [
       "(35332, 210788)"
      ]
     },
     "execution_count": 36,
     "metadata": {},
     "output_type": "execute_result"
    }
   ],
   "source": [
    "sparse_user_item.shape"
   ]
  },
  {
   "cell_type": "code",
   "execution_count": 41,
   "metadata": {},
   "outputs": [
    {
     "data": {
      "text/plain": [
       "(35332,)"
      ]
     },
     "execution_count": 41,
     "metadata": {},
     "output_type": "execute_result"
    }
   ],
   "source": [
    "train_test.seq.unique().shape"
   ]
  },
  {
   "cell_type": "code",
   "execution_count": null,
   "metadata": {},
   "outputs": [],
   "source": []
  },
  {
   "cell_type": "markdown",
   "metadata": {},
   "source": [
    "_____"
   ]
  },
  {
   "cell_type": "markdown",
   "metadata": {},
   "source": [
    "# a prediction"
   ]
  },
  {
   "cell_type": "code",
   "execution_count": 6,
   "metadata": {},
   "outputs": [
    {
     "name": "stdout",
     "output_type": "stream",
     "text": [
      "initial train shape: (12412329, 9)\n",
      "train/test shapes: (999762, 9) (242477, 8)\n",
      "lang pt\n"
     ]
    }
   ],
   "source": [
    "train_fn = 'train_dataset.pkl'\n",
    "test_fn = 'test_dataset.pkl'\n",
    "\n",
    "lang = 'pt'\n",
    "\n",
    "train, test = read_processed(train_fn, test_fn, lang = lang, keep_train = 0.1, validation = 0.2)"
   ]
  },
  {
   "cell_type": "code",
   "execution_count": 7,
   "metadata": {},
   "outputs": [
    {
     "data": {
      "text/plain": [
       "{'factors': 32, 'alpha_val': 100, 'buy_weight': 100, 'lang': 'pt'}"
      ]
     },
     "execution_count": 7,
     "metadata": {},
     "output_type": "execute_result"
    }
   ],
   "source": [
    "# runs = pd.read_csv('/home/jupyter/MercadoLibre_2020/runs.csv')\n",
    "# param = runs.sort_values('mean_ndcg', ascending = False).loc[3].to_dict()\n",
    "param = dict()\n",
    "param['factors'] = 32\n",
    "param['alpha_val'] = 100\n",
    "param['buy_weight'] = 100\n",
    "param['lang'] = 'pt'\n",
    "param"
   ]
  },
  {
   "cell_type": "code",
   "execution_count": 8,
   "metadata": {},
   "outputs": [],
   "source": [
    "test_offset, test_shifted_seq_vals, train_test = join_prepare_train_test(train, test, **param)"
   ]
  },
  {
   "cell_type": "code",
   "execution_count": 9,
   "metadata": {},
   "outputs": [
    {
     "name": "stderr",
     "output_type": "stream",
     "text": [
      "WARNING:root:OpenBLAS detected. Its highly recommend to set the environment variable 'export OPENBLAS_NUM_THREADS=1' to disable its internal multithreading\n"
     ]
    },
    {
     "data": {
      "application/vnd.jupyter.widget-view+json": {
       "model_id": "d1a0bc44417a43b78d4cd023733b1e9a",
       "version_major": 2,
       "version_minor": 0
      },
      "text/plain": [
       "HBox(children=(FloatProgress(value=0.0, max=20.0), HTML(value='')))"
      ]
     },
     "metadata": {},
     "output_type": "display_data"
    },
    {
     "name": "stdout",
     "output_type": "stream",
     "text": [
      "\n"
     ]
    }
   ],
   "source": [
    "model, seq_map, event_info_map, sparse_user_item = fit_implicit_model(train_test, **param)"
   ]
  },
  {
   "cell_type": "code",
   "execution_count": 10,
   "metadata": {},
   "outputs": [
    {
     "name": "stderr",
     "output_type": "stream",
     "text": [
      "100%|██████████| 6619/6619 [00:22<00:00, 290.68it/s]\n"
     ]
    }
   ],
   "source": [
    "pred = predict_implicit_model(model, sparse_user_item, \n",
    "                              seq_map, event_info_map, test_shifted_seq_vals, \n",
    "                              10, test_offset, recalculate_user = False,\n",
    "                              validation = False, true_df = None, item_domain = None)"
   ]
  },
  {
   "cell_type": "markdown",
   "metadata": {},
   "source": [
    "#### saving preliminary pred (no imputation and with top scores)"
   ]
  },
  {
   "cell_type": "code",
   "execution_count": null,
   "metadata": {},
   "outputs": [],
   "source": [
    "# pred_10_fn = lang + '_for_pred_10_implicit_gcp.csv'\n",
    "# pred_10_fp = os.path.join(reports_dir, pred_10_fn)\n",
    "# pred.to_csv(pred_10_fp)"
   ]
  },
  {
   "cell_type": "markdown",
   "metadata": {},
   "source": [
    "_____"
   ]
  },
  {
   "cell_type": "markdown",
   "metadata": {},
   "source": [
    "### checking matmul instead of model.recommend"
   ]
  },
  {
   "cell_type": "code",
   "execution_count": 32,
   "metadata": {},
   "outputs": [],
   "source": [
    "event_info_map['event_info'] = event_info_map.event_info.astype(int)\n",
    "event_info_map.sort_values('event_info_id', inplace = True)\n",
    "\n",
    "seq_map['seq'] = seq_map.seq.astype(int)\n",
    "seq_map = seq_map.query(\"seq >= @test_offset\")\n",
    "\n",
    "U = model.user_factors[-len(seq_map):]\n",
    "\n",
    "num_batches = len(seq_map) // 100\n",
    "seqs = np.array_split(U, num_batches)\n",
    "num_batches"
   ]
  },
  {
   "cell_type": "code",
   "execution_count": 66,
   "metadata": {},
   "outputs": [],
   "source": [
    "item_factors_tensor = tf.constant(model.item_factors)"
   ]
  },
  {
   "cell_type": "code",
   "execution_count": 67,
   "metadata": {},
   "outputs": [
    {
     "name": "stderr",
     "output_type": "stream",
     "text": [
      "100%|██████████| 66/66 [01:03<00:00,  1.05it/s]\n"
     ]
    },
    {
     "name": "stdout",
     "output_type": "stream",
     "text": [
      "CPU times: user 1min 7s, sys: 1.66 s, total: 1min 8s\n",
      "Wall time: 1min 4s\n"
     ]
    }
   ],
   "source": [
    "%%time\n",
    "\n",
    "recs = dict()\n",
    "seq_map_pointer = 0\n",
    "\n",
    "for seq_batch in tqdm(seqs):\n",
    "    # scores = model.item_factors @ seq_batch.T\n",
    "    scores = tf.matmul(item_factors_tensor, seq_batch.T).numpy()\n",
    "    scores = pd.DataFrame(scores, \n",
    "                          columns = seq_map.iloc[seq_map_pointer: seq_map_pointer + len(seq_batch), 0], \n",
    "                          index = event_info_map.event_info)\n",
    "    seq_map_pointer += len(seq_batch)\n",
    "    \n",
    "    for s in scores.columns:\n",
    "        recs[s] = list(scores[s].nlargest(10).items())\n",
    "\n",
    "recs = pd.DataFrame(recs)\n",
    "recs = recs.applymap(lambda x: x[0]).T\n",
    "recs.index = recs.index - test_offset"
   ]
  },
  {
   "cell_type": "code",
   "execution_count": 68,
   "metadata": {},
   "outputs": [
    {
     "data": {
      "text/html": [
       "<div>\n",
       "<style scoped>\n",
       "    .dataframe tbody tr th:only-of-type {\n",
       "        vertical-align: middle;\n",
       "    }\n",
       "\n",
       "    .dataframe tbody tr th {\n",
       "        vertical-align: top;\n",
       "    }\n",
       "\n",
       "    .dataframe thead th {\n",
       "        text-align: right;\n",
       "    }\n",
       "</style>\n",
       "<table border=\"1\" class=\"dataframe\">\n",
       "  <thead>\n",
       "    <tr style=\"text-align: right;\">\n",
       "      <th></th>\n",
       "      <th>0</th>\n",
       "      <th>1</th>\n",
       "      <th>2</th>\n",
       "      <th>3</th>\n",
       "      <th>4</th>\n",
       "      <th>5</th>\n",
       "      <th>6</th>\n",
       "      <th>7</th>\n",
       "      <th>8</th>\n",
       "      <th>9</th>\n",
       "    </tr>\n",
       "  </thead>\n",
       "  <tbody>\n",
       "    <tr>\n",
       "      <th>11</th>\n",
       "      <td>27205</td>\n",
       "      <td>1906937</td>\n",
       "      <td>1319122</td>\n",
       "      <td>914466</td>\n",
       "      <td>261393</td>\n",
       "      <td>1305891</td>\n",
       "      <td>856245</td>\n",
       "      <td>624422</td>\n",
       "      <td>1462226</td>\n",
       "      <td>561634</td>\n",
       "    </tr>\n",
       "    <tr>\n",
       "      <th>218</th>\n",
       "      <td>455802</td>\n",
       "      <td>400496</td>\n",
       "      <td>1786148</td>\n",
       "      <td>1637013</td>\n",
       "      <td>87559</td>\n",
       "      <td>652718</td>\n",
       "      <td>1615991</td>\n",
       "      <td>1498579</td>\n",
       "      <td>1839144</td>\n",
       "      <td>1283430</td>\n",
       "    </tr>\n",
       "    <tr>\n",
       "      <th>398</th>\n",
       "      <td>432694</td>\n",
       "      <td>115737</td>\n",
       "      <td>1183615</td>\n",
       "      <td>2066646</td>\n",
       "      <td>151949</td>\n",
       "      <td>17827</td>\n",
       "      <td>1787561</td>\n",
       "      <td>1389803</td>\n",
       "      <td>1120087</td>\n",
       "      <td>1965773</td>\n",
       "    </tr>\n",
       "    <tr>\n",
       "      <th>419</th>\n",
       "      <td>1140766</td>\n",
       "      <td>1006332</td>\n",
       "      <td>563256</td>\n",
       "      <td>248163</td>\n",
       "      <td>1617955</td>\n",
       "      <td>773429</td>\n",
       "      <td>307920</td>\n",
       "      <td>1916890</td>\n",
       "      <td>245690</td>\n",
       "      <td>1142550</td>\n",
       "    </tr>\n",
       "    <tr>\n",
       "      <th>467</th>\n",
       "      <td>509917</td>\n",
       "      <td>979395</td>\n",
       "      <td>929489</td>\n",
       "      <td>759604</td>\n",
       "      <td>1073081</td>\n",
       "      <td>2079641</td>\n",
       "      <td>755950</td>\n",
       "      <td>538601</td>\n",
       "      <td>63024</td>\n",
       "      <td>857882</td>\n",
       "    </tr>\n",
       "    <tr>\n",
       "      <th>...</th>\n",
       "      <td>...</td>\n",
       "      <td>...</td>\n",
       "      <td>...</td>\n",
       "      <td>...</td>\n",
       "      <td>...</td>\n",
       "      <td>...</td>\n",
       "      <td>...</td>\n",
       "      <td>...</td>\n",
       "      <td>...</td>\n",
       "      <td>...</td>\n",
       "    </tr>\n",
       "    <tr>\n",
       "      <th>412705</th>\n",
       "      <td>553704</td>\n",
       "      <td>1942542</td>\n",
       "      <td>2073539</td>\n",
       "      <td>166808</td>\n",
       "      <td>2026352</td>\n",
       "      <td>72921</td>\n",
       "      <td>1200070</td>\n",
       "      <td>699516</td>\n",
       "      <td>4673</td>\n",
       "      <td>361054</td>\n",
       "    </tr>\n",
       "    <tr>\n",
       "      <th>412912</th>\n",
       "      <td>1221586</td>\n",
       "      <td>441418</td>\n",
       "      <td>126019</td>\n",
       "      <td>2009251</td>\n",
       "      <td>646288</td>\n",
       "      <td>1851910</td>\n",
       "      <td>211927</td>\n",
       "      <td>201410</td>\n",
       "      <td>1613261</td>\n",
       "      <td>628739</td>\n",
       "    </tr>\n",
       "    <tr>\n",
       "      <th>413010</th>\n",
       "      <td>236078</td>\n",
       "      <td>1251724</td>\n",
       "      <td>832016</td>\n",
       "      <td>353199</td>\n",
       "      <td>940507</td>\n",
       "      <td>1628496</td>\n",
       "      <td>432516</td>\n",
       "      <td>1149856</td>\n",
       "      <td>1500812</td>\n",
       "      <td>483846</td>\n",
       "    </tr>\n",
       "    <tr>\n",
       "      <th>413024</th>\n",
       "      <td>624275</td>\n",
       "      <td>970310</td>\n",
       "      <td>1082484</td>\n",
       "      <td>1830522</td>\n",
       "      <td>1459575</td>\n",
       "      <td>229380</td>\n",
       "      <td>1465849</td>\n",
       "      <td>768694</td>\n",
       "      <td>1100508</td>\n",
       "      <td>1100640</td>\n",
       "    </tr>\n",
       "    <tr>\n",
       "      <th>413069</th>\n",
       "      <td>1682640</td>\n",
       "      <td>1140653</td>\n",
       "      <td>842414</td>\n",
       "      <td>1880554</td>\n",
       "      <td>1459575</td>\n",
       "      <td>864413</td>\n",
       "      <td>433805</td>\n",
       "      <td>683208</td>\n",
       "      <td>442256</td>\n",
       "      <td>1439187</td>\n",
       "    </tr>\n",
       "  </tbody>\n",
       "</table>\n",
       "<p>6619 rows × 10 columns</p>\n",
       "</div>"
      ],
      "text/plain": [
       "              0        1        2        3        4        5        6  \\\n",
       "11        27205  1906937  1319122   914466   261393  1305891   856245   \n",
       "218      455802   400496  1786148  1637013    87559   652718  1615991   \n",
       "398      432694   115737  1183615  2066646   151949    17827  1787561   \n",
       "419     1140766  1006332   563256   248163  1617955   773429   307920   \n",
       "467      509917   979395   929489   759604  1073081  2079641   755950   \n",
       "...         ...      ...      ...      ...      ...      ...      ...   \n",
       "412705   553704  1942542  2073539   166808  2026352    72921  1200070   \n",
       "412912  1221586   441418   126019  2009251   646288  1851910   211927   \n",
       "413010   236078  1251724   832016   353199   940507  1628496   432516   \n",
       "413024   624275   970310  1082484  1830522  1459575   229380  1465849   \n",
       "413069  1682640  1140653   842414  1880554  1459575   864413   433805   \n",
       "\n",
       "              7        8        9  \n",
       "11       624422  1462226   561634  \n",
       "218     1498579  1839144  1283430  \n",
       "398     1389803  1120087  1965773  \n",
       "419     1916890   245690  1142550  \n",
       "467      538601    63024   857882  \n",
       "...         ...      ...      ...  \n",
       "412705   699516     4673   361054  \n",
       "412912   201410  1613261   628739  \n",
       "413010  1149856  1500812   483846  \n",
       "413024   768694  1100508  1100640  \n",
       "413069   683208   442256  1439187  \n",
       "\n",
       "[6619 rows x 10 columns]"
      ]
     },
     "execution_count": 68,
     "metadata": {},
     "output_type": "execute_result"
    }
   ],
   "source": [
    "recs"
   ]
  },
  {
   "cell_type": "markdown",
   "metadata": {},
   "source": [
    "----"
   ]
  },
  {
   "cell_type": "code",
   "execution_count": null,
   "metadata": {},
   "outputs": [],
   "source": []
  },
  {
   "cell_type": "markdown",
   "metadata": {},
   "source": [
    "#### exploring pred"
   ]
  },
  {
   "cell_type": "code",
   "execution_count": 21,
   "metadata": {},
   "outputs": [
    {
     "data": {
      "text/plain": [
       "<AxesSubplot:ylabel='Frequency'>"
      ]
     },
     "execution_count": 21,
     "metadata": {},
     "output_type": "execute_result"
    },
    {
     "data": {
      "image/png": "[encoded data removed]",
      "text/plain": [
       "<Figure size 432x288 with 1 Axes>"
      ]
     },
     "metadata": {
      "needs_background": "light"
     },
     "output_type": "display_data"
    }
   ],
   "source": [
    "pred.top_score.plot(kind = 'hist', bins = np.arange(0, 2, 0.05))"
   ]
  },
  {
   "cell_type": "code",
   "execution_count": 35,
   "metadata": {},
   "outputs": [
    {
     "data": {
      "text/html": [
       "<div>\n",
       "<style scoped>\n",
       "    .dataframe tbody tr th:only-of-type {\n",
       "        vertical-align: middle;\n",
       "    }\n",
       "\n",
       "    .dataframe tbody tr th {\n",
       "        vertical-align: top;\n",
       "    }\n",
       "\n",
       "    .dataframe thead th {\n",
       "        text-align: right;\n",
       "    }\n",
       "</style>\n",
       "<table border=\"1\" class=\"dataframe\">\n",
       "  <thead>\n",
       "    <tr style=\"text-align: right;\">\n",
       "      <th></th>\n",
       "      <th>0</th>\n",
       "      <th>1</th>\n",
       "      <th>2</th>\n",
       "      <th>3</th>\n",
       "      <th>4</th>\n",
       "      <th>5</th>\n",
       "      <th>6</th>\n",
       "      <th>7</th>\n",
       "      <th>8</th>\n",
       "      <th>9</th>\n",
       "      <th>top_score</th>\n",
       "    </tr>\n",
       "  </thead>\n",
       "  <tbody>\n",
       "    <tr>\n",
       "      <th>0</th>\n",
       "      <td>1572239</td>\n",
       "      <td>1194894</td>\n",
       "      <td>1717880</td>\n",
       "      <td>1300048</td>\n",
       "      <td>1006988</td>\n",
       "      <td>341077</td>\n",
       "      <td>398330</td>\n",
       "      <td>1856280</td>\n",
       "      <td>1326593</td>\n",
       "      <td>794338</td>\n",
       "      <td>0.923182</td>\n",
       "    </tr>\n",
       "    <tr>\n",
       "      <th>1</th>\n",
       "      <td>943786</td>\n",
       "      <td>849692</td>\n",
       "      <td>1676401</td>\n",
       "      <td>1056120</td>\n",
       "      <td>416551</td>\n",
       "      <td>937449</td>\n",
       "      <td>1180937</td>\n",
       "      <td>80018</td>\n",
       "      <td>495680</td>\n",
       "      <td>1184491</td>\n",
       "      <td>0.980219</td>\n",
       "    </tr>\n",
       "    <tr>\n",
       "      <th>2</th>\n",
       "      <td>731397</td>\n",
       "      <td>1986443</td>\n",
       "      <td>1706245</td>\n",
       "      <td>167018</td>\n",
       "      <td>283306</td>\n",
       "      <td>722653</td>\n",
       "      <td>438010</td>\n",
       "      <td>2015578</td>\n",
       "      <td>1162105</td>\n",
       "      <td>1322369</td>\n",
       "      <td>0.361114</td>\n",
       "    </tr>\n",
       "    <tr>\n",
       "      <th>4</th>\n",
       "      <td>1398419</td>\n",
       "      <td>1465133</td>\n",
       "      <td>1114720</td>\n",
       "      <td>1983750</td>\n",
       "      <td>702406</td>\n",
       "      <td>19910</td>\n",
       "      <td>1784740</td>\n",
       "      <td>63682</td>\n",
       "      <td>8478</td>\n",
       "      <td>819461</td>\n",
       "      <td>0.406496</td>\n",
       "    </tr>\n",
       "    <tr>\n",
       "      <th>5</th>\n",
       "      <td>1950320</td>\n",
       "      <td>1412311</td>\n",
       "      <td>553430</td>\n",
       "      <td>758537</td>\n",
       "      <td>1683191</td>\n",
       "      <td>1094798</td>\n",
       "      <td>769817</td>\n",
       "      <td>236682</td>\n",
       "      <td>6328</td>\n",
       "      <td>74407</td>\n",
       "      <td>0.944184</td>\n",
       "    </tr>\n",
       "    <tr>\n",
       "      <th>...</th>\n",
       "      <td>...</td>\n",
       "      <td>...</td>\n",
       "      <td>...</td>\n",
       "      <td>...</td>\n",
       "      <td>...</td>\n",
       "      <td>...</td>\n",
       "      <td>...</td>\n",
       "      <td>...</td>\n",
       "      <td>...</td>\n",
       "      <td>...</td>\n",
       "      <td>...</td>\n",
       "    </tr>\n",
       "    <tr>\n",
       "      <th>177065</th>\n",
       "      <td>23903</td>\n",
       "      <td>624249</td>\n",
       "      <td>602671</td>\n",
       "      <td>1076204</td>\n",
       "      <td>1805356</td>\n",
       "      <td>1251230</td>\n",
       "      <td>1656985</td>\n",
       "      <td>184980</td>\n",
       "      <td>2022473</td>\n",
       "      <td>763171</td>\n",
       "      <td>0.000233</td>\n",
       "    </tr>\n",
       "    <tr>\n",
       "      <th>177066</th>\n",
       "      <td>69447</td>\n",
       "      <td>716822</td>\n",
       "      <td>1328443</td>\n",
       "      <td>161963</td>\n",
       "      <td>1651522</td>\n",
       "      <td>1328997</td>\n",
       "      <td>780726</td>\n",
       "      <td>717106</td>\n",
       "      <td>1859462</td>\n",
       "      <td>459697</td>\n",
       "      <td>0.563402</td>\n",
       "    </tr>\n",
       "    <tr>\n",
       "      <th>177067</th>\n",
       "      <td>1550304</td>\n",
       "      <td>1426798</td>\n",
       "      <td>273237</td>\n",
       "      <td>1395589</td>\n",
       "      <td>2033823</td>\n",
       "      <td>460028</td>\n",
       "      <td>1839331</td>\n",
       "      <td>1576126</td>\n",
       "      <td>289602</td>\n",
       "      <td>136713</td>\n",
       "      <td>1.078995</td>\n",
       "    </tr>\n",
       "    <tr>\n",
       "      <th>177068</th>\n",
       "      <td>1116998</td>\n",
       "      <td>1197876</td>\n",
       "      <td>517435</td>\n",
       "      <td>1396359</td>\n",
       "      <td>273725</td>\n",
       "      <td>1803169</td>\n",
       "      <td>662857</td>\n",
       "      <td>1575734</td>\n",
       "      <td>1565340</td>\n",
       "      <td>745928</td>\n",
       "      <td>0.226957</td>\n",
       "    </tr>\n",
       "    <tr>\n",
       "      <th>177069</th>\n",
       "      <td>2004526</td>\n",
       "      <td>498187</td>\n",
       "      <td>1559210</td>\n",
       "      <td>2082999</td>\n",
       "      <td>1218244</td>\n",
       "      <td>483171</td>\n",
       "      <td>1262273</td>\n",
       "      <td>681451</td>\n",
       "      <td>389656</td>\n",
       "      <td>523423</td>\n",
       "      <td>1.018314</td>\n",
       "    </tr>\n",
       "  </tbody>\n",
       "</table>\n",
       "<p>165700 rows × 11 columns</p>\n",
       "</div>"
      ],
      "text/plain": [
       "              0        1        2        3        4        5        6  \\\n",
       "0       1572239  1194894  1717880  1300048  1006988   341077   398330   \n",
       "1        943786   849692  1676401  1056120   416551   937449  1180937   \n",
       "2        731397  1986443  1706245   167018   283306   722653   438010   \n",
       "4       1398419  1465133  1114720  1983750   702406    19910  1784740   \n",
       "5       1950320  1412311   553430   758537  1683191  1094798   769817   \n",
       "...         ...      ...      ...      ...      ...      ...      ...   \n",
       "177065    23903   624249   602671  1076204  1805356  1251230  1656985   \n",
       "177066    69447   716822  1328443   161963  1651522  1328997   780726   \n",
       "177067  1550304  1426798   273237  1395589  2033823   460028  1839331   \n",
       "177068  1116998  1197876   517435  1396359   273725  1803169   662857   \n",
       "177069  2004526   498187  1559210  2082999  1218244   483171  1262273   \n",
       "\n",
       "              7        8        9  top_score  \n",
       "0       1856280  1326593   794338   0.923182  \n",
       "1         80018   495680  1184491   0.980219  \n",
       "2       2015578  1162105  1322369   0.361114  \n",
       "4         63682     8478   819461   0.406496  \n",
       "5        236682     6328    74407   0.944184  \n",
       "...         ...      ...      ...        ...  \n",
       "177065   184980  2022473   763171   0.000233  \n",
       "177066   717106  1859462   459697   0.563402  \n",
       "177067  1576126   289602   136713   1.078995  \n",
       "177068  1575734  1565340   745928   0.226957  \n",
       "177069   681451   389656   523423   1.018314  \n",
       "\n",
       "[165700 rows x 11 columns]"
      ]
     },
     "execution_count": 35,
     "metadata": {},
     "output_type": "execute_result"
    }
   ],
   "source": [
    "pred"
   ]
  },
  {
   "cell_type": "markdown",
   "metadata": {},
   "source": [
    "#### adapting pred to submission format"
   ]
  },
  {
   "cell_type": "code",
   "execution_count": 36,
   "metadata": {},
   "outputs": [],
   "source": [
    "pred.drop('top_score', axis = 1, inplace = True)"
   ]
  },
  {
   "cell_type": "code",
   "execution_count": 37,
   "metadata": {},
   "outputs": [],
   "source": [
    "unique_seqs_test = test.seq.unique().shape[0] #177070"
   ]
  },
  {
   "cell_type": "code",
   "execution_count": 38,
   "metadata": {},
   "outputs": [],
   "source": [
    "pred = pred.reindex(index = range(unique_seqs_test))"
   ]
  },
  {
   "cell_type": "code",
   "execution_count": 39,
   "metadata": {},
   "outputs": [],
   "source": [
    "top_sellers = list(train[train.event_type.isnull()].item_bought.value_counts().head(10).index.astype(int))"
   ]
  },
  {
   "cell_type": "code",
   "execution_count": 40,
   "metadata": {},
   "outputs": [],
   "source": [
    "pred[pred[0].isnull()] = top_sellers"
   ]
  },
  {
   "cell_type": "code",
   "execution_count": 42,
   "metadata": {},
   "outputs": [],
   "source": [
    "pred_6_fn = 'pred_6_implicit.csv'\n",
    "pred_6_fp = os.path.join(reports_dir, pred_6_fn)\n",
    "pred.to_csv(pred_6_fp, header = None, index = None)"
   ]
  },
  {
   "cell_type": "markdown",
   "metadata": {},
   "source": [
    "#### saving implicit ALS model (pkl)\n",
    "all latent factors included in model"
   ]
  },
  {
   "cell_type": "code",
   "execution_count": 50,
   "metadata": {},
   "outputs": [],
   "source": [
    "model_6_fn = 'model_6_implicit.pkl'\n",
    "model_6_fp = os.path.join(models_dir, model_6_fn)\n",
    "with open(model_6_fp, 'wb') as f:\n",
    "    pickle.dump(model, f, pickle.HIGHEST_PROTOCOL)"
   ]
  },
  {
   "cell_type": "markdown",
   "metadata": {},
   "source": [
    "#### saving item factors (txt)\n",
    "vector ordered by event_info_id (see event_info_map for a map)"
   ]
  },
  {
   "cell_type": "code",
   "execution_count": 121,
   "metadata": {},
   "outputs": [
    {
     "name": "stderr",
     "output_type": "stream",
     "text": [
      "100%|██████████| 2101536/2101536 [23:08<00:00, 1513.19it/s]\n"
     ]
    }
   ],
   "source": [
    "item_factors_6_fn = 'item_factors_6.txt'\n",
    "item_factors_6_fp = os.path.join(models_dir, item_factors_6_fn)\n",
    "\n",
    "with open(item_factors_6_fp, 'w') as f:\n",
    "    for vec in tqdm(model.item_factors):\n",
    "        f.write('{}\\n'.format(' '.join(['{:e}'.format(item) for item in vec])))"
   ]
  },
  {
   "cell_type": "markdown",
   "metadata": {},
   "source": [
    "#### saving event_info_map (pkl)\n",
    "need to convert event_info (original from meli) into event_info_id (used in implicit)"
   ]
  },
  {
   "cell_type": "code",
   "execution_count": 124,
   "metadata": {},
   "outputs": [],
   "source": [
    "event_info_map_fn = 'event_info_map.pkl'\n",
    "event_info_map_fp = os.path.join(models_dir, event_info_map_fn)\n",
    "event_info_map.to_pickle(event_info_map_fp)"
   ]
  },
  {
   "cell_type": "markdown",
   "metadata": {},
   "source": [
    "#### testing loading implicit ALS model"
   ]
  },
  {
   "cell_type": "code",
   "execution_count": 125,
   "metadata": {},
   "outputs": [],
   "source": [
    "model_6_fn = 'model_6_implicit.pkl'\n",
    "model_6_fp = os.path.join(models_dir, model_6_fn)\n",
    "with open(model_6_fp, 'rb') as f:\n",
    "    # The protocol version used is detected automatically, so we do not\n",
    "    # have to specify it.\n",
    "    model_2 = pickle.load(f)"
   ]
  },
  {
   "cell_type": "markdown",
   "metadata": {},
   "source": [
    "____"
   ]
  }
 ],
 "metadata": {
  "environment": {
   "name": "tf2-2-3-gpu.2-3.m59",
   "type": "gcloud",
   "uri": "gcr.io/deeplearning-platform-release/tf2-2-3-gpu.2-3:m59"
  },
  "kernelspec": {
   "display_name": "Python 3",
   "language": "python",
   "name": "python3"
  },
  "language_info": {
   "codemirror_mode": {
    "name": "ipython",
    "version": 3
   },
   "file_extension": ".py",
   "mimetype": "text/x-python",
   "name": "python",
   "nbconvert_exporter": "python",
   "pygments_lexer": "ipython3",
   "version": "3.9.0"
  }
 },
 "nbformat": 4,
 "nbformat_minor": 4
}
