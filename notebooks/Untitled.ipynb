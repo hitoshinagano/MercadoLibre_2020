{
 "cells": [
  {
   "cell_type": "code",
   "execution_count": 3,
   "metadata": {},
   "outputs": [],
   "source": [
    "from scipy.sparse import csr_matrix\n",
    "import numpy as np"
   ]
  },
  {
   "cell_type": "code",
   "execution_count": 4,
   "metadata": {},
   "outputs": [
    {
     "data": {
      "text/plain": [
       "array([[1, 0, 2],\n",
       "       [0, 0, 3],\n",
       "       [4, 5, 6]])"
      ]
     },
     "execution_count": 4,
     "metadata": {},
     "output_type": "execute_result"
    }
   ],
   "source": [
    "indptr  = np.array([0, 2, 3, 6])\n",
    "indices = np.array([0, 2, 2, 0, 1, 2])\n",
    "data    = np.array([1, 2, 3, 4, 5, 6])\n",
    "csr_matrix((data, indices, indptr), shape=(3, 3)).toarray()\n",
    "# array([[1, 0, 2],\n",
    "#        [0, 0, 3],\n",
    "#        [4, 5, 6]])"
   ]
  },
  {
   "cell_type": "code",
   "execution_count": 5,
   "metadata": {},
   "outputs": [
    {
     "data": {
      "text/plain": [
       "array([[1, 0, 2],\n",
       "       [0, 0, 3],\n",
       "       [4, 5, 6]])"
      ]
     },
     "execution_count": 5,
     "metadata": {},
     "output_type": "execute_result"
    }
   ],
   "source": [
    "csr_matrix((data, indices, indptr)).toarray()"
   ]
  },
  {
   "cell_type": "code",
   "execution_count": 11,
   "metadata": {},
   "outputs": [
    {
     "data": {
      "text/plain": [
       "array([[ 0,  0,  4],\n",
       "       [ 0, 10,  5],\n",
       "       [ 0,  6,  2]], dtype=int64)"
      ]
     },
     "execution_count": 11,
     "metadata": {},
     "output_type": "execute_result"
    }
   ],
   "source": [
    "indptr  = np.array([0, 2, 1, 2, 2, 1, 1, 0])\n",
    "indices = np.array([0, 2, 1, 0, 1, 2, 1, 0])\n",
    "data    = np.array([1, 2, 3, 4, 5, 6, 7, -1])\n",
    "csr_matrix((data, (indices, indptr))).toarray()"
   ]
  },
  {
   "cell_type": "markdown",
   "metadata": {},
   "source": [
    "----"
   ]
  },
  {
   "cell_type": "code",
   "execution_count": 1,
   "metadata": {},
   "outputs": [],
   "source": [
    "import pandas as pd"
   ]
  },
  {
   "cell_type": "code",
   "execution_count": 17,
   "metadata": {},
   "outputs": [],
   "source": [
    "df = pd.read_clipboard(encoding = 'utf-8', header = None, error_bad_lines = False, sep = ';')"
   ]
  },
  {
   "cell_type": "code",
   "execution_count": 19,
   "metadata": {},
   "outputs": [],
   "source": [
    "df.columns = ['nome']"
   ]
  },
  {
   "cell_type": "code",
   "execution_count": 30,
   "metadata": {},
   "outputs": [
    {
     "data": {
      "text/plain": [
       "array([['Alves, M. Universidade de Sao Paulo - USP'],\n",
       "       ['Andricopulo, Adriano Defini Universidade de Sao Paulo - USP'],\n",
       "       ['Arêas, José Alfredo Gomes Universidade de Sao Paulo - USP'],\n",
       "       ['Artaxo, Paulo Universidade de Sao Paulo - USP'],\n",
       "       ['Augusto, Ohara Universidade de Sao Paulo - USP'],\n",
       "       ['Azevedo, C. R.F. Universidade de Sao Paulo - USP'],\n",
       "       ['Azevedo, Ricardo A. Universidade de Sao Paulo - USP'],\n",
       "       ['Bagnato, V. S. Universidade de Sao Paulo - USP'],\n",
       "       ['Barbosa, Fernando Universidade de Sao Paulo - USP'],\n",
       "       ['Barbuy, B. Universidade de Sao Paulo - USP'],\n",
       "       ['Benseñor, Isabela M. Universidade de Sao Paulo - USP'],\n",
       "       ['Berlinck, Roberto G.S. Universidade de Sao Paulo - USP'],\n",
       "       ['Blanchard, D. Caroline Universidade de Sao Paulo - USP'],\n",
       "       ['Bonato, Pierina Sueli Universidade de Sao Paulo - USP'],\n",
       "       ['Braga, Roberto R. Universidade de Sao Paulo - USP'],\n",
       "       ['Bretas, Newton G. Universidade de Sao Paulo - USP'],\n",
       "       ['Buckeridge, Marcos S. Universidade de Sao Paulo - USP'],\n",
       "       ['Burdman, Gustavo Universidade de Sao Paulo - USP'],\n",
       "       ['Buzalaf, Marilia Afonso Rabelo Universidade de Sao Paulo - USP'],\n",
       "       ['Camargo, Erney P. Universidade de Sao Paulo - USP'],\n",
       "       ['Canteras, Newton Sabino Universidade de Sao Paulo - USP'],\n",
       "       ['Carmona-Ribeiro, Ana Maria Universidade de Sao Paulo - USP'],\n",
       "       ['Carrilho, Emanuel Universidade de Sao Paulo - USP'],\n",
       "       ['Carrilho, Marcela Rocha Universidade de Sao Paulo - USP'],\n",
       "       ['Carvalho, Antonio J.F. Universidade de Sao Paulo - USP'],\n",
       "       ['Cerri, Carlos C. Universidade de Sao Paulo - USP'],\n",
       "       ['Comasseto, João V. Universidade de Sao Paulo - USP'],\n",
       "       ['Córdoba De Torresi, Susana I. Universidade de Sao Paulo - USP'],\n",
       "       ['Costa, Luciano Da F. Universidade de Sao Paulo - USP'],\n",
       "       ['Costa, Oswaldo Luiz V. Universidade de Sao Paulo - USP'],\n",
       "       ['Cozman, Fabio Gagliardi Universidade de Sao Paulo - USP'],\n",
       "       ['Craievich, Aldo F. Universidade de Sao Paulo - USP'],\n",
       "       ['Crippa, Jose Universidade de Sao Paulo - USP'],\n",
       "       ['Cucchieri, Attilio Universidade de Sao Paulo - USP'],\n",
       "       ['Cunha, Fernando Q. Universidade de Sao Paulo - USP'],\n",
       "       ['Da Silva, Juarez L.F. Universidade de Sao Paulo - USP'],\n",
       "       ['de Carvalho, André C.P.L.F. Universidade de Sao Paulo - USP'],\n",
       "       ['De Pinna, Mário C.C. Universidade de Sao Paulo - USP'],\n",
       "       ['Demattê, José A.M. Universidade de Sao Paulo - USP'],\n",
       "       ['Eckert, Hellmut Universidade de Sao Paulo - USP'],\n",
       "       ['El Seoud, Omar A. Universidade de Sao Paulo - USP'],\n",
       "       ['Ferreira, Marcelo U. Universidade de Sao Paulo - USP'],\n",
       "       ['Ferreira, Marcus C. Universidade de Sao Paulo - USP'],\n",
       "       ['Ferreira, Sérgio H. Universidade de Sao Paulo - USP'],\n",
       "       ['Figueiredo, Luiz Tadeu Moraes Universidade de Sao Paulo - USP'],\n",
       "       ['Foresti, Eugenio Universidade de Sao Paulo - USP'],\n",
       "       ['Gandini, Alessandro Universidade de Sao Paulo - USP'],\n",
       "       ['Garlet, Gustavo P. Universidade de Sao Paulo - USP'],\n",
       "       ['Gattaz, Wagner Universidade de Sao Paulo - USP'],\n",
       "       ['Goldemberg, José Universidade de Sao Paulo - USP'],\n",
       "       ['Gonzalez, Ernesto R. Universidade de Sao Paulo - USP'],\n",
       "       ['Graeff, Frederico Guilherme Universidade de Sao Paulo - USP'],\n",
       "       ['Grant, Taran Universidade de Sao Paulo - USP'],\n",
       "       ['Guimarães, Francisco Silveira Universidade de Sao Paulo - USP'],\n",
       "       ['Hartfelder, Klaus H. Universidade de Sao Paulo - USP'],\n",
       "       ['Hernández, Eduardo Universidade de Sao Paulo - USP'],\n",
       "       ['Hoff, Paulo Universidade de Sao Paulo - USP'],\n",
       "       ['Hussein, M. S. Universidade de Sao Paulo - USP'],\n",
       "       ['Iwasita, Teresa Universidade de Sao Paulo - USP'],\n",
       "       ['Kato, Massuo J. Universidade de Sao Paulo - USP'],\n",
       "       ['Kenny, Peter W. Universidade de Sao Paulo - USP'],\n",
       "       ['Kowaltowski, Alicia J. Universidade de Sao Paulo - USP'],\n",
       "       ['Labruna, Marcelo B. Universidade de Sao Paulo - USP'],\n",
       "       ['Lajolo, Franco M. Universidade de Sao Paulo - USP'],\n",
       "       ['Lanças, Fernando Mauro Universidade de Sao Paulo - USP'],\n",
       "       ['Latronico, Ana Claudia Universidade de Sao Paulo - USP'],\n",
       "       ['Levin, Anna Sara Universidade de Sao Paulo - USP'],\n",
       "       ['Lima, J. A.S. Universidade de Sao Paulo - USP'],\n",
       "       ['Lotufo, Paulo A. Universidade de Sao Paulo - USP'],\n",
       "       ['Marin-Neto, José Antonio Universidade de Sao Paulo - USP'],\n",
       "       ['Martinelli, Luiz A. Universidade de Sao Paulo - USP'],\n",
       "       ['Martinez, Roberto Universidade de Sao Paulo - USP'],\n",
       "       ['Martins, Marcio Universidade de Sao Paulo - USP'],\n",
       "       ['Masini, Jorge C. Universidade de Sao Paulo - USP'],\n",
       "       ['Mazzafera, Paulo Universidade de Sao Paulo - USP'],\n",
       "       ['Melendez, J. Universidade de Sao Paulo - USP'],\n",
       "       ['Mendonça, B. B. Universidade de Sao Paulo - USP'],\n",
       "       ['Metzger, Jean Paul Universidade de Sao Paulo - USP'],\n",
       "       ['Monteiro, Carlos A. Universidade de Sao Paulo - USP'],\n",
       "       ['Motheo, Artur J. Universidade de Sao Paulo - USP'],\n",
       "       ['Nart, F. C. Universidade de Sao Paulo - USP'],\n",
       "       ['Navas, Carlos A. Universidade de Sao Paulo - USP'],\n",
       "       ['Novaes, Arthur Belém Universidade de Sao Paulo - USP'],\n",
       "       ['Oliveira, Osvaldo N. Universidade de Sao Paulo - USP'],\n",
       "       ['Polanczyk, Guilherme V. Universidade de Sao Paulo - USP'],\n",
       "       ['Ribatski, Gherhardt Universidade de Sao Paulo - USP'],\n",
       "       ['Ribeiro, Mauro C.C. Universidade de Sao Paulo - USP'],\n",
       "       ['Roberto, Inês C. Universidade de Sao Paulo - USP'],\n",
       "       ['Rocha, Vanderson Universidade de Sao Paulo - USP'],\n",
       "       ['Rocha-e-Silva, Mauricio Universidade de Sao Paulo - USP'],\n",
       "       ['Rodrigues, Miguel T. Universidade de Sao Paulo - USP'],\n",
       "       ['Rossi, Marcos A. Universidade de Sao Paulo - USP'],\n",
       "       ['Rössler, Wulf Universidade de Sao Paulo - USP'],\n",
       "       ['Ruggieri, Claudio Universidade de Sao Paulo - USP'],\n",
       "       ['Saad, Mario José Abdalla Universidade de Sao Paulo - USP'],\n",
       "       ['Saldiva, Paulo Hilário Nascimento Universidade de Sao Paulo - USP'],\n",
       "       ['Shaw, Jeffrey Universidade de Sao Paulo - USP'],\n",
       "       ['Shikanai-Yasuda, Maria Aparecida Universidade de Sao Paulo - USP'],\n",
       "       ['Silva, Emílio Carlos Nelli Universidade de Sao Paulo - USP'],\n",
       "       ['Sobral, Paulo José do Amaral Universidade de Sao Paulo - USP'],\n",
       "       ['Souza, João Paulo Universidade de Sao Paulo - USP'],\n",
       "       ['Squire, Jeremy A. Universidade de Sao Paulo - USP'],\n",
       "       ['Stumpf, Walter E. Universidade de Sao Paulo - USP'],\n",
       "       ['Tanus-Santos, Jose E. Universidade de Sao Paulo - USP'],\n",
       "       ['Teixeira, Marcus Zulian Universidade de Sao Paulo - USP'],\n",
       "       ['Terra, Walter R. Universidade de Sao Paulo - USP'],\n",
       "       ['Ticianelli, Edson Antonio Universidade de Sao Paulo - USP'],\n",
       "       ['Todorov, Svetoslav Dimitrov Universidade de Sao Paulo - USP'],\n",
       "       ['Toma, H. E. Universidade de Sao Paulo - USP'],\n",
       "       ['Torresi, Roberto M. Universidade de Sao Paulo - USP'],\n",
       "       ['Vargaftig, Bernardo Boris Universidade de Sao Paulo - USP'],\n",
       "       ['Villa, Luisa Lina Universidade de Sao Paulo - USP'],\n",
       "       ['Wajchenberg, Bernardo Léo Universidade de Sao Paulo - USP'],\n",
       "       ['Weiner, John Universidade de Sao Paulo - USP'],\n",
       "       ['Yukalov, V. I. Universidade de Sao Paulo - USP'],\n",
       "       ['Zaher, Hussam Universidade de Sao Paulo - USP'],\n",
       "       ['Zatz, Mayana Universidade de Sao Paulo - USP'],\n",
       "       ['Zatz, Roberto Universidade de Sao Paulo - USP'],\n",
       "       ['Zingales, Bianca Universidade de Sao Paulo - USP'],\n",
       "       ['Zuardi, Antônio W. Universidade de Sao Paulo - USP']],\n",
       "      dtype=object)"
      ]
     },
     "execution_count": 30,
     "metadata": {},
     "output_type": "execute_result"
    }
   ],
   "source": [
    "df[df.nome.str.contains('USP')].values"
   ]
  },
  {
   "cell_type": "code",
   "execution_count": null,
   "metadata": {},
   "outputs": [],
   "source": []
  }
 ],
 "metadata": {
  "kernelspec": {
   "display_name": "Python 3",
   "language": "python",
   "name": "python3"
  },
  "language_info": {
   "codemirror_mode": {
    "name": "ipython",
    "version": 3
   },
   "file_extension": ".py",
   "mimetype": "text/x-python",
   "name": "python",
   "nbconvert_exporter": "python",
   "pygments_lexer": "ipython3",
   "version": "3.7.6"
  }
 },
 "nbformat": 4,
 "nbformat_minor": 4
}
