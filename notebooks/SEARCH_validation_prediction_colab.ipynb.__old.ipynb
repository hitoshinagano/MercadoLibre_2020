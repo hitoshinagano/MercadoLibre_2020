{
 "cells": [
  {
   "cell_type": "code",
   "execution_count": 1,
   "metadata": {
    "colab": {
     "base_uri": "https://localhost:8080/",
     "height": 35
    },
    "id": "ARDSi3VqcyaG",
    "outputId": "e3c105a8-26f2-4f0d-b51a-13c0cbd27f50"
   },
   "outputs": [],
   "source": [
    "# pwd"
   ]
  },
  {
   "cell_type": "code",
   "execution_count": 2,
   "metadata": {
    "colab": {
     "base_uri": "https://localhost:8080/"
    },
    "id": "rIs3w6cOt2J0",
    "outputId": "bcf41679-e9a4-48c3-fd26-d1415f7cbd00"
   },
   "outputs": [],
   "source": [
    "# from google.colab import drive\n",
    "# drive.mount('/content/gdrive')"
   ]
  },
  {
   "cell_type": "code",
   "execution_count": 3,
   "metadata": {
    "colab": {
     "base_uri": "https://localhost:8080/"
    },
    "id": "q76edsBeuAx6",
    "outputId": "9f6dffc0-d623-478f-d471-71a0cfd87d3b"
   },
   "outputs": [],
   "source": [
    "# !pip install python-dotenv"
   ]
  },
  {
   "cell_type": "code",
   "execution_count": 4,
   "metadata": {
    "colab": {
     "base_uri": "https://localhost:8080/",
     "height": 35
    },
    "id": "BNXOWL9muc79",
    "outputId": "1a80884b-8567-436c-8e6d-8001df3bb8f7"
   },
   "outputs": [],
   "source": [
    "# pwd"
   ]
  },
  {
   "cell_type": "code",
   "execution_count": 5,
   "metadata": {
    "colab": {
     "base_uri": "https://localhost:8080/"
    },
    "id": "snI-z5Hl3Fel",
    "outputId": "e928fdde-55f3-4f3a-b58f-e08baf2ac47d"
   },
   "outputs": [],
   "source": [
    "# !pip install implicit"
   ]
  },
  {
   "cell_type": "markdown",
   "metadata": {
    "id": "UhZUHxnTtiy_"
   },
   "source": [
    "# EDA - VALIDATION & PREDICTION - Search"
   ]
  },
  {
   "cell_type": "code",
   "execution_count": 6,
   "metadata": {
    "id": "gv_eXK_2ts5t"
   },
   "outputs": [],
   "source": [
    "# import os\n",
    "# os.chdir('gdrive/My Drive/GitHub_projects/MercadoLibre_2020/notebooks')"
   ]
  },
  {
   "cell_type": "markdown",
   "metadata": {
    "id": "NGI3MqJAtiy_"
   },
   "source": [
    "## autoreload"
   ]
  },
  {
   "cell_type": "code",
   "execution_count": 1,
   "metadata": {
    "id": "btoKCxqctiy_"
   },
   "outputs": [],
   "source": [
    "%load_ext autoreload\n",
    "%autoreload 2"
   ]
  },
  {
   "cell_type": "markdown",
   "metadata": {
    "id": "CkuzZPE-tiy_"
   },
   "source": [
    "## dir setup"
   ]
  },
  {
   "cell_type": "code",
   "execution_count": 2,
   "metadata": {
    "colab": {
     "base_uri": "https://localhost:8080/"
    },
    "id": "hZmAiYWltiy_",
    "outputId": "83142ea6-f52f-419f-fb38-a000ea2ed5b3"
   },
   "outputs": [
    {
     "data": {
      "text/plain": [
       "True"
      ]
     },
     "execution_count": 2,
     "metadata": {},
     "output_type": "execute_result"
    }
   ],
   "source": [
    "from dotenv import load_dotenv, find_dotenv\n",
    "import os\n",
    "\n",
    "this_file_path = os.path.dirname(os.path.abspath(\"__file__\"))\n",
    "# if script (not notebook)...\n",
    "# project_dir = os.path.join(os.path.dirname(__file__), os.pardir)\n",
    "\n",
    "# project directory\n",
    "project_dir = os.path.join(this_file_path, os.pardir)\n",
    "\n",
    "# find .env automagically by walking up directories until it's found\n",
    "dotenv_path = find_dotenv()\n",
    "\n",
    "# load up the entries as environment variables\n",
    "load_dotenv(dotenv_path)"
   ]
  },
  {
   "cell_type": "code",
   "execution_count": 3,
   "metadata": {
    "id": "4t6WzUXZtiy_"
   },
   "outputs": [],
   "source": [
    "raw_data_dir = os.path.join(project_dir, os.environ.get(\"RAW_DATA_DIR\"))\n",
    "processed_data_dir = os.path.join(project_dir, os.environ.get(\"PROCESSED_DATA_DIR\"))\n",
    "interim_data_dir = os.path.join(project_dir, os.environ.get(\"INTERIM_DATA_DIR\"))\n",
    "wordvecs_data_dir = os.path.join(project_dir, os.environ.get(\"WORDVECS_DATA_DIR\"))\n",
    "figures_dir = os.path.join(project_dir, os.environ.get(\"FIGURES_DIR\"))\n",
    "reports_dir = os.path.join(project_dir, os.environ.get(\"REPORTS_DIR\"))\n",
    "cv_dir = os.path.join(project_dir, os.environ.get(\"CV_DIR\"))\n",
    "models_dir = os.path.join(project_dir, os.environ.get(\"MODELS_DIR\"))"
   ]
  },
  {
   "cell_type": "code",
   "execution_count": 4,
   "metadata": {
    "id": "c2G9vF6Ptiy_"
   },
   "outputs": [],
   "source": [
    "TEST_OFFSET = int(os.environ.get(\"TEST_OFFSET\"))\n",
    "TOTAL_TEST_SEQS = int(os.environ.get(\"TOTAL_TEST_SEQS\"))"
   ]
  },
  {
   "cell_type": "code",
   "execution_count": null,
   "metadata": {
    "id": "injZRWnhc68k"
   },
   "outputs": [],
   "source": []
  },
  {
   "cell_type": "markdown",
   "metadata": {
    "id": "4vGICL6Ttiy_"
   },
   "source": [
    "## imports"
   ]
  },
  {
   "cell_type": "code",
   "execution_count": 5,
   "metadata": {
    "id": "XDMfY-hEtiy_"
   },
   "outputs": [],
   "source": [
    "import numpy as np\n",
    "from datetime import datetime"
   ]
  },
  {
   "cell_type": "code",
   "execution_count": 6,
   "metadata": {
    "id": "yyne0lAItiy_"
   },
   "outputs": [],
   "source": [
    "import pandas as pd\n",
    "pd.set_option('max_rows', 100)\n",
    "pd.set_option('max_columns', None)\n",
    "# pd.options.mode.chained_assignment = None  # default='warn'"
   ]
  },
  {
   "cell_type": "code",
   "execution_count": 7,
   "metadata": {
    "id": "wNGYtoG5tizA"
   },
   "outputs": [
    {
     "name": "stderr",
     "output_type": "stream",
     "text": [
      "/Users/hitoshinagano/.virtualenvs/tensorflow2/lib/python3.7/site-packages/tqdm/std.py:668: FutureWarning: The Panel class is removed from pandas. Accessing it from the top-level namespace will also be removed in the next version\n",
      "  from pandas import Panel\n"
     ]
    }
   ],
   "source": [
    "from tqdm import tqdm\n",
    "tqdm.pandas()"
   ]
  },
  {
   "cell_type": "code",
   "execution_count": 8,
   "metadata": {
    "id": "eGATgzuVtizA"
   },
   "outputs": [],
   "source": [
    "import tensorflow as tf"
   ]
  },
  {
   "cell_type": "code",
   "execution_count": 9,
   "metadata": {
    "id": "JX7zmNxmtizA"
   },
   "outputs": [],
   "source": [
    "# from sklearn.model_selection import ParameterGrid\n",
    "\n",
    "# import mlflow\n",
    "\n",
    "# import pickle\n",
    "\n",
    "# import seaborn as sns\n",
    "# import matplotlib.pyplot as plt"
   ]
  },
  {
   "cell_type": "code",
   "execution_count": 10,
   "metadata": {
    "id": "459VYME9tizA"
   },
   "outputs": [],
   "source": [
    "# import spacy\n",
    "\n",
    "# port_nlp_fn = 'nilc50skip'\n",
    "# port_nlp_fp = os.path.join(wordvecs_data_dir, port_nlp_fn) \n",
    "# port_nlp = spacy.load(port_nlp_fp)\n",
    "\n",
    "# espa_nlp_fn = 'suc30fast'\n",
    "# espa_nlp_fp = os.path.join(wordvecs_data_dir, espa_nlp_fn) \n",
    "# espa_nlp = spacy.load(espa_nlp_fp)"
   ]
  },
  {
   "cell_type": "code",
   "execution_count": 11,
   "metadata": {
    "id": "RxOBNDQltizA"
   },
   "outputs": [],
   "source": [
    "from sklearn.metrics import ndcg_score"
   ]
  },
  {
   "cell_type": "markdown",
   "metadata": {
    "id": "oNjCfcs1tizA"
   },
   "source": [
    "## project imports"
   ]
  },
  {
   "cell_type": "code",
   "execution_count": 12,
   "metadata": {
    "id": "hYmHBhlTtizA"
   },
   "outputs": [],
   "source": [
    "import sys\n",
    "sys.path.insert(0, '..')"
   ]
  },
  {
   "cell_type": "code",
   "execution_count": 13,
   "metadata": {
    "id": "0UyjSy_stizA"
   },
   "outputs": [],
   "source": [
    "from src.features import *\n",
    "from src.models import *"
   ]
  },
  {
   "cell_type": "markdown",
   "metadata": {
    "id": "GlaggSXAtizA"
   },
   "source": [
    "# validation"
   ]
  },
  {
   "cell_type": "markdown",
   "metadata": {
    "id": "0s66LuUVtizA"
   },
   "source": [
    "##### item_data"
   ]
  },
  {
   "cell_type": "code",
   "execution_count": 14,
   "metadata": {
    "id": "VU2CBBAwtizA"
   },
   "outputs": [],
   "source": [
    "# item_data_fn = 'item_data.pkl'\n",
    "# item_data_fp = os.path.join(processed_data_dir, item_data_fn)\n",
    "# item_data = pd.read_pickle(item_data_fp)"
   ]
  },
  {
   "cell_type": "markdown",
   "metadata": {
    "id": "0GmTZho6tizA"
   },
   "source": [
    "#### item title embeddings\n",
    "use only item_id and item_embs cols from item_data "
   ]
  },
  {
   "cell_type": "code",
   "execution_count": 15,
   "metadata": {
    "id": "KHpG7zrmtizA"
   },
   "outputs": [],
   "source": [
    "lang = 'pt'"
   ]
  },
  {
   "cell_type": "code",
   "execution_count": 16,
   "metadata": {
    "id": "KiRuler-tizA"
   },
   "outputs": [],
   "source": [
    "item_data_embs_only_fn = 'item_data_embs_only.pkl'\n",
    "item_data_embs_only_fp = os.path.join(processed_data_dir, item_data_embs_only_fn)\n",
    "item_data = pd.read_pickle(item_data_embs_only_fp)\n",
    "\n",
    "item_data = item_data[item_data.lang_domain == lang].copy()\n",
    "item_data.drop('lang_domain', axis = 1, inplace = True)\n",
    "item_data_embs_only = item_data.copy() ####### <--- added\n",
    "item_data.set_index('item_id', inplace = True)"
   ]
  },
  {
   "cell_type": "code",
   "execution_count": 17,
   "metadata": {
    "colab": {
     "base_uri": "https://localhost:8080/"
    },
    "id": "fsfMX5CktizA",
    "outputId": "0ced5c8c-3b5a-4685-b4db-bf3524a0f151"
   },
   "outputs": [
    {
     "name": "stderr",
     "output_type": "stream",
     "text": [
      "100%|██████████| 1723216/1723216 [06:20<00:00, 4530.72it/s] \n"
     ]
    }
   ],
   "source": [
    "item_data = item_data.title_embs.progress_apply(pd.Series)"
   ]
  },
  {
   "cell_type": "code",
   "execution_count": 18,
   "metadata": {
    "id": "lKoRBr2ktizA"
   },
   "outputs": [],
   "source": [
    "item_data = item_data.dropna()"
   ]
  },
  {
   "cell_type": "code",
   "execution_count": 19,
   "metadata": {
    "colab": {
     "base_uri": "https://localhost:8080/",
     "height": 198
    },
    "id": "OCsyBsEbnjp0",
    "outputId": "f63808d3-8d03-4ed6-ec8e-604e6b605c56"
   },
   "outputs": [
    {
     "data": {
      "text/html": [
       "<div>\n",
       "<style scoped>\n",
       "    .dataframe tbody tr th:only-of-type {\n",
       "        vertical-align: middle;\n",
       "    }\n",
       "\n",
       "    .dataframe tbody tr th {\n",
       "        vertical-align: top;\n",
       "    }\n",
       "\n",
       "    .dataframe thead th {\n",
       "        text-align: right;\n",
       "    }\n",
       "</style>\n",
       "<table border=\"1\" class=\"dataframe\">\n",
       "  <thead>\n",
       "    <tr style=\"text-align: right;\">\n",
       "      <th></th>\n",
       "      <th>item_id</th>\n",
       "      <th>title_embs</th>\n",
       "    </tr>\n",
       "  </thead>\n",
       "  <tbody>\n",
       "    <tr>\n",
       "      <th>8655</th>\n",
       "      <td>2076351</td>\n",
       "      <td>[0.152, 0.02438, 0.275, -0.1411, -0.1242, 0.15...</td>\n",
       "    </tr>\n",
       "    <tr>\n",
       "      <th>8656</th>\n",
       "      <td>234839</td>\n",
       "      <td>[-0.2347, 0.01924, -0.04782, -0.02776, -0.223,...</td>\n",
       "    </tr>\n",
       "    <tr>\n",
       "      <th>8657</th>\n",
       "      <td>442139</td>\n",
       "      <td>[-0.04303, -0.0998, 0.12445, -0.0772, -0.12036...</td>\n",
       "    </tr>\n",
       "    <tr>\n",
       "      <th>8658</th>\n",
       "      <td>1893085</td>\n",
       "      <td>[0.1247, -0.003956, 0.2979, -0.11115, -0.0584,...</td>\n",
       "    </tr>\n",
       "    <tr>\n",
       "      <th>8659</th>\n",
       "      <td>1185052</td>\n",
       "      <td>[0.04184, 0.10614, 0.1761, -0.014366, -0.2512,...</td>\n",
       "    </tr>\n",
       "  </tbody>\n",
       "</table>\n",
       "</div>"
      ],
      "text/plain": [
       "      item_id                                         title_embs\n",
       "8655  2076351  [0.152, 0.02438, 0.275, -0.1411, -0.1242, 0.15...\n",
       "8656   234839  [-0.2347, 0.01924, -0.04782, -0.02776, -0.223,...\n",
       "8657   442139  [-0.04303, -0.0998, 0.12445, -0.0772, -0.12036...\n",
       "8658  1893085  [0.1247, -0.003956, 0.2979, -0.11115, -0.0584,...\n",
       "8659  1185052  [0.04184, 0.10614, 0.1761, -0.014366, -0.2512,..."
      ]
     },
     "execution_count": 19,
     "metadata": {},
     "output_type": "execute_result"
    }
   ],
   "source": [
    "item_data_embs_only.head()"
   ]
  },
  {
   "cell_type": "markdown",
   "metadata": {
    "id": "BqektCpftizA"
   },
   "source": [
    "#### search embeddings\n",
    "train_test with embeddings"
   ]
  },
  {
   "cell_type": "code",
   "execution_count": 31,
   "metadata": {
    "id": "X6--sAhQtizA"
   },
   "outputs": [],
   "source": [
    "train_test_embs_fn = 'train_test_embs.pkl'\n",
    "train_test_embs_fp = os.path.join(interim_data_dir, train_test_embs_fn)\n",
    "train_test = pd.read_pickle(train_test_embs_fp)\n",
    "\n",
    "# train_test['seq'] = train_test.seq - TEST_OFFSET\n",
    "train_test = train_test[train_test.seq < TEST_OFFSET]  # validation"
   ]
  },
  {
   "cell_type": "code",
   "execution_count": 32,
   "metadata": {
    "id": "Z6zgQ4JaBXc_"
   },
   "outputs": [],
   "source": [
    "search_view_stats = train_test.groupby('seq').event_type.value_counts().unstack().fillna(0)   #### < ---- added\n",
    "low_view_seqs = search_view_stats[search_view_stats.view < 2].index  #### < ---- added\n",
    "\n",
    "train_test = train_test[train_test.seq.isin(low_view_seqs)]  #### < ---- added"
   ]
  },
  {
   "cell_type": "code",
   "execution_count": 33,
   "metadata": {
    "id": "m-iUGH0toaS9"
   },
   "outputs": [],
   "source": [
    "views = train_test[(train_test.lang_seq == lang) & (train_test.event_type == 'view')] #### < ---- added\n",
    "views = pd.merge(views, item_data_embs_only, left_on = 'event_info', right_on = 'item_id', how = 'left') #### < ---- added\n",
    "views = views.dropna(subset = ['title_embs']) #### < ---- added"
   ]
  },
  {
   "cell_type": "code",
   "execution_count": 34,
   "metadata": {
    "id": "L-QQBvkJtizA"
   },
   "outputs": [],
   "source": [
    "queries = train_test[(train_test.lang_seq == lang) & (train_test.event_type == 'search')]"
   ]
  },
  {
   "cell_type": "code",
   "execution_count": 35,
   "metadata": {
    "id": "_ZPH0CQCpX6-"
   },
   "outputs": [],
   "source": [
    "views_queries = pd.concat([views, queries]) ##### <---- added"
   ]
  },
  {
   "cell_type": "code",
   "execution_count": 36,
   "metadata": {
    "colab": {
     "base_uri": "https://localhost:8080/"
    },
    "id": "1z-wf7Ie7MsW",
    "outputId": "152e985a-780b-429e-b3c9-d31bf69b8c4d"
   },
   "outputs": [
    {
     "data": {
      "text/plain": [
       "search    248739\n",
       "view       60900\n",
       "Name: event_type, dtype: int64"
      ]
     },
     "execution_count": 36,
     "metadata": {},
     "output_type": "execute_result"
    }
   ],
   "source": [
    "views_queries.event_type.value_counts()"
   ]
  },
  {
   "cell_type": "markdown",
   "metadata": {
    "id": "wL3I9RthtizA"
   },
   "source": [
    "#### selecting train seq's for validation"
   ]
  },
  {
   "cell_type": "code",
   "execution_count": 37,
   "metadata": {
    "id": "S0JrGV16tizA"
   },
   "outputs": [],
   "source": [
    "validation = 0.001\n",
    "unique_seqs = views_queries.seq.unique() ##### <---- mod\n",
    "seq_sample_size = int(len(unique_seqs) * validation)\n",
    "seq_sel = np.random.choice(unique_seqs, size = seq_sample_size, replace = False)"
   ]
  },
  {
   "cell_type": "markdown",
   "metadata": {
    "id": "vy7ShNS5tizA"
   },
   "source": [
    "##### selecting queries only in scope"
   ]
  },
  {
   "cell_type": "code",
   "execution_count": 38,
   "metadata": {
    "id": "RdtK3xHftizA"
   },
   "outputs": [],
   "source": [
    "views_queries = views_queries[views_queries.seq.isin(seq_sel)]"
   ]
  },
  {
   "cell_type": "code",
   "execution_count": 40,
   "metadata": {
    "colab": {
     "base_uri": "https://localhost:8080/"
    },
    "id": "1zlQetMYtizA",
    "outputId": "eea8848b-d1c2-41a7-bbaf-7bdd31e15ee1"
   },
   "outputs": [
    {
     "data": {
      "text/plain": [
       "8"
      ]
     },
     "execution_count": 40,
     "metadata": {},
     "output_type": "execute_result"
    }
   ],
   "source": [
    "unique_seqs = views_queries.seq.unique()\n",
    "num_batches = len(unique_seqs) // 10\n",
    "seqs = np.array_split(unique_seqs, num_batches)\n",
    "num_batches"
   ]
  },
  {
   "cell_type": "code",
   "execution_count": 41,
   "metadata": {
    "colab": {
     "base_uri": "https://localhost:8080/"
    },
    "id": "9tyU-YqUtizA",
    "outputId": "748b61b5-8811-4b0a-998b-39c736e4aba7"
   },
   "outputs": [
    {
     "data": {
      "text/plain": [
       "11"
      ]
     },
     "execution_count": 41,
     "metadata": {},
     "output_type": "execute_result"
    }
   ],
   "source": [
    "seq_batch = seqs[0]\n",
    "len(seq_batch)"
   ]
  },
  {
   "cell_type": "code",
   "execution_count": 42,
   "metadata": {
    "id": "e28rGHm9vKzL"
   },
   "outputs": [],
   "source": [
    "views_queries['query_embs'] = views_queries.query_embs.fillna(views_queries.title_embs) ##### <===== added\n",
    "views_queries.rename(columns = {'query_embs': 'query_title_embs'}, inplace = True)  ##### <===== added\n",
    "views_queries.drop(columns = 'title_embs', inplace = True)  ##### <===== added"
   ]
  },
  {
   "cell_type": "code",
   "execution_count": 43,
   "metadata": {
    "id": "8EzwTjKmtizA"
   },
   "outputs": [],
   "source": [
    "item_data_tensor = tf.constant(item_data)"
   ]
  },
  {
   "cell_type": "code",
   "execution_count": 44,
   "metadata": {
    "id": "Ht5TCYT6ym7s"
   },
   "outputs": [],
   "source": [
    "value_of_a_search = 1 #### <=== added\n",
    "views_queries['views'] = views_queries.views.fillna(value_of_a_search) #### <=== added"
   ]
  },
  {
   "cell_type": "code",
   "execution_count": 45,
   "metadata": {
    "id": "CbdV1ZpNz6ps"
   },
   "outputs": [],
   "source": [
    "def weighted(x): #### <=== added whole function\n",
    "  numerator = sum(x.views * x.query_title_embs)\n",
    "  denominator = sum(x.views)\n",
    "  return pd.Series(numerator/denominator)"
   ]
  },
  {
   "cell_type": "code",
   "execution_count": 46,
   "metadata": {
    "colab": {
     "base_uri": "https://localhost:8080/",
     "height": 108
    },
    "id": "QNmIjV9P3s8h",
    "outputId": "d45c5b27-934d-4b11-da2d-87745749badd"
   },
   "outputs": [
    {
     "data": {
      "text/html": [
       "<div>\n",
       "<style scoped>\n",
       "    .dataframe tbody tr th:only-of-type {\n",
       "        vertical-align: middle;\n",
       "    }\n",
       "\n",
       "    .dataframe tbody tr th {\n",
       "        vertical-align: top;\n",
       "    }\n",
       "\n",
       "    .dataframe thead th {\n",
       "        text-align: right;\n",
       "    }\n",
       "</style>\n",
       "<table border=\"1\" class=\"dataframe\">\n",
       "  <thead>\n",
       "    <tr style=\"text-align: right;\">\n",
       "      <th></th>\n",
       "      <th>seq</th>\n",
       "      <th>event_info</th>\n",
       "      <th>views</th>\n",
       "      <th>event_type</th>\n",
       "      <th>lang_seq</th>\n",
       "      <th>query_title_embs</th>\n",
       "      <th>item_id</th>\n",
       "    </tr>\n",
       "  </thead>\n",
       "  <tbody>\n",
       "    <tr>\n",
       "      <th>56</th>\n",
       "      <td>418</td>\n",
       "      <td>614676</td>\n",
       "      <td>8.0</td>\n",
       "      <td>view</td>\n",
       "      <td>pt</td>\n",
       "      <td>[-0.0812, -0.005066, 0.1876, -0.07574, -0.2085...</td>\n",
       "      <td>614676.0</td>\n",
       "    </tr>\n",
       "    <tr>\n",
       "      <th>726</th>\n",
       "      <td>4836</td>\n",
       "      <td>170636</td>\n",
       "      <td>3.0</td>\n",
       "      <td>view</td>\n",
       "      <td>pt</td>\n",
       "      <td>[0.12335, -0.1151, 0.2979, -0.05286, -0.12103,...</td>\n",
       "      <td>170636.0</td>\n",
       "    </tr>\n",
       "  </tbody>\n",
       "</table>\n",
       "</div>"
      ],
      "text/plain": [
       "      seq event_info  views event_type lang_seq  \\\n",
       "56    418     614676    8.0       view       pt   \n",
       "726  4836     170636    3.0       view       pt   \n",
       "\n",
       "                                      query_title_embs   item_id  \n",
       "56   [-0.0812, -0.005066, 0.1876, -0.07574, -0.2085...  614676.0  \n",
       "726  [0.12335, -0.1151, 0.2979, -0.05286, -0.12103,...  170636.0  "
      ]
     },
     "execution_count": 46,
     "metadata": {},
     "output_type": "execute_result"
    }
   ],
   "source": [
    "views_queries.head(2)"
   ]
  },
  {
   "cell_type": "code",
   "execution_count": 47,
   "metadata": {
    "colab": {
     "base_uri": "https://localhost:8080/"
    },
    "id": "DK-6R7lHtizA",
    "outputId": "ea2bf1c2-3639-4ff1-f190-31421de76303"
   },
   "outputs": [
    {
     "name": "stderr",
     "output_type": "stream",
     "text": [
      "100%|██████████| 8/8 [00:28<00:00,  3.59s/it]\n"
     ]
    }
   ],
   "source": [
    "recs = dict()\n",
    "\n",
    "for seq_batch in tqdm(seqs):\n",
    "    query_embs = views_queries[views_queries.seq.isin(seq_batch)]\n",
    "    # query_embs = query_embs.groupby('seq').query_title_embs.apply(lambda x: x.mean())  #### <=== del\n",
    "    query_embs = query_embs.groupby('seq')[['query_title_embs', 'views']].apply(weighted)  #### <=== added\n",
    "    # query_embs = query_embs.apply(pd.Series) #### <=== del. weighted function returns pd.Series\n",
    "    \n",
    "    # scores = item_data @ query_embs.T\n",
    "    scores = tf.matmul(item_data_tensor, query_embs.T).numpy()\n",
    "    scores = pd.DataFrame(scores, index = item_data.index, columns = query_embs.index)\n",
    "    \n",
    "    for s in scores.columns:\n",
    "        recs[s] = list(scores[s].nlargest(10).items())"
   ]
  },
  {
   "cell_type": "code",
   "execution_count": 48,
   "metadata": {
    "id": "uV2OABWStizA"
   },
   "outputs": [],
   "source": [
    "recs_df = pd.DataFrame(recs)"
   ]
  },
  {
   "cell_type": "code",
   "execution_count": 49,
   "metadata": {
    "colab": {
     "base_uri": "https://localhost:8080/"
    },
    "id": "zKkBK8yMtizA",
    "outputId": "6ead5b2a-561c-43fa-990d-3b9e90fd8cde"
   },
   "outputs": [
    {
     "data": {
      "text/plain": [
       "(10, 87)"
      ]
     },
     "execution_count": 49,
     "metadata": {},
     "output_type": "execute_result"
    }
   ],
   "source": [
    "recs_df.shape"
   ]
  },
  {
   "cell_type": "code",
   "execution_count": 50,
   "metadata": {
    "colab": {
     "base_uri": "https://localhost:8080/",
     "height": 35
    },
    "id": "CGCIkHIxtizB",
    "outputId": "0bed3a58-8aa1-427f-8e1f-e5c9738ea8c0"
   },
   "outputs": [
    {
     "data": {
      "text/plain": [
       "'pt'"
      ]
     },
     "execution_count": 50,
     "metadata": {},
     "output_type": "execute_result"
    }
   ],
   "source": [
    "lang"
   ]
  },
  {
   "cell_type": "code",
   "execution_count": 51,
   "metadata": {
    "id": "jX2s2bUttizB"
   },
   "outputs": [],
   "source": [
    "recs_df = recs_df.applymap(lambda x: x[0]).T"
   ]
  },
  {
   "cell_type": "code",
   "execution_count": 52,
   "metadata": {
    "colab": {
     "base_uri": "https://localhost:8080/",
     "height": 407
    },
    "id": "a2V5ivi7tizB",
    "outputId": "631614bb-709b-42fc-89ad-d79b3a116957"
   },
   "outputs": [
    {
     "data": {
      "text/html": [
       "<div>\n",
       "<style scoped>\n",
       "    .dataframe tbody tr th:only-of-type {\n",
       "        vertical-align: middle;\n",
       "    }\n",
       "\n",
       "    .dataframe tbody tr th {\n",
       "        vertical-align: top;\n",
       "    }\n",
       "\n",
       "    .dataframe thead th {\n",
       "        text-align: right;\n",
       "    }\n",
       "</style>\n",
       "<table border=\"1\" class=\"dataframe\">\n",
       "  <thead>\n",
       "    <tr style=\"text-align: right;\">\n",
       "      <th></th>\n",
       "      <th>0</th>\n",
       "      <th>1</th>\n",
       "      <th>2</th>\n",
       "      <th>3</th>\n",
       "      <th>4</th>\n",
       "      <th>5</th>\n",
       "      <th>6</th>\n",
       "      <th>7</th>\n",
       "      <th>8</th>\n",
       "      <th>9</th>\n",
       "    </tr>\n",
       "  </thead>\n",
       "  <tbody>\n",
       "    <tr>\n",
       "      <th>418</th>\n",
       "      <td>1625024</td>\n",
       "      <td>812704</td>\n",
       "      <td>614676</td>\n",
       "      <td>927020</td>\n",
       "      <td>801210</td>\n",
       "      <td>447525</td>\n",
       "      <td>1358172</td>\n",
       "      <td>853639</td>\n",
       "      <td>375540</td>\n",
       "      <td>1789999</td>\n",
       "    </tr>\n",
       "    <tr>\n",
       "      <th>4836</th>\n",
       "      <td>69558</td>\n",
       "      <td>1164607</td>\n",
       "      <td>1975325</td>\n",
       "      <td>963496</td>\n",
       "      <td>609564</td>\n",
       "      <td>191653</td>\n",
       "      <td>1297215</td>\n",
       "      <td>1339446</td>\n",
       "      <td>619718</td>\n",
       "      <td>217422</td>\n",
       "    </tr>\n",
       "    <tr>\n",
       "      <th>7098</th>\n",
       "      <td>1516010</td>\n",
       "      <td>1792041</td>\n",
       "      <td>818021</td>\n",
       "      <td>1636219</td>\n",
       "      <td>1534587</td>\n",
       "      <td>2046332</td>\n",
       "      <td>76193</td>\n",
       "      <td>3552</td>\n",
       "      <td>944913</td>\n",
       "      <td>474215</td>\n",
       "    </tr>\n",
       "    <tr>\n",
       "      <th>10714</th>\n",
       "      <td>46821</td>\n",
       "      <td>1867444</td>\n",
       "      <td>34764</td>\n",
       "      <td>1457045</td>\n",
       "      <td>935335</td>\n",
       "      <td>1889155</td>\n",
       "      <td>1437976</td>\n",
       "      <td>829464</td>\n",
       "      <td>838144</td>\n",
       "      <td>1504891</td>\n",
       "    </tr>\n",
       "    <tr>\n",
       "      <th>13948</th>\n",
       "      <td>1031359</td>\n",
       "      <td>1070128</td>\n",
       "      <td>324225</td>\n",
       "      <td>960154</td>\n",
       "      <td>1571455</td>\n",
       "      <td>832263</td>\n",
       "      <td>1093660</td>\n",
       "      <td>1794819</td>\n",
       "      <td>2084040</td>\n",
       "      <td>528997</td>\n",
       "    </tr>\n",
       "    <tr>\n",
       "      <th>14325</th>\n",
       "      <td>49882</td>\n",
       "      <td>2072519</td>\n",
       "      <td>677240</td>\n",
       "      <td>123771</td>\n",
       "      <td>1009654</td>\n",
       "      <td>1758690</td>\n",
       "      <td>1179569</td>\n",
       "      <td>1672305</td>\n",
       "      <td>2004409</td>\n",
       "      <td>451489</td>\n",
       "    </tr>\n",
       "    <tr>\n",
       "      <th>16358</th>\n",
       "      <td>1529679</td>\n",
       "      <td>1739249</td>\n",
       "      <td>1906958</td>\n",
       "      <td>78975</td>\n",
       "      <td>121672</td>\n",
       "      <td>60279</td>\n",
       "      <td>785863</td>\n",
       "      <td>333724</td>\n",
       "      <td>1103283</td>\n",
       "      <td>238855</td>\n",
       "    </tr>\n",
       "    <tr>\n",
       "      <th>24877</th>\n",
       "      <td>859006</td>\n",
       "      <td>1042723</td>\n",
       "      <td>228491</td>\n",
       "      <td>65534</td>\n",
       "      <td>1042464</td>\n",
       "      <td>145087</td>\n",
       "      <td>2077604</td>\n",
       "      <td>1883461</td>\n",
       "      <td>1421034</td>\n",
       "      <td>986687</td>\n",
       "    </tr>\n",
       "    <tr>\n",
       "      <th>30108</th>\n",
       "      <td>1881292</td>\n",
       "      <td>1369362</td>\n",
       "      <td>1727285</td>\n",
       "      <td>337914</td>\n",
       "      <td>1095018</td>\n",
       "      <td>1745010</td>\n",
       "      <td>1647722</td>\n",
       "      <td>960985</td>\n",
       "      <td>815837</td>\n",
       "      <td>491483</td>\n",
       "    </tr>\n",
       "    <tr>\n",
       "      <th>32272</th>\n",
       "      <td>1589985</td>\n",
       "      <td>1868612</td>\n",
       "      <td>1707953</td>\n",
       "      <td>1431975</td>\n",
       "      <td>1217237</td>\n",
       "      <td>1400334</td>\n",
       "      <td>1105670</td>\n",
       "      <td>1386005</td>\n",
       "      <td>59196</td>\n",
       "      <td>1105316</td>\n",
       "    </tr>\n",
       "    <tr>\n",
       "      <th>32750</th>\n",
       "      <td>702402</td>\n",
       "      <td>71599</td>\n",
       "      <td>856339</td>\n",
       "      <td>664492</td>\n",
       "      <td>867320</td>\n",
       "      <td>1805470</td>\n",
       "      <td>1472772</td>\n",
       "      <td>1504350</td>\n",
       "      <td>1122890</td>\n",
       "      <td>999510</td>\n",
       "    </tr>\n",
       "    <tr>\n",
       "      <th>37727</th>\n",
       "      <td>86750</td>\n",
       "      <td>168536</td>\n",
       "      <td>222234</td>\n",
       "      <td>1984039</td>\n",
       "      <td>899122</td>\n",
       "      <td>38752</td>\n",
       "      <td>1048744</td>\n",
       "      <td>413827</td>\n",
       "      <td>912909</td>\n",
       "      <td>814125</td>\n",
       "    </tr>\n",
       "    <tr>\n",
       "      <th>64298</th>\n",
       "      <td>883802</td>\n",
       "      <td>1240370</td>\n",
       "      <td>2016833</td>\n",
       "      <td>1893897</td>\n",
       "      <td>1538157</td>\n",
       "      <td>1809392</td>\n",
       "      <td>1449877</td>\n",
       "      <td>1619775</td>\n",
       "      <td>1586145</td>\n",
       "      <td>2048165</td>\n",
       "    </tr>\n",
       "    <tr>\n",
       "      <th>72603</th>\n",
       "      <td>2062616</td>\n",
       "      <td>611685</td>\n",
       "      <td>1373537</td>\n",
       "      <td>11323</td>\n",
       "      <td>267779</td>\n",
       "      <td>1055541</td>\n",
       "      <td>1388506</td>\n",
       "      <td>731106</td>\n",
       "      <td>616298</td>\n",
       "      <td>206845</td>\n",
       "    </tr>\n",
       "    <tr>\n",
       "      <th>75179</th>\n",
       "      <td>1809387</td>\n",
       "      <td>1246290</td>\n",
       "      <td>513115</td>\n",
       "      <td>1916279</td>\n",
       "      <td>594907</td>\n",
       "      <td>1525107</td>\n",
       "      <td>1703995</td>\n",
       "      <td>1706497</td>\n",
       "      <td>561674</td>\n",
       "      <td>1698266</td>\n",
       "    </tr>\n",
       "    <tr>\n",
       "      <th>80867</th>\n",
       "      <td>691775</td>\n",
       "      <td>762168</td>\n",
       "      <td>2016344</td>\n",
       "      <td>1972748</td>\n",
       "      <td>2033327</td>\n",
       "      <td>1138325</td>\n",
       "      <td>1807282</td>\n",
       "      <td>1249653</td>\n",
       "      <td>1327652</td>\n",
       "      <td>1711498</td>\n",
       "    </tr>\n",
       "    <tr>\n",
       "      <th>90359</th>\n",
       "      <td>1074089</td>\n",
       "      <td>1248541</td>\n",
       "      <td>981458</td>\n",
       "      <td>903287</td>\n",
       "      <td>217281</td>\n",
       "      <td>1067806</td>\n",
       "      <td>1198217</td>\n",
       "      <td>1731594</td>\n",
       "      <td>2035527</td>\n",
       "      <td>1537300</td>\n",
       "    </tr>\n",
       "    <tr>\n",
       "      <th>98933</th>\n",
       "      <td>555175</td>\n",
       "      <td>1475694</td>\n",
       "      <td>557062</td>\n",
       "      <td>1181145</td>\n",
       "      <td>2065458</td>\n",
       "      <td>1972436</td>\n",
       "      <td>449008</td>\n",
       "      <td>1175381</td>\n",
       "      <td>1624580</td>\n",
       "      <td>1419783</td>\n",
       "    </tr>\n",
       "    <tr>\n",
       "      <th>102176</th>\n",
       "      <td>87126</td>\n",
       "      <td>615442</td>\n",
       "      <td>372375</td>\n",
       "      <td>446752</td>\n",
       "      <td>118792</td>\n",
       "      <td>1501696</td>\n",
       "      <td>2029010</td>\n",
       "      <td>17285</td>\n",
       "      <td>61569</td>\n",
       "      <td>1374173</td>\n",
       "    </tr>\n",
       "    <tr>\n",
       "      <th>108327</th>\n",
       "      <td>819164</td>\n",
       "      <td>1989889</td>\n",
       "      <td>267710</td>\n",
       "      <td>900015</td>\n",
       "      <td>1678015</td>\n",
       "      <td>1200274</td>\n",
       "      <td>1263372</td>\n",
       "      <td>613747</td>\n",
       "      <td>601951</td>\n",
       "      <td>682694</td>\n",
       "    </tr>\n",
       "    <tr>\n",
       "      <th>113148</th>\n",
       "      <td>1013789</td>\n",
       "      <td>175386</td>\n",
       "      <td>1786038</td>\n",
       "      <td>1991679</td>\n",
       "      <td>487706</td>\n",
       "      <td>1860739</td>\n",
       "      <td>1113895</td>\n",
       "      <td>1483773</td>\n",
       "      <td>217887</td>\n",
       "      <td>1503048</td>\n",
       "    </tr>\n",
       "    <tr>\n",
       "      <th>122485</th>\n",
       "      <td>584383</td>\n",
       "      <td>1747055</td>\n",
       "      <td>1891096</td>\n",
       "      <td>1124754</td>\n",
       "      <td>650956</td>\n",
       "      <td>511839</td>\n",
       "      <td>1654983</td>\n",
       "      <td>1027696</td>\n",
       "      <td>1649560</td>\n",
       "      <td>1380541</td>\n",
       "    </tr>\n",
       "    <tr>\n",
       "      <th>124868</th>\n",
       "      <td>1745598</td>\n",
       "      <td>1250930</td>\n",
       "      <td>2032102</td>\n",
       "      <td>749951</td>\n",
       "      <td>668783</td>\n",
       "      <td>1297750</td>\n",
       "      <td>186575</td>\n",
       "      <td>34940</td>\n",
       "      <td>339435</td>\n",
       "      <td>1582441</td>\n",
       "    </tr>\n",
       "    <tr>\n",
       "      <th>125728</th>\n",
       "      <td>1104678</td>\n",
       "      <td>1081326</td>\n",
       "      <td>1285212</td>\n",
       "      <td>715663</td>\n",
       "      <td>1192441</td>\n",
       "      <td>3099</td>\n",
       "      <td>1669381</td>\n",
       "      <td>2051229</td>\n",
       "      <td>1683602</td>\n",
       "      <td>1284699</td>\n",
       "    </tr>\n",
       "    <tr>\n",
       "      <th>143378</th>\n",
       "      <td>545051</td>\n",
       "      <td>208545</td>\n",
       "      <td>1537272</td>\n",
       "      <td>1027863</td>\n",
       "      <td>449322</td>\n",
       "      <td>320710</td>\n",
       "      <td>472864</td>\n",
       "      <td>607886</td>\n",
       "      <td>688807</td>\n",
       "      <td>1525934</td>\n",
       "    </tr>\n",
       "    <tr>\n",
       "      <th>151393</th>\n",
       "      <td>323634</td>\n",
       "      <td>1253996</td>\n",
       "      <td>792033</td>\n",
       "      <td>623867</td>\n",
       "      <td>425262</td>\n",
       "      <td>113954</td>\n",
       "      <td>883012</td>\n",
       "      <td>369576</td>\n",
       "      <td>29315</td>\n",
       "      <td>2073017</td>\n",
       "    </tr>\n",
       "    <tr>\n",
       "      <th>151670</th>\n",
       "      <td>580946</td>\n",
       "      <td>1201479</td>\n",
       "      <td>673951</td>\n",
       "      <td>426971</td>\n",
       "      <td>328555</td>\n",
       "      <td>31927</td>\n",
       "      <td>1120200</td>\n",
       "      <td>1570910</td>\n",
       "      <td>409362</td>\n",
       "      <td>1695443</td>\n",
       "    </tr>\n",
       "    <tr>\n",
       "      <th>153762</th>\n",
       "      <td>86563</td>\n",
       "      <td>1064063</td>\n",
       "      <td>133224</td>\n",
       "      <td>647327</td>\n",
       "      <td>2097593</td>\n",
       "      <td>510992</td>\n",
       "      <td>973500</td>\n",
       "      <td>579035</td>\n",
       "      <td>1283933</td>\n",
       "      <td>252688</td>\n",
       "    </tr>\n",
       "    <tr>\n",
       "      <th>167301</th>\n",
       "      <td>162453</td>\n",
       "      <td>1114804</td>\n",
       "      <td>1514924</td>\n",
       "      <td>1262859</td>\n",
       "      <td>1405062</td>\n",
       "      <td>1626060</td>\n",
       "      <td>1394927</td>\n",
       "      <td>268864</td>\n",
       "      <td>1383919</td>\n",
       "      <td>758351</td>\n",
       "    </tr>\n",
       "    <tr>\n",
       "      <th>169488</th>\n",
       "      <td>2089973</td>\n",
       "      <td>1160015</td>\n",
       "      <td>462817</td>\n",
       "      <td>415757</td>\n",
       "      <td>859814</td>\n",
       "      <td>1084327</td>\n",
       "      <td>2042501</td>\n",
       "      <td>457776</td>\n",
       "      <td>1915746</td>\n",
       "      <td>431307</td>\n",
       "    </tr>\n",
       "    <tr>\n",
       "      <th>171674</th>\n",
       "      <td>452730</td>\n",
       "      <td>1357357</td>\n",
       "      <td>343389</td>\n",
       "      <td>1501998</td>\n",
       "      <td>2022956</td>\n",
       "      <td>266087</td>\n",
       "      <td>628643</td>\n",
       "      <td>2034410</td>\n",
       "      <td>715584</td>\n",
       "      <td>573951</td>\n",
       "    </tr>\n",
       "    <tr>\n",
       "      <th>178298</th>\n",
       "      <td>553055</td>\n",
       "      <td>1410191</td>\n",
       "      <td>1030513</td>\n",
       "      <td>1691262</td>\n",
       "      <td>1627130</td>\n",
       "      <td>1550443</td>\n",
       "      <td>1700051</td>\n",
       "      <td>283598</td>\n",
       "      <td>930081</td>\n",
       "      <td>1884326</td>\n",
       "    </tr>\n",
       "    <tr>\n",
       "      <th>206896</th>\n",
       "      <td>840983</td>\n",
       "      <td>500342</td>\n",
       "      <td>1414949</td>\n",
       "      <td>272781</td>\n",
       "      <td>1040835</td>\n",
       "      <td>1652284</td>\n",
       "      <td>1834558</td>\n",
       "      <td>827573</td>\n",
       "      <td>51309</td>\n",
       "      <td>1812866</td>\n",
       "    </tr>\n",
       "    <tr>\n",
       "      <th>207850</th>\n",
       "      <td>663406</td>\n",
       "      <td>1003801</td>\n",
       "      <td>544574</td>\n",
       "      <td>320243</td>\n",
       "      <td>1852405</td>\n",
       "      <td>290040</td>\n",
       "      <td>384026</td>\n",
       "      <td>1110310</td>\n",
       "      <td>1849041</td>\n",
       "      <td>109099</td>\n",
       "    </tr>\n",
       "    <tr>\n",
       "      <th>207968</th>\n",
       "      <td>1038405</td>\n",
       "      <td>234385</td>\n",
       "      <td>778944</td>\n",
       "      <td>1715761</td>\n",
       "      <td>1974570</td>\n",
       "      <td>1902765</td>\n",
       "      <td>147018</td>\n",
       "      <td>49676</td>\n",
       "      <td>1351426</td>\n",
       "      <td>437304</td>\n",
       "    </tr>\n",
       "    <tr>\n",
       "      <th>211275</th>\n",
       "      <td>1224833</td>\n",
       "      <td>668378</td>\n",
       "      <td>72863</td>\n",
       "      <td>196381</td>\n",
       "      <td>833543</td>\n",
       "      <td>965769</td>\n",
       "      <td>154274</td>\n",
       "      <td>1783215</td>\n",
       "      <td>1340407</td>\n",
       "      <td>1563057</td>\n",
       "    </tr>\n",
       "    <tr>\n",
       "      <th>216362</th>\n",
       "      <td>276036</td>\n",
       "      <td>133119</td>\n",
       "      <td>1688899</td>\n",
       "      <td>1888089</td>\n",
       "      <td>1563377</td>\n",
       "      <td>1244739</td>\n",
       "      <td>694113</td>\n",
       "      <td>624003</td>\n",
       "      <td>1095677</td>\n",
       "      <td>929187</td>\n",
       "    </tr>\n",
       "    <tr>\n",
       "      <th>232182</th>\n",
       "      <td>1210736</td>\n",
       "      <td>1202153</td>\n",
       "      <td>60560</td>\n",
       "      <td>659433</td>\n",
       "      <td>826458</td>\n",
       "      <td>475556</td>\n",
       "      <td>1229400</td>\n",
       "      <td>1774350</td>\n",
       "      <td>1895303</td>\n",
       "      <td>175022</td>\n",
       "    </tr>\n",
       "    <tr>\n",
       "      <th>232316</th>\n",
       "      <td>1129770</td>\n",
       "      <td>893647</td>\n",
       "      <td>785078</td>\n",
       "      <td>580632</td>\n",
       "      <td>252713</td>\n",
       "      <td>700515</td>\n",
       "      <td>1771136</td>\n",
       "      <td>1053154</td>\n",
       "      <td>2015438</td>\n",
       "      <td>41182</td>\n",
       "    </tr>\n",
       "    <tr>\n",
       "      <th>244019</th>\n",
       "      <td>1567578</td>\n",
       "      <td>1002016</td>\n",
       "      <td>67756</td>\n",
       "      <td>1965896</td>\n",
       "      <td>1134835</td>\n",
       "      <td>715057</td>\n",
       "      <td>857259</td>\n",
       "      <td>1701266</td>\n",
       "      <td>180409</td>\n",
       "      <td>209475</td>\n",
       "    </tr>\n",
       "    <tr>\n",
       "      <th>251579</th>\n",
       "      <td>1708456</td>\n",
       "      <td>1589047</td>\n",
       "      <td>1680001</td>\n",
       "      <td>1567331</td>\n",
       "      <td>713988</td>\n",
       "      <td>1029989</td>\n",
       "      <td>1583363</td>\n",
       "      <td>903995</td>\n",
       "      <td>97419</td>\n",
       "      <td>1435219</td>\n",
       "    </tr>\n",
       "    <tr>\n",
       "      <th>260075</th>\n",
       "      <td>784854</td>\n",
       "      <td>1054948</td>\n",
       "      <td>21197</td>\n",
       "      <td>1352438</td>\n",
       "      <td>1166722</td>\n",
       "      <td>1761085</td>\n",
       "      <td>337629</td>\n",
       "      <td>255280</td>\n",
       "      <td>346856</td>\n",
       "      <td>265918</td>\n",
       "    </tr>\n",
       "    <tr>\n",
       "      <th>274064</th>\n",
       "      <td>2054938</td>\n",
       "      <td>1101232</td>\n",
       "      <td>23258</td>\n",
       "      <td>785491</td>\n",
       "      <td>143804</td>\n",
       "      <td>573913</td>\n",
       "      <td>1799527</td>\n",
       "      <td>1064832</td>\n",
       "      <td>911154</td>\n",
       "      <td>382747</td>\n",
       "    </tr>\n",
       "    <tr>\n",
       "      <th>275599</th>\n",
       "      <td>1989449</td>\n",
       "      <td>733586</td>\n",
       "      <td>816440</td>\n",
       "      <td>57828</td>\n",
       "      <td>684679</td>\n",
       "      <td>985301</td>\n",
       "      <td>557936</td>\n",
       "      <td>1555537</td>\n",
       "      <td>1456011</td>\n",
       "      <td>825468</td>\n",
       "    </tr>\n",
       "    <tr>\n",
       "      <th>277256</th>\n",
       "      <td>1888130</td>\n",
       "      <td>484160</td>\n",
       "      <td>1004938</td>\n",
       "      <td>1674459</td>\n",
       "      <td>1715540</td>\n",
       "      <td>1334001</td>\n",
       "      <td>518558</td>\n",
       "      <td>1854356</td>\n",
       "      <td>161102</td>\n",
       "      <td>250479</td>\n",
       "    </tr>\n",
       "    <tr>\n",
       "      <th>288113</th>\n",
       "      <td>2057931</td>\n",
       "      <td>1679220</td>\n",
       "      <td>255490</td>\n",
       "      <td>747639</td>\n",
       "      <td>85772</td>\n",
       "      <td>1239116</td>\n",
       "      <td>1081999</td>\n",
       "      <td>11223</td>\n",
       "      <td>1697267</td>\n",
       "      <td>1119095</td>\n",
       "    </tr>\n",
       "    <tr>\n",
       "      <th>295457</th>\n",
       "      <td>2027704</td>\n",
       "      <td>1340818</td>\n",
       "      <td>332668</td>\n",
       "      <td>439367</td>\n",
       "      <td>594015</td>\n",
       "      <td>2079813</td>\n",
       "      <td>1121534</td>\n",
       "      <td>419890</td>\n",
       "      <td>1209087</td>\n",
       "      <td>1242218</td>\n",
       "    </tr>\n",
       "    <tr>\n",
       "      <th>303509</th>\n",
       "      <td>1785962</td>\n",
       "      <td>382945</td>\n",
       "      <td>980132</td>\n",
       "      <td>648179</td>\n",
       "      <td>918723</td>\n",
       "      <td>1936112</td>\n",
       "      <td>1833936</td>\n",
       "      <td>1086749</td>\n",
       "      <td>970334</td>\n",
       "      <td>1497691</td>\n",
       "    </tr>\n",
       "    <tr>\n",
       "      <th>304382</th>\n",
       "      <td>264183</td>\n",
       "      <td>1442946</td>\n",
       "      <td>638942</td>\n",
       "      <td>2080839</td>\n",
       "      <td>501124</td>\n",
       "      <td>758649</td>\n",
       "      <td>1075300</td>\n",
       "      <td>221621</td>\n",
       "      <td>958876</td>\n",
       "      <td>102387</td>\n",
       "    </tr>\n",
       "    <tr>\n",
       "      <th>310099</th>\n",
       "      <td>410881</td>\n",
       "      <td>1719925</td>\n",
       "      <td>1336396</td>\n",
       "      <td>1170874</td>\n",
       "      <td>390412</td>\n",
       "      <td>759234</td>\n",
       "      <td>1000178</td>\n",
       "      <td>685030</td>\n",
       "      <td>408983</td>\n",
       "      <td>722323</td>\n",
       "    </tr>\n",
       "    <tr>\n",
       "      <th>316291</th>\n",
       "      <td>1362444</td>\n",
       "      <td>416019</td>\n",
       "      <td>373229</td>\n",
       "      <td>996427</td>\n",
       "      <td>1877537</td>\n",
       "      <td>898798</td>\n",
       "      <td>895379</td>\n",
       "      <td>387766</td>\n",
       "      <td>1337302</td>\n",
       "      <td>149301</td>\n",
       "    </tr>\n",
       "    <tr>\n",
       "      <th>330771</th>\n",
       "      <td>1412812</td>\n",
       "      <td>1015405</td>\n",
       "      <td>1490680</td>\n",
       "      <td>335203</td>\n",
       "      <td>1449140</td>\n",
       "      <td>1241177</td>\n",
       "      <td>1121398</td>\n",
       "      <td>917492</td>\n",
       "      <td>1108380</td>\n",
       "      <td>2015516</td>\n",
       "    </tr>\n",
       "    <tr>\n",
       "      <th>341077</th>\n",
       "      <td>1219527</td>\n",
       "      <td>1769448</td>\n",
       "      <td>78068</td>\n",
       "      <td>1747626</td>\n",
       "      <td>731664</td>\n",
       "      <td>1762094</td>\n",
       "      <td>586328</td>\n",
       "      <td>516674</td>\n",
       "      <td>2062069</td>\n",
       "      <td>1479232</td>\n",
       "    </tr>\n",
       "    <tr>\n",
       "      <th>358874</th>\n",
       "      <td>2034326</td>\n",
       "      <td>1863828</td>\n",
       "      <td>305750</td>\n",
       "      <td>1966809</td>\n",
       "      <td>1166060</td>\n",
       "      <td>1159108</td>\n",
       "      <td>155167</td>\n",
       "      <td>1692925</td>\n",
       "      <td>1762366</td>\n",
       "      <td>1215048</td>\n",
       "    </tr>\n",
       "    <tr>\n",
       "      <th>360327</th>\n",
       "      <td>763985</td>\n",
       "      <td>705868</td>\n",
       "      <td>481151</td>\n",
       "      <td>264127</td>\n",
       "      <td>1154775</td>\n",
       "      <td>1255552</td>\n",
       "      <td>562734</td>\n",
       "      <td>1698621</td>\n",
       "      <td>1055903</td>\n",
       "      <td>796135</td>\n",
       "    </tr>\n",
       "    <tr>\n",
       "      <th>3726</th>\n",
       "      <td>1936413</td>\n",
       "      <td>982816</td>\n",
       "      <td>548256</td>\n",
       "      <td>266774</td>\n",
       "      <td>1262927</td>\n",
       "      <td>1546912</td>\n",
       "      <td>366413</td>\n",
       "      <td>1674298</td>\n",
       "      <td>698470</td>\n",
       "      <td>89125</td>\n",
       "    </tr>\n",
       "    <tr>\n",
       "      <th>4494</th>\n",
       "      <td>1423739</td>\n",
       "      <td>667126</td>\n",
       "      <td>901333</td>\n",
       "      <td>1732582</td>\n",
       "      <td>184156</td>\n",
       "      <td>136405</td>\n",
       "      <td>842212</td>\n",
       "      <td>1898750</td>\n",
       "      <td>673208</td>\n",
       "      <td>1008988</td>\n",
       "    </tr>\n",
       "    <tr>\n",
       "      <th>9717</th>\n",
       "      <td>166061</td>\n",
       "      <td>2070835</td>\n",
       "      <td>1471738</td>\n",
       "      <td>1102840</td>\n",
       "      <td>1212015</td>\n",
       "      <td>593801</td>\n",
       "      <td>1292683</td>\n",
       "      <td>1703400</td>\n",
       "      <td>999893</td>\n",
       "      <td>201412</td>\n",
       "    </tr>\n",
       "    <tr>\n",
       "      <th>69592</th>\n",
       "      <td>1357511</td>\n",
       "      <td>346932</td>\n",
       "      <td>1045307</td>\n",
       "      <td>1582820</td>\n",
       "      <td>12650</td>\n",
       "      <td>1127291</td>\n",
       "      <td>148023</td>\n",
       "      <td>1059295</td>\n",
       "      <td>387139</td>\n",
       "      <td>1930960</td>\n",
       "    </tr>\n",
       "    <tr>\n",
       "      <th>83040</th>\n",
       "      <td>177046</td>\n",
       "      <td>771408</td>\n",
       "      <td>1747494</td>\n",
       "      <td>494615</td>\n",
       "      <td>2096120</td>\n",
       "      <td>1271129</td>\n",
       "      <td>51048</td>\n",
       "      <td>730098</td>\n",
       "      <td>72604</td>\n",
       "      <td>1034463</td>\n",
       "    </tr>\n",
       "    <tr>\n",
       "      <th>135122</th>\n",
       "      <td>1437328</td>\n",
       "      <td>1338558</td>\n",
       "      <td>966035</td>\n",
       "      <td>180725</td>\n",
       "      <td>1261891</td>\n",
       "      <td>1745398</td>\n",
       "      <td>834474</td>\n",
       "      <td>1020698</td>\n",
       "      <td>1767730</td>\n",
       "      <td>964356</td>\n",
       "    </tr>\n",
       "    <tr>\n",
       "      <th>161213</th>\n",
       "      <td>706121</td>\n",
       "      <td>995799</td>\n",
       "      <td>13376</td>\n",
       "      <td>1973859</td>\n",
       "      <td>1885419</td>\n",
       "      <td>980968</td>\n",
       "      <td>1879445</td>\n",
       "      <td>1994342</td>\n",
       "      <td>761785</td>\n",
       "      <td>1920580</td>\n",
       "    </tr>\n",
       "    <tr>\n",
       "      <th>182434</th>\n",
       "      <td>1231336</td>\n",
       "      <td>1969355</td>\n",
       "      <td>1282870</td>\n",
       "      <td>298568</td>\n",
       "      <td>901179</td>\n",
       "      <td>1559214</td>\n",
       "      <td>2034515</td>\n",
       "      <td>293835</td>\n",
       "      <td>1098001</td>\n",
       "      <td>308021</td>\n",
       "    </tr>\n",
       "    <tr>\n",
       "      <th>363488</th>\n",
       "      <td>1105558</td>\n",
       "      <td>628175</td>\n",
       "      <td>1063776</td>\n",
       "      <td>725616</td>\n",
       "      <td>378061</td>\n",
       "      <td>873392</td>\n",
       "      <td>1872661</td>\n",
       "      <td>1115184</td>\n",
       "      <td>470733</td>\n",
       "      <td>1542348</td>\n",
       "    </tr>\n",
       "    <tr>\n",
       "      <th>374965</th>\n",
       "      <td>448149</td>\n",
       "      <td>1874353</td>\n",
       "      <td>734149</td>\n",
       "      <td>1738630</td>\n",
       "      <td>1236181</td>\n",
       "      <td>822303</td>\n",
       "      <td>1598104</td>\n",
       "      <td>949354</td>\n",
       "      <td>1606557</td>\n",
       "      <td>1801095</td>\n",
       "    </tr>\n",
       "    <tr>\n",
       "      <th>385251</th>\n",
       "      <td>1001238</td>\n",
       "      <td>659009</td>\n",
       "      <td>1601605</td>\n",
       "      <td>1449990</td>\n",
       "      <td>1219436</td>\n",
       "      <td>557155</td>\n",
       "      <td>1270511</td>\n",
       "      <td>1076404</td>\n",
       "      <td>1043489</td>\n",
       "      <td>831629</td>\n",
       "    </tr>\n",
       "    <tr>\n",
       "      <th>195673</th>\n",
       "      <td>650103</td>\n",
       "      <td>1146040</td>\n",
       "      <td>1707921</td>\n",
       "      <td>299934</td>\n",
       "      <td>486344</td>\n",
       "      <td>1524479</td>\n",
       "      <td>1611113</td>\n",
       "      <td>1040461</td>\n",
       "      <td>1482188</td>\n",
       "      <td>1810124</td>\n",
       "    </tr>\n",
       "    <tr>\n",
       "      <th>196618</th>\n",
       "      <td>52823</td>\n",
       "      <td>143000</td>\n",
       "      <td>400446</td>\n",
       "      <td>1639492</td>\n",
       "      <td>2020838</td>\n",
       "      <td>1339650</td>\n",
       "      <td>88406</td>\n",
       "      <td>856289</td>\n",
       "      <td>854323</td>\n",
       "      <td>1836655</td>\n",
       "    </tr>\n",
       "    <tr>\n",
       "      <th>201237</th>\n",
       "      <td>1717088</td>\n",
       "      <td>596992</td>\n",
       "      <td>389927</td>\n",
       "      <td>1475209</td>\n",
       "      <td>1055988</td>\n",
       "      <td>1483209</td>\n",
       "      <td>1773794</td>\n",
       "      <td>672332</td>\n",
       "      <td>483616</td>\n",
       "      <td>1947355</td>\n",
       "    </tr>\n",
       "    <tr>\n",
       "      <th>222123</th>\n",
       "      <td>1830980</td>\n",
       "      <td>143628</td>\n",
       "      <td>1558422</td>\n",
       "      <td>250095</td>\n",
       "      <td>578564</td>\n",
       "      <td>517561</td>\n",
       "      <td>891530</td>\n",
       "      <td>764916</td>\n",
       "      <td>1935637</td>\n",
       "      <td>698251</td>\n",
       "    </tr>\n",
       "    <tr>\n",
       "      <th>231211</th>\n",
       "      <td>1155077</td>\n",
       "      <td>1319670</td>\n",
       "      <td>416518</td>\n",
       "      <td>680877</td>\n",
       "      <td>1807618</td>\n",
       "      <td>1899640</td>\n",
       "      <td>668733</td>\n",
       "      <td>28325</td>\n",
       "      <td>1958666</td>\n",
       "      <td>481829</td>\n",
       "    </tr>\n",
       "    <tr>\n",
       "      <th>236440</th>\n",
       "      <td>1105558</td>\n",
       "      <td>1063776</td>\n",
       "      <td>725616</td>\n",
       "      <td>873392</td>\n",
       "      <td>147648</td>\n",
       "      <td>822676</td>\n",
       "      <td>628175</td>\n",
       "      <td>1562060</td>\n",
       "      <td>873305</td>\n",
       "      <td>920668</td>\n",
       "    </tr>\n",
       "    <tr>\n",
       "      <th>254202</th>\n",
       "      <td>1066913</td>\n",
       "      <td>960129</td>\n",
       "      <td>179918</td>\n",
       "      <td>979225</td>\n",
       "      <td>910322</td>\n",
       "      <td>1105611</td>\n",
       "      <td>1940576</td>\n",
       "      <td>1425207</td>\n",
       "      <td>1287017</td>\n",
       "      <td>1265432</td>\n",
       "    </tr>\n",
       "    <tr>\n",
       "      <th>262437</th>\n",
       "      <td>960615</td>\n",
       "      <td>1977831</td>\n",
       "      <td>1857876</td>\n",
       "      <td>2051541</td>\n",
       "      <td>1907401</td>\n",
       "      <td>658042</td>\n",
       "      <td>1313860</td>\n",
       "      <td>1559472</td>\n",
       "      <td>1259263</td>\n",
       "      <td>871037</td>\n",
       "    </tr>\n",
       "    <tr>\n",
       "      <th>269006</th>\n",
       "      <td>1034834</td>\n",
       "      <td>1168814</td>\n",
       "      <td>557971</td>\n",
       "      <td>12554</td>\n",
       "      <td>917705</td>\n",
       "      <td>467106</td>\n",
       "      <td>655425</td>\n",
       "      <td>631011</td>\n",
       "      <td>2045552</td>\n",
       "      <td>675559</td>\n",
       "    </tr>\n",
       "    <tr>\n",
       "      <th>305040</th>\n",
       "      <td>1856285</td>\n",
       "      <td>497791</td>\n",
       "      <td>889612</td>\n",
       "      <td>1498265</td>\n",
       "      <td>1512448</td>\n",
       "      <td>1087120</td>\n",
       "      <td>1515276</td>\n",
       "      <td>612579</td>\n",
       "      <td>163324</td>\n",
       "      <td>1400376</td>\n",
       "    </tr>\n",
       "    <tr>\n",
       "      <th>319256</th>\n",
       "      <td>182069</td>\n",
       "      <td>1179183</td>\n",
       "      <td>70212</td>\n",
       "      <td>1656569</td>\n",
       "      <td>1514857</td>\n",
       "      <td>83903</td>\n",
       "      <td>1348147</td>\n",
       "      <td>1166431</td>\n",
       "      <td>1723900</td>\n",
       "      <td>1054961</td>\n",
       "    </tr>\n",
       "    <tr>\n",
       "      <th>329645</th>\n",
       "      <td>468084</td>\n",
       "      <td>887295</td>\n",
       "      <td>2097322</td>\n",
       "      <td>1890705</td>\n",
       "      <td>1843954</td>\n",
       "      <td>1853338</td>\n",
       "      <td>729237</td>\n",
       "      <td>1176154</td>\n",
       "      <td>1482861</td>\n",
       "      <td>915412</td>\n",
       "    </tr>\n",
       "    <tr>\n",
       "      <th>333487</th>\n",
       "      <td>1886974</td>\n",
       "      <td>879813</td>\n",
       "      <td>248728</td>\n",
       "      <td>511924</td>\n",
       "      <td>470435</td>\n",
       "      <td>629377</td>\n",
       "      <td>1254639</td>\n",
       "      <td>1521384</td>\n",
       "      <td>1299443</td>\n",
       "      <td>130589</td>\n",
       "    </tr>\n",
       "    <tr>\n",
       "      <th>340247</th>\n",
       "      <td>111797</td>\n",
       "      <td>397417</td>\n",
       "      <td>1825364</td>\n",
       "      <td>778408</td>\n",
       "      <td>1968334</td>\n",
       "      <td>369560</td>\n",
       "      <td>1686184</td>\n",
       "      <td>1454511</td>\n",
       "      <td>1966088</td>\n",
       "      <td>72587</td>\n",
       "    </tr>\n",
       "    <tr>\n",
       "      <th>353819</th>\n",
       "      <td>852843</td>\n",
       "      <td>1306373</td>\n",
       "      <td>1016769</td>\n",
       "      <td>144114</td>\n",
       "      <td>1601376</td>\n",
       "      <td>684592</td>\n",
       "      <td>732323</td>\n",
       "      <td>1065154</td>\n",
       "      <td>41027</td>\n",
       "      <td>1149204</td>\n",
       "    </tr>\n",
       "    <tr>\n",
       "      <th>373643</th>\n",
       "      <td>1475459</td>\n",
       "      <td>1085664</td>\n",
       "      <td>421328</td>\n",
       "      <td>788677</td>\n",
       "      <td>23019</td>\n",
       "      <td>1588291</td>\n",
       "      <td>594395</td>\n",
       "      <td>926148</td>\n",
       "      <td>735566</td>\n",
       "      <td>698142</td>\n",
       "    </tr>\n",
       "    <tr>\n",
       "      <th>380598</th>\n",
       "      <td>382944</td>\n",
       "      <td>1818502</td>\n",
       "      <td>1120986</td>\n",
       "      <td>1706108</td>\n",
       "      <td>369446</td>\n",
       "      <td>754249</td>\n",
       "      <td>45176</td>\n",
       "      <td>1350107</td>\n",
       "      <td>593461</td>\n",
       "      <td>291602</td>\n",
       "    </tr>\n",
       "    <tr>\n",
       "      <th>382640</th>\n",
       "      <td>843065</td>\n",
       "      <td>1128826</td>\n",
       "      <td>1819960</td>\n",
       "      <td>1327924</td>\n",
       "      <td>1687358</td>\n",
       "      <td>1437325</td>\n",
       "      <td>1096789</td>\n",
       "      <td>684117</td>\n",
       "      <td>1188725</td>\n",
       "      <td>1406467</td>\n",
       "    </tr>\n",
       "    <tr>\n",
       "      <th>395569</th>\n",
       "      <td>408808</td>\n",
       "      <td>84988</td>\n",
       "      <td>1422961</td>\n",
       "      <td>277583</td>\n",
       "      <td>1797441</td>\n",
       "      <td>1039330</td>\n",
       "      <td>1407818</td>\n",
       "      <td>1073226</td>\n",
       "      <td>537247</td>\n",
       "      <td>281466</td>\n",
       "    </tr>\n",
       "    <tr>\n",
       "      <th>397292</th>\n",
       "      <td>1809520</td>\n",
       "      <td>998875</td>\n",
       "      <td>1282975</td>\n",
       "      <td>655306</td>\n",
       "      <td>213160</td>\n",
       "      <td>2098540</td>\n",
       "      <td>1780718</td>\n",
       "      <td>1394080</td>\n",
       "      <td>1885519</td>\n",
       "      <td>798035</td>\n",
       "    </tr>\n",
       "    <tr>\n",
       "      <th>398704</th>\n",
       "      <td>1948612</td>\n",
       "      <td>1434674</td>\n",
       "      <td>1909231</td>\n",
       "      <td>1802001</td>\n",
       "      <td>1433992</td>\n",
       "      <td>1500378</td>\n",
       "      <td>698358</td>\n",
       "      <td>156273</td>\n",
       "      <td>1563721</td>\n",
       "      <td>1528046</td>\n",
       "    </tr>\n",
       "  </tbody>\n",
       "</table>\n",
       "</div>"
      ],
      "text/plain": [
       "              0        1        2        3        4        5        6  \\\n",
       "418     1625024   812704   614676   927020   801210   447525  1358172   \n",
       "4836      69558  1164607  1975325   963496   609564   191653  1297215   \n",
       "7098    1516010  1792041   818021  1636219  1534587  2046332    76193   \n",
       "10714     46821  1867444    34764  1457045   935335  1889155  1437976   \n",
       "13948   1031359  1070128   324225   960154  1571455   832263  1093660   \n",
       "14325     49882  2072519   677240   123771  1009654  1758690  1179569   \n",
       "16358   1529679  1739249  1906958    78975   121672    60279   785863   \n",
       "24877    859006  1042723   228491    65534  1042464   145087  2077604   \n",
       "30108   1881292  1369362  1727285   337914  1095018  1745010  1647722   \n",
       "32272   1589985  1868612  1707953  1431975  1217237  1400334  1105670   \n",
       "32750    702402    71599   856339   664492   867320  1805470  1472772   \n",
       "37727     86750   168536   222234  1984039   899122    38752  1048744   \n",
       "64298    883802  1240370  2016833  1893897  1538157  1809392  1449877   \n",
       "72603   2062616   611685  1373537    11323   267779  1055541  1388506   \n",
       "75179   1809387  1246290   513115  1916279   594907  1525107  1703995   \n",
       "80867    691775   762168  2016344  1972748  2033327  1138325  1807282   \n",
       "90359   1074089  1248541   981458   903287   217281  1067806  1198217   \n",
       "98933    555175  1475694   557062  1181145  2065458  1972436   449008   \n",
       "102176    87126   615442   372375   446752   118792  1501696  2029010   \n",
       "108327   819164  1989889   267710   900015  1678015  1200274  1263372   \n",
       "113148  1013789   175386  1786038  1991679   487706  1860739  1113895   \n",
       "122485   584383  1747055  1891096  1124754   650956   511839  1654983   \n",
       "124868  1745598  1250930  2032102   749951   668783  1297750   186575   \n",
       "125728  1104678  1081326  1285212   715663  1192441     3099  1669381   \n",
       "143378   545051   208545  1537272  1027863   449322   320710   472864   \n",
       "151393   323634  1253996   792033   623867   425262   113954   883012   \n",
       "151670   580946  1201479   673951   426971   328555    31927  1120200   \n",
       "153762    86563  1064063   133224   647327  2097593   510992   973500   \n",
       "167301   162453  1114804  1514924  1262859  1405062  1626060  1394927   \n",
       "169488  2089973  1160015   462817   415757   859814  1084327  2042501   \n",
       "171674   452730  1357357   343389  1501998  2022956   266087   628643   \n",
       "178298   553055  1410191  1030513  1691262  1627130  1550443  1700051   \n",
       "206896   840983   500342  1414949   272781  1040835  1652284  1834558   \n",
       "207850   663406  1003801   544574   320243  1852405   290040   384026   \n",
       "207968  1038405   234385   778944  1715761  1974570  1902765   147018   \n",
       "211275  1224833   668378    72863   196381   833543   965769   154274   \n",
       "216362   276036   133119  1688899  1888089  1563377  1244739   694113   \n",
       "232182  1210736  1202153    60560   659433   826458   475556  1229400   \n",
       "232316  1129770   893647   785078   580632   252713   700515  1771136   \n",
       "244019  1567578  1002016    67756  1965896  1134835   715057   857259   \n",
       "251579  1708456  1589047  1680001  1567331   713988  1029989  1583363   \n",
       "260075   784854  1054948    21197  1352438  1166722  1761085   337629   \n",
       "274064  2054938  1101232    23258   785491   143804   573913  1799527   \n",
       "275599  1989449   733586   816440    57828   684679   985301   557936   \n",
       "277256  1888130   484160  1004938  1674459  1715540  1334001   518558   \n",
       "288113  2057931  1679220   255490   747639    85772  1239116  1081999   \n",
       "295457  2027704  1340818   332668   439367   594015  2079813  1121534   \n",
       "303509  1785962   382945   980132   648179   918723  1936112  1833936   \n",
       "304382   264183  1442946   638942  2080839   501124   758649  1075300   \n",
       "310099   410881  1719925  1336396  1170874   390412   759234  1000178   \n",
       "316291  1362444   416019   373229   996427  1877537   898798   895379   \n",
       "330771  1412812  1015405  1490680   335203  1449140  1241177  1121398   \n",
       "341077  1219527  1769448    78068  1747626   731664  1762094   586328   \n",
       "358874  2034326  1863828   305750  1966809  1166060  1159108   155167   \n",
       "360327   763985   705868   481151   264127  1154775  1255552   562734   \n",
       "3726    1936413   982816   548256   266774  1262927  1546912   366413   \n",
       "4494    1423739   667126   901333  1732582   184156   136405   842212   \n",
       "9717     166061  2070835  1471738  1102840  1212015   593801  1292683   \n",
       "69592   1357511   346932  1045307  1582820    12650  1127291   148023   \n",
       "83040    177046   771408  1747494   494615  2096120  1271129    51048   \n",
       "135122  1437328  1338558   966035   180725  1261891  1745398   834474   \n",
       "161213   706121   995799    13376  1973859  1885419   980968  1879445   \n",
       "182434  1231336  1969355  1282870   298568   901179  1559214  2034515   \n",
       "363488  1105558   628175  1063776   725616   378061   873392  1872661   \n",
       "374965   448149  1874353   734149  1738630  1236181   822303  1598104   \n",
       "385251  1001238   659009  1601605  1449990  1219436   557155  1270511   \n",
       "195673   650103  1146040  1707921   299934   486344  1524479  1611113   \n",
       "196618    52823   143000   400446  1639492  2020838  1339650    88406   \n",
       "201237  1717088   596992   389927  1475209  1055988  1483209  1773794   \n",
       "222123  1830980   143628  1558422   250095   578564   517561   891530   \n",
       "231211  1155077  1319670   416518   680877  1807618  1899640   668733   \n",
       "236440  1105558  1063776   725616   873392   147648   822676   628175   \n",
       "254202  1066913   960129   179918   979225   910322  1105611  1940576   \n",
       "262437   960615  1977831  1857876  2051541  1907401   658042  1313860   \n",
       "269006  1034834  1168814   557971    12554   917705   467106   655425   \n",
       "305040  1856285   497791   889612  1498265  1512448  1087120  1515276   \n",
       "319256   182069  1179183    70212  1656569  1514857    83903  1348147   \n",
       "329645   468084   887295  2097322  1890705  1843954  1853338   729237   \n",
       "333487  1886974   879813   248728   511924   470435   629377  1254639   \n",
       "340247   111797   397417  1825364   778408  1968334   369560  1686184   \n",
       "353819   852843  1306373  1016769   144114  1601376   684592   732323   \n",
       "373643  1475459  1085664   421328   788677    23019  1588291   594395   \n",
       "380598   382944  1818502  1120986  1706108   369446   754249    45176   \n",
       "382640   843065  1128826  1819960  1327924  1687358  1437325  1096789   \n",
       "395569   408808    84988  1422961   277583  1797441  1039330  1407818   \n",
       "397292  1809520   998875  1282975   655306   213160  2098540  1780718   \n",
       "398704  1948612  1434674  1909231  1802001  1433992  1500378   698358   \n",
       "\n",
       "              7        8        9  \n",
       "418      853639   375540  1789999  \n",
       "4836    1339446   619718   217422  \n",
       "7098       3552   944913   474215  \n",
       "10714    829464   838144  1504891  \n",
       "13948   1794819  2084040   528997  \n",
       "14325   1672305  2004409   451489  \n",
       "16358    333724  1103283   238855  \n",
       "24877   1883461  1421034   986687  \n",
       "30108    960985   815837   491483  \n",
       "32272   1386005    59196  1105316  \n",
       "32750   1504350  1122890   999510  \n",
       "37727    413827   912909   814125  \n",
       "64298   1619775  1586145  2048165  \n",
       "72603    731106   616298   206845  \n",
       "75179   1706497   561674  1698266  \n",
       "80867   1249653  1327652  1711498  \n",
       "90359   1731594  2035527  1537300  \n",
       "98933   1175381  1624580  1419783  \n",
       "102176    17285    61569  1374173  \n",
       "108327   613747   601951   682694  \n",
       "113148  1483773   217887  1503048  \n",
       "122485  1027696  1649560  1380541  \n",
       "124868    34940   339435  1582441  \n",
       "125728  2051229  1683602  1284699  \n",
       "143378   607886   688807  1525934  \n",
       "151393   369576    29315  2073017  \n",
       "151670  1570910   409362  1695443  \n",
       "153762   579035  1283933   252688  \n",
       "167301   268864  1383919   758351  \n",
       "169488   457776  1915746   431307  \n",
       "171674  2034410   715584   573951  \n",
       "178298   283598   930081  1884326  \n",
       "206896   827573    51309  1812866  \n",
       "207850  1110310  1849041   109099  \n",
       "207968    49676  1351426   437304  \n",
       "211275  1783215  1340407  1563057  \n",
       "216362   624003  1095677   929187  \n",
       "232182  1774350  1895303   175022  \n",
       "232316  1053154  2015438    41182  \n",
       "244019  1701266   180409   209475  \n",
       "251579   903995    97419  1435219  \n",
       "260075   255280   346856   265918  \n",
       "274064  1064832   911154   382747  \n",
       "275599  1555537  1456011   825468  \n",
       "277256  1854356   161102   250479  \n",
       "288113    11223  1697267  1119095  \n",
       "295457   419890  1209087  1242218  \n",
       "303509  1086749   970334  1497691  \n",
       "304382   221621   958876   102387  \n",
       "310099   685030   408983   722323  \n",
       "316291   387766  1337302   149301  \n",
       "330771   917492  1108380  2015516  \n",
       "341077   516674  2062069  1479232  \n",
       "358874  1692925  1762366  1215048  \n",
       "360327  1698621  1055903   796135  \n",
       "3726    1674298   698470    89125  \n",
       "4494    1898750   673208  1008988  \n",
       "9717    1703400   999893   201412  \n",
       "69592   1059295   387139  1930960  \n",
       "83040    730098    72604  1034463  \n",
       "135122  1020698  1767730   964356  \n",
       "161213  1994342   761785  1920580  \n",
       "182434   293835  1098001   308021  \n",
       "363488  1115184   470733  1542348  \n",
       "374965   949354  1606557  1801095  \n",
       "385251  1076404  1043489   831629  \n",
       "195673  1040461  1482188  1810124  \n",
       "196618   856289   854323  1836655  \n",
       "201237   672332   483616  1947355  \n",
       "222123   764916  1935637   698251  \n",
       "231211    28325  1958666   481829  \n",
       "236440  1562060   873305   920668  \n",
       "254202  1425207  1287017  1265432  \n",
       "262437  1559472  1259263   871037  \n",
       "269006   631011  2045552   675559  \n",
       "305040   612579   163324  1400376  \n",
       "319256  1166431  1723900  1054961  \n",
       "329645  1176154  1482861   915412  \n",
       "333487  1521384  1299443   130589  \n",
       "340247  1454511  1966088    72587  \n",
       "353819  1065154    41027  1149204  \n",
       "373643   926148   735566   698142  \n",
       "380598  1350107   593461   291602  \n",
       "382640   684117  1188725  1406467  \n",
       "395569  1073226   537247   281466  \n",
       "397292  1394080  1885519   798035  \n",
       "398704   156273  1563721  1528046  "
      ]
     },
     "execution_count": 52,
     "metadata": {},
     "output_type": "execute_result"
    }
   ],
   "source": [
    "recs_df"
   ]
  },
  {
   "cell_type": "code",
   "execution_count": 55,
   "metadata": {
    "id": "4LQNJInjtizB"
   },
   "outputs": [],
   "source": [
    "true_fn = 'true.pkl'\n",
    "true_fp = os.path.join(processed_data_dir, true_fn)\n",
    "true_df = pd.read_pickle(true_fp)\n",
    "item_domain_fn = 'item_domain.pkl'\n",
    "item_domain_fp = os.path.join(processed_data_dir, item_domain_fn)\n",
    "item_domain = pd.read_pickle(item_domain_fp)"
   ]
  },
  {
   "cell_type": "code",
   "execution_count": 56,
   "metadata": {
    "id": "0BcLwnEVtizB"
   },
   "outputs": [],
   "source": [
    "recs_df_scored = score_pred(recs_df, true_df, item_domain)"
   ]
  },
  {
   "cell_type": "code",
   "execution_count": 57,
   "metadata": {
    "colab": {
     "base_uri": "https://localhost:8080/"
    },
    "id": "MZqN0A-QtizB",
    "outputId": "20270686-155a-4a2d-b968-fb2b9e0f95ca"
   },
   "outputs": [
    {
     "data": {
      "text/plain": [
       "0.12334656617216046"
      ]
     },
     "execution_count": 57,
     "metadata": {},
     "output_type": "execute_result"
    }
   ],
   "source": [
    "recs_df_scored.ndcg.mean()"
   ]
  },
  {
   "cell_type": "code",
   "execution_count": 58,
   "metadata": {
    "id": "lBlM-hO1tizB",
    "outputId": "f3389ef8-6d4e-4ae1-9a30-f171fc804765"
   },
   "outputs": [
    {
     "data": {
      "text/html": [
       "<div>\n",
       "<style scoped>\n",
       "    .dataframe tbody tr th:only-of-type {\n",
       "        vertical-align: middle;\n",
       "    }\n",
       "\n",
       "    .dataframe tbody tr th {\n",
       "        vertical-align: top;\n",
       "    }\n",
       "\n",
       "    .dataframe thead th {\n",
       "        text-align: right;\n",
       "    }\n",
       "</style>\n",
       "<table border=\"1\" class=\"dataframe\">\n",
       "  <thead>\n",
       "    <tr style=\"text-align: right;\">\n",
       "      <th></th>\n",
       "      <th>seq</th>\n",
       "      <th>0</th>\n",
       "      <th>1</th>\n",
       "      <th>2</th>\n",
       "      <th>3</th>\n",
       "      <th>4</th>\n",
       "      <th>5</th>\n",
       "      <th>6</th>\n",
       "      <th>7</th>\n",
       "      <th>8</th>\n",
       "      <th>9</th>\n",
       "      <th>item_bought</th>\n",
       "      <th>item_bought_domain</th>\n",
       "      <th>domain_id_0</th>\n",
       "      <th>domain_id_1</th>\n",
       "      <th>domain_id_2</th>\n",
       "      <th>domain_id_3</th>\n",
       "      <th>domain_id_4</th>\n",
       "      <th>domain_id_5</th>\n",
       "      <th>domain_id_6</th>\n",
       "      <th>domain_id_7</th>\n",
       "      <th>domain_id_8</th>\n",
       "      <th>domain_id_9</th>\n",
       "      <th>rel_item_0</th>\n",
       "      <th>rel_domain_0</th>\n",
       "      <th>rel_item_1</th>\n",
       "      <th>rel_domain_1</th>\n",
       "      <th>rel_item_2</th>\n",
       "      <th>rel_domain_2</th>\n",
       "      <th>rel_item_3</th>\n",
       "      <th>rel_domain_3</th>\n",
       "      <th>rel_item_4</th>\n",
       "      <th>rel_domain_4</th>\n",
       "      <th>rel_item_5</th>\n",
       "      <th>rel_domain_5</th>\n",
       "      <th>rel_item_6</th>\n",
       "      <th>rel_domain_6</th>\n",
       "      <th>rel_item_7</th>\n",
       "      <th>rel_domain_7</th>\n",
       "      <th>rel_item_8</th>\n",
       "      <th>rel_domain_8</th>\n",
       "      <th>rel_item_9</th>\n",
       "      <th>rel_domain_9</th>\n",
       "      <th>relevances_item</th>\n",
       "      <th>relevances_domain</th>\n",
       "      <th>relevances</th>\n",
       "      <th>ndcg</th>\n",
       "    </tr>\n",
       "  </thead>\n",
       "  <tbody>\n",
       "    <tr>\n",
       "      <th>22</th>\n",
       "      <td>124868</td>\n",
       "      <td>1745598</td>\n",
       "      <td>1250930</td>\n",
       "      <td>2032102</td>\n",
       "      <td>749951</td>\n",
       "      <td>668783</td>\n",
       "      <td>1297750</td>\n",
       "      <td>186575</td>\n",
       "      <td>34940</td>\n",
       "      <td>339435</td>\n",
       "      <td>1582441</td>\n",
       "      <td>421749</td>\n",
       "      <td>MLB-WRENCHES</td>\n",
       "      <td>MLB-TOOL_ACCESSORIES_AND_SPARES</td>\n",
       "      <td>MLB-WELDING_MACHINES</td>\n",
       "      <td>MLB-WELDING_MACHINES</td>\n",
       "      <td>MLB-WELDING_RODS</td>\n",
       "      <td>MLB-AUTOMOBILE_FUEL_PUMPS</td>\n",
       "      <td>MLB-AUTOMOTIVE_FUEL_PRESSURE_REGULATORS</td>\n",
       "      <td>MLB-TOOLS</td>\n",
       "      <td>MLB-WELDING_MACHINES</td>\n",
       "      <td>MLB-PRESSURE_GAUGES</td>\n",
       "      <td>MLB-STATIONARY_ENGINES</td>\n",
       "      <td>0</td>\n",
       "      <td>0</td>\n",
       "      <td>0</td>\n",
       "      <td>0</td>\n",
       "      <td>0</td>\n",
       "      <td>0</td>\n",
       "      <td>0</td>\n",
       "      <td>0</td>\n",
       "      <td>0</td>\n",
       "      <td>0</td>\n",
       "      <td>0</td>\n",
       "      <td>0</td>\n",
       "      <td>0</td>\n",
       "      <td>0</td>\n",
       "      <td>0</td>\n",
       "      <td>0</td>\n",
       "      <td>0</td>\n",
       "      <td>0</td>\n",
       "      <td>0</td>\n",
       "      <td>0</td>\n",
       "      <td>[0, 0, 0, 0, 0, 0, 0, 0, 0, 0]</td>\n",
       "      <td>[0, 0, 0, 0, 0, 0, 0, 0, 0, 0]</td>\n",
       "      <td>[0, 0, 0, 0, 0, 0, 0, 0, 0, 0]</td>\n",
       "      <td>0.0</td>\n",
       "    </tr>\n",
       "  </tbody>\n",
       "</table>\n",
       "</div>"
      ],
      "text/plain": [
       "       seq        0        1        2       3       4        5       6      7  \\\n",
       "22  124868  1745598  1250930  2032102  749951  668783  1297750  186575  34940   \n",
       "\n",
       "         8        9  item_bought item_bought_domain  \\\n",
       "22  339435  1582441       421749       MLB-WRENCHES   \n",
       "\n",
       "                        domain_id_0           domain_id_1  \\\n",
       "22  MLB-TOOL_ACCESSORIES_AND_SPARES  MLB-WELDING_MACHINES   \n",
       "\n",
       "             domain_id_2       domain_id_3                domain_id_4  \\\n",
       "22  MLB-WELDING_MACHINES  MLB-WELDING_RODS  MLB-AUTOMOBILE_FUEL_PUMPS   \n",
       "\n",
       "                                domain_id_5 domain_id_6           domain_id_7  \\\n",
       "22  MLB-AUTOMOTIVE_FUEL_PRESSURE_REGULATORS   MLB-TOOLS  MLB-WELDING_MACHINES   \n",
       "\n",
       "            domain_id_8             domain_id_9  rel_item_0  rel_domain_0  \\\n",
       "22  MLB-PRESSURE_GAUGES  MLB-STATIONARY_ENGINES           0             0   \n",
       "\n",
       "    rel_item_1  rel_domain_1  rel_item_2  rel_domain_2  rel_item_3  \\\n",
       "22           0             0           0             0           0   \n",
       "\n",
       "    rel_domain_3  rel_item_4  rel_domain_4  rel_item_5  rel_domain_5  \\\n",
       "22             0           0             0           0             0   \n",
       "\n",
       "    rel_item_6  rel_domain_6  rel_item_7  rel_domain_7  rel_item_8  \\\n",
       "22           0             0           0             0           0   \n",
       "\n",
       "    rel_domain_8  rel_item_9  rel_domain_9                 relevances_item  \\\n",
       "22             0           0             0  [0, 0, 0, 0, 0, 0, 0, 0, 0, 0]   \n",
       "\n",
       "                 relevances_domain                      relevances  ndcg  \n",
       "22  [0, 0, 0, 0, 0, 0, 0, 0, 0, 0]  [0, 0, 0, 0, 0, 0, 0, 0, 0, 0]   0.0  "
      ]
     },
     "execution_count": 58,
     "metadata": {},
     "output_type": "execute_result"
    }
   ],
   "source": [
    "recs_df_scored.sample()"
   ]
  },
  {
   "cell_type": "markdown",
   "metadata": {
    "id": "RIbxDGr0tizB"
   },
   "source": [
    "# predictions"
   ]
  },
  {
   "cell_type": "markdown",
   "metadata": {
    "id": "ZYgTWtcttizB"
   },
   "source": [
    "#### loading target seqs"
   ]
  },
  {
   "cell_type": "code",
   "execution_count": 59,
   "metadata": {
    "id": "on07uQDVtizB"
   },
   "outputs": [],
   "source": [
    "ndcg_zero_pred_fn = 'ndcg_zero_pred.pkl'\n",
    "ndcg_zero_pred_fp = os.path.join(interim_data_dir, ndcg_zero_pred_fn)\n",
    "ndcg_zero_pred = pd.read_pickle(ndcg_zero_pred_fp)"
   ]
  },
  {
   "cell_type": "code",
   "execution_count": 60,
   "metadata": {
    "id": "m86u80CMtizB",
    "outputId": "26a0bcb5-43f8-471b-ea45-f937b1a5524e"
   },
   "outputs": [
    {
     "data": {
      "text/html": [
       "<div>\n",
       "<style scoped>\n",
       "    .dataframe tbody tr th:only-of-type {\n",
       "        vertical-align: middle;\n",
       "    }\n",
       "\n",
       "    .dataframe tbody tr th {\n",
       "        vertical-align: top;\n",
       "    }\n",
       "\n",
       "    .dataframe thead th {\n",
       "        text-align: right;\n",
       "    }\n",
       "</style>\n",
       "<table border=\"1\" class=\"dataframe\">\n",
       "  <thead>\n",
       "    <tr style=\"text-align: right;\">\n",
       "      <th>event_type</th>\n",
       "      <th>search</th>\n",
       "      <th>view</th>\n",
       "      <th>ndcg_zero_pred</th>\n",
       "    </tr>\n",
       "    <tr>\n",
       "      <th>seq</th>\n",
       "      <th></th>\n",
       "      <th></th>\n",
       "      <th></th>\n",
       "    </tr>\n",
       "  </thead>\n",
       "  <tbody>\n",
       "    <tr>\n",
       "      <th>0</th>\n",
       "      <td>22</td>\n",
       "      <td>11</td>\n",
       "      <td>0.470137</td>\n",
       "    </tr>\n",
       "    <tr>\n",
       "      <th>1</th>\n",
       "      <td>8</td>\n",
       "      <td>16</td>\n",
       "      <td>0.354606</td>\n",
       "    </tr>\n",
       "    <tr>\n",
       "      <th>2</th>\n",
       "      <td>4</td>\n",
       "      <td>10</td>\n",
       "      <td>0.348669</td>\n",
       "    </tr>\n",
       "    <tr>\n",
       "      <th>3</th>\n",
       "      <td>1</td>\n",
       "      <td>0</td>\n",
       "      <td>0.715974</td>\n",
       "    </tr>\n",
       "    <tr>\n",
       "      <th>4</th>\n",
       "      <td>62</td>\n",
       "      <td>5</td>\n",
       "      <td>0.541159</td>\n",
       "    </tr>\n",
       "    <tr>\n",
       "      <th>...</th>\n",
       "      <td>...</td>\n",
       "      <td>...</td>\n",
       "      <td>...</td>\n",
       "    </tr>\n",
       "    <tr>\n",
       "      <th>177065</th>\n",
       "      <td>3</td>\n",
       "      <td>1</td>\n",
       "      <td>0.764295</td>\n",
       "    </tr>\n",
       "    <tr>\n",
       "      <th>177066</th>\n",
       "      <td>13</td>\n",
       "      <td>9</td>\n",
       "      <td>0.490572</td>\n",
       "    </tr>\n",
       "    <tr>\n",
       "      <th>177067</th>\n",
       "      <td>15</td>\n",
       "      <td>10</td>\n",
       "      <td>0.461504</td>\n",
       "    </tr>\n",
       "    <tr>\n",
       "      <th>177068</th>\n",
       "      <td>0</td>\n",
       "      <td>2</td>\n",
       "      <td>0.615265</td>\n",
       "    </tr>\n",
       "    <tr>\n",
       "      <th>177069</th>\n",
       "      <td>80</td>\n",
       "      <td>68</td>\n",
       "      <td>0.309464</td>\n",
       "    </tr>\n",
       "  </tbody>\n",
       "</table>\n",
       "<p>177070 rows × 3 columns</p>\n",
       "</div>"
      ],
      "text/plain": [
       "event_type  search  view  ndcg_zero_pred\n",
       "seq                                     \n",
       "0               22    11        0.470137\n",
       "1                8    16        0.354606\n",
       "2                4    10        0.348669\n",
       "3                1     0        0.715974\n",
       "4               62     5        0.541159\n",
       "...            ...   ...             ...\n",
       "177065           3     1        0.764295\n",
       "177066          13     9        0.490572\n",
       "177067          15    10        0.461504\n",
       "177068           0     2        0.615265\n",
       "177069          80    68        0.309464\n",
       "\n",
       "[177070 rows x 3 columns]"
      ]
     },
     "execution_count": 60,
     "metadata": {},
     "output_type": "execute_result"
    }
   ],
   "source": [
    "ndcg_zero_pred"
   ]
  },
  {
   "cell_type": "code",
   "execution_count": 65,
   "metadata": {
    "id": "pgPN_P72tizB"
   },
   "outputs": [],
   "source": [
    "nine_decile = ndcg_zero_pred.ndcg_zero_pred.quantile(0.9)\n",
    "ninetyfive_percentile = ndcg_zero_pred.ndcg_zero_pred.quantile(0.95)\n",
    "\n",
    "print(nine_decile, ninetyfive_percentile)\n",
    "\n",
    "seq_sel_1 = ndcg_zero_pred.query(\"ndcg_zero_pred > @nine_decile\")\n",
    "\n",
    "seq_sel_1 = seq_sel.index\n",
    "\n",
    "len(seq_sel_1)\n",
    "\n",
    "#### using view=0 criteria first\n",
    "\n",
    "seq_sel_2 = ndcg_zero_pred.query(\"view == 0\")\n",
    "seq_sel_2 = seq_sel_2.index\n",
    "len(seq_sel_2)"
   ]
  },
  {
   "cell_type": "code",
   "execution_count": 67,
   "metadata": {
    "id": "WapD_6qPtizB"
   },
   "outputs": [
    {
     "data": {
      "text/plain": [
       "15780"
      ]
     },
     "execution_count": 67,
     "metadata": {},
     "output_type": "execute_result"
    }
   ],
   "source": [
    "seq_sel = list(set(seq_sel_1) | set(seq_sel_2))\n",
    "len(seq_sel)"
   ]
  },
  {
   "cell_type": "code",
   "execution_count": 81,
   "metadata": {},
   "outputs": [
    {
     "data": {
      "text/plain": [
       "count    161290.000000\n",
       "mean         15.852725\n",
       "std          21.259401\n",
       "min           0.000000\n",
       "25%           2.000000\n",
       "50%           8.000000\n",
       "75%          22.000000\n",
       "max         302.000000\n",
       "Name: search, dtype: float64"
      ]
     },
     "execution_count": 81,
     "metadata": {},
     "output_type": "execute_result"
    }
   ],
   "source": [
    "t = ndcg_zero_pred.reset_index()\n",
    "t[~t.seq.isin(seq_sel)].search.describe()"
   ]
  },
  {
   "cell_type": "code",
   "execution_count": null,
   "metadata": {},
   "outputs": [],
   "source": []
  },
  {
   "cell_type": "code",
   "execution_count": null,
   "metadata": {},
   "outputs": [],
   "source": []
  },
  {
   "cell_type": "markdown",
   "metadata": {
    "id": "V35MH2WytizB"
   },
   "source": [
    "##### item_data"
   ]
  },
  {
   "cell_type": "code",
   "execution_count": null,
   "metadata": {
    "id": "v0LMLfc_tizB"
   },
   "outputs": [],
   "source": [
    "item_data_fn = 'item_data.pkl'\n",
    "item_data_fp = os.path.join(processed_data_dir, item_data_fn)\n",
    "item_data = pd.read_pickle(item_data_fp)\n",
    "# item_data = item_data_desc[['item_id', 'title', 'domain_id']]"
   ]
  },
  {
   "cell_type": "markdown",
   "metadata": {
    "id": "62YaBn09tizB"
   },
   "source": [
    "##### use only item_id and item_embs cols from item_data "
   ]
  },
  {
   "cell_type": "code",
   "execution_count": null,
   "metadata": {
    "id": "vy6mQ2gttizB"
   },
   "outputs": [],
   "source": [
    "lang = 'pt'"
   ]
  },
  {
   "cell_type": "code",
   "execution_count": null,
   "metadata": {
    "id": "7fUtIpFwtizC"
   },
   "outputs": [],
   "source": [
    "item_data_embs_only_fn = 'item_data_embs_only.pkl'\n",
    "item_data_embs_only_fp = os.path.join(processed_data_dir, item_data_embs_only_fn)\n",
    "item_data = pd.read_pickle(item_data_embs_only_fp)\n",
    "\n",
    "item_data = item_data[item_data.lang_domain == lang].copy()\n",
    "item_data.drop('lang_domain', axis = 1, inplace = True)\n",
    "item_data.set_index('item_id', inplace = True)"
   ]
  },
  {
   "cell_type": "code",
   "execution_count": null,
   "metadata": {
    "id": "UmehB6AttizC",
    "outputId": "09bc043d-f952-439a-f213-ef54f34bc90a"
   },
   "outputs": [
    {
     "name": "stderr",
     "output_type": "stream",
     "text": [
      "100%|██████████| 1723216/1723216 [05:06<00:00, 5620.87it/s] \n"
     ]
    }
   ],
   "source": [
    "item_data = item_data.title_embs.progress_apply(pd.Series)"
   ]
  },
  {
   "cell_type": "code",
   "execution_count": null,
   "metadata": {
    "id": "8WNjPSj8tizC"
   },
   "outputs": [],
   "source": [
    "item_data = item_data.dropna()"
   ]
  },
  {
   "cell_type": "markdown",
   "metadata": {
    "id": "HUqkwCjitizC"
   },
   "source": [
    "##### read train_test with embeddings"
   ]
  },
  {
   "cell_type": "code",
   "execution_count": null,
   "metadata": {
    "id": "DozE8gF7tizC"
   },
   "outputs": [],
   "source": [
    "train_test_embs_fn = 'train_test_embs.pkl'\n",
    "train_test_embs_fp = os.path.join(interim_data_dir, train_test_embs_fn)\n",
    "train_test = pd.read_pickle(train_test_embs_fp)\n",
    "\n",
    "train_test['seq'] = train_test.seq - TEST_OFFSET\n",
    "train_test = train_test[train_test.seq >= 0]"
   ]
  },
  {
   "cell_type": "code",
   "execution_count": null,
   "metadata": {
    "id": "qvX4yNmAtizC"
   },
   "outputs": [],
   "source": [
    "queries = train_test[(train_test.lang_seq == lang) & (train_test.event_type == 'search')]"
   ]
  },
  {
   "cell_type": "markdown",
   "metadata": {
    "id": "ze0RijTJtizC"
   },
   "source": [
    "##### selecting queries only in scope"
   ]
  },
  {
   "cell_type": "code",
   "execution_count": null,
   "metadata": {
    "id": "fpZI1FTktizC"
   },
   "outputs": [],
   "source": [
    "queries = queries[queries.seq.isin(seq_sel)]"
   ]
  },
  {
   "cell_type": "code",
   "execution_count": null,
   "metadata": {
    "id": "FDmHSjiVtizC",
    "outputId": "48aa0e32-3619-4cb3-eef2-f7d5ccb2741b"
   },
   "outputs": [
    {
     "data": {
      "text/plain": [
       "113"
      ]
     },
     "execution_count": 32,
     "metadata": {
      "tags": []
     },
     "output_type": "execute_result"
    }
   ],
   "source": [
    "unique_seqs = queries.seq.unique()\n",
    "num_batches = len(unique_seqs) // 100\n",
    "seqs = np.array_split(unique_seqs, num_batches)\n",
    "num_batches"
   ]
  },
  {
   "cell_type": "code",
   "execution_count": null,
   "metadata": {
    "id": "TnwAQynGtizC",
    "outputId": "6425551c-df56-4ffe-88a8-15dcd74d50da"
   },
   "outputs": [
    {
     "data": {
      "text/plain": [
       "101"
      ]
     },
     "execution_count": 33,
     "metadata": {
      "tags": []
     },
     "output_type": "execute_result"
    }
   ],
   "source": [
    "seq_batch = seqs[0]\n",
    "len(seq_batch)"
   ]
  },
  {
   "cell_type": "code",
   "execution_count": null,
   "metadata": {
    "id": "NUCmmaCCtizC",
    "outputId": "b715d0ad-c480-4b49-f837-1bdc8ff14006"
   },
   "outputs": [
    {
     "name": "stderr",
     "output_type": "stream",
     "text": [
      "100%|██████████| 113/113 [1:26:27<00:00, 45.91s/it]\n"
     ]
    }
   ],
   "source": [
    "recs = dict()\n",
    "\n",
    "for seq_batch in tqdm(seqs):\n",
    "    query_embs = queries[queries.seq.isin(seq_batch)]\n",
    "    query_embs = query_embs.groupby('seq').query_embs.apply(lambda x: x.mean())\n",
    "    query_embs = query_embs.apply(pd.Series)\n",
    "    \n",
    "    scores = item_data @ query_embs.T\n",
    "    \n",
    "    for s in scores.columns:\n",
    "        recs[s] = list(scores[s].nlargest(10).items())"
   ]
  },
  {
   "cell_type": "code",
   "execution_count": null,
   "metadata": {
    "id": "2teBCl4gtizC"
   },
   "outputs": [],
   "source": [
    "recs_df = pd.DataFrame(recs)"
   ]
  },
  {
   "cell_type": "code",
   "execution_count": null,
   "metadata": {
    "id": "Y0euikpatizC",
    "outputId": "c420b560-4d63-40c2-b229-4ebd0ecf6d6f"
   },
   "outputs": [
    {
     "data": {
      "text/plain": [
       "(10, 11370)"
      ]
     },
     "execution_count": 36,
     "metadata": {
      "tags": []
     },
     "output_type": "execute_result"
    }
   ],
   "source": [
    "recs_df.shape"
   ]
  },
  {
   "cell_type": "code",
   "execution_count": null,
   "metadata": {
    "id": "t9cmMmD6tizC",
    "outputId": "46d9efae-69d3-4ddf-8d57-bba825a4887f"
   },
   "outputs": [
    {
     "data": {
      "text/plain": [
       "'pt'"
      ]
     },
     "execution_count": 37,
     "metadata": {
      "tags": []
     },
     "output_type": "execute_result"
    }
   ],
   "source": [
    "lang"
   ]
  },
  {
   "cell_type": "code",
   "execution_count": null,
   "metadata": {
    "id": "6it8stSFtizC"
   },
   "outputs": [],
   "source": [
    "search_recs_fn = lang + '_search_recs.pkl'\n",
    "search_recs_fp = os.path.join(interim_data_dir, search_recs_fn)\n",
    "recs_df.to_pickle(search_recs_fp)"
   ]
  },
  {
   "cell_type": "code",
   "execution_count": null,
   "metadata": {
    "id": "4ZWJQx_DtizC",
    "outputId": "56f66827-ca6a-4017-a51c-4cdf0ecc1e2f"
   },
   "outputs": [
    {
     "data": {
      "text/html": [
       "<div>\n",
       "<style scoped>\n",
       "    .dataframe tbody tr th:only-of-type {\n",
       "        vertical-align: middle;\n",
       "    }\n",
       "\n",
       "    .dataframe tbody tr th {\n",
       "        vertical-align: top;\n",
       "    }\n",
       "\n",
       "    .dataframe thead th {\n",
       "        text-align: right;\n",
       "    }\n",
       "</style>\n",
       "<table border=\"1\" class=\"dataframe\">\n",
       "  <thead>\n",
       "    <tr style=\"text-align: right;\">\n",
       "      <th></th>\n",
       "      <th>442</th>\n",
       "      <th>1139</th>\n",
       "      <th>1329</th>\n",
       "      <th>2039</th>\n",
       "      <th>2086</th>\n",
       "      <th>2274</th>\n",
       "      <th>2457</th>\n",
       "      <th>2673</th>\n",
       "      <th>3009</th>\n",
       "      <th>3242</th>\n",
       "      <th>...</th>\n",
       "      <th>174383</th>\n",
       "      <th>174527</th>\n",
       "      <th>174957</th>\n",
       "      <th>175052</th>\n",
       "      <th>175242</th>\n",
       "      <th>175582</th>\n",
       "      <th>175644</th>\n",
       "      <th>176548</th>\n",
       "      <th>176618</th>\n",
       "      <th>176752</th>\n",
       "    </tr>\n",
       "  </thead>\n",
       "  <tbody>\n",
       "    <tr>\n",
       "      <th>0</th>\n",
       "      <td>(808165, 0.8779296875)</td>\n",
       "      <td>(1353412, 0.7939453125)</td>\n",
       "      <td>(603897, 0.93896484375)</td>\n",
       "      <td>(1337084, 0.912109375)</td>\n",
       "      <td>(503803, 0.9365234375)</td>\n",
       "      <td>(285890, 0.88525390625)</td>\n",
       "      <td>(18304, 0.83154296875)</td>\n",
       "      <td>(1290094, 1.0)</td>\n",
       "      <td>(655531, 0.95654296875)</td>\n",
       "      <td>(240640, 1.0)</td>\n",
       "      <td>...</td>\n",
       "      <td>(329360, 0.67333984375)</td>\n",
       "      <td>(398243, 0.95166015625)</td>\n",
       "      <td>(11755, 0.9365234375)</td>\n",
       "      <td>(1013393, 0.84375)</td>\n",
       "      <td>(216976, 0.94384765625)</td>\n",
       "      <td>(866618, 0.94482421875)</td>\n",
       "      <td>(1377687, 0.93505859375)</td>\n",
       "      <td>(274039, 0.896484375)</td>\n",
       "      <td>(534772, 0.908203125)</td>\n",
       "      <td>(1553526, 1.0)</td>\n",
       "    </tr>\n",
       "    <tr>\n",
       "      <th>1</th>\n",
       "      <td>(897227, 0.8671875)</td>\n",
       "      <td>(555036, 0.783203125)</td>\n",
       "      <td>(1211874, 0.93408203125)</td>\n",
       "      <td>(538268, 0.912109375)</td>\n",
       "      <td>(137932, 0.931640625)</td>\n",
       "      <td>(1588816, 0.8828125)</td>\n",
       "      <td>(1493519, 0.8271484375)</td>\n",
       "      <td>(14761, 0.9150390625)</td>\n",
       "      <td>(1194003, 0.94140625)</td>\n",
       "      <td>(1042941, 0.96044921875)</td>\n",
       "      <td>...</td>\n",
       "      <td>(1377488, 0.66796875)</td>\n",
       "      <td>(1925544, 0.951171875)</td>\n",
       "      <td>(1280707, 0.9306640625)</td>\n",
       "      <td>(735229, 0.84326171875)</td>\n",
       "      <td>(1400461, 0.94189453125)</td>\n",
       "      <td>(1109754, 0.94287109375)</td>\n",
       "      <td>(879544, 0.93359375)</td>\n",
       "      <td>(1361152, 0.89306640625)</td>\n",
       "      <td>(1575342, 0.90380859375)</td>\n",
       "      <td>(237740, 1.0)</td>\n",
       "    </tr>\n",
       "    <tr>\n",
       "      <th>2</th>\n",
       "      <td>(376345, 0.8564453125)</td>\n",
       "      <td>(1559830, 0.76806640625)</td>\n",
       "      <td>(1365389, 0.9306640625)</td>\n",
       "      <td>(1486750, 0.90576171875)</td>\n",
       "      <td>(754158, 0.9306640625)</td>\n",
       "      <td>(637173, 0.8779296875)</td>\n",
       "      <td>(121927, 0.81982421875)</td>\n",
       "      <td>(454590, 0.912109375)</td>\n",
       "      <td>(857895, 0.94140625)</td>\n",
       "      <td>(13616, 0.96044921875)</td>\n",
       "      <td>...</td>\n",
       "      <td>(1703759, 0.66748046875)</td>\n",
       "      <td>(74631, 0.94921875)</td>\n",
       "      <td>(1944934, 0.927734375)</td>\n",
       "      <td>(584341, 0.84326171875)</td>\n",
       "      <td>(268182, 0.93408203125)</td>\n",
       "      <td>(447885, 0.9423828125)</td>\n",
       "      <td>(962803, 0.9326171875)</td>\n",
       "      <td>(1187360, 0.892578125)</td>\n",
       "      <td>(1056699, 0.90087890625)</td>\n",
       "      <td>(441391, 0.94580078125)</td>\n",
       "    </tr>\n",
       "    <tr>\n",
       "      <th>3</th>\n",
       "      <td>(1986747, 0.85546875)</td>\n",
       "      <td>(1446687, 0.759765625)</td>\n",
       "      <td>(1197885, 0.9296875)</td>\n",
       "      <td>(1184330, 0.904296875)</td>\n",
       "      <td>(1075502, 0.9287109375)</td>\n",
       "      <td>(651329, 0.8759765625)</td>\n",
       "      <td>(162025, 0.81884765625)</td>\n",
       "      <td>(1502213, 0.8984375)</td>\n",
       "      <td>(1907547, 0.9384765625)</td>\n",
       "      <td>(63481, 0.96044921875)</td>\n",
       "      <td>...</td>\n",
       "      <td>(696313, 0.6650390625)</td>\n",
       "      <td>(1112436, 0.9453125)</td>\n",
       "      <td>(1308657, 0.92626953125)</td>\n",
       "      <td>(733210, 0.84228515625)</td>\n",
       "      <td>(256591, 0.9326171875)</td>\n",
       "      <td>(328007, 0.9423828125)</td>\n",
       "      <td>(1432504, 0.9326171875)</td>\n",
       "      <td>(851128, 0.89013671875)</td>\n",
       "      <td>(1514380, 0.89794921875)</td>\n",
       "      <td>(1743815, 0.9404296875)</td>\n",
       "    </tr>\n",
       "    <tr>\n",
       "      <th>4</th>\n",
       "      <td>(18380, 0.8544921875)</td>\n",
       "      <td>(1696599, 0.75341796875)</td>\n",
       "      <td>(1319751, 0.9296875)</td>\n",
       "      <td>(438114, 0.904296875)</td>\n",
       "      <td>(2018908, 0.92529296875)</td>\n",
       "      <td>(992302, 0.8759765625)</td>\n",
       "      <td>(1432690, 0.8173828125)</td>\n",
       "      <td>(2066659, 0.89794921875)</td>\n",
       "      <td>(1895562, 0.93798828125)</td>\n",
       "      <td>(1745078, 0.96044921875)</td>\n",
       "      <td>...</td>\n",
       "      <td>(635636, 0.6630859375)</td>\n",
       "      <td>(344112, 0.94482421875)</td>\n",
       "      <td>(1591538, 0.92529296875)</td>\n",
       "      <td>(1877862, 0.841796875)</td>\n",
       "      <td>(1922505, 0.93212890625)</td>\n",
       "      <td>(421057, 0.9423828125)</td>\n",
       "      <td>(1594275, 0.931640625)</td>\n",
       "      <td>(315013, 0.88916015625)</td>\n",
       "      <td>(1077409, 0.89599609375)</td>\n",
       "      <td>(1535822, 0.939453125)</td>\n",
       "    </tr>\n",
       "    <tr>\n",
       "      <th>5</th>\n",
       "      <td>(2040458, 0.849609375)</td>\n",
       "      <td>(887274, 0.7529296875)</td>\n",
       "      <td>(2042574, 0.9296875)</td>\n",
       "      <td>(1059822, 0.90380859375)</td>\n",
       "      <td>(1356744, 0.9248046875)</td>\n",
       "      <td>(1976671, 0.8740234375)</td>\n",
       "      <td>(891824, 0.81689453125)</td>\n",
       "      <td>(64083, 0.8974609375)</td>\n",
       "      <td>(1676302, 0.93798828125)</td>\n",
       "      <td>(1643866, 0.96044921875)</td>\n",
       "      <td>...</td>\n",
       "      <td>(692774, 0.662109375)</td>\n",
       "      <td>(1343591, 0.94189453125)</td>\n",
       "      <td>(738107, 0.92431640625)</td>\n",
       "      <td>(1237401, 0.84130859375)</td>\n",
       "      <td>(938911, 0.93212890625)</td>\n",
       "      <td>(626743, 0.94091796875)</td>\n",
       "      <td>(1462074, 0.93115234375)</td>\n",
       "      <td>(765244, 0.888671875)</td>\n",
       "      <td>(1427755, 0.89501953125)</td>\n",
       "      <td>(1153811, 0.9375)</td>\n",
       "    </tr>\n",
       "    <tr>\n",
       "      <th>6</th>\n",
       "      <td>(1364810, 0.8486328125)</td>\n",
       "      <td>(70120, 0.7529296875)</td>\n",
       "      <td>(1110908, 0.92822265625)</td>\n",
       "      <td>(150238, 0.90380859375)</td>\n",
       "      <td>(618607, 0.91845703125)</td>\n",
       "      <td>(1891662, 0.8740234375)</td>\n",
       "      <td>(1097105, 0.81591796875)</td>\n",
       "      <td>(1903004, 0.89697265625)</td>\n",
       "      <td>(304904, 0.9375)</td>\n",
       "      <td>(1510610, 0.96044921875)</td>\n",
       "      <td>...</td>\n",
       "      <td>(994218, 0.6611328125)</td>\n",
       "      <td>(564467, 0.94140625)</td>\n",
       "      <td>(365595, 0.92431640625)</td>\n",
       "      <td>(209386, 0.83935546875)</td>\n",
       "      <td>(1913824, 0.93115234375)</td>\n",
       "      <td>(633925, 0.93994140625)</td>\n",
       "      <td>(2075749, 0.92919921875)</td>\n",
       "      <td>(1807257, 0.88818359375)</td>\n",
       "      <td>(872141, 0.89453125)</td>\n",
       "      <td>(37874, 0.9365234375)</td>\n",
       "    </tr>\n",
       "    <tr>\n",
       "      <th>7</th>\n",
       "      <td>(812912, 0.84814453125)</td>\n",
       "      <td>(411676, 0.7509765625)</td>\n",
       "      <td>(708512, 0.92626953125)</td>\n",
       "      <td>(446059, 0.90380859375)</td>\n",
       "      <td>(643397, 0.91796875)</td>\n",
       "      <td>(1484456, 0.8740234375)</td>\n",
       "      <td>(151298, 0.81591796875)</td>\n",
       "      <td>(448821, 0.8935546875)</td>\n",
       "      <td>(1451934, 0.93603515625)</td>\n",
       "      <td>(1020488, 0.94921875)</td>\n",
       "      <td>...</td>\n",
       "      <td>(780409, 0.66015625)</td>\n",
       "      <td>(82670, 0.94091796875)</td>\n",
       "      <td>(1905509, 0.92431640625)</td>\n",
       "      <td>(1391307, 0.8388671875)</td>\n",
       "      <td>(268826, 0.9306640625)</td>\n",
       "      <td>(1618846, 0.939453125)</td>\n",
       "      <td>(1205394, 0.92919921875)</td>\n",
       "      <td>(133794, 0.8876953125)</td>\n",
       "      <td>(724165, 0.89453125)</td>\n",
       "      <td>(1386973, 0.9365234375)</td>\n",
       "    </tr>\n",
       "    <tr>\n",
       "      <th>8</th>\n",
       "      <td>(1122057, 0.84765625)</td>\n",
       "      <td>(2096506, 0.75)</td>\n",
       "      <td>(1775486, 0.92578125)</td>\n",
       "      <td>(1541250, 0.90283203125)</td>\n",
       "      <td>(1327659, 0.9169921875)</td>\n",
       "      <td>(313875, 0.87353515625)</td>\n",
       "      <td>(599929, 0.81591796875)</td>\n",
       "      <td>(203574, 0.89013671875)</td>\n",
       "      <td>(2025944, 0.93603515625)</td>\n",
       "      <td>(110903, 0.94921875)</td>\n",
       "      <td>...</td>\n",
       "      <td>(1906386, 0.66015625)</td>\n",
       "      <td>(1505355, 0.9404296875)</td>\n",
       "      <td>(754959, 0.9228515625)</td>\n",
       "      <td>(764028, 0.83837890625)</td>\n",
       "      <td>(1962131, 0.9306640625)</td>\n",
       "      <td>(982661, 0.939453125)</td>\n",
       "      <td>(301064, 0.92919921875)</td>\n",
       "      <td>(1499488, 0.8876953125)</td>\n",
       "      <td>(1287672, 0.89404296875)</td>\n",
       "      <td>(911142, 0.93603515625)</td>\n",
       "    </tr>\n",
       "    <tr>\n",
       "      <th>9</th>\n",
       "      <td>(1793735, 0.845703125)</td>\n",
       "      <td>(1259538, 0.74951171875)</td>\n",
       "      <td>(228252, 0.92529296875)</td>\n",
       "      <td>(1232165, 0.9013671875)</td>\n",
       "      <td>(1619460, 0.9169921875)</td>\n",
       "      <td>(1764838, 0.87353515625)</td>\n",
       "      <td>(701585, 0.8154296875)</td>\n",
       "      <td>(366003, 0.8896484375)</td>\n",
       "      <td>(1298159, 0.9345703125)</td>\n",
       "      <td>(737239, 0.94921875)</td>\n",
       "      <td>...</td>\n",
       "      <td>(1037362, 0.65966796875)</td>\n",
       "      <td>(289183, 0.93994140625)</td>\n",
       "      <td>(848954, 0.92236328125)</td>\n",
       "      <td>(499285, 0.83740234375)</td>\n",
       "      <td>(1549555, 0.9296875)</td>\n",
       "      <td>(703218, 0.93896484375)</td>\n",
       "      <td>(1107505, 0.9267578125)</td>\n",
       "      <td>(426694, 0.88623046875)</td>\n",
       "      <td>(1641755, 0.8935546875)</td>\n",
       "      <td>(385773, 0.93310546875)</td>\n",
       "    </tr>\n",
       "  </tbody>\n",
       "</table>\n",
       "<p>10 rows × 619 columns</p>\n",
       "</div>"
      ],
      "text/plain": [
       "                    442                       1139    \\\n",
       "0   (808165, 0.8779296875)   (1353412, 0.7939453125)   \n",
       "1      (897227, 0.8671875)     (555036, 0.783203125)   \n",
       "2   (376345, 0.8564453125)  (1559830, 0.76806640625)   \n",
       "3    (1986747, 0.85546875)    (1446687, 0.759765625)   \n",
       "4    (18380, 0.8544921875)  (1696599, 0.75341796875)   \n",
       "5   (2040458, 0.849609375)    (887274, 0.7529296875)   \n",
       "6  (1364810, 0.8486328125)     (70120, 0.7529296875)   \n",
       "7  (812912, 0.84814453125)    (411676, 0.7509765625)   \n",
       "8    (1122057, 0.84765625)           (2096506, 0.75)   \n",
       "9   (1793735, 0.845703125)  (1259538, 0.74951171875)   \n",
       "\n",
       "                     1329                      2039    \\\n",
       "0   (603897, 0.93896484375)    (1337084, 0.912109375)   \n",
       "1  (1211874, 0.93408203125)     (538268, 0.912109375)   \n",
       "2   (1365389, 0.9306640625)  (1486750, 0.90576171875)   \n",
       "3      (1197885, 0.9296875)    (1184330, 0.904296875)   \n",
       "4      (1319751, 0.9296875)     (438114, 0.904296875)   \n",
       "5      (2042574, 0.9296875)  (1059822, 0.90380859375)   \n",
       "6  (1110908, 0.92822265625)   (150238, 0.90380859375)   \n",
       "7   (708512, 0.92626953125)   (446059, 0.90380859375)   \n",
       "8     (1775486, 0.92578125)  (1541250, 0.90283203125)   \n",
       "9   (228252, 0.92529296875)   (1232165, 0.9013671875)   \n",
       "\n",
       "                     2086                      2274    \\\n",
       "0    (503803, 0.9365234375)   (285890, 0.88525390625)   \n",
       "1     (137932, 0.931640625)      (1588816, 0.8828125)   \n",
       "2    (754158, 0.9306640625)    (637173, 0.8779296875)   \n",
       "3   (1075502, 0.9287109375)    (651329, 0.8759765625)   \n",
       "4  (2018908, 0.92529296875)    (992302, 0.8759765625)   \n",
       "5   (1356744, 0.9248046875)   (1976671, 0.8740234375)   \n",
       "6   (618607, 0.91845703125)   (1891662, 0.8740234375)   \n",
       "7      (643397, 0.91796875)   (1484456, 0.8740234375)   \n",
       "8   (1327659, 0.9169921875)   (313875, 0.87353515625)   \n",
       "9   (1619460, 0.9169921875)  (1764838, 0.87353515625)   \n",
       "\n",
       "                     2457                      2673    \\\n",
       "0    (18304, 0.83154296875)            (1290094, 1.0)   \n",
       "1   (1493519, 0.8271484375)     (14761, 0.9150390625)   \n",
       "2   (121927, 0.81982421875)     (454590, 0.912109375)   \n",
       "3   (162025, 0.81884765625)      (1502213, 0.8984375)   \n",
       "4   (1432690, 0.8173828125)  (2066659, 0.89794921875)   \n",
       "5   (891824, 0.81689453125)     (64083, 0.8974609375)   \n",
       "6  (1097105, 0.81591796875)  (1903004, 0.89697265625)   \n",
       "7   (151298, 0.81591796875)    (448821, 0.8935546875)   \n",
       "8   (599929, 0.81591796875)   (203574, 0.89013671875)   \n",
       "9    (701585, 0.8154296875)    (366003, 0.8896484375)   \n",
       "\n",
       "                     3009                      3242    ...  \\\n",
       "0   (655531, 0.95654296875)             (240640, 1.0)  ...   \n",
       "1     (1194003, 0.94140625)  (1042941, 0.96044921875)  ...   \n",
       "2      (857895, 0.94140625)    (13616, 0.96044921875)  ...   \n",
       "3   (1907547, 0.9384765625)    (63481, 0.96044921875)  ...   \n",
       "4  (1895562, 0.93798828125)  (1745078, 0.96044921875)  ...   \n",
       "5  (1676302, 0.93798828125)  (1643866, 0.96044921875)  ...   \n",
       "6          (304904, 0.9375)  (1510610, 0.96044921875)  ...   \n",
       "7  (1451934, 0.93603515625)     (1020488, 0.94921875)  ...   \n",
       "8  (2025944, 0.93603515625)      (110903, 0.94921875)  ...   \n",
       "9   (1298159, 0.9345703125)      (737239, 0.94921875)  ...   \n",
       "\n",
       "                     174383                    174527  \\\n",
       "0   (329360, 0.67333984375)   (398243, 0.95166015625)   \n",
       "1     (1377488, 0.66796875)    (1925544, 0.951171875)   \n",
       "2  (1703759, 0.66748046875)       (74631, 0.94921875)   \n",
       "3    (696313, 0.6650390625)      (1112436, 0.9453125)   \n",
       "4    (635636, 0.6630859375)   (344112, 0.94482421875)   \n",
       "5     (692774, 0.662109375)  (1343591, 0.94189453125)   \n",
       "6    (994218, 0.6611328125)      (564467, 0.94140625)   \n",
       "7      (780409, 0.66015625)    (82670, 0.94091796875)   \n",
       "8     (1906386, 0.66015625)   (1505355, 0.9404296875)   \n",
       "9  (1037362, 0.65966796875)   (289183, 0.93994140625)   \n",
       "\n",
       "                     174957                    175052  \\\n",
       "0     (11755, 0.9365234375)        (1013393, 0.84375)   \n",
       "1   (1280707, 0.9306640625)   (735229, 0.84326171875)   \n",
       "2    (1944934, 0.927734375)   (584341, 0.84326171875)   \n",
       "3  (1308657, 0.92626953125)   (733210, 0.84228515625)   \n",
       "4  (1591538, 0.92529296875)    (1877862, 0.841796875)   \n",
       "5   (738107, 0.92431640625)  (1237401, 0.84130859375)   \n",
       "6   (365595, 0.92431640625)   (209386, 0.83935546875)   \n",
       "7  (1905509, 0.92431640625)   (1391307, 0.8388671875)   \n",
       "8    (754959, 0.9228515625)   (764028, 0.83837890625)   \n",
       "9   (848954, 0.92236328125)   (499285, 0.83740234375)   \n",
       "\n",
       "                     175242                    175582  \\\n",
       "0   (216976, 0.94384765625)   (866618, 0.94482421875)   \n",
       "1  (1400461, 0.94189453125)  (1109754, 0.94287109375)   \n",
       "2   (268182, 0.93408203125)    (447885, 0.9423828125)   \n",
       "3    (256591, 0.9326171875)    (328007, 0.9423828125)   \n",
       "4  (1922505, 0.93212890625)    (421057, 0.9423828125)   \n",
       "5   (938911, 0.93212890625)   (626743, 0.94091796875)   \n",
       "6  (1913824, 0.93115234375)   (633925, 0.93994140625)   \n",
       "7    (268826, 0.9306640625)    (1618846, 0.939453125)   \n",
       "8   (1962131, 0.9306640625)     (982661, 0.939453125)   \n",
       "9      (1549555, 0.9296875)   (703218, 0.93896484375)   \n",
       "\n",
       "                     175644                    176548  \\\n",
       "0  (1377687, 0.93505859375)     (274039, 0.896484375)   \n",
       "1      (879544, 0.93359375)  (1361152, 0.89306640625)   \n",
       "2    (962803, 0.9326171875)    (1187360, 0.892578125)   \n",
       "3   (1432504, 0.9326171875)   (851128, 0.89013671875)   \n",
       "4    (1594275, 0.931640625)   (315013, 0.88916015625)   \n",
       "5  (1462074, 0.93115234375)     (765244, 0.888671875)   \n",
       "6  (2075749, 0.92919921875)  (1807257, 0.88818359375)   \n",
       "7  (1205394, 0.92919921875)    (133794, 0.8876953125)   \n",
       "8   (301064, 0.92919921875)   (1499488, 0.8876953125)   \n",
       "9   (1107505, 0.9267578125)   (426694, 0.88623046875)   \n",
       "\n",
       "                     176618                   176752  \n",
       "0     (534772, 0.908203125)           (1553526, 1.0)  \n",
       "1  (1575342, 0.90380859375)            (237740, 1.0)  \n",
       "2  (1056699, 0.90087890625)  (441391, 0.94580078125)  \n",
       "3  (1514380, 0.89794921875)  (1743815, 0.9404296875)  \n",
       "4  (1077409, 0.89599609375)   (1535822, 0.939453125)  \n",
       "5  (1427755, 0.89501953125)        (1153811, 0.9375)  \n",
       "6      (872141, 0.89453125)    (37874, 0.9365234375)  \n",
       "7      (724165, 0.89453125)  (1386973, 0.9365234375)  \n",
       "8  (1287672, 0.89404296875)  (911142, 0.93603515625)  \n",
       "9   (1641755, 0.8935546875)  (385773, 0.93310546875)  \n",
       "\n",
       "[10 rows x 619 columns]"
      ]
     },
     "execution_count": 43,
     "metadata": {
      "tags": []
     },
     "output_type": "execute_result"
    }
   ],
   "source": [
    "recs_df"
   ]
  },
  {
   "cell_type": "code",
   "execution_count": null,
   "metadata": {
    "id": "FIy0jJ6ytizC"
   },
   "outputs": [],
   "source": []
  },
  {
   "cell_type": "markdown",
   "metadata": {
    "id": "LOuRvde7tizC"
   },
   "source": [
    "____\n",
    "____"
   ]
  },
  {
   "cell_type": "code",
   "execution_count": null,
   "metadata": {
    "id": "T3cHO71atizC"
   },
   "outputs": [],
   "source": [
    "query_embs = queries[queries.seq.isin(seq_batch)]\n",
    "query_embs = query_embs.groupby('seq').query_embs.apply(lambda x: x.mean())\n",
    "query_embs = query_embs.progress_apply(pd.Series)"
   ]
  },
  {
   "cell_type": "markdown",
   "metadata": {
    "id": "F4102PwZtizC"
   },
   "source": [
    "for len(seq_batch) = 1000, dot product below takes about 6 mins:\n",
    "* CPU times: user 6min 11s, sys: 1.93 s, total: 6min 13s\n",
    "* Wall time: 6min 14s\n",
    "> **take only seqs that had low number of views (low top score from MF)** <br>\n",
    "> or to restrict columns by selecting items from the viewed groups only"
   ]
  },
  {
   "cell_type": "code",
   "execution_count": null,
   "metadata": {
    "id": "Fbqf2jtTtizC",
    "outputId": "ed0455b3-c4d8-410d-d655-1cde4025e774"
   },
   "outputs": [
    {
     "name": "stdout",
     "output_type": "stream",
     "text": [
      "CPU times: user 6min 11s, sys: 1.93 s, total: 6min 13s\n",
      "Wall time: 6min 14s\n"
     ]
    }
   ],
   "source": [
    "%%time\n",
    "scores = item_data @ query_embs.T"
   ]
  },
  {
   "cell_type": "code",
   "execution_count": null,
   "metadata": {
    "id": "ruu2H2G-tizC",
    "outputId": "4c4735a7-e748-4f44-f13b-8aac6d55eec3"
   },
   "outputs": [
    {
     "name": "stderr",
     "output_type": "stream",
     "text": [
      "100%|██████████| 1003/1003 [01:34<00:00, 10.61it/s]\n"
     ]
    }
   ],
   "source": [
    "recs = dict()\n",
    "for s in tqdm(scores.columns):\n",
    "    recs[s] = list(scores[s].nlargest(10).items())"
   ]
  },
  {
   "cell_type": "code",
   "execution_count": null,
   "metadata": {
    "id": "EaCqp6-vtizC"
   },
   "outputs": [],
   "source": [
    "# recs = pd.DataFrame(recs)"
   ]
  },
  {
   "cell_type": "markdown",
   "metadata": {
    "id": "UbDLwYsDtizC"
   },
   "source": [
    "____"
   ]
  },
  {
   "cell_type": "markdown",
   "metadata": {
    "id": "Vu8dzVkptizD"
   },
   "source": [
    "#### checking random seq's...\n",
    "* seq 483: search for MESA EXPERT is giving rec \"Mesa Digitalizadora Led Profissional Parblo C\", because of search words treated in isolation\n",
    "* **Estimate NDCG for a small number of random users in train**\n"
   ]
  },
  {
   "cell_type": "markdown",
   "metadata": {
    "id": "43XjGKDftizD"
   },
   "source": [
    "##### item_data descriptions"
   ]
  },
  {
   "cell_type": "code",
   "execution_count": null,
   "metadata": {
    "id": "HRBUzNXdtizD"
   },
   "outputs": [],
   "source": [
    "item_data_fn = 'item_data.jl.gz'\n",
    "item_data_desc = pd.read_json(os.path.join(raw_data_dir, item_data_fn), lines=True)\n",
    "item_data_desc = item_data_desc[['item_id', 'title', 'domain_id']]"
   ]
  },
  {
   "cell_type": "code",
   "execution_count": null,
   "metadata": {
    "id": "5cD23d1StizD",
    "outputId": "d8732885-b2cc-4991-d050-bfdd528cc2bc"
   },
   "outputs": [
    {
     "name": "stdout",
     "output_type": "stream",
     "text": [
      "a random seq: 177058\n"
     ]
    },
    {
     "ename": "KeyError",
     "evalue": "177058",
     "output_type": "error",
     "traceback": [
      "\u001b[0;31m---------------------------------------------------------------------------\u001b[0m",
      "\u001b[0;31mKeyError\u001b[0m                                  Traceback (most recent call last)",
      "\u001b[0;32m<ipython-input-59-fb74cd9b49b5>\u001b[0m in \u001b[0;36m<module>\u001b[0;34m\u001b[0m\n\u001b[1;32m      2\u001b[0m \u001b[0ma_seq\u001b[0m \u001b[0;34m=\u001b[0m \u001b[0;36m177058\u001b[0m\u001b[0;34m\u001b[0m\u001b[0;34m\u001b[0m\u001b[0m\n\u001b[1;32m      3\u001b[0m \u001b[0mprint\u001b[0m\u001b[0;34m(\u001b[0m\u001b[0;34m'a random seq:'\u001b[0m\u001b[0;34m,\u001b[0m \u001b[0ma_seq\u001b[0m\u001b[0;34m)\u001b[0m\u001b[0;34m\u001b[0m\u001b[0;34m\u001b[0m\u001b[0m\n\u001b[0;32m----> 4\u001b[0;31m \u001b[0mone_seq_rec\u001b[0m \u001b[0;34m=\u001b[0m \u001b[0mpd\u001b[0m\u001b[0;34m.\u001b[0m\u001b[0mDataFrame\u001b[0m\u001b[0;34m(\u001b[0m\u001b[0mrecs\u001b[0m\u001b[0;34m[\u001b[0m\u001b[0ma_seq\u001b[0m\u001b[0;34m]\u001b[0m\u001b[0;34m)\u001b[0m\u001b[0;34m\u001b[0m\u001b[0;34m\u001b[0m\u001b[0m\n\u001b[0m\u001b[1;32m      5\u001b[0m \u001b[0mone_seq_rec\u001b[0m\u001b[0;34m.\u001b[0m\u001b[0mcolumns\u001b[0m \u001b[0;34m=\u001b[0m \u001b[0;34m[\u001b[0m\u001b[0;34m'item_id'\u001b[0m\u001b[0;34m,\u001b[0m \u001b[0;34m'score'\u001b[0m\u001b[0;34m]\u001b[0m\u001b[0;34m\u001b[0m\u001b[0;34m\u001b[0m\u001b[0m\n",
      "\u001b[0;31mKeyError\u001b[0m: 177058"
     ]
    }
   ],
   "source": [
    "a_seq = np.random.choice(list(recs.keys()))\n",
    "a_seq = 177058\n",
    "print('a random seq:', a_seq)\n",
    "one_seq_rec = pd.DataFrame(recs[a_seq])\n",
    "one_seq_rec.columns = ['item_id', 'score']"
   ]
  },
  {
   "cell_type": "code",
   "execution_count": null,
   "metadata": {
    "id": "SVfFGFZctizD",
    "outputId": "de39be90-16cf-4d1a-fb5f-d1a2dec9cd19"
   },
   "outputs": [
    {
     "data": {
      "text/html": [
       "<div>\n",
       "<style scoped>\n",
       "    .dataframe tbody tr th:only-of-type {\n",
       "        vertical-align: middle;\n",
       "    }\n",
       "\n",
       "    .dataframe tbody tr th {\n",
       "        vertical-align: top;\n",
       "    }\n",
       "\n",
       "    .dataframe thead th {\n",
       "        text-align: right;\n",
       "    }\n",
       "</style>\n",
       "<table border=\"1\" class=\"dataframe\">\n",
       "  <thead>\n",
       "    <tr style=\"text-align: right;\">\n",
       "      <th></th>\n",
       "      <th>item_id</th>\n",
       "      <th>score</th>\n",
       "      <th>title</th>\n",
       "      <th>domain_id</th>\n",
       "    </tr>\n",
       "  </thead>\n",
       "  <tbody>\n",
       "    <tr>\n",
       "      <th>0</th>\n",
       "      <td>1135878</td>\n",
       "      <td>0.838379</td>\n",
       "      <td>Tenis adidas Pro Next 2019 Jr Ef0855 Rojo Básq...</td>\n",
       "      <td>MLM-SNEAKERS</td>\n",
       "    </tr>\n",
       "    <tr>\n",
       "      <th>1</th>\n",
       "      <td>138426</td>\n",
       "      <td>0.837402</td>\n",
       "      <td>Tenis Para Deporte Marca Charly 1021777 Dog</td>\n",
       "      <td>MLM-SNEAKERS</td>\n",
       "    </tr>\n",
       "    <tr>\n",
       "      <th>2</th>\n",
       "      <td>1600907</td>\n",
       "      <td>0.837402</td>\n",
       "      <td>Tenis Para Deporte Marca Charly 1029137 Dog</td>\n",
       "      <td>MLM-SNEAKERS</td>\n",
       "    </tr>\n",
       "    <tr>\n",
       "      <th>3</th>\n",
       "      <td>114985</td>\n",
       "      <td>0.834473</td>\n",
       "      <td>Tenis Puma Vikky Ribbon Mujer Nike adidas Gym ...</td>\n",
       "      <td>MLM-SNEAKERS</td>\n",
       "    </tr>\n",
       "    <tr>\n",
       "      <th>4</th>\n",
       "      <td>864126</td>\n",
       "      <td>0.834473</td>\n",
       "      <td>Tenis De Basquetbol Nike Air Max Wavy Original.</td>\n",
       "      <td>MLM-SNEAKERS</td>\n",
       "    </tr>\n",
       "    <tr>\n",
       "      <th>5</th>\n",
       "      <td>326712</td>\n",
       "      <td>0.833984</td>\n",
       "      <td>Tenis Nike Air Max Infuriate Ii Mujer Basquetb...</td>\n",
       "      <td>MLM-SNEAKERS</td>\n",
       "    </tr>\n",
       "    <tr>\n",
       "      <th>6</th>\n",
       "      <td>68056</td>\n",
       "      <td>0.832520</td>\n",
       "      <td>Tenis Nuevo adidas Cosmic Fashion Negro</td>\n",
       "      <td>MLM-SNEAKERS</td>\n",
       "    </tr>\n",
       "    <tr>\n",
       "      <th>7</th>\n",
       "      <td>407633</td>\n",
       "      <td>0.832031</td>\n",
       "      <td>Tenis adidas Pace</td>\n",
       "      <td>MLM-SNEAKERS</td>\n",
       "    </tr>\n",
       "    <tr>\n",
       "      <th>8</th>\n",
       "      <td>1658750</td>\n",
       "      <td>0.831543</td>\n",
       "      <td>Tenis 8mx Coach Negro Monogram</td>\n",
       "      <td>MLM-SNEAKERS</td>\n",
       "    </tr>\n",
       "    <tr>\n",
       "      <th>9</th>\n",
       "      <td>1703189</td>\n",
       "      <td>0.831543</td>\n",
       "      <td>Tenis Futbol Para Hombre adidas Aq4289 Black W...</td>\n",
       "      <td>MLM-SNEAKERS</td>\n",
       "    </tr>\n",
       "  </tbody>\n",
       "</table>\n",
       "</div>"
      ],
      "text/plain": [
       "   item_id     score                                              title  \\\n",
       "0  1135878  0.838379  Tenis adidas Pro Next 2019 Jr Ef0855 Rojo Básq...   \n",
       "1   138426  0.837402        Tenis Para Deporte Marca Charly 1021777 Dog   \n",
       "2  1600907  0.837402        Tenis Para Deporte Marca Charly 1029137 Dog   \n",
       "3   114985  0.834473  Tenis Puma Vikky Ribbon Mujer Nike adidas Gym ...   \n",
       "4   864126  0.834473    Tenis De Basquetbol Nike Air Max Wavy Original.   \n",
       "5   326712  0.833984  Tenis Nike Air Max Infuriate Ii Mujer Basquetb...   \n",
       "6    68056  0.832520            Tenis Nuevo adidas Cosmic Fashion Negro   \n",
       "7   407633  0.832031                                  Tenis adidas Pace   \n",
       "8  1658750  0.831543                     Tenis 8mx Coach Negro Monogram   \n",
       "9  1703189  0.831543  Tenis Futbol Para Hombre adidas Aq4289 Black W...   \n",
       "\n",
       "      domain_id  \n",
       "0  MLM-SNEAKERS  \n",
       "1  MLM-SNEAKERS  \n",
       "2  MLM-SNEAKERS  \n",
       "3  MLM-SNEAKERS  \n",
       "4  MLM-SNEAKERS  \n",
       "5  MLM-SNEAKERS  \n",
       "6  MLM-SNEAKERS  \n",
       "7  MLM-SNEAKERS  \n",
       "8  MLM-SNEAKERS  \n",
       "9  MLM-SNEAKERS  "
      ]
     },
     "execution_count": 60,
     "metadata": {
      "tags": []
     },
     "output_type": "execute_result"
    }
   ],
   "source": [
    "pd.merge(one_seq_rec, item_data_desc, how = 'left')"
   ]
  },
  {
   "cell_type": "code",
   "execution_count": null,
   "metadata": {
    "id": "DdYvce4JtizD",
    "outputId": "8333a2d2-9eb9-4efd-9c09-d08e6d58be7a"
   },
   "outputs": [
    {
     "data": {
      "text/html": [
       "<div>\n",
       "<style scoped>\n",
       "    .dataframe tbody tr th:only-of-type {\n",
       "        vertical-align: middle;\n",
       "    }\n",
       "\n",
       "    .dataframe tbody tr th {\n",
       "        vertical-align: top;\n",
       "    }\n",
       "\n",
       "    .dataframe thead th {\n",
       "        text-align: right;\n",
       "    }\n",
       "</style>\n",
       "<table border=\"1\" class=\"dataframe\">\n",
       "  <thead>\n",
       "    <tr style=\"text-align: right;\">\n",
       "      <th></th>\n",
       "      <th>seq</th>\n",
       "      <th>event_info</th>\n",
       "      <th>views</th>\n",
       "      <th>event_type</th>\n",
       "      <th>lang_seq</th>\n",
       "      <th>query_embs</th>\n",
       "    </tr>\n",
       "  </thead>\n",
       "  <tbody>\n",
       "    <tr>\n",
       "      <th>13914900</th>\n",
       "      <td>177058</td>\n",
       "      <td>ONEPLUS 5</td>\n",
       "      <td>NaN</td>\n",
       "      <td>search</td>\n",
       "      <td>pt</td>\n",
       "      <td>[0.03854, -0.2195, 0.3315, 0.0575, -0.0181, 0....</td>\n",
       "    </tr>\n",
       "    <tr>\n",
       "      <th>13914901</th>\n",
       "      <td>177058</td>\n",
       "      <td>ONEPLUS 5</td>\n",
       "      <td>NaN</td>\n",
       "      <td>search</td>\n",
       "      <td>pt</td>\n",
       "      <td>[0.03854, -0.2195, 0.3315, 0.0575, -0.0181, 0....</td>\n",
       "    </tr>\n",
       "    <tr>\n",
       "      <th>13914902</th>\n",
       "      <td>177058</td>\n",
       "      <td>ONE VISION</td>\n",
       "      <td>NaN</td>\n",
       "      <td>search</td>\n",
       "      <td>pt</td>\n",
       "      <td>[0.03427, -0.1542, 0.2006, -0.1891, -0.1799, 0...</td>\n",
       "    </tr>\n",
       "  </tbody>\n",
       "</table>\n",
       "</div>"
      ],
      "text/plain": [
       "             seq  event_info  views event_type lang_seq  \\\n",
       "13914900  177058   ONEPLUS 5    NaN     search       pt   \n",
       "13914901  177058   ONEPLUS 5    NaN     search       pt   \n",
       "13914902  177058  ONE VISION    NaN     search       pt   \n",
       "\n",
       "                                                 query_embs  \n",
       "13914900  [0.03854, -0.2195, 0.3315, 0.0575, -0.0181, 0....  \n",
       "13914901  [0.03854, -0.2195, 0.3315, 0.0575, -0.0181, 0....  \n",
       "13914902  [0.03427, -0.1542, 0.2006, -0.1891, -0.1799, 0...  "
      ]
     },
     "execution_count": 61,
     "metadata": {
      "tags": []
     },
     "output_type": "execute_result"
    }
   ],
   "source": [
    "train_test[train_test.seq == a_seq]"
   ]
  },
  {
   "cell_type": "code",
   "execution_count": null,
   "metadata": {
    "id": "FHSCU5OntizD",
    "outputId": "d6854446-a3df-47cc-e1ff-22bc9023d30d"
   },
   "outputs": [
    {
     "data": {
      "text/html": [
       "<div>\n",
       "<style scoped>\n",
       "    .dataframe tbody tr th:only-of-type {\n",
       "        vertical-align: middle;\n",
       "    }\n",
       "\n",
       "    .dataframe tbody tr th {\n",
       "        vertical-align: top;\n",
       "    }\n",
       "\n",
       "    .dataframe thead th {\n",
       "        text-align: right;\n",
       "    }\n",
       "</style>\n",
       "<table border=\"1\" class=\"dataframe\">\n",
       "  <thead>\n",
       "    <tr style=\"text-align: right;\">\n",
       "      <th></th>\n",
       "      <th>seq</th>\n",
       "      <th>event_info</th>\n",
       "      <th>views</th>\n",
       "      <th>event_type</th>\n",
       "      <th>lang_seq</th>\n",
       "      <th>query_embs</th>\n",
       "      <th>item_id</th>\n",
       "      <th>title</th>\n",
       "      <th>domain_id</th>\n",
       "    </tr>\n",
       "  </thead>\n",
       "  <tbody>\n",
       "  </tbody>\n",
       "</table>\n",
       "</div>"
      ],
      "text/plain": [
       "Empty DataFrame\n",
       "Columns: [seq, event_info, views, event_type, lang_seq, query_embs, item_id, title, domain_id]\n",
       "Index: []"
      ]
     },
     "execution_count": 58,
     "metadata": {
      "tags": []
     },
     "output_type": "execute_result"
    }
   ],
   "source": [
    "pd.merge(train_test[(train_test.seq == a_seq) & ~(train_test.event_type == 'search')], item_data_desc, how = 'left', left_on = 'event_info', right_on = 'item_id')"
   ]
  },
  {
   "cell_type": "code",
   "execution_count": null,
   "metadata": {
    "id": "-rcxHX8PtizD"
   },
   "outputs": [],
   "source": []
  },
  {
   "cell_type": "code",
   "execution_count": null,
   "metadata": {
    "id": "JuDAZW4WtizD"
   },
   "outputs": [],
   "source": []
  },
  {
   "cell_type": "code",
   "execution_count": null,
   "metadata": {
    "id": "bi95fc3RtizD"
   },
   "outputs": [],
   "source": []
  },
  {
   "cell_type": "code",
   "execution_count": null,
   "metadata": {
    "id": "JOZW1PqhtizD"
   },
   "outputs": [],
   "source": []
  },
  {
   "cell_type": "code",
   "execution_count": null,
   "metadata": {
    "id": "zcazAD-ttizD"
   },
   "outputs": [],
   "source": [
    "# train['event_info'] = train.event_info.fillna(train.item_bought)"
   ]
  },
  {
   "cell_type": "code",
   "execution_count": null,
   "metadata": {
    "id": "7DZUvfbgtizD"
   },
   "outputs": [],
   "source": [
    "# param = {'buy_weight': 200,\n",
    "#  'regularization': 0.1,\n",
    "#  'iterations': 10,\n",
    "#  'factors': 128,\n",
    "#  'alpha_val': 200}"
   ]
  },
  {
   "cell_type": "code",
   "execution_count": null,
   "metadata": {
    "id": "jZFDsEirtizD"
   },
   "outputs": [],
   "source": [
    "# test_offset, test_shifted_seq_vals, train_test = join_prepare_train_test(train_red, test_red, buy_weight = -1, return_search = True)\n",
    "# model, seq_map, event_info_map, sparse_user_item = fit_implicit_model(train_test, **param)\n",
    "# pred = predict_implicit_model(model, sparse_user_item, \n",
    "#                               seq_map, event_info_map, test_shifted_seq_vals, \n",
    "#                               10, test_offset, \n",
    "#                               validation = True, true_df = true_df, item_domain = item_domain)"
   ]
  },
  {
   "cell_type": "code",
   "execution_count": null,
   "metadata": {
    "id": "Sx02SY5_tizD"
   },
   "outputs": [],
   "source": []
  },
  {
   "cell_type": "markdown",
   "metadata": {
    "id": "kDyUCZbgtizD"
   },
   "source": [
    "_____"
   ]
  },
  {
   "cell_type": "markdown",
   "metadata": {
    "id": "4vRQvDy8tizD"
   },
   "source": [
    "## dataprep for search rows - spacy tests"
   ]
  },
  {
   "cell_type": "markdown",
   "metadata": {
    "id": "-HRscGm3tizD"
   },
   "source": [
    "#### error with spaCy & Dask\n",
    "```OSError: [E050] Can't find model 'pt_core_news_md.vectors'.\n",
    "It doesn't seem to be a shortcut link, a Python package or a valid path to a data directory.```"
   ]
  },
  {
   "cell_type": "code",
   "execution_count": null,
   "metadata": {
    "id": "JP-t6IGhtizD"
   },
   "outputs": [],
   "source": [
    "# import dask.dataframe as dd\n",
    "# from dask.distributed import Client\n",
    "# client = Client()\n",
    "# client\n",
    "\n",
    "# item_data_unique_dd = dd.from_pandas(item_data_unique, npartitions = 4)\n",
    "\n",
    "# @delayed\n",
    "# def add_spacy(df_p):\n",
    "#     df = df_p.copy()\n",
    "#     # df['port_nlp'] = df.title_lower.apply(lambda x: port_nlp(x))\n",
    "#     df['port_nlp'] = df.title_lower.apply(port_nlp)\n",
    "#     return df\n",
    "\n",
    "# item_data_unique_nlp = list()\n",
    "# for df_p in np.array_split(item_data_unique, n_workers):\n",
    "#     item_data_unique_nlp.append(add_spacy(df_p))\n",
    "\n",
    "# item_data_unique_nlp = compute(*item_data_unique_nlp)\n",
    "# # OSError: [E050] Can't find model 'pt_core_news_md.vectors'. \n",
    "# #     It doesn't seem to be a shortcut link, a Python package or a valid path to a data directory."
   ]
  },
  {
   "cell_type": "code",
   "execution_count": null,
   "metadata": {
    "id": "41t_nWIztizD"
   },
   "outputs": [],
   "source": [
    "import spacy"
   ]
  },
  {
   "cell_type": "code",
   "execution_count": null,
   "metadata": {
    "id": "nf0caGt9tizD"
   },
   "outputs": [],
   "source": [
    "port = spacy.load('pt_core_news_md')"
   ]
  },
  {
   "cell_type": "code",
   "execution_count": null,
   "metadata": {
    "id": "nzUyNetRtizD"
   },
   "outputs": [],
   "source": [
    "query_original = port('PNEU LEVORIN AZONIC ARO 18 275 DIANTEIRO')\n",
    "query_lower    = port('PNEU LEVORIN AZONIC ARO 18 275 DIANTEIRO'.lower())"
   ]
  },
  {
   "cell_type": "code",
   "execution_count": null,
   "metadata": {
    "id": "cjYWWI5ztizD"
   },
   "outputs": [],
   "source": [
    "item_original = port('Pneu Para Moto Levorin Azonic Dianteiro Tl 2,75 18')\n",
    "item_lower    = port('Pneu Para Moto Levorin Azonic Dianteiro Tl 2,75 18'.lower())"
   ]
  },
  {
   "cell_type": "code",
   "execution_count": null,
   "metadata": {
    "id": "j1H1rl8-tizD",
    "outputId": "76e11d13-bc55-4fe7-dec0-a8b8ee695aff"
   },
   "outputs": [
    {
     "name": "stdout",
     "output_type": "stream",
     "text": [
      "0.623769216929041\n",
      "0.55457467490276\n",
      "0.7138354773981356\n",
      "0.7602650326179264\n"
     ]
    }
   ],
   "source": [
    "print(query_original.similarity(item_original))\n",
    "print(query_original.similarity(item_lower))\n",
    "print(query_lower.similarity(item_original))\n",
    "print(query_lower.similarity(item_lower))  # <--- highest similarity"
   ]
  },
  {
   "cell_type": "code",
   "execution_count": null,
   "metadata": {
    "id": "qqULUY3xtizD",
    "outputId": "9f756305-849b-460c-ce98-a62ebde0ef28"
   },
   "outputs": [
    {
     "data": {
      "text/plain": [
       "str"
      ]
     },
     "execution_count": 130,
     "metadata": {
      "tags": []
     },
     "output_type": "execute_result"
    }
   ],
   "source": [
    "type(query_lower.text)"
   ]
  },
  {
   "cell_type": "code",
   "execution_count": null,
   "metadata": {
    "id": "zXLKpNmHtizD",
    "outputId": "dc1e51dd-600c-4e43-9b4c-ee443cfb038c"
   },
   "outputs": [
    {
     "name": "stdout",
     "output_type": "stream",
     "text": [
      "pneu <class 'spacy.tokens.token.Token'> pneu <class 'str'>\n",
      "levorin <class 'spacy.tokens.token.Token'> levorin <class 'str'>\n",
      "azonic <class 'spacy.tokens.token.Token'> azonic <class 'str'>\n",
      "aro <class 'spacy.tokens.token.Token'> aro <class 'str'>\n",
      "18 <class 'spacy.tokens.token.Token'> 18 <class 'str'>\n",
      "275 <class 'spacy.tokens.token.Token'> 275 <class 'str'>\n",
      "dianteiro <class 'spacy.tokens.token.Token'> dianteiro <class 'str'>\n"
     ]
    }
   ],
   "source": [
    "for t in query_lower:\n",
    "    print(t, type(t), t.text, type(t.text))"
   ]
  },
  {
   "cell_type": "code",
   "execution_count": null,
   "metadata": {
    "id": "e9rH6b87tizD"
   },
   "outputs": [],
   "source": [
    "train['query'] = train.event_info\n",
    "train.loc[~(train.event_type == 'search'), 'query'] = np.nan\n",
    "train['query'] = train['query'].fillna('').str.lower()"
   ]
  },
  {
   "cell_type": "code",
   "execution_count": null,
   "metadata": {
    "id": "zeRf3tcItizE"
   },
   "outputs": [],
   "source": [
    "def find_oov(s):\n",
    "    s_spacy = port(s)\n",
    "    return [t.text for t in s_spacy if t.is_oov]"
   ]
  },
  {
   "cell_type": "code",
   "execution_count": null,
   "metadata": {
    "id": "YVyXMoFQtizE"
   },
   "outputs": [],
   "source": [
    "train_search = train.loc[train.event_type == 'search', ['seq', 'query']].copy()\n",
    "train_search_drop_dup = train_search.drop_duplicates(subset = 'query')"
   ]
  },
  {
   "cell_type": "code",
   "execution_count": null,
   "metadata": {
    "id": "CChnLe9NtizE",
    "outputId": "680112fa-e79d-4660-9ae4-6af16ba34187"
   },
   "outputs": [
    {
     "name": "stderr",
     "output_type": "stream",
     "text": [
      "100%|██████████| 847496/847496 [1:37:52<00:00, 144.33it/s] \n",
      "/Users/hitoshinagano/.virtualenvs/tensorflow2/lib/python3.7/site-packages/ipykernel_launcher.py:1: SettingWithCopyWarning: \n",
      "A value is trying to be set on a copy of a slice from a DataFrame.\n",
      "Try using .loc[row_indexer,col_indexer] = value instead\n",
      "\n",
      "See the caveats in the documentation: https://pandas.pydata.org/pandas-docs/stable/user_guide/indexing.html#returning-a-view-versus-a-copy\n",
      "  \"\"\"Entry point for launching an IPython kernel.\n"
     ]
    }
   ],
   "source": [
    "train_search_drop_dup['entities'] = train_search_drop_dup['query'].progress_apply(find_oov)"
   ]
  },
  {
   "cell_type": "code",
   "execution_count": null,
   "metadata": {
    "id": "fCTE6SHmtizE"
   },
   "outputs": [],
   "source": [
    "train = pd.merge(train, train_search_drop_dup, on = 'query', how = 'left')"
   ]
  },
  {
   "cell_type": "code",
   "execution_count": null,
   "metadata": {
    "id": "QSZCIxSxtizE"
   },
   "outputs": [],
   "source": [
    "train.rename(columns = {'seq_x': 'seq'}, inplace = True)\n",
    "train.drop(columns = 'seq_y', inplace = True)"
   ]
  },
  {
   "cell_type": "code",
   "execution_count": null,
   "metadata": {
    "id": "BhjcnL3-tizE"
   },
   "outputs": [],
   "source": [
    "train.sort_values(['seq', 'event_timestamp'], inplace = True)"
   ]
  },
  {
   "cell_type": "code",
   "execution_count": null,
   "metadata": {
    "id": "7n4yKpq3tizE",
    "outputId": "53a3ff3e-8735-43ff-d195-822b4fef3221"
   },
   "outputs": [
    {
     "data": {
      "text/html": [
       "<div>\n",
       "<style scoped>\n",
       "    .dataframe tbody tr th:only-of-type {\n",
       "        vertical-align: middle;\n",
       "    }\n",
       "\n",
       "    .dataframe tbody tr th {\n",
       "        vertical-align: top;\n",
       "    }\n",
       "\n",
       "    .dataframe thead th {\n",
       "        text-align: right;\n",
       "    }\n",
       "</style>\n",
       "<table border=\"1\" class=\"dataframe\">\n",
       "  <thead>\n",
       "    <tr style=\"text-align: right;\">\n",
       "      <th></th>\n",
       "      <th>seq</th>\n",
       "      <th>item_bought</th>\n",
       "      <th>event_info</th>\n",
       "      <th>event_timestamp</th>\n",
       "      <th>event_type</th>\n",
       "      <th>time_diff</th>\n",
       "      <th>query</th>\n",
       "      <th>entities</th>\n",
       "    </tr>\n",
       "  </thead>\n",
       "  <tbody>\n",
       "    <tr>\n",
       "      <th>6839163</th>\n",
       "      <td>6994</td>\n",
       "      <td>NaN</td>\n",
       "      <td>984787</td>\n",
       "      <td>2019-10-12 18:54:21</td>\n",
       "      <td>view</td>\n",
       "      <td>25.0</td>\n",
       "      <td></td>\n",
       "      <td>NaN</td>\n",
       "    </tr>\n",
       "    <tr>\n",
       "      <th>11963835</th>\n",
       "      <td>98101</td>\n",
       "      <td>NaN</td>\n",
       "      <td>364310</td>\n",
       "      <td>2019-09-28 21:16:31</td>\n",
       "      <td>view</td>\n",
       "      <td>10.0</td>\n",
       "      <td></td>\n",
       "      <td>NaN</td>\n",
       "    </tr>\n",
       "    <tr>\n",
       "      <th>1424896</th>\n",
       "      <td>138466</td>\n",
       "      <td>NaN</td>\n",
       "      <td>LAMPADA LED HONDA CIVIC 99</td>\n",
       "      <td>2019-10-21 10:18:59</td>\n",
       "      <td>search</td>\n",
       "      <td>288.0</td>\n",
       "      <td>lampada led honda civic 99</td>\n",
       "      <td>[]</td>\n",
       "    </tr>\n",
       "    <tr>\n",
       "      <th>1828935</th>\n",
       "      <td>387228</td>\n",
       "      <td>NaN</td>\n",
       "      <td>1799758</td>\n",
       "      <td>2019-10-03 01:27:39</td>\n",
       "      <td>view</td>\n",
       "      <td>49.0</td>\n",
       "      <td></td>\n",
       "      <td>NaN</td>\n",
       "    </tr>\n",
       "    <tr>\n",
       "      <th>2032760</th>\n",
       "      <td>154670</td>\n",
       "      <td>NaN</td>\n",
       "      <td>243848</td>\n",
       "      <td>2019-10-15 18:20:03</td>\n",
       "      <td>view</td>\n",
       "      <td>14.0</td>\n",
       "      <td></td>\n",
       "      <td>NaN</td>\n",
       "    </tr>\n",
       "    <tr>\n",
       "      <th>6697734</th>\n",
       "      <td>257356</td>\n",
       "      <td>NaN</td>\n",
       "      <td>CORTA VENTO MERCEDES</td>\n",
       "      <td>2019-10-03 20:25:03</td>\n",
       "      <td>search</td>\n",
       "      <td>6.0</td>\n",
       "      <td>corta vento mercedes</td>\n",
       "      <td>[]</td>\n",
       "    </tr>\n",
       "    <tr>\n",
       "      <th>244324</th>\n",
       "      <td>155814</td>\n",
       "      <td>1278790.0</td>\n",
       "      <td>NaN</td>\n",
       "      <td>NaT</td>\n",
       "      <td>NaN</td>\n",
       "      <td>NaN</td>\n",
       "      <td></td>\n",
       "      <td>NaN</td>\n",
       "    </tr>\n",
       "    <tr>\n",
       "      <th>4728092</th>\n",
       "      <td>213232</td>\n",
       "      <td>NaN</td>\n",
       "      <td>PULA PIRATA</td>\n",
       "      <td>2019-10-03 15:53:31</td>\n",
       "      <td>search</td>\n",
       "      <td>7.0</td>\n",
       "      <td>pula pirata</td>\n",
       "      <td>[]</td>\n",
       "    </tr>\n",
       "    <tr>\n",
       "      <th>3481274</th>\n",
       "      <td>152042</td>\n",
       "      <td>NaN</td>\n",
       "      <td>CHUTEIRA CRIANCA 27 28</td>\n",
       "      <td>2019-10-03 16:30:14</td>\n",
       "      <td>search</td>\n",
       "      <td>7.0</td>\n",
       "      <td>chuteira crianca 27 28</td>\n",
       "      <td>[]</td>\n",
       "    </tr>\n",
       "    <tr>\n",
       "      <th>158968</th>\n",
       "      <td>238608</td>\n",
       "      <td>NaN</td>\n",
       "      <td>RELOJ CASIO</td>\n",
       "      <td>2019-10-18 15:46:15</td>\n",
       "      <td>search</td>\n",
       "      <td>NaN</td>\n",
       "      <td>reloj casio</td>\n",
       "      <td>[]</td>\n",
       "    </tr>\n",
       "  </tbody>\n",
       "</table>\n",
       "</div>"
      ],
      "text/plain": [
       "             seq  item_bought                  event_info     event_timestamp  \\\n",
       "6839163     6994          NaN                      984787 2019-10-12 18:54:21   \n",
       "11963835   98101          NaN                      364310 2019-09-28 21:16:31   \n",
       "1424896   138466          NaN  LAMPADA LED HONDA CIVIC 99 2019-10-21 10:18:59   \n",
       "1828935   387228          NaN                     1799758 2019-10-03 01:27:39   \n",
       "2032760   154670          NaN                      243848 2019-10-15 18:20:03   \n",
       "6697734   257356          NaN        CORTA VENTO MERCEDES 2019-10-03 20:25:03   \n",
       "244324    155814    1278790.0                         NaN                 NaT   \n",
       "4728092   213232          NaN                 PULA PIRATA 2019-10-03 15:53:31   \n",
       "3481274   152042          NaN      CHUTEIRA CRIANCA 27 28 2019-10-03 16:30:14   \n",
       "158968    238608          NaN                 RELOJ CASIO 2019-10-18 15:46:15   \n",
       "\n",
       "         event_type  time_diff                       query entities  \n",
       "6839163        view       25.0                                  NaN  \n",
       "11963835       view       10.0                                  NaN  \n",
       "1424896      search      288.0  lampada led honda civic 99       []  \n",
       "1828935        view       49.0                                  NaN  \n",
       "2032760        view       14.0                                  NaN  \n",
       "6697734      search        6.0        corta vento mercedes       []  \n",
       "244324          NaN        NaN                                  NaN  \n",
       "4728092      search        7.0                 pula pirata       []  \n",
       "3481274      search        7.0      chuteira crianca 27 28       []  \n",
       "158968       search        NaN                 reloj casio       []  "
      ]
     },
     "execution_count": 164,
     "metadata": {
      "tags": []
     },
     "output_type": "execute_result"
    }
   ],
   "source": [
    "train.sample(10)"
   ]
  },
  {
   "cell_type": "code",
   "execution_count": null,
   "metadata": {
    "id": "lrt0oIGHtizE"
   },
   "outputs": [],
   "source": [
    "# train_fn = 'train_for_nlp.pkl'\n",
    "# train_fp = os.path.join(interim_data_dir, train_fn)\n",
    "# train.to_pickle(train_fp)"
   ]
  },
  {
   "cell_type": "markdown",
   "metadata": {
    "id": "x3k06ZdPtizE"
   },
   "source": [
    "___"
   ]
  },
  {
   "cell_type": "code",
   "execution_count": null,
   "metadata": {
    "id": "M7zu1NrZtizE"
   },
   "outputs": [],
   "source": [
    "# train = pd.read_pickle(train_fp)"
   ]
  },
  {
   "cell_type": "code",
   "execution_count": null,
   "metadata": {
    "id": "Wk_wWobrtizE",
    "outputId": "640bfb3a-72f1-446f-b713-e4b8cfcce9ac"
   },
   "outputs": [
    {
     "data": {
      "text/html": [
       "<div>\n",
       "<style scoped>\n",
       "    .dataframe tbody tr th:only-of-type {\n",
       "        vertical-align: middle;\n",
       "    }\n",
       "\n",
       "    .dataframe tbody tr th {\n",
       "        vertical-align: top;\n",
       "    }\n",
       "\n",
       "    .dataframe thead th {\n",
       "        text-align: right;\n",
       "    }\n",
       "</style>\n",
       "<table border=\"1\" class=\"dataframe\">\n",
       "  <thead>\n",
       "    <tr style=\"text-align: right;\">\n",
       "      <th></th>\n",
       "      <th>item_id</th>\n",
       "      <th>title</th>\n",
       "      <th>domain_id</th>\n",
       "      <th>product_id</th>\n",
       "      <th>price</th>\n",
       "      <th>category_id</th>\n",
       "      <th>condition</th>\n",
       "    </tr>\n",
       "  </thead>\n",
       "  <tbody>\n",
       "    <tr>\n",
       "      <th>0</th>\n",
       "      <td>111260</td>\n",
       "      <td>Casa Sola En Venta Con Gran Patio Solo Pago De...</td>\n",
       "      <td>MLM-INDIVIDUAL_HOUSES_FOR_SALE</td>\n",
       "      <td>NaN</td>\n",
       "      <td>1150000.00</td>\n",
       "      <td>MLM170527</td>\n",
       "      <td>new</td>\n",
       "    </tr>\n",
       "    <tr>\n",
       "      <th>1</th>\n",
       "      <td>871377</td>\n",
       "      <td>Resident Evil Origins Collection Nintendo Swit...</td>\n",
       "      <td>MLM-VIDEO_GAMES</td>\n",
       "      <td>15270800.0</td>\n",
       "      <td>1392.83</td>\n",
       "      <td>MLM151595</td>\n",
       "      <td>new</td>\n",
       "    </tr>\n",
       "    <tr>\n",
       "      <th>2</th>\n",
       "      <td>490232</td>\n",
       "      <td>Falda De Imitación Piel Negra</td>\n",
       "      <td>MLM-SKIRTS</td>\n",
       "      <td>NaN</td>\n",
       "      <td>350.00</td>\n",
       "      <td>MLM7697</td>\n",
       "      <td>new</td>\n",
       "    </tr>\n",
       "    <tr>\n",
       "      <th>3</th>\n",
       "      <td>1150706</td>\n",
       "      <td>Powercolor Red Devil Radeon Rx 580 8gb Gddr5</td>\n",
       "      <td>MLM-GRAPHICS_CARDS</td>\n",
       "      <td>NaN</td>\n",
       "      <td>3200.00</td>\n",
       "      <td>MLM9761</td>\n",
       "      <td>used</td>\n",
       "    </tr>\n",
       "    <tr>\n",
       "      <th>4</th>\n",
       "      <td>934912</td>\n",
       "      <td>Laptop Hp Nx6320 Core Duo Con Puerto Db9 Windo...</td>\n",
       "      <td>MLM-NOTEBOOKS</td>\n",
       "      <td>NaN</td>\n",
       "      <td>1599.00</td>\n",
       "      <td>MLM1652</td>\n",
       "      <td>used</td>\n",
       "    </tr>\n",
       "  </tbody>\n",
       "</table>\n",
       "</div>"
      ],
      "text/plain": [
       "   item_id                                              title  \\\n",
       "0   111260  Casa Sola En Venta Con Gran Patio Solo Pago De...   \n",
       "1   871377  Resident Evil Origins Collection Nintendo Swit...   \n",
       "2   490232                      Falda De Imitación Piel Negra   \n",
       "3  1150706       Powercolor Red Devil Radeon Rx 580 8gb Gddr5   \n",
       "4   934912  Laptop Hp Nx6320 Core Duo Con Puerto Db9 Windo...   \n",
       "\n",
       "                        domain_id  product_id       price category_id  \\\n",
       "0  MLM-INDIVIDUAL_HOUSES_FOR_SALE         NaN  1150000.00   MLM170527   \n",
       "1                 MLM-VIDEO_GAMES  15270800.0     1392.83   MLM151595   \n",
       "2                      MLM-SKIRTS         NaN      350.00     MLM7697   \n",
       "3              MLM-GRAPHICS_CARDS         NaN     3200.00     MLM9761   \n",
       "4                   MLM-NOTEBOOKS         NaN     1599.00     MLM1652   \n",
       "\n",
       "  condition  \n",
       "0       new  \n",
       "1       new  \n",
       "2       new  \n",
       "3      used  \n",
       "4      used  "
      ]
     },
     "execution_count": 168,
     "metadata": {
      "tags": []
     },
     "output_type": "execute_result"
    }
   ],
   "source": [
    "item_data.head()"
   ]
  },
  {
   "cell_type": "code",
   "execution_count": null,
   "metadata": {
    "id": "ugGN8AqjtizE"
   },
   "outputs": [],
   "source": [
    "train = pd.merge(train, item_data[['item_id', 'domain_id']], left_on = 'item_bought', right_on = 'item_id', how = 'left')"
   ]
  },
  {
   "cell_type": "code",
   "execution_count": null,
   "metadata": {
    "id": "EFV780ErtizE"
   },
   "outputs": [],
   "source": [
    "train['country'] = train.domain_id.str[:3]"
   ]
  },
  {
   "cell_type": "code",
   "execution_count": null,
   "metadata": {
    "id": "skhYqGDZtizE"
   },
   "outputs": [],
   "source": [
    "views_sel = train.event_type == 'view'"
   ]
  },
  {
   "cell_type": "code",
   "execution_count": null,
   "metadata": {
    "id": "rsocQ6iItizE",
    "outputId": "15e24a6e-9170-41d5-8c2d-6b6db34af716"
   },
   "outputs": [
    {
     "data": {
      "text/html": [
       "<div>\n",
       "<style scoped>\n",
       "    .dataframe tbody tr th:only-of-type {\n",
       "        vertical-align: middle;\n",
       "    }\n",
       "\n",
       "    .dataframe tbody tr th {\n",
       "        vertical-align: top;\n",
       "    }\n",
       "\n",
       "    .dataframe thead th {\n",
       "        text-align: right;\n",
       "    }\n",
       "</style>\n",
       "<table border=\"1\" class=\"dataframe\">\n",
       "  <thead>\n",
       "    <tr style=\"text-align: right;\">\n",
       "      <th></th>\n",
       "      <th>seq</th>\n",
       "      <th>item_bought</th>\n",
       "      <th>event_info</th>\n",
       "      <th>event_timestamp</th>\n",
       "      <th>event_type</th>\n",
       "      <th>time_diff</th>\n",
       "      <th>query</th>\n",
       "      <th>entities</th>\n",
       "      <th>item_id</th>\n",
       "      <th>domain_id</th>\n",
       "      <th>country</th>\n",
       "    </tr>\n",
       "  </thead>\n",
       "  <tbody>\n",
       "    <tr>\n",
       "      <th>0</th>\n",
       "      <td>0</td>\n",
       "      <td>NaN</td>\n",
       "      <td>1786148</td>\n",
       "      <td>2019-10-19 11:25:42</td>\n",
       "      <td>view</td>\n",
       "      <td>NaN</td>\n",
       "      <td></td>\n",
       "      <td>NaN</td>\n",
       "      <td>NaN</td>\n",
       "      <td>NaN</td>\n",
       "      <td>NaN</td>\n",
       "    </tr>\n",
       "    <tr>\n",
       "      <th>1</th>\n",
       "      <td>0</td>\n",
       "      <td>NaN</td>\n",
       "      <td>1786148</td>\n",
       "      <td>2019-10-19 11:25:57</td>\n",
       "      <td>view</td>\n",
       "      <td>15.0</td>\n",
       "      <td></td>\n",
       "      <td>NaN</td>\n",
       "      <td>NaN</td>\n",
       "      <td>NaN</td>\n",
       "      <td>NaN</td>\n",
       "    </tr>\n",
       "    <tr>\n",
       "      <th>2</th>\n",
       "      <td>0</td>\n",
       "      <td>NaN</td>\n",
       "      <td>RELOGIO SMARTWATCH</td>\n",
       "      <td>2019-10-19 11:26:07</td>\n",
       "      <td>search</td>\n",
       "      <td>10.0</td>\n",
       "      <td>relogio smartwatch</td>\n",
       "      <td>[]</td>\n",
       "      <td>NaN</td>\n",
       "      <td>NaN</td>\n",
       "      <td>NaN</td>\n",
       "    </tr>\n",
       "    <tr>\n",
       "      <th>3</th>\n",
       "      <td>0</td>\n",
       "      <td>NaN</td>\n",
       "      <td>1615991</td>\n",
       "      <td>2019-10-19 11:27:26</td>\n",
       "      <td>view</td>\n",
       "      <td>79.0</td>\n",
       "      <td></td>\n",
       "      <td>NaN</td>\n",
       "      <td>NaN</td>\n",
       "      <td>NaN</td>\n",
       "      <td>NaN</td>\n",
       "    </tr>\n",
       "    <tr>\n",
       "      <th>4</th>\n",
       "      <td>0</td>\n",
       "      <td>NaN</td>\n",
       "      <td>1615991</td>\n",
       "      <td>2019-10-19 11:28:36</td>\n",
       "      <td>view</td>\n",
       "      <td>70.0</td>\n",
       "      <td></td>\n",
       "      <td>NaN</td>\n",
       "      <td>NaN</td>\n",
       "      <td>NaN</td>\n",
       "      <td>NaN</td>\n",
       "    </tr>\n",
       "    <tr>\n",
       "      <th>...</th>\n",
       "      <td>...</td>\n",
       "      <td>...</td>\n",
       "      <td>...</td>\n",
       "      <td>...</td>\n",
       "      <td>...</td>\n",
       "      <td>...</td>\n",
       "      <td>...</td>\n",
       "      <td>...</td>\n",
       "      <td>...</td>\n",
       "      <td>...</td>\n",
       "      <td>...</td>\n",
       "    </tr>\n",
       "    <tr>\n",
       "      <th>12412324</th>\n",
       "      <td>413162</td>\n",
       "      <td>NaN</td>\n",
       "      <td>792798</td>\n",
       "      <td>2019-10-07 10:49:32</td>\n",
       "      <td>view</td>\n",
       "      <td>8076.0</td>\n",
       "      <td></td>\n",
       "      <td>NaN</td>\n",
       "      <td>NaN</td>\n",
       "      <td>NaN</td>\n",
       "      <td>NaN</td>\n",
       "    </tr>\n",
       "    <tr>\n",
       "      <th>12412325</th>\n",
       "      <td>413162</td>\n",
       "      <td>NaN</td>\n",
       "      <td>258196</td>\n",
       "      <td>2019-10-07 10:52:21</td>\n",
       "      <td>view</td>\n",
       "      <td>169.0</td>\n",
       "      <td></td>\n",
       "      <td>NaN</td>\n",
       "      <td>NaN</td>\n",
       "      <td>NaN</td>\n",
       "      <td>NaN</td>\n",
       "    </tr>\n",
       "    <tr>\n",
       "      <th>12412326</th>\n",
       "      <td>413162</td>\n",
       "      <td>NaN</td>\n",
       "      <td>12716</td>\n",
       "      <td>2019-10-07 10:53:07</td>\n",
       "      <td>view</td>\n",
       "      <td>46.0</td>\n",
       "      <td></td>\n",
       "      <td>NaN</td>\n",
       "      <td>NaN</td>\n",
       "      <td>NaN</td>\n",
       "      <td>NaN</td>\n",
       "    </tr>\n",
       "    <tr>\n",
       "      <th>12412327</th>\n",
       "      <td>413162</td>\n",
       "      <td>NaN</td>\n",
       "      <td>258196</td>\n",
       "      <td>2019-10-07 10:55:32</td>\n",
       "      <td>view</td>\n",
       "      <td>145.0</td>\n",
       "      <td></td>\n",
       "      <td>NaN</td>\n",
       "      <td>NaN</td>\n",
       "      <td>NaN</td>\n",
       "      <td>NaN</td>\n",
       "    </tr>\n",
       "    <tr>\n",
       "      <th>12412328</th>\n",
       "      <td>413162</td>\n",
       "      <td>1212472.0</td>\n",
       "      <td>NaN</td>\n",
       "      <td>NaT</td>\n",
       "      <td>NaN</td>\n",
       "      <td>NaN</td>\n",
       "      <td></td>\n",
       "      <td>NaN</td>\n",
       "      <td>1212472.0</td>\n",
       "      <td>MLB-SKIN_CARE_SUPPLIES</td>\n",
       "      <td>MLB</td>\n",
       "    </tr>\n",
       "  </tbody>\n",
       "</table>\n",
       "<p>12412329 rows × 11 columns</p>\n",
       "</div>"
      ],
      "text/plain": [
       "             seq  item_bought          event_info     event_timestamp  \\\n",
       "0              0          NaN             1786148 2019-10-19 11:25:42   \n",
       "1              0          NaN             1786148 2019-10-19 11:25:57   \n",
       "2              0          NaN  RELOGIO SMARTWATCH 2019-10-19 11:26:07   \n",
       "3              0          NaN             1615991 2019-10-19 11:27:26   \n",
       "4              0          NaN             1615991 2019-10-19 11:28:36   \n",
       "...          ...          ...                 ...                 ...   \n",
       "12412324  413162          NaN              792798 2019-10-07 10:49:32   \n",
       "12412325  413162          NaN              258196 2019-10-07 10:52:21   \n",
       "12412326  413162          NaN               12716 2019-10-07 10:53:07   \n",
       "12412327  413162          NaN              258196 2019-10-07 10:55:32   \n",
       "12412328  413162    1212472.0                 NaN                 NaT   \n",
       "\n",
       "         event_type  time_diff               query entities    item_id  \\\n",
       "0              view        NaN                          NaN        NaN   \n",
       "1              view       15.0                          NaN        NaN   \n",
       "2            search       10.0  relogio smartwatch       []        NaN   \n",
       "3              view       79.0                          NaN        NaN   \n",
       "4              view       70.0                          NaN        NaN   \n",
       "...             ...        ...                 ...      ...        ...   \n",
       "12412324       view     8076.0                          NaN        NaN   \n",
       "12412325       view      169.0                          NaN        NaN   \n",
       "12412326       view       46.0                          NaN        NaN   \n",
       "12412327       view      145.0                          NaN        NaN   \n",
       "12412328        NaN        NaN                          NaN  1212472.0   \n",
       "\n",
       "                       domain_id country  \n",
       "0                            NaN     NaN  \n",
       "1                            NaN     NaN  \n",
       "2                            NaN     NaN  \n",
       "3                            NaN     NaN  \n",
       "4                            NaN     NaN  \n",
       "...                          ...     ...  \n",
       "12412324                     NaN     NaN  \n",
       "12412325                     NaN     NaN  \n",
       "12412326                     NaN     NaN  \n",
       "12412327                     NaN     NaN  \n",
       "12412328  MLB-SKIN_CARE_SUPPLIES     MLB  \n",
       "\n",
       "[12412329 rows x 11 columns]"
      ]
     },
     "execution_count": 176,
     "metadata": {
      "tags": []
     },
     "output_type": "execute_result"
    }
   ],
   "source": [
    "train = train[~views_sel].copy() # searches & buys only"
   ]
  },
  {
   "cell_type": "code",
   "execution_count": null,
   "metadata": {
    "id": "LsSwb4QqtizE"
   },
   "outputs": [],
   "source": []
  },
  {
   "cell_type": "code",
   "execution_count": null,
   "metadata": {
    "id": "dO1HsdIUtizE"
   },
   "outputs": [],
   "source": []
  },
  {
   "cell_type": "code",
   "execution_count": null,
   "metadata": {
    "id": "gmVgI45RtizE"
   },
   "outputs": [],
   "source": []
  },
  {
   "cell_type": "code",
   "execution_count": null,
   "metadata": {
    "id": "KF1BUPpItizE"
   },
   "outputs": [],
   "source": []
  },
  {
   "cell_type": "code",
   "execution_count": null,
   "metadata": {
    "id": "1PXki5WAtizE"
   },
   "outputs": [],
   "source": []
  },
  {
   "cell_type": "code",
   "execution_count": null,
   "metadata": {
    "id": "_C-AN_cZtizE"
   },
   "outputs": [],
   "source": []
  },
  {
   "cell_type": "markdown",
   "metadata": {
    "id": "l0ZSihcutizE"
   },
   "source": []
  }
 ],
 "metadata": {
  "accelerator": "GPU",
  "colab": {
   "collapsed_sections": [
    "ZYgTWtcttizB",
    "gQCmN2yatizB",
    "Vu8dzVkptizD",
    "-HRscGm3tizD"
   ],
   "name": "SEARCH_validation_prediction.ipynb",
   "provenance": []
  },
  "kernelspec": {
   "display_name": "Python 3",
   "language": "python",
   "name": "python3"
  },
  "language_info": {
   "codemirror_mode": {
    "name": "ipython",
    "version": 3
   },
   "file_extension": ".py",
   "mimetype": "text/x-python",
   "name": "python",
   "nbconvert_exporter": "python",
   "pygments_lexer": "ipython3",
   "version": "3.7.6"
  }
 },
 "nbformat": 4,
 "nbformat_minor": 4
}
