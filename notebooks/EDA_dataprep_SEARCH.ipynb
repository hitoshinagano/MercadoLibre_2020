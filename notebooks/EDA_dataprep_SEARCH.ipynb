{
 "cells": [
  {
   "cell_type": "markdown",
   "metadata": {},
   "source": [
    "# EDA - Search"
   ]
  },
  {
   "cell_type": "markdown",
   "metadata": {},
   "source": [
    "## autoreload"
   ]
  },
  {
   "cell_type": "code",
   "execution_count": 1,
   "metadata": {},
   "outputs": [],
   "source": [
    "%load_ext autoreload\n",
    "%autoreload 2"
   ]
  },
  {
   "cell_type": "markdown",
   "metadata": {},
   "source": [
    "## dir setup"
   ]
  },
  {
   "cell_type": "code",
   "execution_count": 2,
   "metadata": {},
   "outputs": [
    {
     "data": {
      "text/plain": [
       "True"
      ]
     },
     "execution_count": 2,
     "metadata": {},
     "output_type": "execute_result"
    }
   ],
   "source": [
    "from dotenv import load_dotenv, find_dotenv\n",
    "import os\n",
    "\n",
    "this_file_path = os.path.dirname(os.path.abspath(\"__file__\"))\n",
    "# if script (not notebook)...\n",
    "# project_dir = os.path.join(os.path.dirname(__file__), os.pardir)\n",
    "\n",
    "# project directory\n",
    "project_dir = os.path.join(this_file_path, os.pardir)\n",
    "\n",
    "# find .env automagically by walking up directories until it's found\n",
    "dotenv_path = find_dotenv()\n",
    "\n",
    "# load up the entries as environment variables\n",
    "load_dotenv(dotenv_path)"
   ]
  },
  {
   "cell_type": "code",
   "execution_count": 3,
   "metadata": {},
   "outputs": [],
   "source": [
    "raw_data_dir = os.path.join(project_dir, os.environ.get(\"RAW_DATA_DIR\"))\n",
    "processed_data_dir = os.path.join(project_dir, os.environ.get(\"PROCESSED_DATA_DIR\"))\n",
    "interim_data_dir = os.path.join(project_dir, os.environ.get(\"INTERIM_DATA_DIR\"))\n",
    "wordvecs_data_dir = os.path.join(project_dir, os.environ.get(\"WORDVECS_DATA_DIR\"))\n",
    "figures_dir = os.path.join(project_dir, os.environ.get(\"FIGURES_DIR\"))\n",
    "reports_dir = os.path.join(project_dir, os.environ.get(\"REPORTS_DIR\"))\n",
    "cv_dir = os.path.join(project_dir, os.environ.get(\"CV_DIR\"))\n",
    "models_dir = os.path.join(project_dir, os.environ.get(\"MODELS_DIR\"))"
   ]
  },
  {
   "cell_type": "markdown",
   "metadata": {},
   "source": [
    "## imports"
   ]
  },
  {
   "cell_type": "code",
   "execution_count": 4,
   "metadata": {},
   "outputs": [],
   "source": [
    "import numpy as np\n",
    "from datetime import datetime"
   ]
  },
  {
   "cell_type": "code",
   "execution_count": 5,
   "metadata": {},
   "outputs": [],
   "source": [
    "import pandas as pd\n",
    "pd.set_option('max_rows', 100)\n",
    "# pd.set_option('max_columns', None)\n",
    "# pd.options.mode.chained_assignment = None  # default='warn'"
   ]
  },
  {
   "cell_type": "code",
   "execution_count": 6,
   "metadata": {},
   "outputs": [
    {
     "name": "stderr",
     "output_type": "stream",
     "text": [
      "/Users/hitoshinagano/.virtualenvs/tensorflow2/lib/python3.7/site-packages/tqdm/std.py:668: FutureWarning: The Panel class is removed from pandas. Accessing it from the top-level namespace will also be removed in the next version\n",
      "  from pandas import Panel\n"
     ]
    }
   ],
   "source": [
    "from tqdm import tqdm\n",
    "tqdm.pandas()"
   ]
  },
  {
   "cell_type": "code",
   "execution_count": 7,
   "metadata": {},
   "outputs": [],
   "source": [
    "# import scipy.sparse as sparse\n",
    "# import implicit"
   ]
  },
  {
   "cell_type": "code",
   "execution_count": 8,
   "metadata": {},
   "outputs": [],
   "source": [
    "# from sklearn.metrics import ndcg_score"
   ]
  },
  {
   "cell_type": "code",
   "execution_count": 9,
   "metadata": {},
   "outputs": [],
   "source": [
    "# from sklearn.model_selection import ParameterGrid"
   ]
  },
  {
   "cell_type": "code",
   "execution_count": 10,
   "metadata": {},
   "outputs": [],
   "source": [
    "# import mlflow"
   ]
  },
  {
   "cell_type": "code",
   "execution_count": 11,
   "metadata": {},
   "outputs": [],
   "source": [
    "# import pickle"
   ]
  },
  {
   "cell_type": "code",
   "execution_count": 12,
   "metadata": {},
   "outputs": [],
   "source": [
    "import spacy\n",
    "\n",
    "port_nlp_fn = 'nilc50skip'\n",
    "port_nlp_fp = os.path.join(wordvecs_data_dir, port_nlp_fn) \n",
    "port_nlp = spacy.load(port_nlp_fp)\n",
    "\n",
    "espa_nlp_fn = 'suc30fast'\n",
    "espa_nlp_fp = os.path.join(wordvecs_data_dir, espa_nlp_fn) \n",
    "espa_nlp = spacy.load(espa_nlp_fp)"
   ]
  },
  {
   "cell_type": "code",
   "execution_count": 13,
   "metadata": {},
   "outputs": [],
   "source": [
    "# nlp = spacy.load('en_core_web_sm')\n",
    "\n",
    "# from spacy_langdetect import LanguageDetector\n",
    "# nlp.add_pipe(LanguageDetector(), name='language_detector', last=True)"
   ]
  },
  {
   "cell_type": "code",
   "execution_count": 14,
   "metadata": {},
   "outputs": [],
   "source": [
    "from langdetect import detect"
   ]
  },
  {
   "cell_type": "markdown",
   "metadata": {},
   "source": [
    "## project imports"
   ]
  },
  {
   "cell_type": "code",
   "execution_count": 15,
   "metadata": {},
   "outputs": [],
   "source": [
    "import sys\n",
    "sys.path.insert(0, '..')"
   ]
  },
  {
   "cell_type": "code",
   "execution_count": 16,
   "metadata": {},
   "outputs": [],
   "source": [
    "from src.features import *\n",
    "from src.models import *"
   ]
  },
  {
   "cell_type": "markdown",
   "metadata": {},
   "source": [
    "* remove buy events: no additional relevance attributed to buy\n",
    "* remove event timestamp: no additional relevance attributed to recency\n",
    "* remove search events: no additional relevance attributed to search\n",
    "* aggregates counts - higher relevance attributed to more views"
   ]
  },
  {
   "cell_type": "markdown",
   "metadata": {},
   "source": [
    "# exploration"
   ]
  },
  {
   "cell_type": "code",
   "execution_count": 17,
   "metadata": {},
   "outputs": [],
   "source": [
    "train_fn = 'train_dataset.pkl'\n",
    "test_fn = 'test_dataset.pkl'\n",
    "train, test = read_processed(train_fn, test_fn)"
   ]
  },
  {
   "cell_type": "code",
   "execution_count": 18,
   "metadata": {},
   "outputs": [],
   "source": [
    "true_fn = 'true.pkl'\n",
    "true_fp = os.path.join(processed_data_dir, true_fn)\n",
    "true_df = pd.read_pickle(true_fp)\n",
    "\n",
    "item_data_fn = 'item_data.jl.gz'\n",
    "item_data = pd.read_json(os.path.join(raw_data_dir, item_data_fn), lines=True)\n",
    "item_domain = item_data[['item_id', 'domain_id']]"
   ]
  },
  {
   "cell_type": "markdown",
   "metadata": {},
   "source": [
    "#### create nlp objects for titles in item_data"
   ]
  },
  {
   "cell_type": "code",
   "execution_count": 17,
   "metadata": {},
   "outputs": [],
   "source": [
    "item_data['title_lower'] = item_data.title.str.lower()\n",
    "item_data_unique = item_data.title_lower.drop_duplicates().to_frame()"
   ]
  },
  {
   "cell_type": "code",
   "execution_count": 21,
   "metadata": {},
   "outputs": [
    {
     "name": "stderr",
     "output_type": "stream",
     "text": [
      "100%|██████████| 1925104/1925104 [03:31<00:00, 9109.84it/s] \n"
     ]
    }
   ],
   "source": [
    "def emb_vectors_port(x):\n",
    "    v = port_nlp(x)\n",
    "    return (v.vector / v.vector_norm).astype(np.float16)\n",
    "\n",
    "item_data_unique['port'] = item_data_unique.title_lower.progress_apply(emb_vectors_port)"
   ]
  },
  {
   "cell_type": "code",
   "execution_count": 24,
   "metadata": {},
   "outputs": [
    {
     "name": "stderr",
     "output_type": "stream",
     "text": [
      "100%|██████████| 1925104/1925104 [03:51<00:00, 8313.94it/s]\n"
     ]
    }
   ],
   "source": [
    "def emb_vectors_espa(x):\n",
    "    v = espa_nlp(x)\n",
    "    return (v.vector / v.vector_norm).astype(np.float16)\n",
    "\n",
    "item_data_unique['espa'] = item_data_unique.title_lower.progress_apply(emb_vectors_espa)"
   ]
  },
  {
   "cell_type": "code",
   "execution_count": 77,
   "metadata": {},
   "outputs": [
    {
     "data": {
      "text/html": [
       "<div>\n",
       "<style scoped>\n",
       "    .dataframe tbody tr th:only-of-type {\n",
       "        vertical-align: middle;\n",
       "    }\n",
       "\n",
       "    .dataframe tbody tr th {\n",
       "        vertical-align: top;\n",
       "    }\n",
       "\n",
       "    .dataframe thead th {\n",
       "        text-align: right;\n",
       "    }\n",
       "</style>\n",
       "<table border=\"1\" class=\"dataframe\">\n",
       "  <thead>\n",
       "    <tr style=\"text-align: right;\">\n",
       "      <th></th>\n",
       "      <th>title_lower</th>\n",
       "      <th>port</th>\n",
       "      <th>espa</th>\n",
       "    </tr>\n",
       "  </thead>\n",
       "  <tbody>\n",
       "    <tr>\n",
       "      <th>0</th>\n",
       "      <td>casa sola en venta con gran patio solo pago de...</td>\n",
       "      <td>[0.1279, 0.02943, 0.10016, 0.0578, -0.1276, -0...</td>\n",
       "      <td>[-0.1664, -0.03888, 0.03452, 0.0887, 0.0623, 0...</td>\n",
       "    </tr>\n",
       "    <tr>\n",
       "      <th>1</th>\n",
       "      <td>resident evil origins collection nintendo swit...</td>\n",
       "      <td>[0.0374, -0.2139, 0.2559, -0.09314, -0.1992, 0...</td>\n",
       "      <td>[0.0116, -0.02869, -0.0703, 0.3406, 0.1633, -0...</td>\n",
       "    </tr>\n",
       "    <tr>\n",
       "      <th>2</th>\n",
       "      <td>falda de imitación piel negra</td>\n",
       "      <td>[-0.02623, 0.03317, -0.0725, -0.06097, -0.031,...</td>\n",
       "      <td>[-0.1075, 0.2355, 0.01142, 0.0687, 0.09735, 0....</td>\n",
       "    </tr>\n",
       "    <tr>\n",
       "      <th>3</th>\n",
       "      <td>powercolor red devil radeon rx 580 8gb gddr5</td>\n",
       "      <td>[0.129, -0.07404, 0.2448, -0.06235, -0.06555, ...</td>\n",
       "      <td>[0.1323, 0.001538, -0.2064, 0.4216, 0.1107, -0...</td>\n",
       "    </tr>\n",
       "    <tr>\n",
       "      <th>4</th>\n",
       "      <td>laptop hp nx6320 core duo con puerto db9 windo...</td>\n",
       "      <td>[0.1315, -0.1361, 0.2778, -0.0952, -0.1708, 0....</td>\n",
       "      <td>[0.185, -0.008896, -0.2537, 0.391, 0.1273, -0....</td>\n",
       "    </tr>\n",
       "    <tr>\n",
       "      <th>...</th>\n",
       "      <td>...</td>\n",
       "      <td>...</td>\n",
       "      <td>...</td>\n",
       "    </tr>\n",
       "    <tr>\n",
       "      <th>2102271</th>\n",
       "      <td>aparador elétrico barba perna nova bivolt reca...</td>\n",
       "      <td>[-0.1031, 0.04428, -0.09937, -0.0968, -0.11395...</td>\n",
       "      <td>[-0.07697, 0.1261, -0.067, 0.236, 0.006966, -0...</td>\n",
       "    </tr>\n",
       "    <tr>\n",
       "      <th>2102272</th>\n",
       "      <td>carrinho de bebê stoke</td>\n",
       "      <td>[0.2024, 0.2474, 0.10767, -0.217, -0.2332, -0....</td>\n",
       "      <td>[-0.1051, -0.1318, 0.2052, 0.03458, -0.1254, -...</td>\n",
       "    </tr>\n",
       "    <tr>\n",
       "      <th>2102273</th>\n",
       "      <td>grelha para hambúrguer preta com cabo em madei...</td>\n",
       "      <td>[-0.215, -0.01633, 0.10004, -0.205, 0.0761, -0...</td>\n",
       "      <td>[-0.035, 0.193, 0.1982, 0.2708, 0.013626, -0.1...</td>\n",
       "    </tr>\n",
       "    <tr>\n",
       "      <th>2102274</th>\n",
       "      <td>meia tam 7/8 anti embolia trombose antitrombo</td>\n",
       "      <td>[-0.0987, 0.0804, -0.1415, -0.1965, -0.258, -0...</td>\n",
       "      <td>[-0.065, 0.301, 0.1938, 0.353, -0.02925, 0.007...</td>\n",
       "    </tr>\n",
       "    <tr>\n",
       "      <th>2102275</th>\n",
       "      <td>pano de boca cremer menina luxo bordado c/3 und</td>\n",
       "      <td>[-0.03394, 0.04376, 0.0742, -0.02483, -0.05072...</td>\n",
       "      <td>[-0.1213, 0.1087, 0.05972, 0.1531, 0.126, -0.1...</td>\n",
       "    </tr>\n",
       "  </tbody>\n",
       "</table>\n",
       "<p>1925104 rows × 3 columns</p>\n",
       "</div>"
      ],
      "text/plain": [
       "                                               title_lower  \\\n",
       "0        casa sola en venta con gran patio solo pago de...   \n",
       "1        resident evil origins collection nintendo swit...   \n",
       "2                            falda de imitación piel negra   \n",
       "3             powercolor red devil radeon rx 580 8gb gddr5   \n",
       "4        laptop hp nx6320 core duo con puerto db9 windo...   \n",
       "...                                                    ...   \n",
       "2102271  aparador elétrico barba perna nova bivolt reca...   \n",
       "2102272                             carrinho de bebê stoke   \n",
       "2102273  grelha para hambúrguer preta com cabo em madei...   \n",
       "2102274      meia tam 7/8 anti embolia trombose antitrombo   \n",
       "2102275    pano de boca cremer menina luxo bordado c/3 und   \n",
       "\n",
       "                                                      port  \\\n",
       "0        [0.1279, 0.02943, 0.10016, 0.0578, -0.1276, -0...   \n",
       "1        [0.0374, -0.2139, 0.2559, -0.09314, -0.1992, 0...   \n",
       "2        [-0.02623, 0.03317, -0.0725, -0.06097, -0.031,...   \n",
       "3        [0.129, -0.07404, 0.2448, -0.06235, -0.06555, ...   \n",
       "4        [0.1315, -0.1361, 0.2778, -0.0952, -0.1708, 0....   \n",
       "...                                                    ...   \n",
       "2102271  [-0.1031, 0.04428, -0.09937, -0.0968, -0.11395...   \n",
       "2102272  [0.2024, 0.2474, 0.10767, -0.217, -0.2332, -0....   \n",
       "2102273  [-0.215, -0.01633, 0.10004, -0.205, 0.0761, -0...   \n",
       "2102274  [-0.0987, 0.0804, -0.1415, -0.1965, -0.258, -0...   \n",
       "2102275  [-0.03394, 0.04376, 0.0742, -0.02483, -0.05072...   \n",
       "\n",
       "                                                      espa  \n",
       "0        [-0.1664, -0.03888, 0.03452, 0.0887, 0.0623, 0...  \n",
       "1        [0.0116, -0.02869, -0.0703, 0.3406, 0.1633, -0...  \n",
       "2        [-0.1075, 0.2355, 0.01142, 0.0687, 0.09735, 0....  \n",
       "3        [0.1323, 0.001538, -0.2064, 0.4216, 0.1107, -0...  \n",
       "4        [0.185, -0.008896, -0.2537, 0.391, 0.1273, -0....  \n",
       "...                                                    ...  \n",
       "2102271  [-0.07697, 0.1261, -0.067, 0.236, 0.006966, -0...  \n",
       "2102272  [-0.1051, -0.1318, 0.2052, 0.03458, -0.1254, -...  \n",
       "2102273  [-0.035, 0.193, 0.1982, 0.2708, 0.013626, -0.1...  \n",
       "2102274  [-0.065, 0.301, 0.1938, 0.353, -0.02925, 0.007...  \n",
       "2102275  [-0.1213, 0.1087, 0.05972, 0.1531, 0.126, -0.1...  \n",
       "\n",
       "[1925104 rows x 3 columns]"
      ]
     },
     "execution_count": 77,
     "metadata": {},
     "output_type": "execute_result"
    }
   ],
   "source": [
    "item_data_unique"
   ]
  },
  {
   "cell_type": "code",
   "execution_count": 78,
   "metadata": {},
   "outputs": [],
   "source": [
    "# saving interim item_data_unique\n",
    "\n",
    "# item_data_unique_fn = 'item_data_unique.pkl'\n",
    "# item_data_unique_fp = os.path.join(interim_data_dir, item_data_unique_fn)\n",
    "# item_data_unique.to_pickle(item_data_unique_fp)"
   ]
  },
  {
   "cell_type": "code",
   "execution_count": 21,
   "metadata": {},
   "outputs": [],
   "source": [
    "item_data_unique_fn = 'item_data_unique.pkl'\n",
    "item_data_unique_fp = os.path.join(interim_data_dir, item_data_unique_fn)\n",
    "item_data_unique = pd.read_pickle(item_data_unique_fp)"
   ]
  },
  {
   "cell_type": "code",
   "execution_count": 15,
   "metadata": {},
   "outputs": [],
   "source": [
    "# item_data_unique['lang'] = item_data_unique.title_lower.progress_apply(lambda x: nlp(' '.join(x.split()[:3]))._.language)\n",
    "# item_data_unique['lang'] = item_data_unique.title_lower.progress_apply(lambda x: nlp(x)._.language)"
   ]
  },
  {
   "cell_type": "code",
   "execution_count": 27,
   "metadata": {},
   "outputs": [],
   "source": [
    "def safe_detect(txt):\n",
    "    try:\n",
    "        return detect(txt)\n",
    "    except:\n",
    "        return 'detect error'"
   ]
  },
  {
   "cell_type": "code",
   "execution_count": 28,
   "metadata": {},
   "outputs": [
    {
     "data": {
      "text/html": [
       "<table style=\"border: 2px solid white;\">\n",
       "<tr>\n",
       "<td style=\"vertical-align: top; border: 0px solid white\">\n",
       "<h3 style=\"text-align: left;\">Client</h3>\n",
       "<ul style=\"text-align: left; list-style: none; margin: 0; padding: 0;\">\n",
       "  <li><b>Scheduler: </b>tcp://127.0.0.1:57861</li>\n",
       "  <li><b>Dashboard: </b><a href='http://127.0.0.1:8787/status' target='_blank'>http://127.0.0.1:8787/status</a></li>\n",
       "</ul>\n",
       "</td>\n",
       "<td style=\"vertical-align: top; border: 0px solid white\">\n",
       "<h3 style=\"text-align: left;\">Cluster</h3>\n",
       "<ul style=\"text-align: left; list-style:none; margin: 0; padding: 0;\">\n",
       "  <li><b>Workers: </b>4</li>\n",
       "  <li><b>Cores: </b>8</li>\n",
       "  <li><b>Memory: </b>17.18 GB</li>\n",
       "</ul>\n",
       "</td>\n",
       "</tr>\n",
       "</table>"
      ],
      "text/plain": [
       "<Client: 'tcp://127.0.0.1:57861' processes=4 threads=8, memory=17.18 GB>"
      ]
     },
     "execution_count": 28,
     "metadata": {},
     "output_type": "execute_result"
    }
   ],
   "source": [
    "import dask.dataframe as dd\n",
    "from dask.distributed import Client\n",
    "client = Client()\n",
    "client"
   ]
  },
  {
   "cell_type": "code",
   "execution_count": 29,
   "metadata": {},
   "outputs": [],
   "source": [
    "item_data_unique_dd = dd.from_pandas(item_data_unique[['title_lower']], npartitions = 8)\n",
    "item_data_unique_dd['lang'] = item_data_unique_dd.title_lower.apply(safe_detect, meta=('title_lower', 'object'))"
   ]
  },
  {
   "cell_type": "code",
   "execution_count": null,
   "metadata": {},
   "outputs": [],
   "source": [
    "%%time\n",
    "item_data_unique_lang = item_data_unique_dd.compute()"
   ]
  },
  {
   "cell_type": "code",
   "execution_count": 65,
   "metadata": {},
   "outputs": [
    {
     "data": {
      "text/plain": [
       "es    10312\n",
       "en     2306\n",
       "it     1764\n",
       "pt     1553\n",
       "ca     1271\n",
       "Name: lang, dtype: int64"
      ]
     },
     "execution_count": 65,
     "metadata": {},
     "output_type": "execute_result"
    }
   ],
   "source": [
    "item_data_unique_lang.lang.value_counts().head()"
   ]
  },
  {
   "cell_type": "code",
   "execution_count": null,
   "metadata": {},
   "outputs": [],
   "source": []
  },
  {
   "cell_type": "code",
   "execution_count": null,
   "metadata": {},
   "outputs": [],
   "source": []
  },
  {
   "cell_type": "markdown",
   "metadata": {},
   "source": [
    "______"
   ]
  },
  {
   "cell_type": "code",
   "execution_count": 30,
   "metadata": {},
   "outputs": [],
   "source": [
    "# import dask.dataframe as dd\n",
    "# from dask.distributed import Client\n",
    "# client = Client()\n",
    "# client\n",
    "\n",
    "# item_data_unique_dd = dd.from_pandas(item_data_unique, npartitions = 4)\n",
    "\n",
    "# @delayed\n",
    "# def add_spacy(df_p):\n",
    "#     df = df_p.copy()\n",
    "#     # df['port_nlp'] = df.title_lower.apply(lambda x: port_nlp(x))\n",
    "#     df['port_nlp'] = df.title_lower.apply(port_nlp)\n",
    "#     return df\n",
    "\n",
    "# item_data_unique_nlp = list()\n",
    "# for df_p in np.array_split(item_data_unique, n_workers):\n",
    "#     item_data_unique_nlp.append(add_spacy(df_p))\n",
    "\n",
    "# item_data_unique_nlp = compute(*item_data_unique_nlp)\n",
    "# # OSError: [E050] Can't find model 'pt_core_news_md.vectors'. \n",
    "# #     It doesn't seem to be a shortcut link, a Python package or a valid path to a data directory."
   ]
  },
  {
   "cell_type": "code",
   "execution_count": null,
   "metadata": {},
   "outputs": [],
   "source": []
  },
  {
   "cell_type": "code",
   "execution_count": null,
   "metadata": {},
   "outputs": [],
   "source": []
  },
  {
   "cell_type": "code",
   "execution_count": 16,
   "metadata": {},
   "outputs": [],
   "source": [
    "train['event_info'] = train.event_info.fillna(train.item_bought)"
   ]
  },
  {
   "cell_type": "code",
   "execution_count": 18,
   "metadata": {},
   "outputs": [
    {
     "name": "stdout",
     "output_type": "stream",
     "text": [
      "train shape: (12412329, 6)\n",
      "train/test shapes: (3976666, 6) (970217, 5)\n"
     ]
    }
   ],
   "source": [
    "# validation = 0.2 # 0.2: 20% of original train will be test\n",
    "# keep_train = 0.6  # 0.6: 60% of train for validation\n",
    "\n",
    "# validation = 0.2 \n",
    "# keep_train = 0.1  \n",
    "\n",
    "validation = 0.2 \n",
    "keep_train = 0.4 \n",
    "\n",
    "if validation:\n",
    "    train_red, test_red = shrink_and_split(train, keep_train = keep_train, validation = validation)"
   ]
  },
  {
   "cell_type": "code",
   "execution_count": 19,
   "metadata": {},
   "outputs": [],
   "source": [
    "# param = {'buy_weight': 200,\n",
    "#  'regularization': 0.1,\n",
    "#  'iterations': 10,\n",
    "#  'factors': 128,\n",
    "#  'alpha_val': 200}"
   ]
  },
  {
   "cell_type": "code",
   "execution_count": 20,
   "metadata": {},
   "outputs": [],
   "source": [
    "test_offset, test_shifted_seq_vals, train_test = join_prepare_train_test(train_red, test_red, buy_weight = -1, return_search = True)\n",
    "# model, seq_map, event_info_map, sparse_user_item = fit_implicit_model(train_test, **param)\n",
    "# pred = predict_implicit_model(model, sparse_user_item, \n",
    "#                               seq_map, event_info_map, test_shifted_seq_vals, \n",
    "#                               10, test_offset, \n",
    "#                               validation = True, true_df = true_df, item_domain = item_domain)"
   ]
  },
  {
   "cell_type": "code",
   "execution_count": 21,
   "metadata": {},
   "outputs": [],
   "source": []
  },
  {
   "cell_type": "code",
   "execution_count": 90,
   "metadata": {},
   "outputs": [],
   "source": [
    "# existem titles com igual descrição, mas item_id diferentes\n",
    "# item_data[item_data.duplicated(subset = ['title'], keep = False)].sort_values('title')"
   ]
  },
  {
   "cell_type": "code",
   "execution_count": null,
   "metadata": {},
   "outputs": [],
   "source": []
  },
  {
   "cell_type": "code",
   "execution_count": null,
   "metadata": {},
   "outputs": [],
   "source": []
  },
  {
   "cell_type": "code",
   "execution_count": 82,
   "metadata": {},
   "outputs": [
    {
     "data": {
      "text/plain": [
       "0          Casa Sola En Venta Con Gran Patio Solo Pago De...\n",
       "1          Resident Evil Origins Collection Nintendo Swit...\n",
       "2                              Falda De Imitación Piel Negra\n",
       "3               Powercolor Red Devil Radeon Rx 580 8gb Gddr5\n",
       "4          Laptop Hp Nx6320 Core Duo Con Puerto Db9 Windo...\n",
       "                                 ...                        \n",
       "2102272                               Carrinho De Bebê Stoke\n",
       "2102273    Grelha Para Hambúrguer Preta Com Cabo Em Madei...\n",
       "2102274        Meia Tam 7/8 Anti Embolia Trombose Antitrombo\n",
       "2102275      Pano De Boca Cremer Menina Luxo Bordado C/3 Und\n",
       "2102276    Kit Turbo Turbina Virtual Simulador Som Apito ...\n",
       "Name: title, Length: 2102277, dtype: object"
      ]
     },
     "execution_count": 82,
     "metadata": {},
     "output_type": "execute_result"
    }
   ],
   "source": [
    "item_data.title"
   ]
  },
  {
   "cell_type": "code",
   "execution_count": null,
   "metadata": {},
   "outputs": [],
   "source": []
  },
  {
   "cell_type": "code",
   "execution_count": 81,
   "metadata": {},
   "outputs": [
    {
     "data": {
      "text/html": [
       "<div>\n",
       "<style scoped>\n",
       "    .dataframe tbody tr th:only-of-type {\n",
       "        vertical-align: middle;\n",
       "    }\n",
       "\n",
       "    .dataframe tbody tr th {\n",
       "        vertical-align: top;\n",
       "    }\n",
       "\n",
       "    .dataframe thead th {\n",
       "        text-align: right;\n",
       "    }\n",
       "</style>\n",
       "<table border=\"1\" class=\"dataframe\">\n",
       "  <thead>\n",
       "    <tr style=\"text-align: right;\">\n",
       "      <th></th>\n",
       "      <th>seq</th>\n",
       "      <th>event_info</th>\n",
       "      <th>views</th>\n",
       "      <th>event_type</th>\n",
       "      <th>item_id</th>\n",
       "      <th>category_id</th>\n",
       "    </tr>\n",
       "  </thead>\n",
       "  <tbody>\n",
       "    <tr>\n",
       "      <th>0</th>\n",
       "      <td>0</td>\n",
       "      <td>1615991</td>\n",
       "      <td>16.0</td>\n",
       "      <td>view</td>\n",
       "      <td>1615991.0</td>\n",
       "      <td>MLB135384</td>\n",
       "    </tr>\n",
       "    <tr>\n",
       "      <th>1</th>\n",
       "      <td>0</td>\n",
       "      <td>1786148</td>\n",
       "      <td>2.0</td>\n",
       "      <td>view</td>\n",
       "      <td>1786148.0</td>\n",
       "      <td>MLB135384</td>\n",
       "    </tr>\n",
       "    <tr>\n",
       "      <th>2</th>\n",
       "      <td>0</td>\n",
       "      <td>RELOGIO SMARTWATCH</td>\n",
       "      <td>NaN</td>\n",
       "      <td>search</td>\n",
       "      <td>NaN</td>\n",
       "      <td>NaN</td>\n",
       "    </tr>\n",
       "    <tr>\n",
       "      <th>3</th>\n",
       "      <td>0</td>\n",
       "      <td>1748830</td>\n",
       "      <td>-1.0</td>\n",
       "      <td>buy</td>\n",
       "      <td>1748830.0</td>\n",
       "      <td>MLB135384</td>\n",
       "    </tr>\n",
       "    <tr>\n",
       "      <th>4</th>\n",
       "      <td>3</td>\n",
       "      <td>505541</td>\n",
       "      <td>5.0</td>\n",
       "      <td>view</td>\n",
       "      <td>505541.0</td>\n",
       "      <td>MLB1730</td>\n",
       "    </tr>\n",
       "    <tr>\n",
       "      <th>...</th>\n",
       "      <td>...</td>\n",
       "      <td>...</td>\n",
       "      <td>...</td>\n",
       "      <td>...</td>\n",
       "      <td>...</td>\n",
       "      <td>...</td>\n",
       "    </tr>\n",
       "    <tr>\n",
       "      <th>3899370</th>\n",
       "      <td>826311</td>\n",
       "      <td>CAMA BOX BAU CASAL</td>\n",
       "      <td>NaN</td>\n",
       "      <td>search</td>\n",
       "      <td>NaN</td>\n",
       "      <td>NaN</td>\n",
       "    </tr>\n",
       "    <tr>\n",
       "      <th>3899371</th>\n",
       "      <td>826311</td>\n",
       "      <td>CAMA BOX BAU CASAL</td>\n",
       "      <td>NaN</td>\n",
       "      <td>search</td>\n",
       "      <td>NaN</td>\n",
       "      <td>NaN</td>\n",
       "    </tr>\n",
       "    <tr>\n",
       "      <th>3899372</th>\n",
       "      <td>826311</td>\n",
       "      <td>CAMA BOX BAU CASAL</td>\n",
       "      <td>NaN</td>\n",
       "      <td>search</td>\n",
       "      <td>NaN</td>\n",
       "      <td>NaN</td>\n",
       "    </tr>\n",
       "    <tr>\n",
       "      <th>3899373</th>\n",
       "      <td>826311</td>\n",
       "      <td>CAMA BOX BAU CASAL</td>\n",
       "      <td>NaN</td>\n",
       "      <td>search</td>\n",
       "      <td>NaN</td>\n",
       "      <td>NaN</td>\n",
       "    </tr>\n",
       "    <tr>\n",
       "      <th>3899374</th>\n",
       "      <td>826313</td>\n",
       "      <td>620982</td>\n",
       "      <td>2.0</td>\n",
       "      <td>view</td>\n",
       "      <td>620982.0</td>\n",
       "      <td>MLB273770</td>\n",
       "    </tr>\n",
       "  </tbody>\n",
       "</table>\n",
       "<p>3899375 rows × 6 columns</p>\n",
       "</div>"
      ],
      "text/plain": [
       "            seq          event_info  views event_type    item_id category_id\n",
       "0             0             1615991   16.0       view  1615991.0   MLB135384\n",
       "1             0             1786148    2.0       view  1786148.0   MLB135384\n",
       "2             0  RELOGIO SMARTWATCH    NaN     search        NaN         NaN\n",
       "3             0             1748830   -1.0        buy  1748830.0   MLB135384\n",
       "4             3              505541    5.0       view   505541.0     MLB1730\n",
       "...         ...                 ...    ...        ...        ...         ...\n",
       "3899370  826311  CAMA BOX BAU CASAL    NaN     search        NaN         NaN\n",
       "3899371  826311  CAMA BOX BAU CASAL    NaN     search        NaN         NaN\n",
       "3899372  826311  CAMA BOX BAU CASAL    NaN     search        NaN         NaN\n",
       "3899373  826311  CAMA BOX BAU CASAL    NaN     search        NaN         NaN\n",
       "3899374  826313              620982    2.0       view   620982.0   MLB273770\n",
       "\n",
       "[3899375 rows x 6 columns]"
      ]
     },
     "execution_count": 81,
     "metadata": {},
     "output_type": "execute_result"
    }
   ],
   "source": [
    "pd.merge(train_test, item_data[['item_id', 'category_id']], left_on = 'event_info', right_on = 'item_id', how = 'left')"
   ]
  },
  {
   "cell_type": "code",
   "execution_count": null,
   "metadata": {},
   "outputs": [],
   "source": []
  },
  {
   "cell_type": "code",
   "execution_count": null,
   "metadata": {},
   "outputs": [],
   "source": []
  },
  {
   "cell_type": "code",
   "execution_count": null,
   "metadata": {},
   "outputs": [],
   "source": []
  },
  {
   "cell_type": "code",
   "execution_count": 77,
   "metadata": {},
   "outputs": [
    {
     "data": {
      "text/plain": [
       "array(['RELOGIO SMARTWATCH', 'RADIOBOSS', 'SOUND FORGE', ...,\n",
       "       'CALCA JARDINEIRA FEMININA SUSPENSORIO', 'CALCA RAIOM',\n",
       "       'CALCA RAIOM CINTURA ALTA'], dtype=object)"
      ]
     },
     "execution_count": 77,
     "metadata": {},
     "output_type": "execute_result"
    }
   ],
   "source": [
    "train_test[train_test.event_type == 'search'].event_info.unique()"
   ]
  },
  {
   "cell_type": "code",
   "execution_count": null,
   "metadata": {},
   "outputs": [],
   "source": []
  },
  {
   "cell_type": "code",
   "execution_count": null,
   "metadata": {},
   "outputs": [],
   "source": []
  },
  {
   "cell_type": "code",
   "execution_count": null,
   "metadata": {},
   "outputs": [],
   "source": []
  },
  {
   "cell_type": "markdown",
   "metadata": {},
   "source": [
    "_____"
   ]
  },
  {
   "cell_type": "markdown",
   "metadata": {},
   "source": [
    "## dataprep for search rows - spacy tests"
   ]
  },
  {
   "cell_type": "code",
   "execution_count": 1,
   "metadata": {},
   "outputs": [],
   "source": [
    "import spacy"
   ]
  },
  {
   "cell_type": "code",
   "execution_count": 2,
   "metadata": {},
   "outputs": [],
   "source": [
    "port = spacy.load('pt_core_news_md')"
   ]
  },
  {
   "cell_type": "code",
   "execution_count": 3,
   "metadata": {},
   "outputs": [],
   "source": [
    "query_original = port('PNEU LEVORIN AZONIC ARO 18 275 DIANTEIRO')\n",
    "query_lower    = port('PNEU LEVORIN AZONIC ARO 18 275 DIANTEIRO'.lower())"
   ]
  },
  {
   "cell_type": "code",
   "execution_count": 4,
   "metadata": {},
   "outputs": [],
   "source": [
    "item_original = port('Pneu Para Moto Levorin Azonic Dianteiro Tl 2,75 18')\n",
    "item_lower    = port('Pneu Para Moto Levorin Azonic Dianteiro Tl 2,75 18'.lower())"
   ]
  },
  {
   "cell_type": "code",
   "execution_count": 5,
   "metadata": {},
   "outputs": [
    {
     "name": "stdout",
     "output_type": "stream",
     "text": [
      "0.623769216929041\n",
      "0.55457467490276\n",
      "0.7138354773981356\n",
      "0.7602650326179264\n"
     ]
    }
   ],
   "source": [
    "print(query_original.similarity(item_original))\n",
    "print(query_original.similarity(item_lower))\n",
    "print(query_lower.similarity(item_original))\n",
    "print(query_lower.similarity(item_lower))  # <--- highest similarity"
   ]
  },
  {
   "cell_type": "code",
   "execution_count": 130,
   "metadata": {},
   "outputs": [
    {
     "data": {
      "text/plain": [
       "str"
      ]
     },
     "execution_count": 130,
     "metadata": {},
     "output_type": "execute_result"
    }
   ],
   "source": [
    "type(query_lower.text)"
   ]
  },
  {
   "cell_type": "code",
   "execution_count": 135,
   "metadata": {},
   "outputs": [
    {
     "name": "stdout",
     "output_type": "stream",
     "text": [
      "pneu <class 'spacy.tokens.token.Token'> pneu <class 'str'>\n",
      "levorin <class 'spacy.tokens.token.Token'> levorin <class 'str'>\n",
      "azonic <class 'spacy.tokens.token.Token'> azonic <class 'str'>\n",
      "aro <class 'spacy.tokens.token.Token'> aro <class 'str'>\n",
      "18 <class 'spacy.tokens.token.Token'> 18 <class 'str'>\n",
      "275 <class 'spacy.tokens.token.Token'> 275 <class 'str'>\n",
      "dianteiro <class 'spacy.tokens.token.Token'> dianteiro <class 'str'>\n"
     ]
    }
   ],
   "source": [
    "for t in query_lower:\n",
    "    print(t, type(t), t.text, type(t.text))"
   ]
  },
  {
   "cell_type": "code",
   "execution_count": 136,
   "metadata": {},
   "outputs": [],
   "source": [
    "train['query'] = train.event_info\n",
    "train.loc[~(train.event_type == 'search'), 'query'] = np.nan\n",
    "train['query'] = train['query'].fillna('').str.lower()"
   ]
  },
  {
   "cell_type": "code",
   "execution_count": 137,
   "metadata": {},
   "outputs": [],
   "source": [
    "def find_oov(s):\n",
    "    s_spacy = port(s)\n",
    "    return [t.text for t in s_spacy if t.is_oov]"
   ]
  },
  {
   "cell_type": "code",
   "execution_count": 139,
   "metadata": {},
   "outputs": [],
   "source": [
    "train_search = train.loc[train.event_type == 'search', ['seq', 'query']].copy()\n",
    "train_search_drop_dup = train_search.drop_duplicates(subset = 'query')"
   ]
  },
  {
   "cell_type": "code",
   "execution_count": 140,
   "metadata": {},
   "outputs": [
    {
     "name": "stderr",
     "output_type": "stream",
     "text": [
      "100%|██████████| 847496/847496 [1:37:52<00:00, 144.33it/s] \n",
      "/Users/hitoshinagano/.virtualenvs/tensorflow2/lib/python3.7/site-packages/ipykernel_launcher.py:1: SettingWithCopyWarning: \n",
      "A value is trying to be set on a copy of a slice from a DataFrame.\n",
      "Try using .loc[row_indexer,col_indexer] = value instead\n",
      "\n",
      "See the caveats in the documentation: https://pandas.pydata.org/pandas-docs/stable/user_guide/indexing.html#returning-a-view-versus-a-copy\n",
      "  \"\"\"Entry point for launching an IPython kernel.\n"
     ]
    }
   ],
   "source": [
    "train_search_drop_dup['entities'] = train_search_drop_dup['query'].progress_apply(find_oov)"
   ]
  },
  {
   "cell_type": "code",
   "execution_count": 141,
   "metadata": {},
   "outputs": [],
   "source": [
    "train = pd.merge(train, train_search_drop_dup, on = 'query', how = 'left')"
   ]
  },
  {
   "cell_type": "code",
   "execution_count": 142,
   "metadata": {},
   "outputs": [],
   "source": [
    "train.rename(columns = {'seq_x': 'seq'}, inplace = True)\n",
    "train.drop(columns = 'seq_y', inplace = True)"
   ]
  },
  {
   "cell_type": "code",
   "execution_count": 143,
   "metadata": {},
   "outputs": [],
   "source": [
    "train.sort_values(['seq', 'event_timestamp'], inplace = True)"
   ]
  },
  {
   "cell_type": "code",
   "execution_count": 164,
   "metadata": {},
   "outputs": [
    {
     "data": {
      "text/html": [
       "<div>\n",
       "<style scoped>\n",
       "    .dataframe tbody tr th:only-of-type {\n",
       "        vertical-align: middle;\n",
       "    }\n",
       "\n",
       "    .dataframe tbody tr th {\n",
       "        vertical-align: top;\n",
       "    }\n",
       "\n",
       "    .dataframe thead th {\n",
       "        text-align: right;\n",
       "    }\n",
       "</style>\n",
       "<table border=\"1\" class=\"dataframe\">\n",
       "  <thead>\n",
       "    <tr style=\"text-align: right;\">\n",
       "      <th></th>\n",
       "      <th>seq</th>\n",
       "      <th>item_bought</th>\n",
       "      <th>event_info</th>\n",
       "      <th>event_timestamp</th>\n",
       "      <th>event_type</th>\n",
       "      <th>time_diff</th>\n",
       "      <th>query</th>\n",
       "      <th>entities</th>\n",
       "    </tr>\n",
       "  </thead>\n",
       "  <tbody>\n",
       "    <tr>\n",
       "      <th>6839163</th>\n",
       "      <td>6994</td>\n",
       "      <td>NaN</td>\n",
       "      <td>984787</td>\n",
       "      <td>2019-10-12 18:54:21</td>\n",
       "      <td>view</td>\n",
       "      <td>25.0</td>\n",
       "      <td></td>\n",
       "      <td>NaN</td>\n",
       "    </tr>\n",
       "    <tr>\n",
       "      <th>11963835</th>\n",
       "      <td>98101</td>\n",
       "      <td>NaN</td>\n",
       "      <td>364310</td>\n",
       "      <td>2019-09-28 21:16:31</td>\n",
       "      <td>view</td>\n",
       "      <td>10.0</td>\n",
       "      <td></td>\n",
       "      <td>NaN</td>\n",
       "    </tr>\n",
       "    <tr>\n",
       "      <th>1424896</th>\n",
       "      <td>138466</td>\n",
       "      <td>NaN</td>\n",
       "      <td>LAMPADA LED HONDA CIVIC 99</td>\n",
       "      <td>2019-10-21 10:18:59</td>\n",
       "      <td>search</td>\n",
       "      <td>288.0</td>\n",
       "      <td>lampada led honda civic 99</td>\n",
       "      <td>[]</td>\n",
       "    </tr>\n",
       "    <tr>\n",
       "      <th>1828935</th>\n",
       "      <td>387228</td>\n",
       "      <td>NaN</td>\n",
       "      <td>1799758</td>\n",
       "      <td>2019-10-03 01:27:39</td>\n",
       "      <td>view</td>\n",
       "      <td>49.0</td>\n",
       "      <td></td>\n",
       "      <td>NaN</td>\n",
       "    </tr>\n",
       "    <tr>\n",
       "      <th>2032760</th>\n",
       "      <td>154670</td>\n",
       "      <td>NaN</td>\n",
       "      <td>243848</td>\n",
       "      <td>2019-10-15 18:20:03</td>\n",
       "      <td>view</td>\n",
       "      <td>14.0</td>\n",
       "      <td></td>\n",
       "      <td>NaN</td>\n",
       "    </tr>\n",
       "    <tr>\n",
       "      <th>6697734</th>\n",
       "      <td>257356</td>\n",
       "      <td>NaN</td>\n",
       "      <td>CORTA VENTO MERCEDES</td>\n",
       "      <td>2019-10-03 20:25:03</td>\n",
       "      <td>search</td>\n",
       "      <td>6.0</td>\n",
       "      <td>corta vento mercedes</td>\n",
       "      <td>[]</td>\n",
       "    </tr>\n",
       "    <tr>\n",
       "      <th>244324</th>\n",
       "      <td>155814</td>\n",
       "      <td>1278790.0</td>\n",
       "      <td>NaN</td>\n",
       "      <td>NaT</td>\n",
       "      <td>NaN</td>\n",
       "      <td>NaN</td>\n",
       "      <td></td>\n",
       "      <td>NaN</td>\n",
       "    </tr>\n",
       "    <tr>\n",
       "      <th>4728092</th>\n",
       "      <td>213232</td>\n",
       "      <td>NaN</td>\n",
       "      <td>PULA PIRATA</td>\n",
       "      <td>2019-10-03 15:53:31</td>\n",
       "      <td>search</td>\n",
       "      <td>7.0</td>\n",
       "      <td>pula pirata</td>\n",
       "      <td>[]</td>\n",
       "    </tr>\n",
       "    <tr>\n",
       "      <th>3481274</th>\n",
       "      <td>152042</td>\n",
       "      <td>NaN</td>\n",
       "      <td>CHUTEIRA CRIANCA 27 28</td>\n",
       "      <td>2019-10-03 16:30:14</td>\n",
       "      <td>search</td>\n",
       "      <td>7.0</td>\n",
       "      <td>chuteira crianca 27 28</td>\n",
       "      <td>[]</td>\n",
       "    </tr>\n",
       "    <tr>\n",
       "      <th>158968</th>\n",
       "      <td>238608</td>\n",
       "      <td>NaN</td>\n",
       "      <td>RELOJ CASIO</td>\n",
       "      <td>2019-10-18 15:46:15</td>\n",
       "      <td>search</td>\n",
       "      <td>NaN</td>\n",
       "      <td>reloj casio</td>\n",
       "      <td>[]</td>\n",
       "    </tr>\n",
       "  </tbody>\n",
       "</table>\n",
       "</div>"
      ],
      "text/plain": [
       "             seq  item_bought                  event_info     event_timestamp  \\\n",
       "6839163     6994          NaN                      984787 2019-10-12 18:54:21   \n",
       "11963835   98101          NaN                      364310 2019-09-28 21:16:31   \n",
       "1424896   138466          NaN  LAMPADA LED HONDA CIVIC 99 2019-10-21 10:18:59   \n",
       "1828935   387228          NaN                     1799758 2019-10-03 01:27:39   \n",
       "2032760   154670          NaN                      243848 2019-10-15 18:20:03   \n",
       "6697734   257356          NaN        CORTA VENTO MERCEDES 2019-10-03 20:25:03   \n",
       "244324    155814    1278790.0                         NaN                 NaT   \n",
       "4728092   213232          NaN                 PULA PIRATA 2019-10-03 15:53:31   \n",
       "3481274   152042          NaN      CHUTEIRA CRIANCA 27 28 2019-10-03 16:30:14   \n",
       "158968    238608          NaN                 RELOJ CASIO 2019-10-18 15:46:15   \n",
       "\n",
       "         event_type  time_diff                       query entities  \n",
       "6839163        view       25.0                                  NaN  \n",
       "11963835       view       10.0                                  NaN  \n",
       "1424896      search      288.0  lampada led honda civic 99       []  \n",
       "1828935        view       49.0                                  NaN  \n",
       "2032760        view       14.0                                  NaN  \n",
       "6697734      search        6.0        corta vento mercedes       []  \n",
       "244324          NaN        NaN                                  NaN  \n",
       "4728092      search        7.0                 pula pirata       []  \n",
       "3481274      search        7.0      chuteira crianca 27 28       []  \n",
       "158968       search        NaN                 reloj casio       []  "
      ]
     },
     "execution_count": 164,
     "metadata": {},
     "output_type": "execute_result"
    }
   ],
   "source": [
    "train.sample(10)"
   ]
  },
  {
   "cell_type": "code",
   "execution_count": 156,
   "metadata": {},
   "outputs": [],
   "source": [
    "train_fn = 'train_for_nlp.pkl'\n",
    "train_fp = os.path.join(interim_data_dir, train_fn)\n",
    "train.to_pickle(train_fp)"
   ]
  },
  {
   "cell_type": "markdown",
   "metadata": {},
   "source": [
    "___"
   ]
  },
  {
   "cell_type": "code",
   "execution_count": 172,
   "metadata": {},
   "outputs": [],
   "source": [
    "# train = pd.read_pickle(train_fp)"
   ]
  },
  {
   "cell_type": "code",
   "execution_count": 168,
   "metadata": {},
   "outputs": [
    {
     "data": {
      "text/html": [
       "<div>\n",
       "<style scoped>\n",
       "    .dataframe tbody tr th:only-of-type {\n",
       "        vertical-align: middle;\n",
       "    }\n",
       "\n",
       "    .dataframe tbody tr th {\n",
       "        vertical-align: top;\n",
       "    }\n",
       "\n",
       "    .dataframe thead th {\n",
       "        text-align: right;\n",
       "    }\n",
       "</style>\n",
       "<table border=\"1\" class=\"dataframe\">\n",
       "  <thead>\n",
       "    <tr style=\"text-align: right;\">\n",
       "      <th></th>\n",
       "      <th>item_id</th>\n",
       "      <th>title</th>\n",
       "      <th>domain_id</th>\n",
       "      <th>product_id</th>\n",
       "      <th>price</th>\n",
       "      <th>category_id</th>\n",
       "      <th>condition</th>\n",
       "    </tr>\n",
       "  </thead>\n",
       "  <tbody>\n",
       "    <tr>\n",
       "      <th>0</th>\n",
       "      <td>111260</td>\n",
       "      <td>Casa Sola En Venta Con Gran Patio Solo Pago De...</td>\n",
       "      <td>MLM-INDIVIDUAL_HOUSES_FOR_SALE</td>\n",
       "      <td>NaN</td>\n",
       "      <td>1150000.00</td>\n",
       "      <td>MLM170527</td>\n",
       "      <td>new</td>\n",
       "    </tr>\n",
       "    <tr>\n",
       "      <th>1</th>\n",
       "      <td>871377</td>\n",
       "      <td>Resident Evil Origins Collection Nintendo Swit...</td>\n",
       "      <td>MLM-VIDEO_GAMES</td>\n",
       "      <td>15270800.0</td>\n",
       "      <td>1392.83</td>\n",
       "      <td>MLM151595</td>\n",
       "      <td>new</td>\n",
       "    </tr>\n",
       "    <tr>\n",
       "      <th>2</th>\n",
       "      <td>490232</td>\n",
       "      <td>Falda De Imitación Piel Negra</td>\n",
       "      <td>MLM-SKIRTS</td>\n",
       "      <td>NaN</td>\n",
       "      <td>350.00</td>\n",
       "      <td>MLM7697</td>\n",
       "      <td>new</td>\n",
       "    </tr>\n",
       "    <tr>\n",
       "      <th>3</th>\n",
       "      <td>1150706</td>\n",
       "      <td>Powercolor Red Devil Radeon Rx 580 8gb Gddr5</td>\n",
       "      <td>MLM-GRAPHICS_CARDS</td>\n",
       "      <td>NaN</td>\n",
       "      <td>3200.00</td>\n",
       "      <td>MLM9761</td>\n",
       "      <td>used</td>\n",
       "    </tr>\n",
       "    <tr>\n",
       "      <th>4</th>\n",
       "      <td>934912</td>\n",
       "      <td>Laptop Hp Nx6320 Core Duo Con Puerto Db9 Windo...</td>\n",
       "      <td>MLM-NOTEBOOKS</td>\n",
       "      <td>NaN</td>\n",
       "      <td>1599.00</td>\n",
       "      <td>MLM1652</td>\n",
       "      <td>used</td>\n",
       "    </tr>\n",
       "  </tbody>\n",
       "</table>\n",
       "</div>"
      ],
      "text/plain": [
       "   item_id                                              title  \\\n",
       "0   111260  Casa Sola En Venta Con Gran Patio Solo Pago De...   \n",
       "1   871377  Resident Evil Origins Collection Nintendo Swit...   \n",
       "2   490232                      Falda De Imitación Piel Negra   \n",
       "3  1150706       Powercolor Red Devil Radeon Rx 580 8gb Gddr5   \n",
       "4   934912  Laptop Hp Nx6320 Core Duo Con Puerto Db9 Windo...   \n",
       "\n",
       "                        domain_id  product_id       price category_id  \\\n",
       "0  MLM-INDIVIDUAL_HOUSES_FOR_SALE         NaN  1150000.00   MLM170527   \n",
       "1                 MLM-VIDEO_GAMES  15270800.0     1392.83   MLM151595   \n",
       "2                      MLM-SKIRTS         NaN      350.00     MLM7697   \n",
       "3              MLM-GRAPHICS_CARDS         NaN     3200.00     MLM9761   \n",
       "4                   MLM-NOTEBOOKS         NaN     1599.00     MLM1652   \n",
       "\n",
       "  condition  \n",
       "0       new  \n",
       "1       new  \n",
       "2       new  \n",
       "3      used  \n",
       "4      used  "
      ]
     },
     "execution_count": 168,
     "metadata": {},
     "output_type": "execute_result"
    }
   ],
   "source": [
    "item_data.head()"
   ]
  },
  {
   "cell_type": "code",
   "execution_count": 173,
   "metadata": {},
   "outputs": [],
   "source": [
    "train = pd.merge(train, item_data[['item_id', 'domain_id']], left_on = 'item_bought', right_on = 'item_id', how = 'left')"
   ]
  },
  {
   "cell_type": "code",
   "execution_count": 175,
   "metadata": {},
   "outputs": [],
   "source": [
    "train['country'] = train.domain_id.str[:3]"
   ]
  },
  {
   "cell_type": "code",
   "execution_count": 177,
   "metadata": {},
   "outputs": [],
   "source": [
    "views_sel = train.event_type == 'view'"
   ]
  },
  {
   "cell_type": "code",
   "execution_count": 176,
   "metadata": {},
   "outputs": [
    {
     "data": {
      "text/html": [
       "<div>\n",
       "<style scoped>\n",
       "    .dataframe tbody tr th:only-of-type {\n",
       "        vertical-align: middle;\n",
       "    }\n",
       "\n",
       "    .dataframe tbody tr th {\n",
       "        vertical-align: top;\n",
       "    }\n",
       "\n",
       "    .dataframe thead th {\n",
       "        text-align: right;\n",
       "    }\n",
       "</style>\n",
       "<table border=\"1\" class=\"dataframe\">\n",
       "  <thead>\n",
       "    <tr style=\"text-align: right;\">\n",
       "      <th></th>\n",
       "      <th>seq</th>\n",
       "      <th>item_bought</th>\n",
       "      <th>event_info</th>\n",
       "      <th>event_timestamp</th>\n",
       "      <th>event_type</th>\n",
       "      <th>time_diff</th>\n",
       "      <th>query</th>\n",
       "      <th>entities</th>\n",
       "      <th>item_id</th>\n",
       "      <th>domain_id</th>\n",
       "      <th>country</th>\n",
       "    </tr>\n",
       "  </thead>\n",
       "  <tbody>\n",
       "    <tr>\n",
       "      <th>0</th>\n",
       "      <td>0</td>\n",
       "      <td>NaN</td>\n",
       "      <td>1786148</td>\n",
       "      <td>2019-10-19 11:25:42</td>\n",
       "      <td>view</td>\n",
       "      <td>NaN</td>\n",
       "      <td></td>\n",
       "      <td>NaN</td>\n",
       "      <td>NaN</td>\n",
       "      <td>NaN</td>\n",
       "      <td>NaN</td>\n",
       "    </tr>\n",
       "    <tr>\n",
       "      <th>1</th>\n",
       "      <td>0</td>\n",
       "      <td>NaN</td>\n",
       "      <td>1786148</td>\n",
       "      <td>2019-10-19 11:25:57</td>\n",
       "      <td>view</td>\n",
       "      <td>15.0</td>\n",
       "      <td></td>\n",
       "      <td>NaN</td>\n",
       "      <td>NaN</td>\n",
       "      <td>NaN</td>\n",
       "      <td>NaN</td>\n",
       "    </tr>\n",
       "    <tr>\n",
       "      <th>2</th>\n",
       "      <td>0</td>\n",
       "      <td>NaN</td>\n",
       "      <td>RELOGIO SMARTWATCH</td>\n",
       "      <td>2019-10-19 11:26:07</td>\n",
       "      <td>search</td>\n",
       "      <td>10.0</td>\n",
       "      <td>relogio smartwatch</td>\n",
       "      <td>[]</td>\n",
       "      <td>NaN</td>\n",
       "      <td>NaN</td>\n",
       "      <td>NaN</td>\n",
       "    </tr>\n",
       "    <tr>\n",
       "      <th>3</th>\n",
       "      <td>0</td>\n",
       "      <td>NaN</td>\n",
       "      <td>1615991</td>\n",
       "      <td>2019-10-19 11:27:26</td>\n",
       "      <td>view</td>\n",
       "      <td>79.0</td>\n",
       "      <td></td>\n",
       "      <td>NaN</td>\n",
       "      <td>NaN</td>\n",
       "      <td>NaN</td>\n",
       "      <td>NaN</td>\n",
       "    </tr>\n",
       "    <tr>\n",
       "      <th>4</th>\n",
       "      <td>0</td>\n",
       "      <td>NaN</td>\n",
       "      <td>1615991</td>\n",
       "      <td>2019-10-19 11:28:36</td>\n",
       "      <td>view</td>\n",
       "      <td>70.0</td>\n",
       "      <td></td>\n",
       "      <td>NaN</td>\n",
       "      <td>NaN</td>\n",
       "      <td>NaN</td>\n",
       "      <td>NaN</td>\n",
       "    </tr>\n",
       "    <tr>\n",
       "      <th>...</th>\n",
       "      <td>...</td>\n",
       "      <td>...</td>\n",
       "      <td>...</td>\n",
       "      <td>...</td>\n",
       "      <td>...</td>\n",
       "      <td>...</td>\n",
       "      <td>...</td>\n",
       "      <td>...</td>\n",
       "      <td>...</td>\n",
       "      <td>...</td>\n",
       "      <td>...</td>\n",
       "    </tr>\n",
       "    <tr>\n",
       "      <th>12412324</th>\n",
       "      <td>413162</td>\n",
       "      <td>NaN</td>\n",
       "      <td>792798</td>\n",
       "      <td>2019-10-07 10:49:32</td>\n",
       "      <td>view</td>\n",
       "      <td>8076.0</td>\n",
       "      <td></td>\n",
       "      <td>NaN</td>\n",
       "      <td>NaN</td>\n",
       "      <td>NaN</td>\n",
       "      <td>NaN</td>\n",
       "    </tr>\n",
       "    <tr>\n",
       "      <th>12412325</th>\n",
       "      <td>413162</td>\n",
       "      <td>NaN</td>\n",
       "      <td>258196</td>\n",
       "      <td>2019-10-07 10:52:21</td>\n",
       "      <td>view</td>\n",
       "      <td>169.0</td>\n",
       "      <td></td>\n",
       "      <td>NaN</td>\n",
       "      <td>NaN</td>\n",
       "      <td>NaN</td>\n",
       "      <td>NaN</td>\n",
       "    </tr>\n",
       "    <tr>\n",
       "      <th>12412326</th>\n",
       "      <td>413162</td>\n",
       "      <td>NaN</td>\n",
       "      <td>12716</td>\n",
       "      <td>2019-10-07 10:53:07</td>\n",
       "      <td>view</td>\n",
       "      <td>46.0</td>\n",
       "      <td></td>\n",
       "      <td>NaN</td>\n",
       "      <td>NaN</td>\n",
       "      <td>NaN</td>\n",
       "      <td>NaN</td>\n",
       "    </tr>\n",
       "    <tr>\n",
       "      <th>12412327</th>\n",
       "      <td>413162</td>\n",
       "      <td>NaN</td>\n",
       "      <td>258196</td>\n",
       "      <td>2019-10-07 10:55:32</td>\n",
       "      <td>view</td>\n",
       "      <td>145.0</td>\n",
       "      <td></td>\n",
       "      <td>NaN</td>\n",
       "      <td>NaN</td>\n",
       "      <td>NaN</td>\n",
       "      <td>NaN</td>\n",
       "    </tr>\n",
       "    <tr>\n",
       "      <th>12412328</th>\n",
       "      <td>413162</td>\n",
       "      <td>1212472.0</td>\n",
       "      <td>NaN</td>\n",
       "      <td>NaT</td>\n",
       "      <td>NaN</td>\n",
       "      <td>NaN</td>\n",
       "      <td></td>\n",
       "      <td>NaN</td>\n",
       "      <td>1212472.0</td>\n",
       "      <td>MLB-SKIN_CARE_SUPPLIES</td>\n",
       "      <td>MLB</td>\n",
       "    </tr>\n",
       "  </tbody>\n",
       "</table>\n",
       "<p>12412329 rows × 11 columns</p>\n",
       "</div>"
      ],
      "text/plain": [
       "             seq  item_bought          event_info     event_timestamp  \\\n",
       "0              0          NaN             1786148 2019-10-19 11:25:42   \n",
       "1              0          NaN             1786148 2019-10-19 11:25:57   \n",
       "2              0          NaN  RELOGIO SMARTWATCH 2019-10-19 11:26:07   \n",
       "3              0          NaN             1615991 2019-10-19 11:27:26   \n",
       "4              0          NaN             1615991 2019-10-19 11:28:36   \n",
       "...          ...          ...                 ...                 ...   \n",
       "12412324  413162          NaN              792798 2019-10-07 10:49:32   \n",
       "12412325  413162          NaN              258196 2019-10-07 10:52:21   \n",
       "12412326  413162          NaN               12716 2019-10-07 10:53:07   \n",
       "12412327  413162          NaN              258196 2019-10-07 10:55:32   \n",
       "12412328  413162    1212472.0                 NaN                 NaT   \n",
       "\n",
       "         event_type  time_diff               query entities    item_id  \\\n",
       "0              view        NaN                          NaN        NaN   \n",
       "1              view       15.0                          NaN        NaN   \n",
       "2            search       10.0  relogio smartwatch       []        NaN   \n",
       "3              view       79.0                          NaN        NaN   \n",
       "4              view       70.0                          NaN        NaN   \n",
       "...             ...        ...                 ...      ...        ...   \n",
       "12412324       view     8076.0                          NaN        NaN   \n",
       "12412325       view      169.0                          NaN        NaN   \n",
       "12412326       view       46.0                          NaN        NaN   \n",
       "12412327       view      145.0                          NaN        NaN   \n",
       "12412328        NaN        NaN                          NaN  1212472.0   \n",
       "\n",
       "                       domain_id country  \n",
       "0                            NaN     NaN  \n",
       "1                            NaN     NaN  \n",
       "2                            NaN     NaN  \n",
       "3                            NaN     NaN  \n",
       "4                            NaN     NaN  \n",
       "...                          ...     ...  \n",
       "12412324                     NaN     NaN  \n",
       "12412325                     NaN     NaN  \n",
       "12412326                     NaN     NaN  \n",
       "12412327                     NaN     NaN  \n",
       "12412328  MLB-SKIN_CARE_SUPPLIES     MLB  \n",
       "\n",
       "[12412329 rows x 11 columns]"
      ]
     },
     "execution_count": 176,
     "metadata": {},
     "output_type": "execute_result"
    }
   ],
   "source": [
    "train = train[~views_sel].copy() # searches & buys only"
   ]
  },
  {
   "cell_type": "code",
   "execution_count": null,
   "metadata": {},
   "outputs": [],
   "source": []
  },
  {
   "cell_type": "code",
   "execution_count": null,
   "metadata": {},
   "outputs": [],
   "source": []
  },
  {
   "cell_type": "code",
   "execution_count": null,
   "metadata": {},
   "outputs": [],
   "source": []
  },
  {
   "cell_type": "code",
   "execution_count": null,
   "metadata": {},
   "outputs": [],
   "source": []
  },
  {
   "cell_type": "code",
   "execution_count": null,
   "metadata": {},
   "outputs": [],
   "source": []
  },
  {
   "cell_type": "code",
   "execution_count": null,
   "metadata": {},
   "outputs": [],
   "source": []
  },
  {
   "cell_type": "raw",
   "metadata": {},
   "source": []
  }
 ],
 "metadata": {
  "kernelspec": {
   "display_name": "Python 3",
   "language": "python",
   "name": "python3"
  },
  "language_info": {
   "codemirror_mode": {
    "name": "ipython",
    "version": 3
   },
   "file_extension": ".py",
   "mimetype": "text/x-python",
   "name": "python",
   "nbconvert_exporter": "python",
   "pygments_lexer": "ipython3",
   "version": "3.7.6"
  }
 },
 "nbformat": 4,
 "nbformat_minor": 4
}
