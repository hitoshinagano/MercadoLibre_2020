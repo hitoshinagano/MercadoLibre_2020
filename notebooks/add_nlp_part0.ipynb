{
 "cells": [
  {
   "cell_type": "markdown",
   "metadata": {},
   "source": [
    "# add nlp part idx"
   ]
  },
  {
   "cell_type": "markdown",
   "metadata": {},
   "source": [
    "## configs"
   ]
  },
  {
   "cell_type": "code",
   "execution_count": 1,
   "metadata": {},
   "outputs": [],
   "source": [
    "LANG = 'port'\n",
    "PART = 0"
   ]
  },
  {
   "cell_type": "markdown",
   "metadata": {},
   "source": [
    "## dir setup"
   ]
  },
  {
   "cell_type": "code",
   "execution_count": 2,
   "metadata": {},
   "outputs": [
    {
     "data": {
      "text/plain": [
       "True"
      ]
     },
     "execution_count": 2,
     "metadata": {},
     "output_type": "execute_result"
    }
   ],
   "source": [
    "from dotenv import load_dotenv, find_dotenv\n",
    "import os\n",
    "\n",
    "this_file_path = os.path.dirname(os.path.abspath(\"__file__\"))\n",
    "# if script (not notebook)...\n",
    "# project_dir = os.path.join(os.path.dirname(__file__), os.pardir)\n",
    "\n",
    "# project directory\n",
    "project_dir = os.path.join(this_file_path, os.pardir)\n",
    "\n",
    "# find .env automagically by walking up directories until it's found\n",
    "dotenv_path = find_dotenv()\n",
    "\n",
    "# load up the entries as environment variables\n",
    "load_dotenv(dotenv_path)"
   ]
  },
  {
   "cell_type": "code",
   "execution_count": 3,
   "metadata": {},
   "outputs": [],
   "source": [
    "raw_data_dir = os.path.join(project_dir, os.environ.get(\"RAW_DATA_DIR\"))\n",
    "processed_data_dir = os.path.join(project_dir, os.environ.get(\"PROCESSED_DATA_DIR\"))\n",
    "interim_data_dir = os.path.join(project_dir, os.environ.get(\"INTERIM_DATA_DIR\"))\n",
    "wordvecs_data_dir = os.path.join(project_dir, os.environ.get(\"WORDVECS_DATA_DIR\"))\n",
    "figures_dir = os.path.join(project_dir, os.environ.get(\"FIGURES_DIR\"))\n",
    "reports_dir = os.path.join(project_dir, os.environ.get(\"REPORTS_DIR\"))\n",
    "cv_dir = os.path.join(project_dir, os.environ.get(\"CV_DIR\"))\n",
    "models_dir = os.path.join(project_dir, os.environ.get(\"MODELS_DIR\"))"
   ]
  },
  {
   "cell_type": "markdown",
   "metadata": {},
   "source": [
    "## imports"
   ]
  },
  {
   "cell_type": "code",
   "execution_count": 4,
   "metadata": {},
   "outputs": [],
   "source": [
    "import numpy as np\n",
    "from datetime import datetime"
   ]
  },
  {
   "cell_type": "code",
   "execution_count": 5,
   "metadata": {},
   "outputs": [],
   "source": [
    "import pandas as pd\n",
    "# pd.set_option('max_rows', 100)\n",
    "# pd.set_option('max_columns', None)\n",
    "# pd.options.mode.chained_assignment = None  # default='warn'"
   ]
  },
  {
   "cell_type": "code",
   "execution_count": 6,
   "metadata": {},
   "outputs": [
    {
     "name": "stderr",
     "output_type": "stream",
     "text": [
      "/Users/hitoshinagano/.virtualenvs/tensorflow2/lib/python3.7/site-packages/tqdm/std.py:668: FutureWarning: The Panel class is removed from pandas. Accessing it from the top-level namespace will also be removed in the next version\n",
      "  from pandas import Panel\n"
     ]
    }
   ],
   "source": [
    "from tqdm import tqdm\n",
    "tqdm.pandas()"
   ]
  },
  {
   "cell_type": "code",
   "execution_count": 7,
   "metadata": {},
   "outputs": [],
   "source": [
    "# import scipy.sparse as sparse\n",
    "# import implicit"
   ]
  },
  {
   "cell_type": "code",
   "execution_count": 8,
   "metadata": {},
   "outputs": [],
   "source": [
    "# from sklearn.metrics import ndcg_score"
   ]
  },
  {
   "cell_type": "code",
   "execution_count": 9,
   "metadata": {},
   "outputs": [],
   "source": [
    "# from sklearn.model_selection import ParameterGrid"
   ]
  },
  {
   "cell_type": "code",
   "execution_count": 10,
   "metadata": {},
   "outputs": [],
   "source": [
    "# import mlflow"
   ]
  },
  {
   "cell_type": "code",
   "execution_count": 11,
   "metadata": {},
   "outputs": [],
   "source": [
    "# import pickle"
   ]
  },
  {
   "cell_type": "code",
   "execution_count": 12,
   "metadata": {},
   "outputs": [],
   "source": [
    "import spacy"
   ]
  },
  {
   "cell_type": "code",
   "execution_count": 13,
   "metadata": {},
   "outputs": [
    {
     "data": {
      "text/plain": [
       "'/Users/hitoshinagano/Documents/MercadoLibre_competicao/notebooks/../data/wordvecs/nilc50skip'"
      ]
     },
     "execution_count": 13,
     "metadata": {},
     "output_type": "execute_result"
    }
   ],
   "source": [
    "os.path.join(wordvecs_data_dir, 'nilc50skip')"
   ]
  },
  {
   "cell_type": "code",
   "execution_count": 14,
   "metadata": {},
   "outputs": [],
   "source": [
    "port_nlp_fn = 'nilc50skip'\n",
    "port_nlp_fp = os.path.join(wordvecs_data_dir, port_nlp_fn) \n",
    "\n",
    "port_nlp = spacy.load(port_nlp_fp)\n",
    "# espa_nlp = spacy.load('es_core_news_md')\n",
    "\n",
    "if LANG == 'port':\n",
    "    nlp = port_nlp\n",
    "elif LANG == 'espa':\n",
    "    nlp = espa_nlp\n",
    "else:\n",
    "    assert False\n",
    "\n",
    "# import pt_core_news_md\n",
    "# port_nlp = pt_core_news_md.load()"
   ]
  },
  {
   "cell_type": "markdown",
   "metadata": {},
   "source": [
    "## project imports"
   ]
  },
  {
   "cell_type": "code",
   "execution_count": 15,
   "metadata": {},
   "outputs": [],
   "source": [
    "import sys\n",
    "sys.path.insert(0, '..')"
   ]
  },
  {
   "cell_type": "code",
   "execution_count": 16,
   "metadata": {},
   "outputs": [],
   "source": [
    "from src.features import *\n",
    "from src.models import *"
   ]
  },
  {
   "cell_type": "markdown",
   "metadata": {},
   "source": [
    "* remove buy events: no additional relevance attributed to buy\n",
    "* remove event timestamp: no additional relevance attributed to recency\n",
    "* remove search events: no additional relevance attributed to search\n",
    "* aggregates counts - higher relevance attributed to more views"
   ]
  },
  {
   "cell_type": "markdown",
   "metadata": {},
   "source": [
    "# exploration"
   ]
  },
  {
   "cell_type": "code",
   "execution_count": 17,
   "metadata": {},
   "outputs": [],
   "source": [
    "# train_fn = 'train_dataset.pkl'\n",
    "# test_fn = 'test_dataset.pkl'\n",
    "# train, test = read_processed(train_fn, test_fn)"
   ]
  },
  {
   "cell_type": "code",
   "execution_count": 18,
   "metadata": {},
   "outputs": [],
   "source": [
    "# true_fn = 'true.pkl'\n",
    "# true_fp = os.path.join(processed_data_dir, true_fn)\n",
    "# true_df = pd.read_pickle(true_fp)\n",
    "\n",
    "# item_data_fn = 'item_data.jl.gz'\n",
    "# item_data = pd.read_json(os.path.join(raw_data_dir, item_data_fn), lines=True)\n",
    "# item_domain = item_data[['item_id', 'domain_id']]"
   ]
  },
  {
   "cell_type": "markdown",
   "metadata": {},
   "source": [
    "#### create nlp objects for titles in item_data"
   ]
  },
  {
   "cell_type": "code",
   "execution_count": 19,
   "metadata": {},
   "outputs": [],
   "source": [
    "# item_data['title_lower'] = item_data.title.str.lower()\n",
    "# item_data_unique = item_data.title_lower.drop_duplicates().to_frame()"
   ]
  },
  {
   "cell_type": "code",
   "execution_count": 20,
   "metadata": {},
   "outputs": [],
   "source": [
    "part_fn = 'item_data_unique_part' + str(PART) + '.pkl'\n",
    "part_fp = os.path.join(interim_data_dir, part_fn)\n",
    "item_data_unique = pd.read_pickle(part_fp)"
   ]
  },
  {
   "cell_type": "code",
   "execution_count": 22,
   "metadata": {},
   "outputs": [],
   "source": [
    "def emb_vectors(x):\n",
    "    v = nlp(x)\n",
    "    return (v.vector / v.vector_norm).astype(np.float16)\n",
    "\n",
    "item_data_unique[LANG] = item_data_unique.title_lower.progress_apply(emb_vectors)"
   ]
  },
  {
   "cell_type": "code",
   "execution_count": 23,
   "metadata": {},
   "outputs": [],
   "source": [
    "part_fn = 'item_data_unique_part_emb_' + str(PART) + '.pkl'\n",
    "part_fp = os.path.join(interim_data_dir, part_fn)\n",
    "item_data_unique.to_pickle(part_fp)"
   ]
  },
  {
   "cell_type": "code",
   "execution_count": 24,
   "metadata": {},
   "outputs": [
    {
     "data": {
      "text/html": [
       "<div>\n",
       "<style scoped>\n",
       "    .dataframe tbody tr th:only-of-type {\n",
       "        vertical-align: middle;\n",
       "    }\n",
       "\n",
       "    .dataframe tbody tr th {\n",
       "        vertical-align: top;\n",
       "    }\n",
       "\n",
       "    .dataframe thead th {\n",
       "        text-align: right;\n",
       "    }\n",
       "</style>\n",
       "<table border=\"1\" class=\"dataframe\">\n",
       "  <thead>\n",
       "    <tr style=\"text-align: right;\">\n",
       "      <th></th>\n",
       "      <th>title_lower</th>\n",
       "      <th>port</th>\n",
       "    </tr>\n",
       "  </thead>\n",
       "  <tbody>\n",
       "    <tr>\n",
       "      <th>0</th>\n",
       "      <td>casa sola en venta con gran patio solo pago de...</td>\n",
       "      <td>[0.1279, 0.02943, 0.10016, 0.0578, -0.1276, -0...</td>\n",
       "    </tr>\n",
       "    <tr>\n",
       "      <th>1</th>\n",
       "      <td>resident evil origins collection nintendo swit...</td>\n",
       "      <td>[0.0374, -0.2139, 0.2559, -0.09314, -0.1992, 0...</td>\n",
       "    </tr>\n",
       "    <tr>\n",
       "      <th>2</th>\n",
       "      <td>falda de imitación piel negra</td>\n",
       "      <td>[-0.02623, 0.03317, -0.0725, -0.06097, -0.031,...</td>\n",
       "    </tr>\n",
       "    <tr>\n",
       "      <th>3</th>\n",
       "      <td>powercolor red devil radeon rx 580 8gb gddr5</td>\n",
       "      <td>[0.129, -0.07404, 0.2448, -0.06235, -0.06555, ...</td>\n",
       "    </tr>\n",
       "    <tr>\n",
       "      <th>4</th>\n",
       "      <td>laptop hp nx6320 core duo con puerto db9 windo...</td>\n",
       "      <td>[0.1315, -0.1361, 0.2778, -0.0952, -0.1708, 0....</td>\n",
       "    </tr>\n",
       "    <tr>\n",
       "      <th>...</th>\n",
       "      <td>...</td>\n",
       "      <td>...</td>\n",
       "    </tr>\n",
       "    <tr>\n",
       "      <th>496579</th>\n",
       "      <td>fone bluetooth u8 power bank 2200ma</td>\n",
       "      <td>[0.0701, -0.0475, 0.1593, -0.09827, -0.1565, 0...</td>\n",
       "    </tr>\n",
       "    <tr>\n",
       "      <th>496580</th>\n",
       "      <td>bateria jt40 smartphone moto g6 plus xt1926 jt 40</td>\n",
       "      <td>[0.0591, -0.1248, 0.2115, -0.06143, -0.2146, 0...</td>\n",
       "    </tr>\n",
       "    <tr>\n",
       "      <th>496581</th>\n",
       "      <td>peugeot 206 1.6presence flex 4p</td>\n",
       "      <td>[0.1562, -0.09924, 0.3923, -0.03232, -0.1863, ...</td>\n",
       "    </tr>\n",
       "    <tr>\n",
       "      <th>496582</th>\n",
       "      <td>extensor ajustador de calça para gestante com ...</td>\n",
       "      <td>[-0.2253, 0.03046, -0.002068, -0.1687, 0.03296...</td>\n",
       "    </tr>\n",
       "    <tr>\n",
       "      <th>496583</th>\n",
       "      <td>doogee s55 4gb ram 64gb dual ip68 c dupla pron...</td>\n",
       "      <td>[0.1263, 0.096, 0.2426, 0.04953, -0.06525, 0.0...</td>\n",
       "    </tr>\n",
       "  </tbody>\n",
       "</table>\n",
       "<p>481276 rows × 2 columns</p>\n",
       "</div>"
      ],
      "text/plain": [
       "                                              title_lower  \\\n",
       "0       casa sola en venta con gran patio solo pago de...   \n",
       "1       resident evil origins collection nintendo swit...   \n",
       "2                           falda de imitación piel negra   \n",
       "3            powercolor red devil radeon rx 580 8gb gddr5   \n",
       "4       laptop hp nx6320 core duo con puerto db9 windo...   \n",
       "...                                                   ...   \n",
       "496579                fone bluetooth u8 power bank 2200ma   \n",
       "496580  bateria jt40 smartphone moto g6 plus xt1926 jt 40   \n",
       "496581                    peugeot 206 1.6presence flex 4p   \n",
       "496582  extensor ajustador de calça para gestante com ...   \n",
       "496583  doogee s55 4gb ram 64gb dual ip68 c dupla pron...   \n",
       "\n",
       "                                                     port  \n",
       "0       [0.1279, 0.02943, 0.10016, 0.0578, -0.1276, -0...  \n",
       "1       [0.0374, -0.2139, 0.2559, -0.09314, -0.1992, 0...  \n",
       "2       [-0.02623, 0.03317, -0.0725, -0.06097, -0.031,...  \n",
       "3       [0.129, -0.07404, 0.2448, -0.06235, -0.06555, ...  \n",
       "4       [0.1315, -0.1361, 0.2778, -0.0952, -0.1708, 0....  \n",
       "...                                                   ...  \n",
       "496579  [0.0701, -0.0475, 0.1593, -0.09827, -0.1565, 0...  \n",
       "496580  [0.0591, -0.1248, 0.2115, -0.06143, -0.2146, 0...  \n",
       "496581  [0.1562, -0.09924, 0.3923, -0.03232, -0.1863, ...  \n",
       "496582  [-0.2253, 0.03046, -0.002068, -0.1687, 0.03296...  \n",
       "496583  [0.1263, 0.096, 0.2426, 0.04953, -0.06525, 0.0...  \n",
       "\n",
       "[481276 rows x 2 columns]"
      ]
     },
     "execution_count": 24,
     "metadata": {},
     "output_type": "execute_result"
    }
   ],
   "source": [
    "item_data_unique"
   ]
  },
  {
   "cell_type": "code",
   "execution_count": null,
   "metadata": {},
   "outputs": [],
   "source": []
  },
  {
   "cell_type": "code",
   "execution_count": null,
   "metadata": {},
   "outputs": [],
   "source": []
  },
  {
   "cell_type": "code",
   "execution_count": null,
   "metadata": {},
   "outputs": [],
   "source": []
  },
  {
   "cell_type": "code",
   "execution_count": null,
   "metadata": {},
   "outputs": [],
   "source": []
  },
  {
   "cell_type": "code",
   "execution_count": null,
   "metadata": {},
   "outputs": [],
   "source": []
  },
  {
   "cell_type": "markdown",
   "metadata": {},
   "source": [
    "______"
   ]
  },
  {
   "cell_type": "code",
   "execution_count": 70,
   "metadata": {},
   "outputs": [],
   "source": [
    "embs = item_data_unique.port.apply(pd.Series)"
   ]
  },
  {
   "cell_type": "code",
   "execution_count": 109,
   "metadata": {},
   "outputs": [
    {
     "data": {
      "text/html": [
       "<div>\n",
       "<style scoped>\n",
       "    .dataframe tbody tr th:only-of-type {\n",
       "        vertical-align: middle;\n",
       "    }\n",
       "\n",
       "    .dataframe tbody tr th {\n",
       "        vertical-align: top;\n",
       "    }\n",
       "\n",
       "    .dataframe thead th {\n",
       "        text-align: right;\n",
       "    }\n",
       "</style>\n",
       "<table border=\"1\" class=\"dataframe\">\n",
       "  <thead>\n",
       "    <tr style=\"text-align: right;\">\n",
       "      <th></th>\n",
       "      <th>title_lower</th>\n",
       "      <th>port</th>\n",
       "    </tr>\n",
       "  </thead>\n",
       "  <tbody>\n",
       "    <tr>\n",
       "      <th>1437704</th>\n",
       "      <td>teclado philco phn14 cce mp-07g38pa-36051 (tc18)</td>\n",
       "      <td>[0.041961487, 0.014135246, 0.10670626, -0.1545...</td>\n",
       "    </tr>\n",
       "  </tbody>\n",
       "</table>\n",
       "</div>"
      ],
      "text/plain": [
       "                                              title_lower  \\\n",
       "1437704  teclado philco phn14 cce mp-07g38pa-36051 (tc18)   \n",
       "\n",
       "                                                      port  \n",
       "1437704  [0.041961487, 0.014135246, 0.10670626, -0.1545...  "
      ]
     },
     "execution_count": 109,
     "metadata": {},
     "output_type": "execute_result"
    }
   ],
   "source": [
    "i = item_data_unique.sample()\n",
    "idx = i.index\n",
    "i"
   ]
  },
  {
   "cell_type": "code",
   "execution_count": 110,
   "metadata": {},
   "outputs": [
    {
     "data": {
      "text/html": [
       "<div>\n",
       "<style scoped>\n",
       "    .dataframe tbody tr th:only-of-type {\n",
       "        vertical-align: middle;\n",
       "    }\n",
       "\n",
       "    .dataframe tbody tr th {\n",
       "        vertical-align: top;\n",
       "    }\n",
       "\n",
       "    .dataframe thead th {\n",
       "        text-align: right;\n",
       "    }\n",
       "</style>\n",
       "<table border=\"1\" class=\"dataframe\">\n",
       "  <thead>\n",
       "    <tr style=\"text-align: right;\">\n",
       "      <th></th>\n",
       "      <th>title_lower</th>\n",
       "      <th>port</th>\n",
       "    </tr>\n",
       "  </thead>\n",
       "  <tbody>\n",
       "    <tr>\n",
       "      <th>1437704</th>\n",
       "      <td>teclado philco phn14 cce mp-07g38pa-36051 (tc18)</td>\n",
       "      <td>[0.041961487, 0.014135246, 0.10670626, -0.1545...</td>\n",
       "    </tr>\n",
       "    <tr>\n",
       "      <th>245290</th>\n",
       "      <td>kit 3 soportes motor/transmisión volkswagen vo...</td>\n",
       "      <td>[0.09904308, 0.035100315, 0.25201547, -0.18363...</td>\n",
       "    </tr>\n",
       "    <tr>\n",
       "      <th>1847448</th>\n",
       "      <td>manche g force plus (funciona também como vola...</td>\n",
       "      <td>[-0.0040776273, -0.06546781, 0.100338474, -0.1...</td>\n",
       "    </tr>\n",
       "    <tr>\n",
       "      <th>628987</th>\n",
       "      <td>filtro esportivo k&amp;n 69-1013ts honda civic 1.8...</td>\n",
       "      <td>[0.11240914, -0.030196754, 0.24186185, -0.1417...</td>\n",
       "    </tr>\n",
       "    <tr>\n",
       "      <th>903407</th>\n",
       "      <td>wireless adaptador 900mbps sem fio lan b/g/n a...</td>\n",
       "      <td>[0.18258348, 0.012308925, 0.13747403, -0.18767...</td>\n",
       "    </tr>\n",
       "    <tr>\n",
       "      <th>372346</th>\n",
       "      <td>elegoo uno r3 atmel atmega328p (tipo arduino)</td>\n",
       "      <td>[0.017379548, 0.001265869, 0.15671021, -0.0939...</td>\n",
       "    </tr>\n",
       "    <tr>\n",
       "      <th>1127112</th>\n",
       "      <td>kit carenagem cg 150 titan ks 2010 preto c/ade...</td>\n",
       "      <td>[0.07493867, 0.045194387, 0.21444468, -0.24976...</td>\n",
       "    </tr>\n",
       "    <tr>\n",
       "      <th>577303</th>\n",
       "      <td>kit 2 x  bateria talkabout t200/t400/mj  motor...</td>\n",
       "      <td>[0.1405283, -0.059899174, 0.19933334, -0.16570...</td>\n",
       "    </tr>\n",
       "    <tr>\n",
       "      <th>1342187</th>\n",
       "      <td>roda gm montana sport kr r26 / aro 15x6 / prat...</td>\n",
       "      <td>[0.24035543, 0.10233009, 0.1314769, -0.259539,...</td>\n",
       "    </tr>\n",
       "    <tr>\n",
       "      <th>362616</th>\n",
       "      <td>parafusadeira bosch go bivolt 3,6v c/maleta + ...</td>\n",
       "      <td>[0.12379752, 0.001000576, 0.2003301, -0.138254...</td>\n",
       "    </tr>\n",
       "    <tr>\n",
       "      <th>373530</th>\n",
       "      <td>( makita ) marca sh 1200w mto potente 115mm pr...</td>\n",
       "      <td>[0.035304025, -0.028943565, 0.20139055, -0.057...</td>\n",
       "    </tr>\n",
       "    <tr>\n",
       "      <th>43896</th>\n",
       "      <td>lente af-s dx nikkor 18-140 mm f / 3.5-5.6g ed...</td>\n",
       "      <td>[0.17174736, 0.019658478, 0.1700064, -0.194163...</td>\n",
       "    </tr>\n",
       "    <tr>\n",
       "      <th>1681863</th>\n",
       "      <td>termo-higrômetro digital int/ext + cetificado ...</td>\n",
       "      <td>[0.14438872, 0.049278215, 0.24161883, -0.18300...</td>\n",
       "    </tr>\n",
       "    <tr>\n",
       "      <th>1230319</th>\n",
       "      <td>( original leia ) lâmpadas h4 philips ultinon ...</td>\n",
       "      <td>[-0.08931988, -0.04004776, 0.21125299, -0.0728...</td>\n",
       "    </tr>\n",
       "    <tr>\n",
       "      <th>87279</th>\n",
       "      <td>motor max 1:24 w/b - 1966 volkswagen sedan con...</td>\n",
       "      <td>[0.21501513, 0.024561733, 0.22517483, -0.15584...</td>\n",
       "    </tr>\n",
       "    <tr>\n",
       "      <th>1840623</th>\n",
       "      <td>caixa direção ybr yamaha 2000 até 2008 (rolame...</td>\n",
       "      <td>[0.09178301, -0.02877652, 0.12772095, -0.13383...</td>\n",
       "    </tr>\n",
       "    <tr>\n",
       "      <th>979022</th>\n",
       "      <td>dimmer rotativo universal  biv c/off 400w</td>\n",
       "      <td>[0.108039804, 0.029217176, 0.12295654, -0.2516...</td>\n",
       "    </tr>\n",
       "    <tr>\n",
       "      <th>1660207</th>\n",
       "      <td>caixa de som amplificada blue/mic/guitar/tecla...</td>\n",
       "      <td>[0.113712184, -0.011362151, 0.14512643, -0.328...</td>\n",
       "    </tr>\n",
       "    <tr>\n",
       "      <th>535921</th>\n",
       "      <td>paquete estereo c/bocinas slim bt usb soundstr...</td>\n",
       "      <td>[0.21658023, -0.008195657, 0.20635612, -0.1993...</td>\n",
       "    </tr>\n",
       "    <tr>\n",
       "      <th>1309552</th>\n",
       "      <td>camera nikon d60 c/ afs nikkor 18 55mm 1:3.5-5...</td>\n",
       "      <td>[0.13201381, 0.023138274, 0.04840222, -0.15324...</td>\n",
       "    </tr>\n",
       "  </tbody>\n",
       "</table>\n",
       "</div>"
      ],
      "text/plain": [
       "                                               title_lower  \\\n",
       "1437704   teclado philco phn14 cce mp-07g38pa-36051 (tc18)   \n",
       "245290   kit 3 soportes motor/transmisión volkswagen vo...   \n",
       "1847448  manche g force plus (funciona também como vola...   \n",
       "628987   filtro esportivo k&n 69-1013ts honda civic 1.8...   \n",
       "903407   wireless adaptador 900mbps sem fio lan b/g/n a...   \n",
       "372346       elegoo uno r3 atmel atmega328p (tipo arduino)   \n",
       "1127112  kit carenagem cg 150 titan ks 2010 preto c/ade...   \n",
       "577303   kit 2 x  bateria talkabout t200/t400/mj  motor...   \n",
       "1342187  roda gm montana sport kr r26 / aro 15x6 / prat...   \n",
       "362616   parafusadeira bosch go bivolt 3,6v c/maleta + ...   \n",
       "373530   ( makita ) marca sh 1200w mto potente 115mm pr...   \n",
       "43896    lente af-s dx nikkor 18-140 mm f / 3.5-5.6g ed...   \n",
       "1681863  termo-higrômetro digital int/ext + cetificado ...   \n",
       "1230319  ( original leia ) lâmpadas h4 philips ultinon ...   \n",
       "87279    motor max 1:24 w/b - 1966 volkswagen sedan con...   \n",
       "1840623  caixa direção ybr yamaha 2000 até 2008 (rolame...   \n",
       "979022           dimmer rotativo universal  biv c/off 400w   \n",
       "1660207  caixa de som amplificada blue/mic/guitar/tecla...   \n",
       "535921   paquete estereo c/bocinas slim bt usb soundstr...   \n",
       "1309552  camera nikon d60 c/ afs nikkor 18 55mm 1:3.5-5...   \n",
       "\n",
       "                                                      port  \n",
       "1437704  [0.041961487, 0.014135246, 0.10670626, -0.1545...  \n",
       "245290   [0.09904308, 0.035100315, 0.25201547, -0.18363...  \n",
       "1847448  [-0.0040776273, -0.06546781, 0.100338474, -0.1...  \n",
       "628987   [0.11240914, -0.030196754, 0.24186185, -0.1417...  \n",
       "903407   [0.18258348, 0.012308925, 0.13747403, -0.18767...  \n",
       "372346   [0.017379548, 0.001265869, 0.15671021, -0.0939...  \n",
       "1127112  [0.07493867, 0.045194387, 0.21444468, -0.24976...  \n",
       "577303   [0.1405283, -0.059899174, 0.19933334, -0.16570...  \n",
       "1342187  [0.24035543, 0.10233009, 0.1314769, -0.259539,...  \n",
       "362616   [0.12379752, 0.001000576, 0.2003301, -0.138254...  \n",
       "373530   [0.035304025, -0.028943565, 0.20139055, -0.057...  \n",
       "43896    [0.17174736, 0.019658478, 0.1700064, -0.194163...  \n",
       "1681863  [0.14438872, 0.049278215, 0.24161883, -0.18300...  \n",
       "1230319  [-0.08931988, -0.04004776, 0.21125299, -0.0728...  \n",
       "87279    [0.21501513, 0.024561733, 0.22517483, -0.15584...  \n",
       "1840623  [0.09178301, -0.02877652, 0.12772095, -0.13383...  \n",
       "979022   [0.108039804, 0.029217176, 0.12295654, -0.2516...  \n",
       "1660207  [0.113712184, -0.011362151, 0.14512643, -0.328...  \n",
       "535921   [0.21658023, -0.008195657, 0.20635612, -0.1993...  \n",
       "1309552  [0.13201381, 0.023138274, 0.04840222, -0.15324...  "
      ]
     },
     "execution_count": 110,
     "metadata": {},
     "output_type": "execute_result"
    }
   ],
   "source": [
    "top = (embs @ embs.loc[idx[0]]).sort_values(ascending = False).head(20).index\n",
    "item_data_unique.loc[top]"
   ]
  },
  {
   "cell_type": "code",
   "execution_count": null,
   "metadata": {},
   "outputs": [],
   "source": []
  },
  {
   "cell_type": "code",
   "execution_count": null,
   "metadata": {},
   "outputs": [],
   "source": []
  },
  {
   "cell_type": "code",
   "execution_count": null,
   "metadata": {},
   "outputs": [],
   "source": []
  },
  {
   "cell_type": "code",
   "execution_count": 45,
   "metadata": {},
   "outputs": [
    {
     "data": {
      "text/plain": [
       "0.70614177"
      ]
     },
     "execution_count": 45,
     "metadata": {},
     "output_type": "execute_result"
    }
   ],
   "source": [
    "item_data_unique.loc[1618842, 'port']"
   ]
  },
  {
   "cell_type": "code",
   "execution_count": 46,
   "metadata": {},
   "outputs": [
    {
     "data": {
      "text/plain": [
       "0.5465207"
      ]
     },
     "execution_count": 46,
     "metadata": {},
     "output_type": "execute_result"
    }
   ],
   "source": [
    "item_data_unique.loc[656375, 'port'] @ item_data_unique.loc[1778179, 'port']"
   ]
  },
  {
   "cell_type": "code",
   "execution_count": null,
   "metadata": {},
   "outputs": [],
   "source": []
  },
  {
   "cell_type": "code",
   "execution_count": null,
   "metadata": {},
   "outputs": [],
   "source": []
  },
  {
   "cell_type": "code",
   "execution_count": 38,
   "metadata": {},
   "outputs": [],
   "source": [
    "one_title = item_data_unique.sample().title_lower.values[0]\n",
    "v = nlp(one_title)"
   ]
  },
  {
   "cell_type": "code",
   "execution_count": 40,
   "metadata": {},
   "outputs": [
    {
     "data": {
      "text/plain": [
       "1.407821071056158"
      ]
     },
     "execution_count": 40,
     "metadata": {},
     "output_type": "execute_result"
    }
   ],
   "source": [
    "v.vector_norm"
   ]
  },
  {
   "cell_type": "code",
   "execution_count": 24,
   "metadata": {},
   "outputs": [],
   "source": [
    "from numpy import linalg as LA"
   ]
  },
  {
   "cell_type": "code",
   "execution_count": 25,
   "metadata": {},
   "outputs": [
    {
     "data": {
      "text/plain": [
       "0.994"
      ]
     },
     "execution_count": 25,
     "metadata": {},
     "output_type": "execute_result"
    }
   ],
   "source": [
    "LA.norm(v.vector.astype(np.float16))"
   ]
  },
  {
   "cell_type": "code",
   "execution_count": 26,
   "metadata": {},
   "outputs": [
    {
     "data": {
      "text/plain": [
       "0.9943244670224373"
      ]
     },
     "execution_count": 26,
     "metadata": {},
     "output_type": "execute_result"
    }
   ],
   "source": [
    "v.vector_norm"
   ]
  }
 ],
 "metadata": {
  "kernelspec": {
   "display_name": "Python 3",
   "language": "python",
   "name": "python3"
  },
  "language_info": {
   "codemirror_mode": {
    "name": "ipython",
    "version": 3
   },
   "file_extension": ".py",
   "mimetype": "text/x-python",
   "name": "python",
   "nbconvert_exporter": "python",
   "pygments_lexer": "ipython3",
   "version": "3.7.6"
  }
 },
 "nbformat": 4,
 "nbformat_minor": 4
}
